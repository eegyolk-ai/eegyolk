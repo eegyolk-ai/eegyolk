{
 "cells": [
  {
   "cell_type": "markdown",
   "id": "15a85b35",
   "metadata": {},
   "source": [
    "# Checksum for EEG data : universal algorithm"
   ]
  },
  {
   "cell_type": "markdown",
   "id": "88969c16",
   "metadata": {},
   "source": [
    "The following notebook has been created to make checksum for any EEG data whether it is corrupted or not, no matter the file format. It will also work for text files i.e. the usual metadata and associated data. The only file types it is nor designed for are image, video and audio files."
   ]
  },
  {
   "cell_type": "code",
   "execution_count": 1,
   "id": "f40c419a",
   "metadata": {},
   "outputs": [],
   "source": [
    "# import libraries \n",
    "import glob\n",
    "import os\n",
    "\n",
    "import pandas as pd\n",
    "import numpy as np\n",
    "\n",
    "#import mne\n",
    "import hashlib\n",
    "import h5py\n",
    "#import fnmatch\n",
    "import warnings\n",
    "import re\n",
    "\n",
    "warnings.filterwarnings('ignore')"
   ]
  },
  {
   "cell_type": "markdown",
   "id": "75cf7098",
   "metadata": {},
   "source": [
    "Step 1: Let's pair each of our files (by the content inside) with a hash, and throw the info in a dataframe"
   ]
  },
  {
   "cell_type": "code",
   "execution_count": 3,
   "id": "ae6369f0",
   "metadata": {},
   "outputs": [],
   "source": [
    "## here is an example\n",
    "eeg_metadata_files_folder = 'C:/Users/makeda/OneDrive - Netherlands eScience Center/history/'\n",
    "\n",
    "#C:\\Users\\makeda\\OneDrive - Netherlands eScience Center\\history"
   ]
  },
  {
   "cell_type": "code",
   "execution_count": 4,
   "id": "5d493941",
   "metadata": {},
   "outputs": [],
   "source": [
    "def hash_it_up_right_all(origin_folder1, file_extension):\n",
    "    hash_list = []\n",
    "    file_names = []\n",
    "    files = '*' + file_extension\n",
    "    non_suspects1 = glob.glob(os.path.join(origin_folder1, files))\n",
    "    BUF_SIZE = 65536\n",
    "    for file in non_suspects1:\n",
    "        sha256 = hashlib.sha256()\n",
    "        with open(file, 'rb') as f:\n",
    "            while True:\n",
    "                data = f.read(BUF_SIZE)\n",
    "                if not data:\n",
    "                    break\n",
    "                sha256.update(data)\n",
    "        result = sha256.hexdigest()\n",
    "        hash_list.append(result)\n",
    "        file_names.append(file)\n",
    "        \n",
    "    df = pd.DataFrame(hash_list, file_names)\n",
    "    df.columns = [\"hash\"]\n",
    "    df = df.reset_index() \n",
    "    df = df.rename(columns = {'index':'file_name'})\n",
    "    \n",
    "    return df"
   ]
  },
  {
   "cell_type": "code",
   "execution_count": 7,
   "id": "3f59b06a",
   "metadata": {},
   "outputs": [],
   "source": [
    "## here is an example\n",
    "old_published_metadata_eegs_ehst2 = hash_it_up_right_all(eeg_metadata_files_folder,'.ehst2')\n"
   ]
  },
  {
   "cell_type": "code",
   "execution_count": 8,
   "id": "d95e1e5e",
   "metadata": {},
   "outputs": [
    {
     "data": {
      "text/html": [
       "<div>\n",
       "<style scoped>\n",
       "    .dataframe tbody tr th:only-of-type {\n",
       "        vertical-align: middle;\n",
       "    }\n",
       "\n",
       "    .dataframe tbody tr th {\n",
       "        vertical-align: top;\n",
       "    }\n",
       "\n",
       "    .dataframe thead th {\n",
       "        text-align: right;\n",
       "    }\n",
       "</style>\n",
       "<table border=\"1\" class=\"dataframe\">\n",
       "  <thead>\n",
       "    <tr style=\"text-align: right;\">\n",
       "      <th></th>\n",
       "      <th>file_name</th>\n",
       "      <th>hash</th>\n",
       "    </tr>\n",
       "  </thead>\n",
       "  <tbody>\n",
       "    <tr>\n",
       "      <th>0</th>\n",
       "      <td>C:/Users/makeda/OneDrive - Netherlands eScienc...</td>\n",
       "      <td>f2bb5f7624bd9b88e3c15203a4f15655bcfd41ef8304b0...</td>\n",
       "    </tr>\n",
       "    <tr>\n",
       "      <th>1</th>\n",
       "      <td>C:/Users/makeda/OneDrive - Netherlands eScienc...</td>\n",
       "      <td>e57bbf6a27fd8f8797fcd69a7129d4802dd00749f2eda9...</td>\n",
       "    </tr>\n",
       "    <tr>\n",
       "      <th>2</th>\n",
       "      <td>C:/Users/makeda/OneDrive - Netherlands eScienc...</td>\n",
       "      <td>d9b32eee66cbcd550e5e8ee129606b83e7a8ebca7d6906...</td>\n",
       "    </tr>\n",
       "    <tr>\n",
       "      <th>3</th>\n",
       "      <td>C:/Users/makeda/OneDrive - Netherlands eScienc...</td>\n",
       "      <td>e82c891b9a826726647abb672cb589ab1e03b0f23018cb...</td>\n",
       "    </tr>\n",
       "    <tr>\n",
       "      <th>4</th>\n",
       "      <td>C:/Users/makeda/OneDrive - Netherlands eScienc...</td>\n",
       "      <td>28c994070a70862f1477af0988afcde562ddce6ef1c04e...</td>\n",
       "    </tr>\n",
       "    <tr>\n",
       "      <th>...</th>\n",
       "      <td>...</td>\n",
       "      <td>...</td>\n",
       "    </tr>\n",
       "    <tr>\n",
       "      <th>190</th>\n",
       "      <td>C:/Users/makeda/OneDrive - Netherlands eScienc...</td>\n",
       "      <td>360cae105e32953a73f5471860649cd8a05a9718c29df4...</td>\n",
       "    </tr>\n",
       "    <tr>\n",
       "      <th>191</th>\n",
       "      <td>C:/Users/makeda/OneDrive - Netherlands eScienc...</td>\n",
       "      <td>6901abea9424237f74409457e5258c53ed15774b6704e4...</td>\n",
       "    </tr>\n",
       "    <tr>\n",
       "      <th>192</th>\n",
       "      <td>C:/Users/makeda/OneDrive - Netherlands eScienc...</td>\n",
       "      <td>6202e1a93f555d947499afa2fb3946c1a8e6bdeb600c7b...</td>\n",
       "    </tr>\n",
       "    <tr>\n",
       "      <th>193</th>\n",
       "      <td>C:/Users/makeda/OneDrive - Netherlands eScienc...</td>\n",
       "      <td>8ee75e187bf756d8195c1889974f703da286cb3112637a...</td>\n",
       "    </tr>\n",
       "    <tr>\n",
       "      <th>194</th>\n",
       "      <td>C:/Users/makeda/OneDrive - Netherlands eScienc...</td>\n",
       "      <td>daa89496398f68044650fe9b72734462bb91bc45979a72...</td>\n",
       "    </tr>\n",
       "  </tbody>\n",
       "</table>\n",
       "<p>195 rows × 2 columns</p>\n",
       "</div>"
      ],
      "text/plain": [
       "                                             file_name  \\\n",
       "0    C:/Users/makeda/OneDrive - Netherlands eScienc...   \n",
       "1    C:/Users/makeda/OneDrive - Netherlands eScienc...   \n",
       "2    C:/Users/makeda/OneDrive - Netherlands eScienc...   \n",
       "3    C:/Users/makeda/OneDrive - Netherlands eScienc...   \n",
       "4    C:/Users/makeda/OneDrive - Netherlands eScienc...   \n",
       "..                                                 ...   \n",
       "190  C:/Users/makeda/OneDrive - Netherlands eScienc...   \n",
       "191  C:/Users/makeda/OneDrive - Netherlands eScienc...   \n",
       "192  C:/Users/makeda/OneDrive - Netherlands eScienc...   \n",
       "193  C:/Users/makeda/OneDrive - Netherlands eScienc...   \n",
       "194  C:/Users/makeda/OneDrive - Netherlands eScienc...   \n",
       "\n",
       "                                                  hash  \n",
       "0    f2bb5f7624bd9b88e3c15203a4f15655bcfd41ef8304b0...  \n",
       "1    e57bbf6a27fd8f8797fcd69a7129d4802dd00749f2eda9...  \n",
       "2    d9b32eee66cbcd550e5e8ee129606b83e7a8ebca7d6906...  \n",
       "3    e82c891b9a826726647abb672cb589ab1e03b0f23018cb...  \n",
       "4    28c994070a70862f1477af0988afcde562ddce6ef1c04e...  \n",
       "..                                                 ...  \n",
       "190  360cae105e32953a73f5471860649cd8a05a9718c29df4...  \n",
       "191  6901abea9424237f74409457e5258c53ed15774b6704e4...  \n",
       "192  6202e1a93f555d947499afa2fb3946c1a8e6bdeb600c7b...  \n",
       "193  8ee75e187bf756d8195c1889974f703da286cb3112637a...  \n",
       "194  daa89496398f68044650fe9b72734462bb91bc45979a72...  \n",
       "\n",
       "[195 rows x 2 columns]"
      ]
     },
     "execution_count": 8,
     "metadata": {},
     "output_type": "execute_result"
    }
   ],
   "source": [
    "old_published_metadata_eegs_ehst2"
   ]
  },
  {
   "cell_type": "code",
   "execution_count": 9,
   "id": "70e65d5c",
   "metadata": {},
   "outputs": [],
   "source": [
    "old_published_metadata_eegs_ehst2.to_csv('old_published_metadata_eegs_ehst2.csv')"
   ]
  },
  {
   "cell_type": "code",
   "execution_count": 10,
   "id": "fbcfccb4",
   "metadata": {},
   "outputs": [],
   "source": [
    "old_published_metadata_eegs_hfinf2 = hash_it_up_right_all(eeg_metadata_files_folder,'.hfinf2')"
   ]
  },
  {
   "cell_type": "code",
   "execution_count": 12,
   "id": "61811f17",
   "metadata": {},
   "outputs": [],
   "source": [
    "old_published_metadata_eegs_hfinf2.to_csv('old_published_metadata_eegs_hfinf2.csv')"
   ]
  },
  {
   "cell_type": "code",
   "execution_count": null,
   "id": "30bd7198",
   "metadata": {},
   "outputs": [],
   "source": []
  },
  {
   "cell_type": "code",
   "execution_count": null,
   "id": "f0726f71",
   "metadata": {},
   "outputs": [],
   "source": []
  }
 ],
 "metadata": {
  "kernelspec": {
   "display_name": "Python 3 (ipykernel)",
   "language": "python",
   "name": "python3"
  },
  "language_info": {
   "codemirror_mode": {
    "name": "ipython",
    "version": 3
   },
   "file_extension": ".py",
   "mimetype": "text/x-python",
   "name": "python",
   "nbconvert_exporter": "python",
   "pygments_lexer": "ipython3",
   "version": "3.8.6"
  }
 },
 "nbformat": 4,
 "nbformat_minor": 5
}
