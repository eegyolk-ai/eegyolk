{
 "cells": [
  {
   "cell_type": "markdown",
   "id": "484b5501-957e-4656-89e7-4ca7e9c1a027",
   "metadata": {},
   "source": [
    "#### Check files in a folder"
   ]
  },
  {
   "cell_type": "code",
   "execution_count": null,
   "id": "1f10b5f9-28c4-4ae9-8311-7f79b8330b95",
   "metadata": {},
   "outputs": [],
   "source": []
  },
  {
   "cell_type": "code",
   "execution_count": null,
   "id": "5415aa05-3fb1-4acc-a195-586045e81c25",
   "metadata": {},
   "outputs": [],
   "source": []
  }
 ],
 "metadata": {
  "kernelspec": {
   "display_name": "Python 3 (ipykernel)",
   "language": "python",
   "name": "python3"
  },
  "language_info": {
   "codemirror_mode": {
    "name": "ipython",
    "version": 3
   },
   "file_extension": ".py",
   "mimetype": "text/x-python",
   "name": "python",
   "nbconvert_exporter": "python",
   "pygments_lexer": "ipython3",
   "version": "3.8.10"
  }
 },
 "nbformat": 4,
 "nbformat_minor": 5
}
