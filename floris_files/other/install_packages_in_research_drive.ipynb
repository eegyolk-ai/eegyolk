{
 "cells": [
  {
   "cell_type": "markdown",
   "id": "12e2e88b-44fa-499d-9704-ff1edd49d382",
   "metadata": {},
   "source": [
    "# Install packages in research drive notebook"
   ]
  },
  {
   "cell_type": "markdown",
   "id": "15e8a55c-0fad-4f3b-a72b-329a13721844",
   "metadata": {},
   "source": [
    "#### Fix for PATH warning:\n",
    "\n",
    "Add package directory to PATH in kernel.\n",
    "For example:\n",
    "\n",
    "    export PATH=$PATH:/home/fpauwels/.local/bin\n",
    "    \n",
    "    export PATH=$PATH:/home/fpauwels/eegyolk/floris_files\n",
    "\n",
    "show path: echo $PATH"
   ]
  },
  {
   "cell_type": "code",
   "execution_count": 1,
   "id": "ee5a57df-c118-430b-9b45-9aa2c177df07",
   "metadata": {},
   "outputs": [
    {
     "name": "stdout",
     "output_type": "stream",
     "text": [
      "Requirement already satisfied: mne in /home/fpauwels/.local/lib/python3.8/site-packages (1.1.1)\n",
      "Requirement already satisfied: jinja2 in /usr/local/lib/python3.8/dist-packages (from mne) (3.0.3)\n",
      "Requirement already satisfied: tqdm in /home/fpauwels/.local/lib/python3.8/site-packages (from mne) (4.64.0)\n",
      "Requirement already satisfied: numpy>=1.15.4 in /home/fpauwels/.local/lib/python3.8/site-packages (from mne) (1.23.2)\n",
      "Requirement already satisfied: scipy>=1.1.0 in /home/fpauwels/.local/lib/python3.8/site-packages (from mne) (1.9.1)\n",
      "Requirement already satisfied: matplotlib in /home/fpauwels/.local/lib/python3.8/site-packages (from mne) (3.5.3)\n",
      "Requirement already satisfied: decorator in /usr/local/lib/python3.8/dist-packages (from mne) (5.1.1)\n",
      "Requirement already satisfied: packaging in /usr/local/lib/python3.8/dist-packages (from mne) (21.3)\n",
      "Requirement already satisfied: pooch>=1.5 in /home/fpauwels/.local/lib/python3.8/site-packages (from mne) (1.6.0)\n",
      "Requirement already satisfied: MarkupSafe>=2.0 in /home/fpauwels/.local/lib/python3.8/site-packages (from jinja2->mne) (2.1.1)\n",
      "Requirement already satisfied: cycler>=0.10 in /home/fpauwels/.local/lib/python3.8/site-packages (from matplotlib->mne) (0.11.0)\n",
      "Requirement already satisfied: pillow>=6.2.0 in /home/fpauwels/.local/lib/python3.8/site-packages (from matplotlib->mne) (9.2.0)\n",
      "Requirement already satisfied: fonttools>=4.22.0 in /home/fpauwels/.local/lib/python3.8/site-packages (from matplotlib->mne) (4.37.1)\n",
      "Requirement already satisfied: python-dateutil>=2.7 in /usr/local/lib/python3.8/dist-packages (from matplotlib->mne) (2.8.2)\n",
      "Requirement already satisfied: kiwisolver>=1.0.1 in /home/fpauwels/.local/lib/python3.8/site-packages (from matplotlib->mne) (1.4.4)\n",
      "Requirement already satisfied: pyparsing>=2.2.1 in /usr/lib/python3/dist-packages (from matplotlib->mne) (2.4.6)\n",
      "Requirement already satisfied: appdirs>=1.3.0 in /home/fpauwels/.local/lib/python3.8/site-packages (from pooch>=1.5->mne) (1.4.4)\n",
      "Requirement already satisfied: requests>=2.19.0 in /usr/local/lib/python3.8/dist-packages (from pooch>=1.5->mne) (2.28.1)\n",
      "Requirement already satisfied: six>=1.5 in /usr/lib/python3/dist-packages (from python-dateutil>=2.7->matplotlib->mne) (1.14.0)\n",
      "Requirement already satisfied: urllib3<1.27,>=1.21.1 in /usr/local/lib/python3.8/dist-packages (from requests>=2.19.0->pooch>=1.5->mne) (1.26.12)\n",
      "Requirement already satisfied: charset-normalizer<3,>=2 in /usr/local/lib/python3.8/dist-packages (from requests>=2.19.0->pooch>=1.5->mne) (2.1.1)\n",
      "Requirement already satisfied: certifi>=2017.4.17 in /usr/lib/python3/dist-packages (from requests>=2.19.0->pooch>=1.5->mne) (2019.11.28)\n",
      "Requirement already satisfied: idna<4,>=2.5 in /usr/lib/python3/dist-packages (from requests>=2.19.0->pooch>=1.5->mne) (2.8)\n",
      "Note: you may need to restart the kernel to use updated packages.\n"
     ]
    }
   ],
   "source": [
    "pip install mne"
   ]
  },
  {
   "cell_type": "code",
   "execution_count": null,
   "id": "b7361c24-090a-4393-a586-ae01b9d831ca",
   "metadata": {},
   "outputs": [],
   "source": []
  },
  {
   "cell_type": "code",
   "execution_count": null,
   "id": "2ed76344-35f0-4182-987f-29d301cc5682",
   "metadata": {},
   "outputs": [],
   "source": []
  }
 ],
 "metadata": {
  "kernelspec": {
   "display_name": "Python 3 (ipykernel)",
   "language": "python",
   "name": "python3"
  },
  "language_info": {
   "codemirror_mode": {
    "name": "ipython",
    "version": 3
   },
   "file_extension": ".py",
   "mimetype": "text/x-python",
   "name": "python",
   "nbconvert_exporter": "python",
   "pygments_lexer": "ipython3",
   "version": "3.8.10"
  }
 },
 "nbformat": 4,
 "nbformat_minor": 5
}
