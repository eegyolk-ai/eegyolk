{
 "cells": [
  {
   "cell_type": "markdown",
   "id": "1262ae89-8038-4cb9-a2e4-aa34a8e5ac6b",
   "metadata": {},
   "source": [
    "## Finds the size and length of folder contents, and compares hashes, to check if all files are accounted for."
   ]
  },
  {
   "cell_type": "code",
   "execution_count": 5,
   "id": "9e098c56-58cf-4eb3-8021-3781b9dff82d",
   "metadata": {},
   "outputs": [
    {
     "ename": "ModuleNotFoundError",
     "evalue": "No module named 'PATH'",
     "output_type": "error",
     "traceback": [
      "\u001b[0;31m---------------------------------------------------------------------------\u001b[0m",
      "\u001b[0;31mModuleNotFoundError\u001b[0m                       Traceback (most recent call last)",
      "Input \u001b[0;32mIn [5]\u001b[0m, in \u001b[0;36m<cell line: 10>\u001b[0;34m()\u001b[0m\n\u001b[1;32m      7\u001b[0m \u001b[38;5;28;01mimport\u001b[39;00m \u001b[38;5;21;01msys\u001b[39;00m\n\u001b[1;32m      8\u001b[0m \u001b[38;5;28;01mimport\u001b[39;00m \u001b[38;5;21;01mos\u001b[39;00m\n\u001b[0;32m---> 10\u001b[0m \u001b[38;5;28;01mimport\u001b[39;00m \u001b[38;5;21;01mPATH\u001b[39;00m\n\u001b[1;32m     12\u001b[0m \u001b[38;5;28;01mimport\u001b[39;00m \u001b[38;5;21;01mhashlib\u001b[39;00m\n\u001b[1;32m     13\u001b[0m \u001b[38;5;66;03m#import h5py\u001b[39;00m\n",
      "\u001b[0;31mModuleNotFoundError\u001b[0m: No module named 'PATH'"
     ]
    }
   ],
   "source": [
    "import mne\n",
    "import pandas as pd\n",
    "import numpy as np\n",
    "import os\n",
    "import glob\n",
    "import copy\n",
    "import sys\n",
    "import os\n",
    "\n",
    "import PATH\n",
    "\n",
    "import hashlib\n",
    "#import h5py\n",
    "\n",
    "def get_folder_size(path):\n",
    "    size = 0\n",
    "    for entry in os.scandir(path):\n",
    "        if entry.is_file():\n",
    "            size += os.path.getsize(entry)\n",
    "        elif entry.is_dir():\n",
    "            size += get_folder_size(entry)\n",
    "    return size\n",
    "\n",
    "def files_check(PATH, expected_count, expected_size):\n",
    "    _, _, files = next(os.walk(PATH))\n",
    "    count = len(files)\n",
    "    size = get_folder_size(PATH)     \n",
    "\n",
    "    if(count != expected_count):\n",
    "        print(PATH, \": incorrect number of files.\" )\n",
    "        print(\"n.o. files: \", count)\n",
    "        print(\"n.o. files expected:\", expected_count )\n",
    "    if(size != expected_size):\n",
    "        print(PATH, \": incorrect size.\" )\n",
    "        print(\"size is: \", size)\n",
    "        print(\"expected size:\", expected_size )\n",
    "        \n",
    "## Created by Makeda:\n",
    "def hash_it_up_right_all(origin_folder1, file_extension):\n",
    "    hash_list = []\n",
    "    file_names = []\n",
    "    files = '*' + file_extension\n",
    "    non_suspects1 = glob.glob(os.path.join(origin_folder1, files))\n",
    "    BUF_SIZE = 65536\n",
    "    for file in non_suspects1:\n",
    "        sha256 = hashlib.sha256()\n",
    "        with open(file, 'rb') as f:\n",
    "            while True:\n",
    "                data = f.read(BUF_SIZE)\n",
    "                if not data:\n",
    "                    break\n",
    "                sha256.update(data)\n",
    "        result = sha256.hexdigest()\n",
    "        hash_list.append(result)\n",
    "        file_names.append(file)\n",
    "        \n",
    "    df = pd.DataFrame(hash_list, file_names)\n",
    "    df.columns = [\"hash\"]\n",
    "    df = df.reset_index() \n",
    "    df = df.rename(columns = {'index':'file_name'})\n",
    "    \n",
    "    return df"
   ]
  },
  {
   "cell_type": "markdown",
   "id": "a1318880-ef9d-414a-936f-0ff1a22057e1",
   "metadata": {},
   "source": [
    "#### Check all datasets:"
   ]
  },
  {
   "cell_type": "code",
   "execution_count": 2,
   "id": "6a3c364c-d6e7-4e94-a179-25e7c6cceda5",
   "metadata": {},
   "outputs": [
    {
     "name": "stdout",
     "output_type": "stream",
     "text": [
      "/volume-ceph/ePodium_projectfolder/dataset/ : incorrect size.\n",
      "size is:  97375706500\n",
      "expected size: 97375706306\n",
      "/volume-ceph/DDP_projectfolder/17mnd mmn : incorrect size.\n",
      "size is:  22413975047\n",
      "expected size: 22413955663\n"
     ]
    }
   ],
   "source": [
    "MAIN_PATH = \"/volume-ceph/\"\n",
    "EPOD_PATH = MAIN_PATH + \"ePodium_projectfolder/\"\n",
    "DDP_PATH = \"/volume-ceph/DDP_projectfolder/\"\n",
    "\n",
    "files_check(EPOD_PATH + \"dataset/\", 207, 97375706306)\n",
    "files_check(DDP_PATH + \"DANS/\", 191, 13511321144)\n",
    "\n",
    "DDP_paths = [\"05mnd mmn\", \"11mnd mmn\", \"17mnd mmn\", \"23mnd mmn\", \n",
    "             \"29mnd mmn\", \"35mnd mmn\", \"41mnd mmn\", \"47mnd mmn\"]\n",
    "DDP_counts = [173, 519, 316, 460, 382, 258, 326, 44]\n",
    "DDP_sizes = [11081121686, 36705294613, 22413955663, 28644513147,\n",
    "        26277182842, 21683218781, 28226851299, 3534387726 ]\n",
    "\n",
    "for i, path in enumerate(DDP_paths): \n",
    "    files_check(DDP_PATH + path, DDP_counts[i], DDP_sizes[i])\n"
   ]
  },
  {
   "cell_type": "markdown",
   "id": "ea7e0a72-0a7e-47ee-97be-9905968ac66b",
   "metadata": {},
   "source": [
    "#### Compare hash of each file"
   ]
  },
  {
   "cell_type": "code",
   "execution_count": 3,
   "id": "26c66cb8-f2a2-49f1-a8df-68836ee774a2",
   "metadata": {},
   "outputs": [
    {
     "ename": "AttributeError",
     "evalue": "module 'PATH' has no attribute 'hashes'",
     "output_type": "error",
     "traceback": [
      "\u001b[0;31m---------------------------------------------------------------------------\u001b[0m",
      "\u001b[0;31mAttributeError\u001b[0m                            Traceback (most recent call last)",
      "Input \u001b[0;32mIn [3]\u001b[0m, in \u001b[0;36m<cell line: 1>\u001b[0;34m()\u001b[0m\n\u001b[1;32m      1\u001b[0m \u001b[38;5;28;01mfor\u001b[39;00m key, value \u001b[38;5;129;01min\u001b[39;00m PATH\u001b[38;5;241m.\u001b[39mDDP_dict\u001b[38;5;241m.\u001b[39mitems():\n\u001b[1;32m      2\u001b[0m     df \u001b[38;5;241m=\u001b[39m hash_it_up_right_all(value,\u001b[38;5;124m'\u001b[39m\u001b[38;5;124m.cnt\u001b[39m\u001b[38;5;124m'\u001b[39m)\n\u001b[0;32m----> 3\u001b[0m     savepath \u001b[38;5;241m=\u001b[39m os\u001b[38;5;241m.\u001b[39mpath\u001b[38;5;241m.\u001b[39mjoin(\u001b[43mPATH\u001b[49m\u001b[38;5;241;43m.\u001b[39;49m\u001b[43mhashes\u001b[49m, \u001b[38;5;124m'\u001b[39m\u001b[38;5;124mDDP_\u001b[39m\u001b[38;5;124m'\u001b[39m \u001b[38;5;241m+\u001b[39m \u001b[38;5;28mstr\u001b[39m(key) \u001b[38;5;241m+\u001b[39m \u001b[38;5;124m'\u001b[39m\u001b[38;5;124m.csv\u001b[39m\u001b[38;5;124m'\u001b[39m)\n\u001b[1;32m      4\u001b[0m     df\u001b[38;5;241m.\u001b[39mto_csv(savepath)\n",
      "\u001b[0;31mAttributeError\u001b[0m: module 'PATH' has no attribute 'hashes'"
     ]
    }
   ],
   "source": [
    "for key, value in PATH.DDP_dict.items():\n",
    "    df = hash_it_up_right_all(value,'.cnt')\n",
    "    savepath = os.path.join(PATH.hashes, 'DDP_' + str(key) + '.csv')\n",
    "    df.to_csv(savepath)"
   ]
  },
  {
   "cell_type": "code",
   "execution_count": 4,
   "id": "29c0167d-c0a9-45d4-af06-f3e05e839791",
   "metadata": {},
   "outputs": [
    {
     "ename": "ModuleNotFoundError",
     "evalue": "No module named 'PATH'",
     "output_type": "error",
     "traceback": [
      "\u001b[0;31m---------------------------------------------------------------------------\u001b[0m",
      "\u001b[0;31mModuleNotFoundError\u001b[0m                       Traceback (most recent call last)",
      "Input \u001b[0;32mIn [4]\u001b[0m, in \u001b[0;36m<cell line: 1>\u001b[0;34m()\u001b[0m\n\u001b[0;32m----> 1\u001b[0m \u001b[38;5;28;01mimport\u001b[39;00m \u001b[38;5;21;01mPATH\u001b[39;00m\n\u001b[1;32m      4\u001b[0m PATH\u001b[38;5;241m.\u001b[39muser\n",
      "\u001b[0;31mModuleNotFoundError\u001b[0m: No module named 'PATH'"
     ]
    }
   ],
   "source": [
    "import PATH\n",
    "\n",
    "\n",
    "PATH.user"
   ]
  }
 ],
 "metadata": {
  "kernelspec": {
   "display_name": "Python 3 (ipykernel)",
   "language": "python",
   "name": "python3"
  },
  "language_info": {
   "codemirror_mode": {
    "name": "ipython",
    "version": 3
   },
   "file_extension": ".py",
   "mimetype": "text/x-python",
   "name": "python",
   "nbconvert_exporter": "python",
   "pygments_lexer": "ipython3",
   "version": "3.8.10"
  }
 },
 "nbformat": 4,
 "nbformat_minor": 5
}
