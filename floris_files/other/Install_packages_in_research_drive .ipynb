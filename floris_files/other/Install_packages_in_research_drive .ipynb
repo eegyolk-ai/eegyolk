{
 "cells": [
  {
   "cell_type": "markdown",
   "id": "12e2e88b-44fa-499d-9704-ff1edd49d382",
   "metadata": {},
   "source": [
    "# Install packages in research drive notebook"
   ]
  },
  {
   "cell_type": "code",
   "execution_count": 4,
   "id": "ee5a57df-c118-430b-9b45-9aa2c177df07",
   "metadata": {},
   "outputs": [
    {
     "name": "stdout",
     "output_type": "stream",
     "text": [
      "Requirement already satisfied: mne in /home/fpauwels/.local/lib/python3.8/site-packages (1.0.3)\n",
      "Requirement already satisfied: jinja2 in /usr/local/lib/python3.8/dist-packages (from mne) (3.0.3)\n",
      "Requirement already satisfied: matplotlib in /home/fpauwels/.local/lib/python3.8/site-packages (from mne) (3.5.2)\n",
      "Requirement already satisfied: tqdm in /home/fpauwels/.local/lib/python3.8/site-packages (from mne) (4.64.0)\n",
      "Requirement already satisfied: decorator in /usr/local/lib/python3.8/dist-packages (from mne) (5.1.1)\n",
      "Requirement already satisfied: pooch>=1.5 in /home/fpauwels/.local/lib/python3.8/site-packages (from mne) (1.6.0)\n",
      "Requirement already satisfied: packaging in /usr/local/lib/python3.8/dist-packages (from mne) (21.3)\n",
      "Requirement already satisfied: scipy>=1.1.0 in /home/fpauwels/.local/lib/python3.8/site-packages (from mne) (1.8.1)\n",
      "Requirement already satisfied: numpy>=1.15.4 in /home/fpauwels/.local/lib/python3.8/site-packages (from mne) (1.22.4)\n",
      "Requirement already satisfied: MarkupSafe>=2.0 in /usr/local/lib/python3.8/dist-packages (from jinja2->mne) (2.0.1)\n",
      "Requirement already satisfied: pyparsing>=2.2.1 in /usr/lib/python3/dist-packages (from matplotlib->mne) (2.4.6)\n",
      "Requirement already satisfied: kiwisolver>=1.0.1 in /home/fpauwels/.local/lib/python3.8/site-packages (from matplotlib->mne) (1.4.3)\n",
      "Requirement already satisfied: cycler>=0.10 in /home/fpauwels/.local/lib/python3.8/site-packages (from matplotlib->mne) (0.11.0)\n",
      "Requirement already satisfied: python-dateutil>=2.7 in /usr/local/lib/python3.8/dist-packages (from matplotlib->mne) (2.8.2)\n",
      "Requirement already satisfied: pillow>=6.2.0 in /home/fpauwels/.local/lib/python3.8/site-packages (from matplotlib->mne) (9.1.1)\n",
      "Requirement already satisfied: fonttools>=4.22.0 in /home/fpauwels/.local/lib/python3.8/site-packages (from matplotlib->mne) (4.33.3)\n",
      "Requirement already satisfied: requests>=2.19.0 in /usr/lib/python3/dist-packages (from pooch>=1.5->mne) (2.22.0)\n",
      "Requirement already satisfied: appdirs>=1.3.0 in /home/fpauwels/.local/lib/python3.8/site-packages (from pooch>=1.5->mne) (1.4.4)\n",
      "Requirement already satisfied: six>=1.5 in /usr/lib/python3/dist-packages (from python-dateutil>=2.7->matplotlib->mne) (1.14.0)\n",
      "Note: you may need to restart the kernel to use updated packages.\n"
     ]
    }
   ],
   "source": [
    "pip install mne"
   ]
  },
  {
   "cell_type": "code",
   "execution_count": 3,
   "id": "ec7f8a17-4e1f-4882-a1ba-2e16e9b4e3c1",
   "metadata": {},
   "outputs": [
    {
     "name": "stdout",
     "output_type": "stream",
     "text": [
      "Collecting pandas\n",
      "  Downloading pandas-1.4.2-cp38-cp38-manylinux_2_17_x86_64.manylinux2014_x86_64.whl (11.7 MB)\n",
      "\u001b[K     |████████████████████████████████| 11.7 MB 32.7 MB/s eta 0:00:01\n",
      "\u001b[?25hCollecting pytz>=2020.1\n",
      "  Downloading pytz-2022.1-py2.py3-none-any.whl (503 kB)\n",
      "\u001b[K     |████████████████████████████████| 503 kB 75.9 MB/s eta 0:00:01\n",
      "\u001b[?25hRequirement already satisfied: numpy>=1.18.5; platform_machine != \"aarch64\" and platform_machine != \"arm64\" and python_version < \"3.10\" in /home/fpauwels/.local/lib/python3.8/site-packages (from pandas) (1.22.4)\n",
      "Requirement already satisfied: python-dateutil>=2.8.1 in /usr/local/lib/python3.8/dist-packages (from pandas) (2.8.2)\n",
      "Requirement already satisfied: six>=1.5 in /usr/lib/python3/dist-packages (from python-dateutil>=2.8.1->pandas) (1.14.0)\n",
      "Installing collected packages: pytz, pandas\n",
      "Successfully installed pandas-1.4.2 pytz-2022.1\n",
      "Note: you may need to restart the kernel to use updated packages.\n"
     ]
    }
   ],
   "source": [
    "pip install pandas"
   ]
  }
 ],
 "metadata": {
  "kernelspec": {
   "display_name": "Python 3 (ipykernel)",
   "language": "python",
   "name": "python3"
  },
  "language_info": {
   "codemirror_mode": {
    "name": "ipython",
    "version": 3
   },
   "file_extension": ".py",
   "mimetype": "text/x-python",
   "name": "python",
   "nbconvert_exporter": "python",
   "pygments_lexer": "ipython3",
   "version": "3.8.10"
  }
 },
 "nbformat": 4,
 "nbformat_minor": 5
}
