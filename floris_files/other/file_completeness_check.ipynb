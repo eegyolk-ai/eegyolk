{
 "cells": [
  {
   "cell_type": "markdown",
   "id": "1262ae89-8038-4cb9-a2e4-aa34a8e5ac6b",
   "metadata": {},
   "source": [
    "## Finds the size and length of folder contents, to check if all files are accounted for."
   ]
  },
  {
   "cell_type": "code",
   "execution_count": 46,
   "id": "9e098c56-58cf-4eb3-8021-3781b9dff82d",
   "metadata": {},
   "outputs": [],
   "source": [
    "import os\n",
    "\n",
    "def get_folder_size(path='.'):\n",
    "    total = 0\n",
    "    with os.scandir(path) as it:\n",
    "        for entry in it:\n",
    "            if entry.is_file():\n",
    "                total += entry.stat().st_size\n",
    "            elif entry.is_dir():\n",
    "                total += get_dir_size(entry.path)\n",
    "    return total"
   ]
  },
  {
   "cell_type": "markdown",
   "id": "a1318880-ef9d-414a-936f-0ff1a22057e1",
   "metadata": {},
   "source": [
    "#### DDP:"
   ]
  },
  {
   "cell_type": "code",
   "execution_count": 88,
   "id": "6a3c364c-d6e7-4e94-a179-25e7c6cceda5",
   "metadata": {},
   "outputs": [
    {
     "name": "stdout",
     "output_type": "stream",
     "text": [
      "17mnd mmn : incorrect size.\n",
      "size is:  20.87464094813913\n",
      "size should be: 20.874622895382345\n",
      "35mnd mmn : incorrect size.\n",
      "size is:  7.474720359779894\n",
      "size should be: 20.194071141071618\n",
      "35mnd mmn : incorrect number of files.\n",
      "41mnd mmn : incorrect size.\n",
      "size is:  17.752493760548532\n",
      "size should be: 26.288303825072944\n",
      "41mnd mmn : incorrect number of files.\n"
     ]
    }
   ],
   "source": [
    "MAIN_PATH = \"/volume-ceph/DDP_projectfolder/\"\n",
    "\n",
    "paths = [\"05mnd mmn\", \"11mnd mmn\", \"17mnd mmn\", \"23mnd mmn\", \n",
    "        \"29mnd mmn\", \"35mnd mmn\", \"41mnd mmn\", \"47mnd mmn\" ]\n",
    "file_numbers = [173, 519, 316, 460, 382, 258, 326, 44]\n",
    "sizes = [11081121686, 36705294613, 22413955663, 28644513147,\n",
    "        26277182842, 21683218781, 28226851299, 3534387726 ]\n",
    "\n",
    "for i, path in enumerate(paths):   \n",
    "    PATH = MAIN_PATH + path\n",
    "    _, _, files = next(os.walk(PATH))\n",
    "    file_number = len(files)\n",
    "    size = get_dir_size(PATH)    \n",
    "    \n",
    "#     print(file_number, \" number of files\")\n",
    "#     print(get_dir_size(PATH)/1024**3, \" GB\")\n",
    "#     print(get_dir_size(PATH), \" bytes\")\n",
    "    \n",
    "\n",
    "    if(sizes[i] != size):\n",
    "        print(path, \": incorrect size.\" )\n",
    "        print(\"size is: \", size/1024**3)\n",
    "        print(\"size should be:\", sizes[i]/1024**3 )\n",
    "    if(file_numbers[i] != file_number):\n",
    "        print(path, \": incorrect number of files.\" )\n",
    "        "
   ]
  },
  {
   "cell_type": "code",
   "execution_count": null,
   "id": "97be2632-0f35-40bc-abf0-d3a0844845ae",
   "metadata": {},
   "outputs": [],
   "source": []
  },
  {
   "cell_type": "code",
   "execution_count": null,
   "id": "12a297f6-4e2f-4b90-8245-7d088773b982",
   "metadata": {},
   "outputs": [],
   "source": []
  }
 ],
 "metadata": {
  "kernelspec": {
   "display_name": "Python 3 (ipykernel)",
   "language": "python",
   "name": "python3"
  },
  "language_info": {
   "codemirror_mode": {
    "name": "ipython",
    "version": 3
   },
   "file_extension": ".py",
   "mimetype": "text/x-python",
   "name": "python",
   "nbconvert_exporter": "python",
   "pygments_lexer": "ipython3",
   "version": "3.8.10"
  }
 },
 "nbformat": 4,
 "nbformat_minor": 5
}
