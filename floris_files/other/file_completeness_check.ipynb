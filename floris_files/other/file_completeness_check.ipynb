{
 "cells": [
  {
   "cell_type": "markdown",
   "id": "1262ae89-8038-4cb9-a2e4-aa34a8e5ac6b",
   "metadata": {},
   "source": [
    "## Finds the size and length of folder contents, to check if all files are accounted for."
   ]
  },
  {
   "cell_type": "code",
   "execution_count": 1,
   "id": "9e098c56-58cf-4eb3-8021-3781b9dff82d",
   "metadata": {},
   "outputs": [],
   "source": [
    "import os\n",
    "\n",
    "def get_folder_size(path):\n",
    "    size = 0\n",
    "    for entry in os.scandir(path):\n",
    "        if entry.is_file():\n",
    "            size += os.path.getsize(entry)\n",
    "        elif entry.is_dir():\n",
    "            size += get_folder_size(entry)\n",
    "    return size\n",
    "\n",
    "def files_check(PATH, expected_count, expected_size):\n",
    "    _, _, files = next(os.walk(PATH))\n",
    "    count = len(files)\n",
    "    size = get_folder_size(PATH)     \n",
    "\n",
    "    if(count != expected_count):\n",
    "        print(PATH, \": incorrect number of files.\" )\n",
    "        print(\"n.o. files: \", count)\n",
    "        print(\"n.o. files expected:\", expected_count )\n",
    "    if(size != expected_size):\n",
    "        print(PATH, \": incorrect size.\" )\n",
    "        print(\"size is: \", size)\n",
    "        print(\"expected size:\", expected_size )"
   ]
  },
  {
   "cell_type": "markdown",
   "id": "a1318880-ef9d-414a-936f-0ff1a22057e1",
   "metadata": {},
   "source": [
    "#### Check all datasets:"
   ]
  },
  {
   "cell_type": "code",
   "execution_count": 3,
   "id": "6a3c364c-d6e7-4e94-a179-25e7c6cceda5",
   "metadata": {},
   "outputs": [
    {
     "name": "stdout",
     "output_type": "stream",
     "text": [
      "/volume-ceph/ePodium_projectfolder/dataset/ : incorrect size.\n",
      "size is:  97375706500\n",
      "expected size: 97375706306\n",
      "/volume-ceph/DDP_projectfolder/17mnd mmn : incorrect size.\n",
      "size is:  22413975047\n",
      "expected size: 22413955663\n"
     ]
    }
   ],
   "source": [
    "MAIN_PATH = \"/volume-ceph/\"\n",
    "EPOD_PATH = MAIN_PATH + \"ePodium_projectfolder/\"\n",
    "DDP_PATH = \"/volume-ceph/DDP_projectfolder/\"\n",
    "\n",
    "files_check(EPOD_PATH + \"dataset/\", 207, 97375706306)\n",
    "files_check(DDP_PATH + \"DANS/\", 191, 13511321144)\n",
    "\n",
    "DDP_paths = [\"05mnd mmn\", \"11mnd mmn\", \"17mnd mmn\", \"23mnd mmn\", \n",
    "             \"29mnd mmn\", \"35mnd mmn\", \"41mnd mmn\", \"47mnd mmn\"]\n",
    "DDP_counts = [173, 519, 316, 460, 382, 258, 326, 44]\n",
    "DDP_sizes = [11081121686, 36705294613, 22413955663, 28644513147,\n",
    "        26277182842, 21683218781, 28226851299, 3534387726 ]\n",
    "\n",
    "for i, path in enumerate(DDP_paths): \n",
    "    files_check(DDP_PATH + path, DDP_counts[i], DDP_sizes[i])\n"
   ]
  },
  {
   "cell_type": "code",
   "execution_count": null,
   "id": "97be2632-0f35-40bc-abf0-d3a0844845ae",
   "metadata": {},
   "outputs": [],
   "source": []
  },
  {
   "cell_type": "code",
   "execution_count": null,
   "id": "12a297f6-4e2f-4b90-8245-7d088773b982",
   "metadata": {},
   "outputs": [],
   "source": []
  }
 ],
 "metadata": {
  "kernelspec": {
   "display_name": "Python 3 (ipykernel)",
   "language": "python",
   "name": "python3"
  },
  "language_info": {
   "codemirror_mode": {
    "name": "ipython",
    "version": 3
   },
   "file_extension": ".py",
   "mimetype": "text/x-python",
   "name": "python",
   "nbconvert_exporter": "python",
   "pygments_lexer": "ipython3",
   "version": "3.8.10"
  }
 },
 "nbformat": 4,
 "nbformat_minor": 5
}
