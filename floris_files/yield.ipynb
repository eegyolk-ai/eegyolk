{
 "cells": [
  {
   "cell_type": "markdown",
   "id": "230bbc35",
   "metadata": {},
   "source": [
    "# Yield"
   ]
  },
  {
   "cell_type": "markdown",
   "id": "e18e5ed8",
   "metadata": {},
   "source": [
    "## \n",
    "You use yield functions wherever you would use a generator. Typical case a for-loop"
   ]
  },
  {
   "cell_type": "code",
   "execution_count": 1,
   "id": "672664a7",
   "metadata": {},
   "outputs": [],
   "source": [
    "my_list = []\n",
    "for i in range(120):\n",
    "    my_list.append(i)"
   ]
  },
  {
   "cell_type": "code",
   "execution_count": 2,
   "id": "6b053394",
   "metadata": {},
   "outputs": [
    {
     "name": "stdout",
     "output_type": "stream",
     "text": [
      "0\n",
      "1\n",
      "2\n",
      "3\n",
      "4\n",
      "5\n",
      "6\n",
      "7\n",
      "8\n",
      "9\n",
      "10\n",
      "11\n",
      "12\n",
      "13\n",
      "14\n",
      "15\n",
      "16\n",
      "17\n",
      "18\n",
      "19\n",
      "20\n",
      "21\n",
      "22\n",
      "23\n",
      "24\n",
      "25\n",
      "26\n",
      "27\n",
      "28\n",
      "29\n",
      "30\n",
      "31\n",
      "32\n",
      "33\n",
      "34\n",
      "35\n",
      "36\n",
      "37\n",
      "38\n",
      "39\n",
      "40\n",
      "41\n",
      "42\n",
      "43\n",
      "44\n",
      "45\n",
      "46\n",
      "47\n",
      "48\n",
      "49\n",
      "50\n",
      "51\n",
      "52\n",
      "53\n",
      "54\n",
      "55\n",
      "56\n",
      "57\n",
      "58\n",
      "59\n",
      "60\n",
      "61\n",
      "62\n",
      "63\n",
      "64\n",
      "65\n",
      "66\n",
      "67\n",
      "68\n",
      "69\n",
      "70\n",
      "71\n",
      "72\n",
      "73\n",
      "74\n",
      "75\n",
      "76\n",
      "77\n",
      "78\n",
      "79\n",
      "80\n",
      "81\n",
      "82\n",
      "83\n",
      "84\n",
      "85\n",
      "86\n",
      "87\n",
      "88\n",
      "89\n",
      "90\n",
      "91\n",
      "92\n",
      "93\n",
      "94\n",
      "95\n",
      "96\n",
      "97\n",
      "98\n",
      "99\n",
      "100\n",
      "101\n",
      "102\n",
      "103\n",
      "104\n",
      "105\n",
      "106\n",
      "107\n",
      "108\n",
      "109\n",
      "110\n",
      "111\n",
      "112\n",
      "113\n",
      "114\n",
      "115\n",
      "116\n",
      "117\n",
      "118\n",
      "119\n"
     ]
    }
   ],
   "source": [
    "for i in my_list:\n",
    "    print(i)"
   ]
  },
  {
   "cell_type": "markdown",
   "id": "9cbf40f2",
   "metadata": {},
   "source": [
    "A generator is a kind of object that you can iterate over it. This is usually sort of true (do not qoute me on that). List has a method __iter that python runtime knows to call, and it returns an iterator implemented as a generator."
   ]
  },
  {
   "cell_type": "markdown",
   "id": "e963909a",
   "metadata": {},
   "source": [
    "We could use a yield function instead of a list"
   ]
  },
  {
   "cell_type": "code",
   "execution_count": 5,
   "id": "51baf29d",
   "metadata": {},
   "outputs": [],
   "source": [
    "# first an example of yield\n",
    "\n",
    "# we will have two functions, one with yield, and the other one to call it\n",
    "\n",
    "def yield_function():\n",
    "    yield 6 \n",
    "    yield 7\n",
    "    \n",
    "    \n",
    "\n",
    "def caller():\n",
    "    for i in yield_function():\n",
    "        print(i)"
   ]
  },
  {
   "cell_type": "code",
   "execution_count": 6,
   "id": "15a06810",
   "metadata": {},
   "outputs": [
    {
     "name": "stdout",
     "output_type": "stream",
     "text": [
      "6\n",
      "7\n"
     ]
    }
   ],
   "source": [
    "caller()"
   ]
  },
  {
   "cell_type": "markdown",
   "id": "4ffbebc2",
   "metadata": {},
   "source": [
    "What's the point? When we use large files, we can make functions have a better control flow. Normally a function executes until it exits, with yield function will cede control to calling function."
   ]
  }
 ],
 "metadata": {
  "kernelspec": {
   "display_name": "Python 3 (ipykernel)",
   "language": "python",
   "name": "python3"
  },
  "language_info": {
   "codemirror_mode": {
    "name": "ipython",
    "version": 3
   },
   "file_extension": ".py",
   "mimetype": "text/x-python",
   "name": "python",
   "nbconvert_exporter": "python",
   "pygments_lexer": "ipython3",
   "version": "3.10.4"
  }
 },
 "nbformat": 4,
 "nbformat_minor": 5
}
