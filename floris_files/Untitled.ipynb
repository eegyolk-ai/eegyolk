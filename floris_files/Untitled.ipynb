{
 "cells": [
  {
   "cell_type": "code",
   "execution_count": 2,
   "id": "6e158b47",
   "metadata": {},
   "outputs": [],
   "source": [
    "import mne      # toolbox for analyzing and visualizing EEG data\n",
    "import os       # using operating system dependent functionality (folders)\n",
    "import pandas as pd # data analysis and manipulation\n",
    "import numpy as np    # numerical computing (manipulating and performing operations on arrays of data)\n",
    "import copy     # Can Copy and Deepcopy files so original file is untouched.\n",
    "from ipywidgets import IntSlider, Output\n",
    "import ipywidgets as widgets\n",
    "from IPython.display import display\n",
    "import matplotlib.pyplot as plt\n",
    "from pathlib import Path\n",
    "import glob \n",
    "\n",
    "import sys\n",
    "sys.path.insert(0, '../eegyolk') # path to helper functions\n",
    "from eegyolk import helper_functions as hf # library useful for eeg and erp data cleaning\n",
    "from eegyolk import initialization_functions #library to import data\n",
    "from eegyolk import epod_helper"
   ]
  },
  {
   "cell_type": "code",
   "execution_count": 4,
   "id": "2fd61a38",
   "metadata": {},
   "outputs": [
    {
     "name": "stdout",
     "output_type": "stream",
     "text": [
      "Extracting EDF parameters from C:\\Projects\\ePodium\\epod_data_not_pushed\\not_zip\\121to130\\121to130\\121\\121a\\121a.bdf...\n",
      "BDF file detected\n",
      "Setting channel info structure...\n",
      "Creating raw.info structure...\n",
      "Reading 0 ... 3944447  =      0.000 ...  1926.000 secs...\n"
     ]
    }
   ],
   "source": [
    "sample_eeg_bdf = os.path.join('../epod_data_not_pushed','not_zip','121to130','121to130','121','121a','121a'+'.bdf')\n",
    "#121a\n",
    "# C:\\Projects\\new_data_karin_EEG\\not_zip\\121to130\\121to130\\121\\121a\n",
    "sample_eeg_bdf_read = mne.io.read_raw_bdf(sample_eeg_bdf, preload=True)"
   ]
  },
  {
   "cell_type": "code",
   "execution_count": null,
   "id": "caefb466",
   "metadata": {},
   "outputs": [],
   "source": [
    "eeg.plot()"
   ]
  }
 ],
 "metadata": {
  "kernelspec": {
   "display_name": "Python 3 (ipykernel)",
   "language": "python",
   "name": "python3"
  },
  "language_info": {
   "codemirror_mode": {
    "name": "ipython",
    "version": 3
   },
   "file_extension": ".py",
   "mimetype": "text/x-python",
   "name": "python",
   "nbconvert_exporter": "python",
   "pygments_lexer": "ipython3",
   "version": "3.10.4"
  }
 },
 "nbformat": 4,
 "nbformat_minor": 5
}
