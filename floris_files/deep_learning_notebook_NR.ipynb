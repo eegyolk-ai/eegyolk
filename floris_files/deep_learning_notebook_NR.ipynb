{
 "cells": [
  {
   "cell_type": "markdown",
   "metadata": {},
   "source": [
    "#### Deep Learning\n",
    "\n",
    "+ Train simple FCNN on Dummy Data\n",
    "\n",
    "TODO:\n",
    "+ Show the confidence of a prediction (with softmax probability between 0 and 1) \n",
    "+ Make multiple models work with dummy data (ML, FCNN, CNN, RNN, Transformer(Encoder))\n",
    "+ Create system that find the learning speed and pattern recognition strength of any model."
   ]
  },
  {
   "cell_type": "markdown",
   "metadata": {},
   "source": [
    "#### Imports"
   ]
  },
  {
   "cell_type": "code",
   "execution_count": 1,
   "metadata": {},
   "outputs": [],
   "source": [
    "import sklearn.model_selection as sk\n",
    "import numpy as np   \n",
    "import matplotlib.pyplot as plt\n",
    "import os              \n",
    "import sys\n",
    "import random\n",
    "import tensorflow as tf\n",
    "from IPython.display import clear_output\n",
    "\n",
    "main_path = os.path.dirname(os.getcwd())\n",
    "eegyolk_path = os.path.join(main_path, 'eegyolk')\n",
    "sys.path.insert(0, eegyolk_path)\n",
    "from eegyolk import dummy_data_functions as dummy\n",
    "from eegyolk import display_helper as disp"
   ]
  },
  {
   "cell_type": "markdown",
   "metadata": {},
   "source": [
    "#### Initialise Model"
   ]
  },
  {
   "cell_type": "code",
   "execution_count": 2,
   "metadata": {},
   "outputs": [],
   "source": [
    "model = tf.keras.models.Sequential([\n",
    "  tf.keras.layers.Flatten(input_shape=(1024,)),\n",
    "  tf.keras.layers.Dense(128, activation='relu'),\n",
    "  tf.keras.layers.Dropout(0.2),\n",
    "  tf.keras.layers.Dense(1)\n",
    "])\n",
    "\n",
    "model.compile(optimizer='sgd', loss=tf.keras.losses.BinaryCrossentropy(from_logits=True))"
   ]
  },
  {
   "cell_type": "markdown",
   "metadata": {},
   "source": [
    "#### Create batch of data"
   ]
  },
  {
   "cell_type": "code",
   "execution_count": null,
   "metadata": {},
   "outputs": [],
   "source": [
    "batch_size = 128\n",
    "\n",
    "planck_distribution = dummy.generate_frequency_distribution(\"planck\")\n",
    "const_distribution = dummy.generate_frequency_distribution(\"constant\")\n",
    "\n",
    "def create_batch(batch_size):\n",
    "  X = []\n",
    "  Y = np.zeros(batch_size)\n",
    "\n",
    "  for i in range(batch_size):\n",
    "      if random.random() < 0.5:\n",
    "          X.append(dummy.generate_epoch(const_distribution))\n",
    "      else:\n",
    "          X.append(dummy.generate_epoch(planck_distribution))\n",
    "          Y[i] = 1\n",
    "\n",
    "  return X, Y"
   ]
  },
  {
   "cell_type": "markdown",
   "metadata": {},
   "source": [
    "#### Training loop:"
   ]
  },
  {
   "cell_type": "code",
   "execution_count": 3,
   "metadata": {},
   "outputs": [
    {
     "name": "stdout",
     "output_type": "stream",
     "text": [
      "Epoch 1/4\n",
      "13/13 [==============================] - 0s 711us/step - loss: 1.1564\n",
      "Epoch 2/4\n",
      "13/13 [==============================] - 0s 667us/step - loss: 0.5050\n",
      "Epoch 3/4\n",
      "13/13 [==============================] - 0s 750us/step - loss: 0.0676\n",
      "Epoch 4/4\n",
      "13/13 [==============================] - 0s 833us/step - loss: 0.0839\n",
      "4/4 - 0s - loss: 1.1533 - 11ms/epoch - 3ms/step\n"
     ]
    }
   ],
   "source": [
    "for j in range(10):\n",
    "  X_train, Y_train = create_batch(batch_size)\n",
    "  model.fit(np.array(X_train), Y_train, epochs=4, batch_size=10)\n",
    "\n",
    "  X_test, Y_test = create_batch(batch_size)\n",
    "  model.evaluate(np.array(X_test),  Y_test, verbose=2)\n",
    "\n",
    "  clear_output(wait=True)"
   ]
  }
 ],
 "metadata": {
  "interpreter": {
   "hash": "a5f6ecf0357e95e30953d0cf08844b8b26fdbdf1f780a6e218131c917612a57e"
  },
  "kernelspec": {
   "display_name": "Python 3.7.9 ('VENV')",
   "language": "python",
   "name": "python3"
  },
  "language_info": {
   "codemirror_mode": {
    "name": "ipython",
    "version": 3
   },
   "file_extension": ".py",
   "mimetype": "text/x-python",
   "name": "python",
   "nbconvert_exporter": "python",
   "pygments_lexer": "ipython3",
   "version": "3.7.9"
  },
  "orig_nbformat": 4
 },
 "nbformat": 4,
 "nbformat_minor": 2
}
