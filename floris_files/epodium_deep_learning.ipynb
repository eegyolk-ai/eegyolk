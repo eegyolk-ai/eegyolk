{
 "cells": [
  {
   "cell_type": "markdown",
   "metadata": {},
   "source": [
    "# Applies Deep Learning to ePodium dataset for prediction of Dyslexia."
   ]
  },
  {
   "cell_type": "markdown",
   "metadata": {},
   "source": [
    "#### Import Packages"
   ]
  },
  {
   "cell_type": "code",
   "execution_count": 18,
   "metadata": {},
   "outputs": [],
   "source": [
    "import numpy as np\n",
    "import os\n",
    "import glob\n",
    "import matplotlib.pyplot as plt\n",
    "import ipywidgets\n",
    "\n",
    "import tensorflow as tf\n",
    "from tensorflow.keras.optimizers import Adam\n",
    "from tensorflow.keras.losses import BinaryCrossentropy\n",
    "from tensorflow.keras.metrics import Precision, BinaryAccuracy, Recall\n",
    "from tensorflow.keras.callbacks import ModelCheckpoint, EarlyStopping, ReduceLROnPlateau\n",
    "\n",
    "from functions import epodium_deep_learning, display_helper\n",
    "from models.dnn import fully_connected_model\n",
    "from models.transformer import TransformerModel\n",
    "\n",
    "import local_paths"
   ]
  },
  {
   "cell_type": "markdown",
   "metadata": {},
   "source": [
    "#### Choose which processed data to use"
   ]
  },
  {
   "cell_type": "code",
   "execution_count": 2,
   "metadata": {},
   "outputs": [
    {
     "data": {
      "application/vnd.jupyter.widget-view+json": {
       "model_id": "363379c21bd1469c9818170488b3b820",
       "version_major": 2,
       "version_minor": 0
      },
      "text/plain": [
       "RadioButtons(description='processing:', options=('autoreject', 'ransac'), value='autoreject')"
      ]
     },
     "metadata": {},
     "output_type": "display_data"
    }
   ],
   "source": [
    "processing_method_widget = ipywidgets.RadioButtons(options=['autoreject', 'ransac'], \n",
    "                                                   value='autoreject', \n",
    "                                                   description='processing:')\n",
    "display(processing_method_widget)"
   ]
  },
  {
   "cell_type": "markdown",
   "metadata": {},
   "source": [
    "<br>\n",
    "\n",
    "## Preparing data as input to the deep learning models.\n",
    "\n",
    "#### Check number of clean epochs* in each file after processing and split into train and test dataset\n",
    "\n",
    "*In the context of electroencephalography (EEG), *epochs* are EEG segments in which an event occurs. During processing, the epochs are chosen to be 1 second in which the event occurs at 0.2s. In the context of deep learning, *epochs* are iterations over the entire training dataset."
   ]
  },
  {
   "cell_type": "code",
   "execution_count": 3,
   "metadata": {},
   "outputs": [
    {
     "name": "stdout",
     "output_type": "stream",
     "text": [
      "Analyzed: 228, bad: 42\n",
      "186 files have enough epochs for analysis.\n",
      "The dataset is split up into 138 train and 48 test experiments\n"
     ]
    }
   ],
   "source": [
    "if(processing_method_widget.value == \"autoreject\"):\n",
    "    path_processed = local_paths.ePod_processed_autoreject\n",
    "if(processing_method_widget.value == \"ransac\"):\n",
    "    path_processed = local_paths.ePod_processed_ransac\n",
    "\n",
    "train, test = epodium_deep_learning.split_train_test_datasets(path_processed)"
   ]
  },
  {
   "cell_type": "markdown",
   "metadata": {},
   "source": [
    "#### Create Iterator Sequence as input to feed the model\n",
    "https://www.tensorflow.org/api_docs/python/tf/keras/utils/Sequence\n"
   ]
  },
  {
   "cell_type": "code",
   "execution_count": 5,
   "metadata": {},
   "outputs": [
    {
     "data": {
      "text/plain": [
       "(96, 32, 512)"
      ]
     },
     "execution_count": 5,
     "metadata": {},
     "output_type": "execute_result"
    }
   ],
   "source": [
    "train_sequence = epodium_deep_learning.EvokedDataIterator(train)\n",
    "test_sequence = epodium_deep_learning.EvokedDataIterator(test)\n",
    "\n",
    "x, y = train_sequence.__getitem__(0)\n",
    "x.shape"
   ]
  },
  {
   "cell_type": "markdown",
   "metadata": {
    "tags": []
   },
   "source": [
    "<br>\n",
    "\n",
    "## Deep Learning\n",
    "\n",
    "The data is an *evoked* or *ERP* from a participant in the ePodium experiment. 60 EEG signals were averaged from -0.2 to +0.8 seconds after onset of an event. This is done for each of the 12 event types seperately.\n",
    "\n",
    "__dimensions__: \n",
    "+ x (batches, timesteps, channels)\n",
    "+ y (batches, labels)\n",
    "\n",
    "__labels__: \n",
    "+ (Sex, At risk of dyslexia, first standard, standard, deviant)\n"
   ]
  },
  {
   "cell_type": "markdown",
   "metadata": {},
   "source": [
    "#### Choose Deep Learning model"
   ]
  },
  {
   "cell_type": "code",
   "execution_count": 6,
   "metadata": {},
   "outputs": [
    {
     "data": {
      "application/vnd.jupyter.widget-view+json": {
       "model_id": "847f634d740a4b2facaa8a3155ca25d1",
       "version_major": 2,
       "version_minor": 0
      },
      "text/plain": [
       "RadioButtons(description='processing:', index=1, options=('fully_connected', 'transformer'), value='transforme…"
      ]
     },
     "metadata": {},
     "output_type": "display_data"
    }
   ],
   "source": [
    "model_widget = ipywidgets.RadioButtons(options=['fully_connected', 'transformer'],\n",
    "                                       value='transformer', \n",
    "                                       description='processing:')\n",
    "display(model_widget)"
   ]
  },
  {
   "cell_type": "markdown",
   "metadata": {},
   "source": [
    "#### Train model"
   ]
  },
  {
   "cell_type": "code",
   "execution_count": 9,
   "metadata": {},
   "outputs": [
    {
     "name": "stdout",
     "output_type": "stream",
     "text": [
      "Epoch 1/20\n",
      "WARNING:tensorflow:Model was constructed with shape (None, 16384) for input KerasTensor(type_spec=TensorSpec(shape=(None, 16384), dtype=tf.float32, name='input_3'), name='input_3', description=\"created by layer 'input_3'\"), but it was called on an input with incompatible shape (None, None, None).\n",
      "WARNING:tensorflow:Model was constructed with shape (None, 16384) for input KerasTensor(type_spec=TensorSpec(shape=(None, 16384), dtype=tf.float32, name='input_3'), name='input_3', description=\"created by layer 'input_3'\"), but it was called on an input with incompatible shape (None, None, None).\n",
      "18/18 [==============================] - ETA: 0s - loss: 1.4607 - precision_2: 0.4178 - binary_accuracy: 0.5273 - recall_2: 0.4936WARNING:tensorflow:Model was constructed with shape (None, 16384) for input KerasTensor(type_spec=TensorSpec(shape=(None, 16384), dtype=tf.float32, name='input_3'), name='input_3', description=\"created by layer 'input_3'\"), but it was called on an input with incompatible shape (None, None, None).\n",
      "\n",
      "Epoch 1: val_loss improved from inf to 0.79428, saving model to /volume-ceph/floris_storage/models/transformer.hdf5\n",
      "18/18 [==============================] - 258s 14s/step - loss: 1.4607 - precision_2: 0.4178 - binary_accuracy: 0.5273 - recall_2: 0.4936 - val_loss: 0.7943 - val_precision_2: 0.4375 - val_binary_accuracy: 0.6000 - val_recall_2: 0.2333 - lr: 1.0000e-04\n",
      "Epoch 2/20\n",
      "18/18 [==============================] - ETA: 0s - loss: 1.2929 - precision_2: 0.4257 - binary_accuracy: 0.5382 - recall_2: 0.4775 \n",
      "Epoch 2: val_loss improved from 0.79428 to 0.70480, saving model to /volume-ceph/floris_storage/models/transformer.hdf5\n",
      "18/18 [==============================] - 259s 15s/step - loss: 1.2929 - precision_2: 0.4257 - binary_accuracy: 0.5382 - recall_2: 0.4775 - val_loss: 0.7048 - val_precision_2: 0.4375 - val_binary_accuracy: 0.6000 - val_recall_2: 0.2333 - lr: 1.0000e-04\n",
      "Epoch 3/20\n",
      "18/18 [==============================] - ETA: 0s - loss: 1.2357 - precision_2: 0.4052 - binary_accuracy: 0.5251 - recall_2: 0.4266 \n",
      "Epoch 3: val_loss improved from 0.70480 to 0.68465, saving model to /volume-ceph/floris_storage/models/transformer.hdf5\n",
      "18/18 [==============================] - 255s 14s/step - loss: 1.2357 - precision_2: 0.4052 - binary_accuracy: 0.5251 - recall_2: 0.4266 - val_loss: 0.6847 - val_precision_2: 0.4375 - val_binary_accuracy: 0.6000 - val_recall_2: 0.2333 - lr: 1.0000e-04\n",
      "Epoch 4/20\n",
      "18/18 [==============================] - ETA: 0s - loss: 1.1153 - precision_2: 0.4152 - binary_accuracy: 0.5352 - recall_2: 0.4266\n",
      "Epoch 4: val_loss improved from 0.68465 to 0.67878, saving model to /volume-ceph/floris_storage/models/transformer.hdf5\n",
      "18/18 [==============================] - 247s 14s/step - loss: 1.1153 - precision_2: 0.4152 - binary_accuracy: 0.5352 - recall_2: 0.4266 - val_loss: 0.6788 - val_precision_2: 0.4375 - val_binary_accuracy: 0.5750 - val_recall_2: 0.4667 - lr: 1.0000e-04\n",
      "Epoch 5/20\n",
      "18/18 [==============================] - ETA: 0s - loss: 1.0457 - precision_2: 0.4221 - binary_accuracy: 0.5436 - recall_2: 0.4143 \n",
      "Epoch 5: val_loss improved from 0.67878 to 0.67490, saving model to /volume-ceph/floris_storage/models/transformer.hdf5\n",
      "18/18 [==============================] - 253s 15s/step - loss: 1.0457 - precision_2: 0.4221 - binary_accuracy: 0.5436 - recall_2: 0.4143 - val_loss: 0.6749 - val_precision_2: 0.4375 - val_binary_accuracy: 0.5750 - val_recall_2: 0.4667 - lr: 1.0000e-04\n",
      "Epoch 6/20\n",
      "18/18 [==============================] - ETA: 0s - loss: 0.9935 - precision_2: 0.4200 - binary_accuracy: 0.5439 - recall_2: 0.4000 \n",
      "Epoch 6: val_loss improved from 0.67490 to 0.67066, saving model to /volume-ceph/floris_storage/models/transformer.hdf5\n",
      "18/18 [==============================] - 250s 14s/step - loss: 0.9935 - precision_2: 0.4200 - binary_accuracy: 0.5439 - recall_2: 0.4000 - val_loss: 0.6707 - val_precision_2: 0.4375 - val_binary_accuracy: 0.5750 - val_recall_2: 0.4667 - lr: 1.0000e-04\n",
      "Epoch 7/20\n",
      "18/18 [==============================] - ETA: 0s - loss: 0.9574 - precision_2: 0.4237 - binary_accuracy: 0.5463 - recall_2: 0.4058\n",
      "Epoch 7: val_loss improved from 0.67066 to 0.66752, saving model to /volume-ceph/floris_storage/models/transformer.hdf5\n",
      "18/18 [==============================] - 240s 14s/step - loss: 0.9574 - precision_2: 0.4237 - binary_accuracy: 0.5463 - recall_2: 0.4058 - val_loss: 0.6675 - val_precision_2: 0.4375 - val_binary_accuracy: 0.5750 - val_recall_2: 0.4667 - lr: 1.0000e-04\n",
      "Epoch 8/20\n",
      "18/18 [==============================] - ETA: 0s - loss: 0.9463 - precision_2: 0.4187 - binary_accuracy: 0.5425 - recall_2: 0.4012 \n",
      "Epoch 8: val_loss did not improve from 0.66752\n",
      "18/18 [==============================] - 252s 14s/step - loss: 0.9463 - precision_2: 0.4187 - binary_accuracy: 0.5425 - recall_2: 0.4012 - val_loss: 0.6684 - val_precision_2: 0.4375 - val_binary_accuracy: 0.5750 - val_recall_2: 0.4667 - lr: 1.0000e-04\n",
      "Epoch 9/20\n",
      "18/18 [==============================] - ETA: 0s - loss: 0.9147 - precision_2: 0.4198 - binary_accuracy: 0.5440 - recall_2: 0.3977 \n",
      "Epoch 9: val_loss did not improve from 0.66752\n",
      "18/18 [==============================] - 242s 14s/step - loss: 0.9147 - precision_2: 0.4198 - binary_accuracy: 0.5440 - recall_2: 0.3977 - val_loss: 0.6679 - val_precision_2: 0.4375 - val_binary_accuracy: 0.5750 - val_recall_2: 0.4667 - lr: 1.0000e-04\n",
      "Epoch 10/20\n",
      "18/18 [==============================] - ETA: 0s - loss: 0.8998 - precision_2: 0.4147 - binary_accuracy: 0.5402 - recall_2: 0.3933\n",
      "Epoch 10: val_loss did not improve from 0.66752\n",
      "18/18 [==============================] - 236s 14s/step - loss: 0.8998 - precision_2: 0.4147 - binary_accuracy: 0.5402 - recall_2: 0.3933 - val_loss: 0.6694 - val_precision_2: 0.4375 - val_binary_accuracy: 0.5750 - val_recall_2: 0.4667 - lr: 1.0000e-04\n",
      "Epoch 11/20\n",
      "18/18 [==============================] - ETA: 0s - loss: 0.8767 - precision_2: 0.4224 - binary_accuracy: 0.5455 - recall_2: 0.4035 \n",
      "Epoch 11: val_loss did not improve from 0.66752\n",
      "\n",
      "Epoch 11: ReduceLROnPlateau reducing learning rate to 4.999999873689376e-05.\n",
      "18/18 [==============================] - 245s 14s/step - loss: 0.8767 - precision_2: 0.4224 - binary_accuracy: 0.5455 - recall_2: 0.4035 - val_loss: 0.6699 - val_precision_2: 0.4375 - val_binary_accuracy: 0.5750 - val_recall_2: 0.4667 - lr: 1.0000e-04\n",
      "Epoch 12/20\n",
      "18/18 [==============================] - ETA: 0s - loss: 0.8579 - precision_2: 0.4267 - binary_accuracy: 0.5500 - recall_2: 0.3982\n",
      "Epoch 12: val_loss did not improve from 0.66752\n",
      "18/18 [==============================] - 242s 14s/step - loss: 0.8579 - precision_2: 0.4267 - binary_accuracy: 0.5500 - recall_2: 0.3982 - val_loss: 0.6698 - val_precision_2: 0.4375 - val_binary_accuracy: 0.5750 - val_recall_2: 0.4667 - lr: 5.0000e-05\n",
      "Epoch 13/20\n",
      "18/18 [==============================] - ETA: 0s - loss: 0.8622 - precision_2: 0.4161 - binary_accuracy: 0.5427 - recall_2: 0.3848\n",
      "Epoch 13: val_loss did not improve from 0.66752\n",
      "18/18 [==============================] - 228s 13s/step - loss: 0.8622 - precision_2: 0.4161 - binary_accuracy: 0.5427 - recall_2: 0.3848 - val_loss: 0.6700 - val_precision_2: 0.4375 - val_binary_accuracy: 0.5750 - val_recall_2: 0.4667 - lr: 5.0000e-05\n",
      "Epoch 14/20\n",
      "18/18 [==============================] - ETA: 0s - loss: 0.8509 - precision_2: 0.4215 - binary_accuracy: 0.5449 - recall_2: 0.4020\n",
      "Epoch 14: val_loss did not improve from 0.66752\n",
      "18/18 [==============================] - 241s 14s/step - loss: 0.8509 - precision_2: 0.4215 - binary_accuracy: 0.5449 - recall_2: 0.4020 - val_loss: 0.6702 - val_precision_2: 0.4375 - val_binary_accuracy: 0.5750 - val_recall_2: 0.4667 - lr: 5.0000e-05\n",
      "Epoch 15/20\n",
      "18/18 [==============================] - ETA: 0s - loss: 0.8521 - precision_2: 0.4156 - binary_accuracy: 0.5418 - recall_2: 0.3883\n",
      "Epoch 15: val_loss did not improve from 0.66752\n",
      "\n",
      "Epoch 15: ReduceLROnPlateau reducing learning rate to 2.499999936844688e-05.\n",
      "18/18 [==============================] - 233s 14s/step - loss: 0.8521 - precision_2: 0.4156 - binary_accuracy: 0.5418 - recall_2: 0.3883 - val_loss: 0.6710 - val_precision_2: 0.4375 - val_binary_accuracy: 0.5750 - val_recall_2: 0.4667 - lr: 5.0000e-05\n",
      "Epoch 16/20\n",
      "18/18 [==============================] - ETA: 0s - loss: 0.8409 - precision_2: 0.4185 - binary_accuracy: 0.5444 - recall_2: 0.3874 \n",
      "Epoch 16: val_loss did not improve from 0.66752\n",
      "18/18 [==============================] - 244s 14s/step - loss: 0.8409 - precision_2: 0.4185 - binary_accuracy: 0.5444 - recall_2: 0.3874 - val_loss: 0.6712 - val_precision_2: 0.4375 - val_binary_accuracy: 0.5750 - val_recall_2: 0.4667 - lr: 2.5000e-05\n",
      "Epoch 17/20\n",
      "18/18 [==============================] - ETA: 0s - loss: 0.8279 - precision_2: 0.4253 - binary_accuracy: 0.5484 - recall_2: 0.4015 \n",
      "Epoch 17: val_loss did not improve from 0.66752\n",
      "18/18 [==============================] - 250s 15s/step - loss: 0.8279 - precision_2: 0.4253 - binary_accuracy: 0.5484 - recall_2: 0.4015 - val_loss: 0.6712 - val_precision_2: 0.4375 - val_binary_accuracy: 0.5750 - val_recall_2: 0.4667 - lr: 2.5000e-05\n",
      "Epoch 18/20\n",
      "18/18 [==============================] - ETA: 0s - loss: 0.8396 - precision_2: 0.4189 - binary_accuracy: 0.5461 - recall_2: 0.3789\n",
      "Epoch 18: val_loss did not improve from 0.66752\n",
      "18/18 [==============================] - 243s 14s/step - loss: 0.8396 - precision_2: 0.4189 - binary_accuracy: 0.5461 - recall_2: 0.3789 - val_loss: 0.6713 - val_precision_2: 0.4375 - val_binary_accuracy: 0.5750 - val_recall_2: 0.4667 - lr: 2.5000e-05\n",
      "Epoch 19/20\n",
      "18/18 [==============================] - ETA: 0s - loss: 0.8282 - precision_2: 0.4297 - binary_accuracy: 0.5530 - recall_2: 0.3947\n",
      "Epoch 19: val_loss did not improve from 0.66752\n",
      "\n",
      "Epoch 19: ReduceLROnPlateau reducing learning rate to 1.249999968422344e-05.\n",
      "18/18 [==============================] - 231s 13s/step - loss: 0.8282 - precision_2: 0.4297 - binary_accuracy: 0.5530 - recall_2: 0.3947 - val_loss: 0.6715 - val_precision_2: 0.4375 - val_binary_accuracy: 0.5750 - val_recall_2: 0.4667 - lr: 2.5000e-05\n",
      "Epoch 20/20\n",
      "18/18 [==============================] - ETA: 0s - loss: 0.8224 - precision_2: 0.4217 - binary_accuracy: 0.5466 - recall_2: 0.3912 \n",
      "Epoch 20: val_loss did not improve from 0.66752\n",
      "18/18 [==============================] - 259s 15s/step - loss: 0.8224 - precision_2: 0.4217 - binary_accuracy: 0.5466 - recall_2: 0.3912 - val_loss: 0.6716 - val_precision_2: 0.4375 - val_binary_accuracy: 0.5750 - val_recall_2: 0.4667 - lr: 1.2500e-05\n"
     ]
    }
   ],
   "source": [
    "if(model_widget.value == \"fully_connected\"): # TODO\n",
    "    model = fully_connected_model()\n",
    "    \n",
    "if(model_widget.value == \"transformer\"):\n",
    "    model = TransformerModel()\n",
    "\n",
    "# Save file with names of test set, so \n",
    "path_testset = os.path.join(local_paths.models, model_widget.value + \"_testset.txt\")\n",
    "\n",
    "with open(path_testset, 'w') as f:\n",
    "    for participant in test:\n",
    "        f.write(participant + '\\n')\n",
    "\n",
    "\n",
    "    \n",
    "model.compile(optimizer=Adam(learning_rate=1e-4),\n",
    "              loss=BinaryCrossentropy(),\n",
    "              metrics=[Precision(), BinaryAccuracy(), Recall()])\n",
    "\n",
    "model_path = os.path.join(local_paths.models, model_widget.value + \".hdf5\")\n",
    "checkpointer = ModelCheckpoint(filepath = model_path, monitor='val_loss', verbose=1, save_best_only=True)\n",
    "reduce_lr = ReduceLROnPlateau(monitor='val_loss', patience=4, factor=0.5, verbose=1)\n",
    "\n",
    "history = model.fit(x=train_sequence,\n",
    "                    validation_data=test_sequence,\n",
    "                    epochs=20,\n",
    "\n",
    "                    callbacks=[checkpointer, reduce_lr])"
   ]
  },
  {
   "cell_type": "code",
   "execution_count": 13,
   "metadata": {},
   "outputs": [],
   "source": [
    "path_history = os.path.join(local_paths.models, model_widget.value + \"_history.npy\")\n",
    "np.save(path_history, history.history)\n"
   ]
  },
  {
   "cell_type": "markdown",
   "metadata": {},
   "source": [
    "#### Show Results"
   ]
  },
  {
   "cell_type": "code",
   "execution_count": 16,
   "metadata": {},
   "outputs": [
    {
     "data": {
      "application/vnd.jupyter.widget-view+json": {
       "model_id": "39f6b170a0e34c2a8c371c8b78acdc26",
       "version_major": 2,
       "version_minor": 0
      },
      "text/plain": [
       "Select(description='Models:', options=('transformer', 'fully_connected'), value='transformer')"
      ]
     },
     "metadata": {},
     "output_type": "display_data"
    }
   ],
   "source": [
    "model_extension = '.hdf5'\n",
    "\n",
    "path_models = glob.glob(os.path.join(local_paths.models, '*' + model_extension))\n",
    "\n",
    "models = []\n",
    "paths_model_file = []\n",
    "paths_model_history = []\n",
    "\n",
    "for path_model in path_models:\n",
    "    model_temp = os.path.splitext(path_model)[0]    \n",
    "    models.append(os.path.basename(model_temp))\n",
    "    paths_model_file.append(model_temp + model_extension)\n",
    "    paths_model_history.append(model_temp + '_history.npy')\n",
    "\n",
    "model = ipywidgets.Select(options=models, description='Models:')\n",
    "display(model)"
   ]
  },
  {
   "cell_type": "code",
   "execution_count": 25,
   "metadata": {},
   "outputs": [
    {
     "data": {
      "image/png": "[encoded data removed]",
      "text/plain": [
       "<Figure size 640x480 with 1 Axes>"
      ]
     },
     "metadata": {},
     "output_type": "display_data"
    }
   ],
   "source": [
    "history = np.load(paths_model_history[model.index], allow_pickle=True).item()\n",
    "plt.plot(history['loss'])\n",
    "display_helper.show_plot(x = range(len(history['loss'])), y = history['val_loss'] ,xlabel = \"epochs\", ylabel = \"validation loss\", title = \"Loss during training\")\n"
   ]
  },
  {
   "cell_type": "markdown",
   "metadata": {
    "jp-MarkdownHeadingCollapsed": true,
    "tags": []
   },
   "source": [
    "#### Make predictions on test set"
   ]
  },
  {
   "cell_type": "code",
   "execution_count": null,
   "metadata": {},
   "outputs": [],
   "source": [
    "\n",
    "## test set:\n",
    "# with open(the_filename, 'r') as f:\n",
    "#     my_list = [line.rstrip('\\n') for line in f]"
   ]
  },
  {
   "cell_type": "code",
   "execution_count": null,
   "metadata": {},
   "outputs": [],
   "source": []
  }
 ],
 "metadata": {
  "interpreter": {
   "hash": "a5f6ecf0357e95e30953d0cf08844b8b26fdbdf1f780a6e218131c917612a57e"
  },
  "kernelspec": {
   "display_name": "Python 3 (ipykernel)",
   "language": "python",
   "name": "python3"
  },
  "language_info": {
   "codemirror_mode": {
    "name": "ipython",
    "version": 3
   },
   "file_extension": ".py",
   "mimetype": "text/x-python",
   "name": "python",
   "nbconvert_exporter": "python",
   "pygments_lexer": "ipython3",
   "version": "3.8.10"
  }
 },
 "nbformat": 4,
 "nbformat_minor": 4
}
