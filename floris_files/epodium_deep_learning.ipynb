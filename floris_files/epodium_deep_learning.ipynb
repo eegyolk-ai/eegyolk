{
 "cells": [
  {
   "cell_type": "markdown",
   "metadata": {},
   "source": [
    "# Tool for analyzing trained models on the ePodium dataset\n",
    "\n",
    "1. [Input Data](#1)\n",
    "2. [Deep Learning Model](#2)\n",
    "3. [Make predictions on test-set](#3)\n"
   ]
  },
  {
   "cell_type": "markdown",
   "metadata": {},
   "source": [
    "#### Import Packages\n",
    "Note: This notebook may output tensorflow errors if cuda is not properly installed. The notebook still functions with these errors."
   ]
  },
  {
   "cell_type": "code",
   "execution_count": 1,
   "metadata": {},
   "outputs": [
    {
     "name": "stderr",
     "output_type": "stream",
     "text": [
      "2022-09-16 21:34:42.396106: W tensorflow/stream_executor/platform/default/dso_loader.cc:64] Could not load dynamic library 'libcudart.so.11.0'; dlerror: libcudart.so.11.0: cannot open shared object file: No such file or directory\n",
      "2022-09-16 21:34:42.396147: I tensorflow/stream_executor/cuda/cudart_stub.cc:29] Ignore above cudart dlerror if you do not have a GPU set up on your machine.\n"
     ]
    }
   ],
   "source": [
    "import mne\n",
    "import numpy as np\n",
    "import os\n",
    "import glob\n",
    "import matplotlib.pyplot as plt\n",
    "import ipywidgets\n",
    "import tensorflow as tf\n",
    "\n",
    "from functions import epodium, epodium_deep_learning, display_helper\n",
    "from models.dnn import fully_connected_model\n",
    "from models.hfawaz import cnn, encoder\n",
    "\n",
    "import local_paths"
   ]
  },
  {
   "cell_type": "markdown",
   "metadata": {},
   "source": [
    "<br>\n",
    "\n",
    "<a id='1'></a>\n",
    "## 1. Input Data \n",
    "\n",
    "####  Choose which processed data to use\n",
    "Choose from the different processed _experiment_event.npy_ files. If the _local_path.split_ folder is empty, process the raw ePodium files in the _epodium_processing_ notebook."
   ]
  },
  {
   "cell_type": "code",
   "execution_count": 2,
   "metadata": {},
   "outputs": [
    {
     "data": {
      "application/vnd.jupyter.widget-view+json": {
       "model_id": "fa9acc4707de4eae973ba37fd4b2992b",
       "version_major": 2,
       "version_minor": 0
      },
      "text/plain": [
       "RadioButtons(description='processing:', options=('autoreject_128hz', 'autoreject_512hz', 'ransac_512hz'), valu…"
      ]
     },
     "metadata": {},
     "output_type": "display_data"
    }
   ],
   "source": [
    "processing_methods = sorted((f for f in os.listdir(local_paths.split) if not f.startswith(\".\")))\n",
    "processing_method_widget = ipywidgets.RadioButtons(options=processing_methods, \n",
    "                                                   description='processing:',\n",
    "                                                   value = 'autoreject_128hz')\n",
    "display(processing_method_widget)"
   ]
  },
  {
   "cell_type": "markdown",
   "metadata": {},
   "source": [
    "#### Visualise the data sequence of a single participant"
   ]
  },
  {
   "cell_type": "code",
   "execution_count": 25,
   "metadata": {},
   "outputs": [
    {
     "name": "stdout",
     "output_type": "stream",
     "text": [
      "Analyzed: 228, bad: 42\n",
      "186 experiments have enough epochs for analysis.\n"
     ]
    },
    {
     "data": {
      "application/vnd.jupyter.widget-view+json": {
       "model_id": "fb3e0f13dea243a49d51b4c718b6c5d8",
       "version_major": 2,
       "version_minor": 0
      },
      "text/plain": [
       "interactive(children=(Dropdown(description='experiment', options=('101a', '101b', '102a', '102b', '103b', '104…"
      ]
     },
     "metadata": {},
     "output_type": "display_data"
    }
   ],
   "source": [
    "experiment_list = epodium_deep_learning.clean_experiments(processing_method_widget.value.split('_')[0])\n",
    "\n",
    "\n",
    "def f(experiment):\n",
    "    participant_sequence = epodium_deep_learning.EvokedDataIterator([experiment], \"autoreject_128hz\", n_experiments_batch = 1)\n",
    "\n",
    "    x, y = participant_sequence.__getitem__(0, verbose = True)\n",
    "\n",
    "    # TODO set M/S, Giep/Gop\n",
    "    index = 4 # 0 to 63\n",
    "\n",
    "    epodium.plot_array_as_evoked(x[index][:32], frequency = 128)\n",
    "    epodium.plot_array_as_evoked(x[index][32:], frequency = 128)\n",
    "\n",
    "    print(f\"The data instance has shape: {x[index].shape}\")\n",
    "\n",
    "participant_widget = ipywidgets.interactive(f, experiment=sorted(experiment_list))\n",
    "display(participant_widget)"
   ]
  },
  {
   "cell_type": "markdown",
   "metadata": {},
   "source": [
    "<br>\n",
    "\n",
    "<a id='2'></a>\n",
    "## 2. Deep Learning Model\n",
    "\n",
    "#### Choose a trained model\n",
    "Choose from the trained modelsin the _local_paths.models_ folder. If the folder is empty, train a model in the _epodium_model_training_ notebook."
   ]
  },
  {
   "cell_type": "code",
   "execution_count": 5,
   "metadata": {},
   "outputs": [
    {
     "data": {
      "application/vnd.jupyter.widget-view+json": {
       "model_id": "d0385fb2157843408a25f3655687f8e2",
       "version_major": 2,
       "version_minor": 0
      },
      "text/plain": [
       "RadioButtons(description='Models:', index=4, options=('encoder_2', 'encoder_3', 'encoder_age', 'encoder_age_12…"
      ]
     },
     "metadata": {},
     "output_type": "display_data"
    }
   ],
   "source": [
    "trained_models = sorted((f for f in os.listdir(local_paths.models) if not f.startswith(\".\")))\n",
    "model_widget = ipywidgets.RadioButtons(options=trained_models,\n",
    "                                       description='Models:',\n",
    "                                       value='encoder_age_128_2')\n",
    "display(model_widget)"
   ]
  },
  {
   "cell_type": "markdown",
   "metadata": {},
   "source": [
    "#### Load model"
   ]
  },
  {
   "cell_type": "code",
   "execution_count": 23,
   "metadata": {},
   "outputs": [
    {
     "name": "stderr",
     "output_type": "stream",
     "text": [
      "WARNING:root:The given value for groups will be overwritten.\n",
      "WARNING:root:The given value for groups will be overwritten.\n",
      "WARNING:root:The given value for groups will be overwritten.\n",
      "WARNING:root:The given value for groups will be overwritten.\n"
     ]
    },
    {
     "name": "stdout",
     "output_type": "stream",
     "text": [
      "Loading Model: 'encoder_age_128_2'.\n"
     ]
    }
   ],
   "source": [
    "# Set model paths\n",
    "base_path = os.path.join(local_paths.models, model_widget.value)\n",
    "\n",
    "path_history = os.path.join(base_path, \"history.npy\")\n",
    "path_model = os.path.join(base_path, \"model\")\n",
    "path_testset = os.path.join(base_path, \"testset.txt\")\n",
    "path_weights = os.path.join(base_path, \"weights.h5\")\n",
    "\n",
    "# Load Model\n",
    "if(os.path.exists(path_model)):\n",
    "    print(f\"Loading Model: '{model_widget.value}'.\")\n",
    "    \n",
    "    # Loads the entire model from a folder:\n",
    "    model = tf.keras.models.load_model(path_model)\n",
    "    model.load_weights(path_weights)\n",
    "    # Reads the test-set of the trained model and puts the experiment names into a list:\n",
    "    testset = open(path_testset, \"r\").read().split()\n",
    "    # Loads the training history dictionary:\n",
    "    history = np.load(path_history, allow_pickle=True).item()\n",
    "else: print(\"Model not found\")"
   ]
  },
  {
   "cell_type": "markdown",
   "metadata": {},
   "source": [
    "#### Show Loss of Training History"
   ]
  },
  {
   "cell_type": "code",
   "execution_count": 7,
   "metadata": {},
   "outputs": [
    {
     "data": {
      "image/png": "[encoded data removed]",
      "text/plain": [
       "<Figure size 432x288 with 1 Axes>"
      ]
     },
     "metadata": {
      "needs_background": "light"
     },
     "output_type": "display_data"
    },
    {
     "data": {
      "image/png": "[encoded data removed]",
      "text/plain": [
       "<Figure size 432x288 with 1 Axes>"
      ]
     },
     "metadata": {
      "needs_background": "light"
     },
     "output_type": "display_data"
    }
   ],
   "source": [
    "display_helper.show_plot(x = range(len(history['loss'])), y = history['loss'] ,xlabel = \"epochs\", ylabel = \"validation loss\", title = \"Loss during training\")\n",
    "display_helper.show_plot(x = range(len(history['loss'])), y = history['val_loss'] ,xlabel = \"epochs\", ylabel = \"validation loss\", title = \"Validation loss during training\")"
   ]
  },
  {
   "cell_type": "markdown",
   "metadata": {
    "tags": []
   },
   "source": [
    "<br>\n",
    "\n",
    "<a id='3'></a>\n",
    "## 3. Make predictions on test-set"
   ]
  },
  {
   "cell_type": "code",
   "execution_count": 8,
   "metadata": {},
   "outputs": [
    {
     "name": "stdout",
     "output_type": "stream",
     "text": [
      "The data instance has shape: (64, 128)\n"
     ]
    },
    {
     "ename": "NameError",
     "evalue": "name 'train_sequence' is not defined",
     "output_type": "error",
     "traceback": [
      "\u001b[0;31m---------------------------------------------------------------------------\u001b[0m",
      "\u001b[0;31mNameError\u001b[0m                                 Traceback (most recent call last)",
      "Input \u001b[0;32mIn [8]\u001b[0m, in \u001b[0;36m<cell line: 2>\u001b[0;34m()\u001b[0m\n\u001b[1;32m      1\u001b[0m \u001b[38;5;28mprint\u001b[39m(\u001b[38;5;124mf\u001b[39m\u001b[38;5;124m\"\u001b[39m\u001b[38;5;124mThe data instance has shape: \u001b[39m\u001b[38;5;132;01m{\u001b[39;00mx[index]\u001b[38;5;241m.\u001b[39mshape\u001b[38;5;132;01m}\u001b[39;00m\u001b[38;5;124m\"\u001b[39m)\n\u001b[0;32m----> 2\u001b[0m x, y \u001b[38;5;241m=\u001b[39m \u001b[43mtrain_sequence\u001b[49m\u001b[38;5;241m.\u001b[39m\u001b[38;5;21m__getitem__\u001b[39m(\u001b[38;5;241m50\u001b[39m)\n\u001b[1;32m      4\u001b[0m \u001b[38;5;28mprint\u001b[39m(np\u001b[38;5;241m.\u001b[39msqueeze(model\u001b[38;5;241m.\u001b[39mpredict(x)))\n\u001b[1;32m      5\u001b[0m model\u001b[38;5;241m.\u001b[39mcompute_loss(x\u001b[38;5;241m=\u001b[39mx, y\u001b[38;5;241m=\u001b[39my, y_pred\u001b[38;5;241m=\u001b[39mnp\u001b[38;5;241m.\u001b[39msqueeze(model\u001b[38;5;241m.\u001b[39mpredict(x)))\n",
      "\u001b[0;31mNameError\u001b[0m: name 'train_sequence' is not defined"
     ]
    }
   ],
   "source": [
    "print(f\"The data instance has shape: {x[index].shape}\")\n",
    "x, y = train_sequence.__getitem__(50)\n",
    "\n",
    "print(np.squeeze(model.predict(x)))\n",
    "model.compute_loss(x=x, y=y, y_pred=np.squeeze(model.predict(x)))"
   ]
  },
  {
   "cell_type": "code",
   "execution_count": null,
   "metadata": {},
   "outputs": [],
   "source": [
    "x[1].shape"
   ]
  },
  {
   "cell_type": "code",
   "execution_count": null,
   "metadata": {},
   "outputs": [],
   "source": [
    "print(model.predict(x[1]))\n"
   ]
  },
  {
   "cell_type": "code",
   "execution_count": null,
   "metadata": {},
   "outputs": [],
   "source": [
    "# Loop over test_set, analyse each file x amount of time\n",
    "\n",
    "for testfile in testset: \n",
    "    \n",
    "    \n",
    "    \n",
    "    \n",
    "    test_experiment = epodium_deep_learning.EvokedDataIterator([testfile], path_processed, n_experiments_batch = 8)\n",
    "\n",
    "    index = 16\n",
    "    x, y = test_experiment.__getitem__(0)\n",
    "    epodium.plot_array_as_evoked(x[index])\n",
    "    \n",
    "    print(model.predict(x[index]))\n",
    "\n",
    "\n",
    "    \n",
    "    break\n",
    "\n",
    "    # Load "
   ]
  },
  {
   "cell_type": "code",
   "execution_count": null,
   "metadata": {},
   "outputs": [],
   "source": [
    "len(x)"
   ]
  },
  {
   "cell_type": "code",
   "execution_count": null,
   "metadata": {},
   "outputs": [],
   "source": []
  },
  {
   "cell_type": "code",
   "execution_count": null,
   "metadata": {},
   "outputs": [],
   "source": []
  },
  {
   "cell_type": "code",
   "execution_count": null,
   "metadata": {},
   "outputs": [],
   "source": [
    "### OLD!\n",
    "\n",
    "\n",
    "\n",
    "#     label_sex = 'male' if y[index][0] else 'female'\n",
    "#     label_risk = 'risk' if y[index][1] else 'no risk'\n",
    "#     label_event = 'deviant' if y[index][2] else 'standard'\n",
    "\n",
    "#     print (f\"{int(y[index][0])}: {label_sex}, \\\n",
    "#          {int(y[index][1])}: {label_risk}, \\\n",
    "#          {int(y[index][2])}: {label_event}\")"
   ]
  }
 ],
 "metadata": {
  "interpreter": {
   "hash": "a5f6ecf0357e95e30953d0cf08844b8b26fdbdf1f780a6e218131c917612a57e"
  },
  "kernelspec": {
   "display_name": "Python 3 (ipykernel)",
   "language": "python",
   "name": "python3"
  },
  "language_info": {
   "codemirror_mode": {
    "name": "ipython",
    "version": 3
   },
   "file_extension": ".py",
   "mimetype": "text/x-python",
   "name": "python",
   "nbconvert_exporter": "python",
   "pygments_lexer": "ipython3",
   "version": "3.8.10"
  }
 },
 "nbformat": 4,
 "nbformat_minor": 4
}
