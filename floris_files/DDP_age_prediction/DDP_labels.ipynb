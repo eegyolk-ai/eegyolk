{
 "cells": [
  {
   "cell_type": "markdown",
   "metadata": {},
   "source": [
    "#### Create labels for Deep Learning on Dutch Dyslexia Program dataset\n",
    "\n",
    "Inspired by: https://github.com/epodium/EEG_age_prediction\n",
    "\n",
    "- Make excel file with age and reading skills for each participant"
   ]
  },
  {
   "cell_type": "markdown",
   "metadata": {},
   "source": [
    "#### Imports"
   ]
  },
  {
   "cell_type": "code",
   "execution_count": 1,
   "metadata": {},
   "outputs": [],
   "source": [
    "import os              \n",
    "import sys\n",
    "import numpy as np  \n",
    "import pandas as pd \n",
    "\n",
    "# PATH_MAIN = os.path.join(main_path, 'researchdrive', 'ePodium (Projectfolder)')\n",
    "# PATH_MAIN = os.path.join('D:', 'EEG Data', 'DDP Surfdrive')\n",
    "# PATH_METADATA = os.path.join(PATH_MAIN, 'metadata')\n",
    "# PATH_PROCESSED = os.path.join(PATH_MAIN, 'processed')"
   ]
  },
  {
   "cell_type": "markdown",
   "metadata": {},
   "source": [
    "#### Loop over all .cnt files in every age group folder\n",
    "- 5 months is excluded from analysis, since the data is too messy (see Bjorn's thesis)\n"
   ]
  },
  {
   "cell_type": "code",
   "execution_count": 2,
   "metadata": {},
   "outputs": [
    {
     "ename": "NameError",
     "evalue": "name 'PATH_MAIN' is not defined",
     "output_type": "error",
     "traceback": [
      "\u001b[0;31m---------------------------------------------------------------------------\u001b[0m",
      "\u001b[0;31mNameError\u001b[0m                                 Traceback (most recent call last)",
      "Input \u001b[0;32mIn [2]\u001b[0m, in \u001b[0;36m<cell line: 6>\u001b[0;34m()\u001b[0m\n\u001b[1;32m      8\u001b[0m path_list \u001b[38;5;241m=\u001b[39m []     \n\u001b[1;32m      9\u001b[0m file_list \u001b[38;5;241m=\u001b[39m []\n\u001b[0;32m---> 10\u001b[0m dir_path \u001b[38;5;241m=\u001b[39m os\u001b[38;5;241m.\u001b[39mpath\u001b[38;5;241m.\u001b[39mjoin(\u001b[43mPATH_MAIN\u001b[49m, directory)\n\u001b[1;32m     12\u001b[0m \u001b[38;5;28;01mfor\u001b[39;00m file \u001b[38;5;129;01min\u001b[39;00m os\u001b[38;5;241m.\u001b[39mlistdir(dir_path):\n\u001b[1;32m     13\u001b[0m     \u001b[38;5;28;01mif\u001b[39;00m file\u001b[38;5;241m.\u001b[39mendswith(\u001b[38;5;124m\"\u001b[39m\u001b[38;5;124m.cnt\u001b[39m\u001b[38;5;124m\"\u001b[39m):  \n",
      "\u001b[0;31mNameError\u001b[0m: name 'PATH_MAIN' is not defined"
     ]
    }
   ],
   "source": [
    "age_group_directories = {11: '11mnd mmn', 17: '17mnd mmn', 23: '23mnd mmn', 29: '29mnd mmn',\n",
    "                         35: '35mnd mmn', 41: '41mnd mmn', 47: '47mnd mmn'}\n",
    "\n",
    "df_list = []\n",
    "\n",
    "for age_group, directory in age_group_directories.items():\n",
    "    codes = []\n",
    "    path_list = []     \n",
    "    file_list = []\n",
    "    dir_path = os.path.join(PATH_MAIN, directory)\n",
    "\n",
    "    for file in os.listdir(dir_path):\n",
    "        if file.endswith(\".cnt\"):  \n",
    "            codes.append(int(file[0:3])) # First 3 numbers of file is participant code\n",
    "            path_list.append(os.path.join(dir_path, file))\n",
    "            file_list.append(file)\n",
    "    \n",
    "    df = pd.DataFrame({\"code\": codes, 'path': path_list, \"file\": file_list})\n",
    "    df['age_group'] = age_group\n",
    "    df_list.append(df)\n",
    "\n",
    "cnt_df = pd.concat(df_list)"
   ]
  },
  {
   "cell_type": "markdown",
   "metadata": {},
   "source": [
    "#### Get ages in days for each .cnt file from metadata .txt files"
   ]
  },
  {
   "cell_type": "code",
   "execution_count": 7,
   "metadata": {},
   "outputs": [],
   "source": [
    "age_files = {11: 'ages_11mnths.txt', 17: 'ages_17mnths.txt', 23: 'ages_23mnths.txt', 29: 'ages_29mnths.txt',\n",
    "             35: 'ages_35mnths.txt', 41: 'ages_41mnths.txt', 47: 'ages_47mnths.txt'}\n",
    "\n",
    "df_list = []\n",
    "\n",
    "for age_group, age_file in age_files.items():\n",
    "    df = pd.read_csv(os.path.join(PATH_METADATA, 'ages', age_file), sep=\"\\t\")\n",
    "    df['age_group'] = age_group\n",
    "    df_list.append(df)\n",
    "\n",
    "age_df = pd.concat(df_list)\n",
    "age_df = age_df.drop(columns=['age_months', 'age_years']) # age_days is sufficient\n",
    "merged_df = pd.merge(cnt_df, age_df, how='left', on=['age_group', 'code'])\n",
    "\n",
    " # Fill in missing data (approximately 30 days per month)\n",
    "merged_df['age_days'].fillna(merged_df['age_group']*30, inplace=True)"
   ]
  },
  {
   "cell_type": "markdown",
   "metadata": {},
   "source": [
    "##### Put into excel (.xlsx) file"
   ]
  },
  {
   "cell_type": "code",
   "execution_count": 9,
   "metadata": {},
   "outputs": [],
   "source": [
    "# merged_df.to_csv(os.path.join(PATH_MAIN, 'DDP_age_labels.csv'), index = False)\n",
    "merged_df.to_excel(os.path.join(PATH_MAIN, 'DDP_age_labels.xlsx'), index = True)"
   ]
  }
 ],
 "metadata": {
  "interpreter": {
   "hash": "a5f6ecf0357e95e30953d0cf08844b8b26fdbdf1f780a6e218131c917612a57e"
  },
  "kernelspec": {
   "display_name": "Python 3 (ipykernel)",
   "language": "python",
   "name": "python3"
  },
  "language_info": {
   "codemirror_mode": {
    "name": "ipython",
    "version": 3
   },
   "file_extension": ".py",
   "mimetype": "text/x-python",
   "name": "python",
   "nbconvert_exporter": "python",
   "pygments_lexer": "ipython3",
   "version": "3.8.10"
  }
 },
 "nbformat": 4,
 "nbformat_minor": 4
}
