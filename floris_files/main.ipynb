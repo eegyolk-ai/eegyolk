{
 "cells": [
  {
   "cell_type": "markdown",
   "metadata": {},
   "source": [
    "## Loading and visualizing EEG data for training of deep learning classification models\n",
    "\n",
    "+ Import Packages\n",
    "+ Loading EEG-data, events, metadata\n",
    "\n",
    "TODO:\n",
    "+ Prepare EEG (1. Subtract reference (mastoids), 2. Detrend, 3. Filter, 4. Remove bad channels)\n",
    "+ Segment EEG into standard and deviant epochs (ERPs) (1. subtract baseline, 2. Reject artefacts, 3. Average (for each marker/subject/channel separately))\n",
    "+ Calculate Mismatch response (deviant - standard for a single subject) (check differences between channels and subjects)\n",
    "+ Optional: Extract features (peak latency/peak amplitude/mean amplitude/...)\n",
    "+ Create fitting labels\n",
    "+ Optional: Make dummy data generator\n",
    "+ Input data into DL models\n",
    "+ Visualise results"
   ]
  },
  {
   "cell_type": "markdown",
   "metadata": {},
   "source": [
    "#### Import Packages"
   ]
  },
  {
   "cell_type": "code",
   "execution_count": 2,
   "metadata": {},
   "outputs": [],
   "source": [
    "import mne\n",
    "import pandas as pd\n",
    "import numpy as np\n",
    "import os\n",
    "import glob\n",
    "import copy\n",
    "import sys\n",
    "\n",
    "import PATH\n",
    "PATH.init()\n",
    "\n",
    "from functions import display_helper\n",
    "from functions import dataset_loading\n",
    "from functions import epodium"
   ]
  },
  {
   "cell_type": "markdown",
   "metadata": {},
   "source": [
    "#### Loading EEG-data and metadata"
   ]
  },
  {
   "cell_type": "code",
   "execution_count": 4,
   "metadata": {},
   "outputs": [
    {
     "name": "stdout",
     "output_type": "stream",
     "text": [
      "206 EEG files loaded\n"
     ]
    }
   ],
   "source": [
    "dataset_raw, dataset_filenames = dataset_loading.load_dataset(PATH.ePod_dataset, preload=False)\n",
    "\n",
    "epodium_metadata_filenames = [\"children.txt\", \"cdi.txt\", \"parents.txt\", \"CODES_overview.txt\"]  \n",
    "epod_children, epod_cdi, epod_parents, epod_codes = \\\n",
    "    dataset_loading.load_metadata(PATH.ePod_metadata, epodium_metadata_filenames)"
   ]
  },
  {
   "cell_type": "markdown",
   "metadata": {},
   "source": [
    "#### Show data fragment"
   ]
  },
  {
   "cell_type": "code",
   "execution_count": 5,
   "metadata": {},
   "outputs": [
    {
     "data": {
      "image/png": "[encoded data removed]",
      "text/plain": [
       "<Figure size 432x288 with 1 Axes>"
      ]
     },
     "metadata": {
      "needs_background": "light"
     },
     "output_type": "display_data"
    }
   ],
   "source": [
    "participant_index = 109\n",
    "channel_index = 4\n",
    "display_helper.show_raw_fragment(dataset_raw[participant_index], channel_index, 10,1)"
   ]
  },
  {
   "cell_type": "markdown",
   "metadata": {},
   "source": [
    "#### Prepare EEG \n",
    "+ Subtract reference (mastoids) \n",
    "+ Detrend \n",
    "+ Filter\n",
    "+ Remove bad channels)\n"
   ]
  },
  {
   "cell_type": "markdown",
   "metadata": {},
   "source": [
    "#### Segment EEG into standard and deviant epochs \n",
    "+ subtract baseline\n",
    "+ Reject artefacts\n",
    "+ Average to get ERPs (for each subject, event, and channel separately))"
   ]
  },
  {
   "cell_type": "markdown",
   "metadata": {},
   "source": [
    "#### Calculate Mismatch response \n",
    "Deviant minus (-) standard \n",
    "\n",
    "Check between subjects to see if the subjects have similar responses\n",
    "\n",
    "Check between channels to observe which parts of the brain are more influenced by the events\n"
   ]
  },
  {
   "cell_type": "markdown",
   "metadata": {},
   "source": [
    "#### Extract features \n",
    "+ peak latency\n",
    "+ peak amplitude\n",
    "+ mean amplitude\n"
   ]
  },
  {
   "cell_type": "markdown",
   "metadata": {},
   "source": [
    "#### Create fitting labels\n"
   ]
  },
  {
   "cell_type": "markdown",
   "metadata": {},
   "source": [
    "#### Input data into DL models\n",
    "\n",
    "+ Input data X has dimensions: (subjects, trials, samples, channels)\n",
    "+ Label data Y has dimensons: (subjects, trials, classes)"
   ]
  },
  {
   "cell_type": "markdown",
   "metadata": {},
   "source": [
    "#### Visualise results"
   ]
  }
 ],
 "metadata": {
  "interpreter": {
   "hash": "a5f6ecf0357e95e30953d0cf08844b8b26fdbdf1f780a6e218131c917612a57e"
  },
  "kernelspec": {
   "display_name": "Python 3 (ipykernel)",
   "language": "python",
   "name": "python3"
  },
  "language_info": {
   "codemirror_mode": {
    "name": "ipython",
    "version": 3
   },
   "file_extension": ".py",
   "mimetype": "text/x-python",
   "name": "python",
   "nbconvert_exporter": "python",
   "pygments_lexer": "ipython3",
   "version": "3.8.10"
  }
 },
 "nbformat": 4,
 "nbformat_minor": 4
}
