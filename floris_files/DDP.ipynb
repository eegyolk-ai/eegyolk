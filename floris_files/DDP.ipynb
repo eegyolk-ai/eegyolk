{
 "cells": [
  {
   "cell_type": "markdown",
   "id": "b4a31e74-9a7d-4c82-b6f3-81c119566cd7",
   "metadata": {},
   "source": [
    "## Explains, visualizes, and analyses the DDP dataset"
   ]
  },
  {
   "cell_type": "markdown",
   "id": "a7c2b385-edfd-4a55-b63c-64dbdb9d2c8d",
   "metadata": {},
   "source": [
    "#### Import Packages"
   ]
  },
  {
   "cell_type": "code",
   "execution_count": null,
   "id": "046f344e-a849-4e19-870d-817fc6fb4491",
   "metadata": {},
   "outputs": [],
   "source": [
    "import mne\n",
    "import pandas as pd\n",
    "import numpy as np\n",
    "import os\n",
    "import glob\n",
    "import copy\n",
    "import sys\n",
    "\n",
    "import PATH\n",
    "PATH.init()"
   ]
  },
  {
   "cell_type": "markdown",
   "id": "cb9cbffb-d899-4b22-96cf-cc4329af5a26",
   "metadata": {},
   "source": [
    "#### Loading EEG-data and metadata"
   ]
  },
  {
   "cell_type": "code",
   "execution_count": null,
   "id": "9d1bbf2b-2577-44d2-90cd-590b7ede33e4",
   "metadata": {},
   "outputs": [],
   "source": []
  },
  {
   "cell_type": "markdown",
   "id": "bfebed84-9dd5-4a80-89ad-b6ca00fb63ed",
   "metadata": {},
   "source": [
    "#### Load events\n"
   ]
  },
  {
   "cell_type": "code",
   "execution_count": null,
   "id": "d38dff51-ef06-49ab-8f06-2391c3ca2d1d",
   "metadata": {},
   "outputs": [],
   "source": []
  }
 ],
 "metadata": {
  "kernelspec": {
   "display_name": "Python 3 (ipykernel)",
   "language": "python",
   "name": "python3"
  },
  "language_info": {
   "codemirror_mode": {
    "name": "ipython",
    "version": 3
   },
   "file_extension": ".py",
   "mimetype": "text/x-python",
   "name": "python",
   "nbconvert_exporter": "python",
   "pygments_lexer": "ipython3",
   "version": "3.8.10"
  }
 },
 "nbformat": 4,
 "nbformat_minor": 5
}
