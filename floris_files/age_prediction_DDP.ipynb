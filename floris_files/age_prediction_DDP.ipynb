{
 "cells": [
  {
   "cell_type": "markdown",
   "metadata": {},
   "source": [
    "#### Deep Learning on Dutch Dyslexia Program dataset\n",
    "\n",
    "+ Load in the DDP dataset in corresponding age groups\n",
    "+ A model processes data and learns to predict the subject's age\n",
    "+ Use transformer model\n",
    "+ Plot loss and accuracy\n"
   ]
  },
  {
   "cell_type": "markdown",
   "metadata": {},
   "source": [
    "#### Imports"
   ]
  },
  {
   "cell_type": "code",
   "execution_count": 1,
   "metadata": {},
   "outputs": [],
   "source": [
    "import numpy as np   \n",
    "import os              \n",
    "import sys\n",
    "import tensorflow as tf\n",
    "import matplotlib.pyplot as plt\n",
    "\n",
    "main_path = os.path.dirname(os.getcwd())\n",
    "eegyolk_path = os.path.join(main_path, 'eegyolk')\n",
    "data_path = os.path.join(main_path, 'researchdrive', 'ePodium (Projectfolder)')\n",
    "\n",
    "sys.path.insert(0, eegyolk_path)\n",
    "from eegyolk import initialization_functions as ifun\n",
    "from eegyolk import dummy_data_functions as dummy\n",
    "from eegyolk import display_helper as disp\n",
    "\n",
    "from models.Transformer import TransformerModel\n",
    "from models.DNN import NN, DNN"
   ]
  },
  {
   "cell_type": "markdown",
   "metadata": {},
   "source": [
    "#### Load Dataset"
   ]
  },
  {
   "cell_type": "code",
   "execution_count": 7,
   "metadata": {},
   "outputs": [
    {
     "name": "stderr",
     "output_type": "stream",
     "text": [
      "c:\\Floris\\Python Folder\\Thesis Code\\ePodium\\eegyolk\\eegyolk\\initialization_functions.py:46: RuntimeWarning:   Could not parse meas date from the header. Setting to None.\n",
      "  raw = mne.io.read_raw_cnt(path,preload=preload)\n",
      "c:\\Floris\\Python Folder\\Thesis Code\\ePodium\\eegyolk\\eegyolk\\initialization_functions.py:46: RuntimeWarning: Could not define the number of bytes automatically. Defaulting to 2.\n",
      "  raw = mne.io.read_raw_cnt(path,preload=preload)\n",
      "c:\\Floris\\Python Folder\\Python 3.7\\VirtualEnvironments\\VENV\\lib\\site-packages\\mne\\io\\cnt\\cnt.py:243: RuntimeWarning: divide by zero encountered in long_scalars\n",
      "  n_samples = data_size // (n_bytes * n_channels)\n"
     ]
    },
    {
     "ename": "ValueError",
     "evalue": "not enough values to unpack (expected 2, got 0)",
     "output_type": "error",
     "traceback": [
      "\u001b[1;31m---------------------------------------------------------------------------\u001b[0m",
      "\u001b[1;31mValueError\u001b[0m                                Traceback (most recent call last)",
      "\u001b[1;32m~\\AppData\\Local\\Temp\\ipykernel_22432\\2616168588.py\u001b[0m in \u001b[0;36m<module>\u001b[1;34m\u001b[0m\n\u001b[0;32m      8\u001b[0m \u001b[1;33m\u001b[0m\u001b[0m\n\u001b[0;32m      9\u001b[0m \u001b[1;33m\u001b[0m\u001b[0m\n\u001b[1;32m---> 10\u001b[1;33m \u001b[0mepod_raw\u001b[0m\u001b[1;33m,\u001b[0m \u001b[0mepod_filenames\u001b[0m \u001b[1;33m=\u001b[0m \u001b[0mifun\u001b[0m\u001b[1;33m.\u001b[0m\u001b[0mload_dataset\u001b[0m\u001b[1;33m(\u001b[0m\u001b[0mos\u001b[0m\u001b[1;33m.\u001b[0m\u001b[0mpath\u001b[0m\u001b[1;33m.\u001b[0m\u001b[0mjoin\u001b[0m\u001b[1;33m(\u001b[0m\u001b[0mmain_folder_ddp_dataset\u001b[0m\u001b[1;33m,\u001b[0m \u001b[0mddp_age_folders\u001b[0m\u001b[1;33m[\u001b[0m\u001b[1;36m1\u001b[0m\u001b[1;33m]\u001b[0m\u001b[1;33m)\u001b[0m\u001b[1;33m,\u001b[0m \u001b[0mfile_extension\u001b[0m \u001b[1;33m=\u001b[0m \u001b[1;34m'.cnt'\u001b[0m\u001b[1;33m,\u001b[0m \u001b[0mpreload\u001b[0m\u001b[1;33m=\u001b[0m\u001b[1;32mFalse\u001b[0m\u001b[1;33m)\u001b[0m\u001b[1;33m\u001b[0m\u001b[1;33m\u001b[0m\u001b[0m\n\u001b[0m\u001b[0;32m     11\u001b[0m \u001b[1;31m# epod_raw_preload, epod_filenames_preload = ifun.load_dataset(folder_ddp_dataset, file_extension = '.cnt')\u001b[0m\u001b[1;33m\u001b[0m\u001b[1;33m\u001b[0m\u001b[1;33m\u001b[0m\u001b[0m\n",
      "\u001b[1;32mc:\\Floris\\Python Folder\\Thesis Code\\ePodium\\eegyolk\\eegyolk\\initialization_functions.py\u001b[0m in \u001b[0;36mload_dataset\u001b[1;34m(folder_dataset, file_extension, preload, max_files_preloaded)\u001b[0m\n\u001b[0;32m     44\u001b[0m \u001b[1;33m\u001b[0m\u001b[0m\n\u001b[0;32m     45\u001b[0m         \u001b[1;32mif\u001b[0m\u001b[1;33m(\u001b[0m\u001b[0mfile_extension\u001b[0m \u001b[1;33m==\u001b[0m \u001b[1;34m'.cnt'\u001b[0m\u001b[1;33m)\u001b[0m\u001b[1;33m:\u001b[0m\u001b[1;33m\u001b[0m\u001b[1;33m\u001b[0m\u001b[0m\n\u001b[1;32m---> 46\u001b[1;33m             \u001b[0mraw\u001b[0m \u001b[1;33m=\u001b[0m \u001b[0mmne\u001b[0m\u001b[1;33m.\u001b[0m\u001b[0mio\u001b[0m\u001b[1;33m.\u001b[0m\u001b[0mread_raw_cnt\u001b[0m\u001b[1;33m(\u001b[0m\u001b[0mpath\u001b[0m\u001b[1;33m,\u001b[0m\u001b[0mpreload\u001b[0m\u001b[1;33m=\u001b[0m\u001b[0mpreload\u001b[0m\u001b[1;33m)\u001b[0m\u001b[1;33m\u001b[0m\u001b[1;33m\u001b[0m\u001b[0m\n\u001b[0m\u001b[0;32m     47\u001b[0m \u001b[1;33m\u001b[0m\u001b[0m\n\u001b[0;32m     48\u001b[0m         \u001b[0meeg_dataset\u001b[0m\u001b[1;33m.\u001b[0m\u001b[0mappend\u001b[0m\u001b[1;33m(\u001b[0m\u001b[0mraw\u001b[0m\u001b[1;33m)\u001b[0m\u001b[1;33m\u001b[0m\u001b[1;33m\u001b[0m\u001b[0m\n",
      "\u001b[1;32mc:\\Floris\\Python Folder\\Python 3.7\\VirtualEnvironments\\VENV\\lib\\site-packages\\mne\\io\\cnt\\cnt.py\u001b[0m in \u001b[0;36mread_raw_cnt\u001b[1;34m(input_fname, eog, misc, ecg, emg, data_format, date_format, preload, verbose)\u001b[0m\n\u001b[0;32m    163\u001b[0m     return RawCNT(input_fname, eog=eog, misc=misc, ecg=ecg,\n\u001b[0;32m    164\u001b[0m                   \u001b[0memg\u001b[0m\u001b[1;33m=\u001b[0m\u001b[0memg\u001b[0m\u001b[1;33m,\u001b[0m \u001b[0mdata_format\u001b[0m\u001b[1;33m=\u001b[0m\u001b[0mdata_format\u001b[0m\u001b[1;33m,\u001b[0m \u001b[0mdate_format\u001b[0m\u001b[1;33m=\u001b[0m\u001b[0mdate_format\u001b[0m\u001b[1;33m,\u001b[0m\u001b[1;33m\u001b[0m\u001b[1;33m\u001b[0m\u001b[0m\n\u001b[1;32m--> 165\u001b[1;33m                   preload=preload, verbose=verbose)\n\u001b[0m\u001b[0;32m    166\u001b[0m \u001b[1;33m\u001b[0m\u001b[0m\n\u001b[0;32m    167\u001b[0m \u001b[1;33m\u001b[0m\u001b[0m\n",
      "\u001b[1;32mc:\\Floris\\Python Folder\\Python 3.7\\VirtualEnvironments\\VENV\\lib\\site-packages\\mne\\io\\cnt\\cnt.py\u001b[0m in \u001b[0;36m__init__\u001b[1;34m(self, input_fname, eog, misc, ecg, emg, data_format, date_format, preload, verbose)\u001b[0m\n\u001b[0;32m    387\u001b[0m         \u001b[0minput_fname\u001b[0m \u001b[1;33m=\u001b[0m \u001b[0mpath\u001b[0m\u001b[1;33m.\u001b[0m\u001b[0mabspath\u001b[0m\u001b[1;33m(\u001b[0m\u001b[0minput_fname\u001b[0m\u001b[1;33m)\u001b[0m\u001b[1;33m\u001b[0m\u001b[1;33m\u001b[0m\u001b[0m\n\u001b[0;32m    388\u001b[0m         info, cnt_info = _get_cnt_info(input_fname, eog, ecg, emg, misc,\n\u001b[1;32m--> 389\u001b[1;33m                                        data_format, _date_format)\n\u001b[0m\u001b[0;32m    390\u001b[0m         \u001b[0mlast_samps\u001b[0m \u001b[1;33m=\u001b[0m \u001b[1;33m[\u001b[0m\u001b[0mcnt_info\u001b[0m\u001b[1;33m[\u001b[0m\u001b[1;34m'n_samples'\u001b[0m\u001b[1;33m]\u001b[0m \u001b[1;33m-\u001b[0m \u001b[1;36m1\u001b[0m\u001b[1;33m]\u001b[0m\u001b[1;33m\u001b[0m\u001b[1;33m\u001b[0m\u001b[0m\n\u001b[0;32m    391\u001b[0m         super(RawCNT, self).__init__(\n",
      "\u001b[1;32mc:\\Floris\\Python Folder\\Python 3.7\\VirtualEnvironments\\VENV\\lib\\site-packages\\mne\\io\\cnt\\cnt.py\u001b[0m in \u001b[0;36m_get_cnt_info\u001b[1;34m(input_fname, eog, ecg, emg, misc, data_format, date_format)\u001b[0m\n\u001b[0;32m    299\u001b[0m     eegs = [idx for idx, ch in enumerate(chs) if\n\u001b[0;32m    300\u001b[0m             ch['coil_type'] == FIFF.FIFFV_COIL_EEG]\n\u001b[1;32m--> 301\u001b[1;33m     \u001b[0mcoords\u001b[0m \u001b[1;33m=\u001b[0m \u001b[0m_topo_to_sphere\u001b[0m\u001b[1;33m(\u001b[0m\u001b[0mpos\u001b[0m\u001b[1;33m,\u001b[0m \u001b[0meegs\u001b[0m\u001b[1;33m)\u001b[0m\u001b[1;33m\u001b[0m\u001b[1;33m\u001b[0m\u001b[0m\n\u001b[0m\u001b[0;32m    302\u001b[0m     \u001b[0mlocs\u001b[0m \u001b[1;33m=\u001b[0m \u001b[0mnp\u001b[0m\u001b[1;33m.\u001b[0m\u001b[0mfull\u001b[0m\u001b[1;33m(\u001b[0m\u001b[1;33m(\u001b[0m\u001b[0mlen\u001b[0m\u001b[1;33m(\u001b[0m\u001b[0mchs\u001b[0m\u001b[1;33m)\u001b[0m\u001b[1;33m,\u001b[0m \u001b[1;36m12\u001b[0m\u001b[1;33m)\u001b[0m\u001b[1;33m,\u001b[0m \u001b[0mnp\u001b[0m\u001b[1;33m.\u001b[0m\u001b[0mnan\u001b[0m\u001b[1;33m)\u001b[0m\u001b[1;33m\u001b[0m\u001b[1;33m\u001b[0m\u001b[0m\n\u001b[0;32m    303\u001b[0m     \u001b[0mlocs\u001b[0m\u001b[1;33m[\u001b[0m\u001b[1;33m:\u001b[0m\u001b[1;33m,\u001b[0m \u001b[1;33m:\u001b[0m\u001b[1;36m3\u001b[0m\u001b[1;33m]\u001b[0m \u001b[1;33m=\u001b[0m \u001b[0mcoords\u001b[0m\u001b[1;33m\u001b[0m\u001b[1;33m\u001b[0m\u001b[0m\n",
      "\u001b[1;32mc:\\Floris\\Python Folder\\Python 3.7\\VirtualEnvironments\\VENV\\lib\\site-packages\\mne\\channels\\layout.py\u001b[0m in \u001b[0;36m_topo_to_sphere\u001b[1;34m(pos, eegs)\u001b[0m\n\u001b[0;32m    755\u001b[0m         \u001b[0mxyz\u001b[0m\u001b[1;33m-\u001b[0m\u001b[0mcoordinates\u001b[0m\u001b[1;33m.\u001b[0m\u001b[1;33m\u001b[0m\u001b[1;33m\u001b[0m\u001b[0m\n\u001b[0;32m    756\u001b[0m     \"\"\"\n\u001b[1;32m--> 757\u001b[1;33m     \u001b[0mxs\u001b[0m\u001b[1;33m,\u001b[0m \u001b[0mys\u001b[0m \u001b[1;33m=\u001b[0m \u001b[0mnp\u001b[0m\u001b[1;33m.\u001b[0m\u001b[0marray\u001b[0m\u001b[1;33m(\u001b[0m\u001b[0mpos\u001b[0m\u001b[1;33m)\u001b[0m\u001b[1;33m.\u001b[0m\u001b[0mT\u001b[0m\u001b[1;33m\u001b[0m\u001b[1;33m\u001b[0m\u001b[0m\n\u001b[0m\u001b[0;32m    758\u001b[0m \u001b[1;33m\u001b[0m\u001b[0m\n\u001b[0;32m    759\u001b[0m     \u001b[0msqs\u001b[0m \u001b[1;33m=\u001b[0m \u001b[0mnp\u001b[0m\u001b[1;33m.\u001b[0m\u001b[0mmax\u001b[0m\u001b[1;33m(\u001b[0m\u001b[0mnp\u001b[0m\u001b[1;33m.\u001b[0m\u001b[0msqrt\u001b[0m\u001b[1;33m(\u001b[0m\u001b[1;33m(\u001b[0m\u001b[0mxs\u001b[0m\u001b[1;33m[\u001b[0m\u001b[0meegs\u001b[0m\u001b[1;33m]\u001b[0m \u001b[1;33m**\u001b[0m \u001b[1;36m2\u001b[0m\u001b[1;33m)\u001b[0m \u001b[1;33m+\u001b[0m \u001b[1;33m(\u001b[0m\u001b[0mys\u001b[0m\u001b[1;33m[\u001b[0m\u001b[0meegs\u001b[0m\u001b[1;33m]\u001b[0m \u001b[1;33m**\u001b[0m \u001b[1;36m2\u001b[0m\u001b[1;33m)\u001b[0m\u001b[1;33m)\u001b[0m\u001b[1;33m)\u001b[0m\u001b[1;33m\u001b[0m\u001b[1;33m\u001b[0m\u001b[0m\n",
      "\u001b[1;31mValueError\u001b[0m: not enough values to unpack (expected 2, got 0)"
     ]
    }
   ],
   "source": [
    "# folder_ddp_dataset = os.path.join(data_path, \"DDP Dataset\") # folder in Surf research drive\n",
    "main_folder_ddp_dataset = os.path.join(\"D:\", \"EEG Data\", \"DDP Surfdrive\") # local folder\n",
    "\n",
    "ddp_age_folders = ['5mnd mmn', '11mnd mmn', '17mnd mmn', '23mnd mmn',\n",
    "                    '29mnd mmn', '35mnd mmn', '41mnd mmn', '47mnd mmn']\n",
    "\n",
    "# ddp_age_folders[0] and ddp_age_folders[5] work, others give error:\n",
    "\n",
    "\n",
    "epod_raw, epod_filenames = ifun.load_dataset(os.path.join(main_folder_ddp_dataset, ddp_age_folders[1]), file_extension = '.cnt', preload=False)\n",
    "# epod_raw_preload, epod_filenames_preload = ifun.load_dataset(folder_ddp_dataset, file_extension = '.cnt')\n"
   ]
  },
  {
   "cell_type": "markdown",
   "metadata": {},
   "source": [
    "#### Initialise and Compile Models\n",
    "\n",
    "+ Fully connected feedforward Neural Network (NN) \n",
    "+ Transformer model (https://github.com/SuperBruceJia/EEG-DL/blob/master/Models/main-Transformer.py)\n"
   ]
  },
  {
   "cell_type": "code",
   "execution_count": 2,
   "metadata": {},
   "outputs": [],
   "source": [
    "simpleModel = NN()\n",
    "transformerModel = TransformerModel()\n",
    "\n",
    "simpleModel.compile(optimizer=tf.keras.optimizers.Adam(learning_rate=1e-4),\n",
    "              loss=tf.keras.losses.BinaryCrossentropy())\n",
    "transformerModel.compile(optimizer=tf.keras.optimizers.Adam(learning_rate=1e-4),\n",
    "              loss=tf.keras.losses.BinaryCrossentropy(),\n",
    "              metrics=[tf.keras.metrics.Precision(), tf.keras.metrics.BinaryAccuracy(), tf.keras.metrics.Recall()])"
   ]
  },
  {
   "cell_type": "markdown",
   "metadata": {},
   "source": [
    "#### Training loop:"
   ]
  },
  {
   "cell_type": "code",
   "execution_count": 3,
   "metadata": {},
   "outputs": [],
   "source": [
    "model = transformerModel      # simpleModel , transformerModel\n",
    "\n",
    "# X, Y = dummy.create_labeled_dataset(1000, [\"planck\", \"constant\"])\n",
    "\n",
    "# history = model.fit(np.array(X), Y, validation_split=0.33, \n",
    "#                 epochs=20, batch_size=50, verbose=0)\n"
   ]
  },
  {
   "cell_type": "markdown",
   "metadata": {},
   "source": [
    "#### Plot Loss \n",
    "(Test loss is lower since it has no dropout)"
   ]
  },
  {
   "cell_type": "code",
   "execution_count": 8,
   "metadata": {},
   "outputs": [],
   "source": [
    "# plt.plot(history.history['loss'])\n",
    "# plt.plot(history.history['val_loss'])\n",
    "# disp.show_plot(title = \"model loss\", xlabel = \"epoch\", ylabel = \"loss\", legend = ['train', 'test'])"
   ]
  },
  {
   "cell_type": "markdown",
   "metadata": {},
   "source": [
    "TODO:\n",
    "+ make todo list"
   ]
  }
 ],
 "metadata": {
  "interpreter": {
   "hash": "a5f6ecf0357e95e30953d0cf08844b8b26fdbdf1f780a6e218131c917612a57e"
  },
  "kernelspec": {
   "display_name": "Python 3.7.9 ('VENV')",
   "language": "python",
   "name": "python3"
  },
  "language_info": {
   "codemirror_mode": {
    "name": "ipython",
    "version": 3
   },
   "file_extension": ".py",
   "mimetype": "text/x-python",
   "name": "python",
   "nbconvert_exporter": "python",
   "pygments_lexer": "ipython3",
   "version": "3.7.9"
  },
  "orig_nbformat": 4
 },
 "nbformat": 4,
 "nbformat_minor": 2
}
