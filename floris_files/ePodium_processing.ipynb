{
 "cells": [
  {
   "cell_type": "markdown",
   "metadata": {},
   "source": [
    "## Processing raw EEG data\n",
    "\n",
    "+ Prepare EEG \n",
    "1. Drop unused channels\n",
    "2. Subtract reference (mastoids)\n",
    "3. Detrend \n",
    "4. Filter\n",
    "5. Remove bad channels\n",
    "\n",
    "+ Segment EEG into standard and deviant epochs (ERPs)\n",
    "1. subtract baseline\n",
    "2. Reject artefacts\n",
    "3. Average to get evoked (for each marker/subject/channel separately)\n",
    "\n",
    "+ Calculate Mismatch response \n",
    "1. deviant - standard for a single subject, for example GiepST_D - GiepST_S\n",
    "2. check differences between channels and subjects"
   ]
  },
  {
   "cell_type": "markdown",
   "metadata": {},
   "source": [
    "#### Import Packages "
   ]
  },
  {
   "cell_type": "code",
   "execution_count": 1,
   "metadata": {},
   "outputs": [],
   "source": [
    "import os\n",
    "import mne\n",
    "import numpy as np\n",
    "import pandas as pd\n",
    "import matplotlib.pyplot as plt\n",
    "from autoreject import AutoReject # https://autoreject.github.io/stable/index.html\n",
    "from multiprocessing import Pool\n",
    "\n",
    "import PATH\n",
    "\n",
    "from functions import dataset_loading\n",
    "from functions import epodium"
   ]
  },
  {
   "cell_type": "markdown",
   "metadata": {},
   "source": [
    "#### Process ePodium dataset"
   ]
  },
  {
   "cell_type": "code",
   "execution_count": null,
   "metadata": {},
   "outputs": [
    {
     "name": "stdout",
     "output_type": "stream",
     "text": [
      "File 105a.bdf already processed \n",
      "File 116b.bdf already processed \n",
      "File 110b.bdf already processed \n",
      "File 124a.bdf already processed \n",
      "File 118b.bdf already processed \n",
      "File 105b.bdf already processed \n",
      "File 112a.bdf already processed \n",
      "File 125b.bdf already processed \n",
      "File 112b.bdf already processed \n",
      "File 117b.bdf already processed \n",
      "File 107a.bdf already processed \n",
      "File 127a.bdf already processed \n",
      "File 111a.bdf already processed \n",
      "File 106a.bdf already processed \n",
      "File 118a.bdf already processed \n",
      "File 125a.bdf already processed \n",
      "File 106b.bdf already processed \n",
      "File 119a.bdf already processed \n",
      "File 120b.bdf already processed \n",
      "File 114a.bdf already processed \n",
      "File 109b.bdf already processed \n",
      "File 127b.bdf already processed \n",
      "File 114b.bdf already processed \n",
      "File 123b.bdf already processed \n",
      "File 120a.bdf already processed \n",
      "File 109a.bdf already processed \n",
      "File 115a.bdf already processed \n",
      "File 123a.bdf already processed \n",
      "File 126a.bdf already processed \n",
      "File 122b.bdf already processed \n",
      "File 108a.bdf already processed \n",
      "File 115b.bdf already processed \n",
      "File 128b.bdf already processed \n",
      "File 117a.bdf already processed \n",
      "File 110a.bdf already processed \n",
      "File 122a.bdf already processed \n",
      "File 130a.bdf already processed \n",
      "File 111b.bdf already processed \n",
      "File 119b.bdf already processed \n",
      "File 128a.bdf already processed \n",
      "File 126b.bdf already processed \n",
      "File 116a.bdf already processed \n",
      "File 130b.bdf already processed \n",
      "Processing file: 135b.bdf  \n",
      "Processing file: 142a.bdf  \n",
      "File 129a.bdf already processed \n",
      "File 131a.bdf already processed \n",
      "File 129b.bdf already processed \n",
      "File 132b.bdf already processed \n",
      "Processing file: 152a.bdf  \n",
      "File 131b.bdf already processed \n",
      "Processing file: 134a.bdf  \n",
      "Not all events in file 152a.bdf \n",
      "File 149a.bdf already processed \n",
      "File 151b.bdf already processed \n",
      "Processing file: 151a.bdf  \n",
      "Not all events in file 134a.bdf \n",
      "Processing file: 133b.bdf  \n",
      "Not all events in file 151a.bdf \n",
      "File 154a.bdf already processed \n",
      "File 153b.bdf already processed \n",
      "File 155b.bdf already processed \n",
      "File 153a.bdf already processed \n",
      "File 155a.bdf already processed \n",
      "File 157a.bdf already processed \n",
      "File 156b.bdf already processed \n",
      "File 154b.bdf already processed \n",
      "File 168a.bdf already processed \n",
      "Processing file: 157b.bdf  \n",
      "Running autoreject on ch_type=eeg\n",
      "Running autoreject on ch_type=eeg\n",
      "Processing file: 171a.bdf  \n"
     ]
    },
    {
     "data": {
      "application/vnd.jupyter.widget-view+json": {
       "model_id": "87fc53b991b54332bcaf3d12d2d98c5a",
       "version_major": 2,
       "version_minor": 0
      },
      "text/plain": [
       "  0%|          | Creating augmented epochs : 0/32 [00:00<?,       ?it/s]"
      ]
     },
     "metadata": {},
     "output_type": "display_data"
    },
    {
     "data": {
      "application/vnd.jupyter.widget-view+json": {
       "model_id": "f2ca6df71c814e4ebbd93ba685616bd1",
       "version_major": 2,
       "version_minor": 0
      },
      "text/plain": [
       "  0%|          | Creating augmented epochs : 0/32 [00:00<?,       ?it/s]"
      ]
     },
     "metadata": {},
     "output_type": "display_data"
    },
    {
     "name": "stdout",
     "output_type": "stream",
     "text": [
      "Processing file: 171b.bdf  \n",
      "File 193b.bdf already processed \n",
      "File 220a.bdf already processed \n",
      "File 101a.bdf already processed \n",
      "File 219a.bdf already processed \n",
      "File 101b.bdf already processed \n",
      "File 218a.bdf already processed \n",
      "File 102b.bdf already processed \n",
      "File 103a.bdf already processed \n",
      "File 102a.bdf already processed \n",
      "File 103b.bdf already processed \n",
      "File 104a.bdf already processed \n",
      "File 104b.bdf already processed \n",
      "Running autoreject on ch_type=eeg\n"
     ]
    },
    {
     "data": {
      "application/vnd.jupyter.widget-view+json": {
       "model_id": "cacc2f03a90e49b3b374a06613760557",
       "version_major": 2,
       "version_minor": 0
      },
      "text/plain": [
       "  0%|          | Creating augmented epochs : 0/32 [00:00<?,       ?it/s]"
      ]
     },
     "metadata": {},
     "output_type": "display_data"
    },
    {
     "name": "stdout",
     "output_type": "stream",
     "text": [
      "Running autoreject on ch_type=eeg\n"
     ]
    },
    {
     "data": {
      "application/vnd.jupyter.widget-view+json": {
       "model_id": "ba4a1964d068416295069b4c065ce3ee",
       "version_major": 2,
       "version_minor": 0
      },
      "text/plain": [
       "  0%|          | Creating augmented epochs : 0/32 [00:00<?,       ?it/s]"
      ]
     },
     "metadata": {},
     "output_type": "display_data"
    },
    {
     "data": {
      "application/vnd.jupyter.widget-view+json": {
       "model_id": "dafce942b42645e3b1e0ad3b59ff072a",
       "version_major": 2,
       "version_minor": 0
      },
      "text/plain": [
       "  0%|          | Computing thresholds ... : 0/32 [00:00<?,       ?it/s]"
      ]
     },
     "metadata": {},
     "output_type": "display_data"
    },
    {
     "name": "stdout",
     "output_type": "stream",
     "text": [
      "Running autoreject on ch_type=eeg\n"
     ]
    },
    {
     "data": {
      "application/vnd.jupyter.widget-view+json": {
       "model_id": "d064d110433e4005b3a64b33a52bf6da",
       "version_major": 2,
       "version_minor": 0
      },
      "text/plain": [
       "  0%|          | Creating augmented epochs : 0/32 [00:00<?,       ?it/s]"
      ]
     },
     "metadata": {},
     "output_type": "display_data"
    },
    {
     "data": {
      "application/vnd.jupyter.widget-view+json": {
       "model_id": "330579e659fe409f820ef0e4cf2282ef",
       "version_major": 2,
       "version_minor": 0
      },
      "text/plain": [
       "  0%|          | Computing thresholds ... : 0/32 [00:00<?,       ?it/s]"
      ]
     },
     "metadata": {},
     "output_type": "display_data"
    },
    {
     "name": "stdout",
     "output_type": "stream",
     "text": [
      "Running autoreject on ch_type=eeg\n",
      "Processing file: 160b.bdf  \n"
     ]
    },
    {
     "data": {
      "application/vnd.jupyter.widget-view+json": {
       "model_id": "d2991a766dc646f693243e5b733c8bcb",
       "version_major": 2,
       "version_minor": 0
      },
      "text/plain": [
       "  0%|          | Creating augmented epochs : 0/32 [00:00<?,       ?it/s]"
      ]
     },
     "metadata": {},
     "output_type": "display_data"
    },
    {
     "data": {
      "application/vnd.jupyter.widget-view+json": {
       "model_id": "9d6eaaa0cfae4b6abb0769dadc50d20a",
       "version_major": 2,
       "version_minor": 0
      },
      "text/plain": [
       "  0%|          | Computing thresholds ... : 0/32 [00:00<?,       ?it/s]"
      ]
     },
     "metadata": {},
     "output_type": "display_data"
    },
    {
     "name": "stdout",
     "output_type": "stream",
     "text": [
      "Processing file: 173b.bdf  \n"
     ]
    },
    {
     "data": {
      "application/vnd.jupyter.widget-view+json": {
       "model_id": "21d60a9a330a4bc4a821371d2ae44b85",
       "version_major": 2,
       "version_minor": 0
      },
      "text/plain": [
       "  0%|          | Computing thresholds ... : 0/32 [00:00<?,       ?it/s]"
      ]
     },
     "metadata": {},
     "output_type": "display_data"
    },
    {
     "data": {
      "application/vnd.jupyter.widget-view+json": {
       "model_id": "629597bf441a4713af37e97997a15e4d",
       "version_major": 2,
       "version_minor": 0
      },
      "text/plain": [
       "  0%|          | Computing thresholds ... : 0/32 [00:00<?,       ?it/s]"
      ]
     },
     "metadata": {},
     "output_type": "display_data"
    },
    {
     "name": "stdout",
     "output_type": "stream",
     "text": [
      "Running autoreject on ch_type=eeg\n"
     ]
    },
    {
     "data": {
      "application/vnd.jupyter.widget-view+json": {
       "model_id": "ed8419ba6efb47c78f2cc50e1a19c82c",
       "version_major": 2,
       "version_minor": 0
      },
      "text/plain": [
       "  0%|          | Creating augmented epochs : 0/32 [00:00<?,       ?it/s]"
      ]
     },
     "metadata": {},
     "output_type": "display_data"
    },
    {
     "name": "stdout",
     "output_type": "stream",
     "text": [
      "Running autoreject on ch_type=eeg\n"
     ]
    },
    {
     "data": {
      "application/vnd.jupyter.widget-view+json": {
       "model_id": "85d3186900fe4bc9929692e0912d4833",
       "version_major": 2,
       "version_minor": 0
      },
      "text/plain": [
       "  0%|          | Computing thresholds ... : 0/32 [00:00<?,       ?it/s]"
      ]
     },
     "metadata": {},
     "output_type": "display_data"
    },
    {
     "data": {
      "application/vnd.jupyter.widget-view+json": {
       "model_id": "46be57ea122e4afba0f00422e93a80f3",
       "version_major": 2,
       "version_minor": 0
      },
      "text/plain": [
       "  0%|          | Creating augmented epochs : 0/32 [00:00<?,       ?it/s]"
      ]
     },
     "metadata": {},
     "output_type": "display_data"
    },
    {
     "data": {
      "application/vnd.jupyter.widget-view+json": {
       "model_id": "cb3cdbaed4eb4a9cb75f0aedead98e67",
       "version_major": 2,
       "version_minor": 0
      },
      "text/plain": [
       "  0%|          | Computing thresholds ... : 0/32 [00:00<?,       ?it/s]"
      ]
     },
     "metadata": {},
     "output_type": "display_data"
    }
   ],
   "source": [
    "\n",
    "\n",
    "skip_files = [\"107b (deel 1+2).bdf\", \"107b (deel 3+4).bdf\", \n",
    "              \"121a.bdf\", \"121b(1).bdf\", \"121b(2).bdf\",\n",
    "             \"113a.bdf\", \"113b.bdf\", \"132a.bdf\"] # 160a (2).bdf   160a.bdf\n",
    "#  \"145b.bdf\"\n",
    "\n",
    "# for each file in directory\n",
    "#for file in os.listdir(PATH.ePod_dataset):\n",
    "    \n",
    "    \n",
    "def process_file(file):    \n",
    "    path = os.path.join(PATH.ePod_dataset, file)\n",
    "    filename, extension = os.path.splitext(file)  \n",
    "    \n",
    "    if extension =='.bdf':\n",
    "        path_processed = os.path.join(PATH.ePod_processed_autoreject, filename + \".npy\")\n",
    "        path_events = os.path.join(PATH.ePod_processed_autoreject, 'events', filename + \".txt\")\n",
    "        \n",
    "        if os.path.exists(path_processed) and os.path.exists(path_events):\n",
    "            print(f\"File {file} already processed \\n\", end = '')\n",
    "            return\n",
    "        if file in skip_files: \n",
    "            return\n",
    "            \n",
    "        print(f\"Processing file: {file}  \\n\" , end = '')        \n",
    "        raw = mne.io.read_raw_bdf(path, preload = True, verbose = False)\n",
    "        events = mne.find_events(raw, verbose = False)\n",
    "        events_12 = epodium.group_events_12(events)\n",
    "        \n",
    "        # Set electrodes\n",
    "        raw.pick_channels(epodium.channel_names)\n",
    "        montage = mne.channels.make_standard_montage('standard_1020') \n",
    "        raw.info.set_montage(montage, on_missing = 'ignore')\n",
    "        \n",
    "        # High-pass filter for detrending\n",
    "        raw.filter(0.1, None, verbose = False)\n",
    "        # Create epochs from raw\n",
    "        try:\n",
    "            epochs = mne.Epochs(raw, events_12, epodium.event_dictionary, -0.2, 0.8, preload = True, verbose = False)\n",
    "        except:\n",
    "            print(f\"Not all events in file {file} \\n\", end = '')\n",
    "            return\n",
    "        # Low pass filter for high-frequency artifacts\n",
    "        epochs.filter(None, 40, verbose = False)\n",
    "        \n",
    "        # Reject bad trials and repair bad sensors in EEG\n",
    "        ar = AutoReject()\n",
    "        epochs_clean = ar.fit_transform(epochs)  \n",
    "        \n",
    "        # Save data and events\n",
    "        np.save(path_processed, epochs_clean.get_data())        \n",
    "        np.savetxt(path_events, epochs_clean.events, fmt='%i')\n",
    "\n",
    "# Multiprocessing\n",
    "pool = Pool(processes = 4)\n",
    "pool.map(process_file, os.listdir(PATH.ePod_dataset))\n"
   ]
  },
  {
   "cell_type": "markdown",
   "metadata": {},
   "source": [
    "# OLD:"
   ]
  },
  {
   "cell_type": "markdown",
   "metadata": {},
   "source": [
    "#### Analyse mismatch response \n",
    "\n",
    "Deviant minus standard ERP\n",
    "+ Check between subjects to see if the subjects have similar responses\n",
    "+ Check between channels to observe which parts of the brain are more influenced by the events\n"
   ]
  },
  {
   "cell_type": "markdown",
   "metadata": {},
   "source": [
    "#### Extract features \n",
    "+ peak latency\n",
    "+ peak amplitude\n",
    "+ mean amplitude\n"
   ]
  },
  {
   "cell_type": "markdown",
   "metadata": {},
   "source": [
    "#### Create labels\n"
   ]
  },
  {
   "cell_type": "markdown",
   "metadata": {},
   "source": [
    "#### Input data into DL models"
   ]
  },
  {
   "cell_type": "markdown",
   "metadata": {},
   "source": [
    "#### Visualise results"
   ]
  }
 ],
 "metadata": {
  "interpreter": {
   "hash": "a5f6ecf0357e95e30953d0cf08844b8b26fdbdf1f780a6e218131c917612a57e"
  },
  "kernelspec": {
   "display_name": "Python 3 (ipykernel)",
   "language": "python",
   "name": "python3"
  },
  "language_info": {
   "codemirror_mode": {
    "name": "ipython",
    "version": 3
   },
   "file_extension": ".py",
   "mimetype": "text/x-python",
   "name": "python",
   "nbconvert_exporter": "python",
   "pygments_lexer": "ipython3",
   "version": "3.8.10"
  }
 },
 "nbformat": 4,
 "nbformat_minor": 4
}
