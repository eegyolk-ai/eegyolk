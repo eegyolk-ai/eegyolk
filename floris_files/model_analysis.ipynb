{
 "cells": [
  {
   "cell_type": "markdown",
   "metadata": {},
   "source": [
    "# Deep Learning Model Analysis\n",
    "\n",
    "This notebook contains three sections which analyse the data and models trained in the *model_training.ipynb* notebook:\n",
    "\n",
    "+ In section [1. Load data and model](#1ma) the data and trained model of the ePodium and the DDP dataset are loaded.\n",
    "+ In section [2. Make predictions on test set](#2ma) the loaded model is used to make predictions on the test set. \n",
    "+ In section [3. Show results](#3ma) the loss of the test set is calculated and the predictions are plotted in a scatterplot."
   ]
  },
  {
   "cell_type": "markdown",
   "metadata": {},
   "source": [
    "#### Import Packages\n",
    "Note: This notebook may output tensorflow errors if cuda is not properly installed. The notebook still functions with these errors."
   ]
  },
  {
   "cell_type": "code",
   "execution_count": 1,
   "metadata": {},
   "outputs": [
    {
     "name": "stderr",
     "output_type": "stream",
     "text": [
      "2022-11-10 00:31:20.513484: W tensorflow/stream_executor/platform/default/dso_loader.cc:64] Could not load dynamic library 'libcudart.so.11.0'; dlerror: libcudart.so.11.0: cannot open shared object file: No such file or directory\n",
      "2022-11-10 00:31:20.513528: I tensorflow/stream_executor/cuda/cudart_stub.cc:29] Ignore above cudart dlerror if you do not have a GPU set up on your machine.\n"
     ]
    }
   ],
   "source": [
    "import numpy as np\n",
    "import os\n",
    "import glob\n",
    "import matplotlib.pyplot as plt\n",
    "import ipywidgets\n",
    "import tensorflow as tf\n",
    "from IPython.display import clear_output\n",
    "\n",
    "# Local\n",
    "import local_paths\n",
    "from functions import epodium, display_helper, processing\n",
    "from functions.epodium import Epodium\n",
    "from functions.ddp import DDP\n",
    "from functions.sequences import EpodiumSequence, DDPSequence\n",
    "\n",
    "# Models\n",
    "from models.dl_4_tsc import encoder_model, fully_convolutional_model, resnet_model\n",
    "from models.eeg_dl import transformer_model"
   ]
  },
  {
   "cell_type": "markdown",
   "metadata": {},
   "source": [
    "\n",
    "---\n",
    "<br>\n",
    "\n",
    "<a id=\"1ma\"></a>\n",
    "### 1. Load data and model\n",
    "\n",
    "Choose the DDP or ePodium dataset to make predictions on:"
   ]
  },
  {
   "cell_type": "code",
   "execution_count": 2,
   "metadata": {},
   "outputs": [
    {
     "data": {
      "application/vnd.jupyter.widget-view+json": {
       "model_id": "ffdb9fbf37634368a5abd010a2c8cb78",
       "version_major": 2,
       "version_minor": 0
      },
      "text/plain": [
       "HBox(children=(RadioButtons(description='Dataset:', options=('ddp', 'epodium'), value='ddp'),))"
      ]
     },
     "metadata": {},
     "output_type": "display_data"
    },
    {
     "data": {
      "application/vnd.jupyter.widget-view+json": {
       "model_id": "3d66e1413b13404dafa07ebb102d1417",
       "version_major": 2,
       "version_minor": 0
      },
      "text/plain": [
       "Output()"
      ]
     },
     "metadata": {},
     "output_type": "display_data"
    }
   ],
   "source": [
    "def choose_dataset(dataset_name):\n",
    "    global labels, dataset\n",
    "    if dataset_name == \"epodium\":\n",
    "        dataset = Epodium()\n",
    "        labels = dataset.create_labels(local_paths.ePod_metadata)\n",
    "    elif dataset_name == \"ddp\":\n",
    "        dataset = DDP()\n",
    "        directory_age_metadata = os.path.join(local_paths.DDP_metadata, \"ages\")\n",
    "        labels = dataset.create_labels(local_paths.DDP_dataset, directory_age_metadata)\n",
    "\n",
    "    print(f\"Using dataset: {dataset_name}.\")\n",
    "\n",
    "# Widget settings\n",
    "w_dataset_name = ipywidgets.RadioButtons(description='Dataset:', options=[\"ddp\", \"epodium\"], value=\"ddp\")\n",
    "ui = ipywidgets.HBox([w_dataset_name])\n",
    "out = ipywidgets.interactive_output(choose_dataset, {'dataset_name': w_dataset_name})\n",
    "display(ui, out)"
   ]
  },
  {
   "cell_type": "markdown",
   "metadata": {},
   "source": [
    "### Load a trained model\n",
    "Choose from the trained models in the _local_paths.models_ folder."
   ]
  },
  {
   "cell_type": "code",
   "execution_count": 55,
   "metadata": {},
   "outputs": [
    {
     "data": {
      "application/vnd.jupyter.widget-view+json": {
       "model_id": "79ce63f6e49045a0ae33717597f0ef9c",
       "version_major": 2,
       "version_minor": 0
      },
      "text/plain": [
       "RadioButtons(description='Models:', options=('ddp_encoder_age_1', 'ddp_encoder_age_2', 'ddp_encoder_age_3', 'd…"
      ]
     },
     "metadata": {},
     "output_type": "display_data"
    },
    {
     "data": {
      "application/vnd.jupyter.widget-view+json": {
       "model_id": "7487bbb925a943fa90f0bde5c4d12677",
       "version_major": 2,
       "version_minor": 0
      },
      "text/plain": [
       "Output()"
      ]
     },
     "metadata": {},
     "output_type": "display_data"
    }
   ],
   "source": [
    "# Required plot setting:\n",
    "%matplotlib inline \n",
    "\n",
    "# history = []\n",
    "                                       \n",
    "def load_model(trained_model):\n",
    "    try:\n",
    "        base_path = os.path.join(local_paths.models, trained_model)\n",
    "    except:\n",
    "        print(\"No models found.\")\n",
    "        return\n",
    "    path_history = os.path.join(base_path, \"history.npy\")\n",
    "    path_model = os.path.join(base_path, \"model\")\n",
    "    path_testset = os.path.join(base_path, \"subsets\", \"test_set.txt\")\n",
    "    path_weights = os.path.join(base_path, \"weights.h5\")\n",
    "    \n",
    "    global model\n",
    "    global testset\n",
    "    global history\n",
    "\n",
    "    # Load Model\n",
    "    if(os.path.exists(path_model)):\n",
    "        print(f\"\\nLoading Model: '{w_model_name.value}'.\")\n",
    "\n",
    "        # Loads the entire model from a folder:\n",
    "        model = tf.keras.models.load_model(path_model)\n",
    "        model.load_weights(path_weights)\n",
    "        # Reads the test-set of the trained model and puts the experiment names into a list:\n",
    "        testset = open(path_testset, \"r\").read().split()\n",
    "        # Loads the training history dictionary:\n",
    "        history = np.load(path_history, allow_pickle=True).item()        \n",
    "\n",
    "        # Show Loss of Training History\n",
    "        print(f\"\\nThe lowest validation loss is: {round(min(history['val_loss']), 3)} at epoch {np.argmin(history['val_loss'])}\\n\")\n",
    "        if \"age\" in trained_model:\n",
    "            xlim, ylim = [0,100], [0,150000]\n",
    "        if \"dyslexia\" in trained_model:\n",
    "            xlim, ylim = [0,100], [0,0.1]\n",
    "        display_helper.show_plot(x=range(len(history['loss'])), \n",
    "                                 y=[history['loss'], history['val_loss']], \n",
    "                                 legend=[\"loss\",\"validation loss\"], \n",
    "                                 xlabel=\"epochs\", ylabel=\"validation loss (MSE)\", \n",
    "                                 title=f\"Loss during training ({trained_model})\",\n",
    "                                 xlim=xlim, ylim=ylim)\n",
    "\n",
    "    else: \n",
    "        print(\"The model is untrained.\")\n",
    "\n",
    "# Find all models in 'local_paths.models' \n",
    "all_trained_models = sorted(f for f in os.listdir(os.path.join(local_paths.models)) if not \".\" in f)\n",
    "# models_dataset = [m for m in all_trained_models if w_dataset_name.value in m] \n",
    "\n",
    "\n",
    "# Widget for selecting the trained models\n",
    "w_model_name = ipywidgets.RadioButtons(options=all_trained_models, description='Models:')\n",
    "display(w_model_name)\n",
    "out = ipywidgets.interactive_output(load_model, {'trained_model': w_model_name})\n",
    "display(out)"
   ]
  },
  {
   "cell_type": "markdown",
   "metadata": {
    "tags": []
   },
   "source": [
    "<br>\n",
    "\n",
    "<a id='2ma'></a>\n",
    "### 2. Make predictions on test set\n",
    "\n",
    "The predictions are made by predicting the label of multiple ERPs generated from the same experiment. Each ERP is different, since a random subset of the total number of epochs is used for creating the ERPs.\n",
    "\n",
    "+ *n_passthroughs* is the number of predictions made from the same experiment. A higher number takes longer to process but is more accurate."
   ]
  },
  {
   "cell_type": "code",
   "execution_count": null,
   "metadata": {},
   "outputs": [
    {
     "name": "stdout",
     "output_type": "stream",
     "text": [
      "111/186 predicted.\n"
     ]
    }
   ],
   "source": [
    "n_passthroughs = 10\n",
    "\n",
    "results = []\n",
    "\n",
    "# Transfer learning, get entire ePodium dataset as testset:\n",
    "if w_dataset_name.value  == \"epodium\" and \"ddp\" in w_model_name.value:\n",
    "    testset = processing.valid_experiments(dataset, local_paths.ePod_epochs_events, min_standards=180, min_deviants=80)\n",
    "\n",
    "# For each experiment in the test-set\n",
    "for i, experiment in enumerate(testset):\n",
    "    # Set up relevant sequence (each experiment gets its own sequence)\n",
    "    if w_dataset_name.value == \"ddp\":\n",
    "        test_sequence = DDPSequence([experiment], labels, local_paths.DDP_epochs, batch_size=1, n_instances_per_experiment=n_passthroughs, n_trials_averaged=60, mismatch_negativity=True)\n",
    "    elif w_dataset_name.value  == \"epodium\":        \n",
    "        if  \"ddp\" in w_model_name.value:\n",
    "            epochs_directory = os.path.join(local_paths.ePod, \"epochs_fif_500Hz_26ch\")\n",
    "            test_sequence = EpodiumSequence([experiment], labels, epochs_directory, \n",
    "                                            batch_size=n_passthroughs, label='age',\n",
    "                                            n_trials_averaged=30)\n",
    "        else:\n",
    "            test_sequence = EpodiumSequence([experiment], labels, local_paths.ePod_epochs,\n",
    "                                            batch_size=n_passthroughs, label='dyslexia', \n",
    "                                            n_trials_averaged=15, input_type=\"MMR\") \n",
    "\n",
    "    # Get experiment\n",
    "    x, y = test_sequence.__getitem__(0)\n",
    "    \n",
    "    # Make a prediction with the model.\n",
    "    real_pred = [y[0], np.squeeze(model.predict(x, verbose=0)).mean()]\n",
    "    results.append(real_pred)\n",
    "    \n",
    "    print(f\"{i+1}/{len(testset)} predicted.\")\n",
    "    clear_output(wait=True)\n",
    "    \n",
    "results = np.array(results)"
   ]
  },
  {
   "cell_type": "markdown",
   "metadata": {},
   "source": [
    "#### Load and Save model predictions\n",
    "\n",
    "*results* is a 2D numpy array that contains the real and predicted values of the samples in *results[0]* and *results[1]*."
   ]
  },
  {
   "cell_type": "code",
   "execution_count": 162,
   "metadata": {},
   "outputs": [
    {
     "name": "stdout",
     "output_type": "stream",
     "text": [
      "Results loaded from: /home/fpauwels/eegyolk/floris_files/models/trained_models/ddp_encoder_age_no_std/predictions_age_epodium.txt\n"
     ]
    }
   ],
   "source": [
    "predictions_path = os.path.join(local_paths.models, w_model_name.value, \"predictions_age_\"+w_dataset_name.value+\".txt\")\n",
    "\n",
    "if os.path.exists(predictions_path):\n",
    "    results = np.loadtxt(predictions_path)\n",
    "    print(f\"Results loaded from: {predictions_path}\")\n",
    "elif len(results) == len(testset):\n",
    "    np.savetxt(predictions_path, results)\n",
    "    print(f\"Results saved to: {predictions_path}\")\n",
    "else:\n",
    "    print(f\"Could not save or load from {predictions_path}\")"
   ]
  },
  {
   "cell_type": "markdown",
   "metadata": {},
   "source": [
    "<br>\n",
    "\n",
    "<a id='3ma'></a>\n",
    "### 3. Show results"
   ]
  },
  {
   "cell_type": "markdown",
   "metadata": {},
   "source": [
    "#### Calculate test loss\n",
    "\n",
    "The *Root Mean Square Error* (RMSE) is used to compare the different models"
   ]
  },
  {
   "cell_type": "code",
   "execution_count": 17,
   "metadata": {},
   "outputs": [
    {
     "data": {
      "text/plain": [
       "163.7749498710399"
      ]
     },
     "execution_count": 17,
     "metadata": {},
     "output_type": "execute_result"
    }
   ],
   "source": [
    "error = np.diff(results)\n",
    "squared_error = np.square(error)\n",
    "mean_squared_error = np.average(squared_error)\n",
    "root_mean_squared_error = np.sqrt(mean_squared_error)\n",
    "root_mean_squared_error"
   ]
  },
  {
   "cell_type": "markdown",
   "metadata": {},
   "source": [
    "The *Mean Absolute Error* (MAE) is used to compare the different models"
   ]
  },
  {
   "cell_type": "code",
   "execution_count": 18,
   "metadata": {},
   "outputs": [
    {
     "data": {
      "text/plain": [
       "148.07261871009746"
      ]
     },
     "execution_count": 18,
     "metadata": {},
     "output_type": "execute_result"
    }
   ],
   "source": [
    "absolute_error = np.absolute(error)\n",
    "mean_absolute_error = np.average(absolute_error)\n",
    "mean_absolute_error"
   ]
  },
  {
   "cell_type": "markdown",
   "metadata": {},
   "source": [
    "#### Scatterplot results ages "
   ]
  },
  {
   "cell_type": "code",
   "execution_count": null,
   "metadata": {},
   "outputs": [],
   "source": [
    "# Optional: color of dots depend on estimated amount of noise in data\n",
    "testset = processing.valid_experiments(dataset, local_paths.ePod_epochs_events, min_standards=180, min_deviants=80)\n",
    "\n",
    "standard_id = [2, 5, 8, 11]\n",
    "list_n_standards = []\n",
    "\n",
    "for experiment in testset:\n",
    "    events_path = os.path.join(local_paths.ePod_epochs_events, experiment + '_events.txt')\n",
    "    events = np.loadtxt(events_path, dtype=int)\n",
    "    \n",
    "    n_standards = 0    \n",
    "    for i in range(4):\n",
    "        n_standards += np.count_nonzero(events == standard_id[i])\n",
    "    list_n_standards.append(n_standards)\n",
    "color = (np.array(list_n_standards) - 800) / (max(list_n_standards) - 800)"
   ]
  },
  {
   "cell_type": "code",
   "execution_count": 161,
   "metadata": {},
   "outputs": [
    {
     "name": "stdout",
     "output_type": "stream",
     "text": [
      "[0.57336957 0.6576087  0.55570652 0.86820652 0.7173913  0.75951087\n",
      " 0.86956522 0.85869565 0.86956522 0.85733696 0.81929348 0.86277174\n",
      " 0.78940217 0.70516304 0.83695652 0.84375    0.83559783 0.63586957\n",
      " 0.86956522 0.86820652 0.86277174 0.65217391 0.86684783 0.85461957\n",
      " 0.77853261 0.77038043 0.86413043 0.86005435 0.70923913 0.83831522\n",
      " 0.82065217 0.78804348 0.80842391 0.85190217 0.86820652 0.86820652\n",
      " 0.61277174 0.86956522 0.80570652 0.81657609 0.80027174 0.75271739\n",
      " 0.86956522 0.86956522 0.61684783 0.49728261 0.5326087  0.86820652\n",
      " 0.74320652 0.81929348 0.86684783 0.86684783 0.86956522 0.86956522\n",
      " 0.79755435 0.71875    0.76222826 0.83559783 0.80706522 0.86820652\n",
      " 0.86956522 0.86548913 0.76902174 0.74728261 0.66711957 0.45244565\n",
      " 0.82336957 0.85054348 0.78532609 0.80842391 0.84375    0.86956522\n",
      " 0.85733696 0.86956522 0.86820652 0.86956522 0.77581522 0.63179348\n",
      " 0.83152174 0.69701087 0.86956522 0.58288043 0.85326087 0.7513587\n",
      " 0.53532609 0.79076087 0.86956522 0.93342391 0.8111413  0.83559783\n",
      " 0.86141304 0.86820652 0.77717391 0.86820652 0.80842391 0.60054348\n",
      " 0.84375    0.6888587  0.74048913 0.86956522 0.84918478 0.85733696\n",
      " 0.8125     0.86820652 0.86956522 0.63994565 0.85461957 0.73233696\n",
      " 0.79755435 0.76222826 0.53668478 0.81657609 0.53532609 0.6236413\n",
      " 0.86820652 0.86005435 0.86956522 0.6861413  0.86005435 0.84103261\n",
      " 0.79076087 0.79211957 0.85054348 0.4701087  0.54619565 0.8451087\n",
      " 0.86956522 0.86413043 0.81793478 0.71059783 0.85190217 0.5951087\n",
      " 0.82472826 0.86005435 0.74592391 0.86141304 0.86956522 0.93206522\n",
      " 0.55027174 0.42527174 0.84918478 0.82880435 0.66168478 0.66168478\n",
      " 0.83423913 0.875      0.83695652 0.83695652 0.86820652 0.69021739\n",
      " 0.84375    0.64266304 0.78125    0.84103261 1.         0.72961957\n",
      " 0.86956522 0.86956522 0.73505435 0.7826087  0.86684783 0.78532609\n",
      " 0.59103261 0.8125     0.80298913 0.65896739 0.86956522 0.82336957\n",
      " 0.76222826 0.86684783 0.7201087  0.67798913 0.86956522 0.85869565\n",
      " 0.82472826 0.86820652 0.86141304 0.8423913  0.8423913  0.52309783\n",
      " 0.86956522 0.4076087  0.83152174 0.41576087 0.69021739 0.85733696]\n"
     ]
    },
    {
     "data": {
      "image/png": "[encoded data removed]",
      "text/plain": [
       "<Figure size 432x288 with 1 Axes>"
      ]
     },
     "metadata": {
      "needs_background": "light"
     },
     "output_type": "display_data"
    },
    {
     "name": "stdout",
     "output_type": "stream",
     "text": [
      "The correlation coefficient is: 0.232\n"
     ]
    }
   ],
   "source": [
    "# Calculate color (testset)\n",
    "\n",
    "model_info = w_model_name.value.split(\"_\")\n",
    "\n",
    "ages_real = np.array(results)[:,0]/30\n",
    "ages_predicted = np.array(results)[:,1]/30\n",
    "\n",
    "display_helper.show_plot(ages_real, \n",
    "                         ages_predicted, \n",
    "                         f\"Age prediction ({model_info[0]} {model_info[1]} on ePod)\", \n",
    "                         \"Actual age (months)\",\n",
    "                         \"Predicted age (months)\",\n",
    "                         scatter=True,\n",
    "                         scatter_color=color\n",
    "                         show=False)\n",
    "plt.grid()\n",
    "\n",
    "if w_dataset_name.value == \"ddp\":\n",
    "    x, y = 5, 50\n",
    "elif w_dataset_name.value  == \"epodium\":\n",
    "    x, y = 15, 27\n",
    "\n",
    "# Line where predicted=actual:\n",
    "plt.plot([x, y], [x, y]) \n",
    "\n",
    "m, c = np.polyfit(ages_real, ages_predicted, 1)\n",
    "plt.plot([x, y], [x*m+c, y*m+c]) \n",
    "plt.show()\n",
    "\n",
    "print(f\"The correlation coefficient is: {round(np.corrcoef(ages_real, ages_predicted)[0, 1], 3)}\" )"
   ]
  },
  {
   "cell_type": "markdown",
   "metadata": {},
   "source": [
    "#### Scatterplot results risk of dyslexia "
   ]
  },
  {
   "cell_type": "code",
   "execution_count": 128,
   "metadata": {},
   "outputs": [
    {
     "data": {
      "image/png": "[encoded data removed]",
      "text/plain": [
       "<Figure size 432x288 with 1 Axes>"
      ]
     },
     "metadata": {
      "needs_background": "light"
     },
     "output_type": "display_data"
    }
   ],
   "source": [
    "model_info = w_model_name.value.split(\"_\")\n",
    "\n",
    "risk_real = np.array(results)[:,0]\n",
    "risk_predicted = np.array(results)[:,1]\n",
    "\n",
    "display_helper.show_plot(risk_real, \n",
    "                         risk_predicted, \n",
    "                         f\"Parents score's from MMN ({model_info[0]} {model_info[1]})\", \n",
    "                         \"Actual score\",\n",
    "                         \"Predicted score\",\n",
    "                         scatter=True,\n",
    "                         show=False)\n",
    "x, y = 0.3, 1\n",
    "plt.plot([x, y], [x, y]) \n",
    "\n",
    "m, c = np.polyfit(risk_real, risk_predicted, 1)\n",
    "plt.plot([x, y], [x*m+c, y*m+c]) \n",
    "plt.show()"
   ]
  },
  {
   "cell_type": "code",
   "execution_count": 28,
   "metadata": {},
   "outputs": [],
   "source": [
    "import glob\n",
    "import mne\n",
    "# Save dataset in different dimension (sampling_rate, channels)\n",
    "sample_rate=501\n",
    "channels=dataset.channels_epod_ddp\n",
    "\n",
    "# Loop over each epochs_fif file\n",
    "experiment_paths = glob.glob(os.path.join(local_paths.ePod_epochs, '*.fif'))\n",
    "for experiment_path in experiment_paths:\n",
    "    path_epochs_ddp_dims = os.path.join(local_paths.ePod, \"epochs_fif_500Hz_26ch\", experiment + \"_epo.fif\")\n",
    "    if os.path.exists(path_epochs_ddp_dims):\n",
    "        continue\n",
    "        \n",
    "    filename_events = os.path.basename(experiment_path)\n",
    "    experiment = filename_events.split((\"_epo.fif\"))[0]\n",
    "    \n",
    "    # Load and modify epochs\n",
    "    print(f\"Modifying experiment {experiment}\")\n",
    "    path_epochs = os.path.join(local_paths.ePod_epochs, experiment + \"_epo.fif\")\n",
    "    epochs = mne.read_epochs(path_epochs, verbose=0)\n",
    "    epochs.pick_channels(dataset.channels_epod_ddp)\n",
    "    epochs.resample(sample_rate)\n",
    "    \n",
    "    # Save epochs with new dimensions\n",
    "    epochs.save(path_epochs_ddp_dims)   "
   ]
  },
  {
   "cell_type": "code",
   "execution_count": null,
   "metadata": {},
   "outputs": [],
   "source": [
    "# Tool to calculate mean score\n",
    "array = np.array(labels[\"Dyslexia_score\"])-0.68\n",
    "square = np.square(array)\n",
    "np.average(square)\n"
   ]
  },
  {
   "cell_type": "code",
   "execution_count": 53,
   "metadata": {},
   "outputs": [
    {
     "data": {
      "text/plain": [
       "<function matplotlib.pyplot.show(close=None, block=None)>"
      ]
     },
     "execution_count": 53,
     "metadata": {},
     "output_type": "execute_result"
    },
    {
     "data": {
      "image/png": "[encoded data removed]",
      "text/plain": [
       "<Figure size 432x288 with 1 Axes>"
      ]
     },
     "metadata": {
      "needs_background": "light"
     },
     "output_type": "display_data"
    }
   ],
   "source": [
    "plt.hist(labels[\"Dyslexia_score\"], bins=20)\n",
    "plt.title('Parents\\' normalized average scores on EMT, Klepel, and VC tests')\n",
    "plt.xlabel('Score')\n",
    "#plt.ylabel('')\n",
    "plt.show\n"
   ]
  },
  {
   "cell_type": "code",
   "execution_count": 62,
   "metadata": {},
   "outputs": [
    {
     "data": {
      "text/plain": [
       "'229a'"
      ]
     },
     "execution_count": 62,
     "metadata": {},
     "output_type": "execute_result"
    }
   ],
   "source": [
    "predictions_path = os.path.join(local_paths.models, \"clean_epod_experiments.txt\")\n",
    "np.savetxt(predictions_path, np.array(testset), fmt='%s')"
   ]
  },
  {
   "cell_type": "code",
   "execution_count": 145,
   "metadata": {},
   "outputs": [
    {
     "name": "stdout",
     "output_type": "stream",
     "text": [
      "Analyzed: 248 bad: 62\n",
      "186 experiments have enough epochs for analysis.\n"
     ]
    }
   ],
   "source": []
  },
  {
   "cell_type": "code",
   "execution_count": 131,
   "metadata": {},
   "outputs": [],
   "source": [
    "color=color-0.5"
   ]
  },
  {
   "cell_type": "code",
   "execution_count": 146,
   "metadata": {},
   "outputs": [
    {
     "data": {
      "text/plain": [
       "array([0.57336957, 0.6576087 , 0.55570652, 0.86820652, 0.7173913 ,\n",
       "       0.75951087, 0.86956522, 0.85869565, 0.86956522, 0.85733696,\n",
       "       0.81929348, 0.86277174, 0.78940217, 0.70516304, 0.83695652,\n",
       "       0.84375   , 0.83559783, 0.63586957, 0.86956522, 0.86820652,\n",
       "       0.86277174, 0.65217391, 0.86684783, 0.85461957, 0.77853261,\n",
       "       0.77038043, 0.86413043, 0.86005435, 0.70923913, 0.83831522,\n",
       "       0.82065217, 0.78804348, 0.80842391, 0.85190217, 0.86820652,\n",
       "       0.86820652, 0.61277174, 0.86956522, 0.80570652, 0.81657609,\n",
       "       0.80027174, 0.75271739, 0.86956522, 0.86956522, 0.61684783,\n",
       "       0.49728261, 0.5326087 , 0.86820652, 0.74320652, 0.81929348,\n",
       "       0.86684783, 0.86684783, 0.86956522, 0.86956522, 0.79755435,\n",
       "       0.71875   , 0.76222826, 0.83559783, 0.80706522, 0.86820652,\n",
       "       0.86956522, 0.86548913, 0.76902174, 0.74728261, 0.66711957,\n",
       "       0.45244565, 0.82336957, 0.85054348, 0.78532609, 0.80842391,\n",
       "       0.84375   , 0.86956522, 0.85733696, 0.86956522, 0.86820652,\n",
       "       0.86956522, 0.77581522, 0.63179348, 0.83152174, 0.69701087,\n",
       "       0.86956522, 0.58288043, 0.85326087, 0.7513587 , 0.53532609,\n",
       "       0.79076087, 0.86956522, 0.93342391, 0.8111413 , 0.83559783,\n",
       "       0.86141304, 0.86820652, 0.77717391, 0.86820652, 0.80842391,\n",
       "       0.60054348, 0.84375   , 0.6888587 , 0.74048913, 0.86956522,\n",
       "       0.84918478, 0.85733696, 0.8125    , 0.86820652, 0.86956522,\n",
       "       0.63994565, 0.85461957, 0.73233696, 0.79755435, 0.76222826,\n",
       "       0.53668478, 0.81657609, 0.53532609, 0.6236413 , 0.86820652,\n",
       "       0.86005435, 0.86956522, 0.6861413 , 0.86005435, 0.84103261,\n",
       "       0.79076087, 0.79211957, 0.85054348, 0.4701087 , 0.54619565,\n",
       "       0.8451087 , 0.86956522, 0.86413043, 0.81793478, 0.71059783,\n",
       "       0.85190217, 0.5951087 , 0.82472826, 0.86005435, 0.74592391,\n",
       "       0.86141304, 0.86956522, 0.93206522, 0.55027174, 0.42527174,\n",
       "       0.84918478, 0.82880435, 0.66168478, 0.66168478, 0.83423913,\n",
       "       0.875     , 0.83695652, 0.83695652, 0.86820652, 0.69021739,\n",
       "       0.84375   , 0.64266304, 0.78125   , 0.84103261, 1.        ,\n",
       "       0.72961957, 0.86956522, 0.86956522, 0.73505435, 0.7826087 ,\n",
       "       0.86684783, 0.78532609, 0.59103261, 0.8125    , 0.80298913,\n",
       "       0.65896739, 0.86956522, 0.82336957, 0.76222826, 0.86684783,\n",
       "       0.7201087 , 0.67798913, 0.86956522, 0.85869565, 0.82472826,\n",
       "       0.86820652, 0.86141304, 0.8423913 , 0.8423913 , 0.52309783,\n",
       "       0.86956522, 0.4076087 , 0.83152174, 0.41576087, 0.69021739,\n",
       "       0.85733696])"
      ]
     },
     "execution_count": 146,
     "metadata": {},
     "output_type": "execute_result"
    }
   ],
   "source": [
    "color"
   ]
  },
  {
   "cell_type": "code",
   "execution_count": null,
   "metadata": {},
   "outputs": [],
   "source": []
  }
 ],
 "metadata": {
  "interpreter": {
   "hash": "a5f6ecf0357e95e30953d0cf08844b8b26fdbdf1f780a6e218131c917612a57e"
  },
  "kernelspec": {
   "display_name": "Python 3 (ipykernel)",
   "language": "python",
   "name": "python3"
  },
  "language_info": {
   "codemirror_mode": {
    "name": "ipython",
    "version": 3
   },
   "file_extension": ".py",
   "mimetype": "text/x-python",
   "name": "python",
   "nbconvert_exporter": "python",
   "pygments_lexer": "ipython3",
   "version": "3.8.10"
  }
 },
 "nbformat": 4,
 "nbformat_minor": 4
}
