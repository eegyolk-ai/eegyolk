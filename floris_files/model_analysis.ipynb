{
 "cells": [
  {
   "cell_type": "markdown",
   "metadata": {},
   "source": [
    "# Deep Learning Model Analysis\n",
    "\n",
    "This notebook contains two sections which analyse the data and models trained in the *model_training.ipynb* notebook:\n",
    "\n",
    "+ In section [1. Load data and model](#1ma) the data and trained model of the ePodium and the DDP dataset are loaded.\n",
    "+ In section [2. Make predictions on test set](#2ma) the loaded model is used to make predictions on the test set. The loss of the test set is calculated and the predictions are plotted in a scatterplot."
   ]
  },
  {
   "cell_type": "markdown",
   "metadata": {},
   "source": [
    "#### Import Packages\n",
    "Note: This notebook may output tensorflow errors if cuda is not properly installed. The notebook still functions with these errors."
   ]
  },
  {
   "cell_type": "code",
   "execution_count": 1,
   "metadata": {},
   "outputs": [
    {
     "name": "stderr",
     "output_type": "stream",
     "text": [
      "2022-11-04 20:40:42.273884: W tensorflow/stream_executor/platform/default/dso_loader.cc:64] Could not load dynamic library 'libcudart.so.11.0'; dlerror: libcudart.so.11.0: cannot open shared object file: No such file or directory\n",
      "2022-11-04 20:40:42.273925: I tensorflow/stream_executor/cuda/cudart_stub.cc:29] Ignore above cudart dlerror if you do not have a GPU set up on your machine.\n"
     ]
    }
   ],
   "source": [
    "import numpy as np\n",
    "import os\n",
    "import matplotlib.pyplot as plt\n",
    "import ipywidgets\n",
    "import tensorflow as tf\n",
    "from IPython.display import clear_output\n",
    "\n",
    "# Local\n",
    "import local_paths\n",
    "from functions import epodium, display_helper\n",
    "from functions.epodium import Epodium\n",
    "from functions.ddp import DDP\n",
    "from functions.sequences import EpodiumSequence, DDPSequence\n",
    "\n",
    "# Models\n",
    "from models.dl_4_tsc import encoder_model, fully_convolutional_model, resnet_model\n",
    "from models.eeg_dl import transformer_model"
   ]
  },
  {
   "cell_type": "markdown",
   "metadata": {},
   "source": [
    "\n",
    "---\n",
    "<br>\n",
    "\n",
    "<a id=\"1ma\"></a>\n",
    "## 1. Load data and model\n",
    "\n",
    "####  Choose the DDP or ePodium dataset"
   ]
  },
  {
   "cell_type": "code",
   "execution_count": 2,
   "metadata": {},
   "outputs": [
    {
     "data": {
      "application/vnd.jupyter.widget-view+json": {
       "model_id": "85626b4c6180448d9ef38406a77773ae",
       "version_major": 2,
       "version_minor": 0
      },
      "text/plain": [
       "HBox(children=(RadioButtons(description='Dataset:', options=('ddp', 'epodium'), value='ddp'),))"
      ]
     },
     "metadata": {},
     "output_type": "display_data"
    },
    {
     "data": {
      "application/vnd.jupyter.widget-view+json": {
       "model_id": "9bbbe1cf88954755be61a72f7305198e",
       "version_major": 2,
       "version_minor": 0
      },
      "text/plain": [
       "Output()"
      ]
     },
     "metadata": {},
     "output_type": "display_data"
    }
   ],
   "source": [
    "def choose_dataset(dataset_name):\n",
    "    global epochs_directory, labels, dataset\n",
    "    if dataset_name == \"epodium\":\n",
    "        dataset = Epodium()\n",
    "        epochs_directory = local_paths.ePod_epochs\n",
    "        labels = dataset.create_labels(local_paths.ePod_metadata)\n",
    "    elif dataset_name == \"ddp\":\n",
    "        dataset = DDP()\n",
    "        epochs_directory = local_paths.DDP_epochs\n",
    "        directory_age_metadata = os.path.join(local_paths.DDP_metadata, \"ages\")\n",
    "        labels = dataset.create_labels(local_paths.DDP_dataset, directory_age_metadata)\n",
    "\n",
    "    print(f\"Using dataset: {dataset_name}.\")\n",
    "\n",
    "# Widget settings\n",
    "dataset_name = ipywidgets.RadioButtons(description='Dataset:', options=[\"ddp\", \"epodium\"], value=\"ddp\")\n",
    "ui = ipywidgets.HBox([dataset_name])\n",
    "out = ipywidgets.interactive_output(choose_dataset, {'dataset_name': dataset_name})\n",
    "display(ui, out)"
   ]
  },
  {
   "cell_type": "markdown",
   "metadata": {},
   "source": [
    "### Load a trained model\n",
    "Choose from the trained models in the _local_paths.models_ folder."
   ]
  },
  {
   "cell_type": "code",
   "execution_count": 3,
   "metadata": {},
   "outputs": [
    {
     "data": {
      "application/vnd.jupyter.widget-view+json": {
       "model_id": "3d61987a5dab41eb8621ceb8ee4aa14a",
       "version_major": 2,
       "version_minor": 0
      },
      "text/plain": [
       "RadioButtons(description='Models:', options=('ddp_encoder_age_1', 'ddp_encoder_age_2', 'ddp_encoder_age_3', 'd…"
      ]
     },
     "metadata": {},
     "output_type": "display_data"
    },
    {
     "data": {
      "application/vnd.jupyter.widget-view+json": {
       "model_id": "7446ca03c86c496587ac97347991f01c",
       "version_major": 2,
       "version_minor": 0
      },
      "text/plain": [
       "Output()"
      ]
     },
     "metadata": {},
     "output_type": "display_data"
    }
   ],
   "source": [
    "# Required plot setting:\n",
    "%matplotlib inline \n",
    "\n",
    "# history = []\n",
    "                                       \n",
    "def load_model(trained_model):\n",
    "    try:\n",
    "        base_path = os.path.join(local_paths.models, trained_model)\n",
    "    except:\n",
    "        print(\"No models found.\")\n",
    "        return\n",
    "    path_history = os.path.join(base_path, \"history.npy\")\n",
    "    path_model = os.path.join(base_path, \"model\")\n",
    "    path_testset = os.path.join(base_path, \"subsets\", \"test_set.txt\")\n",
    "    path_weights = os.path.join(base_path, \"weights.h5\")\n",
    "    \n",
    "    global model\n",
    "    global testset\n",
    "    global history\n",
    "\n",
    "    # Load Model\n",
    "    if(os.path.exists(path_model)):\n",
    "        print(f\"\\nLoading Model: '{model_widget.value}'.\")\n",
    "\n",
    "        # Loads the entire model from a folder:\n",
    "        model = tf.keras.models.load_model(path_model)\n",
    "        model.load_weights(path_weights)\n",
    "        # Reads the test-set of the trained model and puts the experiment names into a list:\n",
    "        testset = open(path_testset, \"r\").read().split()\n",
    "        # Loads the training history dictionary:\n",
    "        history = np.load(path_history, allow_pickle=True).item()\n",
    "        \n",
    "        # Show Loss of Training History\n",
    "        print(f\"\\nThe lowest validation loss is: {round(min(history['val_loss']), 3)}\\n\")\n",
    "        display_helper.show_plot(x=range(len(history['loss'][:])), y=history['loss'][:],  ylim=[0,600000], \n",
    "                                 xlabel=\"epochs\", ylabel=\"validation loss\", title=\"Loss during training\")\n",
    "        display_helper.show_plot(x=range(len(history['loss']))[:], y=history['val_loss'][:], ylim=[0,600000],\n",
    "                                 xlabel=\"epochs\", ylabel=\"validation loss\", title=\"Validation loss during training\")\n",
    "\n",
    "    else: \n",
    "        print(\"The model is untrained.\")\n",
    "\n",
    "# Find all models in 'local_paths.models' \n",
    "all_trained_models = sorted(f for f in os.listdir(os.path.join(local_paths.models)) if not f.startswith(\".\"))\n",
    "# models_dataset = [m for m in all_trained_models if dataset_name.value in m] \n",
    "\n",
    "# Widget for selecting the trained models\n",
    "model_widget = ipywidgets.RadioButtons(options=all_trained_models, description='Models:')\n",
    "display(model_widget)\n",
    "out = ipywidgets.interactive_output(load_model, {'trained_model': model_widget})\n",
    "display(out)"
   ]
  },
  {
   "cell_type": "markdown",
   "metadata": {
    "tags": []
   },
   "source": [
    "<br>\n",
    "\n",
    "<a id='2ma'></a>\n",
    "## 2. Make predictions on test set\n",
    "\n",
    "The predictions are made by predicting the label of multiple ERPs generated from the same experiment. Each ERP is different, since a random subset of the total number of epochs is used for creating the ERPs.\n",
    "\n",
    "+ *n_passthroughs* is the number of predictions made from the same experiment. A higher number takes longer to process but is more accurate."
   ]
  },
  {
   "cell_type": "code",
   "execution_count": null,
   "metadata": {},
   "outputs": [
    {
     "name": "stdout",
     "output_type": "stream",
     "text": [
      "179/186 predicted.\n"
     ]
    }
   ],
   "source": [
    "n_passthroughs = 5\n",
    "\n",
    "results = []\n",
    "from functions import processing\n",
    "\n",
    "if dataset_name.value  == \"epodium\":\n",
    "    testset = processing.valid_experiments(dataset, local_paths.ePod_epochs_events, min_standards=180, min_deviants=80)\n",
    "\n",
    "# For each experiment in the test-set\n",
    "for i, experiment in enumerate(testset):\n",
    "    if dataset_name.value == \"ddp\":\n",
    "        test_sequence = DDPSequence([experiment], labels, epochs_directory, batch_size=1, n_instances_per_experiment=n_passthroughs)\n",
    "    elif dataset_name.value  == \"epodium\":\n",
    "        test_sequence = EpodiumSequence([experiment], labels, epochs_directory, sample_rate=501, batch_size=n_passthroughs, channel_names=dataset.channels_epod_ddp) \n",
    "\n",
    "    x, y = test_sequence.__getitem__(0)\n",
    "    \n",
    "    # Make a prediction with the model.\n",
    "    real_pred = [y[0], np.squeeze(model.predict(x, verbose=0)).mean()]\n",
    "    results.append(real_pred)\n",
    "    \n",
    "    print(f\"{i+1}/{len(testset)} predicted.\")\n",
    "    clear_output(wait=True)\n",
    "    \n",
    "results = np.array(results)"
   ]
  },
  {
   "cell_type": "code",
   "execution_count": null,
   "metadata": {},
   "outputs": [],
   "source": [
    "labels"
   ]
  },
  {
   "cell_type": "markdown",
   "metadata": {},
   "source": [
    "#### Calculate test loss\n",
    "\n",
    "The *Root Mean Square Error* (RMSE) is used to compare the different models"
   ]
  },
  {
   "cell_type": "code",
   "execution_count": 6,
   "metadata": {},
   "outputs": [
    {
     "data": {
      "text/plain": [
       "159.49454418015148"
      ]
     },
     "execution_count": 6,
     "metadata": {},
     "output_type": "execute_result"
    }
   ],
   "source": [
    "error = np.diff(results)\n",
    "squared_error = np.square(error)\n",
    "mean_squared_error = np.average(squared_error)\n",
    "root_mean_squared_error = np.sqrt(mean_squared_error)\n",
    "root_mean_squared_error"
   ]
  },
  {
   "cell_type": "markdown",
   "metadata": {},
   "source": [
    "The *Mean Absolute Error* (MAE) is used to compare the different models"
   ]
  },
  {
   "cell_type": "code",
   "execution_count": 7,
   "metadata": {},
   "outputs": [
    {
     "data": {
      "text/plain": [
       "135.9011470015331"
      ]
     },
     "execution_count": 7,
     "metadata": {},
     "output_type": "execute_result"
    }
   ],
   "source": [
    "absolute_error = np.absolute(error)\n",
    "mean_absolute_error = np.average(absolute_error)\n",
    "mean_absolute_error"
   ]
  },
  {
   "cell_type": "markdown",
   "metadata": {},
   "source": [
    "#### Scatterplot results "
   ]
  },
  {
   "cell_type": "code",
   "execution_count": 26,
   "metadata": {},
   "outputs": [
    {
     "name": "stdout",
     "output_type": "stream",
     "text": [
      "0.10753172683875525 22.344143185183462\n",
      "[[1.         0.10269702]\n",
      " [0.10269702 1.        ]]\n"
     ]
    },
    {
     "data": {
      "image/png": "[encoded data removed]",
      "text/plain": [
       "<Figure size 432x288 with 1 Axes>"
      ]
     },
     "metadata": {
      "needs_background": "light"
     },
     "output_type": "display_data"
    }
   ],
   "source": [
    "model_info = model_widget.value.split(\"_\")\n",
    "\n",
    "ages_real = np.array(results)[:,0]/30\n",
    "ages_predicted = np.array(results)[:,1]/30\n",
    "\n",
    "display_helper.show_plot(ages_real, \n",
    "                         ages_predicted, \n",
    "                         f\"Age prediction ({model_info[0]} {model_info[1]}, passes: {n_passthroughs})\", \n",
    "                         \"Actual age (months)\",\n",
    "                         \"Predicted age (months)\",\n",
    "                         scatter=True,\n",
    "                         show=False)\n",
    "plt.grid()\n",
    "# Line where predicted=actual:\n",
    "#plt.plot([300, 1450], [300, 1450]) \n",
    "plt.plot([15, 30], [15, 30]) \n",
    "\n",
    "m, c = np.polyfit(np.array(results)[:,0]/30, np.array(results)[:,1]/30, 1)\n",
    "\n",
    "print(m, c)\n",
    "plt.plot([15, 30 ], [23.957, 25.57]) \n",
    "\n",
    "print(np.corrcoef(ages_real, ages_predicted))\n",
    "\n"
   ]
  },
  {
   "cell_type": "code",
   "execution_count": 27,
   "metadata": {},
   "outputs": [
    {
     "data": {
      "text/plain": [
       "186"
      ]
     },
     "execution_count": 27,
     "metadata": {},
     "output_type": "execute_result"
    }
   ],
   "source": [
    "len(ages_real)"
   ]
  }
 ],
 "metadata": {
  "interpreter": {
   "hash": "a5f6ecf0357e95e30953d0cf08844b8b26fdbdf1f780a6e218131c917612a57e"
  },
  "kernelspec": {
   "display_name": "Python 3 (ipykernel)",
   "language": "python",
   "name": "python3"
  },
  "language_info": {
   "codemirror_mode": {
    "name": "ipython",
    "version": 3
   },
   "file_extension": ".py",
   "mimetype": "text/x-python",
   "name": "python",
   "nbconvert_exporter": "python",
   "pygments_lexer": "ipython3",
   "version": "3.8.10"
  }
 },
 "nbformat": 4,
 "nbformat_minor": 4
}
