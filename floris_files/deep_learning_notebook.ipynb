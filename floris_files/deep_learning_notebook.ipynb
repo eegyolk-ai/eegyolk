{
 "cells": [
  {
   "cell_type": "markdown",
   "metadata": {},
   "source": [
    "#### Deep Learning\n",
    "\n",
    "+ A model processes data and learns to predict labels \n",
    "+ The model optimizes through a training loop\n",
    "+ New dummy data is generated for each training loop\n",
    "+ Use multiple models like a DNN\n",
    "+ Introduce Transformer model\n"
   ]
  },
  {
   "cell_type": "markdown",
   "metadata": {},
   "source": [
    "#### Imports"
   ]
  },
  {
   "cell_type": "code",
   "execution_count": 1,
   "metadata": {},
   "outputs": [],
   "source": [
    "import numpy as np   \n",
    "import os              \n",
    "import sys\n",
    "import random\n",
    "import tensorflow as tf\n",
    "from IPython.display import clear_output\n",
    "\n",
    "main_path = os.path.dirname(os.getcwd())\n",
    "\n",
    "eegyolk_path = os.path.join(main_path, 'eegyolk')\n",
    "sys.path.insert(0, eegyolk_path)\n",
    "from eegyolk import dummy_data_functions as dummy\n",
    "from eegyolk import display_helper as disp\n",
    "\n",
    "from models.Transformer import TransformerModel\n",
    "from models.DNN import NN, DNN"
   ]
  },
  {
   "cell_type": "markdown",
   "metadata": {},
   "source": [
    "#### Initialise and Compile Models\n",
    "\n",
    "+ Fully connected feedforward Neural Network (NN) \n",
    "+ Transformer model (https://github.com/SuperBruceJia/EEG-DL/blob/master/Models/main-Transformer.py)\n"
   ]
  },
  {
   "cell_type": "code",
   "execution_count": 2,
   "metadata": {},
   "outputs": [],
   "source": [
    "simpleModel = NN()\n",
    "transformerModel = TransformerModel()\n",
    "\n",
    "\n",
    "simpleModel.compile(optimizer='sgd', loss=tf.keras.losses.BinaryCrossentropy(from_logits=True))\n",
    "\n",
    "# simpleModel.compile(optimizer=tf.keras.optimizers.Adam(learning_rate=1e-4),\n",
    "#               loss=\"binary_crossentropy\",\n",
    "#               metrics=[tf.keras.metrics.Precision(), tf.keras.metrics.BinaryAccuracy(), tf.keras.metrics.Recall()])\n",
    "transformerModel.compile(optimizer=tf.keras.optimizers.Adam(learning_rate=1e-4),\n",
    "              loss=\"binary_crossentropy\",\n",
    "              metrics=[tf.keras.metrics.Precision(), tf.keras.metrics.BinaryAccuracy(), tf.keras.metrics.Recall()])"
   ]
  },
  {
   "cell_type": "markdown",
   "metadata": {},
   "source": [
    "#### Training loop:"
   ]
  },
  {
   "cell_type": "code",
   "execution_count": 3,
   "metadata": {},
   "outputs": [
    {
     "data": {
      "image/png": "[encoded data removed]",
      "text/plain": [
       "<Figure size 432x288 with 1 Axes>"
      ]
     },
     "metadata": {
      "needs_background": "light"
     },
     "output_type": "display_data"
    }
   ],
   "source": [
    "model = transformerModel      # simpleModel , transformerModel\n",
    "\n",
    "X, Y = dummy.create_batch(1000, [\"planck\", \"constant\"])\n",
    "\n",
    "history = model.fit(np.array(X), Y, validation_split=0.33, \n",
    "                epochs=20, batch_size=50, verbose=0)\n",
    "\n",
    "import matplotlib.pyplot as plt\n",
    "\n",
    "plt.plot(history.history['loss'])\n",
    "plt.plot(history.history['val_loss'])\n",
    "plt.title('model loss')\n",
    "plt.ylabel('loss')\n",
    "plt.xlabel('epoch')\n",
    "plt.legend(['train', 'test'], loc='upper left')\n",
    "plt.show()\n",
    "\n",
    "\n",
    "# for j in range(4):\n",
    "#   model.fit(np.array(X), Y, epochs=4, batch_size=10)\n",
    "\n",
    "#   X_test, Y_test = create_batch(batch_size)\n",
    "#   loss = model.evaluate(np.array(X_test),  Y_test, verbose=2)\n",
    "\n",
    "#   clear_output(wait=True)\n"
   ]
  },
  {
   "cell_type": "markdown",
   "metadata": {},
   "source": [
    "#### Plot Loss \n",
    "(Test loss is lower since it has no dropout)"
   ]
  },
  {
   "cell_type": "code",
   "execution_count": 4,
   "metadata": {},
   "outputs": [
    {
     "name": "stdout",
     "output_type": "stream",
     "text": [
      "\u001b[1;31mType:\u001b[0m        History\n",
      "\u001b[1;31mString form:\u001b[0m <keras.callbacks.History object at 0x000002426038E520>\n",
      "\u001b[1;31mFile:\u001b[0m        c:\\floris\\python\\virtualenvironments\\venv\\lib\\site-packages\\keras\\callbacks.py\n",
      "\u001b[1;31mDocstring:\u001b[0m  \n",
      "Callback that records events into a `History` object.\n",
      "\n",
      "This callback is automatically applied to\n",
      "every Keras model. The `History` object\n",
      "gets returned by the `fit` method of models.\n",
      "\n",
      "Example:\n",
      "\n",
      ">>> model = tf.keras.models.Sequential([tf.keras.layers.Dense(10)])\n",
      ">>> model.compile(tf.keras.optimizers.SGD(), loss='mse')\n",
      ">>> history = model.fit(np.arange(100).reshape(5, 20), np.zeros(5),\n",
      "...                     epochs=10, verbose=1)\n",
      ">>> print(history.params)\n",
      "{'verbose': 1, 'epochs': 10, 'steps': 1}\n",
      ">>> # check the keys of history object\n",
      ">>> print(history.history.keys())\n",
      "dict_keys(['loss'])\n"
     ]
    }
   ],
   "source": [
    "history?"
   ]
  },
  {
   "cell_type": "code",
   "execution_count": 5,
   "metadata": {},
   "outputs": [
    {
     "name": "stdout",
     "output_type": "stream",
     "text": [
      "dict_keys(['loss', 'precision', 'binary_accuracy', 'recall', 'val_loss', 'val_precision', 'val_binary_accuracy', 'val_recall'])\n"
     ]
    }
   ],
   "source": [
    "print(history.history.keys())"
   ]
  },
  {
   "cell_type": "markdown",
   "metadata": {},
   "source": [
    "TODO:\n",
    "+ Show the confidence of a prediction (with softmax probability between 0 and 1) \n",
    "+ Compare multiple models on dummy data (DNN, CNN, RNN, Transformer(Encoder))"
   ]
  }
 ],
 "metadata": {
  "interpreter": {
   "hash": "6f329f1a445d9ca9a6c2443e08ed779e4ea249e5d5b37f9405bf379a6331f699"
  },
  "kernelspec": {
   "display_name": "Python 3.9.13 ('VENV')",
   "language": "python",
   "name": "python3"
  },
  "language_info": {
   "codemirror_mode": {
    "name": "ipython",
    "version": 3
   },
   "file_extension": ".py",
   "mimetype": "text/x-python",
   "name": "python",
   "nbconvert_exporter": "python",
   "pygments_lexer": "ipython3",
   "version": "3.9.13"
  },
  "orig_nbformat": 4
 },
 "nbformat": 4,
 "nbformat_minor": 2
}
