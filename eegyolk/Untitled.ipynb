{
 "cells": [
  {
   "cell_type": "code",
   "execution_count": 3,
   "id": "634c0381-457f-4041-bfe9-593f57e1565c",
   "metadata": {},
   "outputs": [
    {
     "name": "stdout",
     "output_type": "stream",
     "text": [
      "female\n"
     ]
    }
   ],
   "source": [
    "class People:\n",
    "    def __init__(self, gender, age):\n",
    "        self.gender = gender\n",
    "        self.age = age\n",
    "        \n",
    "    def print_gender(self):\n",
    "        print(self.gender)\n",
    "        \n",
    "person1 = People(\"female\", 42)\n",
    "person1.print_gender()"
   ]
  },
  {
   "cell_type": "code",
   "execution_count": null,
   "id": "0ca3fc00-828f-4cf0-8002-b24e20e0e09a",
   "metadata": {},
   "outputs": [],
   "source": []
  }
 ],
 "metadata": {
  "kernelspec": {
   "display_name": "Python 3 (ipykernel)",
   "language": "python",
   "name": "python3"
  },
  "language_info": {
   "codemirror_mode": {
    "name": "ipython",
    "version": 3
   },
   "file_extension": ".py",
   "mimetype": "text/x-python",
   "name": "python",
   "nbconvert_exporter": "python",
   "pygments_lexer": "ipython3",
   "version": "3.8.10"
  }
 },
 "nbformat": 4,
 "nbformat_minor": 5
}
