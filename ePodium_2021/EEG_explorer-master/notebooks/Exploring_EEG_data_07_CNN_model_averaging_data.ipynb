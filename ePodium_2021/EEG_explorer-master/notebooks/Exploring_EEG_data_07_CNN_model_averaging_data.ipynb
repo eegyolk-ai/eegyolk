{
 "cells": [
  {
   "cell_type": "markdown",
   "metadata": {},
   "source": [
    "# Try out CNN on averaged EEG data\n",
    "\n",
    "## Pre-processing\n",
    "+ Import data.\n",
    "+ Apply filters (bandpass).\n",
    "+ Detect potential bad channels and replace them by interpolation.\n",
    "+ Detect potential bad epochs and remove them.\n",
    "+ Average over a number of randomly drawn epochs (of same person and same stimuli).\n",
    "\n",
    "## Train CNN network\n",
    "+ Define network architecture\n",
    "+ Split data\n",
    "+ Train model\n"
   ]
  },
  {
   "cell_type": "markdown",
   "metadata": {},
   "source": [
    "## Import packages & links"
   ]
  },
  {
   "cell_type": "code",
   "execution_count": 3,
   "metadata": {},
   "outputs": [],
   "source": [
    "# Import packages\n",
    "import os\n",
    "import numpy as np\n",
    "import pandas as pd\n",
    "import matplotlib.pyplot as plt\n",
    "\n",
    "import mne\n",
    "#%matplotlib inline\n",
    "\n",
    "from mayavi import mlab"
   ]
  },
  {
   "cell_type": "code",
   "execution_count": 4,
   "metadata": {},
   "outputs": [],
   "source": [
    "ROOT = \"C:\\\\OneDrive - Netherlands eScience Center\\\\Project_ePodium\\\\\"\n",
    "PATH_CODE = ROOT + \"EEG_explorer\\\\\"\n",
    "PATH_DATA = ROOT + \"Data\\\\\"\n",
    "PATH_OUTPUT = ROOT + \"Data\\\\processed\\\\\"\n",
    "PATH_METADATA = ROOT + \"Data\\\\metadata\\\\\"\n",
    "PATH_MODELS = ROOT + \"trained_models\\\\\"\n",
    "file_labels = \"metadata.xlsx\"\n",
    "\n",
    "import sys\n",
    "sys.path.insert(0, PATH_CODE)"
   ]
  },
  {
   "cell_type": "markdown",
   "metadata": {},
   "source": [
    "## Load pre-processed dataset\n",
    "+ See notebook for preprocessing: Exploring_EEG_data_04_prepare_data_for_ML.ipynb"
   ]
  },
  {
   "cell_type": "code",
   "execution_count": 5,
   "metadata": {},
   "outputs": [],
   "source": [
    "filename = PATH_OUTPUT + \"EEG_data_30channels_1s_corrected.npy\"\n",
    "signal_collection = np.load(filename)\n",
    "\n",
    "filename = PATH_OUTPUT + \"EEG_data_30channels_1s_corrected_labels.npy\"\n",
    "label_collection = np.load(filename)"
   ]
  },
  {
   "cell_type": "code",
   "execution_count": 6,
   "metadata": {},
   "outputs": [],
   "source": [
    "import csv\n",
    "metadata = []\n",
    "filename = PATH_OUTPUT + \"EEG_data_30channels_1s_corrected_metadata.csv\"\n",
    "with open(filename, 'r') as readFile:\n",
    "    reader = csv.reader(readFile, delimiter=',')\n",
    "    for row in reader:\n",
    "        if len(row) > 0:\n",
    "            metadata.append(row)\n",
    "readFile.close()"
   ]
  },
  {
   "cell_type": "code",
   "execution_count": 7,
   "metadata": {},
   "outputs": [
    {
     "data": {
      "text/plain": [
       "[['1', '034_17_mc_mmn36_wk.cnt', '443'],\n",
       " ['2', '036_17_mc_mmn36_wk.cnt', '1384'],\n",
       " ['18', '175_17_jd_mmn_wk.cnt', '1858'],\n",
       " ['26', '305_17_jc_mmn36_wk.cnt', '2349'],\n",
       " ['27', '306_17_mc_mmn36_wk.cnt', '2813'],\n",
       " ['28', '307_17_jc_mmn36_wakker.cnt', '3447'],\n",
       " ['29', '308_17_jc_mmn36_wk.cnt', '3938'],\n",
       " ['30', '309_17_jc_mmn.cnt', '4425'],\n",
       " ['33', '314_17_mc_mmn36_wk.cnt', '4917'],\n",
       " ['38', '337_17_jc_mmn36_wk.cnt', '5389']]"
      ]
     },
     "execution_count": 7,
     "metadata": {},
     "output_type": "execute_result"
    }
   ],
   "source": [
    "metadata[:10]"
   ]
  },
  {
   "cell_type": "markdown",
   "metadata": {},
   "source": [
    "## Create training data --> Scale/normalize data"
   ]
  },
  {
   "cell_type": "code",
   "execution_count": 8,
   "metadata": {},
   "outputs": [],
   "source": [
    "min_maxes = []\n",
    "for ID in range(1,len(metadata)):\n",
    "    min_maxes.append((signal_collection[int(metadata[ID-1][2]):int(metadata[ID][2]),:,:].min(), \n",
    "                     signal_collection[int(metadata[ID-1][2]):int(metadata[ID][2]),:,:].max(), \n",
    "                     signal_collection[int(metadata[ID-1][2]):int(metadata[ID][2]),:,:].mean(), \n",
    "                     signal_collection[int(metadata[ID-1][2]):int(metadata[ID][2]),:,:].var()))"
   ]
  },
  {
   "cell_type": "code",
   "execution_count": 9,
   "metadata": {},
   "outputs": [],
   "source": [
    "data_max = np.mean([x[1] for x in min_maxes]) #signal_collection.max()\n",
    "data_min = np.mean([x[0] for x in min_maxes]) #signal_collection.min()\n",
    "data_mean = signal_collection.mean()\n",
    "\n",
    "signal_collection = signal_collection - data_mean\n",
    "signal_collection = signal_collection / data_max"
   ]
  },
  {
   "cell_type": "code",
   "execution_count": 10,
   "metadata": {},
   "outputs": [
    {
     "data": {
      "text/plain": [
       "(-1.9539306399697487, 2.2628056343165652)"
      ]
     },
     "execution_count": 10,
     "metadata": {},
     "output_type": "execute_result"
    }
   ],
   "source": [
    "signal_collection.min(), signal_collection.max()"
   ]
  },
  {
   "cell_type": "markdown",
   "metadata": {},
   "source": [
    "# 1. Make clearer disctinction between training, test, validation data!\n",
    "To be sure the network is able to make predictions using unseen data, the dataset could be split according to persons! Unfortunately we only have data here for 57 persons (24 in group 1 and 33 in group 2).  \n",
    "This makes this approach a bit complicated\n",
    "\n",
    "## Idea for next steps:\n",
    "We could also loop through different test-person/train-person splits and independently train models on those datasets. Then, in the the end the outcome would be averaged over all of those. This way we would make better use of the data we have!"
   ]
  },
  {
   "cell_type": "code",
   "execution_count": 11,
   "metadata": {},
   "outputs": [],
   "source": [
    "groups = []\n",
    "for ID in range(len(metadata)):\n",
    "    if ID == 0:\n",
    "        low = 0\n",
    "    else:\n",
    "        low = int(metadata[ID-1][2])\n",
    "        \n",
    "    groups.append(int(label_collection[low]/3))"
   ]
  },
  {
   "cell_type": "code",
   "execution_count": 12,
   "metadata": {},
   "outputs": [],
   "source": [
    "group_1_ids = np.where(np.array(groups) == 1)[0]\n",
    "group_2_ids = np.where(np.array(groups) == 1)[0]"
   ]
  },
  {
   "cell_type": "code",
   "execution_count": 13,
   "metadata": {},
   "outputs": [
    {
     "data": {
      "text/plain": [
       "array([ 0,  1,  3,  4,  5,  6,  7,  8,  9, 10, 11, 31, 32, 33, 34, 35, 36,\n",
       "       37, 38, 39, 40, 41, 42, 43], dtype=int64)"
      ]
     },
     "execution_count": 13,
     "metadata": {},
     "output_type": "execute_result"
    }
   ],
   "source": [
    "# inspect group 2 ID's\n",
    "group_2_ids"
   ]
  },
  {
   "cell_type": "code",
   "execution_count": 14,
   "metadata": {},
   "outputs": [],
   "source": [
    "def create_averaged_data(signal_collection, \n",
    "                         label_collection, \n",
    "                         metadata, \n",
    "                         n_epochs, \n",
    "                         selected_ids):\n",
    "    \"\"\" \n",
    "    Function to create averages of n_epochs epochs.\n",
    "    \n",
    "    \"\"\"\n",
    "    # create new data collection:\n",
    "    X_data = np.zeros((0, signal_collection.shape[1], signal_collection.shape[2]))\n",
    "    y_data = []\n",
    "    \n",
    "    for ID in selected_ids:\n",
    "        print(\"person ID:\", ID, \". Originally from file: \", metadata[ID][1])\n",
    "        if ID == 0:\n",
    "            low = 0\n",
    "        else:\n",
    "            low = int(metadata[ID-1][2])\n",
    "        high = int(metadata[ID][2])\n",
    "\n",
    "        # Create class=3 averages (n_class3_per_patient times)\n",
    "        for i in range(n_class3_per_patient):      \n",
    "            select_label = np.where(label_collection[low:high] == 3)[0]\n",
    "            if len(select_label) == 0:\n",
    "                select_label = np.where(label_collection[low:high] == 6)[0]\n",
    "                group = 2\n",
    "            else:\n",
    "                group = 1\n",
    "            if len(select_label) >= n_epochs:        \n",
    "                select = np.random.choice(select_label, n_epochs, replace=False)\n",
    "            else:\n",
    "                print(\"Found only\", len(select_label), \" epochs and will take those!\")\n",
    "                signal_averaged = np.mean(signal_collection[select_label,:,:], axis=0)\n",
    "                break\n",
    "            signal_averaged = np.mean(signal_collection[select,:,:], axis=0)\n",
    "            X_data = np.concatenate([X_data, np.expand_dims(signal_averaged, axis=0)], axis=0)\n",
    "            y_data.append(group*3)\n",
    "\n",
    "         # Create class=13 averages (n_class13_per_patient times)\n",
    "        for i in range(n_class13_per_patient):      \n",
    "            select_label = np.where(label_collection[low:high] == 13)[0]\n",
    "            if len(select_label) == 0:\n",
    "                select_label = np.where(label_collection[low:high] == 26)[0]\n",
    "                group = 2\n",
    "            else:\n",
    "                group = 1\n",
    "            if len(select_label) >= n_epochs:        \n",
    "                select = np.random.choice(select_label, n_epochs, replace=False)\n",
    "            else:\n",
    "                print(\"Found only\", len(select_label), \" epochs and will take those!\")\n",
    "                signal_averaged = np.mean(signal_collection[select_label,:,:], axis=0)\n",
    "                break\n",
    "            signal_averaged = np.mean(signal_collection[select,:,:], axis=0)\n",
    "            X_data = np.concatenate([X_data, np.expand_dims(signal_averaged, axis=0)], axis=0)\n",
    "            y_data.append(group*13)\n",
    "\n",
    "        # Create class=66 averages (n_class66_per_patient times)\n",
    "        for i in range(n_class66_per_patient):      \n",
    "            select_label = np.where(label_collection[low:high] == 66)[0]\n",
    "            if len(select_label) == 0:\n",
    "                select_label = np.where(label_collection[low:high] == 132)[0]\n",
    "                group = 2\n",
    "            else:\n",
    "                group = 1\n",
    "            if len(select_label) >= n_epochs:        \n",
    "                select = np.random.choice(select_label, n_epochs, replace=False)\n",
    "            else:\n",
    "                print(\"Found only\", len(select_label), \" epochs and will take those!\")\n",
    "                signal_averaged = np.mean(signal_collection[select_label,:,:], axis=0)\n",
    "                break\n",
    "            signal_averaged = np.mean(signal_collection[select,:,:], axis=0)\n",
    "            X_data = np.concatenate([X_data, np.expand_dims(signal_averaged, axis=0)], axis=0)\n",
    "            y_data.append(group*66)\n",
    "\n",
    "    return X_data, y_data"
   ]
  },
  {
   "cell_type": "code",
   "execution_count": 15,
   "metadata": {
    "scrolled": true
   },
   "outputs": [],
   "source": [
    "n_epochs = 30 # Average over n_epochs epochs\n",
    "n_class3_per_patient = 20\n",
    "n_class13_per_patient = 10\n",
    "n_class66_per_patient = 10\n",
    "\n",
    "# Make selection \n",
    "group_1_ids = np.where(np.array(groups) == 1)[0]\n",
    "group_2_ids = np.where(np.array(groups) == 2)[0]\n",
    "keep_group1_for_test = 10\n",
    "keep_group2_for_test = 10\n",
    "\n",
    "# Initialize random numbers to get reproducible results \n",
    "np.random.seed(1)\n",
    "\n",
    "# Make random selection\n",
    "selected_ids_test = [x for x in np.concatenate([np.random.choice(group_1_ids, keep_group1_for_test),\n",
    "                                   np.random.choice(group_2_ids, keep_group2_for_test)])]\n",
    "\n",
    "selected_ids = [x for x in range(len(metadata)) if not x in selected_ids_test]"
   ]
  },
  {
   "cell_type": "code",
   "execution_count": 111,
   "metadata": {},
   "outputs": [
    {
     "data": {
      "text/plain": [
       "[6, 31, 32, 9, 10, 31, 6, 35, 0, 36, 12, 23, 18, 17, 49, 44, 29, 44, 22, 52]"
      ]
     },
     "execution_count": 111,
     "metadata": {},
     "output_type": "execute_result"
    }
   ],
   "source": [
    "selected_ids_test"
   ]
  },
  {
   "cell_type": "code",
   "execution_count": 17,
   "metadata": {},
   "outputs": [
    {
     "name": "stdout",
     "output_type": "stream",
     "text": [
      "person ID: 1 . Originally from file:  036_17_mc_mmn36_wk.cnt\n",
      "person ID: 2 . Originally from file:  175_17_jd_mmn_wk.cnt\n",
      "person ID: 3 . Originally from file:  305_17_jc_mmn36_wk.cnt\n",
      "person ID: 4 . Originally from file:  306_17_mc_mmn36_wk.cnt\n",
      "person ID: 5 . Originally from file:  307_17_jc_mmn36_wakker.cnt\n",
      "person ID: 7 . Originally from file:  309_17_jc_mmn.cnt\n",
      "person ID: 8 . Originally from file:  314_17_mc_mmn36_wk.cnt\n",
      "person ID: 11 . Originally from file:  345_17_mc_mmn36_wk.cnt\n",
      "person ID: 13 . Originally from file:  413_17_jd_mmn_2.cnt\n",
      "person ID: 14 . Originally from file:  420_17_md_mmn.cnt\n",
      "person ID: 15 . Originally from file:  428_17_md_mmn.cnt\n",
      "person ID: 16 . Originally from file:  434_17_jd_mmn.cnt\n",
      "person ID: 19 . Originally from file:  443_17_jd_mmn36_wk.cnt\n",
      "person ID: 20 . Originally from file:  454_17_md_mmn36_wk.cnt\n",
      "Found only 27  epochs and will take those!\n",
      "person ID: 21 . Originally from file:  455_17_jd_mmn36_wk.cnt\n",
      "person ID: 24 . Originally from file:  475_17_jd_mmn36_wk.cnt\n",
      "person ID: 25 . Originally from file:  478_17_jd_mmn_36_wk.cnt\n",
      "person ID: 26 . Originally from file:  482_17_md_mmn36_wk.cnt\n",
      "person ID: 27 . Originally from file:  487_17_md_mmn_36_wk.cnt\n",
      "person ID: 28 . Originally from file:  488_17_jd_mmn36_wk.cnt\n",
      "person ID: 30 . Originally from file:  491_17_jd_mmn36_wk.cnt\n",
      "person ID: 33 . Originally from file:  605-131-17m-jc-mmn.cnt\n",
      "person ID: 34 . Originally from file:  609-158-17m-jc-mmn36.cnt\n",
      "person ID: 37 . Originally from file:  633-403-17m-jc-mmn36.cnt\n",
      "person ID: 38 . Originally from file:  636-468-17m-jc-mmn36.cnt\n",
      "person ID: 39 . Originally from file:  637-479-17m-mc-mmn36.cnt\n",
      "person ID: 40 . Originally from file:  639-484-17m-jc-mmn36.cnt\n",
      "person ID: 41 . Originally from file:  640-464-17m-jc-mmn36.cnt\n",
      "Found only 21  epochs and will take those!\n",
      "Found only 21  epochs and will take those!\n",
      "person ID: 42 . Originally from file:  642-485-17m-jc-mmn36.cnt\n",
      "person ID: 43 . Originally from file:  646-478-17m-mc-mmn36.cnt\n",
      "person ID: 45 . Originally from file:  719-079-jr-17m-mmn36.cnt\n",
      "person ID: 46 . Originally from file:  720-166-17m-jr-mmn.cnt\n",
      "person ID: 47 . Originally from file:  724-116-17m-jr-mmn36.cnt\n",
      "person ID: 48 . Originally from file:  725_161_17m_jr_mmn36.cnt\n",
      "person ID: 50 . Originally from file:  730-201-17m-jr-mmn.cnt\n",
      "person ID: 51 . Originally from file:  739-368-17m-mr-mmn36.cnt\n",
      "person ID: 53 . Originally from file:  751-542-17m-jr-mmn36.cnt\n",
      "person ID: 54 . Originally from file:  754-472-17m-jr-mmn36.cnt\n",
      "person ID: 55 . Originally from file:  757-487-17m-jr-mmn36.cnt\n",
      "person ID: 56 . Originally from file:  758-465-17m-mr-mmn36.cnt\n"
     ]
    }
   ],
   "source": [
    "X_data, y_data = create_averaged_data(signal_collection, \n",
    "                         label_collection, \n",
    "                         metadata, \n",
    "                         n_epochs, \n",
    "                         selected_ids)"
   ]
  },
  {
   "cell_type": "code",
   "execution_count": 18,
   "metadata": {},
   "outputs": [
    {
     "name": "stdout",
     "output_type": "stream",
     "text": [
      "person ID: 6 . Originally from file:  308_17_jc_mmn36_wk.cnt\n",
      "person ID: 31 . Originally from file:  602-115-17m-mc-mmn.cnt\n",
      "person ID: 32 . Originally from file:  604-133-17m-jc-mmn36.cnt\n",
      "person ID: 9 . Originally from file:  337_17_jc_mmn36_wk.cnt\n",
      "person ID: 10 . Originally from file:  343_17_mc_mmm36_wk.cnt\n",
      "person ID: 31 . Originally from file:  602-115-17m-mc-mmn.cnt\n",
      "person ID: 6 . Originally from file:  308_17_jc_mmn36_wk.cnt\n",
      "person ID: 35 . Originally from file:  611_157_17m_mc_mmn36.cnt\n",
      "person ID: 0 . Originally from file:  034_17_mc_mmn36_wk.cnt\n",
      "person ID: 36 . Originally from file:  619-247-17m-mc-mmn36.cnt\n",
      "person ID: 12 . Originally from file:  406_17_md_mmn.cnt\n",
      "person ID: 23 . Originally from file:  472_17_jd_mmn36_wk.cnt\n",
      "person ID: 18 . Originally from file:  436_17_jd_mmn36_wk.cnt\n",
      "person ID: 17 . Originally from file:  435_17_md_mmn36_wk.cnt\n",
      "person ID: 49 . Originally from file:  726_126_17m-jr_mmn36.cnt\n",
      "person ID: 44 . Originally from file:  707-060-17m-jd-mmn.cnt\n",
      "person ID: 29 . Originally from file:  489_17_md_mmn36_wk.cnt\n",
      "person ID: 44 . Originally from file:  707-060-17m-jd-mmn.cnt\n",
      "person ID: 22 . Originally from file:  466_17_md_mmn36_wk.cnt\n",
      "person ID: 52 . Originally from file:  749-461-17m-jr-mmn36.cnt\n"
     ]
    }
   ],
   "source": [
    "X_test, y_test = create_averaged_data(signal_collection, \n",
    "                         label_collection, \n",
    "                         metadata, \n",
    "                         n_epochs, \n",
    "                         selected_ids_test)"
   ]
  },
  {
   "cell_type": "code",
   "execution_count": 19,
   "metadata": {},
   "outputs": [
    {
     "name": "stdout",
     "output_type": "stream",
     "text": [
      "(1570, 30, 501) 1570\n",
      "(800, 30, 501) 800\n"
     ]
    }
   ],
   "source": [
    "print(X_data.shape, len(y_data))\n",
    "print(X_test.shape, len(y_test))"
   ]
  },
  {
   "cell_type": "code",
   "execution_count": 32,
   "metadata": {},
   "outputs": [
    {
     "name": "stdout",
     "output_type": "stream",
     "text": [
      "3 200\n",
      "6 200\n",
      "13 100\n",
      "26 100\n",
      "66 100\n",
      "132 100\n"
     ]
    }
   ],
   "source": [
    "# Check if samples of all label classes are present in both test and train\n",
    "for i in [3, 6, 13, 26, 66, 132]:\n",
    "    print(i, np.sum(np.array(y_test) == i))"
   ]
  },
  {
   "cell_type": "markdown",
   "metadata": {},
   "source": [
    "## Normalization of EEG signals"
   ]
  },
  {
   "cell_type": "code",
   "execution_count": 33,
   "metadata": {},
   "outputs": [],
   "source": [
    "Xmean = np.concatenate([X_data, X_test]).mean()\n",
    "X_data = X_data - Xmean\n",
    "X_test = X_test - Xmean\n",
    "\n",
    "Xmax = np.concatenate([X_data, X_test]).max()\n",
    "\n",
    "X_data = X_data / Xmax\n",
    "X_test = X_test / Xmax"
   ]
  },
  {
   "cell_type": "code",
   "execution_count": 34,
   "metadata": {},
   "outputs": [
    {
     "data": {
      "text/plain": [
       "(-0.0001577112562104391, 1.0, -0.8624177914571192)"
      ]
     },
     "execution_count": 34,
     "metadata": {},
     "output_type": "execute_result"
    }
   ],
   "source": [
    "X_data.mean(), X_data.max(),X_data.min()"
   ]
  },
  {
   "cell_type": "markdown",
   "metadata": {},
   "source": [
    "## Split training data\n",
    "### Now the test dataset is already entirely seperate from the rest! \n",
    "+ validation data, used to monitor the model progress and avoid overfitting.\n",
    "+ testing data, meant for final check on model performance.\n",
    "+ --> Create validation and test data set from seperated data!!"
   ]
  },
  {
   "cell_type": "code",
   "execution_count": 35,
   "metadata": {},
   "outputs": [],
   "source": [
    "from sklearn.model_selection import train_test_split\n",
    "from sklearn.utils import shuffle\n",
    "\n",
    "X_val, X_test, y_val, y_test = train_test_split(X_test, y_test, test_size=0.5, random_state=1)\n",
    "X_train, y_train = shuffle(X_data, y_data, random_state=1)"
   ]
  },
  {
   "cell_type": "code",
   "execution_count": 36,
   "metadata": {},
   "outputs": [
    {
     "name": "stdout",
     "output_type": "stream",
     "text": [
      "Train set size: 1570\n",
      "Validation set size: 400\n",
      "Test set size: 400\n",
      "\n",
      "X_train mean, min, max:  -0.00015771125621043887 -0.8624177914571192 1.0\n"
     ]
    }
   ],
   "source": [
    "print('Train set size:', X_train.shape[0])\n",
    "print('Validation set size:', X_val.shape[0])\n",
    "print('Test set size:', X_test.shape[0])\n",
    "print()\n",
    "print(\"X_train mean, min, max: \", np.mean(X_train), np.min(X_train), np.max(X_train))"
   ]
  },
  {
   "cell_type": "code",
   "execution_count": 61,
   "metadata": {},
   "outputs": [
    {
     "name": "stdout",
     "output_type": "stream",
     "text": [
      "3 98\n",
      "6 101\n",
      "13 52\n",
      "26 49\n",
      "66 48\n",
      "132 52\n",
      "\n",
      "3 102\n",
      "6 99\n",
      "13 48\n",
      "26 51\n",
      "66 52\n",
      "132 48\n"
     ]
    }
   ],
   "source": [
    "# Check if samples of all label classes are present in both test and train\n",
    "for i in [3, 6, 13, 26, 66, 132]:\n",
    "    print(i, np.sum(np.array(y_test) == i))\n",
    "\n",
    "print()\n",
    "for i in [3, 6, 13, 26, 66, 132]:\n",
    "    print(i, np.sum(np.array(y_val) == i))"
   ]
  },
  {
   "cell_type": "markdown",
   "metadata": {},
   "source": [
    "## Switch to 1-hot encoding for labels\n",
    "We have six categories or classes. Those are best represented by a so called **1-hot encoding**. This means nothing else than simply a binary 0-or-1 for every class.  \n",
    "The categories we have are:  \n",
    "3 -> group 0 + stimuli \"3\"  \n",
    "6 -> group 1 + stimuli \"3\"  \n",
    "13 -> group 0 + stimuli \"13\"  \n",
    "26 -> group 1 + stimuli \"13\"  \n",
    "66 -> group 0 + stimuli \"66\"  \n",
    "128 -> group 1 + stimuli \"66\"  \n"
   ]
  },
  {
   "cell_type": "code",
   "execution_count": 37,
   "metadata": {},
   "outputs": [],
   "source": [
    "from sklearn.preprocessing import LabelBinarizer\n",
    "label_transform = LabelBinarizer()\n",
    "\n",
    "y_train_binary = label_transform.fit_transform(np.array(y_train).astype(int))\n",
    "y_val_binary = label_transform.fit_transform(np.array(y_val).astype(int))\n",
    "y_test_binary = label_transform.fit_transform(np.array(y_test).astype(int))"
   ]
  },
  {
   "cell_type": "code",
   "execution_count": 38,
   "metadata": {},
   "outputs": [
    {
     "data": {
      "text/plain": [
       "array([[1, 0, 0, 0, 0, 0],\n",
       "       [0, 0, 0, 0, 1, 0],\n",
       "       [0, 1, 0, 0, 0, 0],\n",
       "       [0, 1, 0, 0, 0, 0],\n",
       "       [0, 1, 0, 0, 0, 0],\n",
       "       [1, 0, 0, 0, 0, 0],\n",
       "       [0, 0, 0, 0, 0, 1],\n",
       "       [1, 0, 0, 0, 0, 0],\n",
       "       [1, 0, 0, 0, 0, 0],\n",
       "       [1, 0, 0, 0, 0, 0]])"
      ]
     },
     "execution_count": 38,
     "metadata": {},
     "output_type": "execute_result"
    }
   ],
   "source": [
    "y_val_binary[:10,:]"
   ]
  },
  {
   "cell_type": "code",
   "execution_count": 39,
   "metadata": {},
   "outputs": [
    {
     "data": {
      "text/plain": [
       "array([  3,   6,  13,  26,  66, 132])"
      ]
     },
     "execution_count": 39,
     "metadata": {},
     "output_type": "execute_result"
    }
   ],
   "source": [
    "# Show found labels:\n",
    "label_transform.classes_"
   ]
  },
  {
   "cell_type": "markdown",
   "metadata": {},
   "source": [
    "Check distribution accross the 6 label categories:"
   ]
  },
  {
   "cell_type": "code",
   "execution_count": 40,
   "metadata": {},
   "outputs": [
    {
     "data": {
      "text/html": [
       "<div>\n",
       "<style scoped>\n",
       "    .dataframe tbody tr th:only-of-type {\n",
       "        vertical-align: middle;\n",
       "    }\n",
       "\n",
       "    .dataframe tbody tr th {\n",
       "        vertical-align: top;\n",
       "    }\n",
       "\n",
       "    .dataframe thead th {\n",
       "        text-align: right;\n",
       "    }\n",
       "</style>\n",
       "<table border=\"1\" class=\"dataframe\">\n",
       "  <thead>\n",
       "    <tr style=\"text-align: right;\">\n",
       "      <th></th>\n",
       "      <th>frequency</th>\n",
       "    </tr>\n",
       "  </thead>\n",
       "  <tbody>\n",
       "    <tr>\n",
       "      <th>3</th>\n",
       "      <td>0.203822</td>\n",
       "    </tr>\n",
       "    <tr>\n",
       "      <th>6</th>\n",
       "      <td>0.305732</td>\n",
       "    </tr>\n",
       "    <tr>\n",
       "      <th>13</th>\n",
       "      <td>0.095541</td>\n",
       "    </tr>\n",
       "    <tr>\n",
       "      <th>26</th>\n",
       "      <td>0.152866</td>\n",
       "    </tr>\n",
       "    <tr>\n",
       "      <th>66</th>\n",
       "      <td>0.095541</td>\n",
       "    </tr>\n",
       "    <tr>\n",
       "      <th>132</th>\n",
       "      <td>0.146497</td>\n",
       "    </tr>\n",
       "  </tbody>\n",
       "</table>\n",
       "</div>"
      ],
      "text/plain": [
       "     frequency\n",
       "3     0.203822\n",
       "6     0.305732\n",
       "13    0.095541\n",
       "26    0.152866\n",
       "66    0.095541\n",
       "132   0.146497"
      ]
     },
     "execution_count": 40,
     "metadata": {},
     "output_type": "execute_result"
    }
   ],
   "source": [
    "labels = list(label_transform.classes_)\n",
    "frequencies = y_train_binary.mean(axis=0)\n",
    "frequencies_df = pd.DataFrame(frequencies, index=labels, columns=['frequency'])\n",
    "frequencies_df"
   ]
  },
  {
   "cell_type": "code",
   "execution_count": 62,
   "metadata": {},
   "outputs": [
    {
     "data": {
      "text/html": [
       "<div>\n",
       "<style scoped>\n",
       "    .dataframe tbody tr th:only-of-type {\n",
       "        vertical-align: middle;\n",
       "    }\n",
       "\n",
       "    .dataframe tbody tr th {\n",
       "        vertical-align: top;\n",
       "    }\n",
       "\n",
       "    .dataframe thead th {\n",
       "        text-align: right;\n",
       "    }\n",
       "</style>\n",
       "<table border=\"1\" class=\"dataframe\">\n",
       "  <thead>\n",
       "    <tr style=\"text-align: right;\">\n",
       "      <th></th>\n",
       "      <th>frequency</th>\n",
       "    </tr>\n",
       "  </thead>\n",
       "  <tbody>\n",
       "    <tr>\n",
       "      <th>3</th>\n",
       "      <td>0.2450</td>\n",
       "    </tr>\n",
       "    <tr>\n",
       "      <th>6</th>\n",
       "      <td>0.2525</td>\n",
       "    </tr>\n",
       "    <tr>\n",
       "      <th>13</th>\n",
       "      <td>0.1300</td>\n",
       "    </tr>\n",
       "    <tr>\n",
       "      <th>26</th>\n",
       "      <td>0.1225</td>\n",
       "    </tr>\n",
       "    <tr>\n",
       "      <th>66</th>\n",
       "      <td>0.1200</td>\n",
       "    </tr>\n",
       "    <tr>\n",
       "      <th>132</th>\n",
       "      <td>0.1300</td>\n",
       "    </tr>\n",
       "  </tbody>\n",
       "</table>\n",
       "</div>"
      ],
      "text/plain": [
       "     frequency\n",
       "3       0.2450\n",
       "6       0.2525\n",
       "13      0.1300\n",
       "26      0.1225\n",
       "66      0.1200\n",
       "132     0.1300"
      ]
     },
     "execution_count": 62,
     "metadata": {},
     "output_type": "execute_result"
    }
   ],
   "source": [
    "labels = list(label_transform.classes_)\n",
    "frequencies = y_test_binary.mean(axis=0)\n",
    "frequencies_df = pd.DataFrame(frequencies, index=labels, columns=['frequency'])\n",
    "frequencies_df"
   ]
  },
  {
   "cell_type": "markdown",
   "metadata": {},
   "source": [
    "### Note:\n",
    "We have more data on group 2 than on group 1. And far more data for stimuli 3 than for stimuli 13 and 66 (not surprising). \n",
    "\n",
    "--> post on balancing datasets: https://towardsdatascience.com/handling-imbalanced-datasets-in-deep-learning-f48407a0e758\n",
    "\n",
    "### Needs some thinking on how to balance the data set !\n",
    "e.g. by frequency dependend selection rule, or by defining a suitied special loss function...."
   ]
  },
  {
   "cell_type": "code",
   "execution_count": 41,
   "metadata": {},
   "outputs": [],
   "source": [
    "from sklearn.utils import class_weight\n",
    "class_weight = class_weight.compute_class_weight('balanced'\n",
    "                                               ,np.unique(y_train)\n",
    "                                               ,y_train)"
   ]
  },
  {
   "cell_type": "code",
   "execution_count": 42,
   "metadata": {},
   "outputs": [
    {
     "data": {
      "text/plain": [
       "array([0.81770833, 0.54513889, 1.74444444, 1.09027778, 1.74444444,\n",
       "       1.13768116])"
      ]
     },
     "execution_count": 42,
     "metadata": {},
     "output_type": "execute_result"
    }
   ],
   "source": [
    "class_weight"
   ]
  },
  {
   "cell_type": "code",
   "execution_count": 43,
   "metadata": {},
   "outputs": [],
   "source": [
    "class_weight = {0: class_weight[0],\n",
    "               1: class_weight[1],\n",
    "               2: class_weight[2],\n",
    "               3: class_weight[3],\n",
    "               4: class_weight[4],\n",
    "               5: class_weight[5]}"
   ]
  },
  {
   "cell_type": "markdown",
   "metadata": {},
   "source": [
    "## Define model architecture"
   ]
  },
  {
   "cell_type": "code",
   "execution_count": 44,
   "metadata": {},
   "outputs": [],
   "source": [
    "import tensorflow as tf\n",
    "from tensorflow.keras import layers"
   ]
  },
  {
   "cell_type": "code",
   "execution_count": 45,
   "metadata": {},
   "outputs": [],
   "source": [
    "from tensorflow.keras.callbacks import ModelCheckpoint, EarlyStopping\n",
    "output_file = 'CNN_EEG_classifier_avg_02'\n",
    "\n",
    "checkpointer = ModelCheckpoint(filepath = PATH_MODELS + output_file + \".hdf5\", monitor='val_acc', verbose=1, save_best_only=True)\n",
    "earlystopper = EarlyStopping(monitor='val_acc', patience=5, verbose=1)"
   ]
  },
  {
   "cell_type": "code",
   "execution_count": 46,
   "metadata": {},
   "outputs": [
    {
     "name": "stdout",
     "output_type": "stream",
     "text": [
      "WARNING:tensorflow:From C:\\Users\\FlorianHuber\\Anaconda3\\envs\\mne\\lib\\site-packages\\tensorflow\\python\\ops\\resource_variable_ops.py:435: colocate_with (from tensorflow.python.framework.ops) is deprecated and will be removed in a future version.\n",
      "Instructions for updating:\n",
      "Colocations handled automatically by placer.\n",
      "WARNING:tensorflow:From C:\\Users\\FlorianHuber\\Anaconda3\\envs\\mne\\lib\\site-packages\\tensorflow\\python\\keras\\layers\\core.py:143: calling dropout (from tensorflow.python.ops.nn_ops) with keep_prob is deprecated and will be removed in a future version.\n",
      "Instructions for updating:\n",
      "Please use `rate` instead of `keep_prob`. Rate should be set to `rate = 1 - keep_prob`.\n"
     ]
    }
   ],
   "source": [
    "# Simple CNN model\n",
    "n_timesteps = 501\n",
    "n_features = 30\n",
    "n_outputs = 6\n",
    "\n",
    "model = tf.keras.Sequential()\n",
    "#model.add(layers.Conv1D(filters=32, kernel_size=20, activation='relu', input_shape=(n_timesteps,n_features)))\n",
    "model.add(layers.Conv1D(filters=32, kernel_size=20, input_shape=(n_timesteps,n_features)))\n",
    "model.add(layers.BatchNormalization())\n",
    "model.add(layers.LeakyReLU())\n",
    "model.add(layers.AveragePooling1D(pool_size=2))\n",
    "\n",
    "model.add(layers.Conv1D(filters=64, kernel_size=10)) #, activation='relu'))\n",
    "model.add(layers.BatchNormalization())\n",
    "model.add(layers.LeakyReLU())\n",
    "model.add(layers.AveragePooling1D(pool_size=2))\n",
    "\n",
    "model.add(layers.Conv1D(filters=64, kernel_size=5)) #, activation='relu'))\n",
    "model.add(layers.BatchNormalization())\n",
    "model.add(layers.LeakyReLU())\n",
    "model.add(layers.AveragePooling1D(pool_size=2))\n",
    "\n",
    "#model.add(layers.Conv1D(filters=96, kernel_size=3, activation='relu'))\n",
    "#model.add(layers.AveragePooling1D(pool_size=2))\n",
    "#model.add(layers.MaxPooling1D(pool_size=2))\n",
    "\n",
    "model.add(layers.Flatten())\n",
    "model.add(layers.Dense(80, activation='relu'))\n",
    "model.add(layers.Dropout(0.5))\n",
    "model.add(layers.Dense(n_outputs, activation='softmax'))\n",
    "#model.compile(loss='categorical_crossentropy', optimizer='adagrad', metrics=['accuracy'])\n",
    "model.compile(loss='categorical_crossentropy', optimizer='adadelta', metrics=['accuracy'])"
   ]
  },
  {
   "cell_type": "code",
   "execution_count": 47,
   "metadata": {},
   "outputs": [
    {
     "name": "stdout",
     "output_type": "stream",
     "text": [
      "_________________________________________________________________\n",
      "Layer (type)                 Output Shape              Param #   \n",
      "=================================================================\n",
      "conv1d (Conv1D)              (None, 482, 32)           19232     \n",
      "_________________________________________________________________\n",
      "batch_normalization_v1 (Batc (None, 482, 32)           128       \n",
      "_________________________________________________________________\n",
      "leaky_re_lu (LeakyReLU)      (None, 482, 32)           0         \n",
      "_________________________________________________________________\n",
      "average_pooling1d (AveragePo (None, 241, 32)           0         \n",
      "_________________________________________________________________\n",
      "conv1d_1 (Conv1D)            (None, 232, 64)           20544     \n",
      "_________________________________________________________________\n",
      "batch_normalization_v1_1 (Ba (None, 232, 64)           256       \n",
      "_________________________________________________________________\n",
      "leaky_re_lu_1 (LeakyReLU)    (None, 232, 64)           0         \n",
      "_________________________________________________________________\n",
      "average_pooling1d_1 (Average (None, 116, 64)           0         \n",
      "_________________________________________________________________\n",
      "conv1d_2 (Conv1D)            (None, 112, 64)           20544     \n",
      "_________________________________________________________________\n",
      "batch_normalization_v1_2 (Ba (None, 112, 64)           256       \n",
      "_________________________________________________________________\n",
      "leaky_re_lu_2 (LeakyReLU)    (None, 112, 64)           0         \n",
      "_________________________________________________________________\n",
      "average_pooling1d_2 (Average (None, 56, 64)            0         \n",
      "_________________________________________________________________\n",
      "flatten (Flatten)            (None, 3584)              0         \n",
      "_________________________________________________________________\n",
      "dense (Dense)                (None, 80)                286800    \n",
      "_________________________________________________________________\n",
      "dropout (Dropout)            (None, 80)                0         \n",
      "_________________________________________________________________\n",
      "dense_1 (Dense)              (None, 6)                 486       \n",
      "=================================================================\n",
      "Total params: 348,246\n",
      "Trainable params: 347,926\n",
      "Non-trainable params: 320\n",
      "_________________________________________________________________\n"
     ]
    }
   ],
   "source": [
    "model.summary()"
   ]
  },
  {
   "cell_type": "code",
   "execution_count": 48,
   "metadata": {},
   "outputs": [
    {
     "name": "stdout",
     "output_type": "stream",
     "text": [
      "Train on 1570 samples, validate on 400 samples\n",
      "WARNING:tensorflow:From C:\\Users\\FlorianHuber\\Anaconda3\\envs\\mne\\lib\\site-packages\\tensorflow\\python\\ops\\math_ops.py:3066: to_int32 (from tensorflow.python.ops.math_ops) is deprecated and will be removed in a future version.\n",
      "Instructions for updating:\n",
      "Use tf.cast instead.\n",
      "Epoch 1/50\n",
      "1568/1570 [============================>.] - ETA: 0s - loss: 1.7407 - acc: 0.3151\n",
      "Epoch 00001: val_acc improved from -inf to 0.20000, saving model to C:\\OneDrive - Netherlands eScience Center\\Project_ePodium\\trained_models\\CNN_EEG_classifier_avg_02.hdf5\n",
      "1570/1570 [==============================] - 8s 5ms/sample - loss: 1.7404 - acc: 0.3146 - val_loss: 1.7505 - val_acc: 0.2000\n",
      "Epoch 2/50\n",
      "1568/1570 [============================>.] - ETA: 0s - loss: 1.3919 - acc: 0.4062\n",
      "Epoch 00002: val_acc did not improve from 0.20000\n",
      "1570/1570 [==============================] - 7s 4ms/sample - loss: 1.3920 - acc: 0.4064 - val_loss: 1.7163 - val_acc: 0.2000\n",
      "Epoch 3/50\n",
      "1568/1570 [============================>.] - ETA: 0s - loss: 1.2415 - acc: 0.4541\n",
      "Epoch 00003: val_acc improved from 0.20000 to 0.34500, saving model to C:\\OneDrive - Netherlands eScience Center\\Project_ePodium\\trained_models\\CNN_EEG_classifier_avg_02.hdf5\n",
      "1570/1570 [==============================] - 7s 5ms/sample - loss: 1.2408 - acc: 0.4548 - val_loss: 1.4838 - val_acc: 0.3450\n",
      "Epoch 4/50\n",
      "1568/1570 [============================>.] - ETA: 0s - loss: 1.0887 - acc: 0.5083\n",
      "Epoch 00004: val_acc did not improve from 0.34500\n",
      "1570/1570 [==============================] - 7s 5ms/sample - loss: 1.0894 - acc: 0.5083 - val_loss: 1.5897 - val_acc: 0.2850\n",
      "Epoch 5/50\n",
      "1568/1570 [============================>.] - ETA: 0s - loss: 1.0416 - acc: 0.5019\n",
      "Epoch 00005: val_acc did not improve from 0.34500\n",
      "1570/1570 [==============================] - 8s 5ms/sample - loss: 1.0432 - acc: 0.5013 - val_loss: 1.4687 - val_acc: 0.2925\n",
      "Epoch 6/50\n",
      "1568/1570 [============================>.] - ETA: 0s - loss: 0.9592 - acc: 0.5306\n",
      "Epoch 00006: val_acc improved from 0.34500 to 0.35750, saving model to C:\\OneDrive - Netherlands eScience Center\\Project_ePodium\\trained_models\\CNN_EEG_classifier_avg_02.hdf5\n",
      "1570/1570 [==============================] - 8s 5ms/sample - loss: 0.9590 - acc: 0.5306 - val_loss: 1.4408 - val_acc: 0.3575\n",
      "Epoch 7/50\n",
      "1568/1570 [============================>.] - ETA: 0s - loss: 0.9151 - acc: 0.5702\n",
      "Epoch 00007: val_acc did not improve from 0.35750\n",
      "1570/1570 [==============================] - 8s 5ms/sample - loss: 0.9140 - acc: 0.5707 - val_loss: 1.4162 - val_acc: 0.3275\n",
      "Epoch 8/50\n",
      "1568/1570 [============================>.] - ETA: 0s - loss: 0.8499 - acc: 0.5848\n",
      "Epoch 00008: val_acc improved from 0.35750 to 0.36500, saving model to C:\\OneDrive - Netherlands eScience Center\\Project_ePodium\\trained_models\\CNN_EEG_classifier_avg_02.hdf5\n",
      "1570/1570 [==============================] - 8s 5ms/sample - loss: 0.8508 - acc: 0.5841 - val_loss: 1.4780 - val_acc: 0.3650\n",
      "Epoch 9/50\n",
      "1568/1570 [============================>.] - ETA: 0s - loss: 0.8306 - acc: 0.5931\n",
      "Epoch 00009: val_acc did not improve from 0.36500\n",
      "1570/1570 [==============================] - 8s 5ms/sample - loss: 0.8306 - acc: 0.5930 - val_loss: 2.2159 - val_acc: 0.3275\n",
      "Epoch 10/50\n",
      "1568/1570 [============================>.] - ETA: 0s - loss: 0.8504 - acc: 0.5918\n",
      "Epoch 00010: val_acc did not improve from 0.36500\n",
      "1570/1570 [==============================] - 8s 5ms/sample - loss: 0.8502 - acc: 0.5917 - val_loss: 1.7476 - val_acc: 0.3450\n",
      "Epoch 11/50\n",
      "1568/1570 [============================>.] - ETA: 0s - loss: 0.7654 - acc: 0.6371\n",
      "Epoch 00011: val_acc improved from 0.36500 to 0.38250, saving model to C:\\OneDrive - Netherlands eScience Center\\Project_ePodium\\trained_models\\CNN_EEG_classifier_avg_02.hdf5\n",
      "1570/1570 [==============================] - 8s 5ms/sample - loss: 0.7659 - acc: 0.6369 - val_loss: 2.0038 - val_acc: 0.3825\n",
      "Epoch 12/50\n",
      "1568/1570 [============================>.] - ETA: 0s - loss: 0.7243 - acc: 0.6435\n",
      "Epoch 00012: val_acc did not improve from 0.38250\n",
      "1570/1570 [==============================] - 9s 6ms/sample - loss: 0.7256 - acc: 0.6433 - val_loss: 2.0769 - val_acc: 0.3700\n",
      "Epoch 13/50\n",
      "1568/1570 [============================>.] - ETA: 0s - loss: 0.7165 - acc: 0.6505\n",
      "Epoch 00013: val_acc did not improve from 0.38250\n",
      "1570/1570 [==============================] - 9s 6ms/sample - loss: 0.7156 - acc: 0.6510 - val_loss: 1.8672 - val_acc: 0.3450\n",
      "Epoch 14/50\n",
      "1568/1570 [============================>.] - ETA: 0s - loss: 0.6744 - acc: 0.6658\n",
      "Epoch 00014: val_acc did not improve from 0.38250\n",
      "1570/1570 [==============================] - 9s 6ms/sample - loss: 0.6745 - acc: 0.6656 - val_loss: 2.1610 - val_acc: 0.3125\n",
      "Epoch 15/50\n",
      "1568/1570 [============================>.] - ETA: 0s - loss: 0.6478 - acc: 0.6645\n",
      "Epoch 00015: val_acc did not improve from 0.38250\n",
      "1570/1570 [==============================] - 9s 6ms/sample - loss: 0.6487 - acc: 0.6637 - val_loss: 2.3274 - val_acc: 0.3450\n",
      "Epoch 16/50\n",
      "1568/1570 [============================>.] - ETA: 0s - loss: 0.6337 - acc: 0.6735\n",
      "Epoch 00016: val_acc did not improve from 0.38250\n",
      "1570/1570 [==============================] - 9s 6ms/sample - loss: 0.6344 - acc: 0.6732 - val_loss: 2.3489 - val_acc: 0.3350\n",
      "Epoch 00016: early stopping\n"
     ]
    },
    {
     "data": {
      "text/plain": [
       "<tensorflow.python.keras.callbacks.History at 0x21228902da0>"
      ]
     },
     "execution_count": 48,
     "metadata": {},
     "output_type": "execute_result"
    }
   ],
   "source": [
    "epochs = 50\n",
    "batch_size = 32\n",
    "\n",
    "# fit network\n",
    "model.fit(np.swapaxes(X_train,1,2), \n",
    "          y_train_binary, \n",
    "          validation_data=(np.swapaxes(X_val,1,2), y_val_binary), \n",
    "          epochs=epochs, \n",
    "          batch_size=batch_size,\n",
    "          class_weight = class_weight,\n",
    "          callbacks = [checkpointer, earlystopper])"
   ]
  },
  {
   "cell_type": "markdown",
   "metadata": {},
   "source": [
    "## Seems to overfit on the training data and not be able to predict well the validation data"
   ]
  },
  {
   "cell_type": "code",
   "execution_count": 49,
   "metadata": {},
   "outputs": [],
   "source": [
    "# Evaluate the model\n",
    "_, train_acc = model.evaluate(np.swapaxes(X_train,1,2), y_train_binary, verbose=0)\n",
    "_, test_acc = model.evaluate(np.swapaxes(X_test,1,2), y_test_binary, verbose=0)"
   ]
  },
  {
   "cell_type": "code",
   "execution_count": 50,
   "metadata": {},
   "outputs": [
    {
     "name": "stdout",
     "output_type": "stream",
     "text": [
      "Accuracy on train dataset: 0.75605094\n",
      "Accuracy on test dataset: 0.35\n"
     ]
    }
   ],
   "source": [
    "print(\"Accuracy on train dataset:\", train_acc)\n",
    "print(\"Accuracy on test dataset:\", test_acc)"
   ]
  },
  {
   "cell_type": "code",
   "execution_count": 51,
   "metadata": {},
   "outputs": [],
   "source": [
    "Xtest = np.swapaxes(X_test,1,2)\n",
    "\n",
    "# Check model predictions:\n",
    "y_pred_proba = model.predict_proba(Xtest)\n",
    "y_pred_classes = model.predict_classes(Xtest)"
   ]
  },
  {
   "cell_type": "code",
   "execution_count": 67,
   "metadata": {},
   "outputs": [
    {
     "name": "stdout",
     "output_type": "stream",
     "text": [
      "[0 5 0 1 0 1 3 5 0 1 0 4 0 2 3 1 5 1 2 0 2 1 2 0 3 0 3 2 3 4]\n",
      "[0 2 0 1 0 1 2 3 1 0 0 4 0 0 5 1 2 0 3 0 5 0 0 0 5 1 3 3 2 2]\n"
     ]
    }
   ],
   "source": [
    "y_test_05 = np.array(y_test.copy())\n",
    "y_test_05[y_test_05 == 3] = 0\n",
    "y_test_05[y_test_05 == 6] = 1\n",
    "y_test_05[y_test_05 == 13] = 2\n",
    "y_test_05[y_test_05 == 26] = 3\n",
    "y_test_05[y_test_05 == 66] = 4\n",
    "y_test_05[y_test_05 == 132] = 5\n",
    "\n",
    "print(y_test_05[:30].astype(int))\n",
    "print(y_pred_classes[:30])"
   ]
  },
  {
   "cell_type": "code",
   "execution_count": 68,
   "metadata": {},
   "outputs": [
    {
     "name": "stdout",
     "output_type": "stream",
     "text": [
      "0.35\n"
     ]
    }
   ],
   "source": [
    "# Calculate accuracy\n",
    "from sklearn import metrics\n",
    "print(metrics.accuracy_score(y_test_05, y_pred_classes))"
   ]
  },
  {
   "cell_type": "markdown",
   "metadata": {},
   "source": [
    "## Check if groups are predicted correctly:"
   ]
  },
  {
   "cell_type": "code",
   "execution_count": 54,
   "metadata": {},
   "outputs": [
    {
     "name": "stdout",
     "output_type": "stream",
     "text": [
      "[1 2 1 2 1 2 2 2 1 2 1 1 1 1 2 2 2 2 1 1 1 2 1 1 2 1 2 1 2 1]\n",
      "[1 2 1 2 1 2 2 2 2 1 1 2 1 1 2 2 2 1 2 1 2 1 1 1 2 2 2 2 2 2]\n"
     ]
    }
   ],
   "source": [
    "y_test_12 = np.array(y_test.copy())\n",
    "y_test_12[y_test_12 == 132] = 2\n",
    "y_test_12[y_test_12 == 66] = 1\n",
    "y_test_12[y_test_12 == 26] = 2\n",
    "y_test_12[y_test_12 == 13] = 1\n",
    "y_test_12[y_test_12 == 6] = 2\n",
    "y_test_12[y_test_12 == 3] = 1\n",
    "\n",
    "y_pred_12 = y_pred_classes.copy()\n",
    "y_pred_12[(y_pred_12 == 4) | (y_pred_12 == 2) | (y_pred_12 == 0)] = 6\n",
    "y_pred_12[(y_pred_12 == 5) | (y_pred_12 == 3) | (y_pred_12 == 1)] = 2\n",
    "y_pred_12[y_pred_12 == 6] = 1\n",
    "\n",
    "print(y_test_12[:30].astype(int))\n",
    "print(y_pred_12[:30])"
   ]
  },
  {
   "cell_type": "code",
   "execution_count": 55,
   "metadata": {},
   "outputs": [
    {
     "data": {
      "text/plain": [
       "0.4925"
      ]
     },
     "execution_count": 55,
     "metadata": {},
     "output_type": "execute_result"
    }
   ],
   "source": [
    "np.sum(y_test_12 == y_pred_12)/ y_pred_12.shape[0]"
   ]
  },
  {
   "cell_type": "markdown",
   "metadata": {},
   "source": [
    "## Observation:\n",
    "So far this is not working as a proper discriminator between group1 and group2!  \n",
    "The test dataset contains about equal amounts of data from both groups, and the model does do better than random guessing (50% hits)."
   ]
  },
  {
   "cell_type": "code",
   "execution_count": 69,
   "metadata": {},
   "outputs": [
    {
     "data": {
      "text/plain": [
       "array([[57, 39,  0,  1,  1,  0],\n",
       "       [57, 33,  2,  1,  3,  5],\n",
       "       [ 5,  1,  6, 20, 12,  8],\n",
       "       [ 8,  4, 12, 12,  3, 10],\n",
       "       [ 1,  0, 13,  4,  7, 23],\n",
       "       [ 3,  0, 12,  5,  7, 25]], dtype=int64)"
      ]
     },
     "execution_count": 69,
     "metadata": {},
     "output_type": "execute_result"
    }
   ],
   "source": [
    "# Confusion matrix:\n",
    "M_confusion = metrics.confusion_matrix(y_test_05, y_pred_classes)\n",
    "M_confusion"
   ]
  },
  {
   "cell_type": "code",
   "execution_count": 80,
   "metadata": {},
   "outputs": [],
   "source": [
    "def plot_confusion_matrix(y_true, y_pred, classes,\n",
    "                          normalize=False,\n",
    "                          title=None,\n",
    "                          cmap=plt.cm.Blues):\n",
    "    \"\"\"\n",
    "    This function prints and plots the confusion matrix.\n",
    "    Normalization can be applied by setting `normalize=True`.\n",
    "    \"\"\"\n",
    "    from sklearn.utils.multiclass import unique_labels\n",
    "    \n",
    "    if not title:\n",
    "        if normalize:\n",
    "            title = 'Normalized confusion matrix'\n",
    "        else:\n",
    "            title = 'Confusion matrix, without normalization'\n",
    "\n",
    "    # Compute confusion matrix\n",
    "    cm = metrics.confusion_matrix(y_true, y_pred)\n",
    "    ## Only use the labels that appear in the data\n",
    "    #classes = classes[unique_labels(y_true, y_pred)]\n",
    "    if normalize:\n",
    "        cm = cm.astype('float') / cm.sum(axis=1)[:, np.newaxis]\n",
    "        print(\"Normalized confusion matrix\")\n",
    "    else:\n",
    "        print('Confusion matrix, without normalization')\n",
    "\n",
    "    print(cm)\n",
    "\n",
    "    fig, ax = plt.subplots()\n",
    "    im = ax.imshow(cm, interpolation='nearest', cmap=cmap)\n",
    "    ax.figure.colorbar(im, ax=ax)\n",
    "    # We want to show all ticks...\n",
    "    ax.set(xticks=np.arange(cm.shape[1]),\n",
    "           yticks=np.arange(cm.shape[0]),\n",
    "           # ... and label them with the respective list entries\n",
    "           xticklabels=classes, yticklabels=classes,\n",
    "           title=title,\n",
    "           ylabel='True label',\n",
    "           xlabel='Predicted label')\n",
    "\n",
    "    # Rotate the tick labels and set their alignment.\n",
    "    plt.setp(ax.get_xticklabels(), rotation=45, ha=\"right\",\n",
    "             rotation_mode=\"anchor\")\n",
    "\n",
    "    # Loop over data dimensions and create text annotations.\n",
    "    fmt = '.2f' if normalize else 'd'\n",
    "    thresh = cm.max() / 2.\n",
    "    for i in range(cm.shape[0]):\n",
    "        for j in range(cm.shape[1]):\n",
    "            ax.text(j, i, format(cm[i, j], fmt),\n",
    "                    ha=\"center\", va=\"center\",\n",
    "                    color=\"white\" if cm[i, j] > thresh else \"black\")\n",
    "    fig.tight_layout()\n",
    "    return ax"
   ]
  },
  {
   "cell_type": "code",
   "execution_count": 84,
   "metadata": {},
   "outputs": [
    {
     "name": "stdout",
     "output_type": "stream",
     "text": [
      "Normalized confusion matrix\n",
      "[[0.58163265 0.39795918 0.         0.01020408 0.01020408 0.        ]\n",
      " [0.56435644 0.32673267 0.01980198 0.00990099 0.02970297 0.04950495]\n",
      " [0.09615385 0.01923077 0.11538462 0.38461538 0.23076923 0.15384615]\n",
      " [0.16326531 0.08163265 0.24489796 0.24489796 0.06122449 0.20408163]\n",
      " [0.02083333 0.         0.27083333 0.08333333 0.14583333 0.47916667]\n",
      " [0.05769231 0.         0.23076923 0.09615385 0.13461538 0.48076923]]\n"
     ]
    },
    {
     "data": {
      "image/png": "[encoded data removed]",
      "text/plain": [
       "<Figure size 432x288 with 2 Axes>"
      ]
     },
     "metadata": {
      "needs_background": "light"
     },
     "output_type": "display_data"
    }
   ],
   "source": [
    "# Plot normalized confusion matrix\n",
    "labels = list(label_transform.classes_)\n",
    "\n",
    "plot_confusion_matrix(y_test_05, y_pred_classes, classes=labels, normalize=True,\n",
    "                      title='Normalized confusion matrix')\n",
    "\n",
    "plt.savefig('confusion_matrix.pdf')"
   ]
  },
  {
   "cell_type": "markdown",
   "metadata": {},
   "source": [
    "### Interestingly, it might be that the model at least does see a difference between the types of stimuli!"
   ]
  },
  {
   "cell_type": "code",
   "execution_count": 71,
   "metadata": {},
   "outputs": [
    {
     "name": "stdout",
     "output_type": "stream",
     "text": [
      "[1 2 1 1 1 1 2 2 1 1 1 2 1 2 2 1 2 1 2 1 2 1 2 1 2 1 2 2 2 2]\n",
      "[1 2 1 1 1 1 2 2 1 1 1 2 1 1 2 1 2 1 2 1 2 1 1 1 2 1 2 2 2 2]\n"
     ]
    }
   ],
   "source": [
    "y_test_bak_dak = np.array(y_test.copy())\n",
    "y_test_bak_dak[y_test_bak_dak == 132] = 2\n",
    "y_test_bak_dak[y_test_bak_dak == 66] = 2\n",
    "y_test_bak_dak[y_test_bak_dak == 26] = 2\n",
    "y_test_bak_dak[y_test_bak_dak == 13] = 2\n",
    "y_test_bak_dak[y_test_bak_dak == 6] = 1\n",
    "y_test_bak_dak[y_test_bak_dak == 3] = 1\n",
    "\n",
    "y_pred_bak_dak = y_pred_classes.copy()\n",
    "y_pred_bak_dak[y_pred_bak_dak == 2] = 2\n",
    "y_pred_bak_dak[y_pred_bak_dak == 5] = 2\n",
    "y_pred_bak_dak[y_pred_bak_dak == 4] = 2\n",
    "y_pred_bak_dak[y_pred_bak_dak == 3] = 2\n",
    "y_pred_bak_dak[y_pred_bak_dak == 1] = 1\n",
    "y_pred_bak_dak[y_pred_bak_dak == 0] = 1\n",
    "\n",
    "print(y_test_bak_dak[:30].astype(int))\n",
    "print(y_pred_bak_dak[:30])"
   ]
  },
  {
   "cell_type": "code",
   "execution_count": 72,
   "metadata": {},
   "outputs": [
    {
     "data": {
      "text/plain": [
       "0.9125"
      ]
     },
     "execution_count": 72,
     "metadata": {},
     "output_type": "execute_result"
    }
   ],
   "source": [
    "np.sum(y_test_bak_dak == y_pred_bak_dak)/ y_pred_bak_dak.shape[0]"
   ]
  },
  {
   "cell_type": "markdown",
   "metadata": {},
   "source": [
    "## Interestingly though,...\n",
    "That would mean that the model is correct in >95% of all cases in distinguishing 'bak' from 'dak'.  \n",
    "--> **Careful: Needs to be checked if my assumptions about the stimuli are correct...**"
   ]
  },
  {
   "cell_type": "markdown",
   "metadata": {},
   "source": [
    "# 2. Alternative model architecture\n",
    "+ Compression in time axis only after 3 convolutional steps\n",
    "+ Contains batchNormalization layers"
   ]
  },
  {
   "cell_type": "code",
   "execution_count": 85,
   "metadata": {},
   "outputs": [],
   "source": [
    "from tensorflow.keras.callbacks import ModelCheckpoint, EarlyStopping\n",
    "output_file = 'CNN_EEG_classifier_avg_03'\n",
    "\n",
    "checkpointer = ModelCheckpoint(filepath = PATH_MODELS + output_file + \".hdf5\", monitor='val_acc', verbose=1, save_best_only=True)\n",
    "earlystopper = EarlyStopping(monitor='val_acc', patience=5, verbose=1)"
   ]
  },
  {
   "cell_type": "code",
   "execution_count": 86,
   "metadata": {},
   "outputs": [],
   "source": [
    "# Simple CNN model\n",
    "n_timesteps = 501\n",
    "n_features = 30\n",
    "n_outputs = 6\n",
    "\n",
    "model = tf.keras.Sequential()\n",
    "#model.add(layers.Conv1D(filters=32, kernel_size=20, activation='relu', input_shape=(n_timesteps,n_features)))\n",
    "model.add(layers.Conv1D(filters=32, kernel_size=20, input_shape=(n_timesteps,n_features)))\n",
    "model.add(layers.BatchNormalization())\n",
    "model.add(layers.LeakyReLU())\n",
    "\n",
    "model.add(layers.Conv1D(filters=64, kernel_size=10)) #, activation='relu'))\n",
    "model.add(layers.BatchNormalization())\n",
    "model.add(layers.LeakyReLU())\n",
    "\n",
    "model.add(layers.Conv1D(filters=32, kernel_size=5)) #, activation='relu'))\n",
    "model.add(layers.BatchNormalization())\n",
    "model.add(layers.LeakyReLU())\n",
    "model.add(layers.AveragePooling1D(pool_size=4))\n",
    "\n",
    "model.add(layers.Flatten())\n",
    "model.add(layers.Dense(100, activation='relu'))\n",
    "model.add(layers.Dropout(0.5))\n",
    "model.add(layers.Dense(n_outputs, activation='softmax'))\n",
    "model.compile(loss='categorical_crossentropy', optimizer='adagrad', metrics=['accuracy'])\n",
    "#model.compile(loss='categorical_crossentropy', optimizer='adam', metrics=['accuracy'])"
   ]
  },
  {
   "cell_type": "code",
   "execution_count": 87,
   "metadata": {},
   "outputs": [
    {
     "name": "stdout",
     "output_type": "stream",
     "text": [
      "_________________________________________________________________\n",
      "Layer (type)                 Output Shape              Param #   \n",
      "=================================================================\n",
      "conv1d_3 (Conv1D)            (None, 482, 32)           19232     \n",
      "_________________________________________________________________\n",
      "batch_normalization_v1_3 (Ba (None, 482, 32)           128       \n",
      "_________________________________________________________________\n",
      "leaky_re_lu_3 (LeakyReLU)    (None, 482, 32)           0         \n",
      "_________________________________________________________________\n",
      "conv1d_4 (Conv1D)            (None, 473, 64)           20544     \n",
      "_________________________________________________________________\n",
      "batch_normalization_v1_4 (Ba (None, 473, 64)           256       \n",
      "_________________________________________________________________\n",
      "leaky_re_lu_4 (LeakyReLU)    (None, 473, 64)           0         \n",
      "_________________________________________________________________\n",
      "conv1d_5 (Conv1D)            (None, 469, 32)           10272     \n",
      "_________________________________________________________________\n",
      "batch_normalization_v1_5 (Ba (None, 469, 32)           128       \n",
      "_________________________________________________________________\n",
      "leaky_re_lu_5 (LeakyReLU)    (None, 469, 32)           0         \n",
      "_________________________________________________________________\n",
      "average_pooling1d_3 (Average (None, 117, 32)           0         \n",
      "_________________________________________________________________\n",
      "flatten_1 (Flatten)          (None, 3744)              0         \n",
      "_________________________________________________________________\n",
      "dense_2 (Dense)              (None, 100)               374500    \n",
      "_________________________________________________________________\n",
      "dropout_1 (Dropout)          (None, 100)               0         \n",
      "_________________________________________________________________\n",
      "dense_3 (Dense)              (None, 6)                 606       \n",
      "=================================================================\n",
      "Total params: 425,666\n",
      "Trainable params: 425,410\n",
      "Non-trainable params: 256\n",
      "_________________________________________________________________\n"
     ]
    }
   ],
   "source": [
    "model.summary()"
   ]
  },
  {
   "cell_type": "code",
   "execution_count": 88,
   "metadata": {},
   "outputs": [
    {
     "name": "stdout",
     "output_type": "stream",
     "text": [
      "Train on 1570 samples, validate on 400 samples\n",
      "Epoch 1/50\n",
      "1568/1570 [============================>.] - ETA: 0s - loss: 2.4284 - acc: 0.2526\n",
      "Epoch 00001: val_acc improved from -inf to 0.28000, saving model to C:\\OneDrive - Netherlands eScience Center\\Project_ePodium\\trained_models\\CNN_EEG_classifier_avg_03.hdf5\n",
      "1570/1570 [==============================] - 11s 7ms/sample - loss: 2.4266 - acc: 0.2529 - val_loss: 1.6462 - val_acc: 0.2800\n",
      "Epoch 2/50\n",
      "1568/1570 [============================>.] - ETA: 0s - loss: 1.5319 - acc: 0.3571\n",
      "Epoch 00002: val_acc improved from 0.28000 to 0.31500, saving model to C:\\OneDrive - Netherlands eScience Center\\Project_ePodium\\trained_models\\CNN_EEG_classifier_avg_03.hdf5\n",
      "1570/1570 [==============================] - 9s 6ms/sample - loss: 1.5322 - acc: 0.3573 - val_loss: 1.6122 - val_acc: 0.3150\n",
      "Epoch 3/50\n",
      "1568/1570 [============================>.] - ETA: 0s - loss: 1.3472 - acc: 0.4037- ETA: 2s - loss: 1.362\n",
      "Epoch 00003: val_acc did not improve from 0.31500\n",
      "1570/1570 [==============================] - 10s 6ms/sample - loss: 1.3477 - acc: 0.4032 - val_loss: 1.5866 - val_acc: 0.2700\n",
      "Epoch 4/50\n",
      "1568/1570 [============================>.] - ETA: 0s - loss: 1.2731 - acc: 0.4356\n",
      "Epoch 00004: val_acc improved from 0.31500 to 0.36500, saving model to C:\\OneDrive - Netherlands eScience Center\\Project_ePodium\\trained_models\\CNN_EEG_classifier_avg_03.hdf5\n",
      "1570/1570 [==============================] - 11s 7ms/sample - loss: 1.2732 - acc: 0.4357 - val_loss: 1.4765 - val_acc: 0.3650\n",
      "Epoch 5/50\n",
      "1568/1570 [============================>.] - ETA: 0s - loss: 1.2246 - acc: 0.4349\n",
      "Epoch 00005: val_acc did not improve from 0.36500\n",
      "1570/1570 [==============================] - 11s 7ms/sample - loss: 1.2242 - acc: 0.4350 - val_loss: 1.3904 - val_acc: 0.3550\n",
      "Epoch 6/50\n",
      "1568/1570 [============================>.] - ETA: 0s - loss: 1.1266 - acc: 0.4630\n",
      "Epoch 00006: val_acc did not improve from 0.36500\n",
      "1570/1570 [==============================] - 13s 8ms/sample - loss: 1.1289 - acc: 0.4624 - val_loss: 1.4084 - val_acc: 0.3250\n",
      "Epoch 7/50\n",
      "1568/1570 [============================>.] - ETA: 0s - loss: 1.1087 - acc: 0.4643\n",
      "Epoch 00007: val_acc improved from 0.36500 to 0.38500, saving model to C:\\OneDrive - Netherlands eScience Center\\Project_ePodium\\trained_models\\CNN_EEG_classifier_avg_03.hdf5\n",
      "1570/1570 [==============================] - 12s 8ms/sample - loss: 1.1086 - acc: 0.4650 - val_loss: 1.3403 - val_acc: 0.3850\n",
      "Epoch 8/50\n",
      "1568/1570 [============================>.] - ETA: 0s - loss: 1.0840 - acc: 0.4713\n",
      "Epoch 00008: val_acc did not improve from 0.38500\n",
      "1570/1570 [==============================] - 12s 8ms/sample - loss: 1.0871 - acc: 0.4713 - val_loss: 1.5891 - val_acc: 0.3400\n",
      "Epoch 9/50\n",
      "1568/1570 [============================>.] - ETA: 0s - loss: 1.1173 - acc: 0.4452\n",
      "Epoch 00009: val_acc improved from 0.38500 to 0.39250, saving model to C:\\OneDrive - Netherlands eScience Center\\Project_ePodium\\trained_models\\CNN_EEG_classifier_avg_03.hdf5\n",
      "1570/1570 [==============================] - 13s 8ms/sample - loss: 1.1172 - acc: 0.4452 - val_loss: 1.3117 - val_acc: 0.3925\n",
      "Epoch 10/50\n",
      "1568/1570 [============================>.] - ETA: 0s - loss: 1.0105 - acc: 0.4892\n",
      "Epoch 00010: val_acc improved from 0.39250 to 0.39500, saving model to C:\\OneDrive - Netherlands eScience Center\\Project_ePodium\\trained_models\\CNN_EEG_classifier_avg_03.hdf5\n",
      "1570/1570 [==============================] - 12s 8ms/sample - loss: 1.0100 - acc: 0.4892 - val_loss: 1.2898 - val_acc: 0.3950\n",
      "Epoch 11/50\n",
      "1568/1570 [============================>.] - ETA: 0s - loss: 0.9689 - acc: 0.5057\n",
      "Epoch 00011: val_acc did not improve from 0.39500\n",
      "1570/1570 [==============================] - 13s 8ms/sample - loss: 0.9691 - acc: 0.5057 - val_loss: 1.4349 - val_acc: 0.3950\n",
      "Epoch 12/50\n",
      "1568/1570 [============================>.] - ETA: 0s - loss: 0.9588 - acc: 0.5038\n",
      "Epoch 00012: val_acc improved from 0.39500 to 0.44250, saving model to C:\\OneDrive - Netherlands eScience Center\\Project_ePodium\\trained_models\\CNN_EEG_classifier_avg_03.hdf5\n",
      "1570/1570 [==============================] - 13s 8ms/sample - loss: 0.9589 - acc: 0.5032 - val_loss: 1.5581 - val_acc: 0.4425\n",
      "Epoch 13/50\n",
      "1568/1570 [============================>.] - ETA: 0s - loss: 0.9124 - acc: 0.5172\n",
      "Epoch 00013: val_acc did not improve from 0.44250\n",
      "1570/1570 [==============================] - 13s 8ms/sample - loss: 0.9117 - acc: 0.5172 - val_loss: 1.3457 - val_acc: 0.3800\n",
      "Epoch 14/50\n",
      "1568/1570 [============================>.] - ETA: 0s - loss: 0.8909 - acc: 0.5274\n",
      "Epoch 00014: val_acc did not improve from 0.44250\n",
      "1570/1570 [==============================] - 13s 8ms/sample - loss: 0.8907 - acc: 0.5280 - val_loss: 1.3348 - val_acc: 0.4000\n",
      "Epoch 15/50\n",
      "1568/1570 [============================>.] - ETA: 0s - loss: 0.8991 - acc: 0.5344\n",
      "Epoch 00015: val_acc did not improve from 0.44250\n",
      "1570/1570 [==============================] - 13s 8ms/sample - loss: 0.8986 - acc: 0.5344 - val_loss: 1.3935 - val_acc: 0.3575\n",
      "Epoch 16/50\n",
      "1568/1570 [============================>.] - ETA: 0s - loss: 0.8464 - acc: 0.5300\n",
      "Epoch 00016: val_acc did not improve from 0.44250\n",
      "1570/1570 [==============================] - 12s 8ms/sample - loss: 0.8472 - acc: 0.5299 - val_loss: 1.4040 - val_acc: 0.3325\n",
      "Epoch 17/50\n",
      "1568/1570 [============================>.] - ETA: 0s - loss: 0.8579 - acc: 0.5491\n",
      "Epoch 00017: val_acc did not improve from 0.44250\n",
      "1570/1570 [==============================] - 13s 8ms/sample - loss: 0.8574 - acc: 0.5497 - val_loss: 1.4090 - val_acc: 0.3900\n",
      "Epoch 00017: early stopping\n"
     ]
    },
    {
     "data": {
      "text/plain": [
       "<tensorflow.python.keras.callbacks.History at 0x21246a4b550>"
      ]
     },
     "execution_count": 88,
     "metadata": {},
     "output_type": "execute_result"
    }
   ],
   "source": [
    "epochs = 50\n",
    "batch_size = 32\n",
    "\n",
    "# fit network\n",
    "model.fit(np.swapaxes(X_train,1,2), \n",
    "          y_train_binary, \n",
    "          validation_data=(np.swapaxes(X_val,1,2), y_val_binary), \n",
    "          epochs=epochs, \n",
    "          batch_size=batch_size,\n",
    "          class_weight = class_weight,\n",
    "          callbacks = [checkpointer, earlystopper])"
   ]
  },
  {
   "cell_type": "markdown",
   "metadata": {},
   "source": [
    "## Seems to overfit on the training data and not be able to predict well the validation data"
   ]
  },
  {
   "cell_type": "code",
   "execution_count": 89,
   "metadata": {},
   "outputs": [],
   "source": [
    "# Evaluate the model\n",
    "_, train_acc = model.evaluate(np.swapaxes(X_train,1,2), y_train_binary, verbose=0)\n",
    "_, test_acc = model.evaluate(np.swapaxes(X_test,1,2), y_test_binary, verbose=0)"
   ]
  },
  {
   "cell_type": "code",
   "execution_count": 90,
   "metadata": {},
   "outputs": [
    {
     "name": "stdout",
     "output_type": "stream",
     "text": [
      "Accuracy on train dataset: 0.61910826\n",
      "Accuracy on test dataset: 0.365\n"
     ]
    }
   ],
   "source": [
    "print(\"Accuracy on train dataset:\", train_acc)\n",
    "print(\"Accuracy on test dataset:\", test_acc)"
   ]
  },
  {
   "cell_type": "code",
   "execution_count": 91,
   "metadata": {},
   "outputs": [],
   "source": [
    "Xtest = np.swapaxes(X_test,1,2)\n",
    "\n",
    "# Check model predictions:\n",
    "y_pred_proba = model.predict_proba(Xtest)\n",
    "y_pred_classes = model.predict_classes(Xtest)"
   ]
  },
  {
   "cell_type": "code",
   "execution_count": 93,
   "metadata": {},
   "outputs": [
    {
     "name": "stdout",
     "output_type": "stream",
     "text": [
      "[0 5 0 1 0 1 3 5 0 1 0 4 0 2 3 1 5 1 2 0]\n",
      "[1 2 2 2 1 1 2 2 0 0 0 1 1 2 5 0 2 0 3 0]\n"
     ]
    }
   ],
   "source": [
    "y_test_05 = np.array(y_test.copy())\n",
    "y_test_05[y_test_05 == 3] = 0\n",
    "y_test_05[y_test_05 == 6] = 1\n",
    "y_test_05[y_test_05 == 13] = 2\n",
    "y_test_05[y_test_05 == 26] = 3\n",
    "y_test_05[y_test_05 == 66] = 4\n",
    "y_test_05[y_test_05 == 132] = 5\n",
    "\n",
    "print(y_test_05[:20].astype(int))\n",
    "print(y_pred_classes[:20])"
   ]
  },
  {
   "cell_type": "code",
   "execution_count": 94,
   "metadata": {},
   "outputs": [
    {
     "name": "stdout",
     "output_type": "stream",
     "text": [
      "0.365\n"
     ]
    }
   ],
   "source": [
    "# Calculate accuracy\n",
    "from sklearn import metrics\n",
    "print(metrics.accuracy_score(y_test_05, y_pred_classes))"
   ]
  },
  {
   "cell_type": "markdown",
   "metadata": {},
   "source": [
    "## Check if groups are predicted correctly:"
   ]
  },
  {
   "cell_type": "code",
   "execution_count": 98,
   "metadata": {},
   "outputs": [
    {
     "name": "stdout",
     "output_type": "stream",
     "text": [
      "[1 2 1 2 1 2 2 2 1 2 1 1 1 1 2 2 2 2 1 1 1 2 1 1 2 1 2 1 2 1]\n",
      "[2 1 1 1 2 2 1 1 1 1 1 2 2 1 2 1 1 1 2 1 1 1 2 1 1 2 1 2 1 1]\n"
     ]
    }
   ],
   "source": [
    "y_test_12 = np.array(y_test.copy())\n",
    "y_test_12[y_test_12 == 132] = 2\n",
    "y_test_12[y_test_12 == 66] = 1\n",
    "y_test_12[y_test_12 == 26] = 2\n",
    "y_test_12[y_test_12 == 13] = 1\n",
    "y_test_12[y_test_12 == 6] = 2\n",
    "y_test_12[y_test_12 == 3] = 1\n",
    "\n",
    "y_pred_12 = y_pred_classes.copy()\n",
    "y_pred_12[(y_pred_12 == 4) | (y_pred_12 == 2) | (y_pred_12 == 0)] = 6\n",
    "y_pred_12[(y_pred_12 == 5) | (y_pred_12 == 3) | (y_pred_12 == 1)] = 2\n",
    "y_pred_12[y_pred_12 == 6] = 1\n",
    "\n",
    "print(y_test_12[:30].astype(int))\n",
    "print(y_pred_12[:30])"
   ]
  },
  {
   "cell_type": "code",
   "execution_count": 99,
   "metadata": {},
   "outputs": [
    {
     "data": {
      "text/plain": [
       "0.4875"
      ]
     },
     "execution_count": 99,
     "metadata": {},
     "output_type": "execute_result"
    }
   ],
   "source": [
    "np.sum(y_test_12 == y_pred_12)/ y_pred_12.shape[0]"
   ]
  },
  {
   "cell_type": "code",
   "execution_count": 109,
   "metadata": {},
   "outputs": [
    {
     "name": "stdout",
     "output_type": "stream",
     "text": [
      "Normalized confusion matrix\n",
      "[[0.58080808 0.41919192]\n",
      " [0.6039604  0.3960396 ]]\n"
     ]
    },
    {
     "data": {
      "image/png": "[encoded data removed]",
      "text/plain": [
       "<Figure size 432x288 with 2 Axes>"
      ]
     },
     "metadata": {
      "needs_background": "light"
     },
     "output_type": "display_data"
    }
   ],
   "source": [
    "# Plot normalized confusion matrix\n",
    "labels = list(label_transform.classes_)\n",
    "\n",
    "plot_confusion_matrix(y_test_12, y_pred_12, classes=['risk', 'non-risk'], normalize=True,\n",
    "                      title='Normalized confusion matrix')\n",
    "\n",
    "plt.savefig('confusion_matrix12.pdf')"
   ]
  },
  {
   "cell_type": "markdown",
   "metadata": {},
   "source": [
    "## Note:\n",
    "Groups are not correctly predicted. It's not better than trowing dices..."
   ]
  },
  {
   "cell_type": "markdown",
   "metadata": {},
   "source": [
    "## Check if stimuli types are predicted correctly:"
   ]
  },
  {
   "cell_type": "code",
   "execution_count": 102,
   "metadata": {},
   "outputs": [
    {
     "name": "stdout",
     "output_type": "stream",
     "text": [
      "[1 3 1 1 1 1 2 3 1 1 1 3 1 2 2 1 3 1 2 1 2 1 2 1 2 1 2 2 2 3]\n",
      "[1 2 2 2 1 1 2 2 1 1 1 1 1 2 3 1 2 1 2 1 3 1 2 1 3 1 2 2 3 2]\n"
     ]
    }
   ],
   "source": [
    "y_test_123 = np.array(y_test.copy())\n",
    "y_test_123[y_test_123 == 6] = 1\n",
    "y_test_123[y_test_123 == 3] = 1\n",
    "y_test_123[y_test_123 == 26] = 2\n",
    "y_test_123[y_test_123 == 13] = 2\n",
    "y_test_123[y_test_123 == 132] = 3\n",
    "y_test_123[y_test_123 == 66] = 3\n",
    "\n",
    "y_pred_123 = y_pred_classes.copy()\n",
    "y_pred_123[(y_pred_123 == 1) | (y_pred_123 == 0)] = 1\n",
    "y_pred_123[(y_pred_123 == 3) | (y_pred_123 == 2)] = 2\n",
    "y_pred_123[(y_pred_123 == 5) | (y_pred_123 == 4)] = 3\n",
    "\n",
    "print(y_test_123[:30].astype(int))\n",
    "print(y_pred_123[:30])"
   ]
  },
  {
   "cell_type": "code",
   "execution_count": 103,
   "metadata": {},
   "outputs": [
    {
     "data": {
      "text/plain": [
       "0.7475"
      ]
     },
     "execution_count": 103,
     "metadata": {},
     "output_type": "execute_result"
    }
   ],
   "source": [
    "np.sum(y_test_123 == y_pred_123)/ y_pred_123.shape[0]"
   ]
  },
  {
   "cell_type": "code",
   "execution_count": 110,
   "metadata": {},
   "outputs": [
    {
     "name": "stdout",
     "output_type": "stream",
     "text": [
      "Normalized confusion matrix\n",
      "[[0.90954774 0.07035176 0.0201005 ]\n",
      " [0.05940594 0.68316832 0.25742574]\n",
      " [0.13       0.38       0.49      ]]\n"
     ]
    },
    {
     "data": {
      "image/png": "[encoded data removed]",
      "text/plain": [
       "<Figure size 432x288 with 2 Axes>"
      ]
     },
     "metadata": {
      "needs_background": "light"
     },
     "output_type": "display_data"
    }
   ],
   "source": [
    "# Plot normalized confusion matrix\n",
    "labels = list(label_transform.classes_)\n",
    "\n",
    "plot_confusion_matrix(y_test_123, y_pred_123, classes=['standard', 'deviant 1', 'deviant 2'], normalize=True,\n",
    "                      title='Normalized confusion matrix')\n",
    "\n",
    "plt.savefig('confusion_matrix123.pdf')"
   ]
  },
  {
   "cell_type": "markdown",
   "metadata": {},
   "source": [
    "## Observation:\n",
    "So far this is not working as a proper discriminator between group1 and group2!  \n",
    "The test dataset contains about equal amounts of data from both groups, and the model does do better than random guessing (50% hits)."
   ]
  },
  {
   "cell_type": "code",
   "execution_count": 100,
   "metadata": {},
   "outputs": [
    {
     "data": {
      "text/plain": [
       "array([[47, 45,  2,  3,  1,  0],\n",
       "       [44, 45,  5,  4,  3,  0],\n",
       "       [ 0,  0, 25, 13, 14,  0],\n",
       "       [ 3,  3, 20, 11,  8,  4],\n",
       "       [ 0,  3, 11,  7, 15, 12],\n",
       "       [ 3,  7, 17,  3, 19,  3]], dtype=int64)"
      ]
     },
     "execution_count": 100,
     "metadata": {},
     "output_type": "execute_result"
    }
   ],
   "source": [
    "# Confusion matrix:\n",
    "M_confusion = metrics.confusion_matrix(y_test_05, y_pred_classes)\n",
    "M_confusion"
   ]
  },
  {
   "cell_type": "code",
   "execution_count": 101,
   "metadata": {},
   "outputs": [
    {
     "name": "stdout",
     "output_type": "stream",
     "text": [
      "Normalized confusion matrix\n",
      "[[0.47959184 0.45918367 0.02040816 0.03061224 0.01020408 0.        ]\n",
      " [0.43564356 0.44554455 0.04950495 0.03960396 0.02970297 0.        ]\n",
      " [0.         0.         0.48076923 0.25       0.26923077 0.        ]\n",
      " [0.06122449 0.06122449 0.40816327 0.2244898  0.16326531 0.08163265]\n",
      " [0.         0.0625     0.22916667 0.14583333 0.3125     0.25      ]\n",
      " [0.05769231 0.13461538 0.32692308 0.05769231 0.36538462 0.05769231]]\n"
     ]
    },
    {
     "data": {
      "image/png": "[encoded data removed]",
      "text/plain": [
       "<Figure size 432x288 with 2 Axes>"
      ]
     },
     "metadata": {
      "needs_background": "light"
     },
     "output_type": "display_data"
    }
   ],
   "source": [
    "# Plot normalized confusion matrix\n",
    "labels = list(label_transform.classes_)\n",
    "\n",
    "plot_confusion_matrix(y_test_05, y_pred_classes, classes=labels, normalize=True,\n",
    "                      title='Normalized confusion matrix')\n",
    "\n",
    "plt.savefig('confusion_matrix2.pdf')"
   ]
  },
  {
   "cell_type": "markdown",
   "metadata": {},
   "source": [
    "# 3. Train on only stimuli labels (not including patient groups)"
   ]
  },
  {
   "cell_type": "code",
   "execution_count": 143,
   "metadata": {},
   "outputs": [],
   "source": [
    "old_label = [3,6,13,26,66,132]\n",
    "new_label = [3,3,13,13,66,66]\n",
    "\n",
    "y_train_123 = np.zeros((len(y_train)))\n",
    "for i, old in enumerate(old_label):\n",
    "    y_train_123[np.where(np.array(y_train) == old)[0]] = new_label[i]\n",
    "\n",
    "y_val_123 = np.zeros((len(y_val)))\n",
    "for i, old in enumerate(old_label):\n",
    "    y_val_123[np.where(np.array(y_val) == old)[0]] = new_label[i]\n",
    "    \n",
    "y_test_123 = np.zeros((len(y_test)))\n",
    "for i, old in enumerate(old_label):\n",
    "    y_test_123[np.where(np.array(y_test) == old)[0]] = new_label[i]"
   ]
  },
  {
   "cell_type": "code",
   "execution_count": 144,
   "metadata": {},
   "outputs": [],
   "source": [
    "label_transform = LabelBinarizer()\n",
    "\n",
    "y_train123_binary = label_transform.fit_transform(np.array(y_train_123).astype(int))\n",
    "y_val123_binary = label_transform.fit_transform(np.array(y_val_123).astype(int))\n",
    "y_test123_binary = label_transform.fit_transform(np.array(y_test_123).astype(int))"
   ]
  },
  {
   "cell_type": "code",
   "execution_count": 117,
   "metadata": {},
   "outputs": [],
   "source": [
    "from tensorflow.keras.callbacks import ModelCheckpoint, EarlyStopping\n",
    "output_file = 'CNN_EEG_classifier_avg_123'\n",
    "\n",
    "checkpointer = ModelCheckpoint(filepath = PATH_MODELS + output_file + \".hdf5\", monitor='val_acc', verbose=1, save_best_only=True)\n",
    "earlystopper = EarlyStopping(monitor='val_acc', patience=5, verbose=1)"
   ]
  },
  {
   "cell_type": "code",
   "execution_count": 118,
   "metadata": {},
   "outputs": [],
   "source": [
    "# Simple CNN model\n",
    "n_timesteps = 501\n",
    "n_features = 30\n",
    "n_outputs = 3\n",
    "\n",
    "model = tf.keras.Sequential()\n",
    "model.add(layers.Conv1D(filters=32, kernel_size=20, input_shape=(n_timesteps,n_features)))\n",
    "model.add(layers.BatchNormalization())\n",
    "model.add(layers.LeakyReLU())\n",
    "\n",
    "model.add(layers.Conv1D(filters=64, kernel_size=10)) #, activation='relu'))\n",
    "model.add(layers.BatchNormalization())\n",
    "model.add(layers.LeakyReLU())\n",
    "\n",
    "model.add(layers.Conv1D(filters=32, kernel_size=5)) #, activation='relu'))\n",
    "model.add(layers.BatchNormalization())\n",
    "model.add(layers.LeakyReLU())\n",
    "model.add(layers.AveragePooling1D(pool_size=4))\n",
    "\n",
    "model.add(layers.Flatten())\n",
    "model.add(layers.Dense(100, activation='relu'))\n",
    "model.add(layers.Dropout(0.5))\n",
    "model.add(layers.Dense(n_outputs, activation='softmax'))\n",
    "model.compile(loss='categorical_crossentropy', optimizer='adadelta', metrics=['accuracy'])"
   ]
  },
  {
   "cell_type": "code",
   "execution_count": 119,
   "metadata": {},
   "outputs": [
    {
     "name": "stdout",
     "output_type": "stream",
     "text": [
      "_________________________________________________________________\n",
      "Layer (type)                 Output Shape              Param #   \n",
      "=================================================================\n",
      "conv1d_6 (Conv1D)            (None, 482, 32)           19232     \n",
      "_________________________________________________________________\n",
      "batch_normalization_v1_6 (Ba (None, 482, 32)           128       \n",
      "_________________________________________________________________\n",
      "leaky_re_lu_6 (LeakyReLU)    (None, 482, 32)           0         \n",
      "_________________________________________________________________\n",
      "conv1d_7 (Conv1D)            (None, 473, 64)           20544     \n",
      "_________________________________________________________________\n",
      "batch_normalization_v1_7 (Ba (None, 473, 64)           256       \n",
      "_________________________________________________________________\n",
      "leaky_re_lu_7 (LeakyReLU)    (None, 473, 64)           0         \n",
      "_________________________________________________________________\n",
      "conv1d_8 (Conv1D)            (None, 469, 32)           10272     \n",
      "_________________________________________________________________\n",
      "batch_normalization_v1_8 (Ba (None, 469, 32)           128       \n",
      "_________________________________________________________________\n",
      "leaky_re_lu_8 (LeakyReLU)    (None, 469, 32)           0         \n",
      "_________________________________________________________________\n",
      "average_pooling1d_4 (Average (None, 117, 32)           0         \n",
      "_________________________________________________________________\n",
      "flatten_2 (Flatten)          (None, 3744)              0         \n",
      "_________________________________________________________________\n",
      "dense_4 (Dense)              (None, 100)               374500    \n",
      "_________________________________________________________________\n",
      "dropout_2 (Dropout)          (None, 100)               0         \n",
      "_________________________________________________________________\n",
      "dense_5 (Dense)              (None, 3)                 303       \n",
      "=================================================================\n",
      "Total params: 425,363\n",
      "Trainable params: 425,107\n",
      "Non-trainable params: 256\n",
      "_________________________________________________________________\n"
     ]
    }
   ],
   "source": [
    "model.summary()"
   ]
  },
  {
   "cell_type": "code",
   "execution_count": 146,
   "metadata": {},
   "outputs": [
    {
     "data": {
      "text/plain": [
       "array([[0, 1, 0],\n",
       "       [0, 0, 1],\n",
       "       [0, 1, 0],\n",
       "       [1, 0, 0],\n",
       "       [1, 0, 0],\n",
       "       [0, 1, 0],\n",
       "       [0, 1, 0],\n",
       "       [1, 0, 0],\n",
       "       [1, 0, 0],\n",
       "       [1, 0, 0]])"
      ]
     },
     "execution_count": 146,
     "metadata": {},
     "output_type": "execute_result"
    }
   ],
   "source": [
    "y_train123_binary[:10,:]"
   ]
  },
  {
   "cell_type": "code",
   "execution_count": null,
   "metadata": {},
   "outputs": [],
   "source": []
  },
  {
   "cell_type": "code",
   "execution_count": 135,
   "metadata": {},
   "outputs": [
    {
     "name": "stdout",
     "output_type": "stream",
     "text": [
      "Train on 1570 samples, validate on 400 samples\n",
      "Epoch 1/50\n",
      "1568/1570 [============================>.] - ETA: 0s - loss: 0.7090 - acc: 0.7022\n",
      "Epoch 00001: val_acc improved from -inf to 0.66250, saving model to C:\\OneDrive - Netherlands eScience Center\\Project_ePodium\\trained_models\\CNN_EEG_classifier_avg_123.hdf5\n",
      "1570/1570 [==============================] - 15s 9ms/sample - loss: 0.7082 - acc: 0.7025 - val_loss: 0.8976 - val_acc: 0.6625\n",
      "Epoch 2/50\n",
      "1568/1570 [============================>.] - ETA: 0s - loss: 0.3524 - acc: 0.8202\n",
      "Epoch 00002: val_acc did not improve from 0.66250\n",
      "1570/1570 [==============================] - 10s 6ms/sample - loss: 0.3524 - acc: 0.8204 - val_loss: 0.9801 - val_acc: 0.4700\n",
      "Epoch 3/50\n",
      "1568/1570 [============================>.] - ETA: 0s - loss: 0.2842 - acc: 0.8610\n",
      "Epoch 00003: val_acc did not improve from 0.66250\n",
      "1570/1570 [==============================] - 11s 7ms/sample - loss: 0.2840 - acc: 0.8611 - val_loss: 0.7242 - val_acc: 0.6550\n",
      "Epoch 4/50\n",
      "1568/1570 [============================>.] - ETA: 0s - loss: 0.2333 - acc: 0.8890\n",
      "Epoch 00004: val_acc improved from 0.66250 to 0.70750, saving model to C:\\OneDrive - Netherlands eScience Center\\Project_ePodium\\trained_models\\CNN_EEG_classifier_avg_123.hdf5\n",
      "1570/1570 [==============================] - 11s 7ms/sample - loss: 0.2331 - acc: 0.8892 - val_loss: 0.7299 - val_acc: 0.7075\n",
      "Epoch 5/50\n",
      "1568/1570 [============================>.] - ETA: 0s - loss: 0.2046 - acc: 0.8941\n",
      "Epoch 00005: val_acc improved from 0.70750 to 0.75000, saving model to C:\\OneDrive - Netherlands eScience Center\\Project_ePodium\\trained_models\\CNN_EEG_classifier_avg_123.hdf5\n",
      "1570/1570 [==============================] - 11s 7ms/sample - loss: 0.2055 - acc: 0.8936 - val_loss: 0.7212 - val_acc: 0.7500\n",
      "Epoch 6/50\n",
      "1568/1570 [============================>.] - ETA: 0s - loss: 0.1812 - acc: 0.9158\n",
      "Epoch 00006: val_acc improved from 0.75000 to 0.78250, saving model to C:\\OneDrive - Netherlands eScience Center\\Project_ePodium\\trained_models\\CNN_EEG_classifier_avg_123.hdf5\n",
      "1570/1570 [==============================] - 12s 7ms/sample - loss: 0.1811 - acc: 0.9159 - val_loss: 0.6441 - val_acc: 0.7825\n",
      "Epoch 7/50\n",
      "1568/1570 [============================>.] - ETA: 0s - loss: 0.1666 - acc: 0.9184\n",
      "Epoch 00007: val_acc did not improve from 0.78250\n",
      "1570/1570 [==============================] - 12s 8ms/sample - loss: 0.1667 - acc: 0.9178 - val_loss: 0.8346 - val_acc: 0.7700\n",
      "Epoch 8/50\n",
      "1568/1570 [============================>.] - ETA: 0s - loss: 0.1526 - acc: 0.9235\n",
      "Epoch 00008: val_acc improved from 0.78250 to 0.79000, saving model to C:\\OneDrive - Netherlands eScience Center\\Project_ePodium\\trained_models\\CNN_EEG_classifier_avg_123.hdf5\n",
      "1570/1570 [==============================] - 12s 8ms/sample - loss: 0.1524 - acc: 0.9236 - val_loss: 0.7880 - val_acc: 0.7900\n",
      "Epoch 9/50\n",
      "1568/1570 [============================>.] - ETA: 0s - loss: 0.1368 - acc: 0.9349\n",
      "Epoch 00009: val_acc improved from 0.79000 to 0.81250, saving model to C:\\OneDrive - Netherlands eScience Center\\Project_ePodium\\trained_models\\CNN_EEG_classifier_avg_123.hdf5\n",
      "1570/1570 [==============================] - 12s 8ms/sample - loss: 0.1366 - acc: 0.9350 - val_loss: 0.9044 - val_acc: 0.8125\n",
      "Epoch 10/50\n",
      "1568/1570 [============================>.] - ETA: 0s - loss: 0.1257 - acc: 0.9445\n",
      "Epoch 00010: val_acc did not improve from 0.81250\n",
      "1570/1570 [==============================] - 12s 8ms/sample - loss: 0.1256 - acc: 0.9446 - val_loss: 1.3302 - val_acc: 0.7600\n",
      "Epoch 11/50\n",
      "1568/1570 [============================>.] - ETA: 0s - loss: 0.1336 - acc: 0.9369\n",
      "Epoch 00011: val_acc did not improve from 0.81250\n",
      "1570/1570 [==============================] - 12s 8ms/sample - loss: 0.1334 - acc: 0.9369 - val_loss: 1.1152 - val_acc: 0.8050\n",
      "Epoch 12/50\n",
      "1568/1570 [============================>.] - ETA: 0s - loss: 0.0966 - acc: 0.9547\n",
      "Epoch 00012: val_acc did not improve from 0.81250\n",
      "1570/1570 [==============================] - 12s 8ms/sample - loss: 0.0969 - acc: 0.9541 - val_loss: 1.1139 - val_acc: 0.7700\n",
      "Epoch 13/50\n",
      "1568/1570 [============================>.] - ETA: 0s - loss: 0.0927 - acc: 0.9554\n",
      "Epoch 00013: val_acc did not improve from 0.81250\n",
      "1570/1570 [==============================] - 12s 8ms/sample - loss: 0.0926 - acc: 0.9554 - val_loss: 1.2825 - val_acc: 0.7750\n",
      "Epoch 14/50\n",
      "1568/1570 [============================>.] - ETA: 0s - loss: 0.0997 - acc: 0.9534\n",
      "Epoch 00014: val_acc did not improve from 0.81250\n",
      "1570/1570 [==============================] - 12s 8ms/sample - loss: 0.0996 - acc: 0.9535 - val_loss: 1.3904 - val_acc: 0.7925\n",
      "Epoch 00014: early stopping\n"
     ]
    },
    {
     "data": {
      "text/plain": [
       "<tensorflow.python.keras.callbacks.History at 0x212626c5198>"
      ]
     },
     "execution_count": 135,
     "metadata": {},
     "output_type": "execute_result"
    }
   ],
   "source": [
    "epochs = 50\n",
    "batch_size = 32\n",
    "\n",
    "# Fit network\n",
    "model.fit(np.swapaxes(X_train,1,2), \n",
    "          y_train123_binary, \n",
    "          validation_data=(np.swapaxes(X_val,1,2), y_val123_binary), \n",
    "          epochs=epochs, \n",
    "          batch_size=batch_size,\n",
    "          class_weight = class_weight,\n",
    "          callbacks = [checkpointer, earlystopper])"
   ]
  },
  {
   "cell_type": "code",
   "execution_count": 151,
   "metadata": {},
   "outputs": [],
   "source": [
    "# Check model predictions:\n",
    "y_pred_123 = model.predict_classes(Xtest)"
   ]
  },
  {
   "cell_type": "code",
   "execution_count": 152,
   "metadata": {},
   "outputs": [],
   "source": [
    "y_pred_123 = y_pred_123.copy()\n",
    "y_pred_123[y_pred_123 == 2] = 66\n",
    "y_pred_123[y_pred_123 == 1] = 13\n",
    "y_pred_123[y_pred_123 == 0] = 3"
   ]
  },
  {
   "cell_type": "code",
   "execution_count": 150,
   "metadata": {},
   "outputs": [
    {
     "data": {
      "text/plain": [
       "array([ 3., 66.,  3.,  3.,  3.,  3., 13., 66.,  3.,  3.,  3., 66.,  3.,\n",
       "       13., 13.,  3., 66.,  3., 13.,  3.])"
      ]
     },
     "execution_count": 150,
     "metadata": {},
     "output_type": "execute_result"
    }
   ],
   "source": [
    "y_test_123[:20]"
   ]
  },
  {
   "cell_type": "code",
   "execution_count": 153,
   "metadata": {},
   "outputs": [
    {
     "name": "stdout",
     "output_type": "stream",
     "text": [
      "Normalized confusion matrix\n",
      "[[0.95979899 0.0201005  0.0201005 ]\n",
      " [0.07920792 0.68316832 0.23762376]\n",
      " [0.1        0.38       0.52      ]]\n"
     ]
    },
    {
     "data": {
      "image/png": "[encoded data removed]",
      "text/plain": [
       "<Figure size 432x288 with 2 Axes>"
      ]
     },
     "metadata": {
      "needs_background": "light"
     },
     "output_type": "display_data"
    }
   ],
   "source": [
    "# Plot normalized confusion matrix\n",
    "plot_confusion_matrix(y_test_123, y_pred_123, classes=['standard', 'deviant 1', 'deviant 2'], normalize=True,\n",
    "                      title='Normalized confusion matrix')\n",
    "\n",
    "plt.savefig('confusion_matrix123_training123.pdf')"
   ]
  }
 ],
 "metadata": {
  "kernelspec": {
   "display_name": "Python 3",
   "language": "python",
   "name": "python3"
  },
  "language_info": {
   "codemirror_mode": {
    "name": "ipython",
    "version": 3
   },
   "file_extension": ".py",
   "mimetype": "text/x-python",
   "name": "python",
   "nbconvert_exporter": "python",
   "pygments_lexer": "ipython3",
   "version": "3.6.8"
  }
 },
 "nbformat": 4,
 "nbformat_minor": 2
}
