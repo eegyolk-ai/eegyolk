{
 "cells": [
  {
   "cell_type": "markdown",
   "metadata": {},
   "source": [
    "# Try out CNN on averaged EEG data\n",
    "\n",
    "## Pre-processing\n",
    "+ Import data.\n",
    "+ Apply filters (bandpass).\n",
    "+ Detect potential bad channels and replace them by interpolation.\n",
    "+ Detect potential bad epochs and remove them.\n",
    "+ Average over a number of randomly drawn epochs (of same person and same stimuli).\n",
    "\n",
    "## Train CNN network\n",
    "+ Define network architecture\n",
    "+ Split data\n",
    "+ Train model\n"
   ]
  },
  {
   "cell_type": "markdown",
   "metadata": {},
   "source": [
    "## Import packages & links"
   ]
  },
  {
   "cell_type": "code",
   "execution_count": 1,
   "metadata": {},
   "outputs": [],
   "source": [
    "# Import packages\n",
    "import os\n",
    "import sys\n",
    "import csv\n",
    "import fnmatch\n",
    "import numpy as np\n",
    "import pandas as pd\n",
    "import matplotlib.pyplot as plt\n",
    "sys.path.insert(0, os.path.dirname(os.getcwd()))\n",
    "\n",
    "import mne\n",
    "#%matplotlib inline\n",
    "#from mayavi import mlab"
   ]
  },
  {
   "cell_type": "code",
   "execution_count": 2,
   "metadata": {},
   "outputs": [],
   "source": [
    "from config import ROOT, PATH_CODE, PATH_DATA, PATH_OUTPUT, PATH_METADATA\n",
    "PATH_CNTS = os.path.join(PATH_DATA, \"17mnd mmn\")"
   ]
  },
  {
   "cell_type": "markdown",
   "metadata": {},
   "source": [
    "## Load pre-processed dataset\n",
    "+ See notebook for preprocessing: ePODIUM_prepare_data_for_ML.ipynb.ipynb"
   ]
  },
  {
   "cell_type": "code",
   "execution_count": 3,
   "metadata": {},
   "outputs": [],
   "source": [
    "PATH_DATA_processed = os.path.join(PATH_DATA, 'processed_data')\n",
    "\n",
    "dirs = os.listdir(PATH_DATA_processed)\n",
    "files_npy = fnmatch.filter(dirs, \"*.npy\")\n",
    "files_csv = fnmatch.filter(dirs, \"*.csv\")"
   ]
  },
  {
   "cell_type": "code",
   "execution_count": 4,
   "metadata": {},
   "outputs": [
    {
     "data": {
      "text/plain": [
       "(237, 237)"
      ]
     },
     "execution_count": 4,
     "metadata": {},
     "output_type": "execute_result"
    }
   ],
   "source": [
    "len(files_csv), len(files_npy)"
   ]
  },
  {
   "cell_type": "markdown",
   "metadata": {},
   "source": [
    "### Count the (main) labels for all present files"
   ]
  },
  {
   "cell_type": "code",
   "execution_count": 5,
   "metadata": {},
   "outputs": [],
   "source": [
    "def read_labels(filename, PATH):\n",
    "    metadata = []\n",
    "    filename = os.path.join(PATH, filename)\n",
    "    with open(filename, 'r') as readFile:\n",
    "        reader = csv.reader(readFile, delimiter=',')\n",
    "        for row in reader:\n",
    "            #if len(row) > 0:\n",
    "            metadata.append(row)\n",
    "    readFile.close()\n",
    "    \n",
    "    return metadata[0]"
   ]
  },
  {
   "cell_type": "code",
   "execution_count": 6,
   "metadata": {},
   "outputs": [],
   "source": [
    "label_collection = []\n",
    "label_counts = []\n",
    "\n",
    "for filename in files_csv:\n",
    "    y_EEG = read_labels(filename, PATH_DATA_processed)\n",
    "    labels_unique = list(set(y_EEG))\n",
    "    label_collection.append(labels_unique)\n",
    "    \n",
    "    # Count instances for each unique label\n",
    "    label_count = []\n",
    "    for label in labels_unique:\n",
    "        idx = np.where(np.array(y_EEG) == label)[0]\n",
    "        label_count.append(len(idx))\n",
    "    label_counts.append(label_count)"
   ]
  },
  {
   "cell_type": "code",
   "execution_count": 44,
   "metadata": {},
   "outputs": [
    {
     "data": {
      "text/plain": [
       "([[50, 400, 50],\n",
       "  [50, 394, 49],\n",
       "  [48, 378, 48],\n",
       "  [46, 389, 46],\n",
       "  [45, 358, 44],\n",
       "  [50, 394, 48],\n",
       "  [48, 382, 48],\n",
       "  [49, 318, 40],\n",
       "  [44, 356, 44],\n",
       "  [49, 390, 49]],\n",
       " [['66dys0_risk0', '3dys0_risk0', '13dys0_risk0'],\n",
       "  ['66dys0_risk0', '3dys0_risk0', '13dys0_risk0'],\n",
       "  ['66dys0_risk0', '3dys0_risk0', '13dys0_risk0'],\n",
       "  ['66dys0_risk0', '3dys0_risk0', '13dys0_risk0'],\n",
       "  ['66dys0_risk0', '3dys0_risk0', '13dys0_risk0'],\n",
       "  ['66dys0_risk0', '3dys0_risk0', '13dys0_risk0'],\n",
       "  ['66dys0_risk0', '3dys0_risk0', '13dys0_risk0'],\n",
       "  ['66dys0_risk0', '3dys0_risk0', '13dys0_risk0'],\n",
       "  ['66dys0_risk0', '3dys0_risk0', '13dys0_risk0'],\n",
       "  ['66dys0_risk0', '3dys0_risk0', '13dys0_risk0'],\n",
       "  ['66dys0_risk0', '3dys0_risk0', '13dys0_risk0'],\n",
       "  ['13dys0_risk0'],\n",
       "  ['66dys0_risk0', '3dys0_risk0', '13dys0_risk0'],\n",
       "  ['66dys0_risk0', '3dys0_risk0', '13dys0_risk0'],\n",
       "  ['66dys0_risk0', '3dys0_risk0', '13dys0_risk0'],\n",
       "  ['66dys0_risk0', '3dys0_risk0', '13dys0_risk0'],\n",
       "  ['66dys0_risk0', '3dys0_risk0', '13dys0_risk0'],\n",
       "  ['66dys0_risk0', '3dys0_risk0', '13dys0_risk0'],\n",
       "  ['66dys0_risk0', '3dys0_risk0', '13dys0_risk0'],\n",
       "  ['66dys0_risk0', '3dys0_risk0', '13dys0_risk0'],\n",
       "  ['66dys0_risk0', '3dys0_risk0', '13dys0_risk0'],\n",
       "  ['13dys0_risk1', '3dys0_risk1', '66dys0_risk1'],\n",
       "  ['13dys0_risk1', '3dys0_risk1', '66dys0_risk1'],\n",
       "  ['13dys0_risk1', '3dys0_risk1', '66dys0_risk1'],\n",
       "  ['66dys1_risk1', '13dys1_risk1', '3dys1_risk1'],\n",
       "  ['13dys0_risk1', '3dys0_risk1', '66dys0_risk1'],\n",
       "  ['66dys1_risk1', '13dys1_risk1', '3dys1_risk1'],\n",
       "  ['66dys1_risk1', '13dys1_risk1', '3dys1_risk1'],\n",
       "  ['13dys0_risk1', '3dys0_risk1', '66dys0_risk1'],\n",
       "  ['13dys0_risk1', '3dys0_risk1', '66dys0_risk1'],\n",
       "  ['66dys1_risk1', '13dys1_risk1', '3dys1_risk1'],\n",
       "  ['66dys1_risk1', '13dys1_risk1', '3dys1_risk1'],\n",
       "  ['13dys0_risk1', '3dys0_risk1', '66dys0_risk1'],\n",
       "  ['66dys1_risk1', '13dys1_risk1', '3dys1_risk1'],\n",
       "  ['66dys1_risk1', '13dys1_risk1', '3dys1_risk1'],\n",
       "  ['66dys1_risk1', '13dys1_risk1', '3dys1_risk1'],\n",
       "  ['13dys0_risk1', '3dys0_risk1', '66dys0_risk1'],\n",
       "  ['13dys0_risk1', '3dys0_risk1', '66dys0_risk1'],\n",
       "  ['66dys1_risk1', '13dys1_risk1', '3dys1_risk1'],\n",
       "  ['13dys0_risk1', '3dys0_risk1', '66dys0_risk1'],\n",
       "  ['13dys0_risk1', '3dys0_risk1', '66dys0_risk1'],\n",
       "  ['66dys1_risk1', '13dys1_risk1', '3dys1_risk1'],\n",
       "  ['13dys0_risk1', '3dys0_risk1', '66dys0_risk1'],\n",
       "  ['66dys1_risk1', '13dys1_risk1', '3dys1_risk1'],\n",
       "  ['66dys1_risk1', '13dys1_risk1', '3dys1_risk1'],\n",
       "  ['13dys0_risk1', '3dys0_risk1', '66dys0_risk1'],\n",
       "  ['13dys0_risk1', '3dys0_risk1', '66dys0_risk1'],\n",
       "  ['66dys1_risk1', '13dys1_risk1', '3dys1_risk1'],\n",
       "  ['13dys0_risk1', '3dys0_risk1', '66dys0_risk1'],\n",
       "  ['66dys1_risk1', '13dys1_risk1', '3dys1_risk1'],\n",
       "  ['66dys1_risk1', '13dys1_risk1', '3dys1_risk1'],\n",
       "  ['13dys0_risk1', '3dys0_risk1', '66dys0_risk1'],\n",
       "  ['66dys1_risk1', '13dys1_risk1', '3dys1_risk1'],\n",
       "  ['13dys0_risk1', '3dys0_risk1', '66dys0_risk1'],\n",
       "  ['66dys1_risk1', '13dys1_risk1', '3dys1_risk1'],\n",
       "  ['13dys0_risk1', '3dys0_risk1', '66dys0_risk1'],\n",
       "  ['66dys1_risk1', '13dys1_risk1', '3dys1_risk1'],\n",
       "  ['13dys0_risk1', '3dys0_risk1', '66dys0_risk1'],\n",
       "  ['13dys0_risk1', '3dys0_risk1', '66dys0_risk1'],\n",
       "  ['13dys0_risk1', '3dys0_risk1', '66dys0_risk1'],\n",
       "  ['13dys0_risk1', '3dys0_risk1', '66dys0_risk1'],\n",
       "  ['13dys0_risk1', '3dys0_risk1', '66dys0_risk1'],\n",
       "  ['13dys0_risk1', '3dys0_risk1', '66dys0_risk1'],\n",
       "  ['13dys0_risk1', '3dys0_risk1', '66dys0_risk1'],\n",
       "  ['13dys1_risk1'],\n",
       "  ['66dys1_risk1', '13dys1_risk1', '3dys1_risk1'],\n",
       "  ['66dys1_risk1', '13dys1_risk1', '3dys1_risk1'],\n",
       "  ['66dys1_risk1', '13dys1_risk1', '3dys1_risk1'],\n",
       "  ['66dys1_risk1', '13dys1_risk1', '3dys1_risk1'],\n",
       "  ['66dys1_risk1', '13dys1_risk1', '3dys1_risk1'],\n",
       "  ['66dys0_risk0', '3dys0_risk0', '13dys0_risk0'],\n",
       "  ['66dys0_risk0', '3dys0_risk0', '13dys0_risk0'],\n",
       "  ['66dys0_risk0', '3dys0_risk0', '13dys0_risk0'],\n",
       "  ['66dys0_risk0', '3dys0_risk0', '13dys0_risk0'],\n",
       "  ['66dys0_risk0', '3dys0_risk0', '13dys0_risk0'],\n",
       "  ['66dys0_risk0', '3dys0_risk0', '13dys0_risk0'],\n",
       "  ['66dys0_risk0', '3dys0_risk0', '13dys0_risk0'],\n",
       "  ['66dys0_risk0', '3dys0_risk0', '13dys0_risk0'],\n",
       "  ['66dys0_risk0', '3dys0_risk0', '13dys0_risk0'],\n",
       "  ['66dys0_risk0', '3dys0_risk0', '13dys0_risk0'],\n",
       "  ['66dys0_risk0', '3dys0_risk0', '13dys0_risk0'],\n",
       "  ['66dys0_risk0', '3dys0_risk0', '13dys0_risk0'],\n",
       "  ['66dys0_risk0', '3dys0_risk0', '13dys0_risk0'],\n",
       "  ['66dys0_risk0', '3dys0_risk0', '13dys0_risk0'],\n",
       "  ['66dys0_risk0', '3dys0_risk0', '13dys0_risk0'],\n",
       "  ['66dys0_risk0', '3dys0_risk0', '13dys0_risk0'],\n",
       "  ['66dys0_risk0', '3dys0_risk0', '13dys0_risk0'],\n",
       "  ['66dys0_risk0', '3dys0_risk0', '13dys0_risk0'],\n",
       "  ['66dys0_risk0', '3dys0_risk0', '13dys0_risk0'],\n",
       "  ['66dys0_risk0', '3dys0_risk0', '13dys0_risk0'],\n",
       "  ['66dys0_risk0', '3dys0_risk0', '13dys0_risk0'],\n",
       "  ['66dys0_risk0', '3dys0_risk0', '13dys0_risk0'],\n",
       "  ['66dys0_risk0', '3dys0_risk0', '13dys0_risk0'],\n",
       "  ['66dys0_risk0', '3dys0_risk0', '13dys0_risk0'],\n",
       "  ['66dys0_risk0', '3dys0_risk0', '13dys0_risk0'],\n",
       "  ['66dys0_risk0', '3dys0_risk0', '13dys0_risk0'],\n",
       "  ['66dys0_risk0', '3dys0_risk0', '13dys0_risk0'],\n",
       "  ['66dys0_risk0', '3dys0_risk0', '13dys0_risk0'],\n",
       "  ['66dys0_risk0', '3dys0_risk0', '13dys0_risk0'],\n",
       "  ['66dys0_risk0', '3dys0_risk0', '13dys0_risk0'],\n",
       "  ['66dys0_risk0', '3dys0_risk0', '13dys0_risk0'],\n",
       "  ['66dys0_risk0', '3dys0_risk0', '13dys0_risk0'],\n",
       "  ['66dys0_risk0', '3dys0_risk0', '13dys0_risk0'],\n",
       "  ['13dys0_risk1', '3dys0_risk1', '66dys0_risk1'],\n",
       "  ['66dys0_risk0', '3dys0_risk0', '13dys0_risk0'],\n",
       "  ['13dys0_risk1', '3dys0_risk1', '66dys0_risk1'],\n",
       "  ['13dys0_risk1', '3dys0_risk1', '66dys0_risk1'],\n",
       "  ['13dys0_risk1', '3dys0_risk1', '66dys0_risk1'],\n",
       "  ['13dys0_risk1', '3dys0_risk1', '66dys0_risk1'],\n",
       "  ['66dys1_risk1', '13dys1_risk1', '3dys1_risk1'],\n",
       "  ['66dys1_risk1', '13dys1_risk1', '3dys1_risk1'],\n",
       "  ['66dys1_risk1', '13dys1_risk1', '3dys1_risk1'],\n",
       "  ['66dys1_risk1', '13dys1_risk1', '3dys1_risk1'],\n",
       "  ['66dys1_risk1', '13dys1_risk1', '3dys1_risk1'],\n",
       "  ['13dys0_risk1', '3dys0_risk1', '66dys0_risk1'],\n",
       "  ['66dys1_risk1', '13dys1_risk1', '3dys1_risk1'],\n",
       "  ['66dys1_risk1', '13dys1_risk1', '3dys1_risk1'],\n",
       "  ['66dys1_risk1', '13dys1_risk1', '3dys1_risk1'],\n",
       "  ['13dys0_risk1', '3dys0_risk1', '66dys0_risk1'],\n",
       "  ['66dys1_risk1', '13dys1_risk1', '3dys1_risk1'],\n",
       "  ['66dys1_risk1', '13dys1_risk1', '3dys1_risk1'],\n",
       "  ['13dys0_risk1', '3dys0_risk1', '66dys0_risk1'],\n",
       "  ['66dys1_risk1', '13dys1_risk1', '3dys1_risk1'],\n",
       "  ['13dys0_risk1', '3dys0_risk1', '66dys0_risk1'],\n",
       "  ['13dys0_risk1', '3dys0_risk1', '66dys0_risk1'],\n",
       "  ['66dys1_risk1', '13dys1_risk1', '3dys1_risk1'],\n",
       "  ['66dys0_risk0', '3dys0_risk0', '13dys0_risk0'],\n",
       "  ['66dys1_risk1', '13dys1_risk1', '3dys1_risk1'],\n",
       "  ['13dys0_risk1', '3dys0_risk1', '66dys0_risk1'],\n",
       "  ['13dys0_risk1'],\n",
       "  ['13dys0_risk1'],\n",
       "  ['66dys1_risk1', '13dys1_risk1', '3dys1_risk1'],\n",
       "  ['66dys1_risk1', '13dys1_risk1', '3dys1_risk1'],\n",
       "  ['66dys1_risk1', '13dys1_risk1', '3dys1_risk1'],\n",
       "  ['13dys0_risk1', '3dys0_risk1', '66dys0_risk1'],\n",
       "  ['13dys0_risk1', '3dys0_risk1', '66dys0_risk1'],\n",
       "  ['66dys1_risk1', '13dys1_risk1', '3dys1_risk1'],\n",
       "  ['13dys0_risk1', '3dys0_risk1', '66dys0_risk1'],\n",
       "  ['66dys1_risk1', '13dys1_risk1', '3dys1_risk1'],\n",
       "  ['66dys1_risk1', '13dys1_risk1', '3dys1_risk1'],\n",
       "  ['66dys1_risk1', '13dys1_risk1', '3dys1_risk1'],\n",
       "  ['66dys1_risk1', '13dys1_risk1', '3dys1_risk1'],\n",
       "  ['66dys1_risk1', '13dys1_risk1', '3dys1_risk1'],\n",
       "  ['66dys1_risk1', '13dys1_risk1', '3dys1_risk1'],\n",
       "  ['13dys0_risk1', '3dys0_risk1', '66dys0_risk1'],\n",
       "  ['66dys1_risk1', '13dys1_risk1', '3dys1_risk1'],\n",
       "  ['66dys1_risk1', '13dys1_risk1', '3dys1_risk1'],\n",
       "  ['13dys0_risk1', '3dys0_risk1', '66dys0_risk1'],\n",
       "  ['66dys1_risk1', '13dys1_risk1', '3dys1_risk1'],\n",
       "  ['66dys1_risk1', '13dys1_risk1', '3dys1_risk1'],\n",
       "  ['66dys0_risk0', '3dys0_risk0', '13dys0_risk0'],\n",
       "  ['66dys0_risk0', '3dys0_risk0', '13dys0_risk0'],\n",
       "  ['66dys0_risk0', '3dys0_risk0', '13dys0_risk0'],\n",
       "  ['66dys0_risk0', '3dys0_risk0', '13dys0_risk0'],\n",
       "  ['66dys0_risk0', '3dys0_risk0', '13dys0_risk0'],\n",
       "  ['66dys0_risk0', '3dys0_risk0', '13dys0_risk0'],\n",
       "  ['66dys0_risk0', '3dys0_risk0', '13dys0_risk0'],\n",
       "  ['66dys0_risk0', '3dys0_risk0', '13dys0_risk0'],\n",
       "  ['66dys0_risk0', '3dys0_risk0', '13dys0_risk0'],\n",
       "  ['66dys0_risk0', '3dys0_risk0', '13dys0_risk0'],\n",
       "  ['66dys0_risk0', '3dys0_risk0', '13dys0_risk0'],\n",
       "  ['66dys0_risk0', '3dys0_risk0', '13dys0_risk0'],\n",
       "  ['66dys0_risk0', '3dys0_risk0', '13dys0_risk0'],\n",
       "  ['66dys0_risk0', '3dys0_risk0', '13dys0_risk0'],\n",
       "  ['66dys0_risk0', '3dys0_risk0', '13dys0_risk0'],\n",
       "  ['66dys0_risk0', '3dys0_risk0', '13dys0_risk0'],\n",
       "  ['66dys0_risk0', '3dys0_risk0', '13dys0_risk0'],\n",
       "  ['66dys0_risk0', '3dys0_risk0', '13dys0_risk0'],\n",
       "  ['66dys0_risk0', '3dys0_risk0', '13dys0_risk0'],\n",
       "  ['66dys0_risk0', '3dys0_risk0', '13dys0_risk0'],\n",
       "  ['66dys0_risk0', '3dys0_risk0', '13dys0_risk0'],\n",
       "  ['66dys0_risk0', '3dys0_risk0', '13dys0_risk0'],\n",
       "  ['66dys0_risk0', '3dys0_risk0', '13dys0_risk0'],\n",
       "  ['66dys0_risk0', '3dys0_risk0', '13dys0_risk0'],\n",
       "  ['66dys0_risk0', '3dys0_risk0', '13dys0_risk0'],\n",
       "  ['66dys0_risk0', '3dys0_risk0', '13dys0_risk0'],\n",
       "  ['66dys0_risk0', '3dys0_risk0', '13dys0_risk0'],\n",
       "  ['66dys0_risk0', '3dys0_risk0', '13dys0_risk0'],\n",
       "  ['66dys0_risk0', '3dys0_risk0', '13dys0_risk0'],\n",
       "  ['66dys0_risk0', '3dys0_risk0', '13dys0_risk0'],\n",
       "  ['66dys0_risk0', '3dys0_risk0', '13dys0_risk0'],\n",
       "  ['66dys0_risk0', '3dys0_risk0', '13dys0_risk0'],\n",
       "  ['66dys0_risk0', '3dys0_risk0', '13dys0_risk0'],\n",
       "  ['66dys1_risk1', '3dys1_risk1'],\n",
       "  ['66dys1_risk1', '3dys1_risk1'],\n",
       "  ['66dys1_risk1', '3dys1_risk1'],\n",
       "  ['66dys1_risk1', '13dys1_risk1', '3dys1_risk1'],\n",
       "  ['66dys1_risk1', '13dys1_risk1', '3dys1_risk1'],\n",
       "  ['66dys1_risk1', '13dys1_risk1', '3dys1_risk1'],\n",
       "  ['66dys1_risk1', '13dys1_risk1', '3dys1_risk1'],\n",
       "  ['66dys1_risk1', '13dys1_risk1', '3dys1_risk1'],\n",
       "  ['66dys1_risk1', '13dys1_risk1', '3dys1_risk1'],\n",
       "  ['66dys1_risk1', '13dys1_risk1', '3dys1_risk1'],\n",
       "  ['66dys1_risk1', '13dys1_risk1', '3dys1_risk1'],\n",
       "  ['13dys0_risk1', '3dys0_risk1', '66dys0_risk1'],\n",
       "  ['66dys1_risk1', '13dys1_risk1', '3dys1_risk1'],\n",
       "  ['66dys1_risk1', '13dys1_risk1', '3dys1_risk1'],\n",
       "  ['13dys0_risk1', '3dys0_risk1', '66dys0_risk1'],\n",
       "  ['13dys0_risk1', '3dys0_risk1', '66dys0_risk1'],\n",
       "  ['66dys1_risk1', '13dys1_risk1', '3dys1_risk1'],\n",
       "  ['66dys1_risk1', '13dys1_risk1', '3dys1_risk1'],\n",
       "  ['66dys1_risk1', '13dys1_risk1', '3dys1_risk1'],\n",
       "  ['13dys0_risk1', '3dys0_risk1', '66dys0_risk1'],\n",
       "  ['13dys0_risk1', '3dys0_risk1', '66dys0_risk1'],\n",
       "  ['13dys0_risk1', '3dys0_risk1', '66dys0_risk1'],\n",
       "  ['13dys0_risk1', '3dys0_risk1', '66dys0_risk1'],\n",
       "  ['13dys0_risk1', '3dys0_risk1', '66dys0_risk1'],\n",
       "  ['66dys1_risk1', '13dys1_risk1', '3dys1_risk1'],\n",
       "  ['66dys1_risk1', '13dys1_risk1', '3dys1_risk1'],\n",
       "  ['66dys1_risk1', '13dys1_risk1', '3dys1_risk1'],\n",
       "  ['66dys1_risk1', '13dys1_risk1', '3dys1_risk1'],\n",
       "  ['66dys1_risk1', '13dys1_risk1', '3dys1_risk1'],\n",
       "  ['66dys1_risk1', '13dys1_risk1', '3dys1_risk1'],\n",
       "  ['13dys0_risk1', '3dys0_risk1', '66dys0_risk1'],\n",
       "  ['66dys1_risk1', '13dys1_risk1', '3dys1_risk1'],\n",
       "  ['66dys1_risk1', '13dys1_risk1', '3dys1_risk1'],\n",
       "  ['66dys1_risk1', '13dys1_risk1', '3dys1_risk1'],\n",
       "  ['66dys1_risk1', '13dys1_risk1', '3dys1_risk1'],\n",
       "  ['66dys0_risk0', '3dys0_risk0', '13dys0_risk0'],\n",
       "  ['66dys0_risk0', '3dys0_risk0', '13dys0_risk0'],\n",
       "  ['66dys0_risk0', '3dys0_risk0', '13dys0_risk0'],\n",
       "  ['13dys0_risk1', '3dys0_risk1', '66dys0_risk1'],\n",
       "  ['66dys1_risk1', '13dys1_risk1', '3dys1_risk1'],\n",
       "  ['13dys0_risk1', '3dys0_risk1', '66dys0_risk1'],\n",
       "  ['13dys0_risk1', '3dys0_risk1', '66dys0_risk1'],\n",
       "  ['66dys1_risk1', '13dys1_risk1', '3dys1_risk1'],\n",
       "  ['13dys0_risk1', '3dys0_risk1', '66dys0_risk1'],\n",
       "  ['66dys1_risk1', '13dys1_risk1', '3dys1_risk1'],\n",
       "  ['13dys0_risk1', '3dys0_risk1', '66dys0_risk1'],\n",
       "  ['66dys1_risk1', '13dys1_risk1', '3dys1_risk1'],\n",
       "  ['66dys1_risk1', '13dys1_risk1', '3dys1_risk1'],\n",
       "  ['66dys1_risk1', '13dys1_risk1', '3dys1_risk1'],\n",
       "  ['13dys0_risk1', '3dys0_risk1', '66dys0_risk1'],\n",
       "  ['66dys1_risk1', '13dys1_risk1', '3dys1_risk1'],\n",
       "  ['66dys1_risk1', '13dys1_risk1', '3dys1_risk1'],\n",
       "  ['66dys1_risk1', '13dys1_risk1', '3dys1_risk1'],\n",
       "  ['66dys1_risk1', '13dys1_risk1', '3dys1_risk1']])"
      ]
     },
     "execution_count": 44,
     "metadata": {},
     "output_type": "execute_result"
    }
   ],
   "source": [
    "label_counts[:10], label_collection"
   ]
  },
  {
   "cell_type": "code",
   "execution_count": 7,
   "metadata": {},
   "outputs": [],
   "source": [
    "def transform_label(label,\n",
    "                   label_dict,\n",
    "                   main_label_dict = None):\n",
    "    if label in label_dict:\n",
    "        label_new = label_dict[label]\n",
    "    else:\n",
    "        label_new = None\n",
    "    \n",
    "    if main_label_dict is not None:\n",
    "        if label in main_label_dict:\n",
    "            main_label = main_label_dict[label]\n",
    "        else:\n",
    "            main_label = None\n",
    "        return label_new, main_label\n",
    "    \n",
    "    else:\n",
    "        return label_new\n",
    "    "
   ]
  },
  {
   "cell_type": "markdown",
   "metadata": {},
   "source": [
    "### Define new labels"
   ]
  },
  {
   "cell_type": "code",
   "execution_count": 8,
   "metadata": {},
   "outputs": [
    {
     "data": {
      "text/plain": [
       "\"\\nmain_label_dict  = {\\n    '3dys0_risk0': '0',\\n    '13dys0_risk0': '0',\\n    '66dys0_risk0': '0',\\n    '3dys0_risk1': '1',\\n    '13dys0_risk1': '1',\\n    '66dys0_risk1': '1',\\n    '3dys1_risk0': '0',\\n    '13dys1_risk0': '0',\\n    '66dys1_risk0': '0',\\n    '3dys1_risk1': '1',\\n    '13dys1_risk1': '1',\\n    '66dys1_risk1': '1',\\n}\\n\""
      ]
     },
     "execution_count": 8,
     "metadata": {},
     "output_type": "execute_result"
    }
   ],
   "source": [
    "label_dict  = {\n",
    "    '3dys0_risk0': '0',\n",
    "    '13dys0_risk0': '1',\n",
    "    '66dys0_risk0': '2',\n",
    "    '3dys0_risk1': '0',\n",
    "    '13dys0_risk1': '1',\n",
    "    '66dys0_risk1': '2',\n",
    "    '3dys1_risk0': '3',\n",
    "    '13dys1_risk0': '4',\n",
    "    '66dys1_risk0': '5',\n",
    "    '3dys1_risk1': '3',\n",
    "    '13dys1_risk1': '4',\n",
    "    '66dys1_risk1': '5',\n",
    "}\n",
    "\n",
    "\n",
    "main_label_dict  = {\n",
    "    '3dys0_risk0': '0',\n",
    "    '13dys0_risk0': '0',\n",
    "    '66dys0_risk0': '0',\n",
    "    '3dys0_risk1': '0',\n",
    "    '13dys0_risk1': '0',\n",
    "    '66dys0_risk1': '0',\n",
    "    '3dys1_risk0': '1',\n",
    "    '13dys1_risk0': '1',\n",
    "    '66dys1_risk0': '1',\n",
    "    '3dys1_risk1': '1',\n",
    "    '13dys1_risk1': '1',\n",
    "    '66dys1_risk1': '1',\n",
    "}\n",
    "\"\"\"\n",
    "main_label_dict  = {\n",
    "    '3dys0_risk0': '0',\n",
    "    '13dys0_risk0': '0',\n",
    "    '66dys0_risk0': '0',\n",
    "    '3dys0_risk1': '1',\n",
    "    '13dys0_risk1': '1',\n",
    "    '66dys0_risk1': '1',\n",
    "    '3dys1_risk0': '0',\n",
    "    '13dys1_risk0': '0',\n",
    "    '66dys1_risk0': '0',\n",
    "    '3dys1_risk1': '1',\n",
    "    '13dys1_risk1': '1',\n",
    "    '66dys1_risk1': '1',\n",
    "}\n",
    "\"\"\""
   ]
  },
  {
   "cell_type": "markdown",
   "metadata": {},
   "source": [
    "### Collect main labels (here: dyslexic 0 | 1)"
   ]
  },
  {
   "cell_type": "code",
   "execution_count": 9,
   "metadata": {},
   "outputs": [
    {
     "data": {
      "text/plain": [
       "237"
      ]
     },
     "execution_count": 9,
     "metadata": {},
     "output_type": "execute_result"
    }
   ],
   "source": [
    "main_labels = [transform_label(x[0], label_dict, main_label_dict)[1] for x in label_collection]\n",
    "len(main_labels)"
   ]
  },
  {
   "cell_type": "code",
   "execution_count": 10,
   "metadata": {},
   "outputs": [
    {
     "data": {
      "text/plain": [
       "(150, 87)"
      ]
     },
     "execution_count": 10,
     "metadata": {},
     "output_type": "execute_result"
    }
   ],
   "source": [
    "main_labels.count('0'), main_labels.count('1')"
   ]
  },
  {
   "cell_type": "markdown",
   "metadata": {},
   "source": [
    "## Import and initiate data generator function"
   ]
  },
  {
   "cell_type": "code",
   "execution_count": 11,
   "metadata": {},
   "outputs": [],
   "source": [
    "from dataset_generator import DataGenerator"
   ]
  },
  {
   "cell_type": "code",
   "execution_count": 12,
   "metadata": {},
   "outputs": [
    {
     "data": {
      "text/plain": [
       "['processed_data_005_17_jc_mmn36_slp_mmn25_slp_mmn47_mixed.csv',\n",
       " 'processed_data_006_17_mc_mmn36_slp.csv',\n",
       " 'processed_data_008_17_jc_mmn.csv',\n",
       " 'processed_data_008_17_jc_mmn2.csv',\n",
       " 'processed_data_009_17_jc_mmn36_wk_mmn25_wk.csv']"
      ]
     },
     "execution_count": 12,
     "metadata": {},
     "output_type": "execute_result"
    }
   ],
   "source": [
    "files_csv[:5]"
   ]
  },
  {
   "cell_type": "markdown",
   "metadata": {},
   "source": [
    "### Split data set"
   ]
  },
  {
   "cell_type": "code",
   "execution_count": 13,
   "metadata": {},
   "outputs": [
    {
     "name": "stdout",
     "output_type": "stream",
     "text": [
      "Found datapoints for label 1 ---> 87\n",
      "Found datapoints for label 0 ---> 150\n"
     ]
    }
   ],
   "source": [
    "for label in list(set(main_labels)):\n",
    "    print(\"Found datapoints for label\", label, \"--->\", main_labels.count(label))"
   ]
  },
  {
   "cell_type": "code",
   "execution_count": 14,
   "metadata": {},
   "outputs": [
    {
     "data": {
      "text/plain": [
       "(87,)"
      ]
     },
     "execution_count": 14,
     "metadata": {},
     "output_type": "execute_result"
    }
   ],
   "source": [
    "np.where(np.array(main_labels) == '1')[0].shape"
   ]
  },
  {
   "cell_type": "code",
   "execution_count": 30,
   "metadata": {},
   "outputs": [
    {
     "name": "stdout",
     "output_type": "stream",
     "text": [
      "Found 87 datapoints for label 1\n",
      "Split dataset for label 1 into train/val/test fractions: 60 13 14\n",
      "Found 150 datapoints for label 0\n",
      "Split dataset for label 0 into train/val/test fractions: 105 22 23\n"
     ]
    }
   ],
   "source": [
    "np.random.seed(1098)\n",
    "split_ratio = (0.7, 0.15, 0.15)\n",
    "\n",
    "IDs_train = []\n",
    "IDs_val = []\n",
    "IDs_test = []\n",
    "\n",
    "for label in list(set(main_labels)):\n",
    "    idx = np.where(np.array(main_labels) == label)[0]\n",
    "    N_label = len(idx)\n",
    "    print(\"Found\", N_label, \"datapoints for label\", label)\n",
    "    \n",
    "    N_train = int(split_ratio[0] * N_label)\n",
    "    N_val = int(split_ratio[1] * N_label)\n",
    "    N_test = N_label - N_train - N_val\n",
    "    print(\"Split dataset for label\", label, \"into train/val/test fractions:\", N_train, N_val, N_test)\n",
    "    \n",
    "    # Select training, validation, and test IDs:\n",
    "    trainIDs = np.random.choice(idx, N_train, replace=False)\n",
    "    valIDs = np.random.choice(list(set(idx) - set(trainIDs)), N_val, replace=False)\n",
    "    testIDs = list(set(idx) - set(trainIDs) - set(valIDs))\n",
    "    \n",
    "    IDs_train.extend(list(trainIDs))\n",
    "    IDs_val.extend(list(valIDs))\n",
    "    IDs_test.extend(list(testIDs))"
   ]
  },
  {
   "cell_type": "code",
   "execution_count": 31,
   "metadata": {},
   "outputs": [
    {
     "name": "stdout",
     "output_type": "stream",
     "text": [
      "[65, 67, 69, 140, 141, 143, 113, 50, 211, 214, 119, 24, 184, 216, 5, 135, 13, 15, 20, 25, 157, 167, 40, 169, 45, 48, 59, 60, 63, 72, 206, 81, 84, 232, 118, 121, 126]\n"
     ]
    }
   ],
   "source": [
    "print(IDs_test)"
   ]
  },
  {
   "cell_type": "code",
   "execution_count": 32,
   "metadata": {},
   "outputs": [
    {
     "name": "stdout",
     "output_type": "stream",
     "text": [
      "[35, 236, 120, 30, 66, 56, 229, 187, 193, 190, 195, 217, 139, 183, 26, 136, 185, 215, 230, 131, 233, 117, 122, 191, 222, 188, 31, 64, 189, 207, 41, 146, 142, 145, 235, 148, 54, 201, 110, 225, 149, 109, 38, 186, 44, 115, 192, 199, 116, 27, 68, 125, 43, 33, 234, 34, 52, 138, 49, 127, 8, 224, 9, 178, 151, 70, 171, 134, 155, 158, 74, 6, 75, 90, 77, 57, 180, 164, 166, 102, 83, 55, 7, 163, 88, 137, 29, 94, 223, 16, 175, 168, 71, 162, 172, 221, 123, 21, 213, 170, 0, 104, 96, 179, 154, 12, 108, 1, 160, 91, 79, 219, 92, 61, 14, 85, 147, 82, 98, 177, 204, 203, 103, 152, 156, 173, 73, 3, 39, 161, 76, 18, 128, 36, 46, 11, 87, 176, 202, 4, 89, 198, 42, 19, 86, 228, 10, 32, 205, 80, 129, 226, 159, 62, 144, 182, 220, 153, 194, 51, 2, 97, 181, 28, 53]\n"
     ]
    }
   ],
   "source": [
    "print(IDs_train)"
   ]
  },
  {
   "cell_type": "code",
   "execution_count": 19,
   "metadata": {},
   "outputs": [],
   "source": [
    "label_dict  = {\n",
    "    '3dys0_risk0': '0',\n",
    "    '13dys0_risk0': '0',\n",
    "    '66dys0_risk0': '0',\n",
    "    '3dys0_risk1': '1',\n",
    "    '13dys0_risk1': '1',\n",
    "    '66dys0_risk1': '1',\n",
    "    '3dys1_risk0': '0',\n",
    "    '13dys1_risk0': '0',\n",
    "    '66dys1_risk0': '0',\n",
    "    '3dys1_risk1': '1',\n",
    "    '13dys1_risk1': '1',\n",
    "    '66dys1_risk1': '1',\n",
    "}"
   ]
  },
  {
   "cell_type": "code",
   "execution_count": 20,
   "metadata": {},
   "outputs": [],
   "source": [
    "label_dict  = {\n",
    "    '3dys0_risk0': '0',\n",
    "    '13dys0_risk0': '0',\n",
    "    '66dys0_risk0': '0',\n",
    "    '3dys0_risk1': '0',\n",
    "    '13dys0_risk1': '0',\n",
    "    '66dys0_risk1': '0',\n",
    "    '3dys1_risk0': '1',\n",
    "    '13dys1_risk0': '1',\n",
    "    '66dys1_risk0': '1',\n",
    "    '3dys1_risk1': '1',\n",
    "    '13dys1_risk1': '1',\n",
    "    '66dys1_risk1': '1',\n",
    "}"
   ]
  },
  {
   "cell_type": "code",
   "execution_count": 20,
   "metadata": {},
   "outputs": [],
   "source": [
    "label_dict  = {\n",
    "    '3dys0_risk0': '0',\n",
    "    '13dys0_risk0': '1',\n",
    "    '66dys0_risk0': '2',\n",
    "    '3dys0_risk1': '0',\n",
    "    '13dys0_risk1': '1',\n",
    "    '66dys0_risk1': '2',\n",
    "    '3dys1_risk0': '3',\n",
    "    '13dys1_risk0': '4',\n",
    "    '66dys1_risk0': '5',\n",
    "    '3dys1_risk1': '3',\n",
    "    '13dys1_risk1': '4',\n",
    "    '66dys1_risk1': '5',\n",
    "}\n",
    "\n",
    "binarizer_dict  = {\n",
    "    '0': [1, 0, 0, 0, 0, 0],\n",
    "    '1': [0, 1, 0, 0, 0, 0],\n",
    "    '2': [0, 0, 1, 0, 0, 0],\n",
    "    '3': [0, 0, 0, 1, 0, 0],\n",
    "    '4': [0, 0, 0, 0, 1, 0],\n",
    "    '5': [0, 0, 0, 0, 0, 1]\n",
    "}"
   ]
  },
  {
   "cell_type": "code",
   "execution_count": 33,
   "metadata": {},
   "outputs": [],
   "source": [
    "train_generator = DataGenerator(list_IDs = IDs_train,\n",
    "                                 main_labels = main_labels,\n",
    "                                 label_dict = label_dict,\n",
    "                                 binarizer_dict = binarizer_dict,\n",
    "                                 path_data = PATH_DATA_processed,\n",
    "                                 filenames = [x[:-4] for x in files_csv],\n",
    "                                 data_path = PATH_DATA_processed, \n",
    "                                 to_fit=True, \n",
    "                                 n_average = 40,\n",
    "                                 batch_size = 10,\n",
    "                                 iter_per_epoch = 30,\n",
    "                                 up_sampling = True,\n",
    "                                 n_timepoints = 501,\n",
    "                                 n_channels=30, \n",
    "                                 n_classes=1, \n",
    "                                 shuffle=True)\n",
    "\n",
    "val_generator = DataGenerator(list_IDs = IDs_val,\n",
    "                                 main_labels = main_labels,\n",
    "                                 label_dict = label_dict,\n",
    "                                 binarizer_dict = binarizer_dict,\n",
    "                                 path_data = PATH_DATA_processed,\n",
    "                                 filenames = [x[:-4] for x in files_csv],\n",
    "                                 data_path = PATH_DATA_processed, \n",
    "                                 to_fit=True, \n",
    "                                 n_average = 40,\n",
    "                                 batch_size = 10,\n",
    "                                 iter_per_epoch = 30,\n",
    "                                 up_sampling = True,\n",
    "                                 n_timepoints = 501,\n",
    "                                 n_channels=30, \n",
    "                                 n_classes=1, \n",
    "                                 shuffle=True)"
   ]
  },
  {
   "cell_type": "code",
   "execution_count": 34,
   "metadata": {},
   "outputs": [],
   "source": [
    "X, y  = train_generator.__getitem__(0)"
   ]
  },
  {
   "cell_type": "code",
   "execution_count": 35,
   "metadata": {},
   "outputs": [
    {
     "data": {
      "text/plain": [
       "((30, 501, 30), 30)"
      ]
     },
     "execution_count": 35,
     "metadata": {},
     "output_type": "execute_result"
    }
   ],
   "source": [
    "X.shape, len(y)"
   ]
  },
  {
   "cell_type": "code",
   "execution_count": 36,
   "metadata": {},
   "outputs": [
    {
     "name": "stdout",
     "output_type": "stream",
     "text": [
      "[[0 0 0 0 0 1]\n",
      " [0 0 0 1 0 0]\n",
      " [1 0 0 0 0 0]\n",
      " [0 0 0 1 0 0]\n",
      " [0 0 0 0 0 1]\n",
      " [0 0 0 0 1 0]\n",
      " [0 0 0 1 0 0]\n",
      " [0 0 0 0 1 0]\n",
      " [0 0 0 0 1 0]\n",
      " [0 0 1 0 0 0]\n",
      " [0 1 0 0 0 0]]\n"
     ]
    }
   ],
   "source": [
    "print(y[:11])"
   ]
  },
  {
   "cell_type": "code",
   "execution_count": 42,
   "metadata": {},
   "outputs": [
    {
     "data": {
      "image/png": "[encoded data removed]",
      "text/plain": [
       "<Figure size 432x288 with 1 Axes>"
      ]
     },
     "metadata": {
      "needs_background": "light"
     },
     "output_type": "display_data"
    }
   ],
   "source": [
    "for i in range(10):\n",
    "    label = np.where(y[i] == 1)[0][0]\n",
    "    plt.plot(X[i,:,22], alpha = 0.5, color=(label/5,0, label/5))"
   ]
  },
  {
   "cell_type": "code",
   "execution_count": null,
   "metadata": {},
   "outputs": [],
   "source": []
  },
  {
   "cell_type": "code",
   "execution_count": null,
   "metadata": {},
   "outputs": [],
   "source": []
  },
  {
   "cell_type": "markdown",
   "metadata": {},
   "source": [
    "## Define model architecture"
   ]
  },
  {
   "cell_type": "code",
   "execution_count": 26,
   "metadata": {},
   "outputs": [],
   "source": [
    "import tensorflow as tf\n",
    "from tensorflow.keras import layers\n",
    "from tensorflow.keras.callbacks import ModelCheckpoint, EarlyStopping\n",
    "from tensorflow.keras import optimizers"
   ]
  },
  {
   "cell_type": "code",
   "execution_count": 40,
   "metadata": {},
   "outputs": [],
   "source": [
    "# Simple CNN model\n",
    "n_timesteps = 501\n",
    "n_features = 30\n",
    "n_outputs = 6\n",
    "\n",
    "model = tf.keras.Sequential()\n",
    "model.add(layers.Conv1D(filters=48, kernel_size=20, input_shape=(n_timesteps,n_features)))\n",
    "model.add(layers.BatchNormalization())\n",
    "model.add(layers.LeakyReLU())\n",
    "model.add(layers.AveragePooling1D(pool_size=2))\n",
    "\n",
    "model.add(layers.Conv1D(filters=64, kernel_size=10)) #, activation='relu'))\n",
    "model.add(layers.BatchNormalization())\n",
    "model.add(layers.LeakyReLU())\n",
    "model.add(layers.AveragePooling1D(pool_size=2))\n",
    "\n",
    "model.add(layers.Conv1D(filters=96, kernel_size=5)) #, activation='relu'))\n",
    "model.add(layers.BatchNormalization())\n",
    "model.add(layers.LeakyReLU())\n",
    "model.add(layers.AveragePooling1D(pool_size=2))\n",
    "\n",
    "#model.add(layers.Conv1D(filters=96, kernel_size=3, activation='relu'))\n",
    "#model.add(layers.AveragePooling1D(pool_size=2))\n",
    "#model.add(layers.MaxPooling1D(pool_size=2))\n",
    "\n",
    "model.add(layers.Flatten())\n",
    "model.add(layers.Dense(100, activation='relu'))\n",
    "model.add(layers.Dropout(0.5))\n",
    "model.add(layers.Dense(60, activation='relu'))\n",
    "model.add(layers.Dense(n_outputs, activation='softmax'))\n",
    "\n",
    "#Adam = optimizers.Adam(lr=0.0001, beta_1=0.9, beta_2=0.999, amsgrad=True)\n",
    "#model.compile(loss='categorical_crossentropy', optimizer=Adam, metrics=['accuracy'])\n",
    "#model.compile(loss='binary_crossentropy', optimizer=optimizer, metrics=['accuracy'])\n",
    "model.compile(loss='categorical_crossentropy', optimizer='adadelta', metrics=['accuracy'])"
   ]
  },
  {
   "cell_type": "code",
   "execution_count": 39,
   "metadata": {},
   "outputs": [
    {
     "name": "stdout",
     "output_type": "stream",
     "text": [
      "_________________________________________________________________\n",
      "Layer (type)                 Output Shape              Param #   \n",
      "=================================================================\n",
      "conv1d_3 (Conv1D)            (None, 482, 48)           28848     \n",
      "_________________________________________________________________\n",
      "batch_normalization_v1_3 (Ba (None, 482, 48)           192       \n",
      "_________________________________________________________________\n",
      "leaky_re_lu_3 (LeakyReLU)    (None, 482, 48)           0         \n",
      "_________________________________________________________________\n",
      "average_pooling1d_3 (Average (None, 241, 48)           0         \n",
      "_________________________________________________________________\n",
      "conv1d_4 (Conv1D)            (None, 232, 64)           30784     \n",
      "_________________________________________________________________\n",
      "batch_normalization_v1_4 (Ba (None, 232, 64)           256       \n",
      "_________________________________________________________________\n",
      "leaky_re_lu_4 (LeakyReLU)    (None, 232, 64)           0         \n",
      "_________________________________________________________________\n",
      "average_pooling1d_4 (Average (None, 116, 64)           0         \n",
      "_________________________________________________________________\n",
      "conv1d_5 (Conv1D)            (None, 112, 96)           30816     \n",
      "_________________________________________________________________\n",
      "batch_normalization_v1_5 (Ba (None, 112, 96)           384       \n",
      "_________________________________________________________________\n",
      "leaky_re_lu_5 (LeakyReLU)    (None, 112, 96)           0         \n",
      "_________________________________________________________________\n",
      "average_pooling1d_5 (Average (None, 56, 96)            0         \n",
      "_________________________________________________________________\n",
      "flatten_1 (Flatten)          (None, 5376)              0         \n",
      "_________________________________________________________________\n",
      "dense_3 (Dense)              (None, 100)               537700    \n",
      "_________________________________________________________________\n",
      "dropout_1 (Dropout)          (None, 100)               0         \n",
      "_________________________________________________________________\n",
      "dense_4 (Dense)              (None, 60)                6060      \n",
      "_________________________________________________________________\n",
      "dense_5 (Dense)              (None, 6)                 366       \n",
      "=================================================================\n",
      "Total params: 635,406\n",
      "Trainable params: 634,990\n",
      "Non-trainable params: 416\n",
      "_________________________________________________________________\n"
     ]
    }
   ],
   "source": [
    "model.summary()"
   ]
  },
  {
   "cell_type": "code",
   "execution_count": 41,
   "metadata": {},
   "outputs": [
    {
     "name": "stdout",
     "output_type": "stream",
     "text": [
      "Epoch 1/50\n",
      "3/3 [==============================] - 5s 2s/step - loss: 1.8228 - acc: 0.1282\n",
      "\n",
      "Epoch 00001: val_acc improved from -inf to 0.12821, saving model to C:\\OneDrive - Netherlands eScience Center\\Project_ePodium\\EEG_dyslexia_prediction\\models_trained\\CNN_EEG_classifier_avg.hdf5\n",
      "16/16 [==============================] - 25s 2s/step - loss: 2.2271 - acc: 0.1712 - val_loss: 1.8228 - val_acc: 0.1282\n",
      "Epoch 2/50\n",
      "3/3 [==============================] - 7s 2s/step - loss: 1.7989 - acc: 0.0897\n",
      "\n",
      "Epoch 00002: val_acc did not improve from 0.12821\n",
      "16/16 [==============================] - 22s 1s/step - loss: 1.9421 - acc: 0.1876 - val_loss: 1.7989 - val_acc: 0.0897\n",
      "Epoch 3/50\n",
      "3/3 [==============================] - 5s 2s/step - loss: 1.7948 - acc: 0.2083\n",
      "\n",
      "Epoch 00003: val_acc improved from 0.12821 to 0.20833, saving model to C:\\OneDrive - Netherlands eScience Center\\Project_ePodium\\EEG_dyslexia_prediction\\models_trained\\CNN_EEG_classifier_avg.hdf5\n",
      "16/16 [==============================] - 39s 2s/step - loss: 1.8194 - acc: 0.2450 - val_loss: 1.7948 - val_acc: 0.2083\n",
      "Epoch 4/50\n",
      "3/3 [==============================] - 5s 2s/step - loss: 1.7968 - acc: 0.1389\n",
      "\n",
      "Epoch 00004: val_acc did not improve from 0.20833\n",
      "16/16 [==============================] - 23s 1s/step - loss: 1.8551 - acc: 0.2154 - val_loss: 1.7968 - val_acc: 0.1389\n",
      "Epoch 5/50\n",
      "3/3 [==============================] - 6s 2s/step - loss: 1.7940 - acc: 0.1429\n",
      "\n",
      "Epoch 00005: val_acc did not improve from 0.20833\n",
      "16/16 [==============================] - 26s 2s/step - loss: 1.8092 - acc: 0.2095 - val_loss: 1.7940 - val_acc: 0.1429\n",
      "Epoch 6/50\n",
      "3/3 [==============================] - 5s 2s/step - loss: 1.8098 - acc: 0.1392\n",
      "\n",
      "Epoch 00006: val_acc did not improve from 0.20833\n",
      "16/16 [==============================] - 25s 2s/step - loss: 1.8177 - acc: 0.2297 - val_loss: 1.8098 - val_acc: 0.1392\n",
      "Epoch 7/50\n",
      "3/3 [==============================] - 5s 2s/step - loss: 1.8162 - acc: 0.1081\n",
      "\n",
      "Epoch 00007: val_acc did not improve from 0.20833\n",
      "16/16 [==============================] - 23s 1s/step - loss: 1.7537 - acc: 0.2466 - val_loss: 1.8162 - val_acc: 0.1081\n",
      "Epoch 8/50\n",
      "3/3 [==============================] - 5s 2s/step - loss: 1.8419 - acc: 0.1852\n",
      "\n",
      "Epoch 00008: val_acc did not improve from 0.20833\n",
      "16/16 [==============================] - 25s 2s/step - loss: 1.7475 - acc: 0.2313 - val_loss: 1.8419 - val_acc: 0.1852\n",
      "Epoch 9/50\n",
      "3/3 [==============================] - 5s 2s/step - loss: 1.7750 - acc: 0.1892\n",
      "\n",
      "Epoch 00009: val_acc did not improve from 0.20833\n",
      "16/16 [==============================] - 22s 1s/step - loss: 1.7562 - acc: 0.2014 - val_loss: 1.7750 - val_acc: 0.1892\n",
      "Epoch 10/50\n",
      "3/3 [==============================] - 5s 2s/step - loss: 1.8074 - acc: 0.1250\n",
      "\n",
      "Epoch 00010: val_acc did not improve from 0.20833\n",
      "16/16 [==============================] - 24s 1s/step - loss: 1.7616 - acc: 0.2100 - val_loss: 1.8074 - val_acc: 0.1250\n",
      "Epoch 11/50\n",
      "3/3 [==============================] - 5s 2s/step - loss: 1.7993 - acc: 0.1807\n",
      "\n",
      "Epoch 00011: val_acc did not improve from 0.20833\n",
      "16/16 [==============================] - 24s 1s/step - loss: 1.7411 - acc: 0.2437 - val_loss: 1.7993 - val_acc: 0.1807\n",
      "Epoch 12/50\n",
      "3/3 [==============================] - 4s 1s/step - loss: 1.8755 - acc: 0.1127\n",
      "\n",
      "Epoch 00012: val_acc did not improve from 0.20833\n",
      "16/16 [==============================] - 22s 1s/step - loss: 1.6862 - acc: 0.2698 - val_loss: 1.8755 - val_acc: 0.1127\n",
      "Epoch 13/50\n",
      "3/3 [==============================] - 5s 2s/step - loss: 1.8025 - acc: 0.1831\n",
      "\n",
      "Epoch 00013: val_acc did not improve from 0.20833\n",
      "16/16 [==============================] - 22s 1s/step - loss: 1.7373 - acc: 0.2530 - val_loss: 1.8025 - val_acc: 0.1831\n",
      "Epoch 00013: early stopping\n"
     ]
    },
    {
     "data": {
      "text/plain": [
       "<tensorflow.python.keras.callbacks.History at 0x1a893f50518>"
      ]
     },
     "execution_count": 41,
     "metadata": {},
     "output_type": "execute_result"
    }
   ],
   "source": [
    "# Save best model and include early stopping\n",
    "output_filename = 'CNN_EEG_classifier_avg.hdf5'\n",
    "output_file = os.path.join(PATH_CODE, 'models_trained' , output_filename)\n",
    "checkpointer = ModelCheckpoint(filepath = output_file, \n",
    "                               monitor='val_acc', \n",
    "                               verbose=1, \n",
    "                               save_best_only=True)\n",
    "earlystopper = EarlyStopping(monitor='val_acc', patience=10, verbose=1)\n",
    "\n",
    "model.fit_generator(generator=train_generator, \n",
    "                   validation_data=val_generator,\n",
    "                   epochs=50,\n",
    "                   callbacks = [\n",
    "                       checkpointer, \n",
    "                        earlystopper,\n",
    "                   ]\n",
    "                  )"
   ]
  },
  {
   "cell_type": "code",
   "execution_count": 81,
   "metadata": {},
   "outputs": [
    {
     "data": {
      "text/plain": [
       "[array([[[-0.03874134,  0.02038676,  0.0245813 , ..., -0.01965807,\n",
       "          -0.04657479,  0.01650143],\n",
       "         [-0.0291171 , -0.00678881,  0.01854139, ..., -0.02115149,\n",
       "           0.04429143, -0.04085149],\n",
       "         [-0.03921856, -0.04953679, -0.02490321, ..., -0.03662722,\n",
       "          -0.01513935,  0.00743445],\n",
       "         ...,\n",
       "         [ 0.01758774, -0.04316538,  0.02759956, ...,  0.03900746,\n",
       "           0.04800209,  0.00755909],\n",
       "         [-0.05591447,  0.02475474,  0.05448014, ...,  0.03974395,\n",
       "          -0.0491508 , -0.00792804],\n",
       "         [-0.04729754, -0.03251707, -0.0327961 , ..., -0.0245767 ,\n",
       "          -0.02379675, -0.05093605]],\n",
       " \n",
       "        [[ 0.03765684, -0.03020068,  0.03565044, ..., -0.00223496,\n",
       "          -0.03925662, -0.05240246],\n",
       "         [-0.05593536, -0.04719132, -0.05854374, ...,  0.00984705,\n",
       "          -0.03317313,  0.05707248],\n",
       "         [-0.00268311, -0.04649076, -0.04206308, ...,  0.00294929,\n",
       "          -0.00841707,  0.04629105],\n",
       "         ...,\n",
       "         [-0.05738391,  0.0429848 , -0.05450239, ...,  0.01629435,\n",
       "           0.00305472, -0.00682439],\n",
       "         [-0.046481  , -0.00569077,  0.01634292, ..., -0.01993109,\n",
       "           0.03798074,  0.00892472],\n",
       "         [ 0.01196092,  0.054422  ,  0.05713411, ..., -0.03168628,\n",
       "          -0.05523392, -0.02055181]],\n",
       " \n",
       "        [[ 0.04854091, -0.00707281, -0.03303059, ...,  0.03441414,\n",
       "          -0.05064557, -0.06135665],\n",
       "         [-0.01287851,  0.039556  ,  0.06143457, ...,  0.01936217,\n",
       "           0.04985331, -0.01719868],\n",
       "         [ 0.05453297, -0.03011071, -0.03610699, ..., -0.04007202,\n",
       "           0.0551758 ,  0.01769276],\n",
       "         ...,\n",
       "         [-0.02379451,  0.05955554,  0.03472573, ..., -0.0180275 ,\n",
       "           0.00889494, -0.03168884],\n",
       "         [-0.01858029,  0.05370837, -0.0379309 , ...,  0.05827388,\n",
       "           0.03124942,  0.03566349],\n",
       "         [ 0.01557046,  0.05451613,  0.03659701, ..., -0.02228943,\n",
       "          -0.02291642, -0.05868071]],\n",
       " \n",
       "        ...,\n",
       " \n",
       "        [[ 0.03151891, -0.05208206,  0.03566691, ..., -0.01975883,\n",
       "          -0.0031322 , -0.05244694],\n",
       "         [ 0.04238635, -0.04508109, -0.0093304 , ..., -0.03982902,\n",
       "           0.04991735,  0.05839494],\n",
       "         [-0.00671904,  0.04056934,  0.05628128, ..., -0.00972375,\n",
       "           0.00774722,  0.00436697],\n",
       "         ...,\n",
       "         [ 0.00583484, -0.04877945, -0.00326888, ..., -0.03948301,\n",
       "          -0.04276656, -0.053388  ],\n",
       "         [-0.03190441,  0.0584334 , -0.03074491, ..., -0.04769442,\n",
       "          -0.00278154, -0.03406251],\n",
       "         [-0.00431473, -0.00994317, -0.01126751, ...,  0.03172795,\n",
       "          -0.02914127,  0.04927617]],\n",
       " \n",
       "        [[ 0.00627718,  0.00215998,  0.0145085 , ..., -0.04883329,\n",
       "          -0.02327142, -0.04783719],\n",
       "         [-0.03186435, -0.01348869, -0.00936694, ...,  0.003282  ,\n",
       "           0.02229375, -0.00412031],\n",
       "         [ 0.0520786 , -0.06005022, -0.05841654, ...,  0.02654316,\n",
       "           0.02985985, -0.0142845 ],\n",
       "         ...,\n",
       "         [ 0.03348123, -0.04663148, -0.05959802, ..., -0.01124981,\n",
       "           0.04244632, -0.04718255],\n",
       "         [ 0.02391469, -0.00066854,  0.04163382, ...,  0.01687445,\n",
       "           0.03832502,  0.03437068],\n",
       "         [-0.05694449,  0.01225467, -0.02473262, ...,  0.02671609,\n",
       "           0.05307014, -0.0112104 ]],\n",
       " \n",
       "        [[ 0.01351255, -0.00530902,  0.05543686, ...,  0.0122181 ,\n",
       "          -0.01761053,  0.04333039],\n",
       "         [ 0.00997288, -0.00176786,  0.05879731, ...,  0.04702671,\n",
       "          -0.04933817, -0.0315023 ],\n",
       "         [ 0.04738574, -0.02205044,  0.03819922, ...,  0.01015691,\n",
       "           0.00753686,  0.03262788],\n",
       "         ...,\n",
       "         [ 0.01355577,  0.03433959, -0.04421638, ...,  0.01841399,\n",
       "          -0.04249538,  0.06080829],\n",
       "         [-0.06123216, -0.04928032, -0.01209782, ...,  0.03940763,\n",
       "           0.00070827, -0.01000476],\n",
       "         [ 0.04606354,  0.04043665, -0.02701313, ...,  0.02563765,\n",
       "          -0.01427995, -0.05379068]]], dtype=float32),\n",
       " array([0., 0., 0., 0., 0., 0., 0., 0., 0., 0., 0., 0., 0., 0., 0., 0., 0.,\n",
       "        0., 0., 0., 0., 0., 0., 0., 0., 0., 0., 0., 0., 0., 0., 0., 0., 0.,\n",
       "        0., 0., 0., 0., 0., 0., 0., 0., 0., 0., 0., 0., 0., 0.],\n",
       "       dtype=float32),\n",
       " array([1., 1., 1., 1., 1., 1., 1., 1., 1., 1., 1., 1., 1., 1., 1., 1., 1.,\n",
       "        1., 1., 1., 1., 1., 1., 1., 1., 1., 1., 1., 1., 1., 1., 1., 1., 1.,\n",
       "        1., 1., 1., 1., 1., 1., 1., 1., 1., 1., 1., 1., 1., 1.],\n",
       "       dtype=float32),\n",
       " array([0., 0., 0., 0., 0., 0., 0., 0., 0., 0., 0., 0., 0., 0., 0., 0., 0.,\n",
       "        0., 0., 0., 0., 0., 0., 0., 0., 0., 0., 0., 0., 0., 0., 0., 0., 0.,\n",
       "        0., 0., 0., 0., 0., 0., 0., 0., 0., 0., 0., 0., 0., 0.],\n",
       "       dtype=float32),\n",
       " array([-1.1636890e-03, -3.3105112e-04,  7.2481483e-04, -2.5632372e-04,\n",
       "        -7.9788628e-04, -1.7357980e-03, -2.0514848e-04,  7.8467518e-04,\n",
       "        -1.5136189e-05, -1.3911445e-04,  3.7113816e-04,  1.5065738e-04,\n",
       "        -5.9154571e-04,  3.8536714e-04, -1.7314954e-04, -6.9429842e-04,\n",
       "         2.0147010e-03,  4.8522177e-04,  1.1128607e-03,  6.8558438e-04,\n",
       "        -2.4148936e-03,  6.9574005e-04, -7.2354841e-04, -7.8700634e-04,\n",
       "        -6.0127676e-04, -2.2034853e-04, -5.5275031e-04,  1.6629300e-03,\n",
       "         5.7525054e-04, -3.0783040e-04,  1.8700856e-03, -6.6338171e-04,\n",
       "        -3.2760254e-03,  2.8903599e-04, -1.7085375e-04, -7.4043090e-04,\n",
       "         5.6368258e-04, -6.6827855e-04,  1.2037824e-03,  3.9017835e-04,\n",
       "         1.2447089e-03,  1.2577656e-03,  4.6446593e-04,  1.2180002e-03,\n",
       "         3.8214165e-04, -6.4331177e-04, -5.6372129e-04, -9.1724627e-04],\n",
       "       dtype=float32),\n",
       " array([0.49603033, 0.49244237, 0.49849084, 0.49092957, 0.5420963 ,\n",
       "        0.50594157, 0.50528973, 0.4981457 , 0.49589834, 0.49336845,\n",
       "        0.49636802, 0.49557045, 0.5025138 , 0.49982318, 0.49717546,\n",
       "        0.4975472 , 0.49631616, 0.49176797, 0.49256712, 0.48928055,\n",
       "        0.5216093 , 0.4926979 , 0.50054103, 0.49626613, 0.5055904 ,\n",
       "        0.49082226, 0.49728447, 0.49485207, 0.49269626, 0.511046  ,\n",
       "        0.4992251 , 0.49314365, 0.5228696 , 0.491454  , 0.49753305,\n",
       "        0.50427073, 0.49026164, 0.5011361 , 0.4944561 , 0.4973839 ,\n",
       "        0.49018952, 0.52595824, 0.49869862, 0.49594015, 0.49018848,\n",
       "        0.4971336 , 0.48973346, 0.49148378], dtype=float32),\n",
       " array([[[-3.78815830e-02, -1.52875036e-02,  6.87832087e-02, ...,\n",
       "           1.44406855e-02, -4.07496877e-02,  7.01325685e-02],\n",
       "         [ 5.37306666e-02,  5.25367260e-02, -1.33369789e-02, ...,\n",
       "          -5.45760319e-02, -4.96376082e-02,  1.94944590e-02],\n",
       "         [-6.42269105e-03, -6.25272468e-02, -3.68833318e-02, ...,\n",
       "           1.67536736e-03, -2.61054784e-02, -3.84294242e-02],\n",
       "         ...,\n",
       "         [-5.30411936e-02,  1.85239166e-02,  5.04642725e-03, ...,\n",
       "          -4.99178953e-02,  1.45108029e-02,  2.09979191e-02],\n",
       "         [-3.26788872e-02, -8.99682194e-03,  1.29903257e-02, ...,\n",
       "           4.25539091e-02,  3.73929888e-02, -4.88078184e-02],\n",
       "         [-4.56264094e-02,  4.57702503e-02, -1.08354390e-02, ...,\n",
       "          -4.18775827e-02,  6.33777082e-02, -6.19137213e-02]],\n",
       " \n",
       "        [[-3.06350216e-02,  3.68618518e-02, -1.19543299e-02, ...,\n",
       "          -6.95398822e-02,  2.33745873e-02,  1.48726180e-02],\n",
       "         [ 1.28610730e-02, -4.58104424e-02, -3.83371450e-02, ...,\n",
       "          -2.27466226e-04,  5.36883473e-02,  5.23647070e-02],\n",
       "         [-3.36349979e-02, -6.39494732e-02, -2.09836811e-02, ...,\n",
       "           8.12962651e-03, -1.56004280e-02, -5.83318770e-02],\n",
       "         ...,\n",
       "         [-3.63924131e-02, -4.36479114e-02,  6.06537610e-03, ...,\n",
       "           6.57135695e-02,  7.30034262e-02,  5.95483780e-02],\n",
       "         [ 6.50173575e-02, -5.54432645e-02, -6.38894588e-02, ...,\n",
       "           5.78347743e-02, -3.81126441e-02, -6.25127777e-02],\n",
       "         [ 5.89150488e-02,  6.15741014e-02, -5.03119789e-02, ...,\n",
       "           3.92872691e-02, -6.43546358e-02, -5.64682372e-02]],\n",
       " \n",
       "        [[-1.21870823e-02,  6.67935759e-02,  3.46827731e-02, ...,\n",
       "           1.03719756e-02, -2.12797448e-02,  6.76308870e-02],\n",
       "         [-5.45004904e-02, -1.17573142e-02,  1.92206129e-02, ...,\n",
       "           5.60063720e-02,  4.36046198e-02,  3.96341309e-02],\n",
       "         [ 1.18180215e-02,  4.47445139e-02,  4.47441638e-02, ...,\n",
       "          -3.40478756e-02,  2.09532827e-02,  2.82054618e-02],\n",
       "         ...,\n",
       "         [ 6.73350841e-02,  4.74259704e-02,  3.19182873e-05, ...,\n",
       "           2.13575438e-02,  3.55291739e-02,  3.00258473e-02],\n",
       "         [-1.53476745e-03, -2.89002024e-02, -5.39633296e-02, ...,\n",
       "           2.85694972e-02,  5.98946512e-02, -1.51708312e-02],\n",
       "         [ 3.42130437e-02,  6.37638420e-02,  1.50820464e-02, ...,\n",
       "           1.52616054e-02,  5.28308153e-02,  5.63527346e-02]],\n",
       " \n",
       "        ...,\n",
       " \n",
       "        [[-1.30900741e-02,  7.16487467e-02,  4.24488410e-02, ...,\n",
       "           3.32614705e-02,  4.53269407e-02, -4.55788225e-02],\n",
       "         [-6.14316165e-02,  4.11741361e-02,  2.70680636e-02, ...,\n",
       "           4.91284728e-02,  5.21496087e-02,  5.36655635e-03],\n",
       "         [-7.31781125e-03, -6.75214082e-03,  1.49942487e-02, ...,\n",
       "          -4.14901823e-02, -2.65923962e-02, -3.34710181e-02],\n",
       "         ...,\n",
       "         [ 7.24188387e-02,  2.42966488e-02, -6.35197386e-02, ...,\n",
       "          -6.72776252e-03,  7.19096661e-02, -5.65335527e-02],\n",
       "         [-4.65769880e-02, -4.92197275e-03,  1.49775296e-03, ...,\n",
       "          -3.47123183e-02,  1.80323571e-02,  4.55744788e-02],\n",
       "         [ 6.94090724e-02,  5.73259741e-02, -3.33017483e-02, ...,\n",
       "           6.82486147e-02, -4.26046550e-02, -8.66051763e-03]],\n",
       " \n",
       "        [[-1.39907077e-02, -1.76071078e-02, -4.02629264e-02, ...,\n",
       "          -7.20526278e-02,  5.15803695e-04, -2.26564705e-03],\n",
       "         [ 1.34857073e-02, -5.90460338e-02,  3.37832943e-02, ...,\n",
       "           5.56740463e-02, -2.38484703e-02, -5.89491315e-02],\n",
       "         [-2.48393416e-03,  1.55798718e-02,  7.08053261e-02, ...,\n",
       "          -6.33857697e-02,  4.94699031e-02,  3.37395072e-02],\n",
       "         ...,\n",
       "         [ 5.76490611e-02, -2.99987793e-02,  1.26168504e-02, ...,\n",
       "          -5.51870093e-02,  1.87357515e-02, -2.17054673e-02],\n",
       "         [ 8.97796452e-03, -7.31908530e-03, -8.49587470e-03, ...,\n",
       "          -4.98130694e-02, -6.39069304e-02, -1.75821520e-02],\n",
       "         [-6.54569864e-02, -6.78434893e-02, -6.44772425e-02, ...,\n",
       "          -5.48606813e-02,  4.88805026e-02, -3.95774543e-02]],\n",
       " \n",
       "        [[ 1.74897164e-03,  5.25747240e-02, -6.46353960e-02, ...,\n",
       "           5.54387718e-02,  4.80680764e-02,  5.40909022e-02],\n",
       "         [-5.33648282e-02, -5.60291633e-02,  4.50866818e-02, ...,\n",
       "          -2.33320594e-02,  5.94252348e-03,  1.88797861e-02],\n",
       "         [-6.74008578e-02, -6.36099577e-02, -3.98885943e-02, ...,\n",
       "           4.44630533e-03, -6.69281110e-02, -3.48109156e-02],\n",
       "         ...,\n",
       "         [ 4.14742306e-02, -1.74583420e-02, -8.66433978e-03, ...,\n",
       "          -6.33311123e-02, -2.24894099e-02,  1.04587525e-02],\n",
       "         [ 6.85867518e-02,  1.54539198e-03,  1.74368918e-02, ...,\n",
       "          -2.07722932e-03, -2.01875567e-02, -8.13391805e-03],\n",
       "         [ 3.13750580e-02,  1.17532834e-02,  3.59271839e-02, ...,\n",
       "           2.28062272e-05,  3.70858461e-02,  3.96212190e-02]]],\n",
       "       dtype=float32),\n",
       " array([0., 0., 0., 0., 0., 0., 0., 0., 0., 0., 0., 0., 0., 0., 0., 0., 0.,\n",
       "        0., 0., 0., 0., 0., 0., 0., 0., 0., 0., 0., 0., 0., 0., 0., 0., 0.,\n",
       "        0., 0., 0., 0., 0., 0., 0., 0., 0., 0., 0., 0., 0., 0., 0., 0., 0.,\n",
       "        0., 0., 0., 0., 0., 0., 0., 0., 0., 0., 0., 0., 0.], dtype=float32),\n",
       " array([1., 1., 1., 1., 1., 1., 1., 1., 1., 1., 1., 1., 1., 1., 1., 1., 1.,\n",
       "        1., 1., 1., 1., 1., 1., 1., 1., 1., 1., 1., 1., 1., 1., 1., 1., 1.,\n",
       "        1., 1., 1., 1., 1., 1., 1., 1., 1., 1., 1., 1., 1., 1., 1., 1., 1.,\n",
       "        1., 1., 1., 1., 1., 1., 1., 1., 1., 1., 1., 1., 1.], dtype=float32),\n",
       " array([0., 0., 0., 0., 0., 0., 0., 0., 0., 0., 0., 0., 0., 0., 0., 0., 0.,\n",
       "        0., 0., 0., 0., 0., 0., 0., 0., 0., 0., 0., 0., 0., 0., 0., 0., 0.,\n",
       "        0., 0., 0., 0., 0., 0., 0., 0., 0., 0., 0., 0., 0., 0., 0., 0., 0.,\n",
       "        0., 0., 0., 0., 0., 0., 0., 0., 0., 0., 0., 0., 0.], dtype=float32),\n",
       " array([ 0.10872209,  0.2019356 , -0.03086356,  0.14473777, -0.05151112,\n",
       "         0.00231816,  0.06197941,  0.00076405,  0.11939038, -0.06974575,\n",
       "        -0.14949758, -0.01174349, -0.02260017, -0.17371657,  0.12585773,\n",
       "        -0.19537047, -0.1961817 ,  0.0417339 , -0.09736751,  0.33659342,\n",
       "         0.09501664, -0.05684179,  0.0493274 ,  0.25078782,  0.05810137,\n",
       "        -0.03158358,  0.05575263,  0.20674337, -0.01545167, -0.03976282,\n",
       "         0.00189253,  0.01774199, -0.11492249, -0.06474998, -0.1032296 ,\n",
       "         0.12840636, -0.1472949 , -0.04330058,  0.09784114, -0.08916367,\n",
       "         0.22073005, -0.3100257 ,  0.02688912, -0.12658542,  0.03168832,\n",
       "        -0.11005425,  0.09828141,  0.01714695,  0.04467168,  0.11336108,\n",
       "        -0.03752536, -0.08789959, -0.01606684, -0.11376144,  0.05442074,\n",
       "        -0.06614246,  0.12638472,  0.02660094, -0.15545055,  0.423128  ,\n",
       "         0.01353614, -0.12207595,  0.02217148,  0.04955965], dtype=float32),\n",
       " array([0.62353045, 0.680991  , 0.671881  , 0.69525135, 0.79624164,\n",
       "        0.6754111 , 0.65340775, 0.80060434, 0.6874842 , 0.82470596,\n",
       "        0.6491712 , 0.7340656 , 0.8938293 , 0.8007556 , 0.6100036 ,\n",
       "        0.6042854 , 0.75011474, 0.6629815 , 0.7958283 , 0.8761506 ,\n",
       "        0.64693874, 0.6931598 , 0.564762  , 0.74560726, 0.57117224,\n",
       "        0.68986857, 0.6666459 , 0.58812815, 0.56518763, 0.6171686 ,\n",
       "        0.68008035, 0.78852874, 0.6196612 , 0.62828743, 0.7903838 ,\n",
       "        0.7838385 , 0.67265713, 0.6688007 , 0.67079556, 0.7055511 ,\n",
       "        0.75726634, 0.61505663, 0.84472144, 0.67985547, 0.6511028 ,\n",
       "        0.61931425, 0.60596865, 0.79531586, 0.689929  , 0.6501307 ,\n",
       "        0.71688056, 0.6491853 , 0.61772877, 0.74185336, 0.8730933 ,\n",
       "        0.5927864 , 0.8418677 , 0.56395054, 0.6302963 , 0.8703957 ,\n",
       "        0.5907882 , 0.6972211 , 0.58394593, 1.1884804 ], dtype=float32),\n",
       " array([[[-0.0719209 ,  0.05739838, -0.03546924, ...,  0.07046543,\n",
       "          -0.02686805, -0.0226431 ],\n",
       "         [ 0.04287218, -0.00759797, -0.0619454 , ..., -0.01809247,\n",
       "           0.05438274, -0.00212146],\n",
       "         [-0.05538479,  0.07358138,  0.06693409, ...,  0.0133019 ,\n",
       "          -0.05229082,  0.01978898],\n",
       "         ...,\n",
       "         [-0.043584  ,  0.02202601, -0.00877013, ...,  0.00905009,\n",
       "          -0.01897459, -0.07571097],\n",
       "         [-0.03011859,  0.00785743, -0.08205617, ..., -0.01967844,\n",
       "           0.00954458, -0.01479985],\n",
       "         [ 0.000434  , -0.06169032,  0.04031679, ...,  0.0230128 ,\n",
       "           0.03867789,  0.05649717]],\n",
       " \n",
       "        [[-0.03431019, -0.08325231,  0.05204749, ..., -0.06013803,\n",
       "           0.00186259, -0.03647369],\n",
       "         [ 0.07851231,  0.00679915,  0.03042954, ..., -0.04695727,\n",
       "          -0.06885582,  0.0338781 ],\n",
       "         [ 0.03874056, -0.08292942, -0.01574365, ..., -0.07985379,\n",
       "          -0.07816147,  0.06453998],\n",
       "         ...,\n",
       "         [-0.06536186,  0.02767728,  0.02436043, ..., -0.01440019,\n",
       "          -0.00295026, -0.07393514],\n",
       "         [-0.00960802, -0.06405707, -0.08422004, ..., -0.00352034,\n",
       "          -0.06242723,  0.07054509],\n",
       "         [ 0.04059124, -0.06683861, -0.05095948, ..., -0.01593637,\n",
       "          -0.02014468, -0.0693621 ]],\n",
       " \n",
       "        [[ 0.05626225, -0.02439747,  0.01944346, ...,  0.0195053 ,\n",
       "          -0.05894294, -0.00174644],\n",
       "         [-0.04132674, -0.02129903,  0.00616097, ..., -0.01654036,\n",
       "           0.05190353, -0.00966296],\n",
       "         [-0.07740372,  0.08268504, -0.00466922, ..., -0.04916322,\n",
       "           0.06294157,  0.0211031 ],\n",
       "         ...,\n",
       "         [ 0.01632552,  0.01632631, -0.0109862 , ...,  0.01388497,\n",
       "           0.01989742,  0.00195558],\n",
       "         [ 0.02504319,  0.0733142 , -0.0487367 , ...,  0.03348484,\n",
       "           0.02098555, -0.07611008],\n",
       "         [-0.04416488, -0.00056408,  0.00946158, ..., -0.03437349,\n",
       "          -0.08059423,  0.06753266]],\n",
       " \n",
       "        [[ 0.02898549, -0.01977686,  0.00562046, ...,  0.00358443,\n",
       "           0.08048235,  0.01735334],\n",
       "         [ 0.04608579,  0.0503926 , -0.04823858, ...,  0.05344014,\n",
       "          -0.01230532, -0.04995956],\n",
       "         [-0.04247798, -0.02585045,  0.03263739, ...,  0.02294911,\n",
       "          -0.06618899,  0.07992977],\n",
       "         ...,\n",
       "         [-0.05824674, -0.07348837, -0.00470711, ...,  0.00711103,\n",
       "           0.03542877, -0.04672364],\n",
       "         [ 0.0322429 , -0.0218282 , -0.07983186, ...,  0.00700201,\n",
       "           0.04121645,  0.01823289],\n",
       "         [ 0.0376281 , -0.07573421,  0.01121112, ...,  0.040141  ,\n",
       "          -0.08636612, -0.00068629]],\n",
       " \n",
       "        [[-0.00382582,  0.08170359, -0.00432265, ..., -0.01277   ,\n",
       "          -0.08586044,  0.02194332],\n",
       "         [ 0.00930526, -0.05976843, -0.08430493, ..., -0.061965  ,\n",
       "          -0.02874319, -0.07431202],\n",
       "         [-0.03392988,  0.00480615,  0.00599426, ...,  0.03257473,\n",
       "          -0.00104004, -0.0610165 ],\n",
       "         ...,\n",
       "         [ 0.07142858, -0.06349982, -0.06892398, ..., -0.04897392,\n",
       "           0.03409531, -0.03242214],\n",
       "         [ 0.01773454, -0.07719555,  0.06971206, ...,  0.06165251,\n",
       "           0.05109316,  0.08209907],\n",
       "         [ 0.07508713,  0.05300508, -0.01973969, ...,  0.04199219,\n",
       "           0.03103437, -0.0383187 ]]], dtype=float32),\n",
       " array([0., 0., 0., 0., 0., 0., 0., 0., 0., 0., 0., 0., 0., 0., 0., 0., 0.,\n",
       "        0., 0., 0., 0., 0., 0., 0., 0., 0., 0., 0., 0., 0., 0., 0., 0., 0.,\n",
       "        0., 0., 0., 0., 0., 0., 0., 0., 0., 0., 0., 0., 0., 0., 0., 0., 0.,\n",
       "        0., 0., 0., 0., 0., 0., 0., 0., 0., 0., 0., 0., 0., 0., 0., 0., 0.,\n",
       "        0., 0., 0., 0., 0., 0., 0., 0., 0., 0., 0., 0., 0., 0., 0., 0., 0.,\n",
       "        0., 0., 0., 0., 0., 0., 0., 0., 0., 0., 0.], dtype=float32),\n",
       " array([1., 1., 1., 1., 1., 1., 1., 1., 1., 1., 1., 1., 1., 1., 1., 1., 1.,\n",
       "        1., 1., 1., 1., 1., 1., 1., 1., 1., 1., 1., 1., 1., 1., 1., 1., 1.,\n",
       "        1., 1., 1., 1., 1., 1., 1., 1., 1., 1., 1., 1., 1., 1., 1., 1., 1.,\n",
       "        1., 1., 1., 1., 1., 1., 1., 1., 1., 1., 1., 1., 1., 1., 1., 1., 1.,\n",
       "        1., 1., 1., 1., 1., 1., 1., 1., 1., 1., 1., 1., 1., 1., 1., 1., 1.,\n",
       "        1., 1., 1., 1., 1., 1., 1., 1., 1., 1., 1.], dtype=float32),\n",
       " array([0., 0., 0., 0., 0., 0., 0., 0., 0., 0., 0., 0., 0., 0., 0., 0., 0.,\n",
       "        0., 0., 0., 0., 0., 0., 0., 0., 0., 0., 0., 0., 0., 0., 0., 0., 0.,\n",
       "        0., 0., 0., 0., 0., 0., 0., 0., 0., 0., 0., 0., 0., 0., 0., 0., 0.,\n",
       "        0., 0., 0., 0., 0., 0., 0., 0., 0., 0., 0., 0., 0., 0., 0., 0., 0.,\n",
       "        0., 0., 0., 0., 0., 0., 0., 0., 0., 0., 0., 0., 0., 0., 0., 0., 0.,\n",
       "        0., 0., 0., 0., 0., 0., 0., 0., 0., 0., 0.], dtype=float32),\n",
       " array([-0.09293117, -0.09357543, -0.0204566 ,  0.13876636, -0.10932504,\n",
       "        -0.10816447, -0.20766096,  0.04303759,  0.12109973,  0.16184963,\n",
       "        -0.00988202,  0.00858687,  0.02165571,  0.19531822, -0.18317005,\n",
       "        -0.08685856,  0.09441332,  0.06117339,  0.03855158, -0.00152448,\n",
       "         0.00496462,  0.0705272 ,  0.12496294, -0.00625043,  0.12914827,\n",
       "         0.00039251,  0.06800024,  0.05171719,  0.29973173, -0.0174217 ,\n",
       "         0.2305654 , -0.00247925,  0.0620603 ,  0.04014131,  0.0358488 ,\n",
       "        -0.07243878, -0.06197145,  0.03771836,  0.17458118, -0.14413616,\n",
       "        -0.15644792,  0.25071865, -0.08433554, -0.14591214, -0.20820105,\n",
       "         0.0902737 ,  0.11483415,  0.09509743, -0.17271322,  0.0196968 ,\n",
       "        -0.05699677,  0.048689  , -0.13333379,  0.02161517,  0.01720988,\n",
       "        -0.11920206,  0.11858128,  0.08714879, -0.2792978 ,  0.03324607,\n",
       "         0.09274254, -0.01107245,  0.04734515,  0.08231844,  0.01621846,\n",
       "         0.05031675,  0.22323631,  0.05598543,  0.19118391, -0.1661029 ,\n",
       "        -0.05695612, -0.08867456, -0.00716052,  0.2156148 ,  0.1525497 ,\n",
       "         0.10250168,  0.07683191, -0.02429908, -0.05112923,  0.01932379,\n",
       "         0.059169  , -0.12781523,  0.14732532, -0.10137399, -0.06860103,\n",
       "        -0.05009098, -0.02887837, -0.20005894, -0.03177579,  0.07060023,\n",
       "         0.26318607,  0.08887705, -0.21141763,  0.00393511, -0.00622694,\n",
       "        -0.01768654], dtype=float32),\n",
       " array([0.61913264, 0.7236346 , 0.66606927, 0.72067547, 0.62114674,\n",
       "        0.70609987, 0.6794044 , 0.63599414, 0.69987315, 0.6724691 ,\n",
       "        0.8427153 , 0.8817781 , 0.55993915, 0.67079324, 0.5894459 ,\n",
       "        0.6189155 , 0.67065144, 0.64554334, 0.7291382 , 0.64798796,\n",
       "        0.59909475, 0.5662227 , 0.6670541 , 0.7284248 , 0.6071076 ,\n",
       "        0.66413945, 0.60675216, 0.66629434, 0.6978933 , 0.62449896,\n",
       "        0.62760955, 0.5686836 , 0.6857819 , 0.6870636 , 0.6296839 ,\n",
       "        0.75695324, 0.5933293 , 0.5982919 , 0.90577877, 0.72427917,\n",
       "        0.6302974 , 0.7076191 , 0.94856584, 0.6355045 , 0.70616287,\n",
       "        0.6022586 , 0.6668783 , 0.664387  , 0.9013299 , 0.63734186,\n",
       "        0.6721858 , 0.8070947 , 0.61369365, 0.64461297, 0.63571924,\n",
       "        0.6007074 , 0.70414275, 0.73908496, 0.6096333 , 0.6830389 ,\n",
       "        0.6568336 , 0.6138786 , 0.6532011 , 0.65287083, 0.65359885,\n",
       "        0.648177  , 0.8160088 , 0.5957384 , 0.6240067 , 0.63563293,\n",
       "        0.608594  , 0.695882  , 0.72990257, 0.6885225 , 0.58208674,\n",
       "        0.6720769 , 0.766056  , 0.65754384, 0.63488066, 0.64156926,\n",
       "        0.67912   , 0.7149904 , 0.70250773, 0.9960379 , 0.669206  ,\n",
       "        0.607999  , 0.5947704 , 0.7101478 , 0.7431029 , 0.6304225 ,\n",
       "        0.6444992 , 0.72783   , 0.6421997 , 0.66377056, 0.72088826,\n",
       "        0.6116525 ], dtype=float32),\n",
       " array([[ 0.00782283, -0.01941472,  0.03148896, ..., -0.02705803,\n",
       "         -0.03260059,  0.0227661 ],\n",
       "        [-0.03117432, -0.02868278, -0.0042781 , ...,  0.00326272,\n",
       "         -0.00230366, -0.01072399],\n",
       "        [ 0.02701382, -0.00990384,  0.02659073, ...,  0.03161277,\n",
       "         -0.00800347,  0.00306862],\n",
       "        ...,\n",
       "        [-0.00622472,  0.02303462,  0.03121682, ...,  0.03090819,\n",
       "         -0.02053042, -0.00216687],\n",
       "        [-0.03136466, -0.0044033 ,  0.00853484, ..., -0.02158987,\n",
       "         -0.02332331, -0.00128599],\n",
       "        [ 0.03097317,  0.02564403, -0.00957049, ..., -0.01010394,\n",
       "         -0.01821166,  0.0212316 ]], dtype=float32),\n",
       " array([0., 0., 0., 0., 0., 0., 0., 0., 0., 0., 0., 0., 0., 0., 0., 0., 0.,\n",
       "        0., 0., 0., 0., 0., 0., 0., 0., 0., 0., 0., 0., 0., 0., 0., 0., 0.,\n",
       "        0., 0., 0., 0., 0., 0., 0., 0., 0., 0., 0., 0., 0., 0., 0., 0., 0.,\n",
       "        0., 0., 0., 0., 0., 0., 0., 0., 0., 0., 0., 0., 0., 0., 0., 0., 0.,\n",
       "        0., 0., 0., 0., 0., 0., 0., 0., 0., 0., 0., 0., 0., 0., 0., 0., 0.,\n",
       "        0., 0., 0., 0., 0., 0., 0., 0., 0., 0., 0., 0., 0., 0., 0.],\n",
       "       dtype=float32),\n",
       " array([[ 0.10401779, -0.15054357, -0.16769135, ..., -0.05694549,\n",
       "         -0.09951359, -0.18556964],\n",
       "        [ 0.06364265,  0.11412299,  0.18491703, ...,  0.14603621,\n",
       "          0.11722672, -0.109026  ],\n",
       "        [ 0.10386562, -0.1494378 , -0.03957193, ...,  0.11874965,\n",
       "          0.16446641,  0.18942314],\n",
       "        ...,\n",
       "        [-0.0757341 ,  0.02958822,  0.05033614, ..., -0.04974249,\n",
       "          0.00585255,  0.0437879 ],\n",
       "        [-0.0944397 ,  0.08662397, -0.1690691 , ..., -0.15000975,\n",
       "          0.06700948, -0.10883398],\n",
       "        [ 0.15327781, -0.00880934,  0.0394313 , ..., -0.1240637 ,\n",
       "          0.14773867,  0.04557596]], dtype=float32),\n",
       " array([0., 0., 0., 0., 0., 0., 0., 0., 0., 0., 0., 0., 0., 0., 0., 0., 0.,\n",
       "        0., 0., 0., 0., 0., 0., 0., 0., 0., 0., 0., 0., 0., 0., 0., 0., 0.,\n",
       "        0., 0., 0., 0., 0., 0., 0., 0., 0., 0., 0., 0., 0., 0., 0., 0., 0.,\n",
       "        0., 0., 0., 0., 0., 0., 0., 0., 0.], dtype=float32),\n",
       " array([[-0.04368389],\n",
       "        [ 0.05982041],\n",
       "        [ 0.12907854],\n",
       "        [-0.25055358],\n",
       "        [ 0.276384  ],\n",
       "        [-0.12145226],\n",
       "        [-0.02945131],\n",
       "        [-0.3087562 ],\n",
       "        [ 0.05414417],\n",
       "        [ 0.22008431],\n",
       "        [ 0.19819719],\n",
       "        [-0.02632943],\n",
       "        [ 0.14657784],\n",
       "        [-0.08666894],\n",
       "        [-0.05370197],\n",
       "        [ 0.26275194],\n",
       "        [-0.1773771 ],\n",
       "        [-0.18035954],\n",
       "        [ 0.01016951],\n",
       "        [ 0.15302873],\n",
       "        [ 0.14793131],\n",
       "        [-0.2726124 ],\n",
       "        [ 0.29890215],\n",
       "        [-0.23336908],\n",
       "        [ 0.16578838],\n",
       "        [-0.1575038 ],\n",
       "        [ 0.09568325],\n",
       "        [-0.05757421],\n",
       "        [-0.3006279 ],\n",
       "        [ 0.07018203],\n",
       "        [ 0.06896433],\n",
       "        [ 0.06155106],\n",
       "        [ 0.2734691 ],\n",
       "        [-0.25055516],\n",
       "        [ 0.21441978],\n",
       "        [-0.29523587],\n",
       "        [ 0.155144  ],\n",
       "        [ 0.02825493],\n",
       "        [-0.28937006],\n",
       "        [-0.09463178],\n",
       "        [ 0.18065453],\n",
       "        [ 0.07306051],\n",
       "        [ 0.17757002],\n",
       "        [ 0.08907658],\n",
       "        [ 0.29955345],\n",
       "        [-0.06579024],\n",
       "        [ 0.13030872],\n",
       "        [ 0.1401833 ],\n",
       "        [-0.05927765],\n",
       "        [ 0.11582056],\n",
       "        [-0.2186392 ],\n",
       "        [-0.07983287],\n",
       "        [-0.22718035],\n",
       "        [ 0.18696284],\n",
       "        [ 0.3091892 ],\n",
       "        [-0.25850484],\n",
       "        [-0.30920762],\n",
       "        [ 0.24391985],\n",
       "        [ 0.16257155],\n",
       "        [ 0.03937891]], dtype=float32),\n",
       " array([0.], dtype=float32)]"
      ]
     },
     "execution_count": 81,
     "metadata": {},
     "output_type": "execute_result"
    }
   ],
   "source": [
    "model.get_weights()"
   ]
  },
  {
   "cell_type": "code",
   "execution_count": null,
   "metadata": {},
   "outputs": [],
   "source": []
  },
  {
   "cell_type": "markdown",
   "metadata": {},
   "source": [
    "# 1. Make clearer disctinction between training, test, validation data!\n",
    "To be sure the network is able to make predictions using unseen data, the dataset could be split according to persons! Unfortunately we only have data here for 57 persons (24 in group 1 and 33 in group 2).  \n",
    "This makes this approach a bit complicated\n",
    "\n",
    "## Idea for next steps:\n",
    "We could also loop through different test-person/train-person splits and independently train models on those datasets. Then, in the the end the outcome would be averaged over all of those. This way we would make better use of the data we have!"
   ]
  },
  {
   "cell_type": "code",
   "execution_count": 11,
   "metadata": {},
   "outputs": [],
   "source": [
    "groups = []\n",
    "for ID in range(len(metadata)):\n",
    "    if ID == 0:\n",
    "        low = 0\n",
    "    else:\n",
    "        low = int(metadata[ID-1][2])\n",
    "        \n",
    "    groups.append(int(label_collection[low]/3))"
   ]
  },
  {
   "cell_type": "code",
   "execution_count": 12,
   "metadata": {},
   "outputs": [],
   "source": [
    "group_1_ids = np.where(np.array(groups) == 1)[0]\n",
    "group_2_ids = np.where(np.array(groups) == 1)[0]"
   ]
  },
  {
   "cell_type": "code",
   "execution_count": 13,
   "metadata": {},
   "outputs": [
    {
     "data": {
      "text/plain": [
       "array([ 0,  1,  3,  4,  5,  6,  7,  8,  9, 10, 11, 31, 32, 33, 34, 35, 36,\n",
       "       37, 38, 39, 40, 41, 42, 43], dtype=int64)"
      ]
     },
     "execution_count": 13,
     "metadata": {},
     "output_type": "execute_result"
    }
   ],
   "source": [
    "# inspect group 2 ID's\n",
    "group_2_ids"
   ]
  },
  {
   "cell_type": "code",
   "execution_count": 15,
   "metadata": {
    "scrolled": true
   },
   "outputs": [],
   "source": [
    "n_epochs = 30 # Average over n_epochs epochs\n",
    "n_class3_per_patient = 20\n",
    "n_class13_per_patient = 10\n",
    "n_class66_per_patient = 10\n",
    "\n",
    "# Make selection \n",
    "group_1_ids = np.where(np.array(groups) == 1)[0]\n",
    "group_2_ids = np.where(np.array(groups) == 2)[0]\n",
    "keep_group1_for_test = 10\n",
    "keep_group2_for_test = 10\n",
    "\n",
    "# Initialize random numbers to get reproducible results \n",
    "np.random.seed(1)\n",
    "\n",
    "# Make random selection\n",
    "selected_ids_test = [x for x in np.concatenate([np.random.choice(group_1_ids, keep_group1_for_test),\n",
    "                                   np.random.choice(group_2_ids, keep_group2_for_test)])]\n",
    "\n",
    "selected_ids = [x for x in range(len(metadata)) if not x in selected_ids_test]"
   ]
  },
  {
   "cell_type": "code",
   "execution_count": 111,
   "metadata": {},
   "outputs": [
    {
     "data": {
      "text/plain": [
       "[6, 31, 32, 9, 10, 31, 6, 35, 0, 36, 12, 23, 18, 17, 49, 44, 29, 44, 22, 52]"
      ]
     },
     "execution_count": 111,
     "metadata": {},
     "output_type": "execute_result"
    }
   ],
   "source": [
    "selected_ids_test"
   ]
  },
  {
   "cell_type": "code",
   "execution_count": 12,
   "metadata": {},
   "outputs": [
    {
     "ename": "NameError",
     "evalue": "name 'create_averaged_data' is not defined",
     "output_type": "error",
     "traceback": [
      "\u001b[1;31m---------------------------------------------------------------------------\u001b[0m",
      "\u001b[1;31mNameError\u001b[0m                                 Traceback (most recent call last)",
      "\u001b[1;32m<ipython-input-12-459754848f08>\u001b[0m in \u001b[0;36m<module>\u001b[1;34m\u001b[0m\n\u001b[1;32m----> 1\u001b[1;33m X_data, y_data = create_averaged_data(signal_collection, \n\u001b[0m\u001b[0;32m      2\u001b[0m                          \u001b[0mlabel_collection\u001b[0m\u001b[1;33m,\u001b[0m\u001b[1;33m\u001b[0m\u001b[1;33m\u001b[0m\u001b[0m\n\u001b[0;32m      3\u001b[0m                          \u001b[0mmetadata\u001b[0m\u001b[1;33m,\u001b[0m\u001b[1;33m\u001b[0m\u001b[1;33m\u001b[0m\u001b[0m\n\u001b[0;32m      4\u001b[0m                          \u001b[0mn_epochs\u001b[0m\u001b[1;33m,\u001b[0m\u001b[1;33m\u001b[0m\u001b[1;33m\u001b[0m\u001b[0m\n\u001b[0;32m      5\u001b[0m                          selected_ids)\n",
      "\u001b[1;31mNameError\u001b[0m: name 'create_averaged_data' is not defined"
     ]
    }
   ],
   "source": [
    "X_data, y_data = create_averaged_data(signal_collection, \n",
    "                         label_collection, \n",
    "                         metadata, \n",
    "                         n_epochs, \n",
    "                         selected_ids)"
   ]
  },
  {
   "cell_type": "code",
   "execution_count": 18,
   "metadata": {},
   "outputs": [
    {
     "name": "stdout",
     "output_type": "stream",
     "text": [
      "person ID: 6 . Originally from file:  308_17_jc_mmn36_wk.cnt\n",
      "person ID: 31 . Originally from file:  602-115-17m-mc-mmn.cnt\n",
      "person ID: 32 . Originally from file:  604-133-17m-jc-mmn36.cnt\n",
      "person ID: 9 . Originally from file:  337_17_jc_mmn36_wk.cnt\n",
      "person ID: 10 . Originally from file:  343_17_mc_mmm36_wk.cnt\n",
      "person ID: 31 . Originally from file:  602-115-17m-mc-mmn.cnt\n",
      "person ID: 6 . Originally from file:  308_17_jc_mmn36_wk.cnt\n",
      "person ID: 35 . Originally from file:  611_157_17m_mc_mmn36.cnt\n",
      "person ID: 0 . Originally from file:  034_17_mc_mmn36_wk.cnt\n",
      "person ID: 36 . Originally from file:  619-247-17m-mc-mmn36.cnt\n",
      "person ID: 12 . Originally from file:  406_17_md_mmn.cnt\n",
      "person ID: 23 . Originally from file:  472_17_jd_mmn36_wk.cnt\n",
      "person ID: 18 . Originally from file:  436_17_jd_mmn36_wk.cnt\n",
      "person ID: 17 . Originally from file:  435_17_md_mmn36_wk.cnt\n",
      "person ID: 49 . Originally from file:  726_126_17m-jr_mmn36.cnt\n",
      "person ID: 44 . Originally from file:  707-060-17m-jd-mmn.cnt\n",
      "person ID: 29 . Originally from file:  489_17_md_mmn36_wk.cnt\n",
      "person ID: 44 . Originally from file:  707-060-17m-jd-mmn.cnt\n",
      "person ID: 22 . Originally from file:  466_17_md_mmn36_wk.cnt\n",
      "person ID: 52 . Originally from file:  749-461-17m-jr-mmn36.cnt\n"
     ]
    }
   ],
   "source": [
    "X_test, y_test = create_averaged_data(signal_collection, \n",
    "                         label_collection, \n",
    "                         metadata, \n",
    "                         n_epochs, \n",
    "                         selected_ids_test)"
   ]
  },
  {
   "cell_type": "code",
   "execution_count": 19,
   "metadata": {},
   "outputs": [
    {
     "name": "stdout",
     "output_type": "stream",
     "text": [
      "(1570, 30, 501) 1570\n",
      "(800, 30, 501) 800\n"
     ]
    }
   ],
   "source": [
    "print(X_data.shape, len(y_data))\n",
    "print(X_test.shape, len(y_test))"
   ]
  },
  {
   "cell_type": "code",
   "execution_count": 32,
   "metadata": {},
   "outputs": [
    {
     "name": "stdout",
     "output_type": "stream",
     "text": [
      "3 200\n",
      "6 200\n",
      "13 100\n",
      "26 100\n",
      "66 100\n",
      "132 100\n"
     ]
    }
   ],
   "source": [
    "# Check if samples of all label classes are present in both test and train\n",
    "for i in [3, 6, 13, 26, 66, 132]:\n",
    "    print(i, np.sum(np.array(y_test) == i))"
   ]
  },
  {
   "cell_type": "markdown",
   "metadata": {},
   "source": [
    "## Normalization of EEG signals"
   ]
  },
  {
   "cell_type": "code",
   "execution_count": 33,
   "metadata": {},
   "outputs": [],
   "source": [
    "Xmean = np.concatenate([X_data, X_test]).mean()\n",
    "X_data = X_data - Xmean\n",
    "X_test = X_test - Xmean\n",
    "\n",
    "Xmax = np.concatenate([X_data, X_test]).max()\n",
    "\n",
    "X_data = X_data / Xmax\n",
    "X_test = X_test / Xmax"
   ]
  },
  {
   "cell_type": "code",
   "execution_count": 34,
   "metadata": {},
   "outputs": [
    {
     "data": {
      "text/plain": [
       "(-0.0001577112562104391, 1.0, -0.8624177914571192)"
      ]
     },
     "execution_count": 34,
     "metadata": {},
     "output_type": "execute_result"
    }
   ],
   "source": [
    "X_data.mean(), X_data.max(),X_data.min()"
   ]
  },
  {
   "cell_type": "markdown",
   "metadata": {},
   "source": [
    "## Split training data\n",
    "### Now the test dataset is already entirely seperate from the rest! \n",
    "+ validation data, used to monitor the model progress and avoid overfitting.\n",
    "+ testing data, meant for final check on model performance.\n",
    "+ --> Create validation and test data set from seperated data!!"
   ]
  },
  {
   "cell_type": "code",
   "execution_count": 35,
   "metadata": {},
   "outputs": [],
   "source": [
    "from sklearn.model_selection import train_test_split\n",
    "from sklearn.utils import shuffle\n",
    "\n",
    "X_val, X_test, y_val, y_test = train_test_split(X_test, y_test, test_size=0.5, random_state=1)\n",
    "X_train, y_train = shuffle(X_data, y_data, random_state=1)"
   ]
  },
  {
   "cell_type": "code",
   "execution_count": 36,
   "metadata": {},
   "outputs": [
    {
     "name": "stdout",
     "output_type": "stream",
     "text": [
      "Train set size: 1570\n",
      "Validation set size: 400\n",
      "Test set size: 400\n",
      "\n",
      "X_train mean, min, max:  -0.00015771125621043887 -0.8624177914571192 1.0\n"
     ]
    }
   ],
   "source": [
    "print('Train set size:', X_train.shape[0])\n",
    "print('Validation set size:', X_val.shape[0])\n",
    "print('Test set size:', X_test.shape[0])\n",
    "print()\n",
    "print(\"X_train mean, min, max: \", np.mean(X_train), np.min(X_train), np.max(X_train))"
   ]
  },
  {
   "cell_type": "code",
   "execution_count": 61,
   "metadata": {},
   "outputs": [
    {
     "name": "stdout",
     "output_type": "stream",
     "text": [
      "3 98\n",
      "6 101\n",
      "13 52\n",
      "26 49\n",
      "66 48\n",
      "132 52\n",
      "\n",
      "3 102\n",
      "6 99\n",
      "13 48\n",
      "26 51\n",
      "66 52\n",
      "132 48\n"
     ]
    }
   ],
   "source": [
    "# Check if samples of all label classes are present in both test and train\n",
    "for i in [3, 6, 13, 26, 66, 132]:\n",
    "    print(i, np.sum(np.array(y_test) == i))\n",
    "\n",
    "print()\n",
    "for i in [3, 6, 13, 26, 66, 132]:\n",
    "    print(i, np.sum(np.array(y_val) == i))"
   ]
  },
  {
   "cell_type": "markdown",
   "metadata": {},
   "source": [
    "## Switch to 1-hot encoding for labels\n",
    "We have six categories or classes. Those are best represented by a so called **1-hot encoding**. This means nothing else than simply a binary 0-or-1 for every class.  \n",
    "The categories we have are:  \n",
    "3 -> group 0 + stimuli \"3\"  \n",
    "6 -> group 1 + stimuli \"3\"  \n",
    "13 -> group 0 + stimuli \"13\"  \n",
    "26 -> group 1 + stimuli \"13\"  \n",
    "66 -> group 0 + stimuli \"66\"  \n",
    "128 -> group 1 + stimuli \"66\"  \n"
   ]
  },
  {
   "cell_type": "code",
   "execution_count": 37,
   "metadata": {},
   "outputs": [],
   "source": [
    "from sklearn.preprocessing import LabelBinarizer\n",
    "label_transform = LabelBinarizer()\n",
    "\n",
    "y_train_binary = label_transform.fit_transform(np.array(y_train).astype(int))\n",
    "y_val_binary = label_transform.fit_transform(np.array(y_val).astype(int))\n",
    "y_test_binary = label_transform.fit_transform(np.array(y_test).astype(int))"
   ]
  },
  {
   "cell_type": "code",
   "execution_count": 38,
   "metadata": {},
   "outputs": [
    {
     "data": {
      "text/plain": [
       "array([[1, 0, 0, 0, 0, 0],\n",
       "       [0, 0, 0, 0, 1, 0],\n",
       "       [0, 1, 0, 0, 0, 0],\n",
       "       [0, 1, 0, 0, 0, 0],\n",
       "       [0, 1, 0, 0, 0, 0],\n",
       "       [1, 0, 0, 0, 0, 0],\n",
       "       [0, 0, 0, 0, 0, 1],\n",
       "       [1, 0, 0, 0, 0, 0],\n",
       "       [1, 0, 0, 0, 0, 0],\n",
       "       [1, 0, 0, 0, 0, 0]])"
      ]
     },
     "execution_count": 38,
     "metadata": {},
     "output_type": "execute_result"
    }
   ],
   "source": [
    "y_val_binary[:10,:]"
   ]
  },
  {
   "cell_type": "code",
   "execution_count": 39,
   "metadata": {},
   "outputs": [
    {
     "data": {
      "text/plain": [
       "array([  3,   6,  13,  26,  66, 132])"
      ]
     },
     "execution_count": 39,
     "metadata": {},
     "output_type": "execute_result"
    }
   ],
   "source": [
    "# Show found labels:\n",
    "label_transform.classes_"
   ]
  },
  {
   "cell_type": "markdown",
   "metadata": {},
   "source": [
    "Check distribution accross the 6 label categories:"
   ]
  },
  {
   "cell_type": "code",
   "execution_count": 40,
   "metadata": {},
   "outputs": [
    {
     "data": {
      "text/html": [
       "<div>\n",
       "<style scoped>\n",
       "    .dataframe tbody tr th:only-of-type {\n",
       "        vertical-align: middle;\n",
       "    }\n",
       "\n",
       "    .dataframe tbody tr th {\n",
       "        vertical-align: top;\n",
       "    }\n",
       "\n",
       "    .dataframe thead th {\n",
       "        text-align: right;\n",
       "    }\n",
       "</style>\n",
       "<table border=\"1\" class=\"dataframe\">\n",
       "  <thead>\n",
       "    <tr style=\"text-align: right;\">\n",
       "      <th></th>\n",
       "      <th>frequency</th>\n",
       "    </tr>\n",
       "  </thead>\n",
       "  <tbody>\n",
       "    <tr>\n",
       "      <th>3</th>\n",
       "      <td>0.203822</td>\n",
       "    </tr>\n",
       "    <tr>\n",
       "      <th>6</th>\n",
       "      <td>0.305732</td>\n",
       "    </tr>\n",
       "    <tr>\n",
       "      <th>13</th>\n",
       "      <td>0.095541</td>\n",
       "    </tr>\n",
       "    <tr>\n",
       "      <th>26</th>\n",
       "      <td>0.152866</td>\n",
       "    </tr>\n",
       "    <tr>\n",
       "      <th>66</th>\n",
       "      <td>0.095541</td>\n",
       "    </tr>\n",
       "    <tr>\n",
       "      <th>132</th>\n",
       "      <td>0.146497</td>\n",
       "    </tr>\n",
       "  </tbody>\n",
       "</table>\n",
       "</div>"
      ],
      "text/plain": [
       "     frequency\n",
       "3     0.203822\n",
       "6     0.305732\n",
       "13    0.095541\n",
       "26    0.152866\n",
       "66    0.095541\n",
       "132   0.146497"
      ]
     },
     "execution_count": 40,
     "metadata": {},
     "output_type": "execute_result"
    }
   ],
   "source": [
    "labels = list(label_transform.classes_)\n",
    "frequencies = y_train_binary.mean(axis=0)\n",
    "frequencies_df = pd.DataFrame(frequencies, index=labels, columns=['frequency'])\n",
    "frequencies_df"
   ]
  },
  {
   "cell_type": "code",
   "execution_count": 62,
   "metadata": {},
   "outputs": [
    {
     "data": {
      "text/html": [
       "<div>\n",
       "<style scoped>\n",
       "    .dataframe tbody tr th:only-of-type {\n",
       "        vertical-align: middle;\n",
       "    }\n",
       "\n",
       "    .dataframe tbody tr th {\n",
       "        vertical-align: top;\n",
       "    }\n",
       "\n",
       "    .dataframe thead th {\n",
       "        text-align: right;\n",
       "    }\n",
       "</style>\n",
       "<table border=\"1\" class=\"dataframe\">\n",
       "  <thead>\n",
       "    <tr style=\"text-align: right;\">\n",
       "      <th></th>\n",
       "      <th>frequency</th>\n",
       "    </tr>\n",
       "  </thead>\n",
       "  <tbody>\n",
       "    <tr>\n",
       "      <th>3</th>\n",
       "      <td>0.2450</td>\n",
       "    </tr>\n",
       "    <tr>\n",
       "      <th>6</th>\n",
       "      <td>0.2525</td>\n",
       "    </tr>\n",
       "    <tr>\n",
       "      <th>13</th>\n",
       "      <td>0.1300</td>\n",
       "    </tr>\n",
       "    <tr>\n",
       "      <th>26</th>\n",
       "      <td>0.1225</td>\n",
       "    </tr>\n",
       "    <tr>\n",
       "      <th>66</th>\n",
       "      <td>0.1200</td>\n",
       "    </tr>\n",
       "    <tr>\n",
       "      <th>132</th>\n",
       "      <td>0.1300</td>\n",
       "    </tr>\n",
       "  </tbody>\n",
       "</table>\n",
       "</div>"
      ],
      "text/plain": [
       "     frequency\n",
       "3       0.2450\n",
       "6       0.2525\n",
       "13      0.1300\n",
       "26      0.1225\n",
       "66      0.1200\n",
       "132     0.1300"
      ]
     },
     "execution_count": 62,
     "metadata": {},
     "output_type": "execute_result"
    }
   ],
   "source": [
    "labels = list(label_transform.classes_)\n",
    "frequencies = y_test_binary.mean(axis=0)\n",
    "frequencies_df = pd.DataFrame(frequencies, index=labels, columns=['frequency'])\n",
    "frequencies_df"
   ]
  },
  {
   "cell_type": "markdown",
   "metadata": {},
   "source": [
    "### Note:\n",
    "We have more data on group 2 than on group 1. And far more data for stimuli 3 than for stimuli 13 and 66 (not surprising). \n",
    "\n",
    "--> post on balancing datasets: https://towardsdatascience.com/handling-imbalanced-datasets-in-deep-learning-f48407a0e758\n",
    "\n",
    "### Needs some thinking on how to balance the data set !\n",
    "e.g. by frequency dependend selection rule, or by defining a suitied special loss function...."
   ]
  },
  {
   "cell_type": "code",
   "execution_count": 41,
   "metadata": {},
   "outputs": [],
   "source": [
    "from sklearn.utils import class_weight\n",
    "class_weight = class_weight.compute_class_weight('balanced'\n",
    "                                               ,np.unique(y_train)\n",
    "                                               ,y_train)"
   ]
  },
  {
   "cell_type": "code",
   "execution_count": 42,
   "metadata": {},
   "outputs": [
    {
     "data": {
      "text/plain": [
       "array([0.81770833, 0.54513889, 1.74444444, 1.09027778, 1.74444444,\n",
       "       1.13768116])"
      ]
     },
     "execution_count": 42,
     "metadata": {},
     "output_type": "execute_result"
    }
   ],
   "source": [
    "class_weight"
   ]
  },
  {
   "cell_type": "code",
   "execution_count": 43,
   "metadata": {},
   "outputs": [],
   "source": [
    "class_weight = {0: class_weight[0],\n",
    "               1: class_weight[1],\n",
    "               2: class_weight[2],\n",
    "               3: class_weight[3],\n",
    "               4: class_weight[4],\n",
    "               5: class_weight[5]}"
   ]
  },
  {
   "cell_type": "markdown",
   "metadata": {},
   "source": [
    "## Define model architecture"
   ]
  },
  {
   "cell_type": "code",
   "execution_count": 44,
   "metadata": {},
   "outputs": [],
   "source": [
    "import tensorflow as tf\n",
    "from tensorflow.keras import layers"
   ]
  },
  {
   "cell_type": "code",
   "execution_count": 45,
   "metadata": {},
   "outputs": [],
   "source": [
    "from tensorflow.keras.callbacks import ModelCheckpoint, EarlyStopping\n",
    "output_file = 'CNN_EEG_classifier_avg_02'\n",
    "\n",
    "checkpointer = ModelCheckpoint(filepath = PATH_MODELS + output_file + \".hdf5\", monitor='val_acc', verbose=1, save_best_only=True)\n",
    "earlystopper = EarlyStopping(monitor='val_acc', patience=5, verbose=1)"
   ]
  },
  {
   "cell_type": "code",
   "execution_count": 46,
   "metadata": {},
   "outputs": [
    {
     "name": "stdout",
     "output_type": "stream",
     "text": [
      "WARNING:tensorflow:From C:\\Users\\FlorianHuber\\Anaconda3\\envs\\mne\\lib\\site-packages\\tensorflow\\python\\ops\\resource_variable_ops.py:435: colocate_with (from tensorflow.python.framework.ops) is deprecated and will be removed in a future version.\n",
      "Instructions for updating:\n",
      "Colocations handled automatically by placer.\n",
      "WARNING:tensorflow:From C:\\Users\\FlorianHuber\\Anaconda3\\envs\\mne\\lib\\site-packages\\tensorflow\\python\\keras\\layers\\core.py:143: calling dropout (from tensorflow.python.ops.nn_ops) with keep_prob is deprecated and will be removed in a future version.\n",
      "Instructions for updating:\n",
      "Please use `rate` instead of `keep_prob`. Rate should be set to `rate = 1 - keep_prob`.\n"
     ]
    }
   ],
   "source": [
    "# Simple CNN model\n",
    "n_timesteps = 501\n",
    "n_features = 30\n",
    "n_outputs = 6\n",
    "\n",
    "model = tf.keras.Sequential()\n",
    "#model.add(layers.Conv1D(filters=32, kernel_size=20, activation='relu', input_shape=(n_timesteps,n_features)))\n",
    "model.add(layers.Conv1D(filters=32, kernel_size=20, input_shape=(n_timesteps,n_features)))\n",
    "model.add(layers.BatchNormalization())\n",
    "model.add(layers.LeakyReLU())\n",
    "model.add(layers.AveragePooling1D(pool_size=2))\n",
    "\n",
    "model.add(layers.Conv1D(filters=64, kernel_size=10)) #, activation='relu'))\n",
    "model.add(layers.BatchNormalization())\n",
    "model.add(layers.LeakyReLU())\n",
    "model.add(layers.AveragePooling1D(pool_size=2))\n",
    "\n",
    "model.add(layers.Conv1D(filters=64, kernel_size=5)) #, activation='relu'))\n",
    "model.add(layers.BatchNormalization())\n",
    "model.add(layers.LeakyReLU())\n",
    "model.add(layers.AveragePooling1D(pool_size=2))\n",
    "\n",
    "#model.add(layers.Conv1D(filters=96, kernel_size=3, activation='relu'))\n",
    "#model.add(layers.AveragePooling1D(pool_size=2))\n",
    "#model.add(layers.MaxPooling1D(pool_size=2))\n",
    "\n",
    "model.add(layers.Flatten())\n",
    "model.add(layers.Dense(80, activation='relu'))\n",
    "model.add(layers.Dropout(0.5))\n",
    "model.add(layers.Dense(n_outputs, activation='softmax'))\n",
    "#model.compile(loss='categorical_crossentropy', optimizer='adagrad', metrics=['accuracy'])\n",
    "model.compile(loss='categorical_crossentropy', optimizer='adadelta', metrics=['accuracy'])"
   ]
  },
  {
   "cell_type": "code",
   "execution_count": 47,
   "metadata": {},
   "outputs": [
    {
     "name": "stdout",
     "output_type": "stream",
     "text": [
      "_________________________________________________________________\n",
      "Layer (type)                 Output Shape              Param #   \n",
      "=================================================================\n",
      "conv1d (Conv1D)              (None, 482, 32)           19232     \n",
      "_________________________________________________________________\n",
      "batch_normalization_v1 (Batc (None, 482, 32)           128       \n",
      "_________________________________________________________________\n",
      "leaky_re_lu (LeakyReLU)      (None, 482, 32)           0         \n",
      "_________________________________________________________________\n",
      "average_pooling1d (AveragePo (None, 241, 32)           0         \n",
      "_________________________________________________________________\n",
      "conv1d_1 (Conv1D)            (None, 232, 64)           20544     \n",
      "_________________________________________________________________\n",
      "batch_normalization_v1_1 (Ba (None, 232, 64)           256       \n",
      "_________________________________________________________________\n",
      "leaky_re_lu_1 (LeakyReLU)    (None, 232, 64)           0         \n",
      "_________________________________________________________________\n",
      "average_pooling1d_1 (Average (None, 116, 64)           0         \n",
      "_________________________________________________________________\n",
      "conv1d_2 (Conv1D)            (None, 112, 64)           20544     \n",
      "_________________________________________________________________\n",
      "batch_normalization_v1_2 (Ba (None, 112, 64)           256       \n",
      "_________________________________________________________________\n",
      "leaky_re_lu_2 (LeakyReLU)    (None, 112, 64)           0         \n",
      "_________________________________________________________________\n",
      "average_pooling1d_2 (Average (None, 56, 64)            0         \n",
      "_________________________________________________________________\n",
      "flatten (Flatten)            (None, 3584)              0         \n",
      "_________________________________________________________________\n",
      "dense (Dense)                (None, 80)                286800    \n",
      "_________________________________________________________________\n",
      "dropout (Dropout)            (None, 80)                0         \n",
      "_________________________________________________________________\n",
      "dense_1 (Dense)              (None, 6)                 486       \n",
      "=================================================================\n",
      "Total params: 348,246\n",
      "Trainable params: 347,926\n",
      "Non-trainable params: 320\n",
      "_________________________________________________________________\n"
     ]
    }
   ],
   "source": [
    "model.summary()"
   ]
  },
  {
   "cell_type": "code",
   "execution_count": 48,
   "metadata": {},
   "outputs": [
    {
     "name": "stdout",
     "output_type": "stream",
     "text": [
      "Train on 1570 samples, validate on 400 samples\n",
      "WARNING:tensorflow:From C:\\Users\\FlorianHuber\\Anaconda3\\envs\\mne\\lib\\site-packages\\tensorflow\\python\\ops\\math_ops.py:3066: to_int32 (from tensorflow.python.ops.math_ops) is deprecated and will be removed in a future version.\n",
      "Instructions for updating:\n",
      "Use tf.cast instead.\n",
      "Epoch 1/50\n",
      "1568/1570 [============================>.] - ETA: 0s - loss: 1.7407 - acc: 0.3151\n",
      "Epoch 00001: val_acc improved from -inf to 0.20000, saving model to C:\\OneDrive - Netherlands eScience Center\\Project_ePodium\\trained_models\\CNN_EEG_classifier_avg_02.hdf5\n",
      "1570/1570 [==============================] - 8s 5ms/sample - loss: 1.7404 - acc: 0.3146 - val_loss: 1.7505 - val_acc: 0.2000\n",
      "Epoch 2/50\n",
      "1568/1570 [============================>.] - ETA: 0s - loss: 1.3919 - acc: 0.4062\n",
      "Epoch 00002: val_acc did not improve from 0.20000\n",
      "1570/1570 [==============================] - 7s 4ms/sample - loss: 1.3920 - acc: 0.4064 - val_loss: 1.7163 - val_acc: 0.2000\n",
      "Epoch 3/50\n",
      "1568/1570 [============================>.] - ETA: 0s - loss: 1.2415 - acc: 0.4541\n",
      "Epoch 00003: val_acc improved from 0.20000 to 0.34500, saving model to C:\\OneDrive - Netherlands eScience Center\\Project_ePodium\\trained_models\\CNN_EEG_classifier_avg_02.hdf5\n",
      "1570/1570 [==============================] - 7s 5ms/sample - loss: 1.2408 - acc: 0.4548 - val_loss: 1.4838 - val_acc: 0.3450\n",
      "Epoch 4/50\n",
      "1568/1570 [============================>.] - ETA: 0s - loss: 1.0887 - acc: 0.5083\n",
      "Epoch 00004: val_acc did not improve from 0.34500\n",
      "1570/1570 [==============================] - 7s 5ms/sample - loss: 1.0894 - acc: 0.5083 - val_loss: 1.5897 - val_acc: 0.2850\n",
      "Epoch 5/50\n",
      "1568/1570 [============================>.] - ETA: 0s - loss: 1.0416 - acc: 0.5019\n",
      "Epoch 00005: val_acc did not improve from 0.34500\n",
      "1570/1570 [==============================] - 8s 5ms/sample - loss: 1.0432 - acc: 0.5013 - val_loss: 1.4687 - val_acc: 0.2925\n",
      "Epoch 6/50\n",
      "1568/1570 [============================>.] - ETA: 0s - loss: 0.9592 - acc: 0.5306\n",
      "Epoch 00006: val_acc improved from 0.34500 to 0.35750, saving model to C:\\OneDrive - Netherlands eScience Center\\Project_ePodium\\trained_models\\CNN_EEG_classifier_avg_02.hdf5\n",
      "1570/1570 [==============================] - 8s 5ms/sample - loss: 0.9590 - acc: 0.5306 - val_loss: 1.4408 - val_acc: 0.3575\n",
      "Epoch 7/50\n",
      "1568/1570 [============================>.] - ETA: 0s - loss: 0.9151 - acc: 0.5702\n",
      "Epoch 00007: val_acc did not improve from 0.35750\n",
      "1570/1570 [==============================] - 8s 5ms/sample - loss: 0.9140 - acc: 0.5707 - val_loss: 1.4162 - val_acc: 0.3275\n",
      "Epoch 8/50\n",
      "1568/1570 [============================>.] - ETA: 0s - loss: 0.8499 - acc: 0.5848\n",
      "Epoch 00008: val_acc improved from 0.35750 to 0.36500, saving model to C:\\OneDrive - Netherlands eScience Center\\Project_ePodium\\trained_models\\CNN_EEG_classifier_avg_02.hdf5\n",
      "1570/1570 [==============================] - 8s 5ms/sample - loss: 0.8508 - acc: 0.5841 - val_loss: 1.4780 - val_acc: 0.3650\n",
      "Epoch 9/50\n",
      "1568/1570 [============================>.] - ETA: 0s - loss: 0.8306 - acc: 0.5931\n",
      "Epoch 00009: val_acc did not improve from 0.36500\n",
      "1570/1570 [==============================] - 8s 5ms/sample - loss: 0.8306 - acc: 0.5930 - val_loss: 2.2159 - val_acc: 0.3275\n",
      "Epoch 10/50\n",
      "1568/1570 [============================>.] - ETA: 0s - loss: 0.8504 - acc: 0.5918\n",
      "Epoch 00010: val_acc did not improve from 0.36500\n",
      "1570/1570 [==============================] - 8s 5ms/sample - loss: 0.8502 - acc: 0.5917 - val_loss: 1.7476 - val_acc: 0.3450\n",
      "Epoch 11/50\n",
      "1568/1570 [============================>.] - ETA: 0s - loss: 0.7654 - acc: 0.6371\n",
      "Epoch 00011: val_acc improved from 0.36500 to 0.38250, saving model to C:\\OneDrive - Netherlands eScience Center\\Project_ePodium\\trained_models\\CNN_EEG_classifier_avg_02.hdf5\n",
      "1570/1570 [==============================] - 8s 5ms/sample - loss: 0.7659 - acc: 0.6369 - val_loss: 2.0038 - val_acc: 0.3825\n",
      "Epoch 12/50\n",
      "1568/1570 [============================>.] - ETA: 0s - loss: 0.7243 - acc: 0.6435\n",
      "Epoch 00012: val_acc did not improve from 0.38250\n",
      "1570/1570 [==============================] - 9s 6ms/sample - loss: 0.7256 - acc: 0.6433 - val_loss: 2.0769 - val_acc: 0.3700\n",
      "Epoch 13/50\n",
      "1568/1570 [============================>.] - ETA: 0s - loss: 0.7165 - acc: 0.6505\n",
      "Epoch 00013: val_acc did not improve from 0.38250\n",
      "1570/1570 [==============================] - 9s 6ms/sample - loss: 0.7156 - acc: 0.6510 - val_loss: 1.8672 - val_acc: 0.3450\n",
      "Epoch 14/50\n",
      "1568/1570 [============================>.] - ETA: 0s - loss: 0.6744 - acc: 0.6658\n",
      "Epoch 00014: val_acc did not improve from 0.38250\n",
      "1570/1570 [==============================] - 9s 6ms/sample - loss: 0.6745 - acc: 0.6656 - val_loss: 2.1610 - val_acc: 0.3125\n",
      "Epoch 15/50\n",
      "1568/1570 [============================>.] - ETA: 0s - loss: 0.6478 - acc: 0.6645\n",
      "Epoch 00015: val_acc did not improve from 0.38250\n",
      "1570/1570 [==============================] - 9s 6ms/sample - loss: 0.6487 - acc: 0.6637 - val_loss: 2.3274 - val_acc: 0.3450\n",
      "Epoch 16/50\n",
      "1568/1570 [============================>.] - ETA: 0s - loss: 0.6337 - acc: 0.6735\n",
      "Epoch 00016: val_acc did not improve from 0.38250\n",
      "1570/1570 [==============================] - 9s 6ms/sample - loss: 0.6344 - acc: 0.6732 - val_loss: 2.3489 - val_acc: 0.3350\n",
      "Epoch 00016: early stopping\n"
     ]
    },
    {
     "data": {
      "text/plain": [
       "<tensorflow.python.keras.callbacks.History at 0x21228902da0>"
      ]
     },
     "execution_count": 48,
     "metadata": {},
     "output_type": "execute_result"
    }
   ],
   "source": [
    "epochs = 50\n",
    "batch_size = 32\n",
    "\n",
    "# fit network\n",
    "model.fit(np.swapaxes(X_train,1,2), \n",
    "          y_train_binary, \n",
    "          validation_data=(np.swapaxes(X_val,1,2), y_val_binary), \n",
    "          epochs=epochs, \n",
    "          batch_size=batch_size,\n",
    "          class_weight = class_weight,\n",
    "          callbacks = [checkpointer, earlystopper])"
   ]
  },
  {
   "cell_type": "markdown",
   "metadata": {},
   "source": [
    "## Seems to overfit on the training data and not be able to predict well the validation data"
   ]
  },
  {
   "cell_type": "code",
   "execution_count": 49,
   "metadata": {},
   "outputs": [],
   "source": [
    "# Evaluate the model\n",
    "_, train_acc = model.evaluate(np.swapaxes(X_train,1,2), y_train_binary, verbose=0)\n",
    "_, test_acc = model.evaluate(np.swapaxes(X_test,1,2), y_test_binary, verbose=0)"
   ]
  },
  {
   "cell_type": "code",
   "execution_count": 50,
   "metadata": {},
   "outputs": [
    {
     "name": "stdout",
     "output_type": "stream",
     "text": [
      "Accuracy on train dataset: 0.75605094\n",
      "Accuracy on test dataset: 0.35\n"
     ]
    }
   ],
   "source": [
    "print(\"Accuracy on train dataset:\", train_acc)\n",
    "print(\"Accuracy on test dataset:\", test_acc)"
   ]
  },
  {
   "cell_type": "code",
   "execution_count": 51,
   "metadata": {},
   "outputs": [],
   "source": [
    "Xtest = np.swapaxes(X_test,1,2)\n",
    "\n",
    "# Check model predictions:\n",
    "y_pred_proba = model.predict_proba(Xtest)\n",
    "y_pred_classes = model.predict_classes(Xtest)"
   ]
  },
  {
   "cell_type": "code",
   "execution_count": 67,
   "metadata": {},
   "outputs": [
    {
     "name": "stdout",
     "output_type": "stream",
     "text": [
      "[0 5 0 1 0 1 3 5 0 1 0 4 0 2 3 1 5 1 2 0 2 1 2 0 3 0 3 2 3 4]\n",
      "[0 2 0 1 0 1 2 3 1 0 0 4 0 0 5 1 2 0 3 0 5 0 0 0 5 1 3 3 2 2]\n"
     ]
    }
   ],
   "source": [
    "y_test_05 = np.array(y_test.copy())\n",
    "y_test_05[y_test_05 == 3] = 0\n",
    "y_test_05[y_test_05 == 6] = 1\n",
    "y_test_05[y_test_05 == 13] = 2\n",
    "y_test_05[y_test_05 == 26] = 3\n",
    "y_test_05[y_test_05 == 66] = 4\n",
    "y_test_05[y_test_05 == 132] = 5\n",
    "\n",
    "print(y_test_05[:30].astype(int))\n",
    "print(y_pred_classes[:30])"
   ]
  },
  {
   "cell_type": "code",
   "execution_count": 68,
   "metadata": {},
   "outputs": [
    {
     "name": "stdout",
     "output_type": "stream",
     "text": [
      "0.35\n"
     ]
    }
   ],
   "source": [
    "# Calculate accuracy\n",
    "from sklearn import metrics\n",
    "print(metrics.accuracy_score(y_test_05, y_pred_classes))"
   ]
  },
  {
   "cell_type": "markdown",
   "metadata": {},
   "source": [
    "## Check if groups are predicted correctly:"
   ]
  },
  {
   "cell_type": "code",
   "execution_count": 54,
   "metadata": {},
   "outputs": [
    {
     "name": "stdout",
     "output_type": "stream",
     "text": [
      "[1 2 1 2 1 2 2 2 1 2 1 1 1 1 2 2 2 2 1 1 1 2 1 1 2 1 2 1 2 1]\n",
      "[1 2 1 2 1 2 2 2 2 1 1 2 1 1 2 2 2 1 2 1 2 1 1 1 2 2 2 2 2 2]\n"
     ]
    }
   ],
   "source": [
    "y_test_12 = np.array(y_test.copy())\n",
    "y_test_12[y_test_12 == 132] = 2\n",
    "y_test_12[y_test_12 == 66] = 1\n",
    "y_test_12[y_test_12 == 26] = 2\n",
    "y_test_12[y_test_12 == 13] = 1\n",
    "y_test_12[y_test_12 == 6] = 2\n",
    "y_test_12[y_test_12 == 3] = 1\n",
    "\n",
    "y_pred_12 = y_pred_classes.copy()\n",
    "y_pred_12[(y_pred_12 == 4) | (y_pred_12 == 2) | (y_pred_12 == 0)] = 6\n",
    "y_pred_12[(y_pred_12 == 5) | (y_pred_12 == 3) | (y_pred_12 == 1)] = 2\n",
    "y_pred_12[y_pred_12 == 6] = 1\n",
    "\n",
    "print(y_test_12[:30].astype(int))\n",
    "print(y_pred_12[:30])"
   ]
  },
  {
   "cell_type": "code",
   "execution_count": 55,
   "metadata": {},
   "outputs": [
    {
     "data": {
      "text/plain": [
       "0.4925"
      ]
     },
     "execution_count": 55,
     "metadata": {},
     "output_type": "execute_result"
    }
   ],
   "source": [
    "np.sum(y_test_12 == y_pred_12)/ y_pred_12.shape[0]"
   ]
  },
  {
   "cell_type": "markdown",
   "metadata": {},
   "source": [
    "## Observation:\n",
    "So far this is not working as a proper discriminator between group1 and group2!  \n",
    "The test dataset contains about equal amounts of data from both groups, and the model does do better than random guessing (50% hits)."
   ]
  },
  {
   "cell_type": "code",
   "execution_count": 69,
   "metadata": {},
   "outputs": [
    {
     "data": {
      "text/plain": [
       "array([[57, 39,  0,  1,  1,  0],\n",
       "       [57, 33,  2,  1,  3,  5],\n",
       "       [ 5,  1,  6, 20, 12,  8],\n",
       "       [ 8,  4, 12, 12,  3, 10],\n",
       "       [ 1,  0, 13,  4,  7, 23],\n",
       "       [ 3,  0, 12,  5,  7, 25]], dtype=int64)"
      ]
     },
     "execution_count": 69,
     "metadata": {},
     "output_type": "execute_result"
    }
   ],
   "source": [
    "# Confusion matrix:\n",
    "M_confusion = metrics.confusion_matrix(y_test_05, y_pred_classes)\n",
    "M_confusion"
   ]
  },
  {
   "cell_type": "code",
   "execution_count": 80,
   "metadata": {},
   "outputs": [],
   "source": [
    "def plot_confusion_matrix(y_true, y_pred, classes,\n",
    "                          normalize=False,\n",
    "                          title=None,\n",
    "                          cmap=plt.cm.Blues):\n",
    "    \"\"\"\n",
    "    This function prints and plots the confusion matrix.\n",
    "    Normalization can be applied by setting `normalize=True`.\n",
    "    \"\"\"\n",
    "    from sklearn.utils.multiclass import unique_labels\n",
    "    \n",
    "    if not title:\n",
    "        if normalize:\n",
    "            title = 'Normalized confusion matrix'\n",
    "        else:\n",
    "            title = 'Confusion matrix, without normalization'\n",
    "\n",
    "    # Compute confusion matrix\n",
    "    cm = metrics.confusion_matrix(y_true, y_pred)\n",
    "    ## Only use the labels that appear in the data\n",
    "    #classes = classes[unique_labels(y_true, y_pred)]\n",
    "    if normalize:\n",
    "        cm = cm.astype('float') / cm.sum(axis=1)[:, np.newaxis]\n",
    "        print(\"Normalized confusion matrix\")\n",
    "    else:\n",
    "        print('Confusion matrix, without normalization')\n",
    "\n",
    "    print(cm)\n",
    "\n",
    "    fig, ax = plt.subplots()\n",
    "    im = ax.imshow(cm, interpolation='nearest', cmap=cmap)\n",
    "    ax.figure.colorbar(im, ax=ax)\n",
    "    # We want to show all ticks...\n",
    "    ax.set(xticks=np.arange(cm.shape[1]),\n",
    "           yticks=np.arange(cm.shape[0]),\n",
    "           # ... and label them with the respective list entries\n",
    "           xticklabels=classes, yticklabels=classes,\n",
    "           title=title,\n",
    "           ylabel='True label',\n",
    "           xlabel='Predicted label')\n",
    "\n",
    "    # Rotate the tick labels and set their alignment.\n",
    "    plt.setp(ax.get_xticklabels(), rotation=45, ha=\"right\",\n",
    "             rotation_mode=\"anchor\")\n",
    "\n",
    "    # Loop over data dimensions and create text annotations.\n",
    "    fmt = '.2f' if normalize else 'd'\n",
    "    thresh = cm.max() / 2.\n",
    "    for i in range(cm.shape[0]):\n",
    "        for j in range(cm.shape[1]):\n",
    "            ax.text(j, i, format(cm[i, j], fmt),\n",
    "                    ha=\"center\", va=\"center\",\n",
    "                    color=\"white\" if cm[i, j] > thresh else \"black\")\n",
    "    fig.tight_layout()\n",
    "    return ax"
   ]
  },
  {
   "cell_type": "code",
   "execution_count": 84,
   "metadata": {},
   "outputs": [
    {
     "name": "stdout",
     "output_type": "stream",
     "text": [
      "Normalized confusion matrix\n",
      "[[0.58163265 0.39795918 0.         0.01020408 0.01020408 0.        ]\n",
      " [0.56435644 0.32673267 0.01980198 0.00990099 0.02970297 0.04950495]\n",
      " [0.09615385 0.01923077 0.11538462 0.38461538 0.23076923 0.15384615]\n",
      " [0.16326531 0.08163265 0.24489796 0.24489796 0.06122449 0.20408163]\n",
      " [0.02083333 0.         0.27083333 0.08333333 0.14583333 0.47916667]\n",
      " [0.05769231 0.         0.23076923 0.09615385 0.13461538 0.48076923]]\n"
     ]
    },
    {
     "data": {
      "image/png": "[encoded data removed]",
      "text/plain": [
       "<Figure size 432x288 with 2 Axes>"
      ]
     },
     "metadata": {
      "needs_background": "light"
     },
     "output_type": "display_data"
    }
   ],
   "source": [
    "# Plot normalized confusion matrix\n",
    "labels = list(label_transform.classes_)\n",
    "\n",
    "plot_confusion_matrix(y_test_05, y_pred_classes, classes=labels, normalize=True,\n",
    "                      title='Normalized confusion matrix')\n",
    "\n",
    "plt.savefig('confusion_matrix.pdf')"
   ]
  },
  {
   "cell_type": "markdown",
   "metadata": {},
   "source": [
    "### Interestingly, it might be that the model at least does see a difference between the types of stimuli!"
   ]
  },
  {
   "cell_type": "code",
   "execution_count": 71,
   "metadata": {},
   "outputs": [
    {
     "name": "stdout",
     "output_type": "stream",
     "text": [
      "[1 2 1 1 1 1 2 2 1 1 1 2 1 2 2 1 2 1 2 1 2 1 2 1 2 1 2 2 2 2]\n",
      "[1 2 1 1 1 1 2 2 1 1 1 2 1 1 2 1 2 1 2 1 2 1 1 1 2 1 2 2 2 2]\n"
     ]
    }
   ],
   "source": [
    "y_test_bak_dak = np.array(y_test.copy())\n",
    "y_test_bak_dak[y_test_bak_dak == 132] = 2\n",
    "y_test_bak_dak[y_test_bak_dak == 66] = 2\n",
    "y_test_bak_dak[y_test_bak_dak == 26] = 2\n",
    "y_test_bak_dak[y_test_bak_dak == 13] = 2\n",
    "y_test_bak_dak[y_test_bak_dak == 6] = 1\n",
    "y_test_bak_dak[y_test_bak_dak == 3] = 1\n",
    "\n",
    "y_pred_bak_dak = y_pred_classes.copy()\n",
    "y_pred_bak_dak[y_pred_bak_dak == 2] = 2\n",
    "y_pred_bak_dak[y_pred_bak_dak == 5] = 2\n",
    "y_pred_bak_dak[y_pred_bak_dak == 4] = 2\n",
    "y_pred_bak_dak[y_pred_bak_dak == 3] = 2\n",
    "y_pred_bak_dak[y_pred_bak_dak == 1] = 1\n",
    "y_pred_bak_dak[y_pred_bak_dak == 0] = 1\n",
    "\n",
    "print(y_test_bak_dak[:30].astype(int))\n",
    "print(y_pred_bak_dak[:30])"
   ]
  },
  {
   "cell_type": "code",
   "execution_count": 72,
   "metadata": {},
   "outputs": [
    {
     "data": {
      "text/plain": [
       "0.9125"
      ]
     },
     "execution_count": 72,
     "metadata": {},
     "output_type": "execute_result"
    }
   ],
   "source": [
    "np.sum(y_test_bak_dak == y_pred_bak_dak)/ y_pred_bak_dak.shape[0]"
   ]
  },
  {
   "cell_type": "markdown",
   "metadata": {},
   "source": [
    "## Interestingly though,...\n",
    "That would mean that the model is correct in >95% of all cases in distinguishing 'bak' from 'dak'.  \n",
    "--> **Careful: Needs to be checked if my assumptions about the stimuli are correct...**"
   ]
  },
  {
   "cell_type": "markdown",
   "metadata": {},
   "source": [
    "# 2. Alternative model architecture\n",
    "+ Compression in time axis only after 3 convolutional steps\n",
    "+ Contains batchNormalization layers"
   ]
  },
  {
   "cell_type": "code",
   "execution_count": 85,
   "metadata": {},
   "outputs": [],
   "source": [
    "from tensorflow.keras.callbacks import ModelCheckpoint, EarlyStopping\n",
    "output_file = 'CNN_EEG_classifier_avg_03'\n",
    "\n",
    "checkpointer = ModelCheckpoint(filepath = PATH_MODELS + output_file + \".hdf5\", monitor='val_acc', verbose=1, save_best_only=True)\n",
    "earlystopper = EarlyStopping(monitor='val_acc', patience=5, verbose=1)"
   ]
  },
  {
   "cell_type": "code",
   "execution_count": 86,
   "metadata": {},
   "outputs": [],
   "source": [
    "# Simple CNN model\n",
    "n_timesteps = 501\n",
    "n_features = 30\n",
    "n_outputs = 6\n",
    "\n",
    "model = tf.keras.Sequential()\n",
    "#model.add(layers.Conv1D(filters=32, kernel_size=20, activation='relu', input_shape=(n_timesteps,n_features)))\n",
    "model.add(layers.Conv1D(filters=32, kernel_size=20, input_shape=(n_timesteps,n_features)))\n",
    "model.add(layers.BatchNormalization())\n",
    "model.add(layers.LeakyReLU())\n",
    "\n",
    "model.add(layers.Conv1D(filters=64, kernel_size=10)) #, activation='relu'))\n",
    "model.add(layers.BatchNormalization())\n",
    "model.add(layers.LeakyReLU())\n",
    "\n",
    "model.add(layers.Conv1D(filters=32, kernel_size=5)) #, activation='relu'))\n",
    "model.add(layers.BatchNormalization())\n",
    "model.add(layers.LeakyReLU())\n",
    "model.add(layers.AveragePooling1D(pool_size=4))\n",
    "\n",
    "model.add(layers.Flatten())\n",
    "model.add(layers.Dense(100, activation='relu'))\n",
    "model.add(layers.Dropout(0.5))\n",
    "model.add(layers.Dense(n_outputs, activation='softmax'))\n",
    "model.compile(loss='categorical_crossentropy', optimizer='adagrad', metrics=['accuracy'])\n",
    "#model.compile(loss='categorical_crossentropy', optimizer='adam', metrics=['accuracy'])"
   ]
  },
  {
   "cell_type": "code",
   "execution_count": 87,
   "metadata": {},
   "outputs": [
    {
     "name": "stdout",
     "output_type": "stream",
     "text": [
      "_________________________________________________________________\n",
      "Layer (type)                 Output Shape              Param #   \n",
      "=================================================================\n",
      "conv1d_3 (Conv1D)            (None, 482, 32)           19232     \n",
      "_________________________________________________________________\n",
      "batch_normalization_v1_3 (Ba (None, 482, 32)           128       \n",
      "_________________________________________________________________\n",
      "leaky_re_lu_3 (LeakyReLU)    (None, 482, 32)           0         \n",
      "_________________________________________________________________\n",
      "conv1d_4 (Conv1D)            (None, 473, 64)           20544     \n",
      "_________________________________________________________________\n",
      "batch_normalization_v1_4 (Ba (None, 473, 64)           256       \n",
      "_________________________________________________________________\n",
      "leaky_re_lu_4 (LeakyReLU)    (None, 473, 64)           0         \n",
      "_________________________________________________________________\n",
      "conv1d_5 (Conv1D)            (None, 469, 32)           10272     \n",
      "_________________________________________________________________\n",
      "batch_normalization_v1_5 (Ba (None, 469, 32)           128       \n",
      "_________________________________________________________________\n",
      "leaky_re_lu_5 (LeakyReLU)    (None, 469, 32)           0         \n",
      "_________________________________________________________________\n",
      "average_pooling1d_3 (Average (None, 117, 32)           0         \n",
      "_________________________________________________________________\n",
      "flatten_1 (Flatten)          (None, 3744)              0         \n",
      "_________________________________________________________________\n",
      "dense_2 (Dense)              (None, 100)               374500    \n",
      "_________________________________________________________________\n",
      "dropout_1 (Dropout)          (None, 100)               0         \n",
      "_________________________________________________________________\n",
      "dense_3 (Dense)              (None, 6)                 606       \n",
      "=================================================================\n",
      "Total params: 425,666\n",
      "Trainable params: 425,410\n",
      "Non-trainable params: 256\n",
      "_________________________________________________________________\n"
     ]
    }
   ],
   "source": [
    "model.summary()"
   ]
  },
  {
   "cell_type": "code",
   "execution_count": 88,
   "metadata": {},
   "outputs": [
    {
     "name": "stdout",
     "output_type": "stream",
     "text": [
      "Train on 1570 samples, validate on 400 samples\n",
      "Epoch 1/50\n",
      "1568/1570 [============================>.] - ETA: 0s - loss: 2.4284 - acc: 0.2526\n",
      "Epoch 00001: val_acc improved from -inf to 0.28000, saving model to C:\\OneDrive - Netherlands eScience Center\\Project_ePodium\\trained_models\\CNN_EEG_classifier_avg_03.hdf5\n",
      "1570/1570 [==============================] - 11s 7ms/sample - loss: 2.4266 - acc: 0.2529 - val_loss: 1.6462 - val_acc: 0.2800\n",
      "Epoch 2/50\n",
      "1568/1570 [============================>.] - ETA: 0s - loss: 1.5319 - acc: 0.3571\n",
      "Epoch 00002: val_acc improved from 0.28000 to 0.31500, saving model to C:\\OneDrive - Netherlands eScience Center\\Project_ePodium\\trained_models\\CNN_EEG_classifier_avg_03.hdf5\n",
      "1570/1570 [==============================] - 9s 6ms/sample - loss: 1.5322 - acc: 0.3573 - val_loss: 1.6122 - val_acc: 0.3150\n",
      "Epoch 3/50\n",
      "1568/1570 [============================>.] - ETA: 0s - loss: 1.3472 - acc: 0.4037- ETA: 2s - loss: 1.362\n",
      "Epoch 00003: val_acc did not improve from 0.31500\n",
      "1570/1570 [==============================] - 10s 6ms/sample - loss: 1.3477 - acc: 0.4032 - val_loss: 1.5866 - val_acc: 0.2700\n",
      "Epoch 4/50\n",
      "1568/1570 [============================>.] - ETA: 0s - loss: 1.2731 - acc: 0.4356\n",
      "Epoch 00004: val_acc improved from 0.31500 to 0.36500, saving model to C:\\OneDrive - Netherlands eScience Center\\Project_ePodium\\trained_models\\CNN_EEG_classifier_avg_03.hdf5\n",
      "1570/1570 [==============================] - 11s 7ms/sample - loss: 1.2732 - acc: 0.4357 - val_loss: 1.4765 - val_acc: 0.3650\n",
      "Epoch 5/50\n",
      "1568/1570 [============================>.] - ETA: 0s - loss: 1.2246 - acc: 0.4349\n",
      "Epoch 00005: val_acc did not improve from 0.36500\n",
      "1570/1570 [==============================] - 11s 7ms/sample - loss: 1.2242 - acc: 0.4350 - val_loss: 1.3904 - val_acc: 0.3550\n",
      "Epoch 6/50\n",
      "1568/1570 [============================>.] - ETA: 0s - loss: 1.1266 - acc: 0.4630\n",
      "Epoch 00006: val_acc did not improve from 0.36500\n",
      "1570/1570 [==============================] - 13s 8ms/sample - loss: 1.1289 - acc: 0.4624 - val_loss: 1.4084 - val_acc: 0.3250\n",
      "Epoch 7/50\n",
      "1568/1570 [============================>.] - ETA: 0s - loss: 1.1087 - acc: 0.4643\n",
      "Epoch 00007: val_acc improved from 0.36500 to 0.38500, saving model to C:\\OneDrive - Netherlands eScience Center\\Project_ePodium\\trained_models\\CNN_EEG_classifier_avg_03.hdf5\n",
      "1570/1570 [==============================] - 12s 8ms/sample - loss: 1.1086 - acc: 0.4650 - val_loss: 1.3403 - val_acc: 0.3850\n",
      "Epoch 8/50\n",
      "1568/1570 [============================>.] - ETA: 0s - loss: 1.0840 - acc: 0.4713\n",
      "Epoch 00008: val_acc did not improve from 0.38500\n",
      "1570/1570 [==============================] - 12s 8ms/sample - loss: 1.0871 - acc: 0.4713 - val_loss: 1.5891 - val_acc: 0.3400\n",
      "Epoch 9/50\n",
      "1568/1570 [============================>.] - ETA: 0s - loss: 1.1173 - acc: 0.4452\n",
      "Epoch 00009: val_acc improved from 0.38500 to 0.39250, saving model to C:\\OneDrive - Netherlands eScience Center\\Project_ePodium\\trained_models\\CNN_EEG_classifier_avg_03.hdf5\n",
      "1570/1570 [==============================] - 13s 8ms/sample - loss: 1.1172 - acc: 0.4452 - val_loss: 1.3117 - val_acc: 0.3925\n",
      "Epoch 10/50\n",
      "1568/1570 [============================>.] - ETA: 0s - loss: 1.0105 - acc: 0.4892\n",
      "Epoch 00010: val_acc improved from 0.39250 to 0.39500, saving model to C:\\OneDrive - Netherlands eScience Center\\Project_ePodium\\trained_models\\CNN_EEG_classifier_avg_03.hdf5\n",
      "1570/1570 [==============================] - 12s 8ms/sample - loss: 1.0100 - acc: 0.4892 - val_loss: 1.2898 - val_acc: 0.3950\n",
      "Epoch 11/50\n",
      "1568/1570 [============================>.] - ETA: 0s - loss: 0.9689 - acc: 0.5057\n",
      "Epoch 00011: val_acc did not improve from 0.39500\n",
      "1570/1570 [==============================] - 13s 8ms/sample - loss: 0.9691 - acc: 0.5057 - val_loss: 1.4349 - val_acc: 0.3950\n",
      "Epoch 12/50\n",
      "1568/1570 [============================>.] - ETA: 0s - loss: 0.9588 - acc: 0.5038\n",
      "Epoch 00012: val_acc improved from 0.39500 to 0.44250, saving model to C:\\OneDrive - Netherlands eScience Center\\Project_ePodium\\trained_models\\CNN_EEG_classifier_avg_03.hdf5\n",
      "1570/1570 [==============================] - 13s 8ms/sample - loss: 0.9589 - acc: 0.5032 - val_loss: 1.5581 - val_acc: 0.4425\n",
      "Epoch 13/50\n",
      "1568/1570 [============================>.] - ETA: 0s - loss: 0.9124 - acc: 0.5172\n",
      "Epoch 00013: val_acc did not improve from 0.44250\n",
      "1570/1570 [==============================] - 13s 8ms/sample - loss: 0.9117 - acc: 0.5172 - val_loss: 1.3457 - val_acc: 0.3800\n",
      "Epoch 14/50\n",
      "1568/1570 [============================>.] - ETA: 0s - loss: 0.8909 - acc: 0.5274\n",
      "Epoch 00014: val_acc did not improve from 0.44250\n",
      "1570/1570 [==============================] - 13s 8ms/sample - loss: 0.8907 - acc: 0.5280 - val_loss: 1.3348 - val_acc: 0.4000\n",
      "Epoch 15/50\n",
      "1568/1570 [============================>.] - ETA: 0s - loss: 0.8991 - acc: 0.5344\n",
      "Epoch 00015: val_acc did not improve from 0.44250\n",
      "1570/1570 [==============================] - 13s 8ms/sample - loss: 0.8986 - acc: 0.5344 - val_loss: 1.3935 - val_acc: 0.3575\n",
      "Epoch 16/50\n",
      "1568/1570 [============================>.] - ETA: 0s - loss: 0.8464 - acc: 0.5300\n",
      "Epoch 00016: val_acc did not improve from 0.44250\n",
      "1570/1570 [==============================] - 12s 8ms/sample - loss: 0.8472 - acc: 0.5299 - val_loss: 1.4040 - val_acc: 0.3325\n",
      "Epoch 17/50\n",
      "1568/1570 [============================>.] - ETA: 0s - loss: 0.8579 - acc: 0.5491\n",
      "Epoch 00017: val_acc did not improve from 0.44250\n",
      "1570/1570 [==============================] - 13s 8ms/sample - loss: 0.8574 - acc: 0.5497 - val_loss: 1.4090 - val_acc: 0.3900\n",
      "Epoch 00017: early stopping\n"
     ]
    },
    {
     "data": {
      "text/plain": [
       "<tensorflow.python.keras.callbacks.History at 0x21246a4b550>"
      ]
     },
     "execution_count": 88,
     "metadata": {},
     "output_type": "execute_result"
    }
   ],
   "source": [
    "epochs = 50\n",
    "batch_size = 32\n",
    "\n",
    "# fit network\n",
    "model.fit(np.swapaxes(X_train,1,2), \n",
    "          y_train_binary, \n",
    "          validation_data=(np.swapaxes(X_val,1,2), y_val_binary), \n",
    "          epochs=epochs, \n",
    "          batch_size=batch_size,\n",
    "          class_weight = class_weight,\n",
    "          callbacks = [checkpointer, earlystopper])"
   ]
  },
  {
   "cell_type": "markdown",
   "metadata": {},
   "source": [
    "## Seems to overfit on the training data and not be able to predict well the validation data"
   ]
  },
  {
   "cell_type": "code",
   "execution_count": 89,
   "metadata": {},
   "outputs": [],
   "source": [
    "# Evaluate the model\n",
    "_, train_acc = model.evaluate(np.swapaxes(X_train,1,2), y_train_binary, verbose=0)\n",
    "_, test_acc = model.evaluate(np.swapaxes(X_test,1,2), y_test_binary, verbose=0)"
   ]
  },
  {
   "cell_type": "code",
   "execution_count": 90,
   "metadata": {},
   "outputs": [
    {
     "name": "stdout",
     "output_type": "stream",
     "text": [
      "Accuracy on train dataset: 0.61910826\n",
      "Accuracy on test dataset: 0.365\n"
     ]
    }
   ],
   "source": [
    "print(\"Accuracy on train dataset:\", train_acc)\n",
    "print(\"Accuracy on test dataset:\", test_acc)"
   ]
  },
  {
   "cell_type": "code",
   "execution_count": 91,
   "metadata": {},
   "outputs": [],
   "source": [
    "Xtest = np.swapaxes(X_test,1,2)\n",
    "\n",
    "# Check model predictions:\n",
    "y_pred_proba = model.predict_proba(Xtest)\n",
    "y_pred_classes = model.predict_classes(Xtest)"
   ]
  },
  {
   "cell_type": "code",
   "execution_count": 93,
   "metadata": {},
   "outputs": [
    {
     "name": "stdout",
     "output_type": "stream",
     "text": [
      "[0 5 0 1 0 1 3 5 0 1 0 4 0 2 3 1 5 1 2 0]\n",
      "[1 2 2 2 1 1 2 2 0 0 0 1 1 2 5 0 2 0 3 0]\n"
     ]
    }
   ],
   "source": [
    "y_test_05 = np.array(y_test.copy())\n",
    "y_test_05[y_test_05 == 3] = 0\n",
    "y_test_05[y_test_05 == 6] = 1\n",
    "y_test_05[y_test_05 == 13] = 2\n",
    "y_test_05[y_test_05 == 26] = 3\n",
    "y_test_05[y_test_05 == 66] = 4\n",
    "y_test_05[y_test_05 == 132] = 5\n",
    "\n",
    "print(y_test_05[:20].astype(int))\n",
    "print(y_pred_classes[:20])"
   ]
  },
  {
   "cell_type": "code",
   "execution_count": 94,
   "metadata": {},
   "outputs": [
    {
     "name": "stdout",
     "output_type": "stream",
     "text": [
      "0.365\n"
     ]
    }
   ],
   "source": [
    "# Calculate accuracy\n",
    "from sklearn import metrics\n",
    "print(metrics.accuracy_score(y_test_05, y_pred_classes))"
   ]
  },
  {
   "cell_type": "markdown",
   "metadata": {},
   "source": [
    "## Check if groups are predicted correctly:"
   ]
  },
  {
   "cell_type": "code",
   "execution_count": 98,
   "metadata": {},
   "outputs": [
    {
     "name": "stdout",
     "output_type": "stream",
     "text": [
      "[1 2 1 2 1 2 2 2 1 2 1 1 1 1 2 2 2 2 1 1 1 2 1 1 2 1 2 1 2 1]\n",
      "[2 1 1 1 2 2 1 1 1 1 1 2 2 1 2 1 1 1 2 1 1 1 2 1 1 2 1 2 1 1]\n"
     ]
    }
   ],
   "source": [
    "y_test_12 = np.array(y_test.copy())\n",
    "y_test_12[y_test_12 == 132] = 2\n",
    "y_test_12[y_test_12 == 66] = 1\n",
    "y_test_12[y_test_12 == 26] = 2\n",
    "y_test_12[y_test_12 == 13] = 1\n",
    "y_test_12[y_test_12 == 6] = 2\n",
    "y_test_12[y_test_12 == 3] = 1\n",
    "\n",
    "y_pred_12 = y_pred_classes.copy()\n",
    "y_pred_12[(y_pred_12 == 4) | (y_pred_12 == 2) | (y_pred_12 == 0)] = 6\n",
    "y_pred_12[(y_pred_12 == 5) | (y_pred_12 == 3) | (y_pred_12 == 1)] = 2\n",
    "y_pred_12[y_pred_12 == 6] = 1\n",
    "\n",
    "print(y_test_12[:30].astype(int))\n",
    "print(y_pred_12[:30])"
   ]
  },
  {
   "cell_type": "code",
   "execution_count": 99,
   "metadata": {},
   "outputs": [
    {
     "data": {
      "text/plain": [
       "0.4875"
      ]
     },
     "execution_count": 99,
     "metadata": {},
     "output_type": "execute_result"
    }
   ],
   "source": [
    "np.sum(y_test_12 == y_pred_12)/ y_pred_12.shape[0]"
   ]
  },
  {
   "cell_type": "code",
   "execution_count": 109,
   "metadata": {},
   "outputs": [
    {
     "name": "stdout",
     "output_type": "stream",
     "text": [
      "Normalized confusion matrix\n",
      "[[0.58080808 0.41919192]\n",
      " [0.6039604  0.3960396 ]]\n"
     ]
    },
    {
     "data": {
      "image/png": "[encoded data removed]",
      "text/plain": [
       "<Figure size 432x288 with 2 Axes>"
      ]
     },
     "metadata": {
      "needs_background": "light"
     },
     "output_type": "display_data"
    }
   ],
   "source": [
    "# Plot normalized confusion matrix\n",
    "labels = list(label_transform.classes_)\n",
    "\n",
    "plot_confusion_matrix(y_test_12, y_pred_12, classes=['risk', 'non-risk'], normalize=True,\n",
    "                      title='Normalized confusion matrix')\n",
    "\n",
    "plt.savefig('confusion_matrix12.pdf')"
   ]
  },
  {
   "cell_type": "markdown",
   "metadata": {},
   "source": [
    "## Note:\n",
    "Groups are not correctly predicted. It's not better than trowing dices..."
   ]
  },
  {
   "cell_type": "markdown",
   "metadata": {},
   "source": [
    "## Check if stimuli types are predicted correctly:"
   ]
  },
  {
   "cell_type": "code",
   "execution_count": 102,
   "metadata": {},
   "outputs": [
    {
     "name": "stdout",
     "output_type": "stream",
     "text": [
      "[1 3 1 1 1 1 2 3 1 1 1 3 1 2 2 1 3 1 2 1 2 1 2 1 2 1 2 2 2 3]\n",
      "[1 2 2 2 1 1 2 2 1 1 1 1 1 2 3 1 2 1 2 1 3 1 2 1 3 1 2 2 3 2]\n"
     ]
    }
   ],
   "source": [
    "y_test_123 = np.array(y_test.copy())\n",
    "y_test_123[y_test_123 == 6] = 1\n",
    "y_test_123[y_test_123 == 3] = 1\n",
    "y_test_123[y_test_123 == 26] = 2\n",
    "y_test_123[y_test_123 == 13] = 2\n",
    "y_test_123[y_test_123 == 132] = 3\n",
    "y_test_123[y_test_123 == 66] = 3\n",
    "\n",
    "y_pred_123 = y_pred_classes.copy()\n",
    "y_pred_123[(y_pred_123 == 1) | (y_pred_123 == 0)] = 1\n",
    "y_pred_123[(y_pred_123 == 3) | (y_pred_123 == 2)] = 2\n",
    "y_pred_123[(y_pred_123 == 5) | (y_pred_123 == 4)] = 3\n",
    "\n",
    "print(y_test_123[:30].astype(int))\n",
    "print(y_pred_123[:30])"
   ]
  },
  {
   "cell_type": "code",
   "execution_count": 103,
   "metadata": {},
   "outputs": [
    {
     "data": {
      "text/plain": [
       "0.7475"
      ]
     },
     "execution_count": 103,
     "metadata": {},
     "output_type": "execute_result"
    }
   ],
   "source": [
    "np.sum(y_test_123 == y_pred_123)/ y_pred_123.shape[0]"
   ]
  },
  {
   "cell_type": "code",
   "execution_count": 110,
   "metadata": {},
   "outputs": [
    {
     "name": "stdout",
     "output_type": "stream",
     "text": [
      "Normalized confusion matrix\n",
      "[[0.90954774 0.07035176 0.0201005 ]\n",
      " [0.05940594 0.68316832 0.25742574]\n",
      " [0.13       0.38       0.49      ]]\n"
     ]
    },
    {
     "data": {
      "image/png": "[encoded data removed]",
      "text/plain": [
       "<Figure size 432x288 with 2 Axes>"
      ]
     },
     "metadata": {
      "needs_background": "light"
     },
     "output_type": "display_data"
    }
   ],
   "source": [
    "# Plot normalized confusion matrix\n",
    "labels = list(label_transform.classes_)\n",
    "\n",
    "plot_confusion_matrix(y_test_123, y_pred_123, classes=['standard', 'deviant 1', 'deviant 2'], normalize=True,\n",
    "                      title='Normalized confusion matrix')\n",
    "\n",
    "plt.savefig('confusion_matrix123.pdf')"
   ]
  },
  {
   "cell_type": "markdown",
   "metadata": {},
   "source": [
    "## Observation:\n",
    "So far this is not working as a proper discriminator between group1 and group2!  \n",
    "The test dataset contains about equal amounts of data from both groups, and the model does do better than random guessing (50% hits)."
   ]
  },
  {
   "cell_type": "code",
   "execution_count": 100,
   "metadata": {},
   "outputs": [
    {
     "data": {
      "text/plain": [
       "array([[47, 45,  2,  3,  1,  0],\n",
       "       [44, 45,  5,  4,  3,  0],\n",
       "       [ 0,  0, 25, 13, 14,  0],\n",
       "       [ 3,  3, 20, 11,  8,  4],\n",
       "       [ 0,  3, 11,  7, 15, 12],\n",
       "       [ 3,  7, 17,  3, 19,  3]], dtype=int64)"
      ]
     },
     "execution_count": 100,
     "metadata": {},
     "output_type": "execute_result"
    }
   ],
   "source": [
    "# Confusion matrix:\n",
    "M_confusion = metrics.confusion_matrix(y_test_05, y_pred_classes)\n",
    "M_confusion"
   ]
  },
  {
   "cell_type": "code",
   "execution_count": 101,
   "metadata": {},
   "outputs": [
    {
     "name": "stdout",
     "output_type": "stream",
     "text": [
      "Normalized confusion matrix\n",
      "[[0.47959184 0.45918367 0.02040816 0.03061224 0.01020408 0.        ]\n",
      " [0.43564356 0.44554455 0.04950495 0.03960396 0.02970297 0.        ]\n",
      " [0.         0.         0.48076923 0.25       0.26923077 0.        ]\n",
      " [0.06122449 0.06122449 0.40816327 0.2244898  0.16326531 0.08163265]\n",
      " [0.         0.0625     0.22916667 0.14583333 0.3125     0.25      ]\n",
      " [0.05769231 0.13461538 0.32692308 0.05769231 0.36538462 0.05769231]]\n"
     ]
    },
    {
     "data": {
      "image/png": "[encoded data removed]",
      "text/plain": [
       "<Figure size 432x288 with 2 Axes>"
      ]
     },
     "metadata": {
      "needs_background": "light"
     },
     "output_type": "display_data"
    }
   ],
   "source": [
    "# Plot normalized confusion matrix\n",
    "labels = list(label_transform.classes_)\n",
    "\n",
    "plot_confusion_matrix(y_test_05, y_pred_classes, classes=labels, normalize=True,\n",
    "                      title='Normalized confusion matrix')\n",
    "\n",
    "plt.savefig('confusion_matrix2.pdf')"
   ]
  },
  {
   "cell_type": "markdown",
   "metadata": {},
   "source": [
    "# 3. Train on only stimuli labels (not including patient groups)"
   ]
  },
  {
   "cell_type": "code",
   "execution_count": 143,
   "metadata": {},
   "outputs": [],
   "source": [
    "old_label = [3,6,13,26,66,132]\n",
    "new_label = [3,3,13,13,66,66]\n",
    "\n",
    "y_train_123 = np.zeros((len(y_train)))\n",
    "for i, old in enumerate(old_label):\n",
    "    y_train_123[np.where(np.array(y_train) == old)[0]] = new_label[i]\n",
    "\n",
    "y_val_123 = np.zeros((len(y_val)))\n",
    "for i, old in enumerate(old_label):\n",
    "    y_val_123[np.where(np.array(y_val) == old)[0]] = new_label[i]\n",
    "    \n",
    "y_test_123 = np.zeros((len(y_test)))\n",
    "for i, old in enumerate(old_label):\n",
    "    y_test_123[np.where(np.array(y_test) == old)[0]] = new_label[i]"
   ]
  },
  {
   "cell_type": "code",
   "execution_count": 144,
   "metadata": {},
   "outputs": [],
   "source": [
    "label_transform = LabelBinarizer()\n",
    "\n",
    "y_train123_binary = label_transform.fit_transform(np.array(y_train_123).astype(int))\n",
    "y_val123_binary = label_transform.fit_transform(np.array(y_val_123).astype(int))\n",
    "y_test123_binary = label_transform.fit_transform(np.array(y_test_123).astype(int))"
   ]
  },
  {
   "cell_type": "code",
   "execution_count": 117,
   "metadata": {},
   "outputs": [],
   "source": [
    "from tensorflow.keras.callbacks import ModelCheckpoint, EarlyStopping\n",
    "output_file = 'CNN_EEG_classifier_avg_123'\n",
    "\n",
    "checkpointer = ModelCheckpoint(filepath = PATH_MODELS + output_file + \".hdf5\", monitor='val_acc', verbose=1, save_best_only=True)\n",
    "earlystopper = EarlyStopping(monitor='val_acc', patience=5, verbose=1)"
   ]
  },
  {
   "cell_type": "code",
   "execution_count": 118,
   "metadata": {},
   "outputs": [],
   "source": [
    "# Simple CNN model\n",
    "n_timesteps = 501\n",
    "n_features = 30\n",
    "n_outputs = 3\n",
    "\n",
    "model = tf.keras.Sequential()\n",
    "model.add(layers.Conv1D(filters=32, kernel_size=20, input_shape=(n_timesteps,n_features)))\n",
    "model.add(layers.BatchNormalization())\n",
    "model.add(layers.LeakyReLU())\n",
    "\n",
    "model.add(layers.Conv1D(filters=64, kernel_size=10)) #, activation='relu'))\n",
    "model.add(layers.BatchNormalization())\n",
    "model.add(layers.LeakyReLU())\n",
    "\n",
    "model.add(layers.Conv1D(filters=32, kernel_size=5)) #, activation='relu'))\n",
    "model.add(layers.BatchNormalization())\n",
    "model.add(layers.LeakyReLU())\n",
    "model.add(layers.AveragePooling1D(pool_size=4))\n",
    "\n",
    "model.add(layers.Flatten())\n",
    "model.add(layers.Dense(100, activation='relu'))\n",
    "model.add(layers.Dropout(0.5))\n",
    "model.add(layers.Dense(n_outputs, activation='softmax'))\n",
    "model.compile(loss='categorical_crossentropy', optimizer='adadelta', metrics=['accuracy'])"
   ]
  },
  {
   "cell_type": "code",
   "execution_count": 119,
   "metadata": {},
   "outputs": [
    {
     "name": "stdout",
     "output_type": "stream",
     "text": [
      "_________________________________________________________________\n",
      "Layer (type)                 Output Shape              Param #   \n",
      "=================================================================\n",
      "conv1d_6 (Conv1D)            (None, 482, 32)           19232     \n",
      "_________________________________________________________________\n",
      "batch_normalization_v1_6 (Ba (None, 482, 32)           128       \n",
      "_________________________________________________________________\n",
      "leaky_re_lu_6 (LeakyReLU)    (None, 482, 32)           0         \n",
      "_________________________________________________________________\n",
      "conv1d_7 (Conv1D)            (None, 473, 64)           20544     \n",
      "_________________________________________________________________\n",
      "batch_normalization_v1_7 (Ba (None, 473, 64)           256       \n",
      "_________________________________________________________________\n",
      "leaky_re_lu_7 (LeakyReLU)    (None, 473, 64)           0         \n",
      "_________________________________________________________________\n",
      "conv1d_8 (Conv1D)            (None, 469, 32)           10272     \n",
      "_________________________________________________________________\n",
      "batch_normalization_v1_8 (Ba (None, 469, 32)           128       \n",
      "_________________________________________________________________\n",
      "leaky_re_lu_8 (LeakyReLU)    (None, 469, 32)           0         \n",
      "_________________________________________________________________\n",
      "average_pooling1d_4 (Average (None, 117, 32)           0         \n",
      "_________________________________________________________________\n",
      "flatten_2 (Flatten)          (None, 3744)              0         \n",
      "_________________________________________________________________\n",
      "dense_4 (Dense)              (None, 100)               374500    \n",
      "_________________________________________________________________\n",
      "dropout_2 (Dropout)          (None, 100)               0         \n",
      "_________________________________________________________________\n",
      "dense_5 (Dense)              (None, 3)                 303       \n",
      "=================================================================\n",
      "Total params: 425,363\n",
      "Trainable params: 425,107\n",
      "Non-trainable params: 256\n",
      "_________________________________________________________________\n"
     ]
    }
   ],
   "source": [
    "model.summary()"
   ]
  },
  {
   "cell_type": "code",
   "execution_count": 146,
   "metadata": {},
   "outputs": [
    {
     "data": {
      "text/plain": [
       "array([[0, 1, 0],\n",
       "       [0, 0, 1],\n",
       "       [0, 1, 0],\n",
       "       [1, 0, 0],\n",
       "       [1, 0, 0],\n",
       "       [0, 1, 0],\n",
       "       [0, 1, 0],\n",
       "       [1, 0, 0],\n",
       "       [1, 0, 0],\n",
       "       [1, 0, 0]])"
      ]
     },
     "execution_count": 146,
     "metadata": {},
     "output_type": "execute_result"
    }
   ],
   "source": [
    "y_train123_binary[:10,:]"
   ]
  },
  {
   "cell_type": "code",
   "execution_count": null,
   "metadata": {},
   "outputs": [],
   "source": []
  },
  {
   "cell_type": "code",
   "execution_count": 135,
   "metadata": {},
   "outputs": [
    {
     "name": "stdout",
     "output_type": "stream",
     "text": [
      "Train on 1570 samples, validate on 400 samples\n",
      "Epoch 1/50\n",
      "1568/1570 [============================>.] - ETA: 0s - loss: 0.7090 - acc: 0.7022\n",
      "Epoch 00001: val_acc improved from -inf to 0.66250, saving model to C:\\OneDrive - Netherlands eScience Center\\Project_ePodium\\trained_models\\CNN_EEG_classifier_avg_123.hdf5\n",
      "1570/1570 [==============================] - 15s 9ms/sample - loss: 0.7082 - acc: 0.7025 - val_loss: 0.8976 - val_acc: 0.6625\n",
      "Epoch 2/50\n",
      "1568/1570 [============================>.] - ETA: 0s - loss: 0.3524 - acc: 0.8202\n",
      "Epoch 00002: val_acc did not improve from 0.66250\n",
      "1570/1570 [==============================] - 10s 6ms/sample - loss: 0.3524 - acc: 0.8204 - val_loss: 0.9801 - val_acc: 0.4700\n",
      "Epoch 3/50\n",
      "1568/1570 [============================>.] - ETA: 0s - loss: 0.2842 - acc: 0.8610\n",
      "Epoch 00003: val_acc did not improve from 0.66250\n",
      "1570/1570 [==============================] - 11s 7ms/sample - loss: 0.2840 - acc: 0.8611 - val_loss: 0.7242 - val_acc: 0.6550\n",
      "Epoch 4/50\n",
      "1568/1570 [============================>.] - ETA: 0s - loss: 0.2333 - acc: 0.8890\n",
      "Epoch 00004: val_acc improved from 0.66250 to 0.70750, saving model to C:\\OneDrive - Netherlands eScience Center\\Project_ePodium\\trained_models\\CNN_EEG_classifier_avg_123.hdf5\n",
      "1570/1570 [==============================] - 11s 7ms/sample - loss: 0.2331 - acc: 0.8892 - val_loss: 0.7299 - val_acc: 0.7075\n",
      "Epoch 5/50\n",
      "1568/1570 [============================>.] - ETA: 0s - loss: 0.2046 - acc: 0.8941\n",
      "Epoch 00005: val_acc improved from 0.70750 to 0.75000, saving model to C:\\OneDrive - Netherlands eScience Center\\Project_ePodium\\trained_models\\CNN_EEG_classifier_avg_123.hdf5\n",
      "1570/1570 [==============================] - 11s 7ms/sample - loss: 0.2055 - acc: 0.8936 - val_loss: 0.7212 - val_acc: 0.7500\n",
      "Epoch 6/50\n",
      "1568/1570 [============================>.] - ETA: 0s - loss: 0.1812 - acc: 0.9158\n",
      "Epoch 00006: val_acc improved from 0.75000 to 0.78250, saving model to C:\\OneDrive - Netherlands eScience Center\\Project_ePodium\\trained_models\\CNN_EEG_classifier_avg_123.hdf5\n",
      "1570/1570 [==============================] - 12s 7ms/sample - loss: 0.1811 - acc: 0.9159 - val_loss: 0.6441 - val_acc: 0.7825\n",
      "Epoch 7/50\n",
      "1568/1570 [============================>.] - ETA: 0s - loss: 0.1666 - acc: 0.9184\n",
      "Epoch 00007: val_acc did not improve from 0.78250\n",
      "1570/1570 [==============================] - 12s 8ms/sample - loss: 0.1667 - acc: 0.9178 - val_loss: 0.8346 - val_acc: 0.7700\n",
      "Epoch 8/50\n",
      "1568/1570 [============================>.] - ETA: 0s - loss: 0.1526 - acc: 0.9235\n",
      "Epoch 00008: val_acc improved from 0.78250 to 0.79000, saving model to C:\\OneDrive - Netherlands eScience Center\\Project_ePodium\\trained_models\\CNN_EEG_classifier_avg_123.hdf5\n",
      "1570/1570 [==============================] - 12s 8ms/sample - loss: 0.1524 - acc: 0.9236 - val_loss: 0.7880 - val_acc: 0.7900\n",
      "Epoch 9/50\n",
      "1568/1570 [============================>.] - ETA: 0s - loss: 0.1368 - acc: 0.9349\n",
      "Epoch 00009: val_acc improved from 0.79000 to 0.81250, saving model to C:\\OneDrive - Netherlands eScience Center\\Project_ePodium\\trained_models\\CNN_EEG_classifier_avg_123.hdf5\n",
      "1570/1570 [==============================] - 12s 8ms/sample - loss: 0.1366 - acc: 0.9350 - val_loss: 0.9044 - val_acc: 0.8125\n",
      "Epoch 10/50\n",
      "1568/1570 [============================>.] - ETA: 0s - loss: 0.1257 - acc: 0.9445\n",
      "Epoch 00010: val_acc did not improve from 0.81250\n",
      "1570/1570 [==============================] - 12s 8ms/sample - loss: 0.1256 - acc: 0.9446 - val_loss: 1.3302 - val_acc: 0.7600\n",
      "Epoch 11/50\n",
      "1568/1570 [============================>.] - ETA: 0s - loss: 0.1336 - acc: 0.9369\n",
      "Epoch 00011: val_acc did not improve from 0.81250\n",
      "1570/1570 [==============================] - 12s 8ms/sample - loss: 0.1334 - acc: 0.9369 - val_loss: 1.1152 - val_acc: 0.8050\n",
      "Epoch 12/50\n",
      "1568/1570 [============================>.] - ETA: 0s - loss: 0.0966 - acc: 0.9547\n",
      "Epoch 00012: val_acc did not improve from 0.81250\n",
      "1570/1570 [==============================] - 12s 8ms/sample - loss: 0.0969 - acc: 0.9541 - val_loss: 1.1139 - val_acc: 0.7700\n",
      "Epoch 13/50\n",
      "1568/1570 [============================>.] - ETA: 0s - loss: 0.0927 - acc: 0.9554\n",
      "Epoch 00013: val_acc did not improve from 0.81250\n",
      "1570/1570 [==============================] - 12s 8ms/sample - loss: 0.0926 - acc: 0.9554 - val_loss: 1.2825 - val_acc: 0.7750\n",
      "Epoch 14/50\n",
      "1568/1570 [============================>.] - ETA: 0s - loss: 0.0997 - acc: 0.9534\n",
      "Epoch 00014: val_acc did not improve from 0.81250\n",
      "1570/1570 [==============================] - 12s 8ms/sample - loss: 0.0996 - acc: 0.9535 - val_loss: 1.3904 - val_acc: 0.7925\n",
      "Epoch 00014: early stopping\n"
     ]
    },
    {
     "data": {
      "text/plain": [
       "<tensorflow.python.keras.callbacks.History at 0x212626c5198>"
      ]
     },
     "execution_count": 135,
     "metadata": {},
     "output_type": "execute_result"
    }
   ],
   "source": [
    "epochs = 50\n",
    "batch_size = 32\n",
    "\n",
    "# Fit network\n",
    "model.fit(np.swapaxes(X_train,1,2), \n",
    "          y_train123_binary, \n",
    "          validation_data=(np.swapaxes(X_val,1,2), y_val123_binary), \n",
    "          epochs=epochs, \n",
    "          batch_size=batch_size,\n",
    "          class_weight = class_weight,\n",
    "          callbacks = [checkpointer, earlystopper])"
   ]
  },
  {
   "cell_type": "code",
   "execution_count": 151,
   "metadata": {},
   "outputs": [],
   "source": [
    "# Check model predictions:\n",
    "y_pred_123 = model.predict_classes(Xtest)"
   ]
  },
  {
   "cell_type": "code",
   "execution_count": 152,
   "metadata": {},
   "outputs": [],
   "source": [
    "y_pred_123 = y_pred_123.copy()\n",
    "y_pred_123[y_pred_123 == 2] = 66\n",
    "y_pred_123[y_pred_123 == 1] = 13\n",
    "y_pred_123[y_pred_123 == 0] = 3"
   ]
  },
  {
   "cell_type": "code",
   "execution_count": 150,
   "metadata": {},
   "outputs": [
    {
     "data": {
      "text/plain": [
       "array([ 3., 66.,  3.,  3.,  3.,  3., 13., 66.,  3.,  3.,  3., 66.,  3.,\n",
       "       13., 13.,  3., 66.,  3., 13.,  3.])"
      ]
     },
     "execution_count": 150,
     "metadata": {},
     "output_type": "execute_result"
    }
   ],
   "source": [
    "y_test_123[:20]"
   ]
  },
  {
   "cell_type": "code",
   "execution_count": 153,
   "metadata": {},
   "outputs": [
    {
     "name": "stdout",
     "output_type": "stream",
     "text": [
      "Normalized confusion matrix\n",
      "[[0.95979899 0.0201005  0.0201005 ]\n",
      " [0.07920792 0.68316832 0.23762376]\n",
      " [0.1        0.38       0.52      ]]\n"
     ]
    },
    {
     "data": {
      "image/png": "[encoded data removed]",
      "text/plain": [
       "<Figure size 432x288 with 2 Axes>"
      ]
     },
     "metadata": {
      "needs_background": "light"
     },
     "output_type": "display_data"
    }
   ],
   "source": [
    "# Plot normalized confusion matrix\n",
    "plot_confusion_matrix(y_test_123, y_pred_123, classes=['standard', 'deviant 1', 'deviant 2'], normalize=True,\n",
    "                      title='Normalized confusion matrix')\n",
    "\n",
    "plt.savefig('confusion_matrix123_training123.pdf')"
   ]
  }
 ],
 "metadata": {
  "kernelspec": {
   "display_name": "Python 3",
   "language": "python",
   "name": "python3"
  },
  "language_info": {
   "codemirror_mode": {
    "name": "ipython",
    "version": 3
   },
   "file_extension": ".py",
   "mimetype": "text/x-python",
   "name": "python",
   "nbconvert_exporter": "python",
   "pygments_lexer": "ipython3",
   "version": "3.6.8"
  }
 },
 "nbformat": 4,
 "nbformat_minor": 2
}
