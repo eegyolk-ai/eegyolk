{
 "cells": [
  {
   "cell_type": "markdown",
   "metadata": {},
   "source": [
    "# Try out CNN on averaged EEG data\n",
    "\n",
    "## Pre-processing\n",
    "+ Import data.\n",
    "+ Apply filters (bandpass).\n",
    "+ Detect potential bad channels and replace them by interpolation.\n",
    "+ Detect potential bad epochs and remove them.\n",
    "+ Average over a number of randomly drawn epochs (of same person and same stimuli).\n",
    "\n",
    "## Train CNN network\n",
    "+ Define network architecture\n",
    "+ Split data\n",
    "+ Train model\n"
   ]
  },
  {
   "cell_type": "markdown",
   "metadata": {},
   "source": [
    "## Import packages & links"
   ]
  },
  {
   "cell_type": "code",
   "execution_count": 1,
   "metadata": {},
   "outputs": [],
   "source": [
    "# Import packages\n",
    "import os\n",
    "import sys\n",
    "import csv\n",
    "import fnmatch\n",
    "import numpy as np\n",
    "import pandas as pd\n",
    "import matplotlib.pyplot as plt\n",
    "sys.path.insert(0, os.path.dirname(os.getcwd()))\n",
    "\n",
    "from config import ROOT, PATH_CODE, PATH_DATA, PATH_OUTPUT, PATH_METADATA\n",
    "\n",
    "import mne\n",
    "#%matplotlib inline\n",
    "#from mayavi import mlab"
   ]
  },
  {
   "cell_type": "markdown",
   "metadata": {},
   "source": [
    "### Define data folder"
   ]
  },
  {
   "cell_type": "code",
   "execution_count": 3,
   "metadata": {},
   "outputs": [],
   "source": [
    "PATH_CNTS = os.path.join(PATH_DATA, \"41mnd mmn\")\n",
    "PATH_DATA_processed = os.path.join(PATH_DATA, 'processed_data_41mnd')"
   ]
  },
  {
   "cell_type": "markdown",
   "metadata": {},
   "source": [
    "## Load pre-processed dataset\n",
    "+ See notebook for preprocessing: ePODIUM_prepare_data_for_ML.ipynb.ipynb"
   ]
  },
  {
   "cell_type": "code",
   "execution_count": 4,
   "metadata": {},
   "outputs": [],
   "source": [
    "dirs = os.listdir(PATH_DATA_processed)\n",
    "files_npy = fnmatch.filter(dirs, \"*.npy\")\n",
    "files_csv = fnmatch.filter(dirs, \"*.csv\")"
   ]
  },
  {
   "cell_type": "code",
   "execution_count": 5,
   "metadata": {},
   "outputs": [
    {
     "data": {
      "text/plain": [
       "(256, 256)"
      ]
     },
     "execution_count": 5,
     "metadata": {},
     "output_type": "execute_result"
    }
   ],
   "source": [
    "len(files_csv), len(files_npy)"
   ]
  },
  {
   "cell_type": "markdown",
   "metadata": {},
   "source": [
    "### Count the (main) labels for all present files"
   ]
  },
  {
   "cell_type": "code",
   "execution_count": 6,
   "metadata": {},
   "outputs": [],
   "source": [
    "def read_labels(filename, PATH):\n",
    "    metadata = []\n",
    "    filename = os.path.join(PATH, filename)\n",
    "    with open(filename, 'r') as readFile:\n",
    "        reader = csv.reader(readFile, delimiter=',')\n",
    "        for row in reader:\n",
    "            #if len(row) > 0:\n",
    "            metadata.append(row)\n",
    "    readFile.close()\n",
    "    \n",
    "    return metadata[0]"
   ]
  },
  {
   "cell_type": "code",
   "execution_count": 7,
   "metadata": {},
   "outputs": [],
   "source": [
    "label_collection = []\n",
    "label_counts = []\n",
    "\n",
    "for filename in files_csv:\n",
    "    y_EEG = read_labels(filename, PATH_DATA_processed)\n",
    "    labels_unique = list(set(y_EEG))\n",
    "    label_collection.append(labels_unique)\n",
    "    \n",
    "    # Count instances for each unique label\n",
    "    label_count = []\n",
    "    for label in labels_unique:\n",
    "        idx = np.where(np.array(y_EEG) == label)[0]\n",
    "        label_count.append(len(idx))\n",
    "    label_counts.append(label_count)"
   ]
  },
  {
   "cell_type": "code",
   "execution_count": 184,
   "metadata": {},
   "outputs": [
    {
     "data": {
      "text/plain": [
       "([[94, 763, 94],\n",
       "  [99, 786, 99],\n",
       "  [87, 687, 88],\n",
       "  [75, 653, 77],\n",
       "  [89, 707, 83],\n",
       "  [138, 554],\n",
       "  [145, 582],\n",
       "  [149, 599],\n",
       "  [149, 592],\n",
       "  [48, 196]],\n",
       " 256)"
      ]
     },
     "execution_count": 184,
     "metadata": {},
     "output_type": "execute_result"
    }
   ],
   "source": [
    "label_counts[:10], len(label_collection)"
   ]
  },
  {
   "cell_type": "code",
   "execution_count": 8,
   "metadata": {},
   "outputs": [],
   "source": [
    "def transform_label(label,\n",
    "                   label_dict,\n",
    "                   main_label_dict = None):\n",
    "    if label in label_dict:\n",
    "        label_new = label_dict[label]\n",
    "    else:\n",
    "        label_new = None\n",
    "    \n",
    "    if main_label_dict is not None:\n",
    "        if label in main_label_dict:\n",
    "            main_label = main_label_dict[label]\n",
    "        else:\n",
    "            main_label = None\n",
    "        return label_new, main_label\n",
    "    \n",
    "    else:\n",
    "        return label_new\n",
    "    "
   ]
  },
  {
   "cell_type": "markdown",
   "metadata": {},
   "source": [
    "### Define new labels"
   ]
  },
  {
   "cell_type": "code",
   "execution_count": 57,
   "metadata": {},
   "outputs": [
    {
     "data": {
      "text/plain": [
       "\"\\nmain_label_dict  = {\\n    '3dys0_risk0': '0',\\n    '13dys0_risk0': '0',\\n    '66dys0_risk0': '0',\\n    '3dys0_risk1': '1',\\n    '13dys0_risk1': '1',\\n    '66dys0_risk1': '1',\\n    '3dys1_risk0': '0',\\n    '13dys1_risk0': '0',\\n    '66dys1_risk0': '0',\\n    '3dys1_risk1': '1',\\n    '13dys1_risk1': '1',\\n    '66dys1_risk1': '1',\\n}\\n\""
      ]
     },
     "execution_count": 57,
     "metadata": {},
     "output_type": "execute_result"
    }
   ],
   "source": [
    "label_dict  = {\n",
    "    '3dys0_risk0': '0',\n",
    "    '13dys0_risk0': '1',\n",
    "    '66dys0_risk0': '2',\n",
    "    '3dys0_risk1': '0',\n",
    "    '13dys0_risk1': '1',\n",
    "    '66dys0_risk1': '2',\n",
    "    '3dys1_risk0': '3',\n",
    "    '13dys1_risk0': '4',\n",
    "    '66dys1_risk0': '5',\n",
    "    '3dys1_risk1': '3',\n",
    "    '13dys1_risk1': '4',\n",
    "    '66dys1_risk1': '5',\n",
    "}\n",
    "\n",
    "\n",
    "main_label_dict  = {\n",
    "    '3dys0_risk0': '0',\n",
    "    '13dys0_risk0': '0',\n",
    "    '66dys0_risk0': '0',\n",
    "    '3dys0_risk1': '0',\n",
    "    '13dys0_risk1': '0',\n",
    "    '66dys0_risk1': '0',\n",
    "    '3dys1_risk0': '1',\n",
    "    '13dys1_risk0': '1',\n",
    "    '66dys1_risk0': '1',\n",
    "    '3dys1_risk1': '1',\n",
    "    '13dys1_risk1': '1',\n",
    "    '66dys1_risk1': '1',\n",
    "}\n",
    "\"\"\"\n",
    "main_label_dict  = {\n",
    "    '3dys0_risk0': '0',\n",
    "    '13dys0_risk0': '0',\n",
    "    '66dys0_risk0': '0',\n",
    "    '3dys0_risk1': '1',\n",
    "    '13dys0_risk1': '1',\n",
    "    '66dys0_risk1': '1',\n",
    "    '3dys1_risk0': '0',\n",
    "    '13dys1_risk0': '0',\n",
    "    '66dys1_risk0': '0',\n",
    "    '3dys1_risk1': '1',\n",
    "    '13dys1_risk1': '1',\n",
    "    '66dys1_risk1': '1',\n",
    "}\n",
    "\"\"\""
   ]
  },
  {
   "cell_type": "markdown",
   "metadata": {},
   "source": [
    "### Collect main labels (here: dyslexic 0 | 1)"
   ]
  },
  {
   "cell_type": "code",
   "execution_count": 163,
   "metadata": {},
   "outputs": [
    {
     "data": {
      "text/plain": [
       "256"
      ]
     },
     "execution_count": 163,
     "metadata": {},
     "output_type": "execute_result"
    }
   ],
   "source": [
    "main_labels = [transform_label(x[0], label_dict, main_label_dict)[1] for x in label_collection]\n",
    "len(main_labels)"
   ]
  },
  {
   "cell_type": "code",
   "execution_count": 164,
   "metadata": {},
   "outputs": [
    {
     "name": "stdout",
     "output_type": "stream",
     "text": [
      "Found datapoints for label 0 ---> 90\n",
      "Found datapoints for label 1 ---> 166\n"
     ]
    }
   ],
   "source": [
    "for label in list(set(main_labels)):\n",
    "    print(\"Found datapoints for label\", label, \"--->\", main_labels.count(label))"
   ]
  },
  {
   "cell_type": "markdown",
   "metadata": {},
   "source": [
    "## Import and initiate data generator function"
   ]
  },
  {
   "cell_type": "code",
   "execution_count": 14,
   "metadata": {},
   "outputs": [],
   "source": [
    "from dataset_generator import DataGenerator"
   ]
  },
  {
   "cell_type": "code",
   "execution_count": 15,
   "metadata": {},
   "outputs": [
    {
     "data": {
      "text/plain": [
       "['processed_data_003_41_jc_mmn36_wk.csv',\n",
       " 'processed_data_005_41_jc_mmn36_mixed.csv',\n",
       " 'processed_data_007_41_jc_mmn36_wk.csv',\n",
       " 'processed_data_008_41_jc_mmn36_wk.csv',\n",
       " 'processed_data_009_41_jc_mmn36_slp.csv']"
      ]
     },
     "execution_count": 15,
     "metadata": {},
     "output_type": "execute_result"
    }
   ],
   "source": [
    "files_csv[:5]"
   ]
  },
  {
   "cell_type": "markdown",
   "metadata": {},
   "source": [
    "### Split data set"
   ]
  },
  {
   "cell_type": "code",
   "execution_count": 165,
   "metadata": {},
   "outputs": [
    {
     "name": "stdout",
     "output_type": "stream",
     "text": [
      "Found 90 datapoints for label 0\n",
      "Split dataset for label 0 into train/val/test fractions: 62 13 15\n",
      "Found 166 datapoints for label 1\n",
      "Split dataset for label 1 into train/val/test fractions: 116 24 26\n"
     ]
    }
   ],
   "source": [
    "np.random.seed(1098)\n",
    "split_ratio = (0.7, 0.15, 0.15)\n",
    "\n",
    "IDs_train = []\n",
    "IDs_val = []\n",
    "IDs_test = []\n",
    "\n",
    "for label in list(set(main_labels)):\n",
    "    idx = np.where(np.array(main_labels) == label)[0]\n",
    "    N_label = len(idx)\n",
    "    print(\"Found\", N_label, \"datapoints for label\", label)\n",
    "    \n",
    "    N_train = int(split_ratio[0] * N_label)\n",
    "    N_val = int(split_ratio[1] * N_label)\n",
    "    N_test = N_label - N_train - N_val\n",
    "    print(\"Split dataset for label\", label, \"into train/val/test fractions:\", N_train, N_val, N_test)\n",
    "    \n",
    "    # Select training, validation, and test IDs:\n",
    "    trainIDs = np.random.choice(idx, N_train, replace=False)\n",
    "    valIDs = np.random.choice(list(set(idx) - set(trainIDs)), N_val, replace=False)\n",
    "    testIDs = list(set(idx) - set(trainIDs) - set(valIDs))\n",
    "    \n",
    "    IDs_train.extend(list(trainIDs))\n",
    "    IDs_val.extend(list(valIDs))\n",
    "    IDs_test.extend(list(testIDs))"
   ]
  },
  {
   "cell_type": "code",
   "execution_count": 166,
   "metadata": {},
   "outputs": [
    {
     "name": "stdout",
     "output_type": "stream",
     "text": [
      "[122, 202, 12, 187, 14, 204, 110, 124, 19, 116, 21, 26, 27, 28, 191, 144, 145, 148, 152, 42, 44, 46, 174, 175, 49, 51, 52, 179, 54, 183, 66, 74, 86, 89, 224, 98, 227, 102, 106, 234, 244]\n"
     ]
    }
   ],
   "source": [
    "print(IDs_test)"
   ]
  },
  {
   "cell_type": "code",
   "execution_count": 167,
   "metadata": {},
   "outputs": [
    {
     "name": "stdout",
     "output_type": "stream",
     "text": [
      "[185, 210, 132, 3, 200, 112, 201, 17, 7, 138, 126, 207, 131, 20, 194, 186, 1, 133, 184, 123, 198, 203, 109, 111, 115, 209, 158, 4, 18, 120, 118, 9, 128, 125, 188, 246, 129, 16, 192, 25, 205, 247, 24, 8, 127, 135, 11, 107, 208, 190, 108, 2, 22, 113, 10, 5, 211, 134, 6, 15, 119, 13, 82, 68, 181, 252, 213, 171, 223, 67, 229, 37, 153, 93, 43, 99, 80, 38, 226, 243, 79, 95, 84, 245, 230, 35, 139, 36, 155, 160, 147, 88, 240, 222, 236, 216, 75, 220, 218, 239, 87, 166, 176, 55, 162, 45, 157, 90, 30, 143, 215, 254, 96, 141, 50, 163, 225, 29, 101, 182, 168, 249, 212, 76, 41, 103, 151, 72, 150, 167, 251, 161, 250, 97, 180, 228, 78, 32, 59, 164, 165, 81, 104, 105, 47, 233, 57, 63, 136, 40, 92, 137, 71, 237, 33, 94, 156, 235, 61, 219, 217, 48, 91, 242, 39, 56, 241, 85, 169, 178, 253, 140, 73, 177, 173, 172, 149, 170]\n"
     ]
    }
   ],
   "source": [
    "print(IDs_train)"
   ]
  },
  {
   "cell_type": "code",
   "execution_count": 153,
   "metadata": {},
   "outputs": [],
   "source": [
    "label_dict  = {\n",
    "    '3dys0_risk0': '0',\n",
    "    '13dys0_risk0': '0',\n",
    "    '66dys0_risk0': '0',\n",
    "    '3dys0_risk1': '1',\n",
    "    '13dys0_risk1': '1',\n",
    "    '66dys0_risk1': '1',\n",
    "    '3dys1_risk0': '0',\n",
    "    '13dys1_risk0': '0',\n",
    "    '66dys1_risk0': '0',\n",
    "    '3dys1_risk1': '1',\n",
    "    '13dys1_risk1': '1',\n",
    "    '66dys1_risk1': '1',\n",
    "}\n",
    "\n",
    "main_label_dict = label_dict.copy()\n",
    "\n",
    "binarizer_dict  = {\n",
    "    '0': [1,0],\n",
    "    '1': [0,1]\n",
    "}"
   ]
  },
  {
   "cell_type": "code",
   "execution_count": 123,
   "metadata": {},
   "outputs": [
    {
     "data": {
      "text/plain": [
       "\"\\nbinarizer_dict  = {\\n    '0': [0],\\n    '1': [1]\\n}\\n\""
      ]
     },
     "execution_count": 123,
     "metadata": {},
     "output_type": "execute_result"
    }
   ],
   "source": [
    "label_dict  = {\n",
    "    '3dys0_risk0': '0',\n",
    "    '13dys0_risk0': '0',\n",
    "    '66dys0_risk0': '0',\n",
    "    '3dys0_risk1': '0',\n",
    "    '13dys0_risk1': '0',\n",
    "    '66dys0_risk1': '0',\n",
    "    '3dys1_risk0': '1',\n",
    "    '13dys1_risk0': '1',\n",
    "    '66dys1_risk0': '1',\n",
    "    '3dys1_risk1': '1',\n",
    "    '13dys1_risk1': '1',\n",
    "    '66dys1_risk1': '1',\n",
    "}\n",
    "\n",
    "binarizer_dict  = {\n",
    "    '0': [1,0],\n",
    "    '1': [0,1]\n",
    "}\n",
    "\n",
    "\"\"\"\n",
    "binarizer_dict  = {\n",
    "    '0': [0],\n",
    "    '1': [1]\n",
    "}\n",
    "\"\"\""
   ]
  },
  {
   "cell_type": "code",
   "execution_count": 19,
   "metadata": {},
   "outputs": [],
   "source": [
    "label_dict  = {\n",
    "    '3dys0_risk0': '0',\n",
    "    '13dys0_risk0': '1',\n",
    "    '66dys0_risk0': '2',\n",
    "    '3dys0_risk1': '0',\n",
    "    '13dys0_risk1': '1',\n",
    "    '66dys0_risk1': '2',\n",
    "    '3dys1_risk0': '3',\n",
    "    '13dys1_risk0': '4',\n",
    "    '66dys1_risk0': '5',\n",
    "    '3dys1_risk1': '3',\n",
    "    '13dys1_risk1': '4',\n",
    "    '66dys1_risk1': '5',\n",
    "}\n",
    "\n",
    "binarizer_dict  = {\n",
    "    '0': [1, 0, 0, 0, 0, 0],\n",
    "    '1': [0, 1, 0, 0, 0, 0],\n",
    "    '2': [0, 0, 1, 0, 0, 0],\n",
    "    '3': [0, 0, 0, 1, 0, 0],\n",
    "    '4': [0, 0, 0, 0, 1, 0],\n",
    "    '5': [0, 0, 0, 0, 0, 1]\n",
    "}"
   ]
  },
  {
   "cell_type": "code",
   "execution_count": 124,
   "metadata": {},
   "outputs": [],
   "source": [
    "# give labels of data that should not be used for training/testing\n",
    "\n",
    "ignore_labels = ['3dys0_risk0', '3dys0_risk1', '3dys1_risk0', '3dys1_risk1',\n",
    "                '13dys0_risk0', '13dys0_risk1', '13dys1_risk0', '13dys1_risk1']"
   ]
  },
  {
   "cell_type": "code",
   "execution_count": 168,
   "metadata": {},
   "outputs": [],
   "source": [
    "train_generator = DataGenerator(list_IDs = IDs_train,\n",
    "                                 main_labels = main_labels,\n",
    "                                 label_dict = label_dict,\n",
    "                                 binarizer_dict = binarizer_dict,\n",
    "                                 ignore_labels = ignore_labels,\n",
    "                                 path_data = PATH_DATA_processed,\n",
    "                                 filenames = [x[:-4] for x in files_csv],\n",
    "                                 data_path = PATH_DATA_processed, \n",
    "                                 to_fit=True, \n",
    "                                 n_average = 40,\n",
    "                                 batch_size = 32,\n",
    "                                 iter_per_epoch = 50,\n",
    "                                 up_sampling = True,\n",
    "                                 n_timepoints = 501,\n",
    "                                 n_channels=30, \n",
    "                                 shuffle=True)\n",
    "\n",
    "val_generator = DataGenerator(list_IDs = IDs_val,\n",
    "                                 main_labels = main_labels,\n",
    "                                 label_dict = label_dict,\n",
    "                                 binarizer_dict = binarizer_dict,\n",
    "                                 ignore_labels = ignore_labels,\n",
    "                                 path_data = PATH_DATA_processed,\n",
    "                                 filenames = [x[:-4] for x in files_csv],\n",
    "                                 data_path = PATH_DATA_processed, \n",
    "                                 to_fit=True, \n",
    "                                 n_average = 40,\n",
    "                                 batch_size = 32,\n",
    "                                 iter_per_epoch = 50,\n",
    "                                 up_sampling = True,\n",
    "                                 n_timepoints = 501,\n",
    "                                 n_channels=30, \n",
    "                                 shuffle=True)"
   ]
  },
  {
   "cell_type": "code",
   "execution_count": 169,
   "metadata": {},
   "outputs": [],
   "source": [
    "test_generator = DataGenerator(list_IDs = IDs_test,\n",
    "                                 main_labels = main_labels,\n",
    "                                 label_dict = label_dict,\n",
    "                                 binarizer_dict = binarizer_dict,\n",
    "                                 ignore_labels = ignore_labels,\n",
    "                                 path_data = PATH_DATA_processed,\n",
    "                                 filenames = [x[:-4] for x in files_csv],\n",
    "                                 data_path = PATH_DATA_processed, \n",
    "                                 to_fit=True, \n",
    "                                 n_average = 40,\n",
    "                                 batch_size = 100,\n",
    "                                 iter_per_epoch = 10,\n",
    "                                 up_sampling = True,\n",
    "                                 n_timepoints = 501,\n",
    "                                 n_channels=30, \n",
    "                                 n_classes=1, \n",
    "                                 shuffle=True)"
   ]
  },
  {
   "cell_type": "code",
   "execution_count": 170,
   "metadata": {},
   "outputs": [],
   "source": [
    "X, y  = train_generator.__getitem__(1)"
   ]
  },
  {
   "cell_type": "code",
   "execution_count": 171,
   "metadata": {},
   "outputs": [
    {
     "data": {
      "text/plain": [
       "((9, 501, 30), 9)"
      ]
     },
     "execution_count": 171,
     "metadata": {},
     "output_type": "execute_result"
    }
   ],
   "source": [
    "X.shape, len(y)"
   ]
  },
  {
   "cell_type": "code",
   "execution_count": 172,
   "metadata": {},
   "outputs": [
    {
     "name": "stdout",
     "output_type": "stream",
     "text": [
      "[[1 0]\n",
      " [1 0]\n",
      " [1 0]\n",
      " [1 0]\n",
      " [0 1]\n",
      " [0 1]\n",
      " [0 1]\n",
      " [1 0]\n",
      " [0 1]]\n"
     ]
    }
   ],
   "source": [
    "print(y[:11])"
   ]
  },
  {
   "cell_type": "code",
   "execution_count": 173,
   "metadata": {},
   "outputs": [
    {
     "data": {
      "text/plain": [
       "array([5, 4])"
      ]
     },
     "execution_count": 173,
     "metadata": {},
     "output_type": "execute_result"
    }
   ],
   "source": [
    "np.sum(y, axis=0)"
   ]
  },
  {
   "cell_type": "code",
   "execution_count": 174,
   "metadata": {},
   "outputs": [
    {
     "ename": "IndexError",
     "evalue": "index 9 is out of bounds for axis 0 with size 9",
     "output_type": "error",
     "traceback": [
      "\u001b[1;31m---------------------------------------------------------------------------\u001b[0m",
      "\u001b[1;31mIndexError\u001b[0m                                Traceback (most recent call last)",
      "\u001b[1;32m<ipython-input-174-dc172b0cd10b>\u001b[0m in \u001b[0;36m<module>\u001b[1;34m\u001b[0m\n\u001b[0;32m      1\u001b[0m \u001b[1;32mfor\u001b[0m \u001b[0mi\u001b[0m \u001b[1;32min\u001b[0m \u001b[0mrange\u001b[0m\u001b[1;33m(\u001b[0m\u001b[1;36m10\u001b[0m\u001b[1;33m)\u001b[0m\u001b[1;33m:\u001b[0m\u001b[1;33m\u001b[0m\u001b[1;33m\u001b[0m\u001b[0m\n\u001b[1;32m----> 2\u001b[1;33m     \u001b[0mlabel\u001b[0m \u001b[1;33m=\u001b[0m \u001b[1;36m4\u001b[0m\u001b[1;33m*\u001b[0m\u001b[0mnp\u001b[0m\u001b[1;33m.\u001b[0m\u001b[0mwhere\u001b[0m\u001b[1;33m(\u001b[0m\u001b[0my\u001b[0m\u001b[1;33m[\u001b[0m\u001b[0mi\u001b[0m\u001b[1;33m]\u001b[0m \u001b[1;33m==\u001b[0m \u001b[1;36m1\u001b[0m\u001b[1;33m)\u001b[0m\u001b[1;33m[\u001b[0m\u001b[1;36m0\u001b[0m\u001b[1;33m]\u001b[0m\u001b[1;33m[\u001b[0m\u001b[1;36m0\u001b[0m\u001b[1;33m]\u001b[0m\u001b[1;33m\u001b[0m\u001b[1;33m\u001b[0m\u001b[0m\n\u001b[0m\u001b[0;32m      3\u001b[0m     \u001b[1;31m#label = 4*y[i][0]\u001b[0m\u001b[1;33m\u001b[0m\u001b[1;33m\u001b[0m\u001b[1;33m\u001b[0m\u001b[0m\n\u001b[0;32m      4\u001b[0m     \u001b[0mplt\u001b[0m\u001b[1;33m.\u001b[0m\u001b[0mplot\u001b[0m\u001b[1;33m(\u001b[0m\u001b[0mX\u001b[0m\u001b[1;33m[\u001b[0m\u001b[0mi\u001b[0m\u001b[1;33m,\u001b[0m\u001b[1;33m:\u001b[0m\u001b[1;33m,\u001b[0m\u001b[1;36m2\u001b[0m\u001b[1;33m]\u001b[0m\u001b[1;33m,\u001b[0m \u001b[0malpha\u001b[0m \u001b[1;33m=\u001b[0m \u001b[1;36m0.5\u001b[0m\u001b[1;33m,\u001b[0m \u001b[0mcolor\u001b[0m\u001b[1;33m=\u001b[0m\u001b[1;33m(\u001b[0m\u001b[0mlabel\u001b[0m\u001b[1;33m/\u001b[0m\u001b[1;36m5\u001b[0m\u001b[1;33m,\u001b[0m\u001b[1;36m0\u001b[0m\u001b[1;33m,\u001b[0m \u001b[0mlabel\u001b[0m\u001b[1;33m/\u001b[0m\u001b[1;36m5\u001b[0m\u001b[1;33m)\u001b[0m\u001b[1;33m)\u001b[0m\u001b[1;33m\u001b[0m\u001b[1;33m\u001b[0m\u001b[0m\n",
      "\u001b[1;31mIndexError\u001b[0m: index 9 is out of bounds for axis 0 with size 9"
     ]
    },
    {
     "data": {
      "image/png": "[encoded data removed]",
      "text/plain": [
       "<Figure size 432x288 with 1 Axes>"
      ]
     },
     "metadata": {
      "needs_background": "light"
     },
     "output_type": "display_data"
    }
   ],
   "source": [
    "for i in range(10):\n",
    "    label = 4*np.where(y[i] == 1)[0][0]\n",
    "    #label = 4*y[i][0]\n",
    "    plt.plot(X[i,:,2], alpha = 0.5, color=(label/5,0, label/5))"
   ]
  },
  {
   "cell_type": "code",
   "execution_count": null,
   "metadata": {},
   "outputs": [],
   "source": []
  },
  {
   "cell_type": "code",
   "execution_count": null,
   "metadata": {},
   "outputs": [],
   "source": []
  },
  {
   "cell_type": "markdown",
   "metadata": {},
   "source": [
    "## Define model architecture"
   ]
  },
  {
   "cell_type": "code",
   "execution_count": 132,
   "metadata": {},
   "outputs": [],
   "source": [
    "import tensorflow as tf\n",
    "from tensorflow.keras import layers\n",
    "from tensorflow.keras.callbacks import ModelCheckpoint, EarlyStopping\n",
    "from tensorflow.keras import optimizers"
   ]
  },
  {
   "cell_type": "code",
   "execution_count": 175,
   "metadata": {},
   "outputs": [],
   "source": [
    "# Simple CNN model\n",
    "n_timesteps = 501\n",
    "n_features = 30\n",
    "n_outputs = 2 #6\n",
    "\n",
    "model = tf.keras.Sequential()\n",
    "model.add(layers.Conv1D(filters=48, kernel_size=20, input_shape=(n_timesteps,n_features)))\n",
    "model.add(layers.BatchNormalization())\n",
    "model.add(layers.LeakyReLU())\n",
    "model.add(layers.AveragePooling1D(pool_size=2))\n",
    "\n",
    "model.add(layers.Conv1D(filters=64, kernel_size=10)) #, activation='relu'))\n",
    "model.add(layers.BatchNormalization())\n",
    "model.add(layers.LeakyReLU())\n",
    "model.add(layers.AveragePooling1D(pool_size=2))\n",
    "\n",
    "model.add(layers.Conv1D(filters=96, kernel_size=5)) #, activation='relu'))\n",
    "model.add(layers.BatchNormalization())\n",
    "model.add(layers.LeakyReLU())\n",
    "model.add(layers.AveragePooling1D(pool_size=2))\n",
    "\n",
    "model.add(layers.Flatten())\n",
    "model.add(layers.Dense(100, activation='relu'))\n",
    "model.add(layers.Dropout(0.5))\n",
    "model.add(layers.Dense(60, activation='relu'))\n",
    "model.add(layers.Dense(n_outputs, activation='softmax'))\n",
    "\n",
    "#Adam = optimizers.Adam(lr=0.0001, beta_1=0.9, beta_2=0.999, amsgrad=True)\n",
    "#model.compile(loss='categorical_crossentropy', optimizer=Adam, metrics=['accuracy'])\n",
    "#model.compile(loss='binary_crossentropy', optimizer=Adam, metrics=['accuracy'])\n",
    "model.compile(loss='categorical_crossentropy', optimizer='adadelta', metrics=['accuracy'])\n",
    "#model.compile(loss='binary_crossentropy', optimizer='adadelta', metrics=['accuracy'])"
   ]
  },
  {
   "cell_type": "code",
   "execution_count": 137,
   "metadata": {},
   "outputs": [
    {
     "name": "stdout",
     "output_type": "stream",
     "text": [
      "_________________________________________________________________\n",
      "Layer (type)                 Output Shape              Param #   \n",
      "=================================================================\n",
      "conv1d_79 (Conv1D)           (None, 482, 48)           28848     \n",
      "_________________________________________________________________\n",
      "batch_normalization_v1_37 (B (None, 482, 48)           192       \n",
      "_________________________________________________________________\n",
      "leaky_re_lu_21 (LeakyReLU)   (None, 482, 48)           0         \n",
      "_________________________________________________________________\n",
      "average_pooling1d_23 (Averag (None, 241, 48)           0         \n",
      "_________________________________________________________________\n",
      "conv1d_80 (Conv1D)           (None, 232, 64)           30784     \n",
      "_________________________________________________________________\n",
      "batch_normalization_v1_38 (B (None, 232, 64)           256       \n",
      "_________________________________________________________________\n",
      "leaky_re_lu_22 (LeakyReLU)   (None, 232, 64)           0         \n",
      "_________________________________________________________________\n",
      "average_pooling1d_24 (Averag (None, 116, 64)           0         \n",
      "_________________________________________________________________\n",
      "conv1d_81 (Conv1D)           (None, 112, 96)           30816     \n",
      "_________________________________________________________________\n",
      "batch_normalization_v1_39 (B (None, 112, 96)           384       \n",
      "_________________________________________________________________\n",
      "leaky_re_lu_23 (LeakyReLU)   (None, 112, 96)           0         \n",
      "_________________________________________________________________\n",
      "average_pooling1d_25 (Averag (None, 56, 96)            0         \n",
      "_________________________________________________________________\n",
      "flatten_9 (Flatten)          (None, 5376)              0         \n",
      "_________________________________________________________________\n",
      "dense_25 (Dense)             (None, 100)               537700    \n",
      "_________________________________________________________________\n",
      "dropout_11 (Dropout)         (None, 100)               0         \n",
      "_________________________________________________________________\n",
      "dense_26 (Dense)             (None, 60)                6060      \n",
      "_________________________________________________________________\n",
      "dense_27 (Dense)             (None, 2)                 122       \n",
      "=================================================================\n",
      "Total params: 635,162\n",
      "Trainable params: 634,746\n",
      "Non-trainable params: 416\n",
      "_________________________________________________________________\n"
     ]
    }
   ],
   "source": [
    "model.summary()"
   ]
  },
  {
   "cell_type": "code",
   "execution_count": 176,
   "metadata": {},
   "outputs": [
    {
     "name": "stdout",
     "output_type": "stream",
     "text": [
      "Epoch 1/50\n",
      "1/1 [==============================] - 6s 6s/step - loss: 0.7275 - acc: 0.4286\n",
      "\n",
      "Epoch 00001: saving model to C:\\OneDrive - Netherlands eScience Center\\Project_ePodium\\EEG_dyslexia_prediction\\models_trained\\CNN_1D_classifier_avg_41mnd-01-0.43.hdf5\n",
      "5/5 [==============================] - 25s 5s/step - loss: 1.1039 - acc: 0.5957 - val_loss: 0.7275 - val_acc: 0.4286\n",
      "Epoch 2/50\n",
      "1/1 [==============================] - 6s 6s/step - loss: 0.6779 - acc: 0.5000\n",
      "\n",
      "Epoch 00002: saving model to C:\\OneDrive - Netherlands eScience Center\\Project_ePodium\\EEG_dyslexia_prediction\\models_trained\\CNN_1D_classifier_avg_41mnd-02-0.50.hdf5\n",
      "5/5 [==============================] - 16s 3s/step - loss: 1.0079 - acc: 0.6981 - val_loss: 0.6779 - val_acc: 0.5000\n",
      "Epoch 3/50\n",
      "1/1 [==============================] - 4s 4s/step - loss: 0.6966 - acc: 0.6000\n",
      "\n",
      "Epoch 00003: saving model to C:\\OneDrive - Netherlands eScience Center\\Project_ePodium\\EEG_dyslexia_prediction\\models_trained\\CNN_1D_classifier_avg_41mnd-03-0.60.hdf5\n",
      "5/5 [==============================] - 23s 5s/step - loss: 1.2676 - acc: 0.4528 - val_loss: 0.6966 - val_acc: 0.6000\n",
      "Epoch 4/50\n",
      "1/1 [==============================] - 6s 6s/step - loss: 0.6999 - acc: 0.5556\n",
      "\n",
      "Epoch 00004: saving model to C:\\OneDrive - Netherlands eScience Center\\Project_ePodium\\EEG_dyslexia_prediction\\models_trained\\CNN_1D_classifier_avg_41mnd-04-0.56.hdf5\n",
      "5/5 [==============================] - 26s 5s/step - loss: 0.8768 - acc: 0.5926 - val_loss: 0.6999 - val_acc: 0.5556\n",
      "Epoch 5/50\n",
      "1/1 [==============================] - 5s 5s/step - loss: 0.7008 - acc: 0.5556\n",
      "\n",
      "Epoch 00005: saving model to C:\\OneDrive - Netherlands eScience Center\\Project_ePodium\\EEG_dyslexia_prediction\\models_trained\\CNN_1D_classifier_avg_41mnd-05-0.56.hdf5\n",
      "5/5 [==============================] - 25s 5s/step - loss: 0.9755 - acc: 0.6364 - val_loss: 0.7008 - val_acc: 0.5556\n",
      "Epoch 6/50\n",
      "1/1 [==============================] - 6s 6s/step - loss: 0.7916 - acc: 0.3333\n",
      "\n",
      "Epoch 00006: saving model to C:\\OneDrive - Netherlands eScience Center\\Project_ePodium\\EEG_dyslexia_prediction\\models_trained\\CNN_1D_classifier_avg_41mnd-06-0.33.hdf5\n",
      "5/5 [==============================] - 27s 5s/step - loss: 0.8051 - acc: 0.6346 - val_loss: 0.7916 - val_acc: 0.3333\n",
      "Epoch 00006: early stopping\n"
     ]
    },
    {
     "data": {
      "text/plain": [
       "<tensorflow.python.keras.callbacks.History at 0x1520e9eb3c8>"
      ]
     },
     "execution_count": 176,
     "metadata": {},
     "output_type": "execute_result"
    }
   ],
   "source": [
    "# Save best model and include early stopping\n",
    "output_filename = 'CNN_1D_classifier_avg_41mnd'\n",
    "output_file = os.path.join(PATH_CODE, 'models_trained' , output_filename + \"-{epoch:02d}-{val_acc:.2f}.hdf5\")\n",
    "checkpointer = ModelCheckpoint(filepath = output_file, \n",
    "                               monitor='val_acc', \n",
    "                               verbose=1, \n",
    "                               save_best_only=False)\n",
    "earlystopper = EarlyStopping(monitor='val_acc', patience=3, verbose=1)\n",
    "\n",
    "model.fit_generator(generator=train_generator, \n",
    "                   validation_data=val_generator,\n",
    "                   epochs=50,\n",
    "                   callbacks = [\n",
    "                       checkpointer, \n",
    "                        earlystopper,\n",
    "                   ]\n",
    "                  )"
   ]
  },
  {
   "cell_type": "code",
   "execution_count": 177,
   "metadata": {},
   "outputs": [],
   "source": [
    "X_test, y_test = test_generator.__getitem__(0)\n",
    "# Check model predictions:\n",
    "y_pred = model.predict(X_test)"
   ]
  },
  {
   "cell_type": "code",
   "execution_count": 178,
   "metadata": {},
   "outputs": [
    {
     "name": "stdout",
     "output_type": "stream",
     "text": [
      "[0 1 1 1 1 1 1 1 1 1 1 1 1 1 1 1 1 1 1 1]\n",
      "[1 1 0 1 0 1 0 0 1 1 0 0 0 0 1 1 0 1 0 0]\n",
      "true:  8\n",
      "false:  12\n"
     ]
    }
   ],
   "source": [
    "print(np.argmax(y_pred, axis=1)[:30])\n",
    "print(np.argmax(y_test, axis=1)[:30])\n",
    "\n",
    "print(\"true: \", np.sum(np.argmax(y_pred, axis=1) == np.argmax(y_test, axis=1)))\n",
    "print(\"false: \", np.sum(np.argmax(y_pred, axis=1) != np.argmax(y_test, axis=1)))"
   ]
  },
  {
   "cell_type": "code",
   "execution_count": null,
   "metadata": {},
   "outputs": [],
   "source": []
  },
  {
   "cell_type": "markdown",
   "metadata": {},
   "source": [
    "## CNN with 2D convolution in between"
   ]
  },
  {
   "cell_type": "code",
   "execution_count": 68,
   "metadata": {},
   "outputs": [],
   "source": [
    "# CNN model combining 1D and 2D convolutions:\n",
    "\n",
    "n_timesteps = 501\n",
    "n_features = 30\n",
    "n_outputs = 2\n",
    "\n",
    "model = tf.keras.Sequential()\n",
    "model.add(layers.Conv1D(filters=48, kernel_size=20, input_shape=(n_timesteps,n_features)))\n",
    "model.add(layers.BatchNormalization())\n",
    "model.add(layers.LeakyReLU())\n",
    "model.add(layers.AveragePooling1D(pool_size=2))\n",
    "\n",
    "model.add(layers.Reshape((241, 48, 1)))\n",
    "model.add(layers.Conv2D(filters=64, kernel_size=(10, 48)))\n",
    "model.add(layers.BatchNormalization())\n",
    "model.add(layers.LeakyReLU())\n",
    "model.add(layers.Reshape((232, 64)))\n",
    "model.add(layers.AveragePooling1D(pool_size=2))\n",
    "\n",
    "#model.add(layers.Conv1D(filters=64, kernel_size=10)) #, activation='relu'))\n",
    "#model.add(layers.BatchNormalization())\n",
    "#model.add(layers.LeakyReLU())\n",
    "#model.add(layers.AveragePooling1D(pool_size=2))\n",
    "\n",
    "model.add(layers.Conv1D(filters=128, kernel_size=10)) #, activation='relu'))\n",
    "model.add(layers.BatchNormalization())\n",
    "model.add(layers.LeakyReLU())\n",
    "model.add(layers.AveragePooling1D(pool_size=3))\n",
    "\n",
    "#model.add(layers.Conv1D(filters=96, kernel_size=3, activation='relu'))\n",
    "#model.add(layers.AveragePooling1D(pool_size=2))\n",
    "#model.add(layers.MaxPooling1D(pool_size=2))\n",
    "\n",
    "model.add(layers.Flatten())\n",
    "model.add(layers.Dense(100, activation='relu'))\n",
    "model.add(layers.Dropout(0.5))\n",
    "model.add(layers.Dense(60, activation='relu'))\n",
    "model.add(layers.Dropout(0.25))\n",
    "model.add(layers.Dense(n_outputs, activation='softmax'))\n",
    "\n",
    "Adam = optimizers.Adam(lr=0.0001, beta_1=0.9, beta_2=0.999, amsgrad=True)\n",
    "model.compile(loss='categorical_crossentropy', optimizer=Adam, metrics=['accuracy'])\n",
    "#model.compile(loss='binary_crossentropy', optimizer=Adam, metrics=['accuracy'])\n",
    "#model.compile(loss='categorical_crossentropy', optimizer='adadelta', metrics=['accuracy'])\n",
    "#model.compile(loss='binary_crossentropy', optimizer='adadelta', metrics=['accuracy'])"
   ]
  },
  {
   "cell_type": "code",
   "execution_count": 69,
   "metadata": {},
   "outputs": [
    {
     "name": "stdout",
     "output_type": "stream",
     "text": [
      "_________________________________________________________________\n",
      "Layer (type)                 Output Shape              Param #   \n",
      "=================================================================\n",
      "conv1d_10 (Conv1D)           (None, 482, 48)           28848     \n",
      "_________________________________________________________________\n",
      "batch_normalization_v1_15 (B (None, 482, 48)           192       \n",
      "_________________________________________________________________\n",
      "leaky_re_lu_15 (LeakyReLU)   (None, 482, 48)           0         \n",
      "_________________________________________________________________\n",
      "average_pooling1d_15 (Averag (None, 241, 48)           0         \n",
      "_________________________________________________________________\n",
      "reshape_10 (Reshape)         (None, 241, 48, 1)        0         \n",
      "_________________________________________________________________\n",
      "conv2d_5 (Conv2D)            (None, 232, 1, 64)        30784     \n",
      "_________________________________________________________________\n",
      "batch_normalization_v1_16 (B (None, 232, 1, 64)        256       \n",
      "_________________________________________________________________\n",
      "leaky_re_lu_16 (LeakyReLU)   (None, 232, 1, 64)        0         \n",
      "_________________________________________________________________\n",
      "reshape_11 (Reshape)         (None, 232, 64)           0         \n",
      "_________________________________________________________________\n",
      "average_pooling1d_16 (Averag (None, 116, 64)           0         \n",
      "_________________________________________________________________\n",
      "conv1d_11 (Conv1D)           (None, 107, 128)          82048     \n",
      "_________________________________________________________________\n",
      "batch_normalization_v1_17 (B (None, 107, 128)          512       \n",
      "_________________________________________________________________\n",
      "leaky_re_lu_17 (LeakyReLU)   (None, 107, 128)          0         \n",
      "_________________________________________________________________\n",
      "average_pooling1d_17 (Averag (None, 35, 128)           0         \n",
      "_________________________________________________________________\n",
      "flatten_5 (Flatten)          (None, 4480)              0         \n",
      "_________________________________________________________________\n",
      "dense_15 (Dense)             (None, 100)               448100    \n",
      "_________________________________________________________________\n",
      "dropout_8 (Dropout)          (None, 100)               0         \n",
      "_________________________________________________________________\n",
      "dense_16 (Dense)             (None, 60)                6060      \n",
      "_________________________________________________________________\n",
      "dropout_9 (Dropout)          (None, 60)                0         \n",
      "_________________________________________________________________\n",
      "dense_17 (Dense)             (None, 2)                 122       \n",
      "=================================================================\n",
      "Total params: 596,922\n",
      "Trainable params: 596,442\n",
      "Non-trainable params: 480\n",
      "_________________________________________________________________\n"
     ]
    }
   ],
   "source": [
    "model.summary()"
   ]
  },
  {
   "cell_type": "code",
   "execution_count": 70,
   "metadata": {},
   "outputs": [
    {
     "name": "stdout",
     "output_type": "stream",
     "text": [
      "Epoch 1/50\n",
      "1/1 [==============================] - 7s 7s/step - loss: 0.6933 - acc: 0.5000\n",
      "\n",
      "Epoch 00001: saving model to C:\\OneDrive - Netherlands eScience Center\\Project_ePodium\\EEG_dyslexia_prediction\\models_trained\\CNN_1D_2D_classifier_avg_41mnd-01-0.50.hdf5\n",
      "5/5 [==============================] - 41s 8s/step - loss: 1.0178 - acc: 0.5024 - val_loss: 0.6933 - val_acc: 0.5000\n",
      "Epoch 2/50\n",
      "1/1 [==============================] - 7s 7s/step - loss: 0.6946 - acc: 0.5238\n",
      "\n",
      "Epoch 00002: saving model to C:\\OneDrive - Netherlands eScience Center\\Project_ePodium\\EEG_dyslexia_prediction\\models_trained\\CNN_1D_2D_classifier_avg_41mnd-02-0.52.hdf5\n",
      "5/5 [==============================] - 27s 5s/step - loss: 0.7778 - acc: 0.5909 - val_loss: 0.6946 - val_acc: 0.5238\n",
      "Epoch 3/50\n",
      "1/1 [==============================] - 7s 7s/step - loss: 0.6932 - acc: 0.5250\n",
      "\n",
      "Epoch 00003: saving model to C:\\OneDrive - Netherlands eScience Center\\Project_ePodium\\EEG_dyslexia_prediction\\models_trained\\CNN_1D_2D_classifier_avg_41mnd-03-0.52.hdf5\n",
      "5/5 [==============================] - 31s 6s/step - loss: 0.9296 - acc: 0.4725 - val_loss: 0.6932 - val_acc: 0.5250\n",
      "Epoch 4/50\n",
      "1/1 [==============================] - 7s 7s/step - loss: 0.6930 - acc: 0.5429\n",
      "\n",
      "Epoch 00004: saving model to C:\\OneDrive - Netherlands eScience Center\\Project_ePodium\\EEG_dyslexia_prediction\\models_trained\\CNN_1D_2D_classifier_avg_41mnd-04-0.54.hdf5\n",
      "5/5 [==============================] - 31s 6s/step - loss: 0.7414 - acc: 0.5662 - val_loss: 0.6930 - val_acc: 0.5429\n",
      "Epoch 5/50\n",
      "1/1 [==============================] - 6s 6s/step - loss: 0.6961 - acc: 0.3714\n",
      "\n",
      "Epoch 00005: saving model to C:\\OneDrive - Netherlands eScience Center\\Project_ePodium\\EEG_dyslexia_prediction\\models_trained\\CNN_1D_2D_classifier_avg_41mnd-05-0.37.hdf5\n",
      "5/5 [==============================] - 30s 6s/step - loss: 0.7734 - acc: 0.5607 - val_loss: 0.6961 - val_acc: 0.3714\n",
      "Epoch 6/50\n",
      "1/1 [==============================] - 7s 7s/step - loss: 0.6955 - acc: 0.4359\n",
      "\n",
      "Epoch 00006: saving model to C:\\OneDrive - Netherlands eScience Center\\Project_ePodium\\EEG_dyslexia_prediction\\models_trained\\CNN_1D_2D_classifier_avg_41mnd-06-0.44.hdf5\n",
      "5/5 [==============================] - 32s 6s/step - loss: 0.7914 - acc: 0.5024 - val_loss: 0.6955 - val_acc: 0.4359\n",
      "Epoch 7/50\n",
      "1/1 [==============================] - 6s 6s/step - loss: 0.6940 - acc: 0.4500\n",
      "\n",
      "Epoch 00007: saving model to C:\\OneDrive - Netherlands eScience Center\\Project_ePodium\\EEG_dyslexia_prediction\\models_trained\\CNN_1D_2D_classifier_avg_41mnd-07-0.45.hdf5\n",
      "5/5 [==============================] - 31s 6s/step - loss: 0.6979 - acc: 0.6176 - val_loss: 0.6940 - val_acc: 0.4500\n",
      "Epoch 00007: early stopping\n"
     ]
    },
    {
     "data": {
      "text/plain": [
       "<tensorflow.python.keras.callbacks.History at 0x1519ec18c88>"
      ]
     },
     "execution_count": 70,
     "metadata": {},
     "output_type": "execute_result"
    }
   ],
   "source": [
    "# Save best model and include early stopping\n",
    "output_filename = 'CNN_1D_2D_classifier_avg_41mnd'\n",
    "output_file = os.path.join(PATH_CODE, 'models_trained' , output_filename + \"-{epoch:02d}-{val_acc:.2f}.hdf5\")\n",
    "checkpointer = ModelCheckpoint(filepath = output_file, \n",
    "                               monitor='val_acc', \n",
    "                               verbose=1, \n",
    "                               save_best_only=False)\n",
    "earlystopper = EarlyStopping(monitor='val_acc', patience=3, verbose=1)\n",
    "\n",
    "model.fit_generator(generator=train_generator, \n",
    "                   validation_data=val_generator,\n",
    "                   epochs=50,\n",
    "                   callbacks = [\n",
    "                       checkpointer, \n",
    "                        earlystopper,\n",
    "                   ]\n",
    "                  )"
   ]
  },
  {
   "cell_type": "code",
   "execution_count": 71,
   "metadata": {},
   "outputs": [
    {
     "data": {
      "text/plain": [
       "[array([[[-2.71895938e-02, -2.80009247e-02,  1.10774199e-02, ...,\n",
       "          -4.96994406e-02, -2.28353334e-03, -3.11769708e-03],\n",
       "         [ 5.85632995e-02,  3.10162604e-02, -4.63430546e-02, ...,\n",
       "           5.80515824e-02, -5.02342321e-02,  5.15300110e-02],\n",
       "         [ 4.18450497e-02,  5.79756647e-02, -5.88560924e-02, ...,\n",
       "           1.84078682e-02, -1.42112011e-02,  2.12112721e-02],\n",
       "         ...,\n",
       "         [ 5.46004474e-02,  3.97293072e-04,  3.14258449e-02, ...,\n",
       "          -2.97127049e-02,  5.64334318e-02, -2.38573905e-02],\n",
       "         [ 4.46813814e-02,  4.09542359e-02,  4.56419401e-02, ...,\n",
       "          -4.94259745e-02,  6.50181901e-05,  1.85325518e-02],\n",
       "         [ 2.16930881e-02,  1.91004463e-02, -2.60004811e-02, ...,\n",
       "          -3.76578011e-02,  1.54768443e-02, -1.16185108e-02]],\n",
       " \n",
       "        [[-5.49352951e-02, -2.68999469e-02, -5.24260364e-02, ...,\n",
       "          -3.49138677e-03,  1.81436893e-02,  1.75459951e-03],\n",
       "         [ 1.81489717e-02,  7.35449838e-03,  7.83401448e-03, ...,\n",
       "           2.71730591e-02,  1.00042121e-02,  2.93105468e-02],\n",
       "         [-2.42799185e-02, -9.20048356e-03, -2.93689836e-02, ...,\n",
       "          -5.94015159e-02, -1.10651087e-02, -5.92832491e-02],\n",
       "         ...,\n",
       "         [ 5.31551242e-02, -1.30841015e-02, -4.78513651e-02, ...,\n",
       "           4.83510308e-02, -5.65952696e-02, -5.78470118e-02],\n",
       "         [ 2.42449045e-02,  3.08116935e-02, -3.66693661e-02, ...,\n",
       "          -2.22917995e-03,  7.62020051e-03,  5.04625700e-02],\n",
       "         [ 2.92926170e-02,  5.69677725e-02,  3.75231355e-02, ...,\n",
       "           1.62004190e-03, -3.01916394e-02,  3.39597948e-02]],\n",
       " \n",
       "        [[-7.11331517e-03, -5.01835495e-02,  3.45516577e-02, ...,\n",
       "           2.01557875e-02, -9.15023778e-03,  1.77600365e-02],\n",
       "         [ 1.50511172e-02, -2.33731251e-02,  3.27417143e-02, ...,\n",
       "           2.67907232e-02,  4.61781919e-02,  3.67830545e-02],\n",
       "         [ 3.98587473e-02,  4.63033505e-02, -5.76183386e-03, ...,\n",
       "          -6.14797212e-02,  6.14740066e-02, -3.73310484e-02],\n",
       "         ...,\n",
       "         [-4.93799113e-02, -1.20346155e-02,  3.55602428e-02, ...,\n",
       "          -2.78394204e-02,  3.24478210e-03,  4.75317016e-02],\n",
       "         [-4.76696901e-02, -5.31313010e-02,  1.15769943e-02, ...,\n",
       "           4.03225981e-02,  2.36460976e-02, -2.54752841e-02],\n",
       "         [-2.19227653e-02,  6.33506710e-03,  7.02146790e-04, ...,\n",
       "          -1.86142717e-02, -6.98914845e-03, -1.45650739e-02]],\n",
       " \n",
       "        ...,\n",
       " \n",
       "        [[ 5.72352596e-02,  1.91126892e-03,  3.16812769e-02, ...,\n",
       "          -5.88697009e-02, -3.14717144e-02, -1.74167529e-02],\n",
       "         [-2.75181746e-03,  5.25849946e-02, -1.76915787e-02, ...,\n",
       "           4.75468412e-02, -1.03332475e-02,  9.80363972e-03],\n",
       "         [-2.70839613e-02, -4.33870628e-02,  1.73932798e-02, ...,\n",
       "           2.31422745e-02,  5.10969535e-02,  3.26289423e-02],\n",
       "         ...,\n",
       "         [ 2.66003311e-02,  3.88263278e-02,  4.22404222e-02, ...,\n",
       "          -6.02637902e-02, -5.81586175e-02,  4.27108295e-02],\n",
       "         [-1.80113669e-02, -5.21036945e-02, -2.99398154e-02, ...,\n",
       "           2.36124564e-02,  3.56874317e-02,  6.08682819e-02],\n",
       "         [ 3.66371870e-02,  3.74135673e-02,  5.36486134e-02, ...,\n",
       "           4.42944467e-02, -4.91031557e-02, -6.00692146e-02]],\n",
       " \n",
       "        [[ 3.43511887e-02, -2.76458357e-02,  1.94107722e-02, ...,\n",
       "           5.05627319e-02,  5.58331944e-02,  4.90450263e-02],\n",
       "         [-9.48542915e-03, -3.69262174e-02,  2.36685202e-02, ...,\n",
       "          -9.12874006e-03, -3.99898924e-02, -5.98180033e-02],\n",
       "         [ 3.72169688e-02,  2.51487456e-02,  1.28114810e-02, ...,\n",
       "           3.38365734e-02, -1.21755013e-02, -6.80874242e-03],\n",
       "         ...,\n",
       "         [-5.44150583e-02, -4.23003174e-02,  1.32933948e-02, ...,\n",
       "           5.25509659e-03,  3.10732536e-02,  2.80969571e-02],\n",
       "         [-1.23869050e-02, -4.27303789e-03,  5.95536679e-02, ...,\n",
       "           2.07076017e-02, -4.54469435e-02, -5.69831356e-02],\n",
       "         [ 3.79960388e-02,  3.74450535e-02, -4.97060120e-02, ...,\n",
       "          -2.36994550e-02,  4.37385738e-02,  3.22785079e-02]],\n",
       " \n",
       "        [[ 3.25515680e-02, -7.31473672e-04, -1.17648281e-02, ...,\n",
       "           5.96474707e-02,  3.83958817e-02, -1.91288814e-02],\n",
       "         [ 3.70261148e-02,  2.27485970e-02,  1.66312233e-02, ...,\n",
       "          -3.46076936e-02,  2.25011073e-02, -5.64362183e-02],\n",
       "         [-1.09712118e-02, -5.96049987e-02,  3.29156034e-02, ...,\n",
       "           4.93914671e-02, -3.86147201e-02, -5.40400594e-02],\n",
       "         ...,\n",
       "         [-4.79398221e-02,  2.67989282e-02, -3.64166200e-02, ...,\n",
       "          -5.18501773e-02,  1.04606198e-02, -2.40039043e-02],\n",
       "         [ 5.55166742e-03,  3.60832363e-02,  3.46020758e-02, ...,\n",
       "          -2.87655983e-02,  5.18375039e-02, -5.14530279e-02],\n",
       "         [-2.84565892e-02,  2.49363985e-02,  3.12016010e-02, ...,\n",
       "           3.49973068e-02, -4.23086733e-02, -6.08341508e-02]]],\n",
       "       dtype=float32),\n",
       " array([ 3.88295564e-04, -1.69865423e-04,  7.25085338e-05, -1.64162469e-04,\n",
       "         1.90220351e-04,  2.03167845e-04,  4.70438856e-04, -8.85668669e-06,\n",
       "        -3.35657242e-04,  1.10852350e-04, -2.74139689e-04,  2.09220612e-04,\n",
       "        -6.24705790e-05, -8.32910155e-05, -2.25781376e-04, -1.56925569e-04,\n",
       "         1.10130146e-04,  4.62833210e-04,  3.11080876e-05,  1.78480390e-04,\n",
       "        -6.92329049e-05, -3.28245776e-04,  2.19652022e-04, -4.71265048e-05,\n",
       "        -2.87489602e-05, -1.54271562e-04,  5.90277996e-05,  6.43318461e-04,\n",
       "        -2.69350654e-04,  6.56934299e-06, -1.27179504e-04,  8.84375040e-05,\n",
       "         1.07436907e-04,  1.37701631e-04,  1.47918290e-05, -4.50942374e-04,\n",
       "         1.47478961e-04, -8.19952766e-05,  1.53700137e-04, -1.36153787e-04,\n",
       "        -1.05734573e-04,  1.02890983e-04,  7.15483475e-05,  2.36752414e-04,\n",
       "        -8.80068474e-05,  5.15121268e-04, -1.55686284e-04,  2.66041097e-05],\n",
       "       dtype=float32),\n",
       " array([0.99888676, 0.9989418 , 0.99894744, 1.0006174 , 1.0004357 ,\n",
       "        1.0000076 , 0.9999059 , 0.9996784 , 1.0012698 , 0.9999782 ,\n",
       "        1.0008153 , 1.0001281 , 1.0009141 , 1.0010301 , 1.0002803 ,\n",
       "        0.9997206 , 0.9999097 , 1.0001384 , 1.0008186 , 1.0000579 ,\n",
       "        1.0003337 , 0.9996199 , 1.0005057 , 0.9995246 , 1.0005744 ,\n",
       "        1.0006043 , 0.99936295, 0.9988644 , 1.0017121 , 0.99933845,\n",
       "        0.99951047, 0.9990518 , 1.0003487 , 0.99961877, 0.99952567,\n",
       "        1.0011729 , 1.0005057 , 0.9997537 , 1.0003669 , 1.0001036 ,\n",
       "        0.9991398 , 1.0006363 , 0.9987347 , 1.000453  , 1.0002025 ,\n",
       "        1.0005645 , 0.99967176, 0.9990125 ], dtype=float32),\n",
       " array([-1.2745105e-03, -6.9463660e-04, -4.9419788e-04,  5.7915755e-04,\n",
       "         1.3938816e-03, -7.7590834e-05, -7.3147117e-04, -7.6563412e-04,\n",
       "         1.3717628e-03, -2.2118847e-04,  3.0316130e-04,  2.3536368e-04,\n",
       "         9.7789639e-04, -7.9671227e-05, -5.9719241e-05, -1.2131672e-03,\n",
       "        -1.2312009e-04, -4.8044432e-05,  5.3150614e-04,  3.6699232e-04,\n",
       "         9.3822263e-04, -7.3319935e-04,  1.6904804e-04, -1.2550071e-04,\n",
       "         5.8998249e-04,  1.2537959e-04,  3.7074962e-05,  2.1958649e-04,\n",
       "         1.1332878e-03, -1.1832794e-03, -8.2661642e-04, -1.2873240e-03,\n",
       "        -2.7270155e-04,  4.1155951e-04, -1.8434551e-04,  1.0440672e-03,\n",
       "         6.2082935e-04, -2.5684258e-04,  3.4710320e-04,  7.1257367e-05,\n",
       "        -8.0648321e-04,  6.3919893e-04, -9.8790368e-04,  6.5811335e-05,\n",
       "        -7.5183285e-05,  1.0317991e-03,  2.7889928e-05, -6.4246269e-04],\n",
       "       dtype=float32),\n",
       " array([-7.55033107e-04,  3.12492601e-04, -1.80814578e-03,  3.66751628e-04,\n",
       "        -4.66801604e-04,  2.33419152e-04, -3.81280879e-05, -9.62681719e-04,\n",
       "        -1.84853992e-03, -1.58712012e-03,  5.66633884e-04,  6.79967576e-04,\n",
       "        -2.21837836e-04, -1.23604899e-03,  1.54923531e-03,  2.07075995e-04,\n",
       "        -2.62515410e-03, -1.12027905e-04, -1.62069264e-05,  7.25031714e-04,\n",
       "         1.84177572e-03,  5.52183657e-04, -1.42162491e-03,  5.59028937e-04,\n",
       "         1.44404976e-03, -2.85999686e-03, -9.85167222e-04,  4.59020026e-04,\n",
       "        -7.85544835e-05, -3.38623067e-05,  6.37525663e-05, -4.86246310e-04,\n",
       "        -6.23520289e-04,  1.45373133e-03,  2.71588610e-03,  6.03426364e-04,\n",
       "        -1.69570802e-03,  9.59723198e-04, -2.33425206e-04,  1.18580519e-03,\n",
       "         1.96692388e-04,  4.29889988e-05, -1.11023325e-03,  4.22785495e-04,\n",
       "        -1.66947662e-03, -6.91279012e-04,  9.72299254e-04,  2.83417641e-04],\n",
       "       dtype=float32),\n",
       " array([0.70809245, 0.7076191 , 0.70796704, 0.7084422 , 0.7064679 ,\n",
       "        0.7070617 , 0.7097261 , 0.7195607 , 0.71598166, 0.705768  ,\n",
       "        0.7117422 , 0.709769  , 0.70611984, 0.7102163 , 0.72323805,\n",
       "        0.7075029 , 0.7081498 , 0.70791465, 0.70736337, 0.70635223,\n",
       "        0.7062489 , 0.70635825, 0.7119519 , 0.70673096, 0.707094  ,\n",
       "        0.71263105, 0.70577615, 0.7051089 , 0.7090043 , 0.71709347,\n",
       "        0.70605654, 0.711302  , 0.7059852 , 0.7144234 , 0.7099097 ,\n",
       "        0.7105863 , 0.7088353 , 0.7110767 , 0.70938915, 0.7086259 ,\n",
       "        0.7082302 , 0.70572287, 0.7116711 , 0.7115235 , 0.72721714,\n",
       "        0.71617705, 0.70622927, 0.7071406 ], dtype=float32),\n",
       " array([[[[ 1.35214394e-02,  1.70633721e-03, -3.97506356e-03, ...,\n",
       "            5.21053653e-03,  7.39526469e-03, -9.57586430e-03]],\n",
       " \n",
       "         [[ 1.27749778e-02, -7.75115914e-04, -1.14236437e-02, ...,\n",
       "            6.66646566e-03, -4.93130321e-03,  1.13612479e-02]],\n",
       " \n",
       "         [[-9.23439302e-03, -1.17460638e-02, -6.94052083e-03, ...,\n",
       "           -5.29029826e-03,  1.92152930e-03, -4.68268851e-03]],\n",
       " \n",
       "         ...,\n",
       " \n",
       "         [[ 6.50246628e-04, -8.19561630e-03, -2.03971448e-03, ...,\n",
       "           -3.61497304e-03, -6.46789279e-03, -7.81877059e-03]],\n",
       " \n",
       "         [[-8.70796479e-03,  1.36738243e-02,  4.46511293e-03, ...,\n",
       "           -5.77079691e-03, -1.12030935e-02, -2.99630896e-03]],\n",
       " \n",
       "         [[ 2.52976082e-03,  1.51167717e-03, -4.95468918e-03, ...,\n",
       "            1.13732005e-02,  1.44950552e-02,  9.38294362e-03]]],\n",
       " \n",
       " \n",
       "        [[[-1.22829750e-02,  2.43204506e-03, -7.65686948e-03, ...,\n",
       "           -6.56377664e-03,  8.52640625e-03, -5.21051884e-03]],\n",
       " \n",
       "         [[-5.44658909e-03, -2.57062260e-03, -1.05982283e-02, ...,\n",
       "           -2.98913661e-03,  3.62137822e-03,  7.13206967e-03]],\n",
       " \n",
       "         [[ 1.02462405e-02,  1.70162486e-04, -1.13924158e-04, ...,\n",
       "           -9.16425046e-03, -9.08892322e-03, -1.11969467e-02]],\n",
       " \n",
       "         ...,\n",
       " \n",
       "         [[ 1.18866581e-02, -3.83480499e-03,  1.21726571e-02, ...,\n",
       "           -3.91789200e-03,  7.57616153e-03, -1.11149875e-02]],\n",
       " \n",
       "         [[-8.67679901e-03, -9.55535378e-03,  2.44487170e-03, ...,\n",
       "            2.75536301e-03, -1.61767064e-03,  1.20365368e-02]],\n",
       " \n",
       "         [[-1.34393852e-03, -4.55921004e-03, -1.19411212e-04, ...,\n",
       "           -4.00124490e-03,  5.80700301e-03, -1.13117117e-02]]],\n",
       " \n",
       " \n",
       "        [[[-2.39537726e-03,  1.16700772e-02, -2.45220680e-03, ...,\n",
       "           -3.76038975e-03, -1.05552925e-02,  3.60876118e-04]],\n",
       " \n",
       "         [[-7.60456640e-03, -1.10431071e-02,  1.54858874e-03, ...,\n",
       "            6.64410600e-03,  1.14617432e-02,  7.58639711e-04]],\n",
       " \n",
       "         [[ 2.57576606e-03,  8.64603929e-03, -1.23140058e-02, ...,\n",
       "           -5.36310486e-03, -1.36482557e-02,  6.94646686e-03]],\n",
       " \n",
       "         ...,\n",
       " \n",
       "         [[-1.25868861e-02, -7.36637681e-04, -6.13605371e-03, ...,\n",
       "            6.11570477e-03, -1.18903415e-02,  6.22852240e-03]],\n",
       " \n",
       "         [[-2.41580396e-03,  1.02234667e-03, -7.62164826e-03, ...,\n",
       "           -5.18586813e-03, -8.85008834e-03, -1.33063840e-02]],\n",
       " \n",
       "         [[-1.16797620e-02,  5.40371565e-03, -7.85055198e-03, ...,\n",
       "            3.19894636e-03,  6.04953733e-04, -3.57054337e-03]]],\n",
       " \n",
       " \n",
       "        ...,\n",
       " \n",
       " \n",
       "        [[[ 3.39349266e-03,  5.68760233e-03,  9.06234886e-03, ...,\n",
       "            9.09358729e-03,  8.45959969e-03, -7.03386916e-03]],\n",
       " \n",
       "         [[ 2.09513656e-03, -5.39206201e-03, -8.28986429e-03, ...,\n",
       "           -8.82014725e-03, -4.34317160e-03,  1.09435292e-02]],\n",
       " \n",
       "         [[-1.19141135e-02, -6.12524804e-03,  1.17201861e-02, ...,\n",
       "            5.26692579e-03, -5.35280211e-03, -1.16387820e-02]],\n",
       " \n",
       "         ...,\n",
       " \n",
       "         [[ 9.08109546e-03, -3.96641379e-04, -6.70538004e-03, ...,\n",
       "           -2.82403990e-03, -5.47647104e-03, -1.06938221e-02]],\n",
       " \n",
       "         [[ 8.48437287e-03,  1.13253323e-02,  1.27080781e-02, ...,\n",
       "           -7.84734450e-03,  1.29182404e-02, -7.97482114e-03]],\n",
       " \n",
       "         [[-6.66812714e-03, -5.87481819e-03,  2.76463293e-03, ...,\n",
       "            5.93047065e-04, -3.06075835e-03,  1.55904389e-03]]],\n",
       " \n",
       " \n",
       "        [[[ 1.22097023e-02,  6.25078846e-03,  1.00032205e-03, ...,\n",
       "            1.16188275e-02,  6.77154772e-03,  9.65832919e-03]],\n",
       " \n",
       "         [[-1.21271424e-02, -5.32177323e-03,  1.01891197e-02, ...,\n",
       "            8.87385197e-03,  4.38283198e-03,  3.32055171e-03]],\n",
       " \n",
       "         [[ 4.69280547e-03,  5.16927242e-03,  2.75266403e-03, ...,\n",
       "            1.23071289e-02,  1.29161021e-02, -7.44490046e-03]],\n",
       " \n",
       "         ...,\n",
       " \n",
       "         [[-1.09289661e-02, -8.80403165e-03,  1.30232135e-02, ...,\n",
       "            8.35684687e-03,  6.16738573e-03, -2.23174552e-03]],\n",
       " \n",
       "         [[ 8.84578656e-03, -5.61224530e-03, -9.07585898e-04, ...,\n",
       "           -5.07682262e-06,  9.12631769e-03,  1.18305515e-02]],\n",
       " \n",
       "         [[ 1.18996026e-02, -1.07069407e-02,  4.10665153e-03, ...,\n",
       "            1.10972188e-02,  1.13182506e-02,  3.44573241e-03]]],\n",
       " \n",
       " \n",
       "        [[[ 6.70501217e-03, -8.77417997e-03,  7.32905744e-03, ...,\n",
       "            1.32748894e-02,  7.26603484e-03,  7.50814565e-03]],\n",
       " \n",
       "         [[-8.22280627e-03,  1.06901703e-02, -1.03113800e-02, ...,\n",
       "           -1.95910063e-04,  2.50898092e-03, -8.79998691e-03]],\n",
       " \n",
       "         [[ 9.01229959e-03,  2.33304454e-04,  9.57807805e-03, ...,\n",
       "           -8.28979257e-03,  1.36263529e-02,  6.27534639e-04]],\n",
       " \n",
       "         ...,\n",
       " \n",
       "         [[-1.17771002e-02, -3.07856500e-03, -2.27996078e-03, ...,\n",
       "           -9.15569719e-03,  7.29717966e-03, -4.76837577e-03]],\n",
       " \n",
       "         [[-4.90989443e-03,  1.41107207e-02, -1.96444802e-03, ...,\n",
       "            1.37377372e-02, -3.99492634e-03,  1.33397188e-02]],\n",
       " \n",
       "         [[ 1.01533728e-02, -3.85149755e-03,  6.84585795e-03, ...,\n",
       "           -9.19179060e-03, -8.63350648e-03,  2.39522289e-03]]]],\n",
       "       dtype=float32),\n",
       " array([-1.52454653e-04, -5.05624885e-05,  2.71754971e-06,  1.35485287e-04,\n",
       "         2.65675203e-06,  1.40034565e-04,  8.10676938e-05, -3.95868032e-04,\n",
       "        -2.80839216e-04, -2.82683410e-04, -2.00848808e-04, -3.55680910e-04,\n",
       "         5.04952332e-04, -1.22701176e-05, -1.02983449e-06, -1.56601920e-04,\n",
       "         2.48108172e-05, -1.96911424e-04, -1.82414879e-05, -2.96478858e-04,\n",
       "        -5.09830461e-05, -1.61421689e-04,  7.00306118e-05,  3.87582142e-04,\n",
       "        -3.20864987e-04, -1.93574349e-04, -1.16216805e-04, -2.05616932e-04,\n",
       "        -2.53939943e-04,  2.39399669e-04, -4.46729837e-06,  1.02652666e-04,\n",
       "        -7.06517530e-05, -1.19610238e-04,  7.35114954e-05,  8.65771995e-07,\n",
       "         2.29875615e-04,  3.20513573e-05,  7.67609818e-05,  8.35895917e-05,\n",
       "        -2.53302715e-04,  1.39127529e-04,  3.52335701e-05, -9.84008366e-05,\n",
       "        -2.90001743e-04,  3.36162571e-04,  2.77191517e-04,  7.75544613e-05,\n",
       "         1.32224450e-04, -1.58118462e-04,  3.03380861e-04,  1.56610258e-04,\n",
       "         6.95596536e-05, -1.21376172e-04,  8.33062877e-05,  8.17556574e-05,\n",
       "         2.02854062e-04, -9.48370507e-05, -5.77481796e-06, -6.99591474e-05,\n",
       "         1.24114333e-04,  2.19363774e-05,  6.32507290e-05,  3.18446808e-04],\n",
       "       dtype=float32),\n",
       " array([0.99920285, 0.9990885 , 1.0004039 , 1.0003797 , 0.9999139 ,\n",
       "        0.99961066, 1.0001771 , 1.0001813 , 0.9996696 , 0.9998418 ,\n",
       "        0.99895686, 0.99994266, 0.9993323 , 0.9994035 , 0.999296  ,\n",
       "        1.0009035 , 1.0001438 , 1.000166  , 1.0003273 , 0.99979293,\n",
       "        1.0003496 , 1.0003824 , 1.0003393 , 0.99958915, 1.0001111 ,\n",
       "        0.99952936, 0.9996726 , 0.999373  , 0.9999627 , 0.9993906 ,\n",
       "        1.0019194 , 0.9994828 , 1.0004234 , 1.0005809 , 1.000079  ,\n",
       "        1.000752  , 1.0017737 , 0.99953234, 0.99890965, 0.9986894 ,\n",
       "        0.99914134, 0.9998061 , 1.0012199 , 1.0007327 , 0.999523  ,\n",
       "        1.0000826 , 1.0002092 , 0.99951774, 0.9993092 , 1.0002083 ,\n",
       "        1.0003915 , 1.0001025 , 0.99939144, 0.9992095 , 0.99917775,\n",
       "        0.9989433 , 1.0006355 , 1.000879  , 1.000564  , 1.000933  ,\n",
       "        1.0000893 , 0.99902695, 1.0008087 , 1.0004667 ], dtype=float32),\n",
       " array([-1.8464970e-04, -3.8659899e-04, -1.2528474e-04,  3.2966406e-04,\n",
       "        -3.7491941e-04, -9.2292146e-04,  3.8159004e-04, -3.6015164e-05,\n",
       "        -3.9004791e-04,  1.3073291e-04, -6.7094452e-04, -4.7235205e-04,\n",
       "        -8.9870900e-04, -5.3876080e-04, -1.0095906e-03,  1.0682214e-03,\n",
       "         2.4966439e-04,  1.4422392e-04, -6.6266663e-04, -1.1255434e-03,\n",
       "         1.1760213e-03,  5.3319405e-04,  5.5744062e-04, -2.1388673e-04,\n",
       "         2.1062544e-04, -5.7476375e-04, -8.7490218e-04, -3.7651148e-04,\n",
       "        -6.1470678e-04, -2.4993403e-04,  1.1960289e-03,  9.2648773e-04,\n",
       "         3.4633212e-04,  8.3103101e-04,  1.5917580e-04,  9.8597237e-05,\n",
       "         1.5114757e-03, -6.5362343e-04, -1.6868331e-03, -1.0315609e-03,\n",
       "        -1.0790037e-03, -6.5530022e-04,  1.1759673e-03,  6.9226103e-04,\n",
       "         2.3517276e-05, -1.2738901e-04,  6.0679961e-04, -9.6319505e-04,\n",
       "        -8.9420174e-04,  5.0908350e-04,  2.5861867e-04,  9.0350775e-04,\n",
       "        -3.6531151e-04, -3.6591029e-04, -4.8830319e-04, -6.1135425e-04,\n",
       "         2.9540644e-04,  5.0502131e-04,  5.5882806e-04,  7.7230833e-04,\n",
       "         5.5493595e-04, -1.0929299e-03,  6.2791380e-04,  2.2617393e-04],\n",
       "       dtype=float32),\n",
       " array([-0.00135823, -0.00794307,  0.00755742, -0.00387687,  0.01815379,\n",
       "        -0.00666457,  0.00375758,  0.0260031 , -0.01506214,  0.01426943,\n",
       "         0.02188755, -0.03803972, -0.00035434, -0.00870333,  0.00309046,\n",
       "        -0.00296246,  0.0055339 , -0.00552139,  0.00264607,  0.00327276,\n",
       "         0.00322694, -0.01309345,  0.01861159, -0.00900337, -0.01289412,\n",
       "         0.00490557,  0.00289293,  0.00526439, -0.01392925,  0.00845383,\n",
       "        -0.00409815,  0.00743378, -0.01214493, -0.029069  , -0.00352013,\n",
       "         0.0021654 ,  0.02069754,  0.00582878,  0.01923219,  0.00540007,\n",
       "        -0.00696097, -0.01105328, -0.00212471,  0.00215115,  0.03270765,\n",
       "         0.02063285,  0.00561277, -0.01695828, -0.01822514,  0.01732286,\n",
       "         0.00928612, -0.0087964 ,  0.00692265, -0.02359233,  0.00848435,\n",
       "        -0.00036543, -0.01537985,  0.00124375, -0.01116516, -0.00204884,\n",
       "         0.00709397, -0.02246058, -0.00341018, -0.00983946], dtype=float32),\n",
       " array([0.7079585 , 0.7077541 , 0.7112667 , 0.706583  , 0.7098746 ,\n",
       "        0.7081969 , 0.70969707, 0.7083253 , 0.7079841 , 0.70699364,\n",
       "        0.709111  , 0.70845234, 0.70646036, 0.71032304, 0.706641  ,\n",
       "        0.70617646, 0.70971674, 0.71469533, 0.706467  , 0.7064034 ,\n",
       "        0.7086737 , 0.70797235, 0.70615846, 0.70648414, 0.7147928 ,\n",
       "        0.7051445 , 0.7057077 , 0.70785266, 0.71200806, 0.71164477,\n",
       "        0.70857495, 0.70830315, 0.7083794 , 0.71333724, 0.7122674 ,\n",
       "        0.7067347 , 0.70730895, 0.7057812 , 0.7061129 , 0.70764047,\n",
       "        0.70538145, 0.70690477, 0.70709956, 0.7077556 , 0.70888805,\n",
       "        0.7109734 , 0.7068978 , 0.70847136, 0.706817  , 0.7074404 ,\n",
       "        0.70646805, 0.70755124, 0.7098745 , 0.7085831 , 0.70703393,\n",
       "        0.70500463, 0.7084548 , 0.70777595, 0.7084999 , 0.71368974,\n",
       "        0.7093062 , 0.7084497 , 0.7110442 , 0.7091787 ], dtype=float32),\n",
       " array([[[ 3.90467495e-02,  1.86590496e-02,  2.44021434e-02, ...,\n",
       "          -1.99465621e-02,  5.00205681e-02,  7.85791129e-03],\n",
       "         [-3.28454785e-02,  3.85146365e-02,  3.38583514e-02, ...,\n",
       "           1.23083433e-02, -3.70416977e-02, -1.39159271e-02],\n",
       "         [ 4.05966975e-02,  4.30156291e-02,  3.67358252e-02, ...,\n",
       "          -4.00390802e-03, -3.42487842e-02, -1.24393338e-02],\n",
       "         ...,\n",
       "         [ 2.15846077e-02, -5.46594616e-04,  4.75117005e-02, ...,\n",
       "          -8.93924665e-03, -3.72308828e-02,  2.97104251e-02],\n",
       "         [ 7.10530858e-03, -4.37709726e-02, -1.30464965e-02, ...,\n",
       "           3.43753770e-02,  1.80767309e-02,  3.66501361e-02],\n",
       "         [-2.68201046e-02, -1.74538251e-02,  3.29350680e-02, ...,\n",
       "           3.76939140e-02,  1.00422371e-02,  4.33482602e-02]],\n",
       " \n",
       "        [[-1.99396703e-02, -1.95284840e-02,  3.85765941e-03, ...,\n",
       "           1.60529744e-02,  5.45200668e-02, -1.17876152e-05],\n",
       "         [-4.40145209e-02,  1.59202814e-02,  5.39745837e-02, ...,\n",
       "          -1.45026604e-02, -4.58588712e-02,  1.69268101e-02],\n",
       "         [-3.93376499e-02,  2.14156639e-02,  5.46224415e-02, ...,\n",
       "          -5.05143653e-05,  1.85101689e-03, -4.74932007e-02],\n",
       "         ...,\n",
       "         [-4.83849421e-02,  5.20585813e-02, -2.72637606e-02, ...,\n",
       "          -4.65802513e-02,  6.22086227e-03, -1.90438181e-02],\n",
       "         [-4.53539155e-02,  3.43697667e-02,  9.44174640e-03, ...,\n",
       "           9.29334550e-04, -1.39170734e-05, -2.04550158e-02],\n",
       "         [-3.27739567e-02, -4.92870100e-02, -5.03170863e-02, ...,\n",
       "          -6.45196764e-04, -3.47967818e-02, -1.53561477e-02]],\n",
       " \n",
       "        [[-1.84465777e-02,  1.86994988e-02, -2.22740322e-03, ...,\n",
       "          -1.96910389e-02, -2.27556075e-03, -5.19660376e-02],\n",
       "         [ 5.06414101e-02,  3.37608927e-03,  3.36872898e-02, ...,\n",
       "           3.47362901e-03, -1.10211745e-02, -4.18612249e-02],\n",
       "         [ 5.30032739e-02, -4.19108905e-02,  4.57179286e-02, ...,\n",
       "           3.14802825e-02,  4.06360254e-02, -2.62313187e-02],\n",
       "         ...,\n",
       "         [-4.30422239e-02, -4.31917012e-02,  1.91713888e-02, ...,\n",
       "           4.44505401e-02, -3.82214710e-02, -5.37182130e-02],\n",
       "         [ 3.63838822e-02, -3.55872437e-02,  5.42049333e-02, ...,\n",
       "          -5.12661524e-02,  3.62506844e-02, -3.95531505e-02],\n",
       "         [ 4.86244299e-02,  3.20844003e-03,  4.32310253e-02, ...,\n",
       "           4.08197306e-02,  2.06680465e-02,  1.03842830e-02]],\n",
       " \n",
       "        ...,\n",
       " \n",
       "        [[ 4.85463329e-02,  3.48502258e-03, -5.30555025e-02, ...,\n",
       "          -1.08932806e-02, -8.29360168e-03,  3.65322977e-02],\n",
       "         [-4.26229984e-02, -5.46475239e-02,  2.70583332e-02, ...,\n",
       "           4.89732511e-02,  2.40925699e-02,  3.16470861e-02],\n",
       "         [ 1.27944844e-02, -3.15404311e-02,  2.02731788e-02, ...,\n",
       "           2.90596881e-03,  1.82048641e-02, -1.78052932e-02],\n",
       "         ...,\n",
       "         [-5.24746962e-02,  1.75363794e-02,  3.49983349e-02, ...,\n",
       "           3.49165574e-02,  3.27251516e-02, -1.52909178e-02],\n",
       "         [-4.54875670e-04, -4.17511277e-02,  1.65384747e-02, ...,\n",
       "           5.10095507e-02,  2.26548761e-02, -5.45971021e-02],\n",
       "         [-5.11857644e-02,  5.45700267e-02, -5.70359873e-03, ...,\n",
       "           4.90622893e-02, -1.45025989e-02,  3.58672552e-02]],\n",
       " \n",
       "        [[ 3.43417451e-02, -3.77071127e-02,  4.30450775e-03, ...,\n",
       "          -4.93048392e-02, -3.25094424e-02, -5.37514053e-02],\n",
       "         [ 3.68687697e-02,  4.13233303e-02, -1.30093023e-02, ...,\n",
       "          -4.57799211e-02,  5.53748980e-02,  5.27913943e-02],\n",
       "         [ 4.68674041e-02, -6.18406339e-03, -9.15558822e-03, ...,\n",
       "          -4.40139323e-02,  2.27645952e-02, -4.82730800e-03],\n",
       "         ...,\n",
       "         [-7.87525252e-03, -4.34951484e-02, -7.00863777e-03, ...,\n",
       "           2.73852143e-02, -3.98515351e-02,  1.39143700e-02],\n",
       "         [ 2.90758871e-02, -1.60789974e-02, -1.71563514e-02, ...,\n",
       "          -7.96722900e-03, -3.55937295e-02,  2.93938126e-02],\n",
       "         [ 1.62259247e-02, -4.34185527e-02, -7.91124068e-03, ...,\n",
       "          -1.68234184e-02,  3.23855169e-02, -7.35582737e-03]],\n",
       " \n",
       "        [[ 2.68686563e-02,  5.14893560e-04,  3.59213986e-02, ...,\n",
       "           1.82135706e-03,  4.20661122e-02,  2.39362046e-02],\n",
       "         [-1.54565005e-02,  2.01375242e-02, -4.59986739e-02, ...,\n",
       "           9.52772330e-03, -2.07182579e-02, -4.05161791e-02],\n",
       "         [ 5.18653914e-02,  2.72959862e-02, -1.64912939e-02, ...,\n",
       "           3.67983207e-02,  6.71409024e-03, -5.48125766e-02],\n",
       "         ...,\n",
       "         [-2.45866794e-02,  4.20214534e-02, -3.08630932e-02, ...,\n",
       "           4.04229015e-02,  5.98416105e-03,  4.58720289e-02],\n",
       "         [-4.20711190e-02, -3.72014329e-05,  1.84443388e-02, ...,\n",
       "           5.05094416e-02, -2.18434492e-03, -1.75541211e-02],\n",
       "         [ 4.85496521e-02,  5.55547886e-02, -5.19130044e-02, ...,\n",
       "           5.29376185e-03, -2.05299743e-02, -4.01038416e-02]]],\n",
       "       dtype=float32),\n",
       " array([ 5.75249978e-05, -1.02395898e-05,  4.47523053e-05, -4.44711222e-05,\n",
       "         2.79055366e-05,  6.20136780e-05,  4.61188029e-05,  5.17228764e-05,\n",
       "        -1.56011574e-05, -5.27159909e-06, -2.94832280e-05, -3.71908791e-05,\n",
       "         1.44560863e-06, -1.80038951e-05,  2.24124997e-05, -2.60800243e-05,\n",
       "        -6.01186875e-05,  3.67695066e-05, -4.75203960e-05,  1.42313420e-05,\n",
       "        -3.48553367e-05, -3.70825092e-06,  5.58201282e-05, -3.38021273e-05,\n",
       "         2.97284678e-05, -4.94417066e-07,  4.68911685e-06,  5.36232119e-06,\n",
       "         1.03343041e-08,  7.24617530e-06, -5.07185578e-05,  1.03607581e-05,\n",
       "        -9.46350247e-06,  2.39770761e-05,  2.03418767e-06,  5.60274430e-07,\n",
       "        -7.04557679e-05, -9.35641438e-05,  6.47917841e-05,  1.20445933e-04,\n",
       "        -8.53658712e-05, -3.62351821e-05, -8.09721168e-05,  1.83897669e-06,\n",
       "         1.07516229e-04,  5.49559372e-05,  5.12243532e-05, -2.03486034e-05,\n",
       "        -1.51252116e-05, -6.36692494e-05, -1.94590357e-05, -1.22789652e-06,\n",
       "         4.47019520e-05, -7.82787247e-05,  2.09418540e-05,  1.71744450e-05,\n",
       "        -6.33690661e-07, -3.12691736e-05,  1.06495963e-05,  2.52030823e-05,\n",
       "        -2.29687430e-05,  5.74952028e-05,  7.32240296e-05, -2.37275708e-05,\n",
       "        -3.58849093e-07, -1.31037232e-05, -5.10656173e-05, -5.21323364e-06,\n",
       "        -1.98085272e-05,  2.53257531e-05, -1.74621273e-05, -1.39284191e-06,\n",
       "         3.86982028e-05,  3.26694098e-05,  1.39845988e-05,  7.31124783e-06,\n",
       "        -1.41601759e-05,  1.68812730e-05,  2.11240713e-05, -8.02655995e-05,\n",
       "         2.46159948e-06,  3.69182962e-05, -1.66076952e-05, -5.63051326e-05,\n",
       "         2.86823433e-06,  1.97709560e-05, -8.83037774e-06, -1.22020110e-05,\n",
       "        -6.79431025e-07, -1.36220560e-05,  1.31107490e-05,  9.53101116e-05,\n",
       "        -2.58362452e-05,  1.36580275e-05,  1.50524229e-05,  8.97222162e-06,\n",
       "        -1.72488926e-05,  1.50049927e-05, -8.33943977e-06,  1.63028726e-05,\n",
       "        -3.13457858e-05,  6.68740358e-06,  2.29881662e-05, -8.92427579e-06,\n",
       "         1.06390626e-05,  3.66803965e-06,  3.68877045e-05, -4.20777578e-05,\n",
       "         6.10942652e-06, -3.57932404e-05,  2.13824242e-05, -6.58375211e-05,\n",
       "         3.14768731e-05, -2.91132419e-05, -1.33732774e-05,  6.28632115e-05,\n",
       "         4.07956722e-05, -4.44952166e-05, -3.68890032e-05, -3.49791480e-05,\n",
       "        -3.77802207e-05, -4.34360263e-05, -1.02189751e-05,  1.91069175e-05,\n",
       "         1.95174507e-05, -3.01210239e-05, -6.29661954e-05, -1.22022902e-05],\n",
       "       dtype=float32),\n",
       " array([0.9983705 , 0.9987934 , 0.99895   , 0.99852747, 0.9996275 ,\n",
       "        1.0001944 , 1.0000101 , 0.99911475, 0.9990736 , 0.9993423 ,\n",
       "        0.99947405, 0.9987349 , 0.9991889 , 0.9988095 , 1.0003238 ,\n",
       "        0.99891984, 0.999772  , 0.99963075, 0.9991017 , 0.9988328 ,\n",
       "        0.9996626 , 0.99933976, 0.9986878 , 0.9996293 , 0.99884665,\n",
       "        0.9998844 , 0.99917954, 0.9995591 , 1.0000561 , 0.9991067 ,\n",
       "        0.9999485 , 0.9988699 , 0.9999966 , 0.9988946 , 0.9989325 ,\n",
       "        0.9998587 , 0.9991069 , 0.9994903 , 0.9999284 , 0.9990321 ,\n",
       "        0.99984175, 0.9989382 , 0.9989037 , 0.99936825, 0.99887645,\n",
       "        0.9991843 , 0.9991153 , 1.0007777 , 0.99837375, 1.0002223 ,\n",
       "        0.9987318 , 0.9995373 , 0.999889  , 0.99926937, 0.9986444 ,\n",
       "        0.9993487 , 1.0000516 , 0.9995315 , 0.9983351 , 0.99902713,\n",
       "        1.0006615 , 1.0003314 , 0.99911493, 0.99912673, 0.9993357 ,\n",
       "        0.99890167, 0.99912465, 0.9990704 , 0.999581  , 1.0001136 ,\n",
       "        0.99877965, 0.9996332 , 0.9986164 , 1.0000399 , 0.9987114 ,\n",
       "        0.9986583 , 1.0002786 , 1.0003343 , 0.9990374 , 0.9999647 ,\n",
       "        0.9989462 , 1.0001047 , 0.9990614 , 0.9989358 , 1.0000638 ,\n",
       "        0.9996402 , 0.99972135, 0.9999031 , 0.9988499 , 0.99939686,\n",
       "        1.0002578 , 0.9983141 , 0.9988735 , 1.0002682 , 0.9984672 ,\n",
       "        0.99850583, 0.9987896 , 0.99807847, 0.9992793 , 0.9997161 ,\n",
       "        0.9991571 , 1.0004269 , 0.9992333 , 1.0005074 , 0.99957037,\n",
       "        1.0008931 , 0.99879736, 0.9999611 , 0.99856776, 0.99913275,\n",
       "        0.9992381 , 1.0002224 , 0.998476  , 0.99927145, 1.000273  ,\n",
       "        0.99950945, 0.9993194 , 0.9995365 , 0.99999344, 0.99965185,\n",
       "        0.99913746, 0.9999113 , 0.9996297 , 0.9994264 , 0.9995857 ,\n",
       "        0.9992653 , 0.9997596 , 0.9992238 ], dtype=float32),\n",
       " array([-1.29288284e-03, -1.23897952e-03, -5.89963631e-04, -1.02220722e-04,\n",
       "        -4.01629193e-04,  8.23856448e-04,  2.62605521e-04, -9.66421154e-04,\n",
       "        -1.12220307e-03, -2.04467913e-04, -1.10775710e-03, -1.22586149e-03,\n",
       "        -1.37486088e-03, -1.44666072e-03,  1.01488447e-04, -1.06551044e-03,\n",
       "         7.45594269e-04,  1.26326369e-04,  3.25530156e-04, -1.35948241e-03,\n",
       "         6.11340452e-04, -9.18372592e-04, -1.15278410e-03,  2.15628475e-04,\n",
       "        -1.52524374e-03, -5.56814302e-05, -2.73532176e-04, -6.42728992e-04,\n",
       "         7.75620574e-04,  1.86740974e-04,  3.75990552e-04, -4.17935807e-04,\n",
       "        -1.39450509e-04, -7.82944669e-04, -3.65376618e-04, -8.72890814e-05,\n",
       "        -1.50760112e-03,  2.81954883e-04, -5.99432795e-04, -1.13813300e-03,\n",
       "         5.20310423e-04, -6.15226338e-04,  1.73868751e-03, -4.14353213e-04,\n",
       "        -2.24848900e-05, -1.50876283e-03, -7.27196675e-05,  2.94463243e-04,\n",
       "        -1.51333376e-03,  8.19017936e-04, -1.02874974e-03, -8.87178525e-04,\n",
       "         4.79713024e-04, -1.00165291e-03, -9.83659993e-04, -5.00525581e-04,\n",
       "         8.00938520e-04,  7.40712159e-04, -1.03762046e-04, -2.73065438e-04,\n",
       "         7.70149287e-04, -1.63506862e-04, -1.71267253e-03, -2.06815050e-04,\n",
       "        -6.57358498e-04, -3.35979974e-04, -9.34760552e-04, -1.16993370e-03,\n",
       "        -1.02103385e-03,  4.26198472e-04, -1.51431072e-03,  3.96116840e-04,\n",
       "        -4.04660444e-04,  9.72111011e-04, -9.32661118e-04, -1.30641134e-03,\n",
       "         1.16583554e-03,  1.37143629e-03, -3.73833580e-04,  2.29164325e-05,\n",
       "        -1.39024353e-03, -1.03118876e-03, -1.85027253e-04, -8.05891003e-04,\n",
       "        -2.42891310e-05,  3.79580801e-04, -5.47521398e-04, -6.82946848e-06,\n",
       "         7.50812760e-05,  2.93464662e-04,  6.28608395e-04, -1.72557530e-03,\n",
       "        -6.04974339e-04,  6.22209569e-04, -6.25782355e-04, -5.25060750e-04,\n",
       "        -1.66487193e-03, -1.12289831e-03, -4.24970000e-04, -2.37871180e-04,\n",
       "        -9.25445231e-04,  6.35166944e-04,  7.26889702e-05,  7.40688702e-04,\n",
       "        -3.43740103e-05,  3.28546506e-04, -1.33588712e-03, -2.78993248e-04,\n",
       "        -9.93290101e-04,  1.54172958e-04, -1.02763087e-03,  3.55170545e-04,\n",
       "        -7.19500124e-04,  5.86771290e-04,  6.45214284e-04, -1.01383695e-04,\n",
       "        -7.73329346e-04,  5.10340673e-04, -4.25340986e-05,  5.03724907e-04,\n",
       "        -1.16983464e-03,  2.38165623e-04, -1.14946952e-03, -1.03201150e-04,\n",
       "         1.54810783e-04,  4.32496134e-04, -2.02058349e-03, -6.89288310e-04],\n",
       "       dtype=float32),\n",
       " array([ 0.04273029, -0.01023413,  0.05590297,  0.020427  , -0.05032374,\n",
       "        -0.12883414, -0.01085465, -0.00614401,  0.03532581,  0.00221132,\n",
       "        -0.03169155, -0.0980204 ,  0.07479368, -0.03257321, -0.06334677,\n",
       "        -0.00614928, -0.0802332 ,  0.10277735, -0.13149019,  0.09683835,\n",
       "         0.14503424,  0.02926024, -0.07098582,  0.0079064 , -0.02547773,\n",
       "         0.14189918, -0.07069822, -0.05026083,  0.03982383,  0.03636621,\n",
       "        -0.05519389, -0.00928607, -0.02192207,  0.02601888, -0.05440354,\n",
       "        -0.07642613, -0.08097463,  0.03003551,  0.04273962,  0.02120615,\n",
       "        -0.11433841,  0.06655172,  0.08540925, -0.01159027,  0.02149206,\n",
       "         0.06677944, -0.06657559,  0.0235489 ,  0.04021021, -0.05678527,\n",
       "         0.00184913, -0.04829732, -0.07286216, -0.0183822 ,  0.13852629,\n",
       "         0.0050108 ,  0.05456509, -0.00988911,  0.08877404, -0.0748953 ,\n",
       "        -0.03153992, -0.03198208,  0.16775168,  0.02482852,  0.02488079,\n",
       "         0.04671059, -0.00632505, -0.00850331,  0.01988487, -0.01249906,\n",
       "        -0.03995389, -0.04684016,  0.05085135, -0.02562165,  0.11791688,\n",
       "         0.0266094 , -0.00093928,  0.02083183, -0.0781619 , -0.01382147,\n",
       "         0.00406853, -0.01500473, -0.02225414, -0.00691081,  0.07422519,\n",
       "         0.00598709,  0.0806603 , -0.02360977, -0.0036352 , -0.00760625,\n",
       "        -0.02853719, -0.09538098, -0.0221349 ,  0.10590467, -0.01437408,\n",
       "         0.05025557,  0.05251919, -0.06392555, -0.07821376, -0.13406049,\n",
       "         0.02195068, -0.08313231,  0.00677397,  0.10446298,  0.04929987,\n",
       "         0.10076714, -0.12051857, -0.04432718,  0.04866058,  0.08343483,\n",
       "        -0.13879882, -0.11084687,  0.10300949,  0.02929453, -0.06952315,\n",
       "         0.07554518,  0.0173419 ,  0.02387518,  0.08488162, -0.07039778,\n",
       "         0.03880506,  0.05475089,  0.07938681, -0.12124819, -0.0653961 ,\n",
       "         0.09917609, -0.0511588 , -0.02046615], dtype=float32),\n",
       " array([0.92037094, 0.84690773, 0.8164749 , 0.7664002 , 0.78451824,\n",
       "        0.86927646, 0.7527599 , 0.8233322 , 0.773583  , 0.76663524,\n",
       "        0.77902734, 0.8458444 , 0.8289599 , 0.82337713, 0.74996114,\n",
       "        0.7781622 , 0.78424776, 0.7892409 , 0.7757781 , 0.8363024 ,\n",
       "        0.7726506 , 0.77366173, 0.7981551 , 0.8039045 , 0.761266  ,\n",
       "        0.80718035, 0.83871824, 0.75448483, 0.84326583, 0.7590145 ,\n",
       "        0.7594942 , 0.8718843 , 0.83175176, 0.760343  , 0.7639769 ,\n",
       "        0.7857964 , 0.7661865 , 0.74646825, 0.772021  , 0.74630356,\n",
       "        0.8248926 , 0.8077139 , 0.8120054 , 0.78645223, 0.7763668 ,\n",
       "        0.8123019 , 0.77018505, 0.7616137 , 0.85900784, 0.8063662 ,\n",
       "        0.7770605 , 0.743621  , 0.8121319 , 0.78300124, 0.8046851 ,\n",
       "        0.76567715, 0.7986701 , 0.7759246 , 0.806163  , 0.8139213 ,\n",
       "        0.7770092 , 0.80113405, 0.7880405 , 0.7687735 , 0.7697212 ,\n",
       "        0.8435468 , 0.9032056 , 0.86933374, 0.82812566, 0.7831412 ,\n",
       "        0.7772888 , 0.7595337 , 0.7700178 , 0.78860265, 0.7842148 ,\n",
       "        0.84618247, 0.8534849 , 0.82353485, 0.7927668 , 0.80354804,\n",
       "        0.7735493 , 0.8642094 , 0.7844941 , 0.82284284, 0.7833247 ,\n",
       "        0.79636884, 0.7759285 , 0.8202512 , 0.760043  , 0.79711336,\n",
       "        0.8254737 , 0.7595888 , 0.8245252 , 0.77729046, 0.7814772 ,\n",
       "        0.7755331 , 0.77071714, 0.7681991 , 0.80068505, 0.8395474 ,\n",
       "        0.7816505 , 0.8484297 , 0.82772964, 0.79198164, 0.7766739 ,\n",
       "        0.7942909 , 0.772994  , 0.8778707 , 0.77390903, 0.8436152 ,\n",
       "        0.7716359 , 0.780023  , 0.82495135, 0.8486236 , 0.78810096,\n",
       "        0.79222244, 0.79348814, 0.8602122 , 0.80913085, 0.76634103,\n",
       "        0.7596565 , 0.7616742 , 0.86032116, 0.7839017 , 0.8733622 ,\n",
       "        0.8241286 , 0.8162632 , 0.7742554 ], dtype=float32),\n",
       " array([[-0.01604887,  0.03653743,  0.00637545, ...,  0.01370366,\n",
       "          0.02120923, -0.02378367],\n",
       "        [ 0.0290699 , -0.00362739, -0.00905206, ..., -0.01068311,\n",
       "         -0.0016275 ,  0.03009869],\n",
       "        [-0.0037961 , -0.03212242, -0.03341776, ..., -0.01196522,\n",
       "          0.02699743,  0.00363747],\n",
       "        ...,\n",
       "        [ 0.01472363, -0.01468794, -0.01928751, ...,  0.00673854,\n",
       "         -0.01166371,  0.02842724],\n",
       "        [-0.01509941,  0.01892761,  0.0191471 , ...,  0.0160042 ,\n",
       "         -0.01082976, -0.01825557],\n",
       "        [-0.01656741, -0.01953835, -0.02262376, ..., -0.01404792,\n",
       "          0.01126833, -0.021353  ]], dtype=float32),\n",
       " array([-5.7700300e-04, -5.3787354e-04, -8.1239076e-04, -9.4878703e-04,\n",
       "         6.6755380e-04, -4.1763522e-04,  7.9734635e-04, -1.3958544e-03,\n",
       "        -1.4970580e-03, -1.5885276e-03, -1.2272311e-03, -2.2160311e-05,\n",
       "        -8.2450430e-04, -9.2639937e-05, -9.7533030e-04, -3.3237833e-05,\n",
       "        -3.5359329e-04, -4.8995798e-04,  1.2343421e-03,  3.5940969e-04,\n",
       "        -2.2438372e-04, -3.9926192e-04, -1.1463654e-03, -6.6640403e-04,\n",
       "        -1.3621375e-03, -1.4669689e-03, -4.3992428e-04, -1.0024239e-03,\n",
       "        -7.2784926e-04,  1.6055319e-04, -7.9412502e-04,  2.3216124e-04,\n",
       "        -3.7405419e-04, -7.3846191e-04, -7.5262447e-04,  1.3939823e-03,\n",
       "         1.0833157e-03, -7.6674722e-04,  5.1213615e-04, -2.8922581e-04,\n",
       "        -1.9934557e-04,  5.7885883e-04, -6.1643973e-04,  2.4998188e-04,\n",
       "        -1.1310753e-03, -7.3449558e-04,  2.5547066e-04, -1.0062467e-03,\n",
       "        -4.9817731e-04, -1.1814035e-03, -7.9643680e-04, -7.2548905e-04,\n",
       "        -1.5416730e-03, -9.7445532e-04, -6.0993287e-04,  6.6843815e-04,\n",
       "         1.3679732e-04,  5.5182631e-05, -9.5949695e-04, -2.0223889e-03,\n",
       "        -1.5046458e-03, -6.9309528e-05,  1.4832841e-03, -1.4153990e-03,\n",
       "        -1.3681762e-03, -1.6262294e-03, -1.8248626e-03, -6.3329679e-04,\n",
       "         3.0000214e-04, -1.1422769e-03, -7.0098031e-07, -2.0140110e-04,\n",
       "        -6.5190159e-04, -4.9986178e-04, -5.8363721e-04, -1.2164924e-03,\n",
       "        -7.9516723e-04, -3.9199367e-04, -3.0503556e-04, -4.8199316e-04,\n",
       "        -5.8147256e-05, -1.1096871e-03, -7.2653333e-05,  7.4742397e-04,\n",
       "        -1.0243651e-03, -1.9118028e-04, -1.4016628e-03, -1.4405262e-03,\n",
       "         1.0116323e-03, -1.2748025e-03, -1.5512129e-03, -8.8454707e-04,\n",
       "        -8.7553612e-04, -6.8945269e-04, -6.1297597e-04, -7.2492496e-04,\n",
       "        -6.3704979e-04, -1.2240722e-03,  2.9266421e-05,  2.5021168e-04],\n",
       "       dtype=float32),\n",
       " array([[-0.14754654,  0.12877202,  0.10825844, ...,  0.10700176,\n",
       "          0.11318785,  0.02779184],\n",
       "        [ 0.02845844,  0.09020594,  0.01390829, ..., -0.06297969,\n",
       "         -0.17080767, -0.11266147],\n",
       "        [ 0.15018676,  0.00621612,  0.08272021, ...,  0.0557619 ,\n",
       "          0.18323225, -0.04160606],\n",
       "        ...,\n",
       "        [ 0.1865942 , -0.08351686, -0.14959234, ...,  0.03788027,\n",
       "          0.06348469,  0.11948769],\n",
       "        [ 0.01747275, -0.06259253,  0.11367387, ..., -0.11694853,\n",
       "          0.17313986, -0.06340572],\n",
       "        [-0.13699009, -0.07147484,  0.04915933, ...,  0.08452835,\n",
       "         -0.09242363, -0.15811205]], dtype=float32),\n",
       " array([-9.6019887e-04,  1.3488017e-03, -1.4296722e-03, -3.8172639e-04,\n",
       "        -9.1753213e-04, -1.5027371e-03, -1.4479321e-03, -2.5829731e-04,\n",
       "        -1.5119276e-03, -2.5967171e-04, -2.4807792e-05, -1.8660335e-03,\n",
       "         8.1544538e-04,  1.5248000e-03, -8.7677117e-04, -4.5716140e-04,\n",
       "        -8.0301397e-04,  1.6170295e-04, -2.5145771e-04,  1.6167949e-04,\n",
       "        -9.3091541e-04, -3.9186678e-04,  7.3104684e-04, -7.6930108e-04,\n",
       "        -1.7865741e-06, -1.7443523e-03,  2.5568396e-04,  5.1330362e-04,\n",
       "        -5.6003733e-04,  7.6087767e-05, -1.5338146e-03, -1.5219034e-03,\n",
       "        -1.1837528e-04, -1.2277809e-03, -1.4343228e-05,  1.0357334e-03,\n",
       "        -3.2659416e-04,  6.2544231e-04, -5.4336508e-04, -1.2747427e-03,\n",
       "        -1.4504410e-03, -1.3900310e-03, -8.3140231e-04, -8.2493428e-04,\n",
       "        -8.5372833e-04, -1.3230923e-03, -7.2758069e-04,  3.3286671e-04,\n",
       "         4.4253134e-04,  1.1905648e-03, -1.3259881e-03,  1.8296442e-04,\n",
       "        -1.7296670e-03, -6.6788413e-04, -1.1169676e-03, -1.1066576e-03,\n",
       "         7.6104532e-04,  3.4769566e-04, -7.7222096e-04, -9.1770838e-04],\n",
       "       dtype=float32),\n",
       " array([[ 1.57923758e-01,  2.62939148e-02],\n",
       "        [ 1.57111362e-01,  1.72660485e-01],\n",
       "        [ 2.91563660e-01, -1.10251069e-01],\n",
       "        [-1.01871297e-01, -1.28317371e-01],\n",
       "        [-1.46450445e-01, -1.83061361e-01],\n",
       "        [ 2.86403626e-01, -2.46549338e-01],\n",
       "        [ 2.02312514e-01, -2.62207836e-01],\n",
       "        [ 2.11781263e-01,  1.80341780e-01],\n",
       "        [-1.20363452e-01, -2.66974419e-01],\n",
       "        [-1.80556491e-01,  1.56506151e-02],\n",
       "        [-1.50798455e-01,  2.68275648e-01],\n",
       "        [ 4.87953871e-02, -6.80023357e-02],\n",
       "        [ 5.37890755e-02,  1.67601392e-01],\n",
       "        [-9.27850530e-02, -3.51532921e-02],\n",
       "        [ 2.62549490e-01,  1.96373373e-01],\n",
       "        [ 1.15544721e-01,  8.75522345e-02],\n",
       "        [ 7.53792375e-02, -2.91644454e-01],\n",
       "        [-2.21669376e-01, -2.01128185e-01],\n",
       "        [-3.00537705e-01,  7.80654699e-02],\n",
       "        [-2.62717932e-01, -1.51454642e-01],\n",
       "        [-9.13603418e-03, -1.55152053e-01],\n",
       "        [-2.65285164e-01,  2.24226475e-01],\n",
       "        [-2.17780508e-02,  2.26944612e-04],\n",
       "        [ 5.73612703e-03, -2.65431911e-01],\n",
       "        [-2.55983502e-01, -1.91004947e-01],\n",
       "        [ 2.89745092e-01, -3.07563752e-01],\n",
       "        [-1.35699715e-02,  7.64475092e-02],\n",
       "        [ 1.14131749e-01,  1.58282757e-01],\n",
       "        [ 2.17319295e-01,  7.46746287e-02],\n",
       "        [-2.25961044e-01,  1.99177161e-01],\n",
       "        [-1.43302456e-01, -1.80393949e-01],\n",
       "        [-2.01992765e-01, -2.60866642e-01],\n",
       "        [-2.37163469e-01,  2.89516777e-01],\n",
       "        [ 3.06192786e-01, -4.25304398e-02],\n",
       "        [-2.64593303e-01,  5.01875989e-02],\n",
       "        [ 9.58555043e-02,  1.81527317e-01],\n",
       "        [-9.49872062e-02,  1.87705249e-01],\n",
       "        [-2.90584534e-01,  2.69379932e-02],\n",
       "        [ 6.34022206e-02, -6.34508580e-02],\n",
       "        [ 6.66784272e-02, -1.86848879e-01],\n",
       "        [-1.14547901e-01, -2.19969556e-01],\n",
       "        [ 1.76957071e-01, -1.24412775e-01],\n",
       "        [ 1.44909516e-01, -2.15583846e-01],\n",
       "        [-5.78988157e-02, -1.87156454e-01],\n",
       "        [ 1.91039607e-01,  1.76394090e-01],\n",
       "        [ 2.98156768e-01, -5.81612960e-02],\n",
       "        [-2.40413249e-01, -2.89797157e-01],\n",
       "        [-1.94194809e-01,  6.85900375e-02],\n",
       "        [-1.96167931e-01, -8.94258469e-02],\n",
       "        [ 3.94686349e-02,  1.23070873e-01],\n",
       "        [ 1.65700272e-01,  2.33807918e-02],\n",
       "        [-2.48229653e-01,  2.61382431e-01],\n",
       "        [ 1.91518039e-01, -2.30240464e-01],\n",
       "        [ 1.79803431e-01,  4.26024161e-02],\n",
       "        [ 2.37364411e-01, -2.49048114e-01],\n",
       "        [ 3.07384759e-01,  3.04947108e-01],\n",
       "        [-1.36381328e-01, -8.50911736e-02],\n",
       "        [-3.02541971e-01, -9.65137258e-02],\n",
       "        [ 6.47369698e-02, -2.25397006e-01],\n",
       "        [ 2.54488260e-01,  1.02034606e-01]], dtype=float32),\n",
       " array([-0.00083539,  0.00083539], dtype=float32)]"
      ]
     },
     "execution_count": 71,
     "metadata": {},
     "output_type": "execute_result"
    }
   ],
   "source": [
    "model.get_weights()"
   ]
  },
  {
   "cell_type": "code",
   "execution_count": 73,
   "metadata": {},
   "outputs": [],
   "source": [
    "X_test, y_test = test_generator.__getitem__(0)"
   ]
  },
  {
   "cell_type": "code",
   "execution_count": 74,
   "metadata": {},
   "outputs": [
    {
     "data": {
      "text/plain": [
       "((235, 501, 30), (235, 2))"
      ]
     },
     "execution_count": 74,
     "metadata": {},
     "output_type": "execute_result"
    }
   ],
   "source": [
    "X_test.shape, y_test.shape"
   ]
  },
  {
   "cell_type": "code",
   "execution_count": 75,
   "metadata": {},
   "outputs": [
    {
     "data": {
      "text/plain": [
       "array([125, 110])"
      ]
     },
     "execution_count": 75,
     "metadata": {},
     "output_type": "execute_result"
    }
   ],
   "source": [
    "np.sum(y_test, axis=0)"
   ]
  },
  {
   "cell_type": "code",
   "execution_count": 76,
   "metadata": {},
   "outputs": [],
   "source": [
    "# Check model predictions:\n",
    "y_pred = model.predict(X_test)"
   ]
  },
  {
   "cell_type": "code",
   "execution_count": 77,
   "metadata": {},
   "outputs": [
    {
     "data": {
      "text/plain": [
       "array([[0.5145836 , 0.48541644],\n",
       "       [0.5100339 , 0.4899661 ],\n",
       "       [0.5185583 , 0.48144165],\n",
       "       [0.5175312 , 0.48246878],\n",
       "       [0.5171035 , 0.48289648],\n",
       "       [0.51478505, 0.48521498],\n",
       "       [0.51190424, 0.48809567],\n",
       "       [0.51930225, 0.4806977 ],\n",
       "       [0.51087904, 0.48912096],\n",
       "       [0.51399434, 0.48600557]], dtype=float32)"
      ]
     },
     "execution_count": 77,
     "metadata": {},
     "output_type": "execute_result"
    }
   ],
   "source": [
    "y_pred[:10]"
   ]
  },
  {
   "cell_type": "code",
   "execution_count": 151,
   "metadata": {},
   "outputs": [
    {
     "data": {
      "text/plain": [
       "array([[0.7187703 , 0.2812297 ],\n",
       "       [0.9493008 , 0.0506992 ],\n",
       "       [0.4453468 , 0.55465317],\n",
       "       [0.632294  , 0.36770603],\n",
       "       [0.34691966, 0.65308034],\n",
       "       [0.2078207 , 0.7921793 ],\n",
       "       [0.8458051 , 0.15419492],\n",
       "       [0.9105229 , 0.08947717],\n",
       "       [0.8676915 , 0.1323085 ],\n",
       "       [0.9788207 , 0.02117923]], dtype=float32)"
      ]
     },
     "execution_count": 151,
     "metadata": {},
     "output_type": "execute_result"
    }
   ],
   "source": [
    "y_pred_inception[:10]"
   ]
  },
  {
   "cell_type": "code",
   "execution_count": 78,
   "metadata": {},
   "outputs": [
    {
     "name": "stdout",
     "output_type": "stream",
     "text": [
      "[0 0 0 0 0 0 0 0 0 0 0 0 0 0 0 0 0 0 0 0 0 0 0 0 0 0 0 0 0 0]\n",
      "[1 0 0 0 1 1 1 0 1 0 0 0 0 1 0 0 0 1 1 1 0 1 1 0 0 0 0 0 0 0]\n"
     ]
    }
   ],
   "source": [
    "print(np.argmax(y_pred, axis=1)[:30])\n",
    "print(np.argmax(y_test, axis=1)[:30])"
   ]
  },
  {
   "cell_type": "code",
   "execution_count": 79,
   "metadata": {},
   "outputs": [
    {
     "name": "stdout",
     "output_type": "stream",
     "text": [
      "true:  125\n",
      "false:  110\n"
     ]
    }
   ],
   "source": [
    "print(np.argmax(y_pred, axis=1)[:30])\n",
    "print(np.argmax(y_test, axis=1)[:30])\n",
    "\n",
    "print(\"true: \", np.sum(np.argmax(y_pred, axis=1) == np.argmax(y_test, axis=1)))\n",
    "print(\"false: \", np.sum(np.argmax(y_pred, axis=1) != np.argmax(y_test, axis=1)))"
   ]
  },
  {
   "cell_type": "code",
   "execution_count": 53,
   "metadata": {},
   "outputs": [],
   "source": [
    "# Calculate accuracy\n",
    "from sklearn import metrics"
   ]
  },
  {
   "cell_type": "code",
   "execution_count": 54,
   "metadata": {},
   "outputs": [],
   "source": [
    "def plot_confusion_matrix(y_true, y_pred, classes,\n",
    "                          normalize=False,\n",
    "                          title=None,\n",
    "                          cmap=plt.cm.Blues):\n",
    "    \"\"\"\n",
    "    This function prints and plots the confusion matrix.\n",
    "    Normalization can be applied by setting `normalize=True`.\n",
    "    \"\"\"\n",
    "    from sklearn.utils.multiclass import unique_labels\n",
    "    \n",
    "    if not title:\n",
    "        if normalize:\n",
    "            title = 'Normalized confusion matrix'\n",
    "        else:\n",
    "            title = 'Confusion matrix, without normalization'\n",
    "\n",
    "    # Compute confusion matrix\n",
    "    cm = metrics.confusion_matrix(y_true, y_pred)\n",
    "    ## Only use the labels that appear in the data\n",
    "    #classes = classes[unique_labels(y_true, y_pred)]\n",
    "    if normalize:\n",
    "        cm = cm.astype('float') / cm.sum(axis=1)[:, np.newaxis]\n",
    "        print(\"Normalized confusion matrix\")\n",
    "    else:\n",
    "        print('Confusion matrix, without normalization')\n",
    "\n",
    "    print(cm)\n",
    "\n",
    "    fig, ax = plt.subplots()\n",
    "    im = ax.imshow(cm, interpolation='nearest', cmap=cmap)\n",
    "    ax.figure.colorbar(im, ax=ax)\n",
    "    # We want to show all ticks...\n",
    "    ax.set(xticks=np.arange(cm.shape[1]),\n",
    "           yticks=np.arange(cm.shape[0]),\n",
    "           # ... and label them with the respective list entries\n",
    "           xticklabels=classes, yticklabels=classes,\n",
    "           title=title,\n",
    "           ylabel='True label',\n",
    "           xlabel='Predicted label')\n",
    "\n",
    "    # Rotate the tick labels and set their alignment.\n",
    "    plt.setp(ax.get_xticklabels(), rotation=45, ha=\"right\",\n",
    "             rotation_mode=\"anchor\")\n",
    "\n",
    "    # Loop over data dimensions and create text annotations.\n",
    "    fmt = '.2f' if normalize else 'd'\n",
    "    thresh = cm.max() / 2.\n",
    "    for i in range(cm.shape[0]):\n",
    "        for j in range(cm.shape[1]):\n",
    "            ax.text(j, i, format(cm[i, j], fmt),\n",
    "                    ha=\"center\", va=\"center\",\n",
    "                    color=\"white\" if cm[i, j] > thresh else \"black\")\n",
    "    fig.tight_layout()\n",
    "    return ax"
   ]
  },
  {
   "cell_type": "code",
   "execution_count": 80,
   "metadata": {},
   "outputs": [
    {
     "name": "stdout",
     "output_type": "stream",
     "text": [
      "Normalized confusion matrix\n",
      "[[1. 0.]\n",
      " [1. 0.]]\n"
     ]
    },
    {
     "data": {
      "image/png": "[encoded data removed]",
      "text/plain": [
       "<Figure size 432x288 with 2 Axes>"
      ]
     },
     "metadata": {
      "needs_background": "light"
     },
     "output_type": "display_data"
    }
   ],
   "source": [
    "# Plot normalized confusion matrix\n",
    "labels = list(binarizer_dict.keys())\n",
    "\n",
    "plot_confusion_matrix(np.argmax(y_test, axis=1), \n",
    "                      np.argmax(y_pred, axis=1), \n",
    "                      classes=labels, normalize=True,\n",
    "                      title='Normalized confusion matrix')\n",
    "\n",
    "plt.savefig('confusion_matrix123.pdf')"
   ]
  },
  {
   "cell_type": "code",
   "execution_count": 56,
   "metadata": {},
   "outputs": [
    {
     "name": "stdout",
     "output_type": "stream",
     "text": [
      "Normalized confusion matrix\n",
      "[[0.         0.98181818 0.         0.         0.01818182 0.        ]\n",
      " [0.         1.         0.         0.         0.         0.        ]\n",
      " [0.         1.         0.         0.         0.         0.        ]\n",
      " [0.         1.         0.         0.         0.         0.        ]\n",
      " [0.         1.         0.         0.         0.         0.        ]\n",
      " [0.         1.         0.         0.         0.         0.        ]]\n"
     ]
    },
    {
     "data": {
      "image/png": "[encoded data removed]",
      "text/plain": [
       "<Figure size 432x288 with 2 Axes>"
      ]
     },
     "metadata": {
      "needs_background": "light"
     },
     "output_type": "display_data"
    }
   ],
   "source": [
    "# Plot normalized confusion matrix\n",
    "labels = list(binarizer_dict.keys())\n",
    "\n",
    "plot_confusion_matrix(np.argmax(y_test, axis=1), \n",
    "                      np.argmax(y_pred, axis=1), \n",
    "                      classes=labels, normalize=True,\n",
    "                      title='Normalized confusion matrix')\n",
    "\n",
    "plt.savefig('confusion_matrix123.pdf')"
   ]
  },
  {
   "cell_type": "code",
   "execution_count": null,
   "metadata": {},
   "outputs": [],
   "source": []
  },
  {
   "cell_type": "markdown",
   "metadata": {},
   "source": [
    "# Alternative architecture: InceptionTime"
   ]
  },
  {
   "cell_type": "code",
   "execution_count": 81,
   "metadata": {},
   "outputs": [],
   "source": [
    "from inception_time import InceptionTime"
   ]
  },
  {
   "cell_type": "code",
   "execution_count": 82,
   "metadata": {},
   "outputs": [],
   "source": [
    "from tensorflow.keras.models import Model\n",
    "from tensorflow.keras.callbacks import ModelCheckpoint, ReduceLROnPlateau, EarlyStopping\n",
    "\n",
    "class InceptionTime:\n",
    "\n",
    "    def __init__(self, \n",
    "                 output_directory, \n",
    "                 input_shape, \n",
    "                 nb_classes, \n",
    "                 verbose=False, \n",
    "                 build=True, \n",
    "                 batch_size=64,\n",
    "                 nb_filters=32, \n",
    "                 use_residual=True, \n",
    "                 use_bottleneck=True, \n",
    "                 depth=6, \n",
    "                 kernel_size=41, \n",
    "                 nb_epochs=1500,\n",
    "                 binarize_2_to_1 = False):\n",
    "        \"\"\"\n",
    "        \n",
    "        \"\"\"\n",
    "\n",
    "        self.output_directory = output_directory\n",
    "        self.input_shape = input_shape\n",
    "        self.nb_classes = nb_classes\n",
    "        self.nb_filters = nb_filters\n",
    "        self.use_residual = use_residual\n",
    "        self.use_bottleneck = use_bottleneck\n",
    "        self.depth = depth\n",
    "        self.kernel_size = kernel_size - 1\n",
    "        self.callbacks = None\n",
    "        self.batch_size = batch_size\n",
    "        self.bottleneck_size = 32\n",
    "        self.nb_epochs = nb_epochs\n",
    "        self.binarize_2_to_1 = binarize_2_to_1\n",
    "\n",
    "        if build == True:\n",
    "            self.model = self.build_model()\n",
    "            if (verbose == True):\n",
    "                self.model.summary()\n",
    "            self.verbose = verbose\n",
    "            self.model.save_weights(self.output_directory + 'model_init.hdf5')\n",
    "\n",
    "\n",
    "    def _inception_module(self, input_tensor, stride=1, activation='linear'):\n",
    "\n",
    "        if self.use_bottleneck and int(input_tensor.shape[-1]) > 1:\n",
    "            input_inception = layers.Conv1D(filters=self.bottleneck_size, kernel_size=1,\n",
    "                                                  padding='same', activation=activation, use_bias=False)(input_tensor)\n",
    "        else:\n",
    "            input_inception = input_tensor\n",
    "\n",
    "        # kernel_size_s = [3, 5, 8, 11, 17]\n",
    "        kernel_size_s = [self.kernel_size // (2 ** i) for i in range(3)]\n",
    "\n",
    "        conv_list = []\n",
    "\n",
    "        for i in range(len(kernel_size_s)):\n",
    "            conv_list.append(layers.Conv1D(filters=self.nb_filters, kernel_size=kernel_size_s[i],\n",
    "                                                 strides=stride, padding='same', activation=activation, use_bias=False)(\n",
    "                input_inception))\n",
    "\n",
    "        max_pool_1 = layers.MaxPool1D(pool_size=3, strides=stride, padding='same')(input_tensor)\n",
    "\n",
    "        conv_6 = layers.Conv1D(filters=self.nb_filters, kernel_size=1,\n",
    "                                     padding='same', activation=activation, use_bias=False)(max_pool_1)\n",
    "\n",
    "        conv_list.append(conv_6)\n",
    "\n",
    "        x = layers.Concatenate(axis=2)(conv_list)\n",
    "        x = layers.BatchNormalization()(x)\n",
    "        x = layers.Activation(activation='relu')(x)\n",
    "        return x\n",
    "\n",
    "    def _shortcut_layer(self, input_tensor, out_tensor):\n",
    "        shortcut_y = layers.Conv1D(filters=int(out_tensor.shape[-1]), kernel_size=1,\n",
    "                                         padding='same', use_bias=False)(input_tensor)\n",
    "        shortcut_y = layers.BatchNormalization()(shortcut_y)\n",
    "\n",
    "        x = layers.Add()([shortcut_y, out_tensor])\n",
    "        x = layers.Activation('relu')(x)\n",
    "        return x\n",
    "\n",
    "    def build_model(self):\n",
    "        input_layer = layers.Input(self.input_shape)\n",
    "\n",
    "        x = input_layer\n",
    "        input_res = input_layer\n",
    "\n",
    "        for d in range(self.depth):\n",
    "\n",
    "            x = self._inception_module(x)\n",
    "\n",
    "            if self.use_residual and d % 3 == 2:\n",
    "                x = self._shortcut_layer(input_res, x)\n",
    "                input_res = x\n",
    "\n",
    "        gap_layer_pool = layers.AveragePooling1D(pool_size=10)(x)\n",
    "        gap_layer = layers.Flatten()(gap_layer_pool)\n",
    "        \n",
    "        final_dense = layers.Dense(50, activation='relu')(gap_layer)\n",
    "        \n",
    "        #gap_layer = layers.GlobalAveragePooling1D()(x)\n",
    "        \n",
    "        if self.nb_classes == 2 and self.binarize_2_to_1:\n",
    "            output_layer = layers.Dense(1, activation='softmax')(final_dense)\n",
    "        else:\n",
    "            output_layer = layers.Dense(self.nb_classes, activation='softmax')(final_dense)\n",
    "\n",
    "        model = Model(inputs=input_layer, outputs=output_layer)\n",
    "\n",
    "        if self.nb_classes == 2 and self.binarize_2_to_1:\n",
    "            model.compile(loss='binary_crossentropy', \n",
    "                          optimizer=optimizers.Adam(),\n",
    "                          metrics=['accuracy'])\n",
    "        else:\n",
    "            model.compile(loss='categorical_crossentropy', \n",
    "                          optimizer=optimizers.Adam(),\n",
    "                          metrics=['accuracy'])\n",
    "\n",
    "        reduce_lr = ReduceLROnPlateau(monitor='loss', factor=0.5, patience=50,\n",
    "                                                      min_lr=0.0001)\n",
    "\n",
    "        file_path = self.output_directory + 'best_model.hdf5'\n",
    "\n",
    "        model_checkpoint = ModelCheckpoint(filepath=file_path, monitor='loss',\n",
    "                                                           save_best_only=True)\n",
    "\n",
    "        self.callbacks = [reduce_lr, model_checkpoint]\n",
    "\n",
    "        return model"
   ]
  },
  {
   "cell_type": "code",
   "execution_count": 83,
   "metadata": {},
   "outputs": [],
   "source": [
    "inception_model = InceptionTime(output_directory = os.path.join(PATH_CODE, 'models_trained'), \n",
    "                                 input_shape = (501,30), \n",
    "                                 nb_classes = 2, \n",
    "                                 verbose=False, \n",
    "                                 build=True, \n",
    "                                 batch_size=64,\n",
    "                                 nb_filters=32, \n",
    "                                 use_residual=True, \n",
    "                                 use_bottleneck=True, \n",
    "                                 depth=6, \n",
    "                                 kernel_size=41, \n",
    "                                 nb_epochs=1500)"
   ]
  },
  {
   "cell_type": "code",
   "execution_count": 84,
   "metadata": {
    "scrolled": false
   },
   "outputs": [
    {
     "name": "stdout",
     "output_type": "stream",
     "text": [
      "__________________________________________________________________________________________________\n",
      "Layer (type)                    Output Shape         Param #     Connected to                     \n",
      "==================================================================================================\n",
      "input_2 (InputLayer)            (None, 501, 30)      0                                            \n",
      "__________________________________________________________________________________________________\n",
      "conv1d_44 (Conv1D)              (None, 501, 32)      960         input_2[0][0]                    \n",
      "__________________________________________________________________________________________________\n",
      "max_pooling1d_6 (MaxPooling1D)  (None, 501, 30)      0           input_2[0][0]                    \n",
      "__________________________________________________________________________________________________\n",
      "conv1d_45 (Conv1D)              (None, 501, 32)      40960       conv1d_44[0][0]                  \n",
      "__________________________________________________________________________________________________\n",
      "conv1d_46 (Conv1D)              (None, 501, 32)      20480       conv1d_44[0][0]                  \n",
      "__________________________________________________________________________________________________\n",
      "conv1d_47 (Conv1D)              (None, 501, 32)      10240       conv1d_44[0][0]                  \n",
      "__________________________________________________________________________________________________\n",
      "conv1d_48 (Conv1D)              (None, 501, 32)      960         max_pooling1d_6[0][0]            \n",
      "__________________________________________________________________________________________________\n",
      "concatenate_6 (Concatenate)     (None, 501, 128)     0           conv1d_45[0][0]                  \n",
      "                                                                 conv1d_46[0][0]                  \n",
      "                                                                 conv1d_47[0][0]                  \n",
      "                                                                 conv1d_48[0][0]                  \n",
      "__________________________________________________________________________________________________\n",
      "batch_normalization_v1_26 (Batc (None, 501, 128)     512         concatenate_6[0][0]              \n",
      "__________________________________________________________________________________________________\n",
      "activation_8 (Activation)       (None, 501, 128)     0           batch_normalization_v1_26[0][0]  \n",
      "__________________________________________________________________________________________________\n",
      "conv1d_49 (Conv1D)              (None, 501, 32)      4096        activation_8[0][0]               \n",
      "__________________________________________________________________________________________________\n",
      "max_pooling1d_7 (MaxPooling1D)  (None, 501, 128)     0           activation_8[0][0]               \n",
      "__________________________________________________________________________________________________\n",
      "conv1d_50 (Conv1D)              (None, 501, 32)      40960       conv1d_49[0][0]                  \n",
      "__________________________________________________________________________________________________\n",
      "conv1d_51 (Conv1D)              (None, 501, 32)      20480       conv1d_49[0][0]                  \n",
      "__________________________________________________________________________________________________\n",
      "conv1d_52 (Conv1D)              (None, 501, 32)      10240       conv1d_49[0][0]                  \n",
      "__________________________________________________________________________________________________\n",
      "conv1d_53 (Conv1D)              (None, 501, 32)      4096        max_pooling1d_7[0][0]            \n",
      "__________________________________________________________________________________________________\n",
      "concatenate_7 (Concatenate)     (None, 501, 128)     0           conv1d_50[0][0]                  \n",
      "                                                                 conv1d_51[0][0]                  \n",
      "                                                                 conv1d_52[0][0]                  \n",
      "                                                                 conv1d_53[0][0]                  \n",
      "__________________________________________________________________________________________________\n",
      "batch_normalization_v1_27 (Batc (None, 501, 128)     512         concatenate_7[0][0]              \n",
      "__________________________________________________________________________________________________\n",
      "activation_9 (Activation)       (None, 501, 128)     0           batch_normalization_v1_27[0][0]  \n",
      "__________________________________________________________________________________________________\n",
      "conv1d_54 (Conv1D)              (None, 501, 32)      4096        activation_9[0][0]               \n",
      "__________________________________________________________________________________________________\n",
      "max_pooling1d_8 (MaxPooling1D)  (None, 501, 128)     0           activation_9[0][0]               \n",
      "__________________________________________________________________________________________________\n",
      "conv1d_55 (Conv1D)              (None, 501, 32)      40960       conv1d_54[0][0]                  \n",
      "__________________________________________________________________________________________________\n",
      "conv1d_56 (Conv1D)              (None, 501, 32)      20480       conv1d_54[0][0]                  \n",
      "__________________________________________________________________________________________________\n",
      "conv1d_57 (Conv1D)              (None, 501, 32)      10240       conv1d_54[0][0]                  \n",
      "__________________________________________________________________________________________________\n",
      "conv1d_58 (Conv1D)              (None, 501, 32)      4096        max_pooling1d_8[0][0]            \n",
      "__________________________________________________________________________________________________\n",
      "concatenate_8 (Concatenate)     (None, 501, 128)     0           conv1d_55[0][0]                  \n",
      "                                                                 conv1d_56[0][0]                  \n",
      "                                                                 conv1d_57[0][0]                  \n",
      "                                                                 conv1d_58[0][0]                  \n",
      "__________________________________________________________________________________________________\n",
      "conv1d_59 (Conv1D)              (None, 501, 128)     3840        input_2[0][0]                    \n",
      "__________________________________________________________________________________________________\n",
      "batch_normalization_v1_28 (Batc (None, 501, 128)     512         concatenate_8[0][0]              \n",
      "__________________________________________________________________________________________________\n",
      "batch_normalization_v1_29 (Batc (None, 501, 128)     512         conv1d_59[0][0]                  \n",
      "__________________________________________________________________________________________________\n",
      "activation_10 (Activation)      (None, 501, 128)     0           batch_normalization_v1_28[0][0]  \n",
      "__________________________________________________________________________________________________\n",
      "add_2 (Add)                     (None, 501, 128)     0           batch_normalization_v1_29[0][0]  \n",
      "                                                                 activation_10[0][0]              \n",
      "__________________________________________________________________________________________________\n",
      "activation_11 (Activation)      (None, 501, 128)     0           add_2[0][0]                      \n",
      "__________________________________________________________________________________________________\n",
      "conv1d_60 (Conv1D)              (None, 501, 32)      4096        activation_11[0][0]              \n",
      "__________________________________________________________________________________________________\n",
      "max_pooling1d_9 (MaxPooling1D)  (None, 501, 128)     0           activation_11[0][0]              \n",
      "__________________________________________________________________________________________________\n",
      "conv1d_61 (Conv1D)              (None, 501, 32)      40960       conv1d_60[0][0]                  \n",
      "__________________________________________________________________________________________________\n",
      "conv1d_62 (Conv1D)              (None, 501, 32)      20480       conv1d_60[0][0]                  \n",
      "__________________________________________________________________________________________________\n",
      "conv1d_63 (Conv1D)              (None, 501, 32)      10240       conv1d_60[0][0]                  \n",
      "__________________________________________________________________________________________________\n",
      "conv1d_64 (Conv1D)              (None, 501, 32)      4096        max_pooling1d_9[0][0]            \n",
      "__________________________________________________________________________________________________\n",
      "concatenate_9 (Concatenate)     (None, 501, 128)     0           conv1d_61[0][0]                  \n",
      "                                                                 conv1d_62[0][0]                  \n",
      "                                                                 conv1d_63[0][0]                  \n",
      "                                                                 conv1d_64[0][0]                  \n",
      "__________________________________________________________________________________________________\n",
      "batch_normalization_v1_30 (Batc (None, 501, 128)     512         concatenate_9[0][0]              \n",
      "__________________________________________________________________________________________________\n",
      "activation_12 (Activation)      (None, 501, 128)     0           batch_normalization_v1_30[0][0]  \n",
      "__________________________________________________________________________________________________\n",
      "conv1d_65 (Conv1D)              (None, 501, 32)      4096        activation_12[0][0]              \n",
      "__________________________________________________________________________________________________\n",
      "max_pooling1d_10 (MaxPooling1D) (None, 501, 128)     0           activation_12[0][0]              \n",
      "__________________________________________________________________________________________________\n",
      "conv1d_66 (Conv1D)              (None, 501, 32)      40960       conv1d_65[0][0]                  \n",
      "__________________________________________________________________________________________________\n",
      "conv1d_67 (Conv1D)              (None, 501, 32)      20480       conv1d_65[0][0]                  \n",
      "__________________________________________________________________________________________________\n",
      "conv1d_68 (Conv1D)              (None, 501, 32)      10240       conv1d_65[0][0]                  \n",
      "__________________________________________________________________________________________________\n",
      "conv1d_69 (Conv1D)              (None, 501, 32)      4096        max_pooling1d_10[0][0]           \n",
      "__________________________________________________________________________________________________\n",
      "concatenate_10 (Concatenate)    (None, 501, 128)     0           conv1d_66[0][0]                  \n",
      "                                                                 conv1d_67[0][0]                  \n",
      "                                                                 conv1d_68[0][0]                  \n",
      "                                                                 conv1d_69[0][0]                  \n",
      "__________________________________________________________________________________________________\n",
      "batch_normalization_v1_31 (Batc (None, 501, 128)     512         concatenate_10[0][0]             \n",
      "__________________________________________________________________________________________________\n",
      "activation_13 (Activation)      (None, 501, 128)     0           batch_normalization_v1_31[0][0]  \n",
      "__________________________________________________________________________________________________\n",
      "conv1d_70 (Conv1D)              (None, 501, 32)      4096        activation_13[0][0]              \n",
      "__________________________________________________________________________________________________\n",
      "max_pooling1d_11 (MaxPooling1D) (None, 501, 128)     0           activation_13[0][0]              \n",
      "__________________________________________________________________________________________________\n",
      "conv1d_71 (Conv1D)              (None, 501, 32)      40960       conv1d_70[0][0]                  \n",
      "__________________________________________________________________________________________________\n",
      "conv1d_72 (Conv1D)              (None, 501, 32)      20480       conv1d_70[0][0]                  \n",
      "__________________________________________________________________________________________________\n",
      "conv1d_73 (Conv1D)              (None, 501, 32)      10240       conv1d_70[0][0]                  \n",
      "__________________________________________________________________________________________________\n",
      "conv1d_74 (Conv1D)              (None, 501, 32)      4096        max_pooling1d_11[0][0]           \n",
      "__________________________________________________________________________________________________\n",
      "concatenate_11 (Concatenate)    (None, 501, 128)     0           conv1d_71[0][0]                  \n",
      "                                                                 conv1d_72[0][0]                  \n",
      "                                                                 conv1d_73[0][0]                  \n",
      "                                                                 conv1d_74[0][0]                  \n",
      "__________________________________________________________________________________________________\n",
      "conv1d_75 (Conv1D)              (None, 501, 128)     16384       activation_11[0][0]              \n",
      "__________________________________________________________________________________________________\n",
      "batch_normalization_v1_32 (Batc (None, 501, 128)     512         concatenate_11[0][0]             \n",
      "__________________________________________________________________________________________________\n",
      "batch_normalization_v1_33 (Batc (None, 501, 128)     512         conv1d_75[0][0]                  \n",
      "__________________________________________________________________________________________________\n",
      "activation_14 (Activation)      (None, 501, 128)     0           batch_normalization_v1_32[0][0]  \n",
      "__________________________________________________________________________________________________\n",
      "add_3 (Add)                     (None, 501, 128)     0           batch_normalization_v1_33[0][0]  \n",
      "                                                                 activation_14[0][0]              \n",
      "__________________________________________________________________________________________________\n",
      "activation_15 (Activation)      (None, 501, 128)     0           add_3[0][0]                      \n",
      "__________________________________________________________________________________________________\n",
      "average_pooling1d_19 (AveragePo (None, 50, 128)      0           activation_15[0][0]              \n",
      "__________________________________________________________________________________________________\n",
      "flatten_7 (Flatten)             (None, 6400)         0           average_pooling1d_19[0][0]       \n",
      "__________________________________________________________________________________________________\n",
      "dense_20 (Dense)                (None, 50)           320050      flatten_7[0][0]                  \n",
      "__________________________________________________________________________________________________\n",
      "dense_21 (Dense)                (None, 2)            102         dense_20[0][0]                   \n",
      "==================================================================================================\n",
      "Total params: 817,432\n",
      "Trainable params: 815,384\n",
      "Non-trainable params: 2,048\n",
      "__________________________________________________________________________________________________\n"
     ]
    }
   ],
   "source": [
    "model_inception = inception_model.build_model() \n",
    "model_inception.summary()"
   ]
  },
  {
   "cell_type": "code",
   "execution_count": 85,
   "metadata": {},
   "outputs": [
    {
     "name": "stdout",
     "output_type": "stream",
     "text": [
      "Epoch 1/50\n",
      "1/1 [==============================] - 11s 11s/step - loss: 0.6710 - acc: 0.5750\n",
      "\n",
      "Epoch 00001: saving model to C:\\OneDrive - Netherlands eScience Center\\Project_ePodium\\EEG_dyslexia_prediction\\models_trained\\InceptionTime_deep_classifier_avg_41mnd-01-0.57.hdf5\n",
      "5/5 [==============================] - 73s 15s/step - loss: 2.2092 - acc: 0.4952 - val_loss: 0.6710 - val_acc: 0.5750\n",
      "Epoch 2/50\n",
      "1/1 [==============================] - 8s 8s/step - loss: 0.4578 - acc: 0.7632\n",
      "\n",
      "Epoch 00002: saving model to C:\\OneDrive - Netherlands eScience Center\\Project_ePodium\\EEG_dyslexia_prediction\\models_trained\\InceptionTime_deep_classifier_avg_41mnd-02-0.76.hdf5\n",
      "5/5 [==============================] - 35s 7s/step - loss: 0.6741 - acc: 0.5953 - val_loss: 0.4578 - val_acc: 0.7632\n",
      "Epoch 3/50\n",
      "1/1 [==============================] - 9s 9s/step - loss: 0.8568 - acc: 0.5263\n",
      "\n",
      "Epoch 00003: saving model to C:\\OneDrive - Netherlands eScience Center\\Project_ePodium\\EEG_dyslexia_prediction\\models_trained\\InceptionTime_deep_classifier_avg_41mnd-03-0.53.hdf5\n",
      "5/5 [==============================] - 46s 9s/step - loss: 0.7220 - acc: 0.5756 - val_loss: 0.8568 - val_acc: 0.5263\n",
      "Epoch 4/50\n",
      "1/1 [==============================] - 10s 10s/step - loss: 0.9417 - acc: 0.4474\n",
      "\n",
      "Epoch 00004: saving model to C:\\OneDrive - Netherlands eScience Center\\Project_ePodium\\EEG_dyslexia_prediction\\models_trained\\InceptionTime_deep_classifier_avg_41mnd-04-0.45.hdf5\n",
      "5/5 [==============================] - 43s 9s/step - loss: 0.7160 - acc: 0.5665 - val_loss: 0.9417 - val_acc: 0.4474\n",
      "Epoch 5/50\n",
      "1/1 [==============================] - 10s 10s/step - loss: 0.6747 - acc: 0.6667\n",
      "\n",
      "Epoch 00005: saving model to C:\\OneDrive - Netherlands eScience Center\\Project_ePodium\\EEG_dyslexia_prediction\\models_trained\\InceptionTime_deep_classifier_avg_41mnd-05-0.67.hdf5\n",
      "5/5 [==============================] - 45s 9s/step - loss: 0.6835 - acc: 0.5833 - val_loss: 0.6747 - val_acc: 0.6667\n",
      "Epoch 00005: early stopping\n"
     ]
    },
    {
     "data": {
      "text/plain": [
       "<tensorflow.python.keras.callbacks.History at 0x151cb09b4e0>"
      ]
     },
     "execution_count": 85,
     "metadata": {},
     "output_type": "execute_result"
    }
   ],
   "source": [
    "# Save best model and include early stopping\n",
    "output_filename = 'InceptionTime_deep_classifier_avg_41mnd'\n",
    "output_file = os.path.join(PATH_CODE, 'models_trained' , output_filename + \"-{epoch:02d}-{val_acc:.2f}.hdf5\")\n",
    "checkpointer = ModelCheckpoint(filepath = output_file, \n",
    "                               monitor='val_acc', \n",
    "                               verbose=1, \n",
    "                               save_best_only=False)\n",
    "earlystopper = EarlyStopping(monitor='val_acc', patience=3, verbose=1)\n",
    "\n",
    "model_inception.fit_generator(generator=train_generator, \n",
    "                           validation_data=val_generator,\n",
    "                           epochs=50,\n",
    "                           callbacks = [\n",
    "                                        checkpointer, \n",
    "                                        earlystopper,\n",
    "                   ]\n",
    "                  )"
   ]
  },
  {
   "cell_type": "code",
   "execution_count": 108,
   "metadata": {},
   "outputs": [],
   "source": [
    "model_file = os.path.join(PATH_CODE, 'models_trained', 'InceptionTime_deep_classifier_avg_41mnd-05-0.67.hdf5')\n",
    "model_inception.load_weights(model_file)"
   ]
  },
  {
   "cell_type": "code",
   "execution_count": 114,
   "metadata": {},
   "outputs": [],
   "source": [
    "test_generator = DataGenerator(list_IDs = IDs_test,\n",
    "                                 main_labels = main_labels,\n",
    "                                 label_dict = label_dict,\n",
    "                                 binarizer_dict = binarizer_dict,\n",
    "                                 ignore_labels = ignore_labels,\n",
    "                                 path_data = PATH_DATA_processed,\n",
    "                                 filenames = [x[:-4] for x in files_csv],\n",
    "                                 data_path = PATH_DATA_processed, \n",
    "                                 to_fit=True, \n",
    "                                 n_average = 50,\n",
    "                                 batch_size = 200,\n",
    "                                 iter_per_epoch = 10,\n",
    "                                 up_sampling = True,\n",
    "                                 n_timepoints = 501,\n",
    "                                 n_channels=30, \n",
    "                                 n_classes=1, \n",
    "                                 shuffle=True)"
   ]
  },
  {
   "cell_type": "code",
   "execution_count": 115,
   "metadata": {},
   "outputs": [],
   "source": [
    "X, y  = test_generator.__getitem__(0)"
   ]
  },
  {
   "cell_type": "code",
   "execution_count": 116,
   "metadata": {},
   "outputs": [
    {
     "data": {
      "text/plain": [
       "((230, 501, 30), (230, 2))"
      ]
     },
     "execution_count": 116,
     "metadata": {},
     "output_type": "execute_result"
    }
   ],
   "source": [
    "X.shape, y.shape"
   ]
  },
  {
   "cell_type": "code",
   "execution_count": 117,
   "metadata": {},
   "outputs": [
    {
     "data": {
      "text/plain": [
       "array([[1, 0],\n",
       "       [1, 0],\n",
       "       [1, 0],\n",
       "       [1, 0],\n",
       "       [1, 0],\n",
       "       [0, 1],\n",
       "       [1, 0],\n",
       "       [0, 1],\n",
       "       [1, 0],\n",
       "       [0, 1]])"
      ]
     },
     "execution_count": 117,
     "metadata": {},
     "output_type": "execute_result"
    }
   ],
   "source": [
    "y[:10]"
   ]
  },
  {
   "cell_type": "code",
   "execution_count": 118,
   "metadata": {},
   "outputs": [],
   "source": [
    "# Check model predictions:\n",
    "y_pred = model_inception.predict(X)"
   ]
  },
  {
   "cell_type": "code",
   "execution_count": 119,
   "metadata": {},
   "outputs": [
    {
     "data": {
      "text/plain": [
       "array([[0.3341584 , 0.6658416 ],\n",
       "       [0.344618  , 0.65538204],\n",
       "       [0.2576775 , 0.7423225 ],\n",
       "       [0.37759927, 0.6224007 ],\n",
       "       [0.52407193, 0.475928  ],\n",
       "       [0.62919545, 0.37080455],\n",
       "       [0.6231958 , 0.37680414],\n",
       "       [0.39207152, 0.60792845],\n",
       "       [0.78660256, 0.21339749],\n",
       "       [0.8493071 , 0.15069288]], dtype=float32)"
      ]
     },
     "execution_count": 119,
     "metadata": {},
     "output_type": "execute_result"
    }
   ],
   "source": [
    "y_pred[:10]"
   ]
  },
  {
   "cell_type": "code",
   "execution_count": 120,
   "metadata": {},
   "outputs": [
    {
     "name": "stdout",
     "output_type": "stream",
     "text": [
      "[1 1 1 1 0 0 0 1 0 0 0 1 1 1 1 0 1 0 1 1 1 1 1 0 1 0 0 1 1 1]\n",
      "[0 0 0 0 0 1 0 1 0 1 1 0 1 0 0 0 1 1 0 1 0 1 1 1 0 1 0 0 1 0]\n"
     ]
    }
   ],
   "source": [
    "print(np.argmax(y_pred, axis=1)[:30])\n",
    "print(np.argmax(y, axis=1)[:30])"
   ]
  },
  {
   "cell_type": "code",
   "execution_count": 121,
   "metadata": {},
   "outputs": [
    {
     "name": "stdout",
     "output_type": "stream",
     "text": [
      "true:  119\n",
      "false:  111\n"
     ]
    }
   ],
   "source": [
    "print(\"true: \", np.sum(np.argmax(y_pred, axis=1) == np.argmax(y, axis=1)))\n",
    "print(\"false: \", np.sum(np.argmax(y_pred, axis=1) != np.argmax(y, axis=1)))"
   ]
  },
  {
   "cell_type": "code",
   "execution_count": 122,
   "metadata": {},
   "outputs": [
    {
     "name": "stdout",
     "output_type": "stream",
     "text": [
      "Normalized confusion matrix\n",
      "[[0.35338346 0.64661654]\n",
      " [0.25773196 0.74226804]]\n"
     ]
    },
    {
     "data": {
      "image/png": "[encoded data removed]",
      "text/plain": [
       "<Figure size 432x288 with 2 Axes>"
      ]
     },
     "metadata": {
      "needs_background": "light"
     },
     "output_type": "display_data"
    }
   ],
   "source": [
    "# Plot normalized confusion matrix\n",
    "labels = list(binarizer_dict.keys())\n",
    "\n",
    "plot_confusion_matrix(np.argmax(y, axis=1), \n",
    "                      np.argmax(y_pred, axis=1), \n",
    "                      classes=labels, normalize=True,\n",
    "                      title='Normalized confusion matrix')\n",
    "\n",
    "plt.savefig('confusion_matrix123.pdf')"
   ]
  }
 ],
 "metadata": {
  "kernelspec": {
   "display_name": "Python 3",
   "language": "python",
   "name": "python3"
  },
  "language_info": {
   "codemirror_mode": {
    "name": "ipython",
    "version": 3
   },
   "file_extension": ".py",
   "mimetype": "text/x-python",
   "name": "python",
   "nbconvert_exporter": "python",
   "pygments_lexer": "ipython3",
   "version": "3.6.8"
  }
 },
 "nbformat": 4,
 "nbformat_minor": 2
}
