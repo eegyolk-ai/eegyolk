{
 "cells": [
  {
   "cell_type": "markdown",
   "id": "15a85b35",
   "metadata": {},
   "source": [
    "# Checksum for EEG data : universal algorithm"
   ]
  },
  {
   "cell_type": "markdown",
   "id": "88969c16",
   "metadata": {},
   "source": [
    "The following notebook has been created to make checksum for any EEG data whether it is corrupted or not, no matter the file format. It will also work for text files i.e. the usual metadata and associated data. The only file types it is nor designed for are image, video and audio files."
   ]
  },
  {
   "cell_type": "code",
   "execution_count": 1,
   "id": "f40c419a",
   "metadata": {},
   "outputs": [],
   "source": [
    "# import libraries \n",
    "import glob\n",
    "import os\n",
    "\n",
    "import pandas as pd\n",
    "import numpy as np\n",
    "\n",
    "#import mne\n",
    "import hashlib\n",
    "import h5py\n",
    "#import fnmatch\n",
    "import warnings\n",
    "import re\n",
    "\n",
    "warnings.filterwarnings('ignore')"
   ]
  },
  {
   "cell_type": "markdown",
   "id": "75cf7098",
   "metadata": {},
   "source": [
    "Step 1: Let's pair each of our files (by the content inside) with a hash, and throw the info in a dataframe"
   ]
  },
  {
   "cell_type": "code",
   "execution_count": 3,
   "id": "ae6369f0",
   "metadata": {},
   "outputs": [],
   "source": [
    "## here is an example\n",
    "#eeg_files_folder = ##'C:/Users/makeda/OneDrive - Netherlands eScience Center/cnts.tar/out/'"
   ]
  },
  {
   "cell_type": "code",
   "execution_count": 13,
   "id": "5d493941",
   "metadata": {},
   "outputs": [],
   "source": [
    "def hash_it_up_right_all(origin_folder1, file_extension):\n",
    "    hash_list = []\n",
    "    file_names = []\n",
    "    files = '*' + file_extension\n",
    "    non_suspects1 = glob.glob(os.path.join(origin_folder1, files))\n",
    "    BUF_SIZE = 65536\n",
    "    for file in non_suspects1:\n",
    "        sha256 = hashlib.sha256()\n",
    "        with open(file, 'rb') as f:\n",
    "            while True:\n",
    "                data = f.read(BUF_SIZE)\n",
    "                if not data:\n",
    "                    break\n",
    "                sha256.update(data)\n",
    "        result = sha256.hexdigest()\n",
    "        hash_list.append(result)\n",
    "        file_names.append(file)\n",
    "        \n",
    "    df = pd.DataFrame(hash_list, file_names)\n",
    "    df.columns = [\"hash\"]\n",
    "    df = df.reset_index() \n",
    "    df = df.rename(columns = {'index':'file_name'})\n",
    "    \n",
    "    return df"
   ]
  },
  {
   "cell_type": "code",
   "execution_count": 11,
   "id": "3f59b06a",
   "metadata": {},
   "outputs": [],
   "source": [
    "## here is an example\n",
    "#old_published_data_eegs = hash_it_up_right_all(eeg_files_folder,'.cnt')\n"
   ]
  },
  {
   "cell_type": "code",
   "execution_count": 14,
   "id": "d95e1e5e",
   "metadata": {},
   "outputs": [],
   "source": [
    "#old_published_data_eegs"
   ]
  },
  {
   "cell_type": "code",
   "execution_count": null,
   "id": "70e65d5c",
   "metadata": {},
   "outputs": [],
   "source": []
  }
 ],
 "metadata": {
  "kernelspec": {
   "display_name": "Python 3 (ipykernel)",
   "language": "python",
   "name": "python3"
  },
  "language_info": {
   "codemirror_mode": {
    "name": "ipython",
    "version": 3
   },
   "file_extension": ".py",
   "mimetype": "text/x-python",
   "name": "python",
   "nbconvert_exporter": "python",
   "pygments_lexer": "ipython3",
   "version": "3.8.6"
  }
 },
 "nbformat": 4,
 "nbformat_minor": 5
}
