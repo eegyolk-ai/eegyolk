{
 "cells": [
  {
   "cell_type": "markdown",
   "metadata": {},
   "source": [
    "# EEG preprocessing "
   ]
  },
  {
   "cell_type": "markdown",
   "metadata": {},
   "source": [
    "## Imports"
   ]
  },
  {
   "cell_type": "markdown",
   "metadata": {},
   "source": [
    "The data will be processed using the mne library. Also there are libraries made in eegyolk in order to load the metadata, eeg data and the event markers. Those libraries need to be imported"
   ]
  },
  {
   "cell_type": "code",
   "execution_count": null,
   "metadata": {},
   "outputs": [],
   "source": [
    "import mne      # toolbox for analyzing and visualizing EEG data\n",
    "import os       # using operating system dependent functionality (folders)\n",
    "import pandas as pd # data analysis and manipulation\n",
    "import numpy as np    # numerical computing (manipulating and performing operations on arrays of data)\n",
    "import copy     # Can Copy and Deepcopy files so original file is untouched.\n",
    "from ipywidgets import IntSlider, Output\n",
    "import ipywidgets as widgets\n",
    "from IPython.display import display\n",
    "#import matplotlib.pyplot as plt\n",
    "\n",
    "import sys\n",
    "sys.path.insert(0, '../eegyolk') # path to helper functions\n",
    "from eegyolk import helper_functions as hf # library useful for eeg and erp data cleaning\n",
    "from eegyolk import initialization_functions #library to import data\n",
    "from eegyolk import epod_helper"
   ]
  },
  {
   "cell_type": "markdown",
   "metadata": {},
   "source": [
    "## Load metadata and eeg files"
   ]
  },
  {
   "cell_type": "markdown",
   "metadata": {},
   "source": [
    "First the different pathways for the different datasets need to be defined. There are three pathways: eeg, metadata and events. The files can be loaded using the initialization_functions library. All event markers needs to be saved in a seperate folder. If not saved already, the event markers will be saved using the initialization_function library. "
   ]
  },
  {
   "cell_type": "code",
   "execution_count": 2,
   "metadata": {},
   "outputs": [],
   "source": [
    "# define pathways\n",
    "# path_eeg = os.path.join(\"F:\", os.sep, \"Stage\", \"ePODIUM\", \"Data\", \"not_zip\")\n",
    "# path_metadata = os.path.join(\"F:\", os.sep, \"Stage\", \"ePODIUM\", \"Data\", \"metadata\")\n",
    "# path_eventmarkers = os.path.join(\"F:\", os.sep, \"Stage\", \"ePODIUM\", \"Data\", \"not_zip\", \"event_markers\")\n",
    "#path_excelFiles = 'C:/Projects/new_data_karin_EEG/metadata/'\n",
    "\n",
    "path_metadata = os.path.join('../epod_data_not_pushed','metadata')\n",
    "path_eeg = os.path.join('../epod_data_not_pushed','not_zip')\n",
    "path_eventmarkers = os.path.join('../epod_data_not_pushed','not_zip', 'event_markers')"
   ]
  },
  {
   "cell_type": "code",
   "execution_count": 6,
   "metadata": {},
   "outputs": [],
   "source": [
    "# load metadata and eeg\n",
    "files_metadata = [\"children.txt\", \"cdi.txt\", \"parents.txt\", \"CODES_overview.txt\"]  \n",
    "children, cdi, parents, codes = initialization_functions.load_metadata(path_metadata, files_metadata)"
   ]
  },
  {
   "cell_type": "code",
   "execution_count": 7,
   "metadata": {},
   "outputs": [],
   "source": [
    "#eeg, eeg_filename =  initialization_functions.generator_load_dataset(path_eeg) # load eeg"
   ]
  },
  {
   "cell_type": "code",
   "execution_count": 8,
   "metadata": {},
   "outputs": [],
   "source": [
    "# # load events \n",
    "# events_files = os.listdir(path_eventmarkers)\n",
    "# if len(events_files) == 0 or path_eventmarkers == False: # check if event markers are saved in a seperate folder\n",
    "#     initialization_functions.save_event_markers(path_eventmarkers, eeg, eeg_filenames) # save event markers\n",
    "    \n",
    "# event_markers = initialization_functions.load_event_markers(path_eventmarkers, eeg_filenames) # load event markers\n",
    "# event_markers_simplified = epod_helper.group_event_markers(event_markers) # simplify events"
   ]
  },
  {
   "cell_type": "code",
   "execution_count": 9,
   "metadata": {},
   "outputs": [],
   "source": [
    "path_eventmarkers2= 'love'\n",
    "events_files = os.listdir(path_eventmarkers2)\n",
    "if not events_files:\n",
    "    initialization_functions.caller_save_event_markers(path_eventmarkers2, initialization_functions.generator_load_dataset(path_eeg))\n",
    "        "
   ]
  },
  {
   "cell_type": "markdown",
   "metadata": {},
   "source": [
    "## Data info"
   ]
  },
  {
   "cell_type": "markdown",
   "metadata": {},
   "source": [
    "Choose which participant you want to view in the box below. "
   ]
  },
  {
   "cell_type": "code",
   "execution_count": 8,
   "metadata": {},
   "outputs": [
    {
     "data": {
      "application/vnd.jupyter.widget-view+json": {
       "model_id": "397e879d355d4476af1ad72b131672e4",
       "version_major": 2,
       "version_minor": 0
      },
      "text/plain": [
       "VBox(children=(IntText(value=0, description='Participant', step=0),))"
      ]
     },
     "metadata": {},
     "output_type": "display_data"
    }
   ],
   "source": [
    "index = widgets.IntText(\n",
    "    step=0.1,\n",
    "    description='Participant',\n",
    "    disabled=False\n",
    ")\n",
    "widgets.VBox([index])"
   ]
  },
  {
   "cell_type": "code",
   "execution_count": 11,
   "metadata": {},
   "outputs": [
    {
     "name": "stdout",
     "output_type": "stream",
     "text": [
      "<class 'int'>\n"
     ]
    }
   ],
   "source": [
    "index = 5\n",
    "print(type(index))"
   ]
  },
  {
   "cell_type": "code",
   "execution_count": 12,
   "metadata": {},
   "outputs": [
    {
     "data": {
      "text/plain": [
       "['../epod_data_not_pushed\\\\not_zip\\\\101to110\\\\101to110\\\\101\\\\101a\\\\101a.bdf',\n",
       " '../epod_data_not_pushed\\\\not_zip\\\\101to110\\\\101to110\\\\101\\\\101b\\\\101b.bdf',\n",
       " '../epod_data_not_pushed\\\\not_zip\\\\101to110\\\\101to110\\\\102\\\\102a\\\\102a.bdf',\n",
       " '../epod_data_not_pushed\\\\not_zip\\\\101to110\\\\101to110\\\\102\\\\102b\\\\102b.bdf',\n",
       " '../epod_data_not_pushed\\\\not_zip\\\\101to110\\\\101to110\\\\103\\\\103a\\\\103a.bdf',\n",
       " '../epod_data_not_pushed\\\\not_zip\\\\101to110\\\\101to110\\\\103\\\\103b\\\\103b.bdf',\n",
       " '../epod_data_not_pushed\\\\not_zip\\\\101to110\\\\101to110\\\\104\\\\104a\\\\104a.bdf',\n",
       " '../epod_data_not_pushed\\\\not_zip\\\\101to110\\\\101to110\\\\104\\\\104b\\\\104b.bdf',\n",
       " '../epod_data_not_pushed\\\\not_zip\\\\101to110\\\\101to110\\\\105\\\\105a\\\\105a.bdf',\n",
       " '../epod_data_not_pushed\\\\not_zip\\\\101to110\\\\101to110\\\\105\\\\105b\\\\105b.bdf',\n",
       " '../epod_data_not_pushed\\\\not_zip\\\\101to110\\\\101to110\\\\106\\\\106a\\\\106a.bdf',\n",
       " '../epod_data_not_pushed\\\\not_zip\\\\101to110\\\\101to110\\\\106\\\\106b\\\\106b.bdf',\n",
       " '../epod_data_not_pushed\\\\not_zip\\\\101to110\\\\101to110\\\\107\\\\107a\\\\107a.bdf',\n",
       " '../epod_data_not_pushed\\\\not_zip\\\\101to110\\\\101to110\\\\107\\\\107b\\\\107b (deel 1+2).bdf',\n",
       " '../epod_data_not_pushed\\\\not_zip\\\\101to110\\\\101to110\\\\107\\\\107b\\\\107b (deel 3+4).bdf',\n",
       " '../epod_data_not_pushed\\\\not_zip\\\\101to110\\\\101to110\\\\108\\\\108a\\\\108a.bdf',\n",
       " '../epod_data_not_pushed\\\\not_zip\\\\101to110\\\\101to110\\\\109\\\\109a\\\\109a.bdf',\n",
       " '../epod_data_not_pushed\\\\not_zip\\\\101to110\\\\101to110\\\\109\\\\109b\\\\109b.bdf',\n",
       " '../epod_data_not_pushed\\\\not_zip\\\\101to110\\\\101to110\\\\110\\\\110a\\\\110a.bdf',\n",
       " '../epod_data_not_pushed\\\\not_zip\\\\101to110\\\\101to110\\\\110\\\\110b\\\\110b.bdf',\n",
       " '../epod_data_not_pushed\\\\not_zip\\\\121to130\\\\121to130\\\\121\\\\121a\\\\121a.bdf',\n",
       " '../epod_data_not_pushed\\\\not_zip\\\\121to130\\\\121to130\\\\121\\\\121b\\\\121b(1).bdf',\n",
       " '../epod_data_not_pushed\\\\not_zip\\\\121to130\\\\121to130\\\\121\\\\121b\\\\121b(2).bdf',\n",
       " '../epod_data_not_pushed\\\\not_zip\\\\121to130\\\\121to130\\\\122\\\\122a\\\\122a.bdf',\n",
       " '../epod_data_not_pushed\\\\not_zip\\\\121to130\\\\121to130\\\\122\\\\122b\\\\122b.bdf',\n",
       " '../epod_data_not_pushed\\\\not_zip\\\\121to130\\\\121to130\\\\123\\\\123a\\\\123a.bdf',\n",
       " '../epod_data_not_pushed\\\\not_zip\\\\121to130\\\\121to130\\\\123\\\\123b\\\\123b.bdf',\n",
       " '../epod_data_not_pushed\\\\not_zip\\\\121to130\\\\121to130\\\\124\\\\124a\\\\124a.bdf',\n",
       " '../epod_data_not_pushed\\\\not_zip\\\\121to130\\\\121to130\\\\125\\\\125a\\\\125a.bdf',\n",
       " '../epod_data_not_pushed\\\\not_zip\\\\121to130\\\\121to130\\\\125\\\\125b\\\\125b.bdf',\n",
       " '../epod_data_not_pushed\\\\not_zip\\\\121to130\\\\121to130\\\\126\\\\126a\\\\126a.bdf',\n",
       " '../epod_data_not_pushed\\\\not_zip\\\\121to130\\\\121to130\\\\126\\\\126b\\\\126b.bdf',\n",
       " '../epod_data_not_pushed\\\\not_zip\\\\121to130\\\\121to130\\\\127\\\\127a\\\\127a.bdf',\n",
       " '../epod_data_not_pushed\\\\not_zip\\\\121to130\\\\121to130\\\\127\\\\127b\\\\127b.bdf',\n",
       " '../epod_data_not_pushed\\\\not_zip\\\\121to130\\\\121to130\\\\128\\\\128a\\\\128a.bdf',\n",
       " '../epod_data_not_pushed\\\\not_zip\\\\121to130\\\\121to130\\\\128\\\\128b\\\\128b.bdf',\n",
       " '../epod_data_not_pushed\\\\not_zip\\\\121to130\\\\121to130\\\\129\\\\129a\\\\129a.bdf',\n",
       " '../epod_data_not_pushed\\\\not_zip\\\\121to130\\\\121to130\\\\129\\\\129b\\\\129b.bdf',\n",
       " '../epod_data_not_pushed\\\\not_zip\\\\121to130\\\\121to130\\\\130\\\\130a\\\\130a.bdf',\n",
       " '../epod_data_not_pushed\\\\not_zip\\\\121to130\\\\121to130\\\\130\\\\130b\\\\130b.bdf',\n",
       " '../epod_data_not_pushed\\\\not_zip\\\\131to140\\\\131to140\\\\131\\\\131a\\\\131a.bdf',\n",
       " '../epod_data_not_pushed\\\\not_zip\\\\131to140\\\\131to140\\\\131\\\\131b\\\\131b.bdf',\n",
       " '../epod_data_not_pushed\\\\not_zip\\\\131to140\\\\131to140\\\\132\\\\132a\\\\132a.bdf',\n",
       " '../epod_data_not_pushed\\\\not_zip\\\\131to140\\\\131to140\\\\132\\\\132b\\\\132b.bdf',\n",
       " '../epod_data_not_pushed\\\\not_zip\\\\131to140\\\\131to140\\\\133\\\\133a\\\\133a.bdf',\n",
       " '../epod_data_not_pushed\\\\not_zip\\\\131to140\\\\131to140\\\\133\\\\133b\\\\133b.bdf',\n",
       " '../epod_data_not_pushed\\\\not_zip\\\\131to140\\\\131to140\\\\134\\\\134a\\\\134a.bdf',\n",
       " '../epod_data_not_pushed\\\\not_zip\\\\131to140\\\\131to140\\\\134\\\\134b\\\\134b.bdf',\n",
       " '../epod_data_not_pushed\\\\not_zip\\\\131to140\\\\131to140\\\\135\\\\135a\\\\135a.bdf',\n",
       " '../epod_data_not_pushed\\\\not_zip\\\\131to140\\\\131to140\\\\135\\\\135b\\\\135b.bdf',\n",
       " '../epod_data_not_pushed\\\\not_zip\\\\131to140\\\\131to140\\\\136\\\\136a\\\\136a.bdf',\n",
       " '../epod_data_not_pushed\\\\not_zip\\\\131to140\\\\131to140\\\\136\\\\136b\\\\136b.bdf',\n",
       " '../epod_data_not_pushed\\\\not_zip\\\\131to140\\\\131to140\\\\137\\\\137a\\\\137a.bdf',\n",
       " '../epod_data_not_pushed\\\\not_zip\\\\131to140\\\\131to140\\\\137\\\\137b\\\\137b.bdf',\n",
       " '../epod_data_not_pushed\\\\not_zip\\\\131to140\\\\131to140\\\\138\\\\138a\\\\138a.bdf',\n",
       " '../epod_data_not_pushed\\\\not_zip\\\\131to140\\\\131to140\\\\138\\\\138b\\\\138b.bdf',\n",
       " '../epod_data_not_pushed\\\\not_zip\\\\131to140\\\\131to140\\\\139\\\\139a\\\\139a.bdf',\n",
       " '../epod_data_not_pushed\\\\not_zip\\\\131to140\\\\131to140\\\\139\\\\139b\\\\139b.bdf',\n",
       " '../epod_data_not_pushed\\\\not_zip\\\\131to140\\\\131to140\\\\140\\\\140a\\\\140a.bdf',\n",
       " '../epod_data_not_pushed\\\\not_zip\\\\131to140\\\\131to140\\\\140\\\\140b\\\\140b.bdf',\n",
       " '../epod_data_not_pushed\\\\not_zip\\\\141to150\\\\141to150\\\\141a\\\\141a.bdf',\n",
       " '../epod_data_not_pushed\\\\not_zip\\\\141to150\\\\141to150\\\\142\\\\142a\\\\142a.bdf',\n",
       " '../epod_data_not_pushed\\\\not_zip\\\\141to150\\\\141to150\\\\142\\\\142b\\\\142b.bdf',\n",
       " '../epod_data_not_pushed\\\\not_zip\\\\141to150\\\\141to150\\\\143\\\\143a\\\\143a.bdf',\n",
       " '../epod_data_not_pushed\\\\not_zip\\\\141to150\\\\141to150\\\\143\\\\143b\\\\143b.bdf',\n",
       " '../epod_data_not_pushed\\\\not_zip\\\\141to150\\\\141to150\\\\144\\\\144a\\\\144a.bdf',\n",
       " '../epod_data_not_pushed\\\\not_zip\\\\141to150\\\\141to150\\\\144\\\\144b\\\\144b.bdf',\n",
       " '../epod_data_not_pushed\\\\not_zip\\\\141to150\\\\141to150\\\\145\\\\145a\\\\145a.bdf',\n",
       " '../epod_data_not_pushed\\\\not_zip\\\\141to150\\\\141to150\\\\145\\\\145b\\\\145b.bdf',\n",
       " '../epod_data_not_pushed\\\\not_zip\\\\141to150\\\\141to150\\\\146\\\\146a\\\\146a.bdf',\n",
       " '../epod_data_not_pushed\\\\not_zip\\\\141to150\\\\141to150\\\\146\\\\146b\\\\146b.bdf',\n",
       " '../epod_data_not_pushed\\\\not_zip\\\\141to150\\\\141to150\\\\147a\\\\147a.bdf',\n",
       " '../epod_data_not_pushed\\\\not_zip\\\\141to150\\\\141to150\\\\148\\\\148a\\\\148a.bdf',\n",
       " '../epod_data_not_pushed\\\\not_zip\\\\141to150\\\\141to150\\\\148\\\\148b\\\\148b.bdf',\n",
       " '../epod_data_not_pushed\\\\not_zip\\\\141to150\\\\141to150\\\\149\\\\149a\\\\149a.bdf',\n",
       " '../epod_data_not_pushed\\\\not_zip\\\\141to150\\\\141to150\\\\149\\\\149b\\\\149b.bdf',\n",
       " '../epod_data_not_pushed\\\\not_zip\\\\141to150\\\\141to150\\\\150\\\\150a\\\\150a.bdf',\n",
       " '../epod_data_not_pushed\\\\not_zip\\\\141to150\\\\141to150\\\\150\\\\150b\\\\150b.bdf',\n",
       " '../epod_data_not_pushed\\\\not_zip\\\\151to160\\\\151to160\\\\151\\\\151a\\\\151a.bdf',\n",
       " '../epod_data_not_pushed\\\\not_zip\\\\151to160\\\\151to160\\\\151\\\\151b\\\\151b.bdf',\n",
       " '../epod_data_not_pushed\\\\not_zip\\\\151to160\\\\151to160\\\\152\\\\152a\\\\152a.bdf',\n",
       " '../epod_data_not_pushed\\\\not_zip\\\\151to160\\\\151to160\\\\152\\\\152b\\\\152b.bdf',\n",
       " '../epod_data_not_pushed\\\\not_zip\\\\151to160\\\\151to160\\\\153\\\\153a\\\\153a.bdf',\n",
       " '../epod_data_not_pushed\\\\not_zip\\\\151to160\\\\151to160\\\\153\\\\153b\\\\153b.bdf',\n",
       " '../epod_data_not_pushed\\\\not_zip\\\\151to160\\\\151to160\\\\154\\\\154a\\\\154a.bdf',\n",
       " '../epod_data_not_pushed\\\\not_zip\\\\151to160\\\\151to160\\\\154\\\\154b\\\\154b.bdf',\n",
       " '../epod_data_not_pushed\\\\not_zip\\\\151to160\\\\151to160\\\\155\\\\155a\\\\155a.bdf',\n",
       " '../epod_data_not_pushed\\\\not_zip\\\\151to160\\\\151to160\\\\155\\\\155b\\\\155b.bdf',\n",
       " '../epod_data_not_pushed\\\\not_zip\\\\151to160\\\\151to160\\\\156\\\\156a\\\\156a.bdf',\n",
       " '../epod_data_not_pushed\\\\not_zip\\\\151to160\\\\151to160\\\\156\\\\156b\\\\156b.bdf',\n",
       " '../epod_data_not_pushed\\\\not_zip\\\\151to160\\\\151to160\\\\157\\\\157a\\\\157a.bdf',\n",
       " '../epod_data_not_pushed\\\\not_zip\\\\151to160\\\\151to160\\\\157\\\\157b\\\\157b.bdf',\n",
       " '../epod_data_not_pushed\\\\not_zip\\\\151to160\\\\151to160\\\\158\\\\158a\\\\158a.bdf',\n",
       " '../epod_data_not_pushed\\\\not_zip\\\\151to160\\\\151to160\\\\158\\\\158b\\\\158b.bdf',\n",
       " '../epod_data_not_pushed\\\\not_zip\\\\151to160\\\\151to160\\\\159\\\\159a\\\\159a.bdf',\n",
       " '../epod_data_not_pushed\\\\not_zip\\\\151to160\\\\151to160\\\\159\\\\159b\\\\159b.bdf',\n",
       " '../epod_data_not_pushed\\\\not_zip\\\\151to160\\\\151to160\\\\160\\\\160a\\\\160a (2).bdf',\n",
       " '../epod_data_not_pushed\\\\not_zip\\\\151to160\\\\151to160\\\\160\\\\160a\\\\160a.bdf',\n",
       " '../epod_data_not_pushed\\\\not_zip\\\\151to160\\\\151to160\\\\160\\\\160b\\\\160b.bdf']"
      ]
     },
     "execution_count": 12,
     "metadata": {},
     "output_type": "execute_result"
    }
   ],
   "source": [
    "import glob \n",
    "pattern = os.path.join(path_eeg, '**/*' +'.bdf')\n",
    "eeg_filepaths = glob.glob(pattern, recursive=True)\n",
    "#eeg_list= os.listdir(path_eeg)\n",
    "#eeg_list\n",
    "eeg_filepaths"
   ]
  },
  {
   "cell_type": "code",
   "execution_count": 17,
   "metadata": {},
   "outputs": [
    {
     "name": "stdout",
     "output_type": "stream",
     "text": [
      "Extracting EDF parameters from C:\\Projects\\ePodium\\epod_data_not_pushed\\not_zip\\101to110\\101to110\\103\\103b\\103b.bdf...\n",
      "BDF file detected\n",
      "Setting channel info structure...\n",
      "Creating raw.info structure...\n",
      "Reading 0 ... 4294655  =      0.000 ...  2097.000 secs...\n",
      "\n",
      " <Info | 7 non-empty values\n",
      " bads: []\n",
      " ch_names: Fp1, AF3, F7, F3, FC1, FC5, T7, C3, CP1, CP5, P7, P3, Pz, PO3, ...\n",
      " chs: 40 EEG, 1 Stimulus\n",
      " custom_ref_applied: False\n",
      " highpass: 0.0 Hz\n",
      " lowpass: 417.0 Hz\n",
      " meas_date: 2021-06-16 10:34:04 UTC\n",
      " nchan: 41\n",
      " projs: []\n",
      " sfreq: 2048.0 Hz\n",
      ">\n"
     ]
    }
   ],
   "source": [
    "eeg_string = eeg_filepaths[index]\n",
    "\n",
    "eeg= mne.io.read_raw_bdf(eeg_string,preload=True)\n",
    "print(\"\\n\", eeg.info)"
   ]
  },
  {
   "cell_type": "code",
   "execution_count": 18,
   "metadata": {},
   "outputs": [
    {
     "data": {
      "image/png": "[encoded data removed]",
      "text/plain": [
       "<Figure size 432x432 with 1 Axes>"
      ]
     },
     "metadata": {
      "needs_background": "light"
     },
     "output_type": "display_data"
    },
    {
     "data": {
      "image/png": "[encoded data removed]",
      "text/plain": [
       "<Figure size 432x432 with 1 Axes>"
      ]
     },
     "execution_count": 18,
     "metadata": {},
     "output_type": "execute_result"
    }
   ],
   "source": [
    "# plot of the used sensors\n",
    "montage = mne.channels.make_standard_montage('standard_1020')\n",
    "#montage.plot(kind='topomap', show_names=True)\n",
    "eeg.info.set_montage(montage, on_missing='ignore')\n",
    "eeg.plot_sensors(ch_type='eeg', show_names=True)"
   ]
  },
  {
   "cell_type": "code",
   "execution_count": 19,
   "metadata": {},
   "outputs": [
    {
     "name": "stdout",
     "output_type": "stream",
     "text": [
      "Using qt as 2D backend.\n",
      "Opening raw-browser...\n"
     ]
    },
    {
     "data": {
      "text/plain": [
       "<mne_qt_browser._pg_figure.PyQtGraphBrowser at 0x17308862050>"
      ]
     },
     "execution_count": 19,
     "metadata": {},
     "output_type": "execute_result"
    }
   ],
   "source": [
    "eeg.plot()"
   ]
  },
  {
   "cell_type": "code",
   "execution_count": 20,
   "metadata": {},
   "outputs": [
    {
     "ename": "NameError",
     "evalue": "name 'event_markers_simplified' is not defined",
     "output_type": "error",
     "traceback": [
      "\u001b[1;31m---------------------------------------------------------------------------\u001b[0m",
      "\u001b[1;31mNameError\u001b[0m                                 Traceback (most recent call last)",
      "Input \u001b[1;32mIn [20]\u001b[0m, in \u001b[0;36m<cell line: 2>\u001b[1;34m()\u001b[0m\n\u001b[0;32m      1\u001b[0m get_ipython()\u001b[38;5;241m.\u001b[39mrun_line_magic(\u001b[38;5;124m'\u001b[39m\u001b[38;5;124mmatplotlib\u001b[39m\u001b[38;5;124m'\u001b[39m, \u001b[38;5;124m'\u001b[39m\u001b[38;5;124minline\u001b[39m\u001b[38;5;124m'\u001b[39m)\n\u001b[1;32m----> 2\u001b[0m fig \u001b[38;5;241m=\u001b[39m mne\u001b[38;5;241m.\u001b[39mviz\u001b[38;5;241m.\u001b[39mplot_events(\u001b[43mevent_markers_simplified\u001b[49m[index], event_id \u001b[38;5;241m=\u001b[39m epod_helper\u001b[38;5;241m.\u001b[39mevent_dictionary)\n",
      "\u001b[1;31mNameError\u001b[0m: name 'event_markers_simplified' is not defined"
     ]
    }
   ],
   "source": [
    "%matplotlib inline \n",
    "fig = mne.viz.plot_events(event_markers_simplified[index], event_id = epod_helper.event_dictionary)"
   ]
  },
  {
   "cell_type": "markdown",
   "metadata": {},
   "source": [
    "## Filtering"
   ]
  },
  {
   "cell_type": "code",
   "execution_count": null,
   "metadata": {},
   "outputs": [],
   "source": [
    "# bad channel remover\n",
    "def removebadchannel(eeg):\n",
    "    for i in range(len(eeg)):\n",
    "        if len(eeg[i].info['bads']) != 0:\n",
    "            eeg[index] = mne.pick_types(eeg[i].info, meg=False, eeg=True, exclude='bads')\n",
    "    return eeg\n",
    "removebadchannel(eeg)"
   ]
  },
  {
   "cell_type": "code",
   "execution_count": null,
   "metadata": {},
   "outputs": [],
   "source": [
    "lowpass = widgets.IntText(\n",
    "    step=0.1,\n",
    "    description='lowpass:',\n",
    "    disabled=False\n",
    ")\n",
    "\n",
    "highpass = widgets.IntText(\n",
    "    step=0.1,\n",
    "    description='highpass:',\n",
    "    disabled=False\n",
    ")\n",
    "\n",
    "widgets.VBox([lowpass,highpass])\n"
   ]
  },
  {
   "cell_type": "code",
   "execution_count": null,
   "metadata": {},
   "outputs": [],
   "source": [
    "# change type to integer\n",
    "lowpass = int(lowpass.value)\n",
    "highpass = int(highpass.value)"
   ]
  },
  {
   "cell_type": "markdown",
   "metadata": {},
   "source": [
    "Bandpass filter doesn't work due to memory issues. Can be fixed with preload = True in the load_data() in helper_functions.py. However, jupyter crashes due to lack of memory when done. Needs to be fixed."
   ]
  },
  {
   "cell_type": "code",
   "execution_count": null,
   "metadata": {},
   "outputs": [],
   "source": [
    "# bandpass filter\n",
    "for index in range(len(eeg)): eeg[index] = hf.band_pass_filter(eeg[index], lowpass, highpass)"
   ]
  },
  {
   "cell_type": "markdown",
   "metadata": {},
   "source": [
    "Below a working filter, but not imported from helper_functions.py. This is a band pass filter with defined frequency. The filter is useful for limitting the bandwidth of the output signal to avoid noise. "
   ]
  },
  {
   "cell_type": "code",
   "execution_count": null,
   "metadata": {},
   "outputs": [],
   "source": [
    "# plotting filter\n",
    "filter_params = mne.filter.create_filter(eeg[index].get_data(), eeg[index].info['sfreq'],\n",
    "                                         l_freq=lowpass, h_freq=highpass)\n",
    "mne.viz.plot_filter(filter_params, eeg[index].info['sfreq'], flim=(0.01, 5))"
   ]
  },
  {
   "cell_type": "markdown",
   "metadata": {},
   "source": [
    "The data contains power line noise which disrupts the rest of the signal. The notch filter filters out the fequency of 50 Hz. Does not work because of the preload memory issue. "
   ]
  },
  {
   "cell_type": "code",
   "execution_count": null,
   "metadata": {},
   "outputs": [],
   "source": [
    "# create notch filter\n",
    "freqs = (60, 120, 180, 240)\n",
    "for i in range(len(eeg)): eeg[i] = eeg[i].notch_filter(freqs=freqs)"
   ]
  },
  {
   "cell_type": "markdown",
   "metadata": {},
   "source": [
    "## Creating epoched data"
   ]
  },
  {
   "cell_type": "markdown",
   "metadata": {},
   "source": [
    "Epochs are created with joining the eeg data with a specific event. tmin and tmax are the start and stop time relative to each event. mne.Epochs automaticaly create a baseline correction."
   ]
  },
  {
   "cell_type": "code",
   "execution_count": null,
   "metadata": {},
   "outputs": [],
   "source": [
    "def create_epochs(eeg, event_markers_simplified):\n",
    "    epochs =  []\n",
    "    for i in range(len(eeg)): \n",
    "        single_epoch = mne.Epochs(eeg[i], event_markers_simplified[i], tmin=-0.3, tmax=0.7)\n",
    "        epochs.append(single_epoch)\n",
    "    return epochs\n",
    "\n",
    "epochs = create_epochs(eeg, event_markers_simplified)"
   ]
  },
  {
   "cell_type": "code",
   "execution_count": null,
   "metadata": {},
   "outputs": [],
   "source": [
    "print(epochs)"
   ]
  },
  {
   "cell_type": "code",
   "execution_count": null,
   "metadata": {},
   "outputs": [],
   "source": [
    "event_dictionary = epod_helper.event_dictionary\n",
    "event_dictionary"
   ]
  },
  {
   "cell_type": "code",
   "execution_count": null,
   "metadata": {},
   "outputs": [],
   "source": [
    "def evoked_responses(epochs, event_dictionary):\n",
    "    evoked = []\n",
    "    for i in range(len(epod_helper.event_dictionary)):\n",
    "        avg_epoch = epochs[i].average()\n",
    "        evoked.append(avg_epoch)\n",
    "    return evoked\n",
    "\n",
    "evoked = evoked_responses(epochs, event_dictionary)\n",
    "        \n",
    "#evoked.plot()\n",
    "#print(([key for key in epod_helper.event_dictionary.keys()][i], [value for value in epod_helper.event_dictionary.values()][i]))\n",
    "        "
   ]
  },
  {
   "cell_type": "code",
   "execution_count": null,
   "metadata": {},
   "outputs": [],
   "source": [
    "#evoked[2].plot(spatial_colors=True)\n",
    "#print(([key for key in epod_helper.event_dictionary.keys()][i], [value for value in epod_helper.event_dictionary.values()][i]))"
   ]
  },
  {
   "cell_type": "markdown",
   "metadata": {},
   "source": [
    "## Create pandas dataset out of epoched data"
   ]
  },
  {
   "cell_type": "code",
   "execution_count": null,
   "metadata": {},
   "outputs": [],
   "source": [
    "epochs = epochs[0:4] # subset to test function\n",
    "def create_pd_df(epochs):\n",
    "    df_epochs = pd.DataFrame()\n",
    "\n",
    "    for i in range(len(epochs)):\n",
    "        df = epochs[i].to_data_frame()\n",
    "        df['index'] = i\n",
    "        df_epochs = df_epochs.append(df)\n",
    "    return df_epochs\n",
    "\n",
    "create_pd_df(epochs)"
   ]
  },
  {
   "cell_type": "code",
   "execution_count": null,
   "metadata": {},
   "outputs": [],
   "source": [
    "df_epochs"
   ]
  },
  {
   "cell_type": "code",
   "execution_count": null,
   "metadata": {},
   "outputs": [],
   "source": []
  }
 ],
 "metadata": {
  "kernelspec": {
   "display_name": "Python 3",
   "language": "python",
   "name": "python3"
  },
  "language_info": {
   "codemirror_mode": {
    "name": "ipython",
    "version": 3
   },
   "file_extension": ".py",
   "mimetype": "text/x-python",
   "name": "python",
   "nbconvert_exporter": "python",
   "pygments_lexer": "ipython3",
   "version": "3.6.9"
  }
 },
 "nbformat": 4,
 "nbformat_minor": 4
}
