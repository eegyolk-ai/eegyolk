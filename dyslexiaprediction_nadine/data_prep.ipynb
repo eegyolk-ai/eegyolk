{
 "cells": [
  {
   "cell_type": "markdown",
   "metadata": {},
   "source": [
    "# EEG preprocessing "
   ]
  },
  {
   "cell_type": "markdown",
   "metadata": {},
   "source": [
    "## Imports"
   ]
  },
  {
   "cell_type": "markdown",
   "metadata": {},
   "source": [
    "The data will be processed using the mne library. Also there are libraries made in eegyolk in order to load the metadata, eeg data and the event markers. Those libraries need to be imported"
   ]
  },
  {
   "cell_type": "code",
   "execution_count": 1,
   "metadata": {},
   "outputs": [],
   "source": [
    "import mne      # toolbox for analyzing and visualizing EEG data\n",
    "import os       # using operating system dependent functionality (folders)\n",
    "import pandas as pd # data analysis and manipulation\n",
    "import numpy as np    # numerical computing (manipulating and performing operations on arrays of data)\n",
    "import copy     # Can Copy and Deepcopy files so original file is untouched.\n",
    "from ipywidgets import IntSlider, Output\n",
    "import ipywidgets as widgets\n",
    "from IPython.display import display\n",
    "import matplotlib.pyplot as plt\n",
    "\n",
    "import sys\n",
    "sys.path.insert(0, '../eegyolk') # path to helper functions\n",
    "from eegyolk import helper_functions as hf # library useful for eeg and erp data cleaning\n",
    "from eegyolk import initialization_functions #library to import data\n",
    "from eegyolk import epod_helper"
   ]
  },
  {
   "cell_type": "markdown",
   "metadata": {},
   "source": [
    "## Load metadata and eeg files"
   ]
  },
  {
   "cell_type": "markdown",
   "metadata": {},
   "source": [
    "First the different pathways for the different datasets need to be defined. There are three pathways: eeg, metadata and events. The files can be loaded using the initialization_functions library. All event markers needs to be saved in a seperate folder. If not saved already, the event markers will be saved using the initialization_function library. "
   ]
  },
  {
   "cell_type": "code",
   "execution_count": 2,
   "metadata": {},
   "outputs": [],
   "source": [
    "# define pathways\n",
    "# path_eeg = os.path.join(\"F:\", os.sep, \"Stage\", \"ePODIUM\", \"Data\", \"not_zip\")\n",
    "# path_metadata = os.path.join(\"F:\", os.sep, \"Stage\", \"ePODIUM\", \"Data\", \"metadata\")\n",
    "# path_eventmarkers = os.path.join(\"F:\", os.sep, \"Stage\", \"ePODIUM\", \"Data\", \"not_zip\", \"event_markers\")\n",
    "\n",
    "path_metadata = os.path.join('../epod_data_not_pushed','metadata')\n",
    "#path_excelFiles = 'C:/Projects/new_data_karin_EEG/metadata/'\n",
    "path_eeg = os.path.join('../epod_data_not_pushed','not_zip')\n",
    "path_eventmarkers = os.path.join('../epod_data_not_pushed','not_zip', 'event_markers')"
   ]
  },
  {
   "cell_type": "code",
   "execution_count": 3,
   "metadata": {},
   "outputs": [
    {
     "data": {
      "text/plain": [
       "['101to110', '121to130', '131to140', '141to150', '151to160', 'event_markers']"
      ]
     },
     "execution_count": 3,
     "metadata": {},
     "output_type": "execute_result"
    }
   ],
   "source": [
    "# test to be removed\n",
    "os.listdir(path_eeg)"
   ]
  },
  {
   "cell_type": "code",
   "execution_count": 4,
   "metadata": {},
   "outputs": [],
   "source": [
    "# load metadata and eeg\n",
    "files_metadata = [\"children.txt\", \"cdi.txt\", \"parents.txt\", \"CODES_overview.txt\"]  \n",
    "children, cdi, parents, codes = initialization_functions.load_metadata(path_metadata, files_metadata)\n",
    "# load metadata"
   ]
  },
  {
   "cell_type": "code",
   "execution_count": 5,
   "metadata": {},
   "outputs": [],
   "source": [
    "# eeg, eeg_filenames, eeg_filepaths = initialization_functions.load_dataset(path_eeg) # load eeg"
   ]
  },
  {
   "cell_type": "code",
   "execution_count": 6,
   "metadata": {},
   "outputs": [],
   "source": [
    "# # load events \n",
    "# events_files = os.listdir(path_eventmarkers)\n",
    "# if len(events_files) == 0 or path_eventmarkers == False: # check if event markers are saved in a seperate folder\n",
    "#     initialization_functions.save_event_markers(path_eventmarkers, eeg, eeg_filenames) # save event markers\n",
    "    \n",
    "# event_markers = initialization_functions.load_event_markers(path_eventmarkers, eeg_filenames) # load event markers\n",
    "# event_markers_simplified = epod_helper.group_event_markers(event_markers) # simplify events"
   ]
  },
  {
   "cell_type": "code",
   "execution_count": 8,
   "metadata": {},
   "outputs": [
    {
     "name": "stdout",
     "output_type": "stream",
     "text": [
      "99 EEG files loaded\n"
     ]
    }
   ],
   "source": [
    "path_eventmarkers2= 'love'\n",
    "events_files = os.listdir(path_eventmarkers2)\n",
    "if not events_files:\n",
    "    initialization_functions.caller_save_event_markers(path_eventmarkers2, initialization_functions.generator_load_dataset(path_eeg))\n",
    "        "
   ]
  },
  {
   "cell_type": "markdown",
   "metadata": {},
   "source": [
    "## Data info"
   ]
  },
  {
   "cell_type": "markdown",
   "metadata": {},
   "source": [
    "Choose which participant you want to view in the box below. "
   ]
  },
  {
   "cell_type": "code",
   "execution_count": null,
   "metadata": {},
   "outputs": [],
   "source": [
    "index = widgets.IntText(\n",
    "    step=0.1,\n",
    "    description='Participant',\n",
    "    disabled=False\n",
    ")\n",
    "widgets.VBox([index])"
   ]
  },
  {
   "cell_type": "code",
   "execution_count": null,
   "metadata": {},
   "outputs": [],
   "source": [
    "index = int(index.value)"
   ]
  },
  {
   "cell_type": "code",
   "execution_count": null,
   "metadata": {},
   "outputs": [],
   "source": [
    "print(\"\\n\", eeg[index].info)"
   ]
  },
  {
   "cell_type": "code",
   "execution_count": null,
   "metadata": {},
   "outputs": [],
   "source": [
    "# plot of the used sensors\n",
    "montage = mne.channels.make_standard_montage('standard_1020')\n",
    "#montage.plot(kind='topomap', show_names=True)\n",
    "eeg[index].info.set_montage(montage, on_missing='ignore')\n",
    "eeg[index].plot_sensors(ch_type='eeg', show_names=True)"
   ]
  },
  {
   "cell_type": "code",
   "execution_count": null,
   "metadata": {},
   "outputs": [],
   "source": [
    "eeg[index].plot()"
   ]
  },
  {
   "cell_type": "code",
   "execution_count": null,
   "metadata": {},
   "outputs": [],
   "source": [
    "%matplotlib inline \n",
    "fig = mne.viz.plot_events(event_markers_simplified[index], event_id = epod_helper.event_dictionary)"
   ]
  },
  {
   "cell_type": "markdown",
   "metadata": {},
   "source": [
    "## Filtering"
   ]
  },
  {
   "cell_type": "code",
   "execution_count": null,
   "metadata": {},
   "outputs": [],
   "source": [
    "# bad channel remover\n",
    "def removebadchannel(eeg):\n",
    "    for i in range(len(eeg)):\n",
    "        if len(eeg[i].info['bads']) != 0:\n",
    "            eeg[index] = mne.pick_types(eeg[i].info, meg=False, eeg=True, exclude='bads')\n",
    "    return eeg\n",
    "removebadchannel(eeg)"
   ]
  },
  {
   "cell_type": "code",
   "execution_count": null,
   "metadata": {},
   "outputs": [],
   "source": [
    "lowpass = widgets.IntText(\n",
    "    step=0.1,\n",
    "    description='lowpass:',\n",
    "    disabled=False\n",
    ")\n",
    "\n",
    "highpass = widgets.IntText(\n",
    "    step=0.1,\n",
    "    description='highpass:',\n",
    "    disabled=False\n",
    ")\n",
    "\n",
    "widgets.VBox([lowpass,highpass])\n"
   ]
  },
  {
   "cell_type": "code",
   "execution_count": null,
   "metadata": {},
   "outputs": [],
   "source": [
    "# change type to integer\n",
    "lowpass = int(lowpass.value)\n",
    "highpass = int(highpass.value)"
   ]
  },
  {
   "cell_type": "markdown",
   "metadata": {},
   "source": [
    "Bandpass filter doesn't work due to memory issues. Can be fixed with preload = True in the load_data() in helper_functions.py. However, jupyter crashes due to lack of memory when done. Needs to be fixed."
   ]
  },
  {
   "cell_type": "code",
   "execution_count": null,
   "metadata": {},
   "outputs": [],
   "source": [
    "# bandpass filter\n",
    "for index in range(len(eeg)): eeg[index] = hf.band_pass_filter(eeg[index], lowpass, highpass)"
   ]
  },
  {
   "cell_type": "markdown",
   "metadata": {},
   "source": [
    "Below a working filter, but not imported from helper_functions.py. This is a band pass filter with defined frequency. The filter is useful for limitting the bandwidth of the output signal to avoid noise. "
   ]
  },
  {
   "cell_type": "code",
   "execution_count": null,
   "metadata": {},
   "outputs": [],
   "source": [
    "# plotting filter\n",
    "filter_params = mne.filter.create_filter(eeg[index].get_data(), eeg[index].info['sfreq'],\n",
    "                                         l_freq=lowpass, h_freq=highpass)\n",
    "mne.viz.plot_filter(filter_params, eeg[index].info['sfreq'], flim=(0.01, 5))"
   ]
  },
  {
   "cell_type": "markdown",
   "metadata": {},
   "source": [
    "The data contains power line noise which disrupts the rest of the signal. The notch filter filters out the fequency of 50 Hz. Does not work because of the preload memory issue. "
   ]
  },
  {
   "cell_type": "code",
   "execution_count": null,
   "metadata": {},
   "outputs": [],
   "source": [
    "# create notch filter\n",
    "freqs = (60, 120, 180, 240)\n",
    "for i in range(len(eeg)): eeg[i] = eeg[i].notch_filter(freqs=freqs)"
   ]
  },
  {
   "cell_type": "markdown",
   "metadata": {},
   "source": [
    "## Creating epoched data"
   ]
  },
  {
   "cell_type": "markdown",
   "metadata": {},
   "source": [
    "Epochs are created with joining the eeg data with a specific event. tmin and tmax are the start and stop time relative to each event. mne.Epochs automaticaly create a baseline correction."
   ]
  },
  {
   "cell_type": "code",
   "execution_count": null,
   "metadata": {
    "scrolled": false
   },
   "outputs": [],
   "source": [
    "def create_epochs(eeg, event_markers_simplified):\n",
    "    epochs =  []\n",
    "    for i in range(len(eeg)): \n",
    "        single_epoch = mne.Epochs(eeg[i], event_markers_simplified[i], tmin=-0.3, tmax=0.7)\n",
    "        epochs.append(single_epoch)\n",
    "    return epochs\n",
    "\n",
    "epochs = create_epochs(eeg, event_markers_simplified)"
   ]
  },
  {
   "cell_type": "code",
   "execution_count": null,
   "metadata": {},
   "outputs": [],
   "source": [
    "print(epochs)"
   ]
  },
  {
   "cell_type": "code",
   "execution_count": null,
   "metadata": {},
   "outputs": [],
   "source": [
    "event_dictionary = epod_helper.event_dictionary\n",
    "event_dictionary"
   ]
  },
  {
   "cell_type": "code",
   "execution_count": null,
   "metadata": {},
   "outputs": [],
   "source": [
    "def evoked_responses(epochs, event_dictionary):\n",
    "    evoked = []\n",
    "    for i in range(len(epod_helper.event_dictionary)):\n",
    "        avg_epoch = epochs[i].average()\n",
    "        evoked.append(avg_epoch)\n",
    "    return evoked\n",
    "\n",
    "evoked = evoked_responses(epochs, event_dictionary)\n",
    "        \n",
    "#evoked.plot()\n",
    "#print(([key for key in epod_helper.event_dictionary.keys()][i], [value for value in epod_helper.event_dictionary.values()][i]))\n",
    "        "
   ]
  },
  {
   "cell_type": "code",
   "execution_count": null,
   "metadata": {},
   "outputs": [],
   "source": [
    "#evoked[2].plot(spatial_colors=True)\n",
    "#print(([key for key in epod_helper.event_dictionary.keys()][i], [value for value in epod_helper.event_dictionary.values()][i]))"
   ]
  },
  {
   "cell_type": "markdown",
   "metadata": {},
   "source": [
    "## Create pandas dataset out of epoched data"
   ]
  },
  {
   "cell_type": "code",
   "execution_count": null,
   "metadata": {},
   "outputs": [],
   "source": [
    "epochs = epochs[0:4] # subset to test function\n",
    "def create_pd_df(epochs):\n",
    "    df_epochs = pd.DataFrame()\n",
    "\n",
    "    for i in range(len(epochs)):\n",
    "        df = epochs[i].to_data_frame()\n",
    "        df['index'] = i\n",
    "        df_epochs = df_epochs.append(df)\n",
    "    return df_epochs\n",
    "\n",
    "create_pd_df(epochs)"
   ]
  },
  {
   "cell_type": "code",
   "execution_count": null,
   "metadata": {},
   "outputs": [],
   "source": [
    "df_epochs"
   ]
  },
  {
   "cell_type": "code",
   "execution_count": null,
   "metadata": {},
   "outputs": [],
   "source": []
  }
 ],
 "metadata": {
  "kernelspec": {
   "display_name": "Python 3 (ipykernel)",
   "language": "python",
   "name": "python3"
  },
  "language_info": {
   "codemirror_mode": {
    "name": "ipython",
    "version": 3
   },
   "file_extension": ".py",
   "mimetype": "text/x-python",
   "name": "python",
   "nbconvert_exporter": "python",
   "pygments_lexer": "ipython3",
   "version": "3.10.4"
  }
 },
 "nbformat": 4,
 "nbformat_minor": 4
}
