{
 "cells": [
  {
   "cell_type": "code",
   "execution_count": 1,
   "id": "af8db690",
   "metadata": {},
   "outputs": [],
   "source": [
    "import mne      # toolbox for analyzing and visualizing EEG data\n",
    "import os       # using operating system dependent functionality (folders)\n",
    "import pandas as pd # data analysis and manipulation\n",
    "import numpy as np    # numerical computing (manipulating and performing operations on arrays of data)\n",
    "import copy     # Can Copy and Deepcopy files so original file is untouched.\n",
    "from ipywidgets import IntSlider, Output\n",
    "import ipywidgets as widgets\n",
    "from IPython.display import display\n",
    "import matplotlib.pyplot as plt\n",
    "\n",
    "import sys\n",
    "sys.path.insert(0, '../eegyolk') # path to helper functions\n",
    "from eegyolk import helper_functions as hf # library useful for eeg and erp data cleaning\n",
    "from eegyolk import initialization_functions #library to import data\n",
    "from eegyolk import epod_helper"
   ]
  },
  {
   "cell_type": "code",
   "execution_count": 3,
   "id": "cce45ae6",
   "metadata": {},
   "outputs": [],
   "source": [
    "path_eventmarkers = os.path.join('../epod_data_not_pushed','not_zip', 'event_markers')\n",
    "path_dataset=  os.path.join('../epod_data_not_pushed','not_zip')"
   ]
  },
  {
   "cell_type": "code",
   "execution_count": 6,
   "id": "491a2d4d",
   "metadata": {},
   "outputs": [
    {
     "name": "stdout",
     "output_type": "stream",
     "text": [
      "99 EEG files loaded\n"
     ]
    }
   ],
   "source": [
    "trip_data= initialization_functions.load_dataset(path_dataset, file_extension = '.bdf')\n"
   ]
  },
  {
   "cell_type": "code",
   "execution_count": 7,
   "id": "64a30236",
   "metadata": {},
   "outputs": [
    {
     "data": {
      "text/plain": [
       "['101a',\n",
       " '101b',\n",
       " '102a',\n",
       " '102b',\n",
       " '103a',\n",
       " '103b',\n",
       " '104a',\n",
       " '104b',\n",
       " '105a',\n",
       " '105b',\n",
       " '106a',\n",
       " '106b',\n",
       " '107a',\n",
       " '107b (deel 1+2)',\n",
       " '107b (deel 3+4)',\n",
       " '108a',\n",
       " '109a',\n",
       " '109b',\n",
       " '110a',\n",
       " '110b',\n",
       " '121a',\n",
       " '121b(1)',\n",
       " '121b(2)',\n",
       " '122a',\n",
       " '122b',\n",
       " '123a',\n",
       " '123b',\n",
       " '124a',\n",
       " '125a',\n",
       " '125b',\n",
       " '126a',\n",
       " '126b',\n",
       " '127a',\n",
       " '127b',\n",
       " '128a',\n",
       " '128b',\n",
       " '129a',\n",
       " '129b',\n",
       " '130a',\n",
       " '130b',\n",
       " '131a',\n",
       " '131b',\n",
       " '132a',\n",
       " '132b',\n",
       " '133a',\n",
       " '133b',\n",
       " '134a',\n",
       " '134b',\n",
       " '135a',\n",
       " '135b',\n",
       " '136a',\n",
       " '136b',\n",
       " '137a',\n",
       " '137b',\n",
       " '138a',\n",
       " '138b',\n",
       " '139a',\n",
       " '139b',\n",
       " '140a',\n",
       " '140b',\n",
       " '141a',\n",
       " '142a',\n",
       " '142b',\n",
       " '143a',\n",
       " '143b',\n",
       " '144a',\n",
       " '144b',\n",
       " '145a',\n",
       " '145b',\n",
       " '146a',\n",
       " '146b',\n",
       " '147a',\n",
       " '148a',\n",
       " '148b',\n",
       " '149a',\n",
       " '149b',\n",
       " '150a',\n",
       " '150b',\n",
       " '151a',\n",
       " '151b',\n",
       " '152a',\n",
       " '152b',\n",
       " '153a',\n",
       " '153b',\n",
       " '154a',\n",
       " '154b',\n",
       " '155a',\n",
       " '155b',\n",
       " '156a',\n",
       " '156b',\n",
       " '157a',\n",
       " '157b',\n",
       " '158a',\n",
       " '158b',\n",
       " '159a',\n",
       " '159b',\n",
       " '160a (2)',\n",
       " '160a',\n",
       " '160b']"
      ]
     },
     "execution_count": 7,
     "metadata": {},
     "output_type": "execute_result"
    }
   ],
   "source": [
    "trip_data[1]"
   ]
  },
  {
   "cell_type": "code",
   "execution_count": 9,
   "id": "73a7d142",
   "metadata": {},
   "outputs": [
    {
     "name": "stdout",
     "output_type": "stream",
     "text": [
      "Trigger channel has a non-zero initial value of 65540 (consider using initial_event=True to detect this event)\n",
      "Removing orphaned offset at the beginning of the file.\n",
      "2440 events found\n",
      "Event IDs: [  1   2   3   4   5   6   7   8   9  10  11  12  13  14  15  16  17  18\n",
      "  19  20  21  22  23  24  25  26  27  28  29  30  31  32  33  34  35  36\n",
      "  37  38  39  40  41  42  43  44  45  46  47  48  49  50  51  52  53  54\n",
      "  55  56  57  58  59  60  61  62  63  64  65  66  67  68  69  70  71  72\n",
      " 101 102 103 104 105 106]\n",
      "\n",
      " 99  out of  99  saved.\n"
     ]
    }
   ],
   "source": [
    "initialization_functions.save_event_markers(path_eventmarkers, trip_data[0], trip_data[1])"
   ]
  },
  {
   "cell_type": "code",
   "execution_count": null,
   "id": "cfceb6c6",
   "metadata": {},
   "outputs": [],
   "source": []
  }
 ],
 "metadata": {
  "kernelspec": {
   "display_name": "Python 3 (ipykernel)",
   "language": "python",
   "name": "python3"
  },
  "language_info": {
   "codemirror_mode": {
    "name": "ipython",
    "version": 3
   },
   "file_extension": ".py",
   "mimetype": "text/x-python",
   "name": "python",
   "nbconvert_exporter": "python",
   "pygments_lexer": "ipython3",
   "version": "3.10.4"
  }
 },
 "nbformat": 4,
 "nbformat_minor": 5
}
