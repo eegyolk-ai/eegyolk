{
 "cells": [
  {
   "cell_type": "markdown",
   "metadata": {},
   "source": [
    "# EEG preprocessing "
   ]
  },
  {
   "cell_type": "markdown",
   "metadata": {},
   "source": [
    "In this notebook: \n",
    "- Necessary imports\n",
    "- Data loader for events, eeg and meta data\n",
    "- Filtering algorithm\n",
    "- EEG raw to epochs\n",
    "- Epochs to evoked responses (ERPs)\n",
    "- Averaging code for ERPS\n",
    "\n",
    "Not working:\n",
    "- Filtering algorithm\n",
    "- ERPs based on channel\n",
    "\n",
    "Missing:\n",
    "- Grand average \n",
    "- Mismatch response\n",
    "- Turning data into pandas dataframe"
   ]
  },
  {
   "cell_type": "markdown",
   "metadata": {},
   "source": [
    "## Imports"
   ]
  },
  {
   "cell_type": "markdown",
   "metadata": {},
   "source": [
    "The data will be processed using the mne library. Also there are libraries made in eegyolk in order to load the metadata, eeg data and the event markers. Those libraries need to be imported"
   ]
  },
  {
   "cell_type": "code",
   "execution_count": 1,
   "metadata": {},
   "outputs": [],
   "source": [
    "import mne      # toolbox for analyzing and visualizing EEG data\n",
    "import os       # using operating system dependent functionality (folders)\n",
    "import pandas as pd # data analysis and manipulation\n",
    "import numpy as np    # numerical computing (manipulating and performing operations on arrays of data)\n",
    "import copy     # Can Copy and Deepcopy files so original file is untouched.\n",
    "from ipywidgets import IntSlider, Output\n",
    "import ipywidgets as widgets\n",
    "from IPython.display import display\n",
    "import matplotlib.pyplot as plt\n",
    "from math import nan\n",
    "\n",
    "import sys\n",
    "sys.path.insert(0, '../eegyolk') # path to helper functions\n",
    "from eegyolk import helper_functions as hf # library useful for eeg and erp data cleaning\n",
    "from eegyolk import initialization_functions #library to import data\n",
    "from eegyolk import epod_helper"
   ]
  },
  {
   "cell_type": "markdown",
   "metadata": {},
   "source": [
    "## Load metadata and eeg files"
   ]
  },
  {
   "cell_type": "markdown",
   "metadata": {},
   "source": [
    "First the different pathways for the different datasets need to be defined. There are three pathways: eeg, metadata and events. The files can be loaded using the initialization_functions library. All event markers needs to be saved in a seperate folder. If not saved already, the event markers will be saved using the initialization_function library. The data must be saved in a separate folder called \"epod_data_not_pushed\" in the ePodium repository. "
   ]
  },
  {
   "cell_type": "code",
   "execution_count": 2,
   "metadata": {},
   "outputs": [],
   "source": [
    "path_metadata = os.path.join('../epod_data_not_pushed','metadata')\n",
    "path_eeg = os.path.join('../epod_data_not_pushed','not_zip')\n",
    "path_eventmarkers = os.path.join('../epod_data_not_pushed','not_zip', 'event_markers')"
   ]
  },
  {
   "cell_type": "code",
   "execution_count": 3,
   "metadata": {},
   "outputs": [],
   "source": [
    "# load metadata\n",
    "files_metadata = [\"children.txt\", \"cdi.txt\", \"parents.txt\", \"CODES_overview.txt\"]  \n",
    "children, cdi, parents, codes = initialization_functions.load_metadata(path_metadata, files_metadata)"
   ]
  },
  {
   "cell_type": "code",
   "execution_count": 4,
   "metadata": {},
   "outputs": [
    {
     "name": "stdout",
     "output_type": "stream",
     "text": [
      "119 EEG files loaded\n"
     ]
    }
   ],
   "source": [
    "# load eeg\n",
    "! echo 1 > /proc/sys/vm/overcommit_memory\n",
    "eeg, eeg_filename =  initialization_functions.load_dataset(path_eeg, preload=False) # preload must be set to True once on the cloud"
   ]
  },
  {
   "cell_type": "code",
   "execution_count": 6,
   "metadata": {},
   "outputs": [
    {
     "name": "stdout",
     "output_type": "stream",
     "text": [
      "<class 'mne.io.edf.edf.RawEDF'>\n"
     ]
    }
   ],
   "source": [
    "print(type(eeg[1]))"
   ]
  },
  {
   "cell_type": "markdown",
   "metadata": {},
   "source": [
    "Unless you run the above cell in a virtual machine on Linux or on a Linux, the above command :\n",
    "    ! echo 1 > /proc/sys/vm/overcommit_memory\n",
    "I'm not sure what this will do. Please explain what you are attempting to do with this?\n",
    "\n",
    "Also this is not really so safe on Linux, as it might kill processes if the memory limit is reached.\n",
    "It could also go into swapping, just don't go there..."
   ]
  },
  {
   "cell_type": "code",
   "execution_count": null,
   "metadata": {},
   "outputs": [],
   "source": [
    "# load events \n",
    "events_files = os.listdir(path_eventmarkers)\n",
    "if len(events_files) == 0 or path_eventmarkers == False: # check if event markers are saved in a seperate folder\n",
    "    initialization_functions.save_event_markers(path_eventmarkers, eeg, eeg_filename) # save event markers\n",
    "\n",
    "event_markers = initialization_functions.load_events(path_eventmarkers, eeg_filename) # load event markers\n",
    "event_markers_simplified = epod_helper.group_events_12(event_markers) # simplify events"
   ]
  },
  {
   "cell_type": "markdown",
   "metadata": {},
   "source": [
    "This (above) breaks for me because I do not have events for every filepath. Function probably should be re-written to account for this possiblity."
   ]
  },
  {
   "cell_type": "markdown",
   "metadata": {},
   "source": [
    "## Data info"
   ]
  },
  {
   "cell_type": "markdown",
   "metadata": {},
   "source": [
    "Choose which participant you want to view in the box below. "
   ]
  },
  {
   "cell_type": "code",
   "execution_count": null,
   "metadata": {},
   "outputs": [],
   "source": [
    "index = widgets.IntText(\n",
    "    step=0.1,\n",
    "    description='Participant',\n",
    "    disabled=False\n",
    ")\n",
    "widgets.VBox([index])"
   ]
  },
  {
   "cell_type": "code",
   "execution_count": null,
   "metadata": {},
   "outputs": [],
   "source": [
    "index = int(index.value)"
   ]
  },
  {
   "cell_type": "code",
   "execution_count": null,
   "metadata": {},
   "outputs": [],
   "source": [
    "# plot of the used sensors\n",
    "for i in range(len(eeg)): \n",
    "    montage = mne.channels.make_standard_montage('standard_1020')\n",
    "    #montage.plot(kind='topomap', show_names=True)\n",
    "    eeg[index].info.set_montage(montage, on_missing='ignore')\n"
   ]
  },
  {
   "cell_type": "code",
   "execution_count": null,
   "metadata": {},
   "outputs": [],
   "source": [
    "eeg[index].plot_sensors(ch_type='eeg', show_names=True)"
   ]
  },
  {
   "cell_type": "code",
   "execution_count": null,
   "metadata": {},
   "outputs": [],
   "source": [
    "drop_ch = ['EXG2', 'EXG3', 'EXG4', 'EXG5', 'EXG6', 'EXG7', 'EXG8']\n",
    "eeg[index].drop_channels(drop_ch)"
   ]
  },
  {
   "cell_type": "code",
   "execution_count": null,
   "metadata": {},
   "outputs": [],
   "source": [
    "eeg[index].plot(duration=0.1)"
   ]
  },
  {
   "cell_type": "code",
   "execution_count": null,
   "metadata": {},
   "outputs": [],
   "source": [
    "%matplotlib inline \n",
    "fig = mne.viz.plot_events(event_markers_simplified[index], event_id = epod_helper.event_dictionary)"
   ]
  },
  {
   "cell_type": "markdown",
   "metadata": {},
   "source": [
    "## Filtering"
   ]
  },
  {
   "cell_type": "code",
   "execution_count": null,
   "metadata": {},
   "outputs": [],
   "source": [
    "# bad channel remover\n",
    "def removebadchannel(eeg):\n",
    "    for i in range(len(eeg)):\n",
    "        if len(eeg[i].info['bads']) != 0:\n",
    "            eeg[i] = mne.pick_types(eeg[i].info, meg=False, eeg=True, exclude='bads')\n",
    "    return eeg\n",
    "removebadchannel(eeg)"
   ]
  },
  {
   "cell_type": "code",
   "execution_count": null,
   "metadata": {},
   "outputs": [],
   "source": [
    "#eeg[index] = mne.preprocessing.annotate_nan(eeg[index])"
   ]
  },
  {
   "cell_type": "code",
   "execution_count": null,
   "metadata": {},
   "outputs": [],
   "source": [
    "lowpass = widgets.IntText(\n",
    "    step=0.1,\n",
    "    description='lowpass:',\n",
    "    disabled=False\n",
    ")\n",
    "\n",
    "highpass = widgets.IntText(\n",
    "    step=0.1,\n",
    "    description='highpass:',\n",
    "    disabled=False\n",
    ")\n",
    "\n",
    "widgets.VBox([lowpass,highpass])\n"
   ]
  },
  {
   "cell_type": "code",
   "execution_count": null,
   "metadata": {},
   "outputs": [],
   "source": [
    "# change type to integer\n",
    "lowpass = int(lowpass.value)\n",
    "highpass = int(highpass.value)"
   ]
  },
  {
   "cell_type": "markdown",
   "metadata": {},
   "source": [
    "I would put the values in the filter preset to something that makes sense, and limit the range so values that don't make sense can not be chosen. Right now I can filter to -3 and -900. "
   ]
  },
  {
   "cell_type": "markdown",
   "metadata": {},
   "source": [
    "Bandpass filter doesn't work due to memory issues. Can be fixed with preload = True in the load_data() in helper_functions.py. However, jupyter crashes due to lack of memory when done. Needs to be fixed. The data contains power line noise which disrupts the rest of the signal. The notch filter filters out the fequency of 50 Hz. Does not work because of the preload memory issue. "
   ]
  },
  {
   "cell_type": "code",
   "execution_count": null,
   "metadata": {
    "scrolled": true
   },
   "outputs": [],
   "source": [
    "# bandpass, notch and bad channel filter\n",
    "freqs = (60, 120, 180, 240)\n",
    "\n",
    "def filter_eeg(eeg, lowpass, highpass, freqs):\n",
    "    for i in range(len(eeg)): eeg[i] = hf.band_pass_filter(eeg[i].get_data(), lowpass, highpass) # bandpass filter\n",
    "        break\n",
    "    for i in range(len(eeg)): # remove bad channels\n",
    "        if len(eeg[i].info['bads']) != 0:\n",
    "            eeg[i] = mne.pick_types(eeg[i].info, meg=False, eeg=True, exclude='bads')\n",
    "        break\n",
    "    for i in range(len(eeg)): eeg[i] = notch_filter(eeg[i].get_data(), freqs=freqs) # notch filter\n",
    "        break\n",
    "    return eeg\n",
    "\n",
    "eeg = filter_eeg(eeg, lowpass, highpass, freqs)"
   ]
  },
  {
   "cell_type": "markdown",
   "metadata": {},
   "source": [
    "Put the body of the loop in a different line than the head of the loop (lines 4 and line 11)"
   ]
  },
  {
   "cell_type": "code",
   "execution_count": null,
   "metadata": {},
   "outputs": [],
   "source": [
    "freqs = (60, 120, 180, 240)\n",
    "\n",
    "def filter_eeg(eeg, lowpass, highpass, freqs):\n",
    "    for i in range(len(eeg)): \n",
    "        eeg[i] = hf.band_pass_filter(eeg[i].get_data(), lowpass, highpass) # bandpass filter\n",
    "        break\n",
    "    for i in range(len(eeg)): # remove bad channels\n",
    "        if len(eeg[i].info['bads']) != 0:\n",
    "            eeg[i] = mne.pick_types(eeg[i].info, meg=False, eeg=True, exclude='bads')\n",
    "        break\n",
    "    for i in range(len(eeg)): \n",
    "        eeg[i] = notch_filter(eeg[i].get_data(), freqs=freqs) # notch filter\n",
    "        break\n",
    "    return eeg\n",
    "\n",
    "eeg = filter_eeg(eeg, lowpass, highpass, freqs)"
   ]
  },
  {
   "cell_type": "markdown",
   "metadata": {},
   "source": [
    "After reformating this to make sense it didn't work. because\n",
    "\n",
    "the function you call takes the result of  mne.io.read_raw_bdf(something...\n",
    "                                                               \n",
    "                                                               You manipulated eeg many times afterwards. \n",
    "PLease always clear your kernel and then run your entire notebook from top to bottom or you will make something impossible for me to even evlaute. I'm going to stop evaluating here. Please let me know when you have this organized as a ready to run notebook."
   ]
  },
  {
   "cell_type": "markdown",
   "metadata": {},
   "source": [
    "Below a working filter, but not imported from helper_functions.py. This is a band pass filter with defined frequency. The filter is useful for limitting the bandwidth of the output signal to avoid noise. "
   ]
  },
  {
   "cell_type": "code",
   "execution_count": null,
   "metadata": {},
   "outputs": [],
   "source": [
    "# plotting filter\n",
    "filter_params = mne.filter.create_filter(eeg[index].get_data(), eeg[index].info['sfreq'],\n",
    "                                         l_freq=lowpass, h_freq=highpass)\n",
    "mne.viz.plot_filter(filter_params, eeg[index].info['sfreq'], flim=(0.01, 5))"
   ]
  },
  {
   "cell_type": "markdown",
   "metadata": {},
   "source": [
    "## Creating epoched data"
   ]
  },
  {
   "cell_type": "markdown",
   "metadata": {},
   "source": [
    "Epochs are created with joining the eeg data with a specific event. tmin and tmax are the start and stop time relative to each event. mne.Epochs automaticaly create a baseline correction."
   ]
  },
  {
   "cell_type": "code",
   "execution_count": null,
   "metadata": {},
   "outputs": [],
   "source": [
    "event_dictionary = epod_helper.event_dictionary\n",
    "event_dictionary"
   ]
  },
  {
   "cell_type": "code",
   "execution_count": null,
   "metadata": {},
   "outputs": [],
   "source": [
    "epochs = hf.create_epochs(eeg, event_markers_simplified, -0.3, 0.7)"
   ]
  },
  {
   "cell_type": "code",
   "execution_count": null,
   "metadata": {},
   "outputs": [],
   "source": [
    "evoked = hf.evoked_responses(epochs, event_dictionary)"
   ]
  },
  {
   "cell_type": "code",
   "execution_count": null,
   "metadata": {},
   "outputs": [],
   "source": [
    "for i in range(len(event_dictionary)):\n",
    "    evoked[index][i].plot(spatial_colors=True, exclude='bads')\n",
    "    print(([key for key in epod_helper.event_dictionary.keys()][i], [value for value in epod_helper.event_dictionary.values()][i]))"
   ]
  },
  {
   "cell_type": "code",
   "execution_count": null,
   "metadata": {},
   "outputs": [],
   "source": [
    "channelnames = epochs[1].ch_names"
   ]
  },
  {
   "cell_type": "code",
   "execution_count": null,
   "metadata": {},
   "outputs": [],
   "source": [
    "evoked[index][1].plot_joint()"
   ]
  },
  {
   "cell_type": "code",
   "execution_count": null,
   "metadata": {},
   "outputs": [],
   "source": [
    "c1 = mne.grand_average(evoked[index])\n",
    "c1.plot(spatial_colors=True)"
   ]
  },
  {
   "cell_type": "code",
   "execution_count": null,
   "metadata": {},
   "outputs": [],
   "source": [
    "std_evoked = epochs[index][2,5,8,11].average()\n",
    "dev_evoked = epochs[index][3,6,9,12].average()"
   ]
  },
  {
   "cell_type": "code",
   "execution_count": null,
   "metadata": {},
   "outputs": [],
   "source": [
    "difference=std_evoked-dev_evoked\n",
    "evokeds = dict(standard=std_evoked, deviant=dev_evoked, difference=difference)\n",
    "mne.viz.plot_compare_evokeds(evokeds, combine='mean')"
   ]
  },
  {
   "cell_type": "markdown",
   "metadata": {},
   "source": [
    "## Create pandas dataset out of epoched data"
   ]
  },
  {
   "cell_type": "code",
   "execution_count": null,
   "metadata": {},
   "outputs": [],
   "source": [
    "epochs = epochs[0:4] # subset to test function\n",
    "def create_pd_df(epochs):\n",
    "    df_epochs = pd.DataFrame()\n",
    "\n",
    "    for i in range(len(epochs)):\n",
    "        df = epochs[i].to_data_frame()\n",
    "        df['index'] = i\n",
    "        df_epochs = df_epochs.append(df)\n",
    "    return df_epochs\n",
    "\n",
    "create_pd_df(epochs)"
   ]
  },
  {
   "cell_type": "code",
   "execution_count": null,
   "metadata": {},
   "outputs": [],
   "source": [
    "df_epochs"
   ]
  },
  {
   "cell_type": "code",
   "execution_count": null,
   "metadata": {},
   "outputs": [],
   "source": []
  }
 ],
 "metadata": {
  "kernelspec": {
   "display_name": "Python 3 (ipykernel)",
   "language": "python",
   "name": "python3"
  },
  "language_info": {
   "codemirror_mode": {
    "name": "ipython",
    "version": 3
   },
   "file_extension": ".py",
   "mimetype": "text/x-python",
   "name": "python",
   "nbconvert_exporter": "python",
   "pygments_lexer": "ipython3",
   "version": "3.10.4"
  }
 },
 "nbformat": 4,
 "nbformat_minor": 4
}
