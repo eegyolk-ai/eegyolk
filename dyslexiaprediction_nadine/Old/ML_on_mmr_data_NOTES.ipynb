{
 "cells": [
  {
   "cell_type": "markdown",
   "metadata": {},
   "source": [
    "# Machine Learning models on Mismatch Response data"
   ]
  },
  {
   "cell_type": "markdown",
   "metadata": {},
   "source": [
    "## Imports"
   ]
  },
  {
   "cell_type": "code",
   "execution_count": 1,
   "metadata": {},
   "outputs": [],
   "source": [
    "import os       # using operating system dependent functionality (folders)\n",
    "import pandas as pd # data analysis and manipulation\n",
    "import numpy as np    # numerical computing (manipulating and performing operations on arrays of data)\n",
    "import copy     # Can Copy and Deepcopy files so original file is untouched.\n",
    "import seaborn as sn\n",
    "import matplotlib.pyplot as plt\n",
    "\n",
    "import sys\n",
    "sys.path.insert(0, '../eegyolk') # path to helper functions\n",
    "import helper_functions as hf # library useful for eeg and erp data cleaning\n",
    "import initialization_functions #library to import data\n",
    "import epod_helper\n",
    "\n",
    "from sklearn.model_selection import train_test_split\n",
    "from sklearn.preprocessing import StandardScaler\n",
    "from sklearn.svm import SVC\n",
    "from sklearn.metrics import accuracy_score"
   ]
  },
  {
   "cell_type": "code",
   "execution_count": 2,
   "metadata": {},
   "outputs": [],
   "source": [
    "df = pd.read_csv('df_avg_mmr.csv', sep = ',')"
   ]
  },
  {
   "cell_type": "code",
   "execution_count": 3,
   "metadata": {},
   "outputs": [
    {
     "data": {
      "text/html": [
       "<div>\n",
       "<style scoped>\n",
       "    .dataframe tbody tr th:only-of-type {\n",
       "        vertical-align: middle;\n",
       "    }\n",
       "\n",
       "    .dataframe tbody tr th {\n",
       "        vertical-align: top;\n",
       "    }\n",
       "\n",
       "    .dataframe thead th {\n",
       "        text-align: right;\n",
       "    }\n",
       "</style>\n",
       "<table border=\"1\" class=\"dataframe\">\n",
       "  <thead>\n",
       "    <tr style=\"text-align: right;\">\n",
       "      <th></th>\n",
       "      <th>2_Fp1</th>\n",
       "      <th>2_AF3</th>\n",
       "      <th>2_F7</th>\n",
       "      <th>2_F3</th>\n",
       "      <th>2_FC1</th>\n",
       "      <th>2_FC5</th>\n",
       "      <th>2_T7</th>\n",
       "      <th>2_C3</th>\n",
       "      <th>2_CP1</th>\n",
       "      <th>2_CP5</th>\n",
       "      <th>...</th>\n",
       "      <th>11_F8</th>\n",
       "      <th>11_AF4</th>\n",
       "      <th>11_Fp2</th>\n",
       "      <th>11_Fz</th>\n",
       "      <th>11_Cz</th>\n",
       "      <th>ParticipantID</th>\n",
       "      <th>test</th>\n",
       "      <th>sex</th>\n",
       "      <th>age_months</th>\n",
       "      <th>Group_AccToParents</th>\n",
       "    </tr>\n",
       "  </thead>\n",
       "  <tbody>\n",
       "    <tr>\n",
       "      <th>0</th>\n",
       "      <td>3.981499</td>\n",
       "      <td>11.639081</td>\n",
       "      <td>-18.811622</td>\n",
       "      <td>18.343454</td>\n",
       "      <td>10.023632</td>\n",
       "      <td>-4.024143</td>\n",
       "      <td>-13.999364</td>\n",
       "      <td>-17.671889</td>\n",
       "      <td>-29.638338</td>\n",
       "      <td>-20.809440</td>\n",
       "      <td>...</td>\n",
       "      <td>-6.189181</td>\n",
       "      <td>-28.356975</td>\n",
       "      <td>-19.061485</td>\n",
       "      <td>-40.427852</td>\n",
       "      <td>-43.257143</td>\n",
       "      <td>101</td>\n",
       "      <td>a</td>\n",
       "      <td>m</td>\n",
       "      <td>20</td>\n",
       "      <td>At risk</td>\n",
       "    </tr>\n",
       "    <tr>\n",
       "      <th>1</th>\n",
       "      <td>-9.964857</td>\n",
       "      <td>-7.810340</td>\n",
       "      <td>19.733811</td>\n",
       "      <td>3.661548</td>\n",
       "      <td>14.292444</td>\n",
       "      <td>32.492531</td>\n",
       "      <td>34.867429</td>\n",
       "      <td>41.204902</td>\n",
       "      <td>33.612812</td>\n",
       "      <td>31.951770</td>\n",
       "      <td>...</td>\n",
       "      <td>23.518492</td>\n",
       "      <td>50.627080</td>\n",
       "      <td>33.244638</td>\n",
       "      <td>28.191358</td>\n",
       "      <td>40.034364</td>\n",
       "      <td>101</td>\n",
       "      <td>b</td>\n",
       "      <td>m</td>\n",
       "      <td>23</td>\n",
       "      <td>At risk</td>\n",
       "    </tr>\n",
       "    <tr>\n",
       "      <th>2</th>\n",
       "      <td>2.390371</td>\n",
       "      <td>-17.843979</td>\n",
       "      <td>-3.338771</td>\n",
       "      <td>7.536740</td>\n",
       "      <td>-10.998419</td>\n",
       "      <td>18.220947</td>\n",
       "      <td>16.625307</td>\n",
       "      <td>-4.156407</td>\n",
       "      <td>-17.935160</td>\n",
       "      <td>-6.441905</td>\n",
       "      <td>...</td>\n",
       "      <td>14.678230</td>\n",
       "      <td>22.992495</td>\n",
       "      <td>65.963604</td>\n",
       "      <td>31.134918</td>\n",
       "      <td>18.108797</td>\n",
       "      <td>102</td>\n",
       "      <td>a</td>\n",
       "      <td>f</td>\n",
       "      <td>20</td>\n",
       "      <td>Control</td>\n",
       "    </tr>\n",
       "    <tr>\n",
       "      <th>3</th>\n",
       "      <td>7.074118</td>\n",
       "      <td>23.187111</td>\n",
       "      <td>-9.459183</td>\n",
       "      <td>25.835532</td>\n",
       "      <td>18.345802</td>\n",
       "      <td>34.434200</td>\n",
       "      <td>34.885866</td>\n",
       "      <td>22.527005</td>\n",
       "      <td>37.353435</td>\n",
       "      <td>30.657794</td>\n",
       "      <td>...</td>\n",
       "      <td>41.145307</td>\n",
       "      <td>24.244979</td>\n",
       "      <td>58.820555</td>\n",
       "      <td>11.613820</td>\n",
       "      <td>9.621704</td>\n",
       "      <td>102</td>\n",
       "      <td>b</td>\n",
       "      <td>f</td>\n",
       "      <td>23</td>\n",
       "      <td>Control</td>\n",
       "    </tr>\n",
       "    <tr>\n",
       "      <th>4</th>\n",
       "      <td>-18.065883</td>\n",
       "      <td>-17.785199</td>\n",
       "      <td>-12.858838</td>\n",
       "      <td>-8.709094</td>\n",
       "      <td>9.764843</td>\n",
       "      <td>-1.953743</td>\n",
       "      <td>-2.150446</td>\n",
       "      <td>11.090374</td>\n",
       "      <td>0.289517</td>\n",
       "      <td>2.440453</td>\n",
       "      <td>...</td>\n",
       "      <td>-59.793993</td>\n",
       "      <td>-69.507558</td>\n",
       "      <td>-66.936390</td>\n",
       "      <td>-66.624167</td>\n",
       "      <td>-50.016909</td>\n",
       "      <td>103</td>\n",
       "      <td>a</td>\n",
       "      <td>f</td>\n",
       "      <td>20</td>\n",
       "      <td>At risk</td>\n",
       "    </tr>\n",
       "  </tbody>\n",
       "</table>\n",
       "<p>5 rows × 133 columns</p>\n",
       "</div>"
      ],
      "text/plain": [
       "       2_Fp1      2_AF3       2_F7       2_F3      2_FC1      2_FC5  \\\n",
       "0   3.981499  11.639081 -18.811622  18.343454  10.023632  -4.024143   \n",
       "1  -9.964857  -7.810340  19.733811   3.661548  14.292444  32.492531   \n",
       "2   2.390371 -17.843979  -3.338771   7.536740 -10.998419  18.220947   \n",
       "3   7.074118  23.187111  -9.459183  25.835532  18.345802  34.434200   \n",
       "4 -18.065883 -17.785199 -12.858838  -8.709094   9.764843  -1.953743   \n",
       "\n",
       "        2_T7       2_C3      2_CP1      2_CP5  ...      11_F8     11_AF4  \\\n",
       "0 -13.999364 -17.671889 -29.638338 -20.809440  ...  -6.189181 -28.356975   \n",
       "1  34.867429  41.204902  33.612812  31.951770  ...  23.518492  50.627080   \n",
       "2  16.625307  -4.156407 -17.935160  -6.441905  ...  14.678230  22.992495   \n",
       "3  34.885866  22.527005  37.353435  30.657794  ...  41.145307  24.244979   \n",
       "4  -2.150446  11.090374   0.289517   2.440453  ... -59.793993 -69.507558   \n",
       "\n",
       "      11_Fp2      11_Fz      11_Cz  ParticipantID  test  sex  age_months  \\\n",
       "0 -19.061485 -40.427852 -43.257143            101     a    m          20   \n",
       "1  33.244638  28.191358  40.034364            101     b    m          23   \n",
       "2  65.963604  31.134918  18.108797            102     a    f          20   \n",
       "3  58.820555  11.613820   9.621704            102     b    f          23   \n",
       "4 -66.936390 -66.624167 -50.016909            103     a    f          20   \n",
       "\n",
       "   Group_AccToParents  \n",
       "0             At risk  \n",
       "1             At risk  \n",
       "2             Control  \n",
       "3             Control  \n",
       "4             At risk  \n",
       "\n",
       "[5 rows x 133 columns]"
      ]
     },
     "execution_count": 3,
     "metadata": {},
     "output_type": "execute_result"
    }
   ],
   "source": [
    "# Here display and explain what you have!\n",
    "df.head(5)"
   ]
  },
  {
   "cell_type": "markdown",
   "metadata": {},
   "source": [
    "You need a df explainer! The df shows --- on rows, and columns are ---..."
   ]
  },
  {
   "cell_type": "code",
   "execution_count": 4,
   "metadata": {},
   "outputs": [],
   "source": [
    "a = df.loc[df['test'] == 'a']\n",
    "b = df.loc[df['test'] == 'b']\n",
    "a = a.drop(['test'],axis=1)\n",
    "b = b.drop(['test','sex','age_months','Group_AccToParents'], axis=1)"
   ]
  },
  {
   "cell_type": "code",
   "execution_count": 5,
   "metadata": {},
   "outputs": [],
   "source": [
    "# df = pd.merge(a, b, on='ParticipantID',suffixes=(\"_a\", \"_b\"))"
   ]
  },
  {
   "cell_type": "code",
   "execution_count": 6,
   "metadata": {},
   "outputs": [],
   "source": [
    "df['sex'] = np.where((df['sex']=='m'), 1,0)\n",
    "df['Group_AccToParents'] = np.where((df['Group_AccToParents']=='At risk'), 1,0)"
   ]
  },
  {
   "cell_type": "markdown",
   "metadata": {},
   "source": [
    "## Split data"
   ]
  },
  {
   "cell_type": "code",
   "execution_count": 7,
   "metadata": {},
   "outputs": [],
   "source": [
    "# import pandas as pd\n",
    "# import numpy as np\n",
    "# from sklearn.svm import SVC\n",
    "# from sklearn.preprocessing import StandardScaler\n",
    "# from sklearn.model_selection import train_test_split\n",
    "# from sklearn.metrics import accuracy_score\n",
    "# from sklearn import datasets\n",
    " \n",
    "# # IRIS Data Set\n",
    " \n",
    "# iris = datasets.load_iris()\n",
    "# X = iris.data\n",
    "# y = iris.target\n",
    " \n",
    "# # Creating training and test split\n",
    " \n",
    "# X_train, X_test, y_train, y_test = train_test_split(X, y, test_size=0.3, random_state=1, stratify = y)\n",
    " \n",
    "# # Feature Scaling\n",
    " \n",
    "# sc = StandardScaler()\n",
    "# sc.fit(X_train)\n",
    "# X_train_std = sc.transform(X_train)\n",
    "# X_test_std = sc.transform(X_test)\n",
    " \n",
    "# # Training a SVM classifier using SVC class\n",
    "# svm = SVC(kernel= 'linear', random_state=1, C=0.1)\n",
    "# svm.fit(X_train_std, y_train)\n",
    " \n",
    "# # Mode performance\n",
    " \n",
    "# y_pred = svm.predict(X_test_std)\n",
    "# print('Accuracy: %.3f' % accuracy_score(y_test, y_pred))"
   ]
  },
  {
   "cell_type": "code",
   "execution_count": 8,
   "metadata": {},
   "outputs": [],
   "source": [
    "# Look at example above. Are you sure you want.values for the y?"
   ]
  },
  {
   "cell_type": "code",
   "execution_count": 9,
   "metadata": {},
   "outputs": [],
   "source": [
    "y = df['Group_AccToParents'] # dependant variable\n",
    "X = df.drop(['Group_AccToParents','ParticipantID'],axis=1).values   # independant features\n",
    "\n",
    "X_train, X_test, y_train, y_test = train_test_split(X, y, test_size=0.25, random_state=42)"
   ]
  },
  {
   "cell_type": "code",
   "execution_count": 10,
   "metadata": {},
   "outputs": [
    {
     "data": {
      "text/plain": [
       "0    1\n",
       "1    1\n",
       "2    0\n",
       "3    0\n",
       "4    1\n",
       "Name: Group_AccToParents, dtype: int32"
      ]
     },
     "execution_count": 10,
     "metadata": {},
     "output_type": "execute_result"
    }
   ],
   "source": [
    "y"
   ]
  },
  {
   "cell_type": "code",
   "execution_count": null,
   "metadata": {},
   "outputs": [],
   "source": [
    "print(type(y))"
   ]
  },
  {
   "cell_type": "code",
   "execution_count": null,
   "metadata": {},
   "outputs": [],
   "source": [
    "sc = StandardScaler()\n",
    "sc.fit(X_train)\n",
    "X_train = sc.transform(X_train)\n",
    "X_test = sc.transform(X_test)"
   ]
  },
  {
   "cell_type": "markdown",
   "metadata": {},
   "source": [
    "You don't do anything with sc.fit that I understand. The function computes the mean and std to be used for later scaling and return a fitted version- you don't store it anywhere"
   ]
  },
  {
   "cell_type": "code",
   "execution_count": null,
   "metadata": {},
   "outputs": [],
   "source": []
  },
  {
   "cell_type": "code",
   "execution_count": null,
   "metadata": {},
   "outputs": [],
   "source": [
    "svm = SVC(kernel= 'linear', random_state=1, C=0.1)\n",
    "svm.fit(X_train, y_train)"
   ]
  },
  {
   "cell_type": "code",
   "execution_count": null,
   "metadata": {},
   "outputs": [],
   "source": [
    "y_pred = svm.predict(X_test)\n",
    "print('Accuracy: %.3f' % accuracy_score(y_test, y_pred))"
   ]
  },
  {
   "cell_type": "code",
   "execution_count": null,
   "metadata": {},
   "outputs": [],
   "source": [
    "y_pred"
   ]
  },
  {
   "cell_type": "code",
   "execution_count": null,
   "metadata": {},
   "outputs": [],
   "source": []
  }
 ],
 "metadata": {
  "kernelspec": {
   "display_name": "Python 3 (ipykernel)",
   "language": "python",
   "name": "python3"
  },
  "language_info": {
   "codemirror_mode": {
    "name": "ipython",
    "version": 3
   },
   "file_extension": ".py",
   "mimetype": "text/x-python",
   "name": "python",
   "nbconvert_exporter": "python",
   "pygments_lexer": "ipython3",
   "version": "3.10.4"
  }
 },
 "nbformat": 4,
 "nbformat_minor": 4
}
