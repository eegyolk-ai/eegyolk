{
 "cells": [
  {
   "cell_type": "markdown",
   "metadata": {},
   "source": [
    "# Machine Learning models on Mismatch Response data"
   ]
  },
  {
   "cell_type": "markdown",
   "metadata": {},
   "source": [
    "In this notebook: \n",
    "- Necessary imports\n",
    "- SVM model \n",
    "- Logistic Regression model\n",
    "- Decision Tree model"
   ]
  },
  {
   "cell_type": "markdown",
   "metadata": {},
   "source": [
    "## Imports"
   ]
  },
  {
   "cell_type": "code",
   "execution_count": 1,
   "metadata": {},
   "outputs": [],
   "source": [
    "import os       # using operating system dependent functionality (folders)\n",
    "import pandas as pd # data analysis and manipulation\n",
    "import numpy as np    # numerical computing (manipulating and performing operations on arrays of data)\n",
    "import copy     # Can Copy and Deepcopy files so original file is untouched.\n",
    "import seaborn as sn\n",
    "import matplotlib.pyplot as plt\n",
    "\n",
    "import sys\n",
    "sys.path.insert(0, '../eegyolk') # path to helper functions\n",
    "import helper_functions as hf # library useful for eeg and erp data cleaning\n",
    "#import initialization_functions #library to import data\n",
    "import epod_helper\n",
    "\n",
    "from sklearn.model_selection import train_test_split\n",
    "from sklearn.preprocessing import StandardScaler\n",
    "from sklearn.svm import SVC\n",
    "from sklearn.metrics import accuracy_score\n",
    "from sklearn.linear_model import LogisticRegression\n",
    "from sklearn import tree\n",
    "from sklearn.decomposition import PCA\n",
    "from sklearn.metrics import confusion_matrix\n",
    "from sklearn.model_selection import GridSearchCV"
   ]
  },
  {
   "cell_type": "code",
   "execution_count": 2,
   "metadata": {},
   "outputs": [
    {
     "data": {
      "text/html": [
       "<div>\n",
       "<style scoped>\n",
       "    .dataframe tbody tr th:only-of-type {\n",
       "        vertical-align: middle;\n",
       "    }\n",
       "\n",
       "    .dataframe tbody tr th {\n",
       "        vertical-align: top;\n",
       "    }\n",
       "\n",
       "    .dataframe thead th {\n",
       "        text-align: right;\n",
       "    }\n",
       "</style>\n",
       "<table border=\"1\" class=\"dataframe\">\n",
       "  <thead>\n",
       "    <tr style=\"text-align: right;\">\n",
       "      <th></th>\n",
       "      <th>Group_AccToParents</th>\n",
       "      <th>mean_AF3</th>\n",
       "      <th>mean_AF4</th>\n",
       "      <th>mean_C3</th>\n",
       "      <th>mean_C4</th>\n",
       "      <th>mean_CP1</th>\n",
       "      <th>mean_CP2</th>\n",
       "      <th>mean_CP5</th>\n",
       "      <th>mean_CP6</th>\n",
       "      <th>mean_Cz</th>\n",
       "      <th>...</th>\n",
       "      <th>var_P7</th>\n",
       "      <th>var_P8</th>\n",
       "      <th>var_PO3</th>\n",
       "      <th>var_PO4</th>\n",
       "      <th>var_Pz</th>\n",
       "      <th>var_T7</th>\n",
       "      <th>var_T8</th>\n",
       "      <th>ParticipantID</th>\n",
       "      <th>sex</th>\n",
       "      <th>age_months</th>\n",
       "    </tr>\n",
       "  </thead>\n",
       "  <tbody>\n",
       "    <tr>\n",
       "      <th>0</th>\n",
       "      <td>1</td>\n",
       "      <td>-8.698850</td>\n",
       "      <td>-23.709517</td>\n",
       "      <td>-14.116824</td>\n",
       "      <td>-19.310100</td>\n",
       "      <td>-2.458536</td>\n",
       "      <td>-26.754174</td>\n",
       "      <td>-10.368958</td>\n",
       "      <td>-22.028517</td>\n",
       "      <td>-21.244704</td>\n",
       "      <td>...</td>\n",
       "      <td>136.716508</td>\n",
       "      <td>337.816997</td>\n",
       "      <td>384.993960</td>\n",
       "      <td>244.368925</td>\n",
       "      <td>200.547652</td>\n",
       "      <td>113.608744</td>\n",
       "      <td>355.856014</td>\n",
       "      <td>101</td>\n",
       "      <td>1</td>\n",
       "      <td>20</td>\n",
       "    </tr>\n",
       "    <tr>\n",
       "      <th>1</th>\n",
       "      <td>0</td>\n",
       "      <td>-12.651143</td>\n",
       "      <td>-17.591247</td>\n",
       "      <td>-14.895518</td>\n",
       "      <td>-10.553126</td>\n",
       "      <td>-3.815776</td>\n",
       "      <td>-4.456747</td>\n",
       "      <td>-7.756276</td>\n",
       "      <td>-1.770537</td>\n",
       "      <td>-11.983060</td>\n",
       "      <td>...</td>\n",
       "      <td>1213.374987</td>\n",
       "      <td>541.131597</td>\n",
       "      <td>602.439210</td>\n",
       "      <td>497.709783</td>\n",
       "      <td>576.354850</td>\n",
       "      <td>546.263357</td>\n",
       "      <td>320.299078</td>\n",
       "      <td>102</td>\n",
       "      <td>0</td>\n",
       "      <td>20</td>\n",
       "    </tr>\n",
       "    <tr>\n",
       "      <th>2</th>\n",
       "      <td>1</td>\n",
       "      <td>-4.291754</td>\n",
       "      <td>-7.721236</td>\n",
       "      <td>-25.840885</td>\n",
       "      <td>-21.765084</td>\n",
       "      <td>-33.959699</td>\n",
       "      <td>-34.063565</td>\n",
       "      <td>-32.614270</td>\n",
       "      <td>-16.372054</td>\n",
       "      <td>-33.627666</td>\n",
       "      <td>...</td>\n",
       "      <td>303.998905</td>\n",
       "      <td>496.661763</td>\n",
       "      <td>867.650545</td>\n",
       "      <td>797.421991</td>\n",
       "      <td>567.904304</td>\n",
       "      <td>337.769169</td>\n",
       "      <td>302.277737</td>\n",
       "      <td>103</td>\n",
       "      <td>0</td>\n",
       "      <td>20</td>\n",
       "    </tr>\n",
       "    <tr>\n",
       "      <th>3</th>\n",
       "      <td>1</td>\n",
       "      <td>-23.586452</td>\n",
       "      <td>-27.014460</td>\n",
       "      <td>-14.197314</td>\n",
       "      <td>-12.797756</td>\n",
       "      <td>-19.694582</td>\n",
       "      <td>-19.994248</td>\n",
       "      <td>-11.238579</td>\n",
       "      <td>-6.616907</td>\n",
       "      <td>-27.799114</td>\n",
       "      <td>...</td>\n",
       "      <td>183.609953</td>\n",
       "      <td>131.355955</td>\n",
       "      <td>111.983206</td>\n",
       "      <td>172.833291</td>\n",
       "      <td>138.677103</td>\n",
       "      <td>154.772343</td>\n",
       "      <td>95.081613</td>\n",
       "      <td>104</td>\n",
       "      <td>1</td>\n",
       "      <td>18</td>\n",
       "    </tr>\n",
       "    <tr>\n",
       "      <th>4</th>\n",
       "      <td>1</td>\n",
       "      <td>-3.473711</td>\n",
       "      <td>-2.229290</td>\n",
       "      <td>0.588515</td>\n",
       "      <td>-0.464928</td>\n",
       "      <td>7.717058</td>\n",
       "      <td>11.191306</td>\n",
       "      <td>2.232668</td>\n",
       "      <td>0.528495</td>\n",
       "      <td>9.460590</td>\n",
       "      <td>...</td>\n",
       "      <td>137.164369</td>\n",
       "      <td>404.895588</td>\n",
       "      <td>257.591693</td>\n",
       "      <td>387.939507</td>\n",
       "      <td>203.877964</td>\n",
       "      <td>145.847537</td>\n",
       "      <td>77.076837</td>\n",
       "      <td>105</td>\n",
       "      <td>0</td>\n",
       "      <td>17</td>\n",
       "    </tr>\n",
       "    <tr>\n",
       "      <th>...</th>\n",
       "      <td>...</td>\n",
       "      <td>...</td>\n",
       "      <td>...</td>\n",
       "      <td>...</td>\n",
       "      <td>...</td>\n",
       "      <td>...</td>\n",
       "      <td>...</td>\n",
       "      <td>...</td>\n",
       "      <td>...</td>\n",
       "      <td>...</td>\n",
       "      <td>...</td>\n",
       "      <td>...</td>\n",
       "      <td>...</td>\n",
       "      <td>...</td>\n",
       "      <td>...</td>\n",
       "      <td>...</td>\n",
       "      <td>...</td>\n",
       "      <td>...</td>\n",
       "      <td>...</td>\n",
       "      <td>...</td>\n",
       "      <td>...</td>\n",
       "    </tr>\n",
       "    <tr>\n",
       "      <th>85</th>\n",
       "      <td>0</td>\n",
       "      <td>-41.444634</td>\n",
       "      <td>-25.633972</td>\n",
       "      <td>-32.105548</td>\n",
       "      <td>-50.839191</td>\n",
       "      <td>-46.723724</td>\n",
       "      <td>-29.315308</td>\n",
       "      <td>-4.623241</td>\n",
       "      <td>-19.818626</td>\n",
       "      <td>-37.566254</td>\n",
       "      <td>...</td>\n",
       "      <td>231.381299</td>\n",
       "      <td>112.791440</td>\n",
       "      <td>1384.341960</td>\n",
       "      <td>1315.873799</td>\n",
       "      <td>1741.909484</td>\n",
       "      <td>182.765358</td>\n",
       "      <td>1221.561377</td>\n",
       "      <td>216</td>\n",
       "      <td>0</td>\n",
       "      <td>18</td>\n",
       "    </tr>\n",
       "    <tr>\n",
       "      <th>86</th>\n",
       "      <td>1</td>\n",
       "      <td>1.937432</td>\n",
       "      <td>14.313379</td>\n",
       "      <td>-0.034367</td>\n",
       "      <td>14.749652</td>\n",
       "      <td>2.544271</td>\n",
       "      <td>13.065405</td>\n",
       "      <td>5.469382</td>\n",
       "      <td>25.247935</td>\n",
       "      <td>6.492388</td>\n",
       "      <td>...</td>\n",
       "      <td>171.277159</td>\n",
       "      <td>173.994679</td>\n",
       "      <td>213.585422</td>\n",
       "      <td>252.498077</td>\n",
       "      <td>217.125857</td>\n",
       "      <td>235.590776</td>\n",
       "      <td>436.839069</td>\n",
       "      <td>217</td>\n",
       "      <td>0</td>\n",
       "      <td>18</td>\n",
       "    </tr>\n",
       "    <tr>\n",
       "      <th>87</th>\n",
       "      <td>0</td>\n",
       "      <td>4.080161</td>\n",
       "      <td>7.790090</td>\n",
       "      <td>-3.307886</td>\n",
       "      <td>-5.131242</td>\n",
       "      <td>-1.775464</td>\n",
       "      <td>-3.360262</td>\n",
       "      <td>-3.148090</td>\n",
       "      <td>-4.764215</td>\n",
       "      <td>5.065358</td>\n",
       "      <td>...</td>\n",
       "      <td>106.152805</td>\n",
       "      <td>94.708524</td>\n",
       "      <td>96.529695</td>\n",
       "      <td>277.776943</td>\n",
       "      <td>236.351164</td>\n",
       "      <td>79.117091</td>\n",
       "      <td>117.409253</td>\n",
       "      <td>218</td>\n",
       "      <td>1</td>\n",
       "      <td>18</td>\n",
       "    </tr>\n",
       "    <tr>\n",
       "      <th>88</th>\n",
       "      <td>1</td>\n",
       "      <td>0.307460</td>\n",
       "      <td>-3.515791</td>\n",
       "      <td>-5.737908</td>\n",
       "      <td>-7.957848</td>\n",
       "      <td>-4.395491</td>\n",
       "      <td>-4.698619</td>\n",
       "      <td>-26.413288</td>\n",
       "      <td>-28.337591</td>\n",
       "      <td>12.101671</td>\n",
       "      <td>...</td>\n",
       "      <td>540.599299</td>\n",
       "      <td>347.410313</td>\n",
       "      <td>565.697081</td>\n",
       "      <td>1417.416897</td>\n",
       "      <td>787.046765</td>\n",
       "      <td>256.082444</td>\n",
       "      <td>476.147113</td>\n",
       "      <td>219</td>\n",
       "      <td>1</td>\n",
       "      <td>18</td>\n",
       "    </tr>\n",
       "    <tr>\n",
       "      <th>89</th>\n",
       "      <td>0</td>\n",
       "      <td>36.170632</td>\n",
       "      <td>40.753726</td>\n",
       "      <td>37.028210</td>\n",
       "      <td>44.805384</td>\n",
       "      <td>35.240712</td>\n",
       "      <td>37.322155</td>\n",
       "      <td>40.484925</td>\n",
       "      <td>52.160731</td>\n",
       "      <td>34.161744</td>\n",
       "      <td>...</td>\n",
       "      <td>940.414723</td>\n",
       "      <td>4857.530928</td>\n",
       "      <td>1709.206439</td>\n",
       "      <td>2103.736744</td>\n",
       "      <td>1317.317155</td>\n",
       "      <td>1320.102176</td>\n",
       "      <td>1918.581401</td>\n",
       "      <td>220</td>\n",
       "      <td>1</td>\n",
       "      <td>19</td>\n",
       "    </tr>\n",
       "  </tbody>\n",
       "</table>\n",
       "<p>90 rows × 164 columns</p>\n",
       "</div>"
      ],
      "text/plain": [
       "    Group_AccToParents   mean_AF3   mean_AF4    mean_C3    mean_C4   mean_CP1  \\\n",
       "0                    1  -8.698850 -23.709517 -14.116824 -19.310100  -2.458536   \n",
       "1                    0 -12.651143 -17.591247 -14.895518 -10.553126  -3.815776   \n",
       "2                    1  -4.291754  -7.721236 -25.840885 -21.765084 -33.959699   \n",
       "3                    1 -23.586452 -27.014460 -14.197314 -12.797756 -19.694582   \n",
       "4                    1  -3.473711  -2.229290   0.588515  -0.464928   7.717058   \n",
       "..                 ...        ...        ...        ...        ...        ...   \n",
       "85                   0 -41.444634 -25.633972 -32.105548 -50.839191 -46.723724   \n",
       "86                   1   1.937432  14.313379  -0.034367  14.749652   2.544271   \n",
       "87                   0   4.080161   7.790090  -3.307886  -5.131242  -1.775464   \n",
       "88                   1   0.307460  -3.515791  -5.737908  -7.957848  -4.395491   \n",
       "89                   0  36.170632  40.753726  37.028210  44.805384  35.240712   \n",
       "\n",
       "     mean_CP2   mean_CP5   mean_CP6    mean_Cz  ...       var_P7       var_P8  \\\n",
       "0  -26.754174 -10.368958 -22.028517 -21.244704  ...   136.716508   337.816997   \n",
       "1   -4.456747  -7.756276  -1.770537 -11.983060  ...  1213.374987   541.131597   \n",
       "2  -34.063565 -32.614270 -16.372054 -33.627666  ...   303.998905   496.661763   \n",
       "3  -19.994248 -11.238579  -6.616907 -27.799114  ...   183.609953   131.355955   \n",
       "4   11.191306   2.232668   0.528495   9.460590  ...   137.164369   404.895588   \n",
       "..        ...        ...        ...        ...  ...          ...          ...   \n",
       "85 -29.315308  -4.623241 -19.818626 -37.566254  ...   231.381299   112.791440   \n",
       "86  13.065405   5.469382  25.247935   6.492388  ...   171.277159   173.994679   \n",
       "87  -3.360262  -3.148090  -4.764215   5.065358  ...   106.152805    94.708524   \n",
       "88  -4.698619 -26.413288 -28.337591  12.101671  ...   540.599299   347.410313   \n",
       "89  37.322155  40.484925  52.160731  34.161744  ...   940.414723  4857.530928   \n",
       "\n",
       "        var_PO3      var_PO4       var_Pz       var_T7       var_T8  \\\n",
       "0    384.993960   244.368925   200.547652   113.608744   355.856014   \n",
       "1    602.439210   497.709783   576.354850   546.263357   320.299078   \n",
       "2    867.650545   797.421991   567.904304   337.769169   302.277737   \n",
       "3    111.983206   172.833291   138.677103   154.772343    95.081613   \n",
       "4    257.591693   387.939507   203.877964   145.847537    77.076837   \n",
       "..          ...          ...          ...          ...          ...   \n",
       "85  1384.341960  1315.873799  1741.909484   182.765358  1221.561377   \n",
       "86   213.585422   252.498077   217.125857   235.590776   436.839069   \n",
       "87    96.529695   277.776943   236.351164    79.117091   117.409253   \n",
       "88   565.697081  1417.416897   787.046765   256.082444   476.147113   \n",
       "89  1709.206439  2103.736744  1317.317155  1320.102176  1918.581401   \n",
       "\n",
       "    ParticipantID  sex  age_months  \n",
       "0             101    1          20  \n",
       "1             102    0          20  \n",
       "2             103    0          20  \n",
       "3             104    1          18  \n",
       "4             105    0          17  \n",
       "..            ...  ...         ...  \n",
       "85            216    0          18  \n",
       "86            217    0          18  \n",
       "87            218    1          18  \n",
       "88            219    1          18  \n",
       "89            220    1          19  \n",
       "\n",
       "[90 rows x 164 columns]"
      ]
     },
     "execution_count": 2,
     "metadata": {},
     "output_type": "execute_result"
    }
   ],
   "source": [
    "df = pd.read_csv('df_avg_mmr.csv', sep = ',')\n",
    "df"
   ]
  },
  {
   "cell_type": "code",
   "execution_count": 3,
   "metadata": {},
   "outputs": [],
   "source": [
    "features_of_interest = df[['mean_AF3',\n",
    " 'mean_F3',\n",
    " 'mean_F7',\n",
    " 'mean_FC1',\n",
    " 'mean_FC5',\n",
    " 'mean_Fp1',\n",
    " 'mean_Fz',\n",
    " 'kurt_AF3',\n",
    " 'kurt_F3',\n",
    " 'kurt_F7',\n",
    " 'kurt_FC1',\n",
    " 'kurt_FC5',\n",
    " 'kurt_Fp1',\n",
    " 'kurt_Fz',\n",
    " 'skew_AF3',\n",
    " 'skew_F3',\n",
    " 'skew_F7',\n",
    " 'skew_FC1',\n",
    " 'skew_FC5',\n",
    " 'skew_Fp1',\n",
    " 'skew_Fz',\n",
    " 'std_AF3',\n",
    " 'std_F3',\n",
    " 'std_F7',\n",
    " 'std_FC1',\n",
    " 'std_FC5',\n",
    " 'std_Fp1',\n",
    " 'std_Fz',\n",
    " 'var_AF3',\n",
    " 'var_F3',\n",
    " 'var_F7',\n",
    " 'var_FC1',\n",
    " 'var_FC5',\n",
    " 'var_Fp1',\n",
    " 'var_Fz',\n",
    " 'sex',\n",
    " 'age_months']]"
   ]
  },
  {
   "cell_type": "code",
   "execution_count": 4,
   "metadata": {},
   "outputs": [],
   "source": [
    "dfcor = features_of_interest.corr()"
   ]
  },
  {
   "cell_type": "code",
   "execution_count": 5,
   "metadata": {},
   "outputs": [
    {
     "name": "stdout",
     "output_type": "stream",
     "text": [
      "Top Absolute Correlations\n",
      "std_F7    var_F7      0.997228\n",
      "std_Fp1   var_Fp1     0.996287\n",
      "std_AF3   var_AF3     0.995789\n",
      "          var_Fp1     0.993066\n",
      "var_AF3   var_Fp1     0.990742\n",
      "std_AF3   std_Fp1     0.990281\n",
      "var_F7    var_Fp1     0.982833\n",
      "std_Fp1   var_AF3     0.981334\n",
      "std_F7    var_Fp1     0.979941\n",
      "std_AF3   var_F7      0.978727\n",
      "std_F7    std_Fp1     0.978676\n",
      "std_AF3   std_F7      0.978252\n",
      "mean_AF3  mean_Fp1    0.978015\n",
      "std_Fp1   var_F7      0.976693\n",
      "var_AF3   var_F7      0.972226\n",
      "std_Fz    var_Fz      0.970169\n",
      "skew_AF3  skew_Fp1    0.967476\n",
      "std_F7    var_AF3     0.966277\n",
      "kurt_AF3  kurt_F3     0.960785\n",
      "mean_F7   mean_Fp1    0.955811\n",
      "std_FC1   var_FC1     0.955094\n",
      "kurt_AF3  kurt_Fp1    0.953951\n",
      "std_FC5   var_FC5     0.953057\n",
      "skew_AF3  skew_F3     0.940782\n",
      "          skew_Fz     0.929873\n",
      "skew_F3   skew_Fz     0.928349\n",
      "std_F3    var_F3      0.927506\n",
      "kurt_F3   kurt_Fz     0.921227\n",
      "          kurt_Fp1    0.919525\n",
      "mean_AF3  mean_F7     0.917998\n",
      "skew_AF3  skew_F7     0.915753\n",
      "mean_FC1  var_FC1     0.912340\n",
      "skew_F3   skew_Fp1    0.911373\n",
      "skew_F7   skew_Fp1    0.901720\n",
      "mean_FC5  var_FC5     0.897985\n",
      "skew_Fp1  skew_Fz     0.890706\n",
      "kurt_AF3  kurt_Fz     0.887316\n",
      "std_Fz    var_AF3     0.883455\n",
      "std_AF3   std_Fz      0.879622\n",
      "skew_AF3  skew_FC1    0.879478\n",
      "          skew_FC5    0.879310\n",
      "skew_F3   skew_FC1    0.878693\n",
      "std_Fz    var_Fp1     0.876005\n",
      "mean_AF3  mean_Fz     0.870409\n",
      "std_Fp1   std_Fz      0.867375\n",
      "mean_Fp1  mean_Fz     0.867362\n",
      "skew_FC1  skew_FC5    0.866795\n",
      "mean_F7   mean_Fz     0.857764\n",
      "std_F7    std_Fz      0.854398\n",
      "std_Fz    var_F7      0.853300\n",
      "dtype: float64\n"
     ]
    }
   ],
   "source": [
    "def get_redundant_pairs(df):\n",
    "    '''Get diagonal and lower triangular pairs of correlation matrix'''\n",
    "    pairs_to_drop = set()\n",
    "    cols = df.columns\n",
    "    for i in range(0, df.shape[1]):\n",
    "        for j in range(0, i+1):\n",
    "            pairs_to_drop.add((cols[i], cols[j]))\n",
    "    return pairs_to_drop\n",
    "\n",
    "def get_top_abs_correlations(df, n=5):\n",
    "    au_corr = df.corr().abs().unstack()\n",
    "    labels_to_drop = get_redundant_pairs(df)\n",
    "    au_corr = au_corr.drop(labels=labels_to_drop).sort_values(ascending=False)\n",
    "    return au_corr[0:n]\n",
    "\n",
    "print(\"Top Absolute Correlations\")\n",
    "print(get_top_abs_correlations(dfcor, 50))"
   ]
  },
  {
   "cell_type": "markdown",
   "metadata": {},
   "source": [
    "## Split data"
   ]
  },
  {
   "cell_type": "code",
   "execution_count": 6,
   "metadata": {},
   "outputs": [],
   "source": [
    "y = df['Group_AccToParents'].values # dependant variable\n",
    "X = df[['mean_AF3',\n",
    " 'mean_F3',\n",
    " 'mean_F7',\n",
    " 'mean_FC1',\n",
    " 'mean_FC5',\n",
    " 'mean_Fp1',\n",
    " 'mean_Fz',\n",
    " 'kurt_AF3',\n",
    " 'kurt_F3',\n",
    " 'kurt_F7',\n",
    " 'kurt_FC1',\n",
    " 'kurt_FC5',\n",
    " 'kurt_Fp1',\n",
    " 'kurt_Fz',\n",
    " 'skew_AF3',\n",
    " 'skew_F3',\n",
    " 'skew_F7',\n",
    " 'skew_FC1',\n",
    " 'skew_FC5',\n",
    " 'skew_Fp1',\n",
    " 'skew_Fz',\n",
    " 'std_AF3',\n",
    " 'std_F3',\n",
    " 'std_F7',\n",
    " 'std_FC1',\n",
    " 'std_FC5',\n",
    " 'std_Fp1',\n",
    " 'std_Fz',\n",
    " 'sex',\n",
    " 'age_months']]\n",
    "\n",
    "X_train, X_test, y_train, y_test = train_test_split(X, y, test_size=0.2, random_state=42)"
   ]
  },
  {
   "cell_type": "markdown",
   "metadata": {},
   "source": [
    "## Scale data"
   ]
  },
  {
   "cell_type": "code",
   "execution_count": 7,
   "metadata": {},
   "outputs": [],
   "source": [
    "sc = StandardScaler()\n",
    "sc.fit(X_train)\n",
    "X_train = sc.transform(X_train)\n",
    "X_test = sc.transform(X_test)"
   ]
  },
  {
   "cell_type": "code",
   "execution_count": 8,
   "metadata": {},
   "outputs": [],
   "source": [
    "#pca = PCA()\n",
    "#X_train = pca.fit_transform(X_train)\n",
    "#X_test = pca.transform(X_test)"
   ]
  },
  {
   "cell_type": "markdown",
   "metadata": {},
   "source": [
    "## SVM model"
   ]
  },
  {
   "cell_type": "code",
   "execution_count": 9,
   "metadata": {},
   "outputs": [
    {
     "data": {
      "text/plain": [
       "['mean_fit_time',\n",
       " 'mean_score_time',\n",
       " 'mean_test_score',\n",
       " 'param_C',\n",
       " 'param_kernel',\n",
       " 'params',\n",
       " 'rank_test_score',\n",
       " 'split0_test_score',\n",
       " 'split1_test_score',\n",
       " 'split2_test_score',\n",
       " 'split3_test_score',\n",
       " 'split4_test_score',\n",
       " 'std_fit_time',\n",
       " 'std_score_time',\n",
       " 'std_test_score']"
      ]
     },
     "execution_count": 9,
     "metadata": {},
     "output_type": "execute_result"
    }
   ],
   "source": [
    "svm = SVC()\n",
    "parameters = {'kernel':('linear', 'rbf'), 'C':[0.001, 10]}\n",
    "clf = GridSearchCV(svm, parameters)\n",
    "clf.fit(X_train, y_train)\n",
    "\n",
    "sorted(clf.cv_results_.keys())"
   ]
  },
  {
   "cell_type": "code",
   "execution_count": 10,
   "metadata": {},
   "outputs": [
    {
     "data": {
      "text/plain": [
       "{'C': 10, 'kernel': 'rbf'}"
      ]
     },
     "execution_count": 10,
     "metadata": {},
     "output_type": "execute_result"
    }
   ],
   "source": [
    "clf.best_params_"
   ]
  },
  {
   "cell_type": "code",
   "execution_count": 11,
   "metadata": {},
   "outputs": [
    {
     "data": {
      "text/plain": [
       "1.0"
      ]
     },
     "execution_count": 11,
     "metadata": {},
     "output_type": "execute_result"
    }
   ],
   "source": [
    "clf.score(X_train, y_train)"
   ]
  },
  {
   "cell_type": "code",
   "execution_count": 12,
   "metadata": {},
   "outputs": [
    {
     "data": {
      "text/plain": [
       "SVC(C=0.1, kernel='linear')"
      ]
     },
     "execution_count": 12,
     "metadata": {},
     "output_type": "execute_result"
    }
   ],
   "source": [
    "svm = SVC(C=0.1, kernel='linear')\n",
    "svm.fit(X_train, y_train)"
   ]
  },
  {
   "cell_type": "code",
   "execution_count": 13,
   "metadata": {},
   "outputs": [
    {
     "name": "stdout",
     "output_type": "stream",
     "text": [
      "Accuracy: 0.611\n"
     ]
    }
   ],
   "source": [
    "y_pred = svm.predict(X_test)\n",
    "print('Accuracy: %.3f' % accuracy_score(y_test, y_pred))"
   ]
  },
  {
   "cell_type": "code",
   "execution_count": 14,
   "metadata": {},
   "outputs": [
    {
     "data": {
      "text/plain": [
       "array([0, 1, 0, 0, 0, 0, 1, 1, 0, 0, 0, 1, 0, 1, 1, 1, 1, 0], dtype=int64)"
      ]
     },
     "execution_count": 14,
     "metadata": {},
     "output_type": "execute_result"
    }
   ],
   "source": [
    "y_pred"
   ]
  },
  {
   "cell_type": "code",
   "execution_count": 15,
   "metadata": {},
   "outputs": [
    {
     "data": {
      "image/png": "[encoded data removed]",
      "text/plain": [
       "<Figure size 432x288 with 2 Axes>"
      ]
     },
     "metadata": {
      "needs_background": "light"
     },
     "output_type": "display_data"
    }
   ],
   "source": [
    "cm = confusion_matrix(y_test, y_pred)\n",
    "ax= plt.subplot()\n",
    "sn.heatmap(cm, annot=True, fmt='g', ax=ax);  \n",
    "ax.set_xlabel('Predicted labels');ax.set_ylabel('True labels'); \n",
    "ax.set_title('Confusion Matrix'); \n",
    "ax.xaxis.set_ticklabels(['control', 'at risk']); ax.yaxis.set_ticklabels(['control', 'at risk']);"
   ]
  },
  {
   "cell_type": "markdown",
   "metadata": {},
   "source": [
    "## Logistic Regression model"
   ]
  },
  {
   "cell_type": "code",
   "execution_count": 16,
   "metadata": {},
   "outputs": [
    {
     "data": {
      "text/plain": [
       "LogisticRegression(random_state=0, solver='liblinear')"
      ]
     },
     "execution_count": 16,
     "metadata": {},
     "output_type": "execute_result"
    }
   ],
   "source": [
    "lr = LogisticRegression(solver='liblinear', random_state=0)\n",
    "lr.fit(X_train, y_train)"
   ]
  },
  {
   "cell_type": "code",
   "execution_count": 17,
   "metadata": {},
   "outputs": [],
   "source": [
    "y_pred = lr.predict(X_test)"
   ]
  },
  {
   "cell_type": "code",
   "execution_count": 18,
   "metadata": {},
   "outputs": [
    {
     "name": "stdout",
     "output_type": "stream",
     "text": [
      "Accuracy: 0.556\n"
     ]
    }
   ],
   "source": [
    "print('Accuracy: %.3f' % accuracy_score(y_test, y_pred))"
   ]
  },
  {
   "cell_type": "code",
   "execution_count": 19,
   "metadata": {},
   "outputs": [
    {
     "data": {
      "text/plain": [
       "array([1, 1, 0, 0, 0, 0, 1, 1, 0, 0, 0, 1, 1, 1, 0, 1, 1, 0], dtype=int64)"
      ]
     },
     "execution_count": 19,
     "metadata": {},
     "output_type": "execute_result"
    }
   ],
   "source": [
    "y_pred"
   ]
  },
  {
   "cell_type": "code",
   "execution_count": 20,
   "metadata": {},
   "outputs": [
    {
     "data": {
      "image/png": "[encoded data removed]",
      "text/plain": [
       "<Figure size 432x288 with 2 Axes>"
      ]
     },
     "metadata": {
      "needs_background": "light"
     },
     "output_type": "display_data"
    }
   ],
   "source": [
    "cm = confusion_matrix(y_test, y_pred)\n",
    "ax= plt.subplot()\n",
    "sn.heatmap(cm, annot=True, fmt='g', ax=ax);  \n",
    "ax.set_xlabel('Predicted labels');ax.set_ylabel('True labels'); \n",
    "ax.set_title('Confusion Matrix'); \n",
    "ax.xaxis.set_ticklabels(['control', 'at risk']); ax.yaxis.set_ticklabels(['control', 'at risk']);"
   ]
  },
  {
   "cell_type": "markdown",
   "metadata": {},
   "source": [
    "## Decision Tree model"
   ]
  },
  {
   "cell_type": "code",
   "execution_count": 21,
   "metadata": {},
   "outputs": [
    {
     "data": {
      "text/plain": [
       "DecisionTreeClassifier()"
      ]
     },
     "execution_count": 21,
     "metadata": {},
     "output_type": "execute_result"
    }
   ],
   "source": [
    "dt = tree.DecisionTreeClassifier()\n",
    "dt.fit(X_train, y_train)"
   ]
  },
  {
   "cell_type": "code",
   "execution_count": 22,
   "metadata": {},
   "outputs": [],
   "source": [
    "y_pred = dt.predict(X_test)"
   ]
  },
  {
   "cell_type": "code",
   "execution_count": 23,
   "metadata": {},
   "outputs": [
    {
     "name": "stdout",
     "output_type": "stream",
     "text": [
      "Accuracy: 0.556\n"
     ]
    }
   ],
   "source": [
    "print('Accuracy: %.3f' % accuracy_score(y_test, y_pred))"
   ]
  },
  {
   "cell_type": "code",
   "execution_count": 24,
   "metadata": {},
   "outputs": [
    {
     "data": {
      "text/plain": [
       "array([0, 0, 1, 1, 1, 0, 0, 0, 1, 0, 0, 1, 1, 1, 1, 1, 0, 0], dtype=int64)"
      ]
     },
     "execution_count": 24,
     "metadata": {},
     "output_type": "execute_result"
    }
   ],
   "source": [
    "y_pred"
   ]
  },
  {
   "cell_type": "code",
   "execution_count": 25,
   "metadata": {},
   "outputs": [
    {
     "data": {
      "image/png": "[encoded data removed]",
      "text/plain": [
       "<Figure size 432x288 with 2 Axes>"
      ]
     },
     "metadata": {
      "needs_background": "light"
     },
     "output_type": "display_data"
    }
   ],
   "source": [
    "cm = confusion_matrix(y_test, y_pred)\n",
    "ax= plt.subplot()\n",
    "sn.heatmap(cm, annot=True, fmt='g', ax=ax);  \n",
    "ax.set_xlabel('Predicted labels');ax.set_ylabel('True labels'); \n",
    "ax.set_title('Confusion Matrix'); \n",
    "ax.xaxis.set_ticklabels(['control', 'at risk']); ax.yaxis.set_ticklabels(['control', 'at risk']);"
   ]
  },
  {
   "cell_type": "code",
   "execution_count": null,
   "metadata": {},
   "outputs": [],
   "source": []
  },
  {
   "cell_type": "code",
   "execution_count": null,
   "metadata": {},
   "outputs": [],
   "source": []
  },
  {
   "cell_type": "code",
   "execution_count": null,
   "metadata": {},
   "outputs": [],
   "source": []
  }
 ],
 "metadata": {
  "kernelspec": {
   "display_name": "Python 3 (ipykernel)",
   "language": "python",
   "name": "python3"
  },
  "language_info": {
   "codemirror_mode": {
    "name": "ipython",
    "version": 3
   },
   "file_extension": ".py",
   "mimetype": "text/x-python",
   "name": "python",
   "nbconvert_exporter": "python",
   "pygments_lexer": "ipython3",
   "version": "3.8.5"
  }
 },
 "nbformat": 4,
 "nbformat_minor": 4
}
