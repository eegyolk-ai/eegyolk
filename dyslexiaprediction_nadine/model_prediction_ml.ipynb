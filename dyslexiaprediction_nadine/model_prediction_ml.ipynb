{
 "cells": [
  {
   "cell_type": "markdown",
   "metadata": {},
   "source": [
    "# Machine Learning models on Mismatch Response data"
   ]
  },
  {
   "cell_type": "markdown",
   "metadata": {},
   "source": [
    "In this notebook: \n",
    "- Necessary imports\n",
    "- Split data\n",
    "- Scale data\n",
    "- SVM model \n",
    "- Logistic Regression model\n",
    "- Decision Tree model\n",
    "- MLP model\n",
    "- Convolutional Neural Network\n",
    "\n",
    "The models will predict whether a child is at risk for dyslexia or not based on the variable `Group_AccToParents`. The hyperparameters will be selected using gridsearch. "
   ]
  },
  {
   "cell_type": "markdown",
   "metadata": {},
   "source": [
    "## Imports"
   ]
  },
  {
   "cell_type": "code",
   "execution_count": 1,
   "metadata": {},
   "outputs": [
    {
     "name": "stderr",
     "output_type": "stream",
     "text": [
      "2022-11-08 17:01:19.776488: I tensorflow/core/platform/cpu_feature_guard.cc:193] This TensorFlow binary is optimized with oneAPI Deep Neural Network Library (oneDNN) to use the following CPU instructions in performance-critical operations:  AVX2 AVX512F AVX512_VNNI FMA\n",
      "To enable them in other operations, rebuild TensorFlow with the appropriate compiler flags.\n",
      "2022-11-08 17:01:19.887475: I tensorflow/core/util/util.cc:169] oneDNN custom operations are on. You may see slightly different numerical results due to floating-point round-off errors from different computation orders. To turn them off, set the environment variable `TF_ENABLE_ONEDNN_OPTS=0`.\n",
      "2022-11-08 17:01:19.917200: E tensorflow/stream_executor/cuda/cuda_blas.cc:2981] Unable to register cuBLAS factory: Attempting to register factory for plugin cuBLAS when one has already been registered\n",
      "2022-11-08 17:01:20.443466: W tensorflow/stream_executor/platform/default/dso_loader.cc:64] Could not load dynamic library 'libnvinfer.so.7'; dlerror: libnvinfer.so.7: cannot open shared object file: No such file or directory\n",
      "2022-11-08 17:01:20.443537: W tensorflow/stream_executor/platform/default/dso_loader.cc:64] Could not load dynamic library 'libnvinfer_plugin.so.7'; dlerror: libnvinfer_plugin.so.7: cannot open shared object file: No such file or directory\n",
      "2022-11-08 17:01:20.443548: W tensorflow/compiler/tf2tensorrt/utils/py_utils.cc:38] TF-TRT Warning: Cannot dlopen some TensorRT libraries. If you would like to use Nvidia GPU with TensorRT, please make sure the missing libraries mentioned above are installed properly.\n"
     ]
    }
   ],
   "source": [
    "import os       # using operating system dependent functionality (folders)\n",
    "import pandas as pd # data analysis and manipulation\n",
    "import numpy as np    # numerical computing (manipulating and performing operations on arrays of data)\n",
    "import seaborn as sn\n",
    "import matplotlib.pyplot as plt\n",
    "import ipywidgets as widgets\n",
    "from sklearn.model_selection import train_test_split\n",
    "from sklearn.preprocessing import StandardScaler\n",
    "\n",
    "import sys\n",
    "sys.path.insert(0, '../eegyolk') # path to helper functions\n",
    "import epod_models # remove once new version of eegyolk is up\n",
    "import eegyolk\n",
    "# from eegyolk import epod_models"
   ]
  },
  {
   "cell_type": "markdown",
   "metadata": {},
   "source": [
    "## Select approach"
   ]
  },
  {
   "cell_type": "markdown",
   "metadata": {},
   "source": [
    "Each dataset refers to a different approach. Select the button of dataset of interest. "
   ]
  },
  {
   "cell_type": "code",
   "execution_count": 2,
   "metadata": {},
   "outputs": [
    {
     "data": {
      "application/vnd.jupyter.widget-view+json": {
       "model_id": "8ac0b2d82bca42eda294edd05201b79a",
       "version_major": 2,
       "version_minor": 0
      },
      "text/plain": [
       "RadioButtons(description='Pick sensors', options=('df_mmr_ch_complete.csv', 'df_mmr_ch_literature.csv', 'df_mm…"
      ]
     },
     "metadata": {},
     "output_type": "display_data"
    }
   ],
   "source": [
    "csv = widgets.RadioButtons(\n",
    "    options=['df_mmr_ch_complete.csv', 'df_mmr_ch_literature.csv', 'df_mmr_ch_ttest.csv', 'df_mmr_ch_connectivity.csv'],\n",
    "    description='Pick sensors',\n",
    "    disabled=False\n",
    ")\n",
    "display(csv)"
   ]
  },
  {
   "cell_type": "code",
   "execution_count": 3,
   "metadata": {},
   "outputs": [],
   "source": [
    "csv = str(csv.value)\n",
    "df = pd.read_csv(csv, sep = ',')"
   ]
  },
  {
   "cell_type": "markdown",
   "metadata": {},
   "source": [
    "The t-test and connectivity approach used 30% of the dataset on analysis. Those participants will be excluded from the model training and validation. "
   ]
  },
  {
   "cell_type": "code",
   "execution_count": 4,
   "metadata": {},
   "outputs": [],
   "source": [
    "if csv=='df_mmr_ch_ttest.csv' or csv=='df_mmr_ch_connectivity.csv':\n",
    "    df = df[30:]"
   ]
  },
  {
   "cell_type": "markdown",
   "metadata": {},
   "source": [
    "## Split data"
   ]
  },
  {
   "cell_type": "markdown",
   "metadata": {},
   "source": [
    "The data needs to be divided in a training and validation set. This will be done using the sklearn method `train_test_split`. Before splitting the target variable y needs to be defined and the independend variables X. "
   ]
  },
  {
   "cell_type": "code",
   "execution_count": 5,
   "metadata": {},
   "outputs": [],
   "source": [
    "y = df['Group_AccToParents'].values # dependent variable\n",
    "X = df.drop(['Group_AccToParents'], axis=1)\n",
    "X_train, X_test, y_train, y_test = train_test_split(X, y, test_size=0.2, random_state=42)"
   ]
  },
  {
   "cell_type": "markdown",
   "metadata": {},
   "source": [
    "## Scale data"
   ]
  },
  {
   "cell_type": "markdown",
   "metadata": {},
   "source": [
    "The data needs to make it easier for a model to find patterns. The `StandardScaler` from sklearn is used for this. "
   ]
  },
  {
   "cell_type": "code",
   "execution_count": 6,
   "metadata": {},
   "outputs": [],
   "source": [
    "sc = StandardScaler()\n",
    "sc.fit(X_train)\n",
    "X_train = sc.transform(X_train)\n",
    "X_test = sc.transform(X_test)"
   ]
  },
  {
   "cell_type": "markdown",
   "metadata": {},
   "source": [
    "## Select model"
   ]
  },
  {
   "cell_type": "code",
   "execution_count": 7,
   "metadata": {},
   "outputs": [
    {
     "data": {
      "application/vnd.jupyter.widget-view+json": {
       "model_id": "63dbff35800142d986eb55971ac41ddf",
       "version_major": 2,
       "version_minor": 0
      },
      "text/plain": [
       "RadioButtons(description='Pick model:', options=('SVM', 'Logistic Regression', 'Decision Tree', 'Multi Layer P…"
      ]
     },
     "metadata": {},
     "output_type": "display_data"
    }
   ],
   "source": [
    "model_pick = widgets.RadioButtons(\n",
    "    options=['SVM', 'Logistic Regression', 'Decision Tree', 'Multi Layer Perceptron', 'Convolutional Neural Network'],\n",
    "    description='Pick model:',\n",
    "    disabled=False\n",
    ")\n",
    "display(model_pick)"
   ]
  },
  {
   "cell_type": "code",
   "execution_count": 8,
   "metadata": {},
   "outputs": [],
   "source": [
    "model_pick = str(model_pick.value)"
   ]
  },
  {
   "cell_type": "markdown",
   "metadata": {},
   "source": [
    "## Models"
   ]
  },
  {
   "cell_type": "markdown",
   "metadata": {},
   "source": [
    "The models are stored in the eegyolk library `epod_models.py`. The selected model will be called from the library and executed. "
   ]
  },
  {
   "cell_type": "code",
   "execution_count": 9,
   "metadata": {},
   "outputs": [
    {
     "name": "stderr",
     "output_type": "stream",
     "text": [
      "2022-11-08 17:01:29.717963: I tensorflow/stream_executor/cuda/cuda_gpu_executor.cc:980] successful NUMA node read from SysFS had negative value (-1), but there must be at least one NUMA node, so returning NUMA node zero\n",
      "2022-11-08 17:01:29.749511: W tensorflow/stream_executor/platform/default/dso_loader.cc:64] Could not load dynamic library 'libcudnn.so.8'; dlerror: libcudnn.so.8: cannot open shared object file: No such file or directory\n",
      "2022-11-08 17:01:29.749533: W tensorflow/core/common_runtime/gpu/gpu_device.cc:1934] Cannot dlopen some GPU libraries. Please make sure the missing libraries mentioned above are installed properly if you would like to use GPU. Follow the guide at https://www.tensorflow.org/install/gpu for how to download and setup the required libraries for your platform.\n",
      "Skipping registering GPU devices...\n",
      "2022-11-08 17:01:29.751269: I tensorflow/core/platform/cpu_feature_guard.cc:193] This TensorFlow binary is optimized with oneAPI Deep Neural Network Library (oneDNN) to use the following CPU instructions in performance-critical operations:  AVX2 AVX512F AVX512_VNNI FMA\n",
      "To enable them in other operations, rebuild TensorFlow with the appropriate compiler flags.\n"
     ]
    },
    {
     "name": "stdout",
     "output_type": "stream",
     "text": [
      "Epoch 1/50\n",
      "40/40 [==============================] - 1s 6ms/step - loss: 0.6782 - accuracy: 0.6125 - val_loss: 0.7230 - val_accuracy: 0.4286\n",
      "Epoch 2/50\n",
      "40/40 [==============================] - 0s 2ms/step - loss: 0.6276 - accuracy: 0.6500 - val_loss: 0.7018 - val_accuracy: 0.4286\n",
      "Epoch 3/50\n",
      "40/40 [==============================] - 0s 2ms/step - loss: 0.5900 - accuracy: 0.6500 - val_loss: 0.6864 - val_accuracy: 0.4286\n",
      "Epoch 4/50\n",
      "40/40 [==============================] - 0s 2ms/step - loss: 0.5625 - accuracy: 0.6625 - val_loss: 0.6717 - val_accuracy: 0.4286\n",
      "Epoch 5/50\n",
      "40/40 [==============================] - 0s 2ms/step - loss: 0.5418 - accuracy: 0.6625 - val_loss: 0.6634 - val_accuracy: 0.4286\n",
      "Epoch 6/50\n",
      "40/40 [==============================] - 0s 2ms/step - loss: 0.5187 - accuracy: 0.6625 - val_loss: 0.6623 - val_accuracy: 0.4286\n",
      "Epoch 7/50\n",
      "40/40 [==============================] - 0s 2ms/step - loss: 0.5024 - accuracy: 0.6625 - val_loss: 0.6638 - val_accuracy: 0.4286\n",
      "Epoch 8/50\n",
      "40/40 [==============================] - 0s 2ms/step - loss: 0.4745 - accuracy: 0.6750 - val_loss: 0.6520 - val_accuracy: 0.4286\n",
      "Epoch 9/50\n",
      "40/40 [==============================] - 0s 2ms/step - loss: 0.4587 - accuracy: 0.7000 - val_loss: 0.6500 - val_accuracy: 0.4762\n",
      "Epoch 10/50\n",
      "40/40 [==============================] - 0s 1ms/step - loss: 0.4405 - accuracy: 0.7125 - val_loss: 0.6354 - val_accuracy: 0.4762\n",
      "Epoch 11/50\n",
      "40/40 [==============================] - 0s 1ms/step - loss: 0.4274 - accuracy: 0.7250 - val_loss: 0.6271 - val_accuracy: 0.4762\n",
      "Epoch 12/50\n",
      "40/40 [==============================] - 0s 1ms/step - loss: 0.4072 - accuracy: 0.7375 - val_loss: 0.6309 - val_accuracy: 0.4762\n",
      "Epoch 13/50\n",
      "40/40 [==============================] - 0s 1ms/step - loss: 0.3903 - accuracy: 0.7375 - val_loss: 0.6123 - val_accuracy: 0.4762\n",
      "Epoch 14/50\n",
      "40/40 [==============================] - 0s 1ms/step - loss: 0.3706 - accuracy: 0.7625 - val_loss: 0.6034 - val_accuracy: 0.4762\n",
      "Epoch 15/50\n",
      "40/40 [==============================] - 0s 2ms/step - loss: 0.3491 - accuracy: 0.7750 - val_loss: 0.5912 - val_accuracy: 0.4762\n",
      "Epoch 16/50\n",
      "40/40 [==============================] - 0s 1ms/step - loss: 0.3348 - accuracy: 0.8000 - val_loss: 0.5740 - val_accuracy: 0.5238\n",
      "Epoch 17/50\n",
      "40/40 [==============================] - 0s 1ms/step - loss: 0.3146 - accuracy: 0.8125 - val_loss: 0.5662 - val_accuracy: 0.5238\n",
      "Epoch 18/50\n",
      "40/40 [==============================] - 0s 1ms/step - loss: 0.2979 - accuracy: 0.8250 - val_loss: 0.5500 - val_accuracy: 0.5238\n",
      "Epoch 19/50\n",
      "40/40 [==============================] - 0s 2ms/step - loss: 0.2822 - accuracy: 0.8250 - val_loss: 0.5463 - val_accuracy: 0.5238\n",
      "Epoch 20/50\n",
      "40/40 [==============================] - 0s 2ms/step - loss: 0.2629 - accuracy: 0.8500 - val_loss: 0.5286 - val_accuracy: 0.5714\n",
      "Epoch 21/50\n",
      "40/40 [==============================] - 0s 2ms/step - loss: 0.2466 - accuracy: 0.8375 - val_loss: 0.5171 - val_accuracy: 0.6190\n",
      "Epoch 22/50\n",
      "40/40 [==============================] - 0s 2ms/step - loss: 0.2326 - accuracy: 0.8625 - val_loss: 0.5068 - val_accuracy: 0.6190\n",
      "Epoch 23/50\n",
      "40/40 [==============================] - 0s 2ms/step - loss: 0.2179 - accuracy: 0.8875 - val_loss: 0.5136 - val_accuracy: 0.6667\n",
      "Epoch 24/50\n",
      "40/40 [==============================] - 0s 2ms/step - loss: 0.1994 - accuracy: 0.8875 - val_loss: 0.4903 - val_accuracy: 0.6667\n",
      "Epoch 25/50\n",
      "40/40 [==============================] - 0s 2ms/step - loss: 0.1816 - accuracy: 0.9250 - val_loss: 0.4871 - val_accuracy: 0.6667\n",
      "Epoch 26/50\n",
      "40/40 [==============================] - 0s 2ms/step - loss: 0.1747 - accuracy: 0.9250 - val_loss: 0.4834 - val_accuracy: 0.6667\n",
      "Epoch 27/50\n",
      "40/40 [==============================] - 0s 2ms/step - loss: 0.1580 - accuracy: 0.9125 - val_loss: 0.4856 - val_accuracy: 0.6667\n",
      "Epoch 28/50\n",
      "40/40 [==============================] - 0s 2ms/step - loss: 0.1440 - accuracy: 0.9625 - val_loss: 0.4786 - val_accuracy: 0.6190\n",
      "Epoch 29/50\n",
      "40/40 [==============================] - 0s 2ms/step - loss: 0.1329 - accuracy: 0.9625 - val_loss: 0.4824 - val_accuracy: 0.6667\n",
      "Epoch 30/50\n",
      "40/40 [==============================] - 0s 2ms/step - loss: 0.1229 - accuracy: 0.9750 - val_loss: 0.4934 - val_accuracy: 0.6190\n",
      "Epoch 31/50\n",
      "40/40 [==============================] - 0s 2ms/step - loss: 0.1146 - accuracy: 0.9750 - val_loss: 0.4813 - val_accuracy: 0.6667\n",
      "Epoch 32/50\n",
      "40/40 [==============================] - 0s 2ms/step - loss: 0.1079 - accuracy: 0.9750 - val_loss: 0.4830 - val_accuracy: 0.6667\n",
      "Epoch 33/50\n",
      "40/40 [==============================] - 0s 2ms/step - loss: 0.0995 - accuracy: 0.9750 - val_loss: 0.4970 - val_accuracy: 0.6667\n",
      "Epoch 34/50\n",
      "40/40 [==============================] - 0s 2ms/step - loss: 0.0911 - accuracy: 0.9750 - val_loss: 0.4937 - val_accuracy: 0.6667\n",
      "Epoch 35/50\n",
      "40/40 [==============================] - 0s 2ms/step - loss: 0.0829 - accuracy: 0.9750 - val_loss: 0.5017 - val_accuracy: 0.6667\n",
      "Epoch 36/50\n",
      "40/40 [==============================] - 0s 2ms/step - loss: 0.0770 - accuracy: 0.9750 - val_loss: 0.4987 - val_accuracy: 0.6667\n",
      "Epoch 37/50\n",
      "40/40 [==============================] - 0s 2ms/step - loss: 0.0721 - accuracy: 0.9875 - val_loss: 0.4987 - val_accuracy: 0.6667\n",
      "Epoch 38/50\n",
      "40/40 [==============================] - 0s 2ms/step - loss: 0.0673 - accuracy: 0.9875 - val_loss: 0.5042 - val_accuracy: 0.7143\n",
      "Epoch 39/50\n",
      "40/40 [==============================] - 0s 2ms/step - loss: 0.0636 - accuracy: 0.9875 - val_loss: 0.5156 - val_accuracy: 0.7143\n",
      "Epoch 40/50\n",
      "40/40 [==============================] - 0s 2ms/step - loss: 0.0577 - accuracy: 0.9875 - val_loss: 0.5030 - val_accuracy: 0.7143\n",
      "Epoch 41/50\n",
      "40/40 [==============================] - 0s 2ms/step - loss: 0.0535 - accuracy: 0.9875 - val_loss: 0.5210 - val_accuracy: 0.7143\n",
      "Epoch 42/50\n",
      "40/40 [==============================] - 0s 2ms/step - loss: 0.0491 - accuracy: 0.9875 - val_loss: 0.5238 - val_accuracy: 0.7143\n",
      "Epoch 43/50\n",
      "40/40 [==============================] - 0s 2ms/step - loss: 0.0464 - accuracy: 0.9875 - val_loss: 0.5227 - val_accuracy: 0.7143\n",
      "Epoch 44/50\n",
      "40/40 [==============================] - 0s 2ms/step - loss: 0.0435 - accuracy: 1.0000 - val_loss: 0.5214 - val_accuracy: 0.7143\n",
      "Epoch 45/50\n",
      "40/40 [==============================] - 0s 2ms/step - loss: 0.0389 - accuracy: 1.0000 - val_loss: 0.5238 - val_accuracy: 0.7143\n",
      "Epoch 46/50\n",
      "40/40 [==============================] - 0s 2ms/step - loss: 0.0343 - accuracy: 1.0000 - val_loss: 0.5221 - val_accuracy: 0.7143\n",
      "Epoch 47/50\n",
      "40/40 [==============================] - 0s 2ms/step - loss: 0.0317 - accuracy: 1.0000 - val_loss: 0.5389 - val_accuracy: 0.7143\n",
      "Epoch 48/50\n",
      "40/40 [==============================] - 0s 2ms/step - loss: 0.0296 - accuracy: 1.0000 - val_loss: 0.5362 - val_accuracy: 0.7143\n",
      "Epoch 49/50\n",
      "40/40 [==============================] - 0s 2ms/step - loss: 0.0270 - accuracy: 1.0000 - val_loss: 0.5565 - val_accuracy: 0.7619\n",
      "Epoch 50/50\n",
      "40/40 [==============================] - 0s 2ms/step - loss: 0.0252 - accuracy: 1.0000 - val_loss: 0.5470 - val_accuracy: 0.7143\n"
     ]
    },
    {
     "data": {
      "image/png": "[encoded data removed]",
      "text/plain": [
       "<Figure size 432x288 with 1 Axes>"
      ]
     },
     "metadata": {
      "needs_background": "light"
     },
     "output_type": "display_data"
    },
    {
     "data": {
      "image/png": "[encoded data removed]",
      "text/plain": [
       "<Figure size 432x288 with 1 Axes>"
      ]
     },
     "metadata": {
      "needs_background": "light"
     },
     "output_type": "display_data"
    }
   ],
   "source": [
    "if model_pick == 'SVM':\n",
    "    svm = epod_models.SVM(X, y, X_train, y_train, X_test, y_test)\n",
    "if model_pick == 'Logistic Regression':\n",
    "    lr = epod_models.LR(X, y, X_train, y_train, X_test, y_test)\n",
    "if model_pick == 'Decision Tree':\n",
    "    dt = epod_models.DT(X, y, X_train, y_train, X_test, y_test)\n",
    "if model_pick == 'Multi Layer Perceptron':\n",
    "    mlp = epod_models.MLP(X, y, X_train, y_train, X_test, y_test)\n",
    "if model_pick == 'Convolutional Neural Network':    \n",
    "    cnn = epod_models.CNN(df, 50, 2)"
   ]
  },
  {
   "cell_type": "code",
   "execution_count": null,
   "metadata": {},
   "outputs": [],
   "source": []
  }
 ],
 "metadata": {
  "kernelspec": {
   "display_name": "Python 3 (ipykernel)",
   "language": "python",
   "name": "python3"
  },
  "language_info": {
   "codemirror_mode": {
    "name": "ipython",
    "version": 3
   },
   "file_extension": ".py",
   "mimetype": "text/x-python",
   "name": "python",
   "nbconvert_exporter": "python",
   "pygments_lexer": "ipython3",
   "version": "3.8.10"
  }
 },
 "nbformat": 4,
 "nbformat_minor": 4
}
