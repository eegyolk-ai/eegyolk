{
 "cells": [
  {
   "cell_type": "markdown",
   "metadata": {},
   "source": [
    "# Machine Learning models on Mismatch Response data"
   ]
  },
  {
   "cell_type": "markdown",
   "metadata": {},
   "source": [
    "In this notebook: \n",
    "- Necessary imports\n",
    "- SVM model \n",
    "- Logistic Regression model\n",
    "- Decision Tree model"
   ]
  },
  {
   "cell_type": "markdown",
   "metadata": {},
   "source": [
    "## Imports"
   ]
  },
  {
   "cell_type": "code",
   "execution_count": 1,
   "metadata": {},
   "outputs": [
    {
     "name": "stderr",
     "output_type": "stream",
     "text": [
      "2022-10-19 09:22:11.981652: I tensorflow/core/platform/cpu_feature_guard.cc:193] This TensorFlow binary is optimized with oneAPI Deep Neural Network Library (oneDNN) to use the following CPU instructions in performance-critical operations:  AVX2 AVX512F AVX512_VNNI FMA\n",
      "To enable them in other operations, rebuild TensorFlow with the appropriate compiler flags.\n",
      "2022-10-19 09:22:12.092812: I tensorflow/core/util/util.cc:169] oneDNN custom operations are on. You may see slightly different numerical results due to floating-point round-off errors from different computation orders. To turn them off, set the environment variable `TF_ENABLE_ONEDNN_OPTS=0`.\n",
      "2022-10-19 09:22:12.121385: E tensorflow/stream_executor/cuda/cuda_blas.cc:2981] Unable to register cuBLAS factory: Attempting to register factory for plugin cuBLAS when one has already been registered\n",
      "2022-10-19 09:22:12.649568: W tensorflow/stream_executor/platform/default/dso_loader.cc:64] Could not load dynamic library 'libnvinfer.so.7'; dlerror: libnvinfer.so.7: cannot open shared object file: No such file or directory\n",
      "2022-10-19 09:22:12.649652: W tensorflow/stream_executor/platform/default/dso_loader.cc:64] Could not load dynamic library 'libnvinfer_plugin.so.7'; dlerror: libnvinfer_plugin.so.7: cannot open shared object file: No such file or directory\n",
      "2022-10-19 09:22:12.649662: W tensorflow/compiler/tf2tensorrt/utils/py_utils.cc:38] TF-TRT Warning: Cannot dlopen some TensorRT libraries. If you would like to use Nvidia GPU with TensorRT, please make sure the missing libraries mentioned above are installed properly.\n"
     ]
    }
   ],
   "source": [
    "import os       # using operating system dependent functionality (folders)\n",
    "import pandas as pd # data analysis and manipulation\n",
    "import numpy as np    # numerical computing (manipulating and performing operations on arrays of data)\n",
    "import copy     # Can Copy and Deepcopy files so original file is untouched.\n",
    "import seaborn as sn\n",
    "import matplotlib.pyplot as plt\n",
    "import ipywidgets as widgets\n",
    "\n",
    "import sys\n",
    "sys.path.insert(0, '../eegyolk') # path to helper functions\n",
    "import helper_functions as hf # library useful for eeg and erp data cleaning\n",
    "import epod_helper\n",
    "\n",
    "from sklearn.model_selection import train_test_split\n",
    "from sklearn.preprocessing import StandardScaler\n",
    "from sklearn.svm import SVC\n",
    "from sklearn.metrics import accuracy_score\n",
    "from sklearn.linear_model import LogisticRegression\n",
    "from sklearn import tree\n",
    "from sklearn.decomposition import PCA\n",
    "from sklearn.metrics import confusion_matrix\n",
    "from sklearn.model_selection import GridSearchCV\n",
    "from sklearn.model_selection import KFold \n",
    "\n",
    "from tensorflow.keras.models import Sequential\n",
    "from tensorflow.keras.layers import Conv2D, MaxPooling2D, Flatten, Dense, Reshape\n",
    "from tensorflow.keras.layers import Conv1D,BatchNormalization,LeakyReLU,MaxPool1D,\\\n",
    "GlobalAveragePooling1D,Dense,Dropout,AveragePooling1D\n",
    "from tensorflow.keras.models import Sequential\n",
    "from tensorflow.keras.backend import clear_session\n",
    "from tensorflow import keras\n",
    "from tensorflow.keras import layers"
   ]
  },
  {
   "cell_type": "code",
   "execution_count": 2,
   "metadata": {},
   "outputs": [
    {
     "data": {
      "application/vnd.jupyter.widget-view+json": {
       "model_id": "4d3fa754b07d4062ba93eb61482401a7",
       "version_major": 2,
       "version_minor": 0
      },
      "text/plain": [
       "RadioButtons(description='Pick sensors', options=('df_mmr_ch_complete.csv', 'df_mmr_ch_literature.csv', 'df_mm…"
      ]
     },
     "metadata": {},
     "output_type": "display_data"
    }
   ],
   "source": [
    "csv = widgets.RadioButtons(\n",
    "    options=['df_mmr_ch_complete.csv', 'df_mmr_ch_literature.csv', 'df_mmr_ch_ttest.csv', 'df_mmr_ch_connectivity.csv'],\n",
    "#    value='pineapple', # Defaults to 'pineapple'\n",
    "#    layout={'width': 'max-content'}, # If the items' names are long\n",
    "    description='Pick sensors',\n",
    "    disabled=False\n",
    ")\n",
    "display(csv)"
   ]
  },
  {
   "cell_type": "code",
   "execution_count": 3,
   "metadata": {},
   "outputs": [],
   "source": [
    "csv = str(csv.value)"
   ]
  },
  {
   "cell_type": "code",
   "execution_count": 4,
   "metadata": {},
   "outputs": [
    {
     "data": {
      "text/html": [
       "<div>\n",
       "<style scoped>\n",
       "    .dataframe tbody tr th:only-of-type {\n",
       "        vertical-align: middle;\n",
       "    }\n",
       "\n",
       "    .dataframe tbody tr th {\n",
       "        vertical-align: top;\n",
       "    }\n",
       "\n",
       "    .dataframe thead th {\n",
       "        text-align: right;\n",
       "    }\n",
       "</style>\n",
       "<table border=\"1\" class=\"dataframe\">\n",
       "  <thead>\n",
       "    <tr style=\"text-align: right;\">\n",
       "      <th></th>\n",
       "      <th>Group_AccToParents</th>\n",
       "      <th>std_AF3</th>\n",
       "      <th>std_AF4</th>\n",
       "      <th>std_C3</th>\n",
       "      <th>std_C4</th>\n",
       "      <th>std_CP1</th>\n",
       "      <th>std_CP2</th>\n",
       "      <th>std_CP5</th>\n",
       "      <th>std_CP6</th>\n",
       "      <th>std_Cz</th>\n",
       "      <th>...</th>\n",
       "      <th>max_P7</th>\n",
       "      <th>max_P8</th>\n",
       "      <th>max_PO3</th>\n",
       "      <th>max_PO4</th>\n",
       "      <th>max_Pz</th>\n",
       "      <th>max_T7</th>\n",
       "      <th>max_T8</th>\n",
       "      <th>ParticipantID</th>\n",
       "      <th>test</th>\n",
       "      <th>sex</th>\n",
       "    </tr>\n",
       "  </thead>\n",
       "  <tbody>\n",
       "    <tr>\n",
       "      <th>0</th>\n",
       "      <td>1</td>\n",
       "      <td>0.000001</td>\n",
       "      <td>0.000001</td>\n",
       "      <td>4.808342e-07</td>\n",
       "      <td>1.594913e-06</td>\n",
       "      <td>5.019738e-07</td>\n",
       "      <td>0.000001</td>\n",
       "      <td>7.492325e-07</td>\n",
       "      <td>0.000002</td>\n",
       "      <td>4.108746e-07</td>\n",
       "      <td>...</td>\n",
       "      <td>0.000003</td>\n",
       "      <td>0.000001</td>\n",
       "      <td>0.000002</td>\n",
       "      <td>0.000001</td>\n",
       "      <td>9.479040e-07</td>\n",
       "      <td>0.000001</td>\n",
       "      <td>0.000001</td>\n",
       "      <td>101</td>\n",
       "      <td>a</td>\n",
       "      <td>1</td>\n",
       "    </tr>\n",
       "    <tr>\n",
       "      <th>1</th>\n",
       "      <td>1</td>\n",
       "      <td>0.000002</td>\n",
       "      <td>0.000002</td>\n",
       "      <td>1.655713e-06</td>\n",
       "      <td>2.481066e-06</td>\n",
       "      <td>1.759369e-06</td>\n",
       "      <td>0.000003</td>\n",
       "      <td>1.640413e-06</td>\n",
       "      <td>0.000004</td>\n",
       "      <td>1.503068e-06</td>\n",
       "      <td>...</td>\n",
       "      <td>0.000015</td>\n",
       "      <td>0.000014</td>\n",
       "      <td>0.000007</td>\n",
       "      <td>0.000010</td>\n",
       "      <td>9.259968e-06</td>\n",
       "      <td>0.000003</td>\n",
       "      <td>0.000008</td>\n",
       "      <td>103</td>\n",
       "      <td>a</td>\n",
       "      <td>0</td>\n",
       "    </tr>\n",
       "    <tr>\n",
       "      <th>2</th>\n",
       "      <td>1</td>\n",
       "      <td>0.000001</td>\n",
       "      <td>0.000001</td>\n",
       "      <td>5.153498e-07</td>\n",
       "      <td>9.155640e-07</td>\n",
       "      <td>6.266883e-07</td>\n",
       "      <td>0.000001</td>\n",
       "      <td>8.980694e-07</td>\n",
       "      <td>0.000002</td>\n",
       "      <td>4.378937e-07</td>\n",
       "      <td>...</td>\n",
       "      <td>0.000004</td>\n",
       "      <td>0.000005</td>\n",
       "      <td>0.000004</td>\n",
       "      <td>0.000004</td>\n",
       "      <td>2.285211e-06</td>\n",
       "      <td>0.000003</td>\n",
       "      <td>0.000008</td>\n",
       "      <td>104</td>\n",
       "      <td>a</td>\n",
       "      <td>1</td>\n",
       "    </tr>\n",
       "    <tr>\n",
       "      <th>3</th>\n",
       "      <td>1</td>\n",
       "      <td>0.000002</td>\n",
       "      <td>0.000004</td>\n",
       "      <td>7.195861e-07</td>\n",
       "      <td>1.174368e-06</td>\n",
       "      <td>8.272699e-07</td>\n",
       "      <td>0.000001</td>\n",
       "      <td>1.437435e-06</td>\n",
       "      <td>0.000001</td>\n",
       "      <td>8.230323e-07</td>\n",
       "      <td>...</td>\n",
       "      <td>0.000006</td>\n",
       "      <td>0.000007</td>\n",
       "      <td>0.000002</td>\n",
       "      <td>0.000002</td>\n",
       "      <td>2.689267e-06</td>\n",
       "      <td>0.000012</td>\n",
       "      <td>0.000010</td>\n",
       "      <td>105</td>\n",
       "      <td>a</td>\n",
       "      <td>0</td>\n",
       "    </tr>\n",
       "    <tr>\n",
       "      <th>4</th>\n",
       "      <td>0</td>\n",
       "      <td>0.000002</td>\n",
       "      <td>0.000002</td>\n",
       "      <td>6.335705e-07</td>\n",
       "      <td>2.356464e-06</td>\n",
       "      <td>7.885711e-07</td>\n",
       "      <td>0.000002</td>\n",
       "      <td>2.304256e-06</td>\n",
       "      <td>0.000002</td>\n",
       "      <td>7.034887e-07</td>\n",
       "      <td>...</td>\n",
       "      <td>0.000009</td>\n",
       "      <td>0.000007</td>\n",
       "      <td>0.000004</td>\n",
       "      <td>0.000007</td>\n",
       "      <td>4.757814e-06</td>\n",
       "      <td>0.000004</td>\n",
       "      <td>0.000004</td>\n",
       "      <td>106</td>\n",
       "      <td>a</td>\n",
       "      <td>1</td>\n",
       "    </tr>\n",
       "  </tbody>\n",
       "</table>\n",
       "<p>5 rows × 132 columns</p>\n",
       "</div>"
      ],
      "text/plain": [
       "   Group_AccToParents   std_AF3   std_AF4        std_C3        std_C4  \\\n",
       "0                   1  0.000001  0.000001  4.808342e-07  1.594913e-06   \n",
       "1                   1  0.000002  0.000002  1.655713e-06  2.481066e-06   \n",
       "2                   1  0.000001  0.000001  5.153498e-07  9.155640e-07   \n",
       "3                   1  0.000002  0.000004  7.195861e-07  1.174368e-06   \n",
       "4                   0  0.000002  0.000002  6.335705e-07  2.356464e-06   \n",
       "\n",
       "        std_CP1   std_CP2       std_CP5   std_CP6        std_Cz  ...  \\\n",
       "0  5.019738e-07  0.000001  7.492325e-07  0.000002  4.108746e-07  ...   \n",
       "1  1.759369e-06  0.000003  1.640413e-06  0.000004  1.503068e-06  ...   \n",
       "2  6.266883e-07  0.000001  8.980694e-07  0.000002  4.378937e-07  ...   \n",
       "3  8.272699e-07  0.000001  1.437435e-06  0.000001  8.230323e-07  ...   \n",
       "4  7.885711e-07  0.000002  2.304256e-06  0.000002  7.034887e-07  ...   \n",
       "\n",
       "     max_P7    max_P8   max_PO3   max_PO4        max_Pz    max_T7    max_T8  \\\n",
       "0  0.000003  0.000001  0.000002  0.000001  9.479040e-07  0.000001  0.000001   \n",
       "1  0.000015  0.000014  0.000007  0.000010  9.259968e-06  0.000003  0.000008   \n",
       "2  0.000004  0.000005  0.000004  0.000004  2.285211e-06  0.000003  0.000008   \n",
       "3  0.000006  0.000007  0.000002  0.000002  2.689267e-06  0.000012  0.000010   \n",
       "4  0.000009  0.000007  0.000004  0.000007  4.757814e-06  0.000004  0.000004   \n",
       "\n",
       "   ParticipantID  test  sex  \n",
       "0            101     a    1  \n",
       "1            103     a    0  \n",
       "2            104     a    1  \n",
       "3            105     a    0  \n",
       "4            106     a    1  \n",
       "\n",
       "[5 rows x 132 columns]"
      ]
     },
     "execution_count": 4,
     "metadata": {},
     "output_type": "execute_result"
    }
   ],
   "source": [
    "df = pd.read_csv(csv, sep = ',')\n",
    "df.head()"
   ]
  },
  {
   "cell_type": "code",
   "execution_count": 3,
   "metadata": {},
   "outputs": [],
   "source": [
    "dfcor = df.corr()"
   ]
  },
  {
   "cell_type": "code",
   "execution_count": 4,
   "metadata": {},
   "outputs": [
    {
     "data": {
      "text/html": [
       "<div>\n",
       "<style scoped>\n",
       "    .dataframe tbody tr th:only-of-type {\n",
       "        vertical-align: middle;\n",
       "    }\n",
       "\n",
       "    .dataframe tbody tr th {\n",
       "        vertical-align: top;\n",
       "    }\n",
       "\n",
       "    .dataframe thead th {\n",
       "        text-align: right;\n",
       "    }\n",
       "</style>\n",
       "<table border=\"1\" class=\"dataframe\">\n",
       "  <thead>\n",
       "    <tr style=\"text-align: right;\">\n",
       "      <th></th>\n",
       "      <th>Group_AccToParents</th>\n",
       "      <th>std_AF4</th>\n",
       "      <th>std_FC5</th>\n",
       "      <th>std_O1</th>\n",
       "      <th>std_PO4</th>\n",
       "      <th>std_Pz</th>\n",
       "      <th>sur_AF4</th>\n",
       "      <th>sur_FC5</th>\n",
       "      <th>sur_O1</th>\n",
       "      <th>sur_PO4</th>\n",
       "      <th>...</th>\n",
       "      <th>min_PO4</th>\n",
       "      <th>min_Pz</th>\n",
       "      <th>max_AF4</th>\n",
       "      <th>max_FC5</th>\n",
       "      <th>max_O1</th>\n",
       "      <th>max_PO4</th>\n",
       "      <th>max_Pz</th>\n",
       "      <th>ParticipantID</th>\n",
       "      <th>sex</th>\n",
       "      <th>age_months</th>\n",
       "    </tr>\n",
       "  </thead>\n",
       "  <tbody>\n",
       "    <tr>\n",
       "      <th>Group_AccToParents</th>\n",
       "      <td>1.000000</td>\n",
       "      <td>0.113331</td>\n",
       "      <td>-0.194020</td>\n",
       "      <td>0.167952</td>\n",
       "      <td>0.202560</td>\n",
       "      <td>0.175488</td>\n",
       "      <td>0.222574</td>\n",
       "      <td>0.211188</td>\n",
       "      <td>0.119911</td>\n",
       "      <td>0.134901</td>\n",
       "      <td>...</td>\n",
       "      <td>-0.032421</td>\n",
       "      <td>0.024676</td>\n",
       "      <td>0.264299</td>\n",
       "      <td>0.037364</td>\n",
       "      <td>0.186655</td>\n",
       "      <td>0.205919</td>\n",
       "      <td>0.104989</td>\n",
       "      <td>-0.179183</td>\n",
       "      <td>-0.125751</td>\n",
       "      <td>0.056963</td>\n",
       "    </tr>\n",
       "    <tr>\n",
       "      <th>std_AF4</th>\n",
       "      <td>0.113331</td>\n",
       "      <td>1.000000</td>\n",
       "      <td>0.569919</td>\n",
       "      <td>0.249322</td>\n",
       "      <td>0.456250</td>\n",
       "      <td>0.255249</td>\n",
       "      <td>-0.026736</td>\n",
       "      <td>-0.063640</td>\n",
       "      <td>0.045203</td>\n",
       "      <td>-0.150305</td>\n",
       "      <td>...</td>\n",
       "      <td>-0.330596</td>\n",
       "      <td>-0.119295</td>\n",
       "      <td>0.586651</td>\n",
       "      <td>0.384446</td>\n",
       "      <td>0.243992</td>\n",
       "      <td>0.156942</td>\n",
       "      <td>0.166506</td>\n",
       "      <td>-0.022457</td>\n",
       "      <td>-0.173474</td>\n",
       "      <td>-0.018364</td>\n",
       "    </tr>\n",
       "    <tr>\n",
       "      <th>std_FC5</th>\n",
       "      <td>-0.194020</td>\n",
       "      <td>0.569919</td>\n",
       "      <td>1.000000</td>\n",
       "      <td>0.125497</td>\n",
       "      <td>0.211688</td>\n",
       "      <td>0.350651</td>\n",
       "      <td>-0.216218</td>\n",
       "      <td>-0.418392</td>\n",
       "      <td>0.178924</td>\n",
       "      <td>0.004421</td>\n",
       "      <td>...</td>\n",
       "      <td>-0.090146</td>\n",
       "      <td>-0.233700</td>\n",
       "      <td>0.186683</td>\n",
       "      <td>0.337689</td>\n",
       "      <td>0.196349</td>\n",
       "      <td>0.144628</td>\n",
       "      <td>0.240425</td>\n",
       "      <td>-0.070729</td>\n",
       "      <td>-0.143108</td>\n",
       "      <td>0.162388</td>\n",
       "    </tr>\n",
       "    <tr>\n",
       "      <th>std_O1</th>\n",
       "      <td>0.167952</td>\n",
       "      <td>0.249322</td>\n",
       "      <td>0.125497</td>\n",
       "      <td>1.000000</td>\n",
       "      <td>0.542458</td>\n",
       "      <td>0.280370</td>\n",
       "      <td>0.120088</td>\n",
       "      <td>-0.044708</td>\n",
       "      <td>0.173378</td>\n",
       "      <td>0.081115</td>\n",
       "      <td>...</td>\n",
       "      <td>-0.220800</td>\n",
       "      <td>0.044582</td>\n",
       "      <td>0.280854</td>\n",
       "      <td>-0.000968</td>\n",
       "      <td>0.891982</td>\n",
       "      <td>0.504172</td>\n",
       "      <td>0.280900</td>\n",
       "      <td>-0.147784</td>\n",
       "      <td>-0.154512</td>\n",
       "      <td>-0.053243</td>\n",
       "    </tr>\n",
       "    <tr>\n",
       "      <th>std_PO4</th>\n",
       "      <td>0.202560</td>\n",
       "      <td>0.456250</td>\n",
       "      <td>0.211688</td>\n",
       "      <td>0.542458</td>\n",
       "      <td>1.000000</td>\n",
       "      <td>0.429463</td>\n",
       "      <td>-0.043960</td>\n",
       "      <td>-0.146625</td>\n",
       "      <td>0.065738</td>\n",
       "      <td>-0.062502</td>\n",
       "      <td>...</td>\n",
       "      <td>-0.616463</td>\n",
       "      <td>-0.204591</td>\n",
       "      <td>0.271705</td>\n",
       "      <td>-0.029627</td>\n",
       "      <td>0.482848</td>\n",
       "      <td>0.523471</td>\n",
       "      <td>0.229165</td>\n",
       "      <td>0.123857</td>\n",
       "      <td>-0.186028</td>\n",
       "      <td>0.069905</td>\n",
       "    </tr>\n",
       "    <tr>\n",
       "      <th>std_Pz</th>\n",
       "      <td>0.175488</td>\n",
       "      <td>0.255249</td>\n",
       "      <td>0.350651</td>\n",
       "      <td>0.280370</td>\n",
       "      <td>0.429463</td>\n",
       "      <td>1.000000</td>\n",
       "      <td>-0.023730</td>\n",
       "      <td>-0.143024</td>\n",
       "      <td>0.431837</td>\n",
       "      <td>0.180936</td>\n",
       "      <td>...</td>\n",
       "      <td>-0.020470</td>\n",
       "      <td>-0.266277</td>\n",
       "      <td>0.146527</td>\n",
       "      <td>0.075262</td>\n",
       "      <td>0.413195</td>\n",
       "      <td>0.351825</td>\n",
       "      <td>0.692582</td>\n",
       "      <td>0.061860</td>\n",
       "      <td>-0.105194</td>\n",
       "      <td>0.178925</td>\n",
       "    </tr>\n",
       "    <tr>\n",
       "      <th>sur_AF4</th>\n",
       "      <td>0.222574</td>\n",
       "      <td>-0.026736</td>\n",
       "      <td>-0.216218</td>\n",
       "      <td>0.120088</td>\n",
       "      <td>-0.043960</td>\n",
       "      <td>-0.023730</td>\n",
       "      <td>1.000000</td>\n",
       "      <td>0.661329</td>\n",
       "      <td>0.226433</td>\n",
       "      <td>0.289806</td>\n",
       "      <td>...</td>\n",
       "      <td>0.204939</td>\n",
       "      <td>0.385086</td>\n",
       "      <td>0.720715</td>\n",
       "      <td>0.418673</td>\n",
       "      <td>0.212129</td>\n",
       "      <td>0.167775</td>\n",
       "      <td>0.257150</td>\n",
       "      <td>0.062838</td>\n",
       "      <td>0.066664</td>\n",
       "      <td>-0.075940</td>\n",
       "    </tr>\n",
       "    <tr>\n",
       "      <th>sur_FC5</th>\n",
       "      <td>0.211188</td>\n",
       "      <td>-0.063640</td>\n",
       "      <td>-0.418392</td>\n",
       "      <td>-0.044708</td>\n",
       "      <td>-0.146625</td>\n",
       "      <td>-0.143024</td>\n",
       "      <td>0.661329</td>\n",
       "      <td>1.000000</td>\n",
       "      <td>0.241644</td>\n",
       "      <td>0.295152</td>\n",
       "      <td>...</td>\n",
       "      <td>0.249573</td>\n",
       "      <td>0.296361</td>\n",
       "      <td>0.420922</td>\n",
       "      <td>0.576363</td>\n",
       "      <td>0.084394</td>\n",
       "      <td>0.082045</td>\n",
       "      <td>0.052622</td>\n",
       "      <td>0.112534</td>\n",
       "      <td>-0.010386</td>\n",
       "      <td>-0.182158</td>\n",
       "    </tr>\n",
       "    <tr>\n",
       "      <th>sur_O1</th>\n",
       "      <td>0.119911</td>\n",
       "      <td>0.045203</td>\n",
       "      <td>0.178924</td>\n",
       "      <td>0.173378</td>\n",
       "      <td>0.065738</td>\n",
       "      <td>0.431837</td>\n",
       "      <td>0.226433</td>\n",
       "      <td>0.241644</td>\n",
       "      <td>1.000000</td>\n",
       "      <td>0.573647</td>\n",
       "      <td>...</td>\n",
       "      <td>0.418362</td>\n",
       "      <td>0.157309</td>\n",
       "      <td>0.144534</td>\n",
       "      <td>0.257125</td>\n",
       "      <td>0.576176</td>\n",
       "      <td>0.362917</td>\n",
       "      <td>0.496318</td>\n",
       "      <td>-0.109024</td>\n",
       "      <td>-0.013550</td>\n",
       "      <td>0.169952</td>\n",
       "    </tr>\n",
       "    <tr>\n",
       "      <th>sur_PO4</th>\n",
       "      <td>0.134901</td>\n",
       "      <td>-0.150305</td>\n",
       "      <td>0.004421</td>\n",
       "      <td>0.081115</td>\n",
       "      <td>-0.062502</td>\n",
       "      <td>0.180936</td>\n",
       "      <td>0.289806</td>\n",
       "      <td>0.295152</td>\n",
       "      <td>0.573647</td>\n",
       "      <td>1.000000</td>\n",
       "      <td>...</td>\n",
       "      <td>0.625260</td>\n",
       "      <td>0.380053</td>\n",
       "      <td>0.092975</td>\n",
       "      <td>0.196023</td>\n",
       "      <td>0.330429</td>\n",
       "      <td>0.718172</td>\n",
       "      <td>0.505172</td>\n",
       "      <td>-0.118851</td>\n",
       "      <td>0.051309</td>\n",
       "      <td>0.073801</td>\n",
       "    </tr>\n",
       "    <tr>\n",
       "      <th>sur_Pz</th>\n",
       "      <td>0.106294</td>\n",
       "      <td>0.061551</td>\n",
       "      <td>0.046804</td>\n",
       "      <td>0.252945</td>\n",
       "      <td>0.075115</td>\n",
       "      <td>0.383659</td>\n",
       "      <td>0.397288</td>\n",
       "      <td>0.198754</td>\n",
       "      <td>0.531619</td>\n",
       "      <td>0.659089</td>\n",
       "      <td>...</td>\n",
       "      <td>0.469525</td>\n",
       "      <td>0.640647</td>\n",
       "      <td>0.303672</td>\n",
       "      <td>0.166912</td>\n",
       "      <td>0.454891</td>\n",
       "      <td>0.540919</td>\n",
       "      <td>0.840472</td>\n",
       "      <td>-0.038614</td>\n",
       "      <td>0.141022</td>\n",
       "      <td>-0.076150</td>\n",
       "    </tr>\n",
       "    <tr>\n",
       "      <th>min_AF4</th>\n",
       "      <td>0.154775</td>\n",
       "      <td>-0.452508</td>\n",
       "      <td>-0.438599</td>\n",
       "      <td>-0.013621</td>\n",
       "      <td>-0.194365</td>\n",
       "      <td>-0.094731</td>\n",
       "      <td>0.754879</td>\n",
       "      <td>0.551618</td>\n",
       "      <td>0.146969</td>\n",
       "      <td>0.238626</td>\n",
       "      <td>...</td>\n",
       "      <td>0.346571</td>\n",
       "      <td>0.474502</td>\n",
       "      <td>0.273749</td>\n",
       "      <td>0.123430</td>\n",
       "      <td>0.032765</td>\n",
       "      <td>-0.012169</td>\n",
       "      <td>0.060994</td>\n",
       "      <td>0.147703</td>\n",
       "      <td>0.041055</td>\n",
       "      <td>-0.190864</td>\n",
       "    </tr>\n",
       "    <tr>\n",
       "      <th>min_FC5</th>\n",
       "      <td>0.238915</td>\n",
       "      <td>-0.305569</td>\n",
       "      <td>-0.727383</td>\n",
       "      <td>-0.131961</td>\n",
       "      <td>-0.216742</td>\n",
       "      <td>-0.269884</td>\n",
       "      <td>0.517865</td>\n",
       "      <td>0.829767</td>\n",
       "      <td>0.038407</td>\n",
       "      <td>0.142394</td>\n",
       "      <td>...</td>\n",
       "      <td>0.256855</td>\n",
       "      <td>0.404082</td>\n",
       "      <td>0.153186</td>\n",
       "      <td>0.221879</td>\n",
       "      <td>-0.096819</td>\n",
       "      <td>-0.087408</td>\n",
       "      <td>-0.148068</td>\n",
       "      <td>0.173180</td>\n",
       "      <td>0.050492</td>\n",
       "      <td>-0.304877</td>\n",
       "    </tr>\n",
       "    <tr>\n",
       "      <th>min_O1</th>\n",
       "      <td>-0.051273</td>\n",
       "      <td>-0.192783</td>\n",
       "      <td>-0.050445</td>\n",
       "      <td>-0.749864</td>\n",
       "      <td>-0.413814</td>\n",
       "      <td>0.021960</td>\n",
       "      <td>0.011032</td>\n",
       "      <td>0.207118</td>\n",
       "      <td>0.475753</td>\n",
       "      <td>0.278385</td>\n",
       "      <td>...</td>\n",
       "      <td>0.491041</td>\n",
       "      <td>0.143996</td>\n",
       "      <td>-0.195808</td>\n",
       "      <td>0.110355</td>\n",
       "      <td>-0.403164</td>\n",
       "      <td>-0.219720</td>\n",
       "      <td>0.035498</td>\n",
       "      <td>0.088580</td>\n",
       "      <td>0.075001</td>\n",
       "      <td>0.090615</td>\n",
       "    </tr>\n",
       "    <tr>\n",
       "      <th>min_PO4</th>\n",
       "      <td>-0.032421</td>\n",
       "      <td>-0.330596</td>\n",
       "      <td>-0.090146</td>\n",
       "      <td>-0.220800</td>\n",
       "      <td>-0.616463</td>\n",
       "      <td>-0.020470</td>\n",
       "      <td>0.204939</td>\n",
       "      <td>0.249573</td>\n",
       "      <td>0.418362</td>\n",
       "      <td>0.625260</td>\n",
       "      <td>...</td>\n",
       "      <td>1.000000</td>\n",
       "      <td>0.500288</td>\n",
       "      <td>-0.124579</td>\n",
       "      <td>0.101190</td>\n",
       "      <td>-0.002604</td>\n",
       "      <td>0.070641</td>\n",
       "      <td>0.259240</td>\n",
       "      <td>-0.036012</td>\n",
       "      <td>0.082064</td>\n",
       "      <td>-0.107508</td>\n",
       "    </tr>\n",
       "    <tr>\n",
       "      <th>min_Pz</th>\n",
       "      <td>0.024676</td>\n",
       "      <td>-0.119295</td>\n",
       "      <td>-0.233700</td>\n",
       "      <td>0.044582</td>\n",
       "      <td>-0.204591</td>\n",
       "      <td>-0.266277</td>\n",
       "      <td>0.385086</td>\n",
       "      <td>0.296361</td>\n",
       "      <td>0.157309</td>\n",
       "      <td>0.380053</td>\n",
       "      <td>...</td>\n",
       "      <td>0.500288</td>\n",
       "      <td>1.000000</td>\n",
       "      <td>0.140662</td>\n",
       "      <td>0.018053</td>\n",
       "      <td>0.111920</td>\n",
       "      <td>0.144570</td>\n",
       "      <td>0.265989</td>\n",
       "      <td>0.012957</td>\n",
       "      <td>0.110877</td>\n",
       "      <td>-0.282699</td>\n",
       "    </tr>\n",
       "    <tr>\n",
       "      <th>max_AF4</th>\n",
       "      <td>0.264299</td>\n",
       "      <td>0.586651</td>\n",
       "      <td>0.186683</td>\n",
       "      <td>0.280854</td>\n",
       "      <td>0.271705</td>\n",
       "      <td>0.146527</td>\n",
       "      <td>0.720715</td>\n",
       "      <td>0.420922</td>\n",
       "      <td>0.144534</td>\n",
       "      <td>0.092975</td>\n",
       "      <td>...</td>\n",
       "      <td>-0.124579</td>\n",
       "      <td>0.140662</td>\n",
       "      <td>1.000000</td>\n",
       "      <td>0.604446</td>\n",
       "      <td>0.324045</td>\n",
       "      <td>0.265858</td>\n",
       "      <td>0.329969</td>\n",
       "      <td>0.019781</td>\n",
       "      <td>-0.092072</td>\n",
       "      <td>-0.081810</td>\n",
       "    </tr>\n",
       "    <tr>\n",
       "      <th>max_FC5</th>\n",
       "      <td>0.037364</td>\n",
       "      <td>0.384446</td>\n",
       "      <td>0.337689</td>\n",
       "      <td>-0.000968</td>\n",
       "      <td>-0.029627</td>\n",
       "      <td>0.075262</td>\n",
       "      <td>0.418673</td>\n",
       "      <td>0.576363</td>\n",
       "      <td>0.257125</td>\n",
       "      <td>0.196023</td>\n",
       "      <td>...</td>\n",
       "      <td>0.101190</td>\n",
       "      <td>0.018053</td>\n",
       "      <td>0.604446</td>\n",
       "      <td>1.000000</td>\n",
       "      <td>0.148806</td>\n",
       "      <td>0.181060</td>\n",
       "      <td>0.240601</td>\n",
       "      <td>0.060163</td>\n",
       "      <td>-0.086413</td>\n",
       "      <td>-0.033246</td>\n",
       "    </tr>\n",
       "    <tr>\n",
       "      <th>max_O1</th>\n",
       "      <td>0.186655</td>\n",
       "      <td>0.243992</td>\n",
       "      <td>0.196349</td>\n",
       "      <td>0.891982</td>\n",
       "      <td>0.482848</td>\n",
       "      <td>0.413195</td>\n",
       "      <td>0.212129</td>\n",
       "      <td>0.084394</td>\n",
       "      <td>0.576176</td>\n",
       "      <td>0.330429</td>\n",
       "      <td>...</td>\n",
       "      <td>-0.002604</td>\n",
       "      <td>0.111920</td>\n",
       "      <td>0.324045</td>\n",
       "      <td>0.148806</td>\n",
       "      <td>1.000000</td>\n",
       "      <td>0.607856</td>\n",
       "      <td>0.474266</td>\n",
       "      <td>-0.157732</td>\n",
       "      <td>-0.146450</td>\n",
       "      <td>0.023400</td>\n",
       "    </tr>\n",
       "    <tr>\n",
       "      <th>max_PO4</th>\n",
       "      <td>0.205919</td>\n",
       "      <td>0.156942</td>\n",
       "      <td>0.144628</td>\n",
       "      <td>0.504172</td>\n",
       "      <td>0.523471</td>\n",
       "      <td>0.351825</td>\n",
       "      <td>0.167775</td>\n",
       "      <td>0.082045</td>\n",
       "      <td>0.362917</td>\n",
       "      <td>0.718172</td>\n",
       "      <td>...</td>\n",
       "      <td>0.070641</td>\n",
       "      <td>0.144570</td>\n",
       "      <td>0.265858</td>\n",
       "      <td>0.181060</td>\n",
       "      <td>0.607856</td>\n",
       "      <td>1.000000</td>\n",
       "      <td>0.577416</td>\n",
       "      <td>-0.084559</td>\n",
       "      <td>-0.067742</td>\n",
       "      <td>0.106763</td>\n",
       "    </tr>\n",
       "    <tr>\n",
       "      <th>max_Pz</th>\n",
       "      <td>0.104989</td>\n",
       "      <td>0.166506</td>\n",
       "      <td>0.240425</td>\n",
       "      <td>0.280900</td>\n",
       "      <td>0.229165</td>\n",
       "      <td>0.692582</td>\n",
       "      <td>0.257150</td>\n",
       "      <td>0.052622</td>\n",
       "      <td>0.496318</td>\n",
       "      <td>0.505172</td>\n",
       "      <td>...</td>\n",
       "      <td>0.259240</td>\n",
       "      <td>0.265989</td>\n",
       "      <td>0.329969</td>\n",
       "      <td>0.240601</td>\n",
       "      <td>0.474266</td>\n",
       "      <td>0.577416</td>\n",
       "      <td>1.000000</td>\n",
       "      <td>-0.064296</td>\n",
       "      <td>0.050254</td>\n",
       "      <td>0.077912</td>\n",
       "    </tr>\n",
       "    <tr>\n",
       "      <th>ParticipantID</th>\n",
       "      <td>-0.179183</td>\n",
       "      <td>-0.022457</td>\n",
       "      <td>-0.070729</td>\n",
       "      <td>-0.147784</td>\n",
       "      <td>0.123857</td>\n",
       "      <td>0.061860</td>\n",
       "      <td>0.062838</td>\n",
       "      <td>0.112534</td>\n",
       "      <td>-0.109024</td>\n",
       "      <td>-0.118851</td>\n",
       "      <td>...</td>\n",
       "      <td>-0.036012</td>\n",
       "      <td>0.012957</td>\n",
       "      <td>0.019781</td>\n",
       "      <td>0.060163</td>\n",
       "      <td>-0.157732</td>\n",
       "      <td>-0.084559</td>\n",
       "      <td>-0.064296</td>\n",
       "      <td>1.000000</td>\n",
       "      <td>-0.074788</td>\n",
       "      <td>-0.085018</td>\n",
       "    </tr>\n",
       "    <tr>\n",
       "      <th>sex</th>\n",
       "      <td>-0.125751</td>\n",
       "      <td>-0.173474</td>\n",
       "      <td>-0.143108</td>\n",
       "      <td>-0.154512</td>\n",
       "      <td>-0.186028</td>\n",
       "      <td>-0.105194</td>\n",
       "      <td>0.066664</td>\n",
       "      <td>-0.010386</td>\n",
       "      <td>-0.013550</td>\n",
       "      <td>0.051309</td>\n",
       "      <td>...</td>\n",
       "      <td>0.082064</td>\n",
       "      <td>0.110877</td>\n",
       "      <td>-0.092072</td>\n",
       "      <td>-0.086413</td>\n",
       "      <td>-0.146450</td>\n",
       "      <td>-0.067742</td>\n",
       "      <td>0.050254</td>\n",
       "      <td>-0.074788</td>\n",
       "      <td>1.000000</td>\n",
       "      <td>0.157985</td>\n",
       "    </tr>\n",
       "    <tr>\n",
       "      <th>age_months</th>\n",
       "      <td>0.056963</td>\n",
       "      <td>-0.018364</td>\n",
       "      <td>0.162388</td>\n",
       "      <td>-0.053243</td>\n",
       "      <td>0.069905</td>\n",
       "      <td>0.178925</td>\n",
       "      <td>-0.075940</td>\n",
       "      <td>-0.182158</td>\n",
       "      <td>0.169952</td>\n",
       "      <td>0.073801</td>\n",
       "      <td>...</td>\n",
       "      <td>-0.107508</td>\n",
       "      <td>-0.282699</td>\n",
       "      <td>-0.081810</td>\n",
       "      <td>-0.033246</td>\n",
       "      <td>0.023400</td>\n",
       "      <td>0.106763</td>\n",
       "      <td>0.077912</td>\n",
       "      <td>-0.085018</td>\n",
       "      <td>0.157985</td>\n",
       "      <td>1.000000</td>\n",
       "    </tr>\n",
       "  </tbody>\n",
       "</table>\n",
       "<p>24 rows × 24 columns</p>\n",
       "</div>"
      ],
      "text/plain": [
       "                    Group_AccToParents   std_AF4   std_FC5    std_O1  \\\n",
       "Group_AccToParents            1.000000  0.113331 -0.194020  0.167952   \n",
       "std_AF4                       0.113331  1.000000  0.569919  0.249322   \n",
       "std_FC5                      -0.194020  0.569919  1.000000  0.125497   \n",
       "std_O1                        0.167952  0.249322  0.125497  1.000000   \n",
       "std_PO4                       0.202560  0.456250  0.211688  0.542458   \n",
       "std_Pz                        0.175488  0.255249  0.350651  0.280370   \n",
       "sur_AF4                       0.222574 -0.026736 -0.216218  0.120088   \n",
       "sur_FC5                       0.211188 -0.063640 -0.418392 -0.044708   \n",
       "sur_O1                        0.119911  0.045203  0.178924  0.173378   \n",
       "sur_PO4                       0.134901 -0.150305  0.004421  0.081115   \n",
       "sur_Pz                        0.106294  0.061551  0.046804  0.252945   \n",
       "min_AF4                       0.154775 -0.452508 -0.438599 -0.013621   \n",
       "min_FC5                       0.238915 -0.305569 -0.727383 -0.131961   \n",
       "min_O1                       -0.051273 -0.192783 -0.050445 -0.749864   \n",
       "min_PO4                      -0.032421 -0.330596 -0.090146 -0.220800   \n",
       "min_Pz                        0.024676 -0.119295 -0.233700  0.044582   \n",
       "max_AF4                       0.264299  0.586651  0.186683  0.280854   \n",
       "max_FC5                       0.037364  0.384446  0.337689 -0.000968   \n",
       "max_O1                        0.186655  0.243992  0.196349  0.891982   \n",
       "max_PO4                       0.205919  0.156942  0.144628  0.504172   \n",
       "max_Pz                        0.104989  0.166506  0.240425  0.280900   \n",
       "ParticipantID                -0.179183 -0.022457 -0.070729 -0.147784   \n",
       "sex                          -0.125751 -0.173474 -0.143108 -0.154512   \n",
       "age_months                    0.056963 -0.018364  0.162388 -0.053243   \n",
       "\n",
       "                     std_PO4    std_Pz   sur_AF4   sur_FC5    sur_O1  \\\n",
       "Group_AccToParents  0.202560  0.175488  0.222574  0.211188  0.119911   \n",
       "std_AF4             0.456250  0.255249 -0.026736 -0.063640  0.045203   \n",
       "std_FC5             0.211688  0.350651 -0.216218 -0.418392  0.178924   \n",
       "std_O1              0.542458  0.280370  0.120088 -0.044708  0.173378   \n",
       "std_PO4             1.000000  0.429463 -0.043960 -0.146625  0.065738   \n",
       "std_Pz              0.429463  1.000000 -0.023730 -0.143024  0.431837   \n",
       "sur_AF4            -0.043960 -0.023730  1.000000  0.661329  0.226433   \n",
       "sur_FC5            -0.146625 -0.143024  0.661329  1.000000  0.241644   \n",
       "sur_O1              0.065738  0.431837  0.226433  0.241644  1.000000   \n",
       "sur_PO4            -0.062502  0.180936  0.289806  0.295152  0.573647   \n",
       "sur_Pz              0.075115  0.383659  0.397288  0.198754  0.531619   \n",
       "min_AF4            -0.194365 -0.094731  0.754879  0.551618  0.146969   \n",
       "min_FC5            -0.216742 -0.269884  0.517865  0.829767  0.038407   \n",
       "min_O1             -0.413814  0.021960  0.011032  0.207118  0.475753   \n",
       "min_PO4            -0.616463 -0.020470  0.204939  0.249573  0.418362   \n",
       "min_Pz             -0.204591 -0.266277  0.385086  0.296361  0.157309   \n",
       "max_AF4             0.271705  0.146527  0.720715  0.420922  0.144534   \n",
       "max_FC5            -0.029627  0.075262  0.418673  0.576363  0.257125   \n",
       "max_O1              0.482848  0.413195  0.212129  0.084394  0.576176   \n",
       "max_PO4             0.523471  0.351825  0.167775  0.082045  0.362917   \n",
       "max_Pz              0.229165  0.692582  0.257150  0.052622  0.496318   \n",
       "ParticipantID       0.123857  0.061860  0.062838  0.112534 -0.109024   \n",
       "sex                -0.186028 -0.105194  0.066664 -0.010386 -0.013550   \n",
       "age_months          0.069905  0.178925 -0.075940 -0.182158  0.169952   \n",
       "\n",
       "                     sur_PO4  ...   min_PO4    min_Pz   max_AF4   max_FC5  \\\n",
       "Group_AccToParents  0.134901  ... -0.032421  0.024676  0.264299  0.037364   \n",
       "std_AF4            -0.150305  ... -0.330596 -0.119295  0.586651  0.384446   \n",
       "std_FC5             0.004421  ... -0.090146 -0.233700  0.186683  0.337689   \n",
       "std_O1              0.081115  ... -0.220800  0.044582  0.280854 -0.000968   \n",
       "std_PO4            -0.062502  ... -0.616463 -0.204591  0.271705 -0.029627   \n",
       "std_Pz              0.180936  ... -0.020470 -0.266277  0.146527  0.075262   \n",
       "sur_AF4             0.289806  ...  0.204939  0.385086  0.720715  0.418673   \n",
       "sur_FC5             0.295152  ...  0.249573  0.296361  0.420922  0.576363   \n",
       "sur_O1              0.573647  ...  0.418362  0.157309  0.144534  0.257125   \n",
       "sur_PO4             1.000000  ...  0.625260  0.380053  0.092975  0.196023   \n",
       "sur_Pz              0.659089  ...  0.469525  0.640647  0.303672  0.166912   \n",
       "min_AF4             0.238626  ...  0.346571  0.474502  0.273749  0.123430   \n",
       "min_FC5             0.142394  ...  0.256855  0.404082  0.153186  0.221879   \n",
       "min_O1              0.278385  ...  0.491041  0.143996 -0.195808  0.110355   \n",
       "min_PO4             0.625260  ...  1.000000  0.500288 -0.124579  0.101190   \n",
       "min_Pz              0.380053  ...  0.500288  1.000000  0.140662  0.018053   \n",
       "max_AF4             0.092975  ... -0.124579  0.140662  1.000000  0.604446   \n",
       "max_FC5             0.196023  ...  0.101190  0.018053  0.604446  1.000000   \n",
       "max_O1              0.330429  ... -0.002604  0.111920  0.324045  0.148806   \n",
       "max_PO4             0.718172  ...  0.070641  0.144570  0.265858  0.181060   \n",
       "max_Pz              0.505172  ...  0.259240  0.265989  0.329969  0.240601   \n",
       "ParticipantID      -0.118851  ... -0.036012  0.012957  0.019781  0.060163   \n",
       "sex                 0.051309  ...  0.082064  0.110877 -0.092072 -0.086413   \n",
       "age_months          0.073801  ... -0.107508 -0.282699 -0.081810 -0.033246   \n",
       "\n",
       "                      max_O1   max_PO4    max_Pz  ParticipantID       sex  \\\n",
       "Group_AccToParents  0.186655  0.205919  0.104989      -0.179183 -0.125751   \n",
       "std_AF4             0.243992  0.156942  0.166506      -0.022457 -0.173474   \n",
       "std_FC5             0.196349  0.144628  0.240425      -0.070729 -0.143108   \n",
       "std_O1              0.891982  0.504172  0.280900      -0.147784 -0.154512   \n",
       "std_PO4             0.482848  0.523471  0.229165       0.123857 -0.186028   \n",
       "std_Pz              0.413195  0.351825  0.692582       0.061860 -0.105194   \n",
       "sur_AF4             0.212129  0.167775  0.257150       0.062838  0.066664   \n",
       "sur_FC5             0.084394  0.082045  0.052622       0.112534 -0.010386   \n",
       "sur_O1              0.576176  0.362917  0.496318      -0.109024 -0.013550   \n",
       "sur_PO4             0.330429  0.718172  0.505172      -0.118851  0.051309   \n",
       "sur_Pz              0.454891  0.540919  0.840472      -0.038614  0.141022   \n",
       "min_AF4             0.032765 -0.012169  0.060994       0.147703  0.041055   \n",
       "min_FC5            -0.096819 -0.087408 -0.148068       0.173180  0.050492   \n",
       "min_O1             -0.403164 -0.219720  0.035498       0.088580  0.075001   \n",
       "min_PO4            -0.002604  0.070641  0.259240      -0.036012  0.082064   \n",
       "min_Pz              0.111920  0.144570  0.265989       0.012957  0.110877   \n",
       "max_AF4             0.324045  0.265858  0.329969       0.019781 -0.092072   \n",
       "max_FC5             0.148806  0.181060  0.240601       0.060163 -0.086413   \n",
       "max_O1              1.000000  0.607856  0.474266      -0.157732 -0.146450   \n",
       "max_PO4             0.607856  1.000000  0.577416      -0.084559 -0.067742   \n",
       "max_Pz              0.474266  0.577416  1.000000      -0.064296  0.050254   \n",
       "ParticipantID      -0.157732 -0.084559 -0.064296       1.000000 -0.074788   \n",
       "sex                -0.146450 -0.067742  0.050254      -0.074788  1.000000   \n",
       "age_months          0.023400  0.106763  0.077912      -0.085018  0.157985   \n",
       "\n",
       "                    age_months  \n",
       "Group_AccToParents    0.056963  \n",
       "std_AF4              -0.018364  \n",
       "std_FC5               0.162388  \n",
       "std_O1               -0.053243  \n",
       "std_PO4               0.069905  \n",
       "std_Pz                0.178925  \n",
       "sur_AF4              -0.075940  \n",
       "sur_FC5              -0.182158  \n",
       "sur_O1                0.169952  \n",
       "sur_PO4               0.073801  \n",
       "sur_Pz               -0.076150  \n",
       "min_AF4              -0.190864  \n",
       "min_FC5              -0.304877  \n",
       "min_O1                0.090615  \n",
       "min_PO4              -0.107508  \n",
       "min_Pz               -0.282699  \n",
       "max_AF4              -0.081810  \n",
       "max_FC5              -0.033246  \n",
       "max_O1                0.023400  \n",
       "max_PO4               0.106763  \n",
       "max_Pz                0.077912  \n",
       "ParticipantID        -0.085018  \n",
       "sex                   0.157985  \n",
       "age_months            1.000000  \n",
       "\n",
       "[24 rows x 24 columns]"
      ]
     },
     "execution_count": 4,
     "metadata": {},
     "output_type": "execute_result"
    }
   ],
   "source": [
    "dfcor"
   ]
  },
  {
   "cell_type": "code",
   "execution_count": 5,
   "metadata": {},
   "outputs": [
    {
     "name": "stdout",
     "output_type": "stream",
     "text": [
      "Top Absolute Correlations\n",
      "std_O1   max_O1        0.943107\n",
      "sur_FC5  min_FC5       0.933901\n",
      "std_FC5  min_FC5       0.913600\n",
      "min_AF4  min_FC5       0.910997\n",
      "std_O1   min_O1        0.887300\n",
      "sur_AF4  min_AF4       0.863896\n",
      "         sur_FC5       0.857722\n",
      "sur_FC5  min_AF4       0.841749\n",
      "std_FC5  min_AF4       0.841070\n",
      "max_O1   max_PO4       0.837608\n",
      "sur_Pz   max_Pz        0.833133\n",
      "std_PO4  min_PO4       0.829128\n",
      "sur_PO4  sur_Pz        0.809090\n",
      "std_PO4  min_O1        0.800579\n",
      "std_O1   std_PO4       0.797405\n",
      "std_AF4  std_FC5       0.786189\n",
      "sur_AF4  min_FC5       0.772455\n",
      "max_PO4  max_Pz        0.758061\n",
      "std_Pz   max_Pz        0.743782\n",
      "std_O1   max_PO4       0.743515\n",
      "sur_PO4  min_PO4       0.741549\n",
      "std_FC5  sur_FC5       0.740207\n",
      "min_AF4  min_Pz        0.734983\n",
      "sur_O1   sur_PO4       0.734622\n",
      "min_PO4  min_Pz        0.732379\n",
      "min_O1   min_PO4       0.730094\n",
      "std_AF4  min_AF4       0.719456\n",
      "         std_PO4       0.714334\n",
      "std_Pz   min_FC5       0.709785\n",
      "std_AF4  min_PO4       0.705680\n",
      "std_PO4  max_O1        0.701402\n",
      "max_AF4  max_FC5       0.700153\n",
      "min_O1   max_O1        0.691234\n",
      "std_FC5  std_Pz        0.654158\n",
      "sur_O1   max_Pz        0.651922\n",
      "std_PO4  std_Pz        0.650659\n",
      "std_AF4  min_FC5       0.649675\n",
      "sur_O1   sur_Pz        0.648022\n",
      "min_FC5  min_Pz        0.644586\n",
      "max_O1   max_Pz        0.643181\n",
      "sur_Pz   min_Pz        0.629183\n",
      "std_PO4  max_PO4       0.617492\n",
      "std_Pz   max_O1        0.616276\n",
      "min_Pz   age_months    0.611727\n",
      "std_Pz   sur_FC5       0.610174\n",
      "sur_AF4  min_Pz        0.607577\n",
      "std_FC5  min_Pz        0.604644\n",
      "         sur_AF4       0.601432\n",
      "std_Pz   max_PO4       0.599713\n",
      "min_FC5  age_months    0.597485\n",
      "dtype: float64\n"
     ]
    }
   ],
   "source": [
    "def get_redundant_pairs(df):\n",
    "    '''Get diagonal and lower triangular pairs of correlation matrix'''\n",
    "    pairs_to_drop = set()\n",
    "    cols = df.columns\n",
    "    for i in range(0, df.shape[1]):\n",
    "        for j in range(0, i+1):\n",
    "            pairs_to_drop.add((cols[i], cols[j]))\n",
    "    return pairs_to_drop\n",
    "\n",
    "def get_top_abs_correlations(df, n=5):\n",
    "    au_corr = df.corr().abs().unstack()\n",
    "    labels_to_drop = get_redundant_pairs(df)\n",
    "    au_corr = au_corr.drop(labels=labels_to_drop).sort_values(ascending=False)\n",
    "    return au_corr[0:n]\n",
    "\n",
    "print(\"Top Absolute Correlations\")\n",
    "print(get_top_abs_correlations(dfcor, 50))"
   ]
  },
  {
   "cell_type": "markdown",
   "metadata": {},
   "source": [
    "## Split data"
   ]
  },
  {
   "cell_type": "code",
   "execution_count": 53,
   "metadata": {},
   "outputs": [],
   "source": [
    "y = df['Group_AccToParents'].values # dependent variable\n",
    "X = df.drop(['Group_AccToParents','ParticipantID', 'test',\n",
    "       'sex', 'age_months'], axis=1)\n",
    "X_train, X_test, y_train, y_test = train_test_split(X, y, test_size=0.5, random_state=42)"
   ]
  },
  {
   "cell_type": "code",
   "execution_count": 54,
   "metadata": {},
   "outputs": [
    {
     "data": {
      "text/plain": [
       "Index(['std_AF4', 'std_FC5', 'std_O1', 'std_PO4', 'std_Pz', 'sur_AF4',\n",
       "       'sur_FC5', 'sur_O1', 'sur_PO4', 'sur_Pz', 'min_AF4', 'min_FC5',\n",
       "       'min_O1', 'min_PO4', 'min_Pz', 'max_AF4', 'max_FC5', 'max_O1',\n",
       "       'max_PO4', 'max_Pz'],\n",
       "      dtype='object')"
      ]
     },
     "execution_count": 54,
     "metadata": {},
     "output_type": "execute_result"
    }
   ],
   "source": [
    "X.columns"
   ]
  },
  {
   "cell_type": "markdown",
   "metadata": {},
   "source": [
    "## Scale data"
   ]
  },
  {
   "cell_type": "code",
   "execution_count": 55,
   "metadata": {},
   "outputs": [],
   "source": [
    "sc = StandardScaler()\n",
    "sc.fit(X_train)\n",
    "X_train = sc.transform(X_train)\n",
    "X_test = sc.transform(X_test)"
   ]
  },
  {
   "cell_type": "markdown",
   "metadata": {},
   "source": [
    "## SVM model"
   ]
  },
  {
   "cell_type": "code",
   "execution_count": 56,
   "metadata": {},
   "outputs": [
    {
     "data": {
      "text/plain": [
       "['mean_fit_time',\n",
       " 'mean_score_time',\n",
       " 'mean_test_score',\n",
       " 'param_C',\n",
       " 'param_kernel',\n",
       " 'params',\n",
       " 'rank_test_score',\n",
       " 'split0_test_score',\n",
       " 'split1_test_score',\n",
       " 'split2_test_score',\n",
       " 'split3_test_score',\n",
       " 'split4_test_score',\n",
       " 'std_fit_time',\n",
       " 'std_score_time',\n",
       " 'std_test_score']"
      ]
     },
     "execution_count": 56,
     "metadata": {},
     "output_type": "execute_result"
    }
   ],
   "source": [
    "svm = SVC()\n",
    "parameters = {'kernel':('linear', 'rbf'), 'C':[0.001, 1]}\n",
    "clf = GridSearchCV(svm, parameters)\n",
    "clf.fit(X_train, y_train)\n",
    "\n",
    "sorted(clf.cv_results_.keys())"
   ]
  },
  {
   "cell_type": "code",
   "execution_count": 57,
   "metadata": {},
   "outputs": [
    {
     "data": {
      "text/plain": [
       "{'C': 1, 'kernel': 'linear'}"
      ]
     },
     "execution_count": 57,
     "metadata": {},
     "output_type": "execute_result"
    }
   ],
   "source": [
    "clf.best_params_"
   ]
  },
  {
   "cell_type": "code",
   "execution_count": 58,
   "metadata": {},
   "outputs": [
    {
     "data": {
      "text/plain": [
       "0.88"
      ]
     },
     "execution_count": 58,
     "metadata": {},
     "output_type": "execute_result"
    }
   ],
   "source": [
    "clf.score(X_train, y_train)"
   ]
  },
  {
   "cell_type": "code",
   "execution_count": 59,
   "metadata": {},
   "outputs": [
    {
     "data": {
      "text/html": [
       "<style>#sk-container-id-4 {color: black;background-color: white;}#sk-container-id-4 pre{padding: 0;}#sk-container-id-4 div.sk-toggleable {background-color: white;}#sk-container-id-4 label.sk-toggleable__label {cursor: pointer;display: block;width: 100%;margin-bottom: 0;padding: 0.3em;box-sizing: border-box;text-align: center;}#sk-container-id-4 label.sk-toggleable__label-arrow:before {content: \"▸\";float: left;margin-right: 0.25em;color: #696969;}#sk-container-id-4 label.sk-toggleable__label-arrow:hover:before {color: black;}#sk-container-id-4 div.sk-estimator:hover label.sk-toggleable__label-arrow:before {color: black;}#sk-container-id-4 div.sk-toggleable__content {max-height: 0;max-width: 0;overflow: hidden;text-align: left;background-color: #f0f8ff;}#sk-container-id-4 div.sk-toggleable__content pre {margin: 0.2em;color: black;border-radius: 0.25em;background-color: #f0f8ff;}#sk-container-id-4 input.sk-toggleable__control:checked~div.sk-toggleable__content {max-height: 200px;max-width: 100%;overflow: auto;}#sk-container-id-4 input.sk-toggleable__control:checked~label.sk-toggleable__label-arrow:before {content: \"▾\";}#sk-container-id-4 div.sk-estimator input.sk-toggleable__control:checked~label.sk-toggleable__label {background-color: #d4ebff;}#sk-container-id-4 div.sk-label input.sk-toggleable__control:checked~label.sk-toggleable__label {background-color: #d4ebff;}#sk-container-id-4 input.sk-hidden--visually {border: 0;clip: rect(1px 1px 1px 1px);clip: rect(1px, 1px, 1px, 1px);height: 1px;margin: -1px;overflow: hidden;padding: 0;position: absolute;width: 1px;}#sk-container-id-4 div.sk-estimator {font-family: monospace;background-color: #f0f8ff;border: 1px dotted black;border-radius: 0.25em;box-sizing: border-box;margin-bottom: 0.5em;}#sk-container-id-4 div.sk-estimator:hover {background-color: #d4ebff;}#sk-container-id-4 div.sk-parallel-item::after {content: \"\";width: 100%;border-bottom: 1px solid gray;flex-grow: 1;}#sk-container-id-4 div.sk-label:hover label.sk-toggleable__label {background-color: #d4ebff;}#sk-container-id-4 div.sk-serial::before {content: \"\";position: absolute;border-left: 1px solid gray;box-sizing: border-box;top: 0;bottom: 0;left: 50%;z-index: 0;}#sk-container-id-4 div.sk-serial {display: flex;flex-direction: column;align-items: center;background-color: white;padding-right: 0.2em;padding-left: 0.2em;position: relative;}#sk-container-id-4 div.sk-item {position: relative;z-index: 1;}#sk-container-id-4 div.sk-parallel {display: flex;align-items: stretch;justify-content: center;background-color: white;position: relative;}#sk-container-id-4 div.sk-item::before, #sk-container-id-4 div.sk-parallel-item::before {content: \"\";position: absolute;border-left: 1px solid gray;box-sizing: border-box;top: 0;bottom: 0;left: 50%;z-index: -1;}#sk-container-id-4 div.sk-parallel-item {display: flex;flex-direction: column;z-index: 1;position: relative;background-color: white;}#sk-container-id-4 div.sk-parallel-item:first-child::after {align-self: flex-end;width: 50%;}#sk-container-id-4 div.sk-parallel-item:last-child::after {align-self: flex-start;width: 50%;}#sk-container-id-4 div.sk-parallel-item:only-child::after {width: 0;}#sk-container-id-4 div.sk-dashed-wrapped {border: 1px dashed gray;margin: 0 0.4em 0.5em 0.4em;box-sizing: border-box;padding-bottom: 0.4em;background-color: white;}#sk-container-id-4 div.sk-label label {font-family: monospace;font-weight: bold;display: inline-block;line-height: 1.2em;}#sk-container-id-4 div.sk-label-container {text-align: center;}#sk-container-id-4 div.sk-container {/* jupyter's `normalize.less` sets `[hidden] { display: none; }` but bootstrap.min.css set `[hidden] { display: none !important; }` so we also need the `!important` here to be able to override the default hidden behavior on the sphinx rendered scikit-learn.org. See: https://github.com/scikit-learn/scikit-learn/issues/21755 */display: inline-block !important;position: relative;}#sk-container-id-4 div.sk-text-repr-fallback {display: none;}</style><div id=\"sk-container-id-4\" class=\"sk-top-container\"><div class=\"sk-text-repr-fallback\"><pre>SVC(C=1, kernel=&#x27;linear&#x27;, random_state=False)</pre><b>In a Jupyter environment, please rerun this cell to show the HTML representation or trust the notebook. <br />On GitHub, the HTML representation is unable to render, please try loading this page with nbviewer.org.</b></div><div class=\"sk-container\" hidden><div class=\"sk-item\"><div class=\"sk-estimator sk-toggleable\"><input class=\"sk-toggleable__control sk-hidden--visually\" id=\"sk-estimator-id-4\" type=\"checkbox\" checked><label for=\"sk-estimator-id-4\" class=\"sk-toggleable__label sk-toggleable__label-arrow\">SVC</label><div class=\"sk-toggleable__content\"><pre>SVC(C=1, kernel=&#x27;linear&#x27;, random_state=False)</pre></div></div></div></div></div>"
      ],
      "text/plain": [
       "SVC(C=1, kernel='linear', random_state=False)"
      ]
     },
     "execution_count": 59,
     "metadata": {},
     "output_type": "execute_result"
    }
   ],
   "source": [
    "svm = SVC(C=1, kernel='linear', random_state=False)\n",
    "svm.fit(X_train, y_train)"
   ]
  },
  {
   "cell_type": "code",
   "execution_count": 60,
   "metadata": {},
   "outputs": [
    {
     "name": "stdout",
     "output_type": "stream",
     "text": [
      "Accuracy: 0.608\n"
     ]
    }
   ],
   "source": [
    "y_pred = svm.predict(X_test)\n",
    "print('Accuracy: %.3f' % accuracy_score(y_test, y_pred))"
   ]
  },
  {
   "cell_type": "code",
   "execution_count": 61,
   "metadata": {},
   "outputs": [
    {
     "data": {
      "text/plain": [
       "array([0, 0, 1, 0, 0, 1, 1, 0, 0, 0, 0, 0, 0, 0, 1, 0, 0, 1, 0, 0, 0, 1,\n",
       "       0, 1, 1, 0, 0, 0, 0, 0, 0, 0, 0, 0, 0, 0, 0, 0, 0, 1, 0, 0, 0, 0,\n",
       "       0, 0, 0, 0, 1, 0, 1])"
      ]
     },
     "execution_count": 61,
     "metadata": {},
     "output_type": "execute_result"
    }
   ],
   "source": [
    "y_pred"
   ]
  },
  {
   "cell_type": "code",
   "execution_count": 62,
   "metadata": {},
   "outputs": [
    {
     "data": {
      "image/png": "[encoded data removed]",
      "text/plain": [
       "<Figure size 432x288 with 2 Axes>"
      ]
     },
     "metadata": {
      "needs_background": "light"
     },
     "output_type": "display_data"
    }
   ],
   "source": [
    "cm = confusion_matrix(y_test, y_pred)\n",
    "ax= plt.subplot()\n",
    "sn.heatmap(cm, annot=True, fmt='g', ax=ax);  \n",
    "ax.set_xlabel('Predicted labels');ax.set_ylabel('True labels'); \n",
    "ax.set_title('Confusion Matrix'); \n",
    "ax.xaxis.set_ticklabels(['control', 'at risk']); ax.yaxis.set_ticklabels(['control', 'at risk']);"
   ]
  },
  {
   "cell_type": "code",
   "execution_count": 63,
   "metadata": {},
   "outputs": [
    {
     "name": "stdout",
     "output_type": "stream",
     "text": [
      "accuracy of each fold - [0.4117647058823529, 0.6470588235294118, 0.47058823529411764, 0.6470588235294118, 0.5882352941176471, 0.6875]\n",
      "Avg accuracy : 0.5753676470588235\n"
     ]
    }
   ],
   "source": [
    "# with kfold cross validation\n",
    "k = 6\n",
    "kf = KFold(n_splits=k, shuffle=True, random_state=None)\n",
    "model = svm\n",
    " \n",
    "acc_score = []\n",
    " \n",
    "for train_index , test_index in kf.split(X):\n",
    "    X_train , X_test = X.iloc[train_index,:],X.iloc[test_index,:]\n",
    "    y_train , y_test = y[train_index] , y[test_index]\n",
    "     \n",
    "    model.fit(X_train,y_train)\n",
    "    pred_values = model.predict(X_test)\n",
    "     \n",
    "    acc = accuracy_score(pred_values , y_test)\n",
    "    acc_score.append(acc)\n",
    "     \n",
    "avg_acc_score = sum(acc_score)/k\n",
    " \n",
    "print('accuracy of each fold - {}'.format(acc_score))\n",
    "print('Avg accuracy : {}'.format(avg_acc_score))"
   ]
  },
  {
   "cell_type": "markdown",
   "metadata": {},
   "source": [
    "## Logistic Regression model"
   ]
  },
  {
   "cell_type": "code",
   "execution_count": 64,
   "metadata": {},
   "outputs": [
    {
     "data": {
      "text/html": [
       "<style>#sk-container-id-5 {color: black;background-color: white;}#sk-container-id-5 pre{padding: 0;}#sk-container-id-5 div.sk-toggleable {background-color: white;}#sk-container-id-5 label.sk-toggleable__label {cursor: pointer;display: block;width: 100%;margin-bottom: 0;padding: 0.3em;box-sizing: border-box;text-align: center;}#sk-container-id-5 label.sk-toggleable__label-arrow:before {content: \"▸\";float: left;margin-right: 0.25em;color: #696969;}#sk-container-id-5 label.sk-toggleable__label-arrow:hover:before {color: black;}#sk-container-id-5 div.sk-estimator:hover label.sk-toggleable__label-arrow:before {color: black;}#sk-container-id-5 div.sk-toggleable__content {max-height: 0;max-width: 0;overflow: hidden;text-align: left;background-color: #f0f8ff;}#sk-container-id-5 div.sk-toggleable__content pre {margin: 0.2em;color: black;border-radius: 0.25em;background-color: #f0f8ff;}#sk-container-id-5 input.sk-toggleable__control:checked~div.sk-toggleable__content {max-height: 200px;max-width: 100%;overflow: auto;}#sk-container-id-5 input.sk-toggleable__control:checked~label.sk-toggleable__label-arrow:before {content: \"▾\";}#sk-container-id-5 div.sk-estimator input.sk-toggleable__control:checked~label.sk-toggleable__label {background-color: #d4ebff;}#sk-container-id-5 div.sk-label input.sk-toggleable__control:checked~label.sk-toggleable__label {background-color: #d4ebff;}#sk-container-id-5 input.sk-hidden--visually {border: 0;clip: rect(1px 1px 1px 1px);clip: rect(1px, 1px, 1px, 1px);height: 1px;margin: -1px;overflow: hidden;padding: 0;position: absolute;width: 1px;}#sk-container-id-5 div.sk-estimator {font-family: monospace;background-color: #f0f8ff;border: 1px dotted black;border-radius: 0.25em;box-sizing: border-box;margin-bottom: 0.5em;}#sk-container-id-5 div.sk-estimator:hover {background-color: #d4ebff;}#sk-container-id-5 div.sk-parallel-item::after {content: \"\";width: 100%;border-bottom: 1px solid gray;flex-grow: 1;}#sk-container-id-5 div.sk-label:hover label.sk-toggleable__label {background-color: #d4ebff;}#sk-container-id-5 div.sk-serial::before {content: \"\";position: absolute;border-left: 1px solid gray;box-sizing: border-box;top: 0;bottom: 0;left: 50%;z-index: 0;}#sk-container-id-5 div.sk-serial {display: flex;flex-direction: column;align-items: center;background-color: white;padding-right: 0.2em;padding-left: 0.2em;position: relative;}#sk-container-id-5 div.sk-item {position: relative;z-index: 1;}#sk-container-id-5 div.sk-parallel {display: flex;align-items: stretch;justify-content: center;background-color: white;position: relative;}#sk-container-id-5 div.sk-item::before, #sk-container-id-5 div.sk-parallel-item::before {content: \"\";position: absolute;border-left: 1px solid gray;box-sizing: border-box;top: 0;bottom: 0;left: 50%;z-index: -1;}#sk-container-id-5 div.sk-parallel-item {display: flex;flex-direction: column;z-index: 1;position: relative;background-color: white;}#sk-container-id-5 div.sk-parallel-item:first-child::after {align-self: flex-end;width: 50%;}#sk-container-id-5 div.sk-parallel-item:last-child::after {align-self: flex-start;width: 50%;}#sk-container-id-5 div.sk-parallel-item:only-child::after {width: 0;}#sk-container-id-5 div.sk-dashed-wrapped {border: 1px dashed gray;margin: 0 0.4em 0.5em 0.4em;box-sizing: border-box;padding-bottom: 0.4em;background-color: white;}#sk-container-id-5 div.sk-label label {font-family: monospace;font-weight: bold;display: inline-block;line-height: 1.2em;}#sk-container-id-5 div.sk-label-container {text-align: center;}#sk-container-id-5 div.sk-container {/* jupyter's `normalize.less` sets `[hidden] { display: none; }` but bootstrap.min.css set `[hidden] { display: none !important; }` so we also need the `!important` here to be able to override the default hidden behavior on the sphinx rendered scikit-learn.org. See: https://github.com/scikit-learn/scikit-learn/issues/21755 */display: inline-block !important;position: relative;}#sk-container-id-5 div.sk-text-repr-fallback {display: none;}</style><div id=\"sk-container-id-5\" class=\"sk-top-container\"><div class=\"sk-text-repr-fallback\"><pre>LogisticRegression(random_state=0, solver=&#x27;liblinear&#x27;)</pre><b>In a Jupyter environment, please rerun this cell to show the HTML representation or trust the notebook. <br />On GitHub, the HTML representation is unable to render, please try loading this page with nbviewer.org.</b></div><div class=\"sk-container\" hidden><div class=\"sk-item\"><div class=\"sk-estimator sk-toggleable\"><input class=\"sk-toggleable__control sk-hidden--visually\" id=\"sk-estimator-id-5\" type=\"checkbox\" checked><label for=\"sk-estimator-id-5\" class=\"sk-toggleable__label sk-toggleable__label-arrow\">LogisticRegression</label><div class=\"sk-toggleable__content\"><pre>LogisticRegression(random_state=0, solver=&#x27;liblinear&#x27;)</pre></div></div></div></div></div>"
      ],
      "text/plain": [
       "LogisticRegression(random_state=0, solver='liblinear')"
      ]
     },
     "execution_count": 64,
     "metadata": {},
     "output_type": "execute_result"
    }
   ],
   "source": [
    "lr = LogisticRegression(solver='liblinear', random_state=0)\n",
    "lr.fit(X_train, y_train)"
   ]
  },
  {
   "cell_type": "code",
   "execution_count": 65,
   "metadata": {},
   "outputs": [],
   "source": [
    "y_pred = lr.predict(X_test)"
   ]
  },
  {
   "cell_type": "code",
   "execution_count": 66,
   "metadata": {},
   "outputs": [
    {
     "name": "stdout",
     "output_type": "stream",
     "text": [
      "Accuracy: 0.688\n"
     ]
    }
   ],
   "source": [
    "print('Accuracy: %.3f' % accuracy_score(y_test, y_pred))"
   ]
  },
  {
   "cell_type": "code",
   "execution_count": 67,
   "metadata": {},
   "outputs": [
    {
     "data": {
      "text/plain": [
       "array([0, 0, 0, 0, 0, 0, 0, 0, 0, 0, 0, 0, 0, 0, 0, 0])"
      ]
     },
     "execution_count": 67,
     "metadata": {},
     "output_type": "execute_result"
    }
   ],
   "source": [
    "y_pred"
   ]
  },
  {
   "cell_type": "code",
   "execution_count": 68,
   "metadata": {},
   "outputs": [
    {
     "data": {
      "image/png": "[encoded data removed]",
      "text/plain": [
       "<Figure size 432x288 with 2 Axes>"
      ]
     },
     "metadata": {
      "needs_background": "light"
     },
     "output_type": "display_data"
    }
   ],
   "source": [
    "cm = confusion_matrix(y_test, y_pred)\n",
    "ax= plt.subplot()\n",
    "sn.heatmap(cm, annot=True, fmt='g', ax=ax);  \n",
    "ax.set_xlabel('Predicted labels');ax.set_ylabel('True labels'); \n",
    "ax.set_title('Confusion Matrix'); \n",
    "ax.xaxis.set_ticklabels(['control', 'at risk']); ax.yaxis.set_ticklabels(['control', 'at risk']);"
   ]
  },
  {
   "cell_type": "code",
   "execution_count": 69,
   "metadata": {},
   "outputs": [
    {
     "name": "stdout",
     "output_type": "stream",
     "text": [
      "accuracy of each fold - [0.47058823529411764, 0.5294117647058824, 0.5294117647058824, 0.5882352941176471, 0.6470588235294118, 0.6875]\n",
      "Avg accuracy : 0.5753676470588235\n"
     ]
    }
   ],
   "source": [
    "# with kfold cross validation\n",
    "k = 6\n",
    "kf = KFold(n_splits=k, shuffle = True, random_state=None)\n",
    "model = lr\n",
    " \n",
    "acc_score = []\n",
    " \n",
    "for train_index , test_index in kf.split(X):\n",
    "    X_train , X_test = X.iloc[train_index,:],X.iloc[test_index,:]\n",
    "    y_train , y_test = y[train_index] , y[test_index]\n",
    "     \n",
    "    model.fit(X_train,y_train)\n",
    "    pred_values = model.predict(X_test)\n",
    "     \n",
    "    acc = accuracy_score(pred_values , y_test)\n",
    "    acc_score.append(acc)\n",
    "     \n",
    "avg_acc_score = sum(acc_score)/k\n",
    " \n",
    "print('accuracy of each fold - {}'.format(acc_score))\n",
    "print('Avg accuracy : {}'.format(avg_acc_score))"
   ]
  },
  {
   "cell_type": "markdown",
   "metadata": {},
   "source": [
    "## Decision Tree model"
   ]
  },
  {
   "cell_type": "code",
   "execution_count": 70,
   "metadata": {},
   "outputs": [
    {
     "data": {
      "text/html": [
       "<style>#sk-container-id-6 {color: black;background-color: white;}#sk-container-id-6 pre{padding: 0;}#sk-container-id-6 div.sk-toggleable {background-color: white;}#sk-container-id-6 label.sk-toggleable__label {cursor: pointer;display: block;width: 100%;margin-bottom: 0;padding: 0.3em;box-sizing: border-box;text-align: center;}#sk-container-id-6 label.sk-toggleable__label-arrow:before {content: \"▸\";float: left;margin-right: 0.25em;color: #696969;}#sk-container-id-6 label.sk-toggleable__label-arrow:hover:before {color: black;}#sk-container-id-6 div.sk-estimator:hover label.sk-toggleable__label-arrow:before {color: black;}#sk-container-id-6 div.sk-toggleable__content {max-height: 0;max-width: 0;overflow: hidden;text-align: left;background-color: #f0f8ff;}#sk-container-id-6 div.sk-toggleable__content pre {margin: 0.2em;color: black;border-radius: 0.25em;background-color: #f0f8ff;}#sk-container-id-6 input.sk-toggleable__control:checked~div.sk-toggleable__content {max-height: 200px;max-width: 100%;overflow: auto;}#sk-container-id-6 input.sk-toggleable__control:checked~label.sk-toggleable__label-arrow:before {content: \"▾\";}#sk-container-id-6 div.sk-estimator input.sk-toggleable__control:checked~label.sk-toggleable__label {background-color: #d4ebff;}#sk-container-id-6 div.sk-label input.sk-toggleable__control:checked~label.sk-toggleable__label {background-color: #d4ebff;}#sk-container-id-6 input.sk-hidden--visually {border: 0;clip: rect(1px 1px 1px 1px);clip: rect(1px, 1px, 1px, 1px);height: 1px;margin: -1px;overflow: hidden;padding: 0;position: absolute;width: 1px;}#sk-container-id-6 div.sk-estimator {font-family: monospace;background-color: #f0f8ff;border: 1px dotted black;border-radius: 0.25em;box-sizing: border-box;margin-bottom: 0.5em;}#sk-container-id-6 div.sk-estimator:hover {background-color: #d4ebff;}#sk-container-id-6 div.sk-parallel-item::after {content: \"\";width: 100%;border-bottom: 1px solid gray;flex-grow: 1;}#sk-container-id-6 div.sk-label:hover label.sk-toggleable__label {background-color: #d4ebff;}#sk-container-id-6 div.sk-serial::before {content: \"\";position: absolute;border-left: 1px solid gray;box-sizing: border-box;top: 0;bottom: 0;left: 50%;z-index: 0;}#sk-container-id-6 div.sk-serial {display: flex;flex-direction: column;align-items: center;background-color: white;padding-right: 0.2em;padding-left: 0.2em;position: relative;}#sk-container-id-6 div.sk-item {position: relative;z-index: 1;}#sk-container-id-6 div.sk-parallel {display: flex;align-items: stretch;justify-content: center;background-color: white;position: relative;}#sk-container-id-6 div.sk-item::before, #sk-container-id-6 div.sk-parallel-item::before {content: \"\";position: absolute;border-left: 1px solid gray;box-sizing: border-box;top: 0;bottom: 0;left: 50%;z-index: -1;}#sk-container-id-6 div.sk-parallel-item {display: flex;flex-direction: column;z-index: 1;position: relative;background-color: white;}#sk-container-id-6 div.sk-parallel-item:first-child::after {align-self: flex-end;width: 50%;}#sk-container-id-6 div.sk-parallel-item:last-child::after {align-self: flex-start;width: 50%;}#sk-container-id-6 div.sk-parallel-item:only-child::after {width: 0;}#sk-container-id-6 div.sk-dashed-wrapped {border: 1px dashed gray;margin: 0 0.4em 0.5em 0.4em;box-sizing: border-box;padding-bottom: 0.4em;background-color: white;}#sk-container-id-6 div.sk-label label {font-family: monospace;font-weight: bold;display: inline-block;line-height: 1.2em;}#sk-container-id-6 div.sk-label-container {text-align: center;}#sk-container-id-6 div.sk-container {/* jupyter's `normalize.less` sets `[hidden] { display: none; }` but bootstrap.min.css set `[hidden] { display: none !important; }` so we also need the `!important` here to be able to override the default hidden behavior on the sphinx rendered scikit-learn.org. See: https://github.com/scikit-learn/scikit-learn/issues/21755 */display: inline-block !important;position: relative;}#sk-container-id-6 div.sk-text-repr-fallback {display: none;}</style><div id=\"sk-container-id-6\" class=\"sk-top-container\"><div class=\"sk-text-repr-fallback\"><pre>DecisionTreeClassifier(max_depth=5)</pre><b>In a Jupyter environment, please rerun this cell to show the HTML representation or trust the notebook. <br />On GitHub, the HTML representation is unable to render, please try loading this page with nbviewer.org.</b></div><div class=\"sk-container\" hidden><div class=\"sk-item\"><div class=\"sk-estimator sk-toggleable\"><input class=\"sk-toggleable__control sk-hidden--visually\" id=\"sk-estimator-id-6\" type=\"checkbox\" checked><label for=\"sk-estimator-id-6\" class=\"sk-toggleable__label sk-toggleable__label-arrow\">DecisionTreeClassifier</label><div class=\"sk-toggleable__content\"><pre>DecisionTreeClassifier(max_depth=5)</pre></div></div></div></div></div>"
      ],
      "text/plain": [
       "DecisionTreeClassifier(max_depth=5)"
      ]
     },
     "execution_count": 70,
     "metadata": {},
     "output_type": "execute_result"
    }
   ],
   "source": [
    "dt = tree.DecisionTreeClassifier(max_depth=5)\n",
    "dt.fit(X_train, y_train)"
   ]
  },
  {
   "cell_type": "code",
   "execution_count": 71,
   "metadata": {},
   "outputs": [],
   "source": [
    "y_pred = dt.predict(X_test)"
   ]
  },
  {
   "cell_type": "code",
   "execution_count": 72,
   "metadata": {},
   "outputs": [
    {
     "name": "stdout",
     "output_type": "stream",
     "text": [
      "Accuracy: 0.438\n"
     ]
    }
   ],
   "source": [
    "print('Accuracy: %.3f' % accuracy_score(y_test, y_pred))"
   ]
  },
  {
   "cell_type": "code",
   "execution_count": 73,
   "metadata": {},
   "outputs": [
    {
     "data": {
      "text/plain": [
       "array([0, 1, 1, 0, 0, 0, 0, 0, 0, 0, 0, 0, 0, 1, 1, 0])"
      ]
     },
     "execution_count": 73,
     "metadata": {},
     "output_type": "execute_result"
    }
   ],
   "source": [
    "y_pred"
   ]
  },
  {
   "cell_type": "code",
   "execution_count": 74,
   "metadata": {
    "scrolled": true
   },
   "outputs": [
    {
     "data": {
      "text/plain": [
       "[Text(0.4583333333333333, 0.9166666666666666, 'X[5] <= 0.003\\ngini = 0.494\\nsamples = 85\\nvalue = [47, 38]'),\n",
       " Text(0.375, 0.75, 'X[10] <= -0.0\\ngini = 0.476\\nsamples = 77\\nvalue = [47, 30]'),\n",
       " Text(0.16666666666666666, 0.5833333333333334, 'X[9] <= -0.006\\ngini = 0.142\\nsamples = 13\\nvalue = [12, 1]'),\n",
       " Text(0.08333333333333333, 0.4166666666666667, 'gini = 0.0\\nsamples = 1\\nvalue = [0, 1]'),\n",
       " Text(0.25, 0.4166666666666667, 'gini = 0.0\\nsamples = 12\\nvalue = [12, 0]'),\n",
       " Text(0.5833333333333334, 0.5833333333333334, 'X[12] <= -0.0\\ngini = 0.496\\nsamples = 64\\nvalue = [35, 29]'),\n",
       " Text(0.4166666666666667, 0.4166666666666667, 'X[10] <= -0.0\\ngini = 0.245\\nsamples = 7\\nvalue = [1, 6]'),\n",
       " Text(0.3333333333333333, 0.25, 'gini = 0.0\\nsamples = 1\\nvalue = [1, 0]'),\n",
       " Text(0.5, 0.25, 'gini = 0.0\\nsamples = 6\\nvalue = [0, 6]'),\n",
       " Text(0.75, 0.4166666666666667, 'X[13] <= -0.0\\ngini = 0.481\\nsamples = 57\\nvalue = [34, 23]'),\n",
       " Text(0.6666666666666666, 0.25, 'gini = 0.0\\nsamples = 4\\nvalue = [0, 4]'),\n",
       " Text(0.8333333333333334, 0.25, 'X[6] <= -0.002\\ngini = 0.46\\nsamples = 53\\nvalue = [34, 19]'),\n",
       " Text(0.75, 0.08333333333333333, 'gini = 0.208\\nsamples = 17\\nvalue = [15, 2]'),\n",
       " Text(0.9166666666666666, 0.08333333333333333, 'gini = 0.498\\nsamples = 36\\nvalue = [19, 17]'),\n",
       " Text(0.5416666666666666, 0.75, 'gini = 0.0\\nsamples = 8\\nvalue = [0, 8]')]"
      ]
     },
     "execution_count": 74,
     "metadata": {},
     "output_type": "execute_result"
    },
    {
     "data": {
      "image/png": "[encoded data removed]",
      "text/plain": [
       "<Figure size 432x288 with 1 Axes>"
      ]
     },
     "metadata": {
      "needs_background": "light"
     },
     "output_type": "display_data"
    }
   ],
   "source": [
    "tree.plot_tree(dt)"
   ]
  },
  {
   "cell_type": "code",
   "execution_count": 75,
   "metadata": {},
   "outputs": [
    {
     "data": {
      "image/png": "[encoded data removed]",
      "text/plain": [
       "<Figure size 432x288 with 2 Axes>"
      ]
     },
     "metadata": {
      "needs_background": "light"
     },
     "output_type": "display_data"
    }
   ],
   "source": [
    "cm = confusion_matrix(y_test, y_pred)\n",
    "ax= plt.subplot()\n",
    "sn.heatmap(cm, annot=True, fmt='g', ax=ax);  \n",
    "ax.set_xlabel('Predicted labels');ax.set_ylabel('True labels'); \n",
    "ax.set_title('Confusion Matrix'); \n",
    "ax.xaxis.set_ticklabels(['control', 'at risk']); ax.yaxis.set_ticklabels(['control', 'at risk']);"
   ]
  },
  {
   "cell_type": "code",
   "execution_count": 76,
   "metadata": {},
   "outputs": [
    {
     "name": "stdout",
     "output_type": "stream",
     "text": [
      "accuracy of each fold - [0.6470588235294118, 0.5294117647058824, 0.5294117647058824, 0.5882352941176471, 0.5882352941176471, 0.4375]\n",
      "Avg accuracy : 0.5533088235294118\n"
     ]
    }
   ],
   "source": [
    "# with kfold cross validation\n",
    "k = 6\n",
    "kf = KFold(n_splits=k, shuffle=True, random_state=None)\n",
    "model = tree.DecisionTreeClassifier(max_depth=5)\n",
    " \n",
    "acc_score = []\n",
    " \n",
    "for train_index , test_index in kf.split(X):\n",
    "    X_train , X_test = X.iloc[train_index,:],X.iloc[test_index,:]\n",
    "    y_train , y_test = y[train_index] , y[test_index]\n",
    "     \n",
    "    model.fit(X_train,y_train)\n",
    "    pred_values = model.predict(X_test)\n",
    "     \n",
    "    acc = accuracy_score(pred_values , y_test)\n",
    "    acc_score.append(acc)\n",
    "     \n",
    "avg_acc_score = sum(acc_score)/k\n",
    " \n",
    "print('accuracy of each fold - {}'.format(acc_score))\n",
    "print('Avg accuracy : {}'.format(avg_acc_score))"
   ]
  },
  {
   "cell_type": "markdown",
   "metadata": {},
   "source": [
    "## CNN"
   ]
  },
  {
   "cell_type": "code",
   "execution_count": 77,
   "metadata": {},
   "outputs": [],
   "source": [
    "y_train = np.asarray(y_train).astype('float32').reshape((-1,1))\n",
    "y_test = np.asarray(y_test).astype('float32').reshape((-1,1))"
   ]
  },
  {
   "cell_type": "code",
   "execution_count": 78,
   "metadata": {},
   "outputs": [
    {
     "name": "stdout",
     "output_type": "stream",
     "text": [
      "Epoch 1/50\n",
      "85/85 [==============================] - 0s 2ms/step - loss: 0.7054 - accuracy: 0.5412 - val_loss: 0.6787 - val_accuracy: 0.6250\n",
      "Epoch 2/50\n",
      "85/85 [==============================] - 0s 1ms/step - loss: 0.6909 - accuracy: 0.6000 - val_loss: 0.7639 - val_accuracy: 0.3750\n",
      "Epoch 3/50\n",
      "85/85 [==============================] - 0s 1ms/step - loss: 0.7118 - accuracy: 0.5176 - val_loss: 0.6675 - val_accuracy: 0.6250\n",
      "Epoch 4/50\n",
      "85/85 [==============================] - 0s 1ms/step - loss: 0.7129 - accuracy: 0.4706 - val_loss: 0.6696 - val_accuracy: 0.6250\n",
      "Epoch 5/50\n",
      "85/85 [==============================] - 0s 1ms/step - loss: 0.6976 - accuracy: 0.5647 - val_loss: 0.6825 - val_accuracy: 0.6250\n",
      "Epoch 6/50\n",
      "85/85 [==============================] - 0s 1ms/step - loss: 0.6922 - accuracy: 0.5647 - val_loss: 0.6663 - val_accuracy: 0.6250\n",
      "Epoch 7/50\n",
      "85/85 [==============================] - 0s 1ms/step - loss: 0.7021 - accuracy: 0.4824 - val_loss: 0.6881 - val_accuracy: 0.6250\n",
      "Epoch 8/50\n",
      "85/85 [==============================] - 0s 1ms/step - loss: 0.6956 - accuracy: 0.5647 - val_loss: 0.6695 - val_accuracy: 0.6250\n",
      "Epoch 9/50\n",
      "85/85 [==============================] - 0s 1ms/step - loss: 0.7112 - accuracy: 0.5412 - val_loss: 0.6616 - val_accuracy: 0.6250\n",
      "Epoch 10/50\n",
      "85/85 [==============================] - 0s 1ms/step - loss: 0.6933 - accuracy: 0.5294 - val_loss: 0.6630 - val_accuracy: 0.6250\n",
      "Epoch 11/50\n",
      "85/85 [==============================] - 0s 1ms/step - loss: 0.7071 - accuracy: 0.5059 - val_loss: 0.6629 - val_accuracy: 0.6250\n",
      "Epoch 12/50\n",
      "85/85 [==============================] - 0s 1ms/step - loss: 0.7062 - accuracy: 0.5294 - val_loss: 0.6666 - val_accuracy: 0.6250\n",
      "Epoch 13/50\n",
      "85/85 [==============================] - 0s 1ms/step - loss: 0.7073 - accuracy: 0.5176 - val_loss: 0.6694 - val_accuracy: 0.6250\n",
      "Epoch 14/50\n",
      "85/85 [==============================] - 0s 1ms/step - loss: 0.7076 - accuracy: 0.4588 - val_loss: 0.6709 - val_accuracy: 0.6250\n",
      "Epoch 15/50\n",
      "85/85 [==============================] - 0s 1ms/step - loss: 0.7152 - accuracy: 0.4706 - val_loss: 0.6616 - val_accuracy: 0.6250\n",
      "Epoch 16/50\n",
      "85/85 [==============================] - 0s 1ms/step - loss: 0.6963 - accuracy: 0.5647 - val_loss: 0.6650 - val_accuracy: 0.6250\n",
      "Epoch 17/50\n",
      "85/85 [==============================] - 0s 1ms/step - loss: 0.6856 - accuracy: 0.5412 - val_loss: 0.6646 - val_accuracy: 0.6250\n",
      "Epoch 18/50\n",
      "85/85 [==============================] - 0s 1ms/step - loss: 0.7187 - accuracy: 0.5647 - val_loss: 0.6715 - val_accuracy: 0.6250\n",
      "Epoch 19/50\n",
      "85/85 [==============================] - 0s 1ms/step - loss: 0.7067 - accuracy: 0.5647 - val_loss: 0.6718 - val_accuracy: 0.6250\n",
      "Epoch 20/50\n",
      "85/85 [==============================] - 0s 1ms/step - loss: 0.6935 - accuracy: 0.5294 - val_loss: 0.6669 - val_accuracy: 0.6250\n",
      "Epoch 21/50\n",
      "85/85 [==============================] - 0s 1ms/step - loss: 0.7000 - accuracy: 0.5647 - val_loss: 0.6625 - val_accuracy: 0.6250\n",
      "Epoch 22/50\n",
      "85/85 [==============================] - 0s 1ms/step - loss: 0.7009 - accuracy: 0.5059 - val_loss: 0.6685 - val_accuracy: 0.6250\n",
      "Epoch 23/50\n",
      "85/85 [==============================] - 0s 1ms/step - loss: 0.6959 - accuracy: 0.5647 - val_loss: 0.6648 - val_accuracy: 0.6250\n",
      "Epoch 24/50\n",
      "85/85 [==============================] - 0s 1ms/step - loss: 0.6982 - accuracy: 0.4824 - val_loss: 0.6619 - val_accuracy: 0.6250\n",
      "Epoch 25/50\n",
      "85/85 [==============================] - 0s 1ms/step - loss: 0.7229 - accuracy: 0.5294 - val_loss: 0.6635 - val_accuracy: 0.6250\n",
      "Epoch 26/50\n",
      "85/85 [==============================] - 0s 1ms/step - loss: 0.7025 - accuracy: 0.4941 - val_loss: 0.6799 - val_accuracy: 0.6250\n",
      "Epoch 27/50\n",
      "85/85 [==============================] - 0s 1ms/step - loss: 0.6990 - accuracy: 0.5294 - val_loss: 0.6626 - val_accuracy: 0.6250\n",
      "Epoch 28/50\n",
      "85/85 [==============================] - 0s 1ms/step - loss: 0.6950 - accuracy: 0.5647 - val_loss: 0.6851 - val_accuracy: 0.6250\n",
      "Epoch 29/50\n",
      "85/85 [==============================] - 0s 1ms/step - loss: 0.7016 - accuracy: 0.5059 - val_loss: 0.6666 - val_accuracy: 0.6250\n",
      "Epoch 30/50\n",
      "85/85 [==============================] - 0s 1ms/step - loss: 0.7036 - accuracy: 0.5294 - val_loss: 0.6634 - val_accuracy: 0.6250\n",
      "Epoch 31/50\n",
      "85/85 [==============================] - 0s 1ms/step - loss: 0.6960 - accuracy: 0.5412 - val_loss: 0.6970 - val_accuracy: 0.3750\n",
      "Epoch 32/50\n",
      "85/85 [==============================] - 0s 1ms/step - loss: 0.6930 - accuracy: 0.5412 - val_loss: 0.6664 - val_accuracy: 0.6250\n",
      "Epoch 33/50\n",
      "85/85 [==============================] - 0s 1ms/step - loss: 0.6878 - accuracy: 0.5412 - val_loss: 0.6630 - val_accuracy: 0.6250\n",
      "Epoch 34/50\n",
      "85/85 [==============================] - 0s 1ms/step - loss: 0.7171 - accuracy: 0.4941 - val_loss: 0.6634 - val_accuracy: 0.6250\n",
      "Epoch 35/50\n",
      "85/85 [==============================] - 0s 1ms/step - loss: 0.7046 - accuracy: 0.5059 - val_loss: 0.6771 - val_accuracy: 0.6250\n",
      "Epoch 36/50\n",
      "85/85 [==============================] - 0s 1ms/step - loss: 0.6983 - accuracy: 0.5647 - val_loss: 0.6700 - val_accuracy: 0.6250\n",
      "Epoch 37/50\n",
      "85/85 [==============================] - 0s 1ms/step - loss: 0.6975 - accuracy: 0.5412 - val_loss: 0.7220 - val_accuracy: 0.3750\n",
      "Epoch 38/50\n",
      "85/85 [==============================] - 0s 1ms/step - loss: 0.6951 - accuracy: 0.5412 - val_loss: 0.6664 - val_accuracy: 0.6250\n",
      "Epoch 39/50\n",
      "85/85 [==============================] - 0s 1ms/step - loss: 0.7083 - accuracy: 0.5647 - val_loss: 0.6988 - val_accuracy: 0.3750\n",
      "Epoch 40/50\n",
      "85/85 [==============================] - 0s 1ms/step - loss: 0.6963 - accuracy: 0.5294 - val_loss: 0.6643 - val_accuracy: 0.6250\n",
      "Epoch 41/50\n",
      "85/85 [==============================] - 0s 1ms/step - loss: 0.7075 - accuracy: 0.5059 - val_loss: 0.6828 - val_accuracy: 0.6250\n",
      "Epoch 42/50\n",
      "85/85 [==============================] - 0s 1ms/step - loss: 0.7022 - accuracy: 0.4588 - val_loss: 0.6702 - val_accuracy: 0.6250\n",
      "Epoch 43/50\n",
      "85/85 [==============================] - 0s 1ms/step - loss: 0.6969 - accuracy: 0.5647 - val_loss: 0.6755 - val_accuracy: 0.6250\n",
      "Epoch 44/50\n",
      "85/85 [==============================] - 0s 1ms/step - loss: 0.6990 - accuracy: 0.5294 - val_loss: 0.7064 - val_accuracy: 0.3750\n",
      "Epoch 45/50\n",
      "85/85 [==============================] - 0s 1ms/step - loss: 0.7059 - accuracy: 0.4941 - val_loss: 0.6723 - val_accuracy: 0.6250\n",
      "Epoch 46/50\n",
      "85/85 [==============================] - 0s 1ms/step - loss: 0.7127 - accuracy: 0.5176 - val_loss: 0.6618 - val_accuracy: 0.6250\n",
      "Epoch 47/50\n",
      "85/85 [==============================] - 0s 1ms/step - loss: 0.7005 - accuracy: 0.5294 - val_loss: 0.6653 - val_accuracy: 0.6250\n",
      "Epoch 48/50\n",
      "85/85 [==============================] - 0s 1ms/step - loss: 0.6948 - accuracy: 0.5412 - val_loss: 0.6747 - val_accuracy: 0.6250\n",
      "Epoch 49/50\n",
      "85/85 [==============================] - 0s 1ms/step - loss: 0.6907 - accuracy: 0.5647 - val_loss: 0.6758 - val_accuracy: 0.6250\n",
      "Epoch 50/50\n",
      "85/85 [==============================] - 0s 1ms/step - loss: 0.6908 - accuracy: 0.5882 - val_loss: 0.7181 - val_accuracy: 0.3750\n"
     ]
    },
    {
     "data": {
      "text/plain": [
       "<keras.callbacks.History at 0x7f4ae44dfc10>"
      ]
     },
     "execution_count": 78,
     "metadata": {},
     "output_type": "execute_result"
    }
   ],
   "source": [
    "model = Sequential()\n",
    "model.add(Dense(8, activation='relu', input_shape=(20,)))\n",
    "model.add(Dense(8, activation='relu'))\n",
    "model.add(Dense(1, activation='sigmoid'))\n",
    "opt = keras.optimizers.Adam(learning_rate=0.1)\n",
    "model.compile(loss='binary_crossentropy',optimizer=opt,metrics=['accuracy'])\n",
    "model.fit(X_train, y_train,epochs=50, batch_size=1, verbose=1,validation_data=(X_test, y_test))"
   ]
  },
  {
   "cell_type": "markdown",
   "metadata": {},
   "source": [
    "# MLP"
   ]
  },
  {
   "cell_type": "code",
   "execution_count": 79,
   "metadata": {},
   "outputs": [
    {
     "name": "stdout",
     "output_type": "stream",
     "text": [
      "Accuracy: 0.625\n"
     ]
    },
    {
     "name": "stderr",
     "output_type": "stream",
     "text": [
      "/home/nprins/.local/lib/python3.8/site-packages/sklearn/neural_network/_multilayer_perceptron.py:1118: DataConversionWarning: A column-vector y was passed when a 1d array was expected. Please change the shape of y to (n_samples, ), for example using ravel().\n",
      "  y = column_or_1d(y, warn=True)\n"
     ]
    }
   ],
   "source": [
    "from sklearn.neural_network import MLPClassifier\n",
    "\n",
    "NN = MLPClassifier(solver='lbfgs', alpha=0.001, hidden_layer_sizes=(5, 3), random_state=1)\n",
    "NN.fit(X_train, y_train)\n",
    "y_pred = NN.predict(X_test)\n",
    "print('Accuracy: %.3f' % accuracy_score(y_test, y_pred))"
   ]
  },
  {
   "cell_type": "code",
   "execution_count": null,
   "metadata": {},
   "outputs": [],
   "source": []
  }
 ],
 "metadata": {
  "kernelspec": {
   "display_name": "Python 3 (ipykernel)",
   "language": "python",
   "name": "python3"
  },
  "language_info": {
   "codemirror_mode": {
    "name": "ipython",
    "version": 3
   },
   "file_extension": ".py",
   "mimetype": "text/x-python",
   "name": "python",
   "nbconvert_exporter": "python",
   "pygments_lexer": "ipython3",
   "version": "3.8.10"
  }
 },
 "nbformat": 4,
 "nbformat_minor": 4
}
