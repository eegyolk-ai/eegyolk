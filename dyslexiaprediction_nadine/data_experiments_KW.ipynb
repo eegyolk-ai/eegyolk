{
 "cells": [
  {
   "cell_type": "markdown",
   "id": "2faf95db",
   "metadata": {},
   "source": [
    "# Imports"
   ]
  },
  {
   "cell_type": "code",
   "execution_count": 5,
   "id": "c94716e9",
   "metadata": {},
   "outputs": [],
   "source": [
    "import mne      # toolbox for analyzing and visualizing EEG data\n",
    "import os       # using operating system dependent functionality (folders)\n",
    "import pandas   # data analysis and manipulation\n",
    "import numpy as np    # numerical computing (manipulating and performing operations on arrays of data)\n",
    "import copy     # Can Copy and Deepcopy files so original file is untouched.\n",
    "from ipywidgets import IntSlider, Output\n",
    "import ipywidgets as widgets\n",
    "from IPython.display import display\n",
    "import matplotlib.pyplot as plt\n",
    "\n",
    "import sys\n",
    "sys.path.insert(0, '../eegyolk') # path to helper functions\n",
    "from eegyolk import helper_functions as hf # library useful for eeg and erp data cleaning"
   ]
  },
  {
   "cell_type": "code",
   "execution_count": 6,
   "id": "a76487e5",
   "metadata": {},
   "outputs": [
    {
     "data": {
      "text/plain": [
       "['.git',\n",
       " '.gitignore',\n",
       " '.ipynb_checkpoints',\n",
       " 'check_sum_eeg_universal-Copy1.ipynb',\n",
       " 'check_sum_eeg_universal.ipynb',\n",
       " 'check_sum_published_eeg_metadata.ipynb',\n",
       " 'config.py',\n",
       " 'configuration_template.py',\n",
       " 'demo.ipynb',\n",
       " 'demos',\n",
       " 'dyslexiaprediction_nadine',\n",
       " 'eegyolk',\n",
       " 'eegyolk_logo.png',\n",
       " 'environment-march-update2.yaml',\n",
       " 'ePodium_2021',\n",
       " 'epod_data_not_pushed',\n",
       " 'event_markers',\n",
       " 'floris_files',\n",
       " 'localize_lead',\n",
       " 'notebooks',\n",
       " 'old_published_metadata_eegs_ehst2.csv',\n",
       " 'old_published_metadata_eegs_hfinf2.csv',\n",
       " 'README.md',\n",
       " 'reproducibility_experiments',\n",
       " 'transformers',\n",
       " 'widgets_guide.ipynb',\n",
       " 'WorkInProgress_Floris',\n",
       " '__pycache__']"
      ]
     },
     "execution_count": 6,
     "metadata": {},
     "output_type": "execute_result"
    }
   ],
   "source": [
    "os.listdir('../')"
   ]
  },
  {
   "cell_type": "markdown",
   "id": "fd32538a",
   "metadata": {},
   "source": [
    "# Load data"
   ]
  },
  {
   "cell_type": "markdown",
   "id": "7f76db72",
   "metadata": {},
   "source": [
    "First the pathways are defined. Those need to be changed in order to run the code. "
   ]
  },
  {
   "cell_type": "code",
   "execution_count": 9,
   "id": "35514611",
   "metadata": {},
   "outputs": [],
   "source": [
    "# VARIABLES:\n",
    "path_metadata = os.path.join('../epod_data_not_pushed','metadata/')\n",
    "#path_excelFiles = 'C:/Projects/new_data_karin_EEG/metadata/'\n",
    "path_eeg = os.path.join('../epod_data_not_pushed','not_zip')\n",
    "path_eventmarkers = os.path.join('../epod_data_not_pushed','not_zip', 'event_markers')\n",
    "\n",
    "\n",
    "#path_metadata = 'C:/Projects/new_data_karin_EEG/metadata/'\n",
    "path_excelFiles = os.path.join('../epod_data_not_pushed','metadata/')\n",
    "#path_eeg = 'C:/Projects/new_data_karin_EEG/metadata/not_zip/'\n",
    "path_event = 'C:/Projects/new_data_karin_EEG/metadata/not_zip/event_markers'\n",
    "makeexcelfiles = True # Option to put .txt files into Excel files"
   ]
  },
  {
   "cell_type": "markdown",
   "id": "449c156a",
   "metadata": {},
   "source": [
    "Load all meta data files and EEG files"
   ]
  },
  {
   "cell_type": "code",
   "execution_count": 10,
   "id": "4d261889",
   "metadata": {},
   "outputs": [
    {
     "data": {
      "text/html": [
       "<div>\n",
       "<style scoped>\n",
       "    .dataframe tbody tr th:only-of-type {\n",
       "        vertical-align: middle;\n",
       "    }\n",
       "\n",
       "    .dataframe tbody tr th {\n",
       "        vertical-align: top;\n",
       "    }\n",
       "\n",
       "    .dataframe thead th {\n",
       "        text-align: right;\n",
       "    }\n",
       "</style>\n",
       "<table border=\"1\" class=\"dataframe\">\n",
       "  <thead>\n",
       "    <tr style=\"text-align: right;\">\n",
       "      <th></th>\n",
       "      <th>child</th>\n",
       "      <th>emt_mother</th>\n",
       "      <th>klepel_mother</th>\n",
       "      <th>vc_mother</th>\n",
       "      <th>dyslexia_mother_accToMother</th>\n",
       "      <th>emt_father</th>\n",
       "      <th>klepel_father</th>\n",
       "      <th>vc_father</th>\n",
       "      <th>dyslexia_father_accToFather</th>\n",
       "    </tr>\n",
       "  </thead>\n",
       "  <tbody>\n",
       "    <tr>\n",
       "      <th>0</th>\n",
       "      <td>101</td>\n",
       "      <td>105</td>\n",
       "      <td>101</td>\n",
       "      <td>19</td>\n",
       "      <td>Nee</td>\n",
       "      <td>80</td>\n",
       "      <td>64</td>\n",
       "      <td>10</td>\n",
       "      <td>Ja</td>\n",
       "    </tr>\n",
       "    <tr>\n",
       "      <th>1</th>\n",
       "      <td>102</td>\n",
       "      <td>116</td>\n",
       "      <td>112</td>\n",
       "      <td>24</td>\n",
       "      <td>Nee</td>\n",
       "      <td>116</td>\n",
       "      <td>94</td>\n",
       "      <td>24</td>\n",
       "      <td>Nee</td>\n",
       "    </tr>\n",
       "    <tr>\n",
       "      <th>2</th>\n",
       "      <td>103</td>\n",
       "      <td>90</td>\n",
       "      <td>100</td>\n",
       "      <td>22</td>\n",
       "      <td>Nee</td>\n",
       "      <td>81</td>\n",
       "      <td>65</td>\n",
       "      <td>21</td>\n",
       "      <td>Ja</td>\n",
       "    </tr>\n",
       "    <tr>\n",
       "      <th>3</th>\n",
       "      <td>104</td>\n",
       "      <td>81</td>\n",
       "      <td>54</td>\n",
       "      <td>19</td>\n",
       "      <td>Ja</td>\n",
       "      <td>101</td>\n",
       "      <td>77</td>\n",
       "      <td>24</td>\n",
       "      <td>Nee</td>\n",
       "    </tr>\n",
       "    <tr>\n",
       "      <th>4</th>\n",
       "      <td>105</td>\n",
       "      <td>101</td>\n",
       "      <td>79</td>\n",
       "      <td>22</td>\n",
       "      <td>Ja</td>\n",
       "      <td>116</td>\n",
       "      <td>101</td>\n",
       "      <td>23</td>\n",
       "      <td>Nee</td>\n",
       "    </tr>\n",
       "    <tr>\n",
       "      <th>...</th>\n",
       "      <td>...</td>\n",
       "      <td>...</td>\n",
       "      <td>...</td>\n",
       "      <td>...</td>\n",
       "      <td>...</td>\n",
       "      <td>...</td>\n",
       "      <td>...</td>\n",
       "      <td>...</td>\n",
       "      <td>...</td>\n",
       "    </tr>\n",
       "    <tr>\n",
       "      <th>72</th>\n",
       "      <td>173</td>\n",
       "      <td>96</td>\n",
       "      <td>107</td>\n",
       "      <td>23</td>\n",
       "      <td>Nee</td>\n",
       "      <td>?</td>\n",
       "      <td>?</td>\n",
       "      <td>?</td>\n",
       "      <td>?</td>\n",
       "    </tr>\n",
       "    <tr>\n",
       "      <th>73</th>\n",
       "      <td>174</td>\n",
       "      <td>?</td>\n",
       "      <td>?</td>\n",
       "      <td>?</td>\n",
       "      <td>?</td>\n",
       "      <td>82</td>\n",
       "      <td>81</td>\n",
       "      <td>18</td>\n",
       "      <td>Nee</td>\n",
       "    </tr>\n",
       "    <tr>\n",
       "      <th>74</th>\n",
       "      <td>175</td>\n",
       "      <td>116</td>\n",
       "      <td>108</td>\n",
       "      <td>22</td>\n",
       "      <td>Nee</td>\n",
       "      <td>?</td>\n",
       "      <td>?</td>\n",
       "      <td>?</td>\n",
       "      <td>?</td>\n",
       "    </tr>\n",
       "    <tr>\n",
       "      <th>75</th>\n",
       "      <td>176</td>\n",
       "      <td>114</td>\n",
       "      <td>112</td>\n",
       "      <td>21</td>\n",
       "      <td>Nee</td>\n",
       "      <td>?</td>\n",
       "      <td>?</td>\n",
       "      <td>?</td>\n",
       "      <td>?</td>\n",
       "    </tr>\n",
       "    <tr>\n",
       "      <th>76</th>\n",
       "      <td>177</td>\n",
       "      <td>115</td>\n",
       "      <td>115</td>\n",
       "      <td>22</td>\n",
       "      <td>Nee</td>\n",
       "      <td>?</td>\n",
       "      <td>?</td>\n",
       "      <td>?</td>\n",
       "      <td>?</td>\n",
       "    </tr>\n",
       "  </tbody>\n",
       "</table>\n",
       "<p>77 rows × 9 columns</p>\n",
       "</div>"
      ],
      "text/plain": [
       "    child emt_mother klepel_mother vc_mother dyslexia_mother_accToMother  \\\n",
       "0     101        105           101        19                         Nee   \n",
       "1     102        116           112        24                         Nee   \n",
       "2     103         90           100        22                         Nee   \n",
       "3     104         81            54        19                          Ja   \n",
       "4     105        101            79        22                          Ja   \n",
       "..    ...        ...           ...       ...                         ...   \n",
       "72    173         96           107        23                         Nee   \n",
       "73    174          ?             ?         ?                           ?   \n",
       "74    175        116           108        22                         Nee   \n",
       "75    176        114           112        21                         Nee   \n",
       "76    177        115           115        22                         Nee   \n",
       "\n",
       "   emt_father klepel_father vc_father dyslexia_father_accToFather  \n",
       "0          80            64        10                          Ja  \n",
       "1         116            94        24                         Nee  \n",
       "2          81            65        21                          Ja  \n",
       "3         101            77        24                         Nee  \n",
       "4         116           101        23                         Nee  \n",
       "..        ...           ...       ...                         ...  \n",
       "72          ?             ?         ?                           ?  \n",
       "73         82            81        18                         Nee  \n",
       "74          ?             ?         ?                           ?  \n",
       "75          ?             ?         ?                           ?  \n",
       "76          ?             ?         ?                           ?  \n",
       "\n",
       "[77 rows x 9 columns]"
      ]
     },
     "execution_count": 10,
     "metadata": {},
     "output_type": "execute_result"
    }
   ],
   "source": [
    "def loadmetadata(filename):\n",
    "    originalpath = path_metadata + filename + '.txt'    \n",
    "    if os.path.exists(originalpath):  \n",
    "        metadata = pandas.read_table(originalpath)\n",
    "        if(makeexcelfiles):\n",
    "            excelpath = path_excelFiles + filename + '.xlsx'       \n",
    "            metadata.to_excel(excelpath)            \n",
    "        return metadata            \n",
    "    else: \n",
    "        print(\"PATH NOT FOUND:  \" + originalpath) \n",
    "        return None\n",
    "\n",
    "cdi = loadmetadata(\"cdi\")\n",
    "children = loadmetadata(\"children\")\n",
    "parents = loadmetadata(\"parents\")\n",
    "\n",
    "# Process Sound Event Codes file\n",
    "codes_overview = loadmetadata(\"CODES_overview\")\n",
    "\n",
    "# cdi\n",
    "# children\n",
    "parents\n",
    "#CODES_overview"
   ]
  },
  {
   "cell_type": "markdown",
   "id": "8b6fd74d",
   "metadata": {},
   "source": [
    "This above cell is exactly what we should be avoiding in a library. Just call the library function as below. See how much cleaner and easier to read this is?"
   ]
  },
  {
   "cell_type": "code",
   "execution_count": 11,
   "id": "47681479",
   "metadata": {},
   "outputs": [
    {
     "data": {
      "text/html": [
       "<div>\n",
       "<style scoped>\n",
       "    .dataframe tbody tr th:only-of-type {\n",
       "        vertical-align: middle;\n",
       "    }\n",
       "\n",
       "    .dataframe tbody tr th {\n",
       "        vertical-align: top;\n",
       "    }\n",
       "\n",
       "    .dataframe thead th {\n",
       "        text-align: right;\n",
       "    }\n",
       "</style>\n",
       "<table border=\"1\" class=\"dataframe\">\n",
       "  <thead>\n",
       "    <tr style=\"text-align: right;\">\n",
       "      <th></th>\n",
       "      <th>child</th>\n",
       "      <th>emt_mother</th>\n",
       "      <th>klepel_mother</th>\n",
       "      <th>vc_mother</th>\n",
       "      <th>dyslexia_mother_accToMother</th>\n",
       "      <th>emt_father</th>\n",
       "      <th>klepel_father</th>\n",
       "      <th>vc_father</th>\n",
       "      <th>dyslexia_father_accToFather</th>\n",
       "    </tr>\n",
       "  </thead>\n",
       "  <tbody>\n",
       "    <tr>\n",
       "      <th>0</th>\n",
       "      <td>101</td>\n",
       "      <td>105</td>\n",
       "      <td>101</td>\n",
       "      <td>19</td>\n",
       "      <td>Nee</td>\n",
       "      <td>80</td>\n",
       "      <td>64</td>\n",
       "      <td>10</td>\n",
       "      <td>Ja</td>\n",
       "    </tr>\n",
       "    <tr>\n",
       "      <th>1</th>\n",
       "      <td>102</td>\n",
       "      <td>116</td>\n",
       "      <td>112</td>\n",
       "      <td>24</td>\n",
       "      <td>Nee</td>\n",
       "      <td>116</td>\n",
       "      <td>94</td>\n",
       "      <td>24</td>\n",
       "      <td>Nee</td>\n",
       "    </tr>\n",
       "    <tr>\n",
       "      <th>2</th>\n",
       "      <td>103</td>\n",
       "      <td>90</td>\n",
       "      <td>100</td>\n",
       "      <td>22</td>\n",
       "      <td>Nee</td>\n",
       "      <td>81</td>\n",
       "      <td>65</td>\n",
       "      <td>21</td>\n",
       "      <td>Ja</td>\n",
       "    </tr>\n",
       "    <tr>\n",
       "      <th>3</th>\n",
       "      <td>104</td>\n",
       "      <td>81</td>\n",
       "      <td>54</td>\n",
       "      <td>19</td>\n",
       "      <td>Ja</td>\n",
       "      <td>101</td>\n",
       "      <td>77</td>\n",
       "      <td>24</td>\n",
       "      <td>Nee</td>\n",
       "    </tr>\n",
       "    <tr>\n",
       "      <th>4</th>\n",
       "      <td>105</td>\n",
       "      <td>101</td>\n",
       "      <td>79</td>\n",
       "      <td>22</td>\n",
       "      <td>Ja</td>\n",
       "      <td>116</td>\n",
       "      <td>101</td>\n",
       "      <td>23</td>\n",
       "      <td>Nee</td>\n",
       "    </tr>\n",
       "    <tr>\n",
       "      <th>...</th>\n",
       "      <td>...</td>\n",
       "      <td>...</td>\n",
       "      <td>...</td>\n",
       "      <td>...</td>\n",
       "      <td>...</td>\n",
       "      <td>...</td>\n",
       "      <td>...</td>\n",
       "      <td>...</td>\n",
       "      <td>...</td>\n",
       "    </tr>\n",
       "    <tr>\n",
       "      <th>72</th>\n",
       "      <td>173</td>\n",
       "      <td>96</td>\n",
       "      <td>107</td>\n",
       "      <td>23</td>\n",
       "      <td>Nee</td>\n",
       "      <td>?</td>\n",
       "      <td>?</td>\n",
       "      <td>?</td>\n",
       "      <td>?</td>\n",
       "    </tr>\n",
       "    <tr>\n",
       "      <th>73</th>\n",
       "      <td>174</td>\n",
       "      <td>?</td>\n",
       "      <td>?</td>\n",
       "      <td>?</td>\n",
       "      <td>?</td>\n",
       "      <td>82</td>\n",
       "      <td>81</td>\n",
       "      <td>18</td>\n",
       "      <td>Nee</td>\n",
       "    </tr>\n",
       "    <tr>\n",
       "      <th>74</th>\n",
       "      <td>175</td>\n",
       "      <td>116</td>\n",
       "      <td>108</td>\n",
       "      <td>22</td>\n",
       "      <td>Nee</td>\n",
       "      <td>?</td>\n",
       "      <td>?</td>\n",
       "      <td>?</td>\n",
       "      <td>?</td>\n",
       "    </tr>\n",
       "    <tr>\n",
       "      <th>75</th>\n",
       "      <td>176</td>\n",
       "      <td>114</td>\n",
       "      <td>112</td>\n",
       "      <td>21</td>\n",
       "      <td>Nee</td>\n",
       "      <td>?</td>\n",
       "      <td>?</td>\n",
       "      <td>?</td>\n",
       "      <td>?</td>\n",
       "    </tr>\n",
       "    <tr>\n",
       "      <th>76</th>\n",
       "      <td>177</td>\n",
       "      <td>115</td>\n",
       "      <td>115</td>\n",
       "      <td>22</td>\n",
       "      <td>Nee</td>\n",
       "      <td>?</td>\n",
       "      <td>?</td>\n",
       "      <td>?</td>\n",
       "      <td>?</td>\n",
       "    </tr>\n",
       "  </tbody>\n",
       "</table>\n",
       "<p>77 rows × 9 columns</p>\n",
       "</div>"
      ],
      "text/plain": [
       "    child emt_mother klepel_mother vc_mother dyslexia_mother_accToMother  \\\n",
       "0     101        105           101        19                         Nee   \n",
       "1     102        116           112        24                         Nee   \n",
       "2     103         90           100        22                         Nee   \n",
       "3     104         81            54        19                          Ja   \n",
       "4     105        101            79        22                          Ja   \n",
       "..    ...        ...           ...       ...                         ...   \n",
       "72    173         96           107        23                         Nee   \n",
       "73    174          ?             ?         ?                           ?   \n",
       "74    175        116           108        22                         Nee   \n",
       "75    176        114           112        21                         Nee   \n",
       "76    177        115           115        22                         Nee   \n",
       "\n",
       "   emt_father klepel_father vc_father dyslexia_father_accToFather  \n",
       "0          80            64        10                          Ja  \n",
       "1         116            94        24                         Nee  \n",
       "2          81            65        21                          Ja  \n",
       "3         101            77        24                         Nee  \n",
       "4         116           101        23                         Nee  \n",
       "..        ...           ...       ...                         ...  \n",
       "72          ?             ?         ?                           ?  \n",
       "73         82            81        18                         Nee  \n",
       "74          ?             ?         ?                           ?  \n",
       "75          ?             ?         ?                           ?  \n",
       "76          ?             ?         ?                           ?  \n",
       "\n",
       "[77 rows x 9 columns]"
      ]
     },
     "execution_count": 11,
     "metadata": {},
     "output_type": "execute_result"
    }
   ],
   "source": [
    "\n",
    "cdi = hf.load_metadata(\"cdi\", path_metadata, path_excelFiles,make_excel_files=True, )\n",
    "children = hf.load_metadata(\"children\", path_metadata, path_excelFiles,make_excel_files=True, )\n",
    "parents = hf.load_metadata  (\"parents\", path_metadata, path_excelFiles,make_excel_files=True, )\n",
    "codes_overview = hf.load_metadata(\"CODES_overview\", path_metadata, path_excelFiles,make_excel_files=True, )\n",
    "parents"
   ]
  },
  {
   "cell_type": "code",
   "execution_count": null,
   "id": "d02e5c63",
   "metadata": {},
   "outputs": [],
   "source": []
  },
  {
   "cell_type": "code",
   "execution_count": null,
   "id": "30a27a95",
   "metadata": {},
   "outputs": [],
   "source": []
  },
  {
   "cell_type": "markdown",
   "id": "e680e63e",
   "metadata": {},
   "source": [
    "This is just a too much hoopla below. Call functions from somewhere please! And keep in mind people will have different path_eeg."
   ]
  },
  {
   "cell_type": "code",
   "execution_count": 12,
   "id": "0f577d65",
   "metadata": {},
   "outputs": [
    {
     "name": "stdout",
     "output_type": "stream",
     "text": [
      ".DS_Store\n",
      ".DS_Store\n",
      "101a.bdf\n",
      "Extracting EDF parameters from C:\\Projects\\ePodium\\epod_data_not_pushed\\not_zip\\101to110\\101to110\\101\\101a\\101a.bdf...\n",
      "BDF file detected\n",
      "Setting channel info structure...\n",
      "Creating raw.info structure...\n"
     ]
    },
    {
     "ename": "AttributeError",
     "evalue": "module 'numba' has no attribute 'core'",
     "output_type": "error",
     "traceback": [
      "\u001b[1;31m---------------------------------------------------------------------------\u001b[0m",
      "\u001b[1;31mAttributeError\u001b[0m                            Traceback (most recent call last)",
      "Input \u001b[1;32mIn [12]\u001b[0m, in \u001b[0;36m<cell line: 5>\u001b[1;34m()\u001b[0m\n\u001b[0;32m      7\u001b[0m \u001b[38;5;28mprint\u001b[39m(file)\n\u001b[0;32m      8\u001b[0m \u001b[38;5;28;01mif\u001b[39;00m file\u001b[38;5;241m.\u001b[39mendswith(\u001b[38;5;124m'\u001b[39m\u001b[38;5;124m.bdf\u001b[39m\u001b[38;5;124m'\u001b[39m) \u001b[38;5;129;01mand\u001b[39;00m \u001b[38;5;28mlen\u001b[39m(file) \u001b[38;5;241m==\u001b[39m \u001b[38;5;241m8\u001b[39m:\n\u001b[1;32m----> 9\u001b[0m     bdffile \u001b[38;5;241m=\u001b[39m \u001b[43mmne\u001b[49m\u001b[38;5;241;43m.\u001b[39;49m\u001b[43mio\u001b[49m\u001b[38;5;241;43m.\u001b[39;49m\u001b[43mread_raw_bdf\u001b[49m\u001b[43m(\u001b[49m\u001b[43mos\u001b[49m\u001b[38;5;241;43m.\u001b[39;49m\u001b[43mpath\u001b[49m\u001b[38;5;241;43m.\u001b[39;49m\u001b[43mjoin\u001b[49m\u001b[43m(\u001b[49m\u001b[43mroot\u001b[49m\u001b[43m,\u001b[49m\u001b[43m \u001b[49m\u001b[43mfile\u001b[49m\u001b[43m)\u001b[49m\u001b[43m,\u001b[49m\u001b[43mpreload\u001b[49m\u001b[38;5;241;43m=\u001b[39;49m\u001b[38;5;28;43;01mTrue\u001b[39;49;00m\u001b[43m)\u001b[49m \u001b[38;5;66;03m#preload needs to be true otherwise data is not in memory storage for some mne functions\u001b[39;00m\n\u001b[0;32m     10\u001b[0m     eeg\u001b[38;5;241m.\u001b[39mappend(bdffile)              \n\u001b[0;32m     11\u001b[0m     eeg_filenames\u001b[38;5;241m.\u001b[39mappend(file\u001b[38;5;241m.\u001b[39mreplace(\u001b[38;5;124m\"\u001b[39m\u001b[38;5;124m.bdf\u001b[39m\u001b[38;5;124m\"\u001b[39m, \u001b[38;5;124m\"\u001b[39m\u001b[38;5;124m\"\u001b[39m))\n",
      "File \u001b[1;32m~\\anaconda3\\envs\\mne-march3\\lib\\site-packages\\mne\\io\\edf\\edf.py:1425\u001b[0m, in \u001b[0;36mread_raw_bdf\u001b[1;34m(input_fname, eog, misc, stim_channel, exclude, infer_types, preload, verbose)\u001b[0m\n\u001b[0;32m   1423\u001b[0m \u001b[38;5;28;01mif\u001b[39;00m ext \u001b[38;5;241m!=\u001b[39m \u001b[38;5;124m'\u001b[39m\u001b[38;5;124mbdf\u001b[39m\u001b[38;5;124m'\u001b[39m:\n\u001b[0;32m   1424\u001b[0m     \u001b[38;5;28;01mraise\u001b[39;00m \u001b[38;5;167;01mNotImplementedError\u001b[39;00m(\u001b[38;5;124mf\u001b[39m\u001b[38;5;124m'\u001b[39m\u001b[38;5;124mOnly BDF files are supported, got \u001b[39m\u001b[38;5;132;01m{\u001b[39;00mext\u001b[38;5;132;01m}\u001b[39;00m\u001b[38;5;124m.\u001b[39m\u001b[38;5;124m'\u001b[39m)\n\u001b[1;32m-> 1425\u001b[0m \u001b[38;5;28;01mreturn\u001b[39;00m \u001b[43mRawEDF\u001b[49m\u001b[43m(\u001b[49m\u001b[43minput_fname\u001b[49m\u001b[38;5;241;43m=\u001b[39;49m\u001b[43minput_fname\u001b[49m\u001b[43m,\u001b[49m\u001b[43m \u001b[49m\u001b[43meog\u001b[49m\u001b[38;5;241;43m=\u001b[39;49m\u001b[43meog\u001b[49m\u001b[43m,\u001b[49m\u001b[43m \u001b[49m\u001b[43mmisc\u001b[49m\u001b[38;5;241;43m=\u001b[39;49m\u001b[43mmisc\u001b[49m\u001b[43m,\u001b[49m\n\u001b[0;32m   1426\u001b[0m \u001b[43m              \u001b[49m\u001b[43mstim_channel\u001b[49m\u001b[38;5;241;43m=\u001b[39;49m\u001b[43mstim_channel\u001b[49m\u001b[43m,\u001b[49m\u001b[43m \u001b[49m\u001b[43mexclude\u001b[49m\u001b[38;5;241;43m=\u001b[39;49m\u001b[43mexclude\u001b[49m\u001b[43m,\u001b[49m\n\u001b[0;32m   1427\u001b[0m \u001b[43m              \u001b[49m\u001b[43minfer_types\u001b[49m\u001b[38;5;241;43m=\u001b[39;49m\u001b[43minfer_types\u001b[49m\u001b[43m,\u001b[49m\u001b[43m \u001b[49m\u001b[43mpreload\u001b[49m\u001b[38;5;241;43m=\u001b[39;49m\u001b[43mpreload\u001b[49m\u001b[43m,\u001b[49m\u001b[43m \u001b[49m\u001b[43mverbose\u001b[49m\u001b[38;5;241;43m=\u001b[39;49m\u001b[43mverbose\u001b[49m\u001b[43m)\u001b[49m\n",
      "File \u001b[1;32m<decorator-gen-224>:12\u001b[0m, in \u001b[0;36m__init__\u001b[1;34m(self, input_fname, eog, misc, stim_channel, exclude, infer_types, preload, verbose)\u001b[0m\n",
      "File \u001b[1;32m~\\anaconda3\\envs\\mne-march3\\lib\\site-packages\\mne\\io\\edf\\edf.py:139\u001b[0m, in \u001b[0;36mRawEDF.__init__\u001b[1;34m(self, input_fname, eog, misc, stim_channel, exclude, infer_types, preload, verbose)\u001b[0m\n\u001b[0;32m    137\u001b[0m \u001b[38;5;66;03m# Raw attributes\u001b[39;00m\n\u001b[0;32m    138\u001b[0m last_samps \u001b[38;5;241m=\u001b[39m [edf_info[\u001b[38;5;124m'\u001b[39m\u001b[38;5;124mnsamples\u001b[39m\u001b[38;5;124m'\u001b[39m] \u001b[38;5;241m-\u001b[39m \u001b[38;5;241m1\u001b[39m]\n\u001b[1;32m--> 139\u001b[0m \u001b[38;5;28;43msuper\u001b[39;49m\u001b[43m(\u001b[49m\u001b[43m)\u001b[49m\u001b[38;5;241;43m.\u001b[39;49m\u001b[38;5;21;43m__init__\u001b[39;49m\u001b[43m(\u001b[49m\u001b[43minfo\u001b[49m\u001b[43m,\u001b[49m\u001b[43m \u001b[49m\u001b[43mpreload\u001b[49m\u001b[43m,\u001b[49m\u001b[43m \u001b[49m\u001b[43mfilenames\u001b[49m\u001b[38;5;241;43m=\u001b[39;49m\u001b[43m[\u001b[49m\u001b[43minput_fname\u001b[49m\u001b[43m]\u001b[49m\u001b[43m,\u001b[49m\n\u001b[0;32m    140\u001b[0m \u001b[43m                 \u001b[49m\u001b[43mraw_extras\u001b[49m\u001b[38;5;241;43m=\u001b[39;49m\u001b[43m[\u001b[49m\u001b[43medf_info\u001b[49m\u001b[43m]\u001b[49m\u001b[43m,\u001b[49m\u001b[43m \u001b[49m\u001b[43mlast_samps\u001b[49m\u001b[38;5;241;43m=\u001b[39;49m\u001b[43mlast_samps\u001b[49m\u001b[43m,\u001b[49m\n\u001b[0;32m    141\u001b[0m \u001b[43m                 \u001b[49m\u001b[43morig_format\u001b[49m\u001b[38;5;241;43m=\u001b[39;49m\u001b[38;5;124;43m'\u001b[39;49m\u001b[38;5;124;43mint\u001b[39;49m\u001b[38;5;124;43m'\u001b[39;49m\u001b[43m,\u001b[49m\u001b[43m \u001b[49m\u001b[43morig_units\u001b[49m\u001b[38;5;241;43m=\u001b[39;49m\u001b[43morig_units\u001b[49m\u001b[43m,\u001b[49m\n\u001b[0;32m    142\u001b[0m \u001b[43m                 \u001b[49m\u001b[43mverbose\u001b[49m\u001b[38;5;241;43m=\u001b[39;49m\u001b[43mverbose\u001b[49m\u001b[43m)\u001b[49m\n\u001b[0;32m    144\u001b[0m \u001b[38;5;66;03m# Read annotations from file and set it\u001b[39;00m\n\u001b[0;32m    145\u001b[0m onset, duration, desc \u001b[38;5;241m=\u001b[39m \u001b[38;5;28mlist\u001b[39m(), \u001b[38;5;28mlist\u001b[39m(), \u001b[38;5;28mlist\u001b[39m()\n",
      "File \u001b[1;32m<decorator-gen-203>:12\u001b[0m, in \u001b[0;36m__init__\u001b[1;34m(self, info, preload, first_samps, last_samps, filenames, raw_extras, orig_format, dtype, buffer_size_sec, orig_units, verbose)\u001b[0m\n",
      "File \u001b[1;32m~\\anaconda3\\envs\\mne-march3\\lib\\site-packages\\mne\\io\\base.py:287\u001b[0m, in \u001b[0;36mBaseRaw.__init__\u001b[1;34m(self, info, preload, first_samps, last_samps, filenames, raw_extras, orig_format, dtype, buffer_size_sec, orig_units, verbose)\u001b[0m\n\u001b[0;32m    285\u001b[0m \u001b[38;5;66;03m# If we have True or a string, actually do the preloading\u001b[39;00m\n\u001b[0;32m    286\u001b[0m \u001b[38;5;28;01mif\u001b[39;00m load_from_disk:\n\u001b[1;32m--> 287\u001b[0m     \u001b[38;5;28;43mself\u001b[39;49m\u001b[38;5;241;43m.\u001b[39;49m\u001b[43m_preload_data\u001b[49m\u001b[43m(\u001b[49m\u001b[43mpreload\u001b[49m\u001b[43m)\u001b[49m\n\u001b[0;32m    288\u001b[0m \u001b[38;5;28mself\u001b[39m\u001b[38;5;241m.\u001b[39m_init_kwargs \u001b[38;5;241m=\u001b[39m _get_argvalues()\n",
      "File \u001b[1;32m~\\anaconda3\\envs\\mne-march3\\lib\\site-packages\\mne\\io\\base.py:566\u001b[0m, in \u001b[0;36mBaseRaw._preload_data\u001b[1;34m(self, preload)\u001b[0m\n\u001b[0;32m    563\u001b[0m \u001b[38;5;28;01mif\u001b[39;00m \u001b[38;5;28misinstance\u001b[39m(preload, (\u001b[38;5;28mbool\u001b[39m, np\u001b[38;5;241m.\u001b[39mbool_)) \u001b[38;5;129;01mand\u001b[39;00m \u001b[38;5;129;01mnot\u001b[39;00m preload:\n\u001b[0;32m    564\u001b[0m     data_buffer \u001b[38;5;241m=\u001b[39m \u001b[38;5;28;01mNone\u001b[39;00m\n\u001b[0;32m    565\u001b[0m logger\u001b[38;5;241m.\u001b[39minfo(\u001b[38;5;124m'\u001b[39m\u001b[38;5;124mReading \u001b[39m\u001b[38;5;132;01m%d\u001b[39;00m\u001b[38;5;124m ... \u001b[39m\u001b[38;5;132;01m%d\u001b[39;00m\u001b[38;5;124m  =  \u001b[39m\u001b[38;5;132;01m%9.3f\u001b[39;00m\u001b[38;5;124m ... \u001b[39m\u001b[38;5;132;01m%9.3f\u001b[39;00m\u001b[38;5;124m secs...\u001b[39m\u001b[38;5;124m'\u001b[39m \u001b[38;5;241m%\u001b[39m\n\u001b[1;32m--> 566\u001b[0m             (\u001b[38;5;241m0\u001b[39m, \u001b[38;5;28mlen\u001b[39m(\u001b[38;5;28;43mself\u001b[39;49m\u001b[38;5;241;43m.\u001b[39;49m\u001b[43mtimes\u001b[49m) \u001b[38;5;241m-\u001b[39m \u001b[38;5;241m1\u001b[39m, \u001b[38;5;241m0.\u001b[39m, \u001b[38;5;28mself\u001b[39m\u001b[38;5;241m.\u001b[39mtimes[\u001b[38;5;241m-\u001b[39m\u001b[38;5;241m1\u001b[39m]))\n\u001b[0;32m    567\u001b[0m \u001b[38;5;28mself\u001b[39m\u001b[38;5;241m.\u001b[39m_data \u001b[38;5;241m=\u001b[39m \u001b[38;5;28mself\u001b[39m\u001b[38;5;241m.\u001b[39m_read_segment(\n\u001b[0;32m    568\u001b[0m     data_buffer\u001b[38;5;241m=\u001b[39mdata_buffer, projector\u001b[38;5;241m=\u001b[39m\u001b[38;5;28mself\u001b[39m\u001b[38;5;241m.\u001b[39m_projector)\n\u001b[0;32m    569\u001b[0m \u001b[38;5;28;01massert\u001b[39;00m \u001b[38;5;28mlen\u001b[39m(\u001b[38;5;28mself\u001b[39m\u001b[38;5;241m.\u001b[39m_data) \u001b[38;5;241m==\u001b[39m \u001b[38;5;28mself\u001b[39m\u001b[38;5;241m.\u001b[39minfo[\u001b[38;5;124m'\u001b[39m\u001b[38;5;124mnchan\u001b[39m\u001b[38;5;124m'\u001b[39m]\n",
      "File \u001b[1;32m~\\anaconda3\\envs\\mne-march3\\lib\\site-packages\\mne\\io\\base.py:1601\u001b[0m, in \u001b[0;36mBaseRaw.times\u001b[1;34m(self)\u001b[0m\n\u001b[0;32m   1598\u001b[0m \u001b[38;5;129m@property\u001b[39m\n\u001b[0;32m   1599\u001b[0m \u001b[38;5;28;01mdef\u001b[39;00m \u001b[38;5;21mtimes\u001b[39m(\u001b[38;5;28mself\u001b[39m):\n\u001b[0;32m   1600\u001b[0m     \u001b[38;5;124;03m\"\"\"Time points.\"\"\"\u001b[39;00m\n\u001b[1;32m-> 1601\u001b[0m     out \u001b[38;5;241m=\u001b[39m \u001b[43m_arange_div\u001b[49m\u001b[43m(\u001b[49m\u001b[38;5;28;43mself\u001b[39;49m\u001b[38;5;241;43m.\u001b[39;49m\u001b[43mn_times\u001b[49m\u001b[43m,\u001b[49m\u001b[43m \u001b[49m\u001b[38;5;28;43mfloat\u001b[39;49m\u001b[43m(\u001b[49m\u001b[38;5;28;43mself\u001b[39;49m\u001b[38;5;241;43m.\u001b[39;49m\u001b[43minfo\u001b[49m\u001b[43m[\u001b[49m\u001b[38;5;124;43m'\u001b[39;49m\u001b[38;5;124;43msfreq\u001b[39;49m\u001b[38;5;124;43m'\u001b[39;49m\u001b[43m]\u001b[49m\u001b[43m)\u001b[49m\u001b[43m)\u001b[49m\n\u001b[0;32m   1602\u001b[0m     out\u001b[38;5;241m.\u001b[39mflags[\u001b[38;5;124m'\u001b[39m\u001b[38;5;124mWRITEABLE\u001b[39m\u001b[38;5;124m'\u001b[39m] \u001b[38;5;241m=\u001b[39m \u001b[38;5;28;01mFalse\u001b[39;00m\n\u001b[0;32m   1603\u001b[0m     \u001b[38;5;28;01mreturn\u001b[39;00m out\n",
      "File \u001b[1;32m~\\anaconda3\\envs\\mne-march3\\lib\\site-packages\\numba\\core\\dispatcher.py:487\u001b[0m, in \u001b[0;36m_DispatcherBase._compile_for_args\u001b[1;34m(self, *args, **kws)\u001b[0m\n\u001b[0;32m    485\u001b[0m             e\u001b[38;5;241m.\u001b[39mpatch_message(\u001b[38;5;124m'\u001b[39m\u001b[38;5;130;01m\\n\u001b[39;00m\u001b[38;5;124m'\u001b[39m\u001b[38;5;241m.\u001b[39mjoin((\u001b[38;5;28mstr\u001b[39m(e)\u001b[38;5;241m.\u001b[39mrstrip(), help_msg)))\n\u001b[0;32m    486\u001b[0m     \u001b[38;5;66;03m# ignore the FULL_TRACEBACKS config, this needs reporting!\u001b[39;00m\n\u001b[1;32m--> 487\u001b[0m     \u001b[38;5;28;01mraise\u001b[39;00m e\n\u001b[0;32m    488\u001b[0m \u001b[38;5;28;01mfinally\u001b[39;00m:\n\u001b[0;32m    489\u001b[0m     \u001b[38;5;28mself\u001b[39m\u001b[38;5;241m.\u001b[39m_types_active_call \u001b[38;5;241m=\u001b[39m []\n",
      "File \u001b[1;32m~\\anaconda3\\envs\\mne-march3\\lib\\site-packages\\numba\\core\\dispatcher.py:420\u001b[0m, in \u001b[0;36m_DispatcherBase._compile_for_args\u001b[1;34m(self, *args, **kws)\u001b[0m\n\u001b[0;32m    418\u001b[0m return_val \u001b[38;5;241m=\u001b[39m \u001b[38;5;28;01mNone\u001b[39;00m\n\u001b[0;32m    419\u001b[0m \u001b[38;5;28;01mtry\u001b[39;00m:\n\u001b[1;32m--> 420\u001b[0m     return_val \u001b[38;5;241m=\u001b[39m \u001b[38;5;28;43mself\u001b[39;49m\u001b[38;5;241;43m.\u001b[39;49m\u001b[43mcompile\u001b[49m\u001b[43m(\u001b[49m\u001b[38;5;28;43mtuple\u001b[39;49m\u001b[43m(\u001b[49m\u001b[43margtypes\u001b[49m\u001b[43m)\u001b[49m\u001b[43m)\u001b[49m\n\u001b[0;32m    421\u001b[0m \u001b[38;5;28;01mexcept\u001b[39;00m errors\u001b[38;5;241m.\u001b[39mForceLiteralArg \u001b[38;5;28;01mas\u001b[39;00m e:\n\u001b[0;32m    422\u001b[0m     \u001b[38;5;66;03m# Received request for compiler re-entry with the list of arguments\u001b[39;00m\n\u001b[0;32m    423\u001b[0m     \u001b[38;5;66;03m# indicated by e.requested_args.\u001b[39;00m\n\u001b[0;32m    424\u001b[0m     \u001b[38;5;66;03m# First, check if any of these args are already Literal-ized\u001b[39;00m\n\u001b[0;32m    425\u001b[0m     already_lit_pos \u001b[38;5;241m=\u001b[39m [i \u001b[38;5;28;01mfor\u001b[39;00m i \u001b[38;5;129;01min\u001b[39;00m e\u001b[38;5;241m.\u001b[39mrequested_args\n\u001b[0;32m    426\u001b[0m                        \u001b[38;5;28;01mif\u001b[39;00m \u001b[38;5;28misinstance\u001b[39m(args[i], types\u001b[38;5;241m.\u001b[39mLiteral)]\n",
      "File \u001b[1;32m~\\anaconda3\\envs\\mne-march3\\lib\\site-packages\\numba\\core\\dispatcher.py:946\u001b[0m, in \u001b[0;36mDispatcher.compile\u001b[1;34m(self, sig)\u001b[0m\n\u001b[0;32m    944\u001b[0m     \u001b[38;5;28;01mreturn\u001b[39;00m existing\u001b[38;5;241m.\u001b[39mentry_point\n\u001b[0;32m    945\u001b[0m \u001b[38;5;66;03m# Try to load from disk cache\u001b[39;00m\n\u001b[1;32m--> 946\u001b[0m cres \u001b[38;5;241m=\u001b[39m \u001b[38;5;28;43mself\u001b[39;49m\u001b[38;5;241;43m.\u001b[39;49m\u001b[43m_cache\u001b[49m\u001b[38;5;241;43m.\u001b[39;49m\u001b[43mload_overload\u001b[49m\u001b[43m(\u001b[49m\u001b[43msig\u001b[49m\u001b[43m,\u001b[49m\u001b[43m \u001b[49m\u001b[38;5;28;43mself\u001b[39;49m\u001b[38;5;241;43m.\u001b[39;49m\u001b[43mtargetctx\u001b[49m\u001b[43m)\u001b[49m\n\u001b[0;32m    947\u001b[0m \u001b[38;5;28;01mif\u001b[39;00m cres \u001b[38;5;129;01mis\u001b[39;00m \u001b[38;5;129;01mnot\u001b[39;00m \u001b[38;5;28;01mNone\u001b[39;00m:\n\u001b[0;32m    948\u001b[0m     \u001b[38;5;28mself\u001b[39m\u001b[38;5;241m.\u001b[39m_cache_hits[sig] \u001b[38;5;241m+\u001b[39m\u001b[38;5;241m=\u001b[39m \u001b[38;5;241m1\u001b[39m\n",
      "File \u001b[1;32m~\\anaconda3\\envs\\mne-march3\\lib\\site-packages\\numba\\core\\caching.py:645\u001b[0m, in \u001b[0;36mCache.load_overload\u001b[1;34m(self, sig, target_context)\u001b[0m\n\u001b[0;32m    640\u001b[0m \u001b[38;5;124;03m\"\"\"\u001b[39;00m\n\u001b[0;32m    641\u001b[0m \u001b[38;5;124;03mLoad and recreate the cached object for the given signature,\u001b[39;00m\n\u001b[0;32m    642\u001b[0m \u001b[38;5;124;03musing the *target_context*.\u001b[39;00m\n\u001b[0;32m    643\u001b[0m \u001b[38;5;124;03m\"\"\"\u001b[39;00m\n\u001b[0;32m    644\u001b[0m \u001b[38;5;66;03m# Refresh the context to ensure it is initialized\u001b[39;00m\n\u001b[1;32m--> 645\u001b[0m \u001b[43mtarget_context\u001b[49m\u001b[38;5;241;43m.\u001b[39;49m\u001b[43mrefresh\u001b[49m\u001b[43m(\u001b[49m\u001b[43m)\u001b[49m\n\u001b[0;32m    646\u001b[0m \u001b[38;5;28;01mwith\u001b[39;00m \u001b[38;5;28mself\u001b[39m\u001b[38;5;241m.\u001b[39m_guard_against_spurious_io_errors():\n\u001b[0;32m    647\u001b[0m     \u001b[38;5;28;01mreturn\u001b[39;00m \u001b[38;5;28mself\u001b[39m\u001b[38;5;241m.\u001b[39m_load_overload(sig, target_context)\n",
      "File \u001b[1;32m~\\anaconda3\\envs\\mne-march3\\lib\\site-packages\\numba\\core\\base.py:275\u001b[0m, in \u001b[0;36mBaseContext.refresh\u001b[1;34m(self)\u001b[0m\n\u001b[0;32m    270\u001b[0m \u001b[38;5;124;03m\"\"\"\u001b[39;00m\n\u001b[0;32m    271\u001b[0m \u001b[38;5;124;03mRefresh context with new declarations from known registries.\u001b[39;00m\n\u001b[0;32m    272\u001b[0m \u001b[38;5;124;03mUseful for third-party extensions.\u001b[39;00m\n\u001b[0;32m    273\u001b[0m \u001b[38;5;124;03m\"\"\"\u001b[39;00m\n\u001b[0;32m    274\u001b[0m \u001b[38;5;66;03m# load target specific registries\u001b[39;00m\n\u001b[1;32m--> 275\u001b[0m \u001b[38;5;28;43mself\u001b[39;49m\u001b[38;5;241;43m.\u001b[39;49m\u001b[43mload_additional_registries\u001b[49m\u001b[43m(\u001b[49m\u001b[43m)\u001b[49m\n\u001b[0;32m    277\u001b[0m \u001b[38;5;66;03m# Populate the builtin registry, this has to happen after loading\u001b[39;00m\n\u001b[0;32m    278\u001b[0m \u001b[38;5;66;03m# additional registries as some of the \"additional\" registries write\u001b[39;00m\n\u001b[0;32m    279\u001b[0m \u001b[38;5;66;03m# their implementations into the builtin_registry and would be missed if\u001b[39;00m\n\u001b[0;32m    280\u001b[0m \u001b[38;5;66;03m# this ran first.\u001b[39;00m\n\u001b[0;32m    281\u001b[0m \u001b[38;5;28mself\u001b[39m\u001b[38;5;241m.\u001b[39minstall_registry(builtin_registry)\n",
      "File \u001b[1;32m~\\anaconda3\\envs\\mne-march3\\lib\\site-packages\\numba\\core\\cpu.py:97\u001b[0m, in \u001b[0;36mCPUContext.load_additional_registries\u001b[1;34m(self)\u001b[0m\n\u001b[0;32m     94\u001b[0m \u001b[38;5;28mself\u001b[39m\u001b[38;5;241m.\u001b[39minstall_registry(jitclassimpl\u001b[38;5;241m.\u001b[39mclass_impl_registry)\n\u001b[0;32m     96\u001b[0m \u001b[38;5;66;03m# load 3rd party extensions\u001b[39;00m\n\u001b[1;32m---> 97\u001b[0m \u001b[43mnumba\u001b[49m\u001b[38;5;241;43m.\u001b[39;49m\u001b[43mcore\u001b[49m\u001b[38;5;241m.\u001b[39mentrypoints\u001b[38;5;241m.\u001b[39minit_all()\n",
      "\u001b[1;31mAttributeError\u001b[0m: module 'numba' has no attribute 'core'"
     ]
    }
   ],
   "source": [
    "eeg = []\n",
    "eeg_filenames = []\n",
    "eeg_filelocation = []\n",
    "\n",
    "for root, dirs, files in os.walk(path_eeg):\n",
    "    for file in files:\n",
    "        print(file)\n",
    "        if file.endswith('.bdf') and len(file) == 8:\n",
    "            bdffile = mne.io.read_raw_bdf(os.path.join(root, file),preload=True) #preload needs to be true otherwise data is not in memory storage for some mne functions\n",
    "            eeg.append(bdffile)              \n",
    "            eeg_filenames.append(file.replace(\".bdf\", \"\"))\n",
    "            eeg_filelocation.append(os.path.join(root,file)) \n",
    "            # clear_output(wait=True)            \n",
    "print(len(eeg), \"EEG files loaded\")\n",
    "\n",
    "eeginfo = True\n",
    "if(eeginfo):\n",
    "    index = 7\n",
    "    print('File Location: ',eeg_filelocation[index],'\\n')\n",
    "    print(eeg[index],'\\n')\n",
    "    print(eeg[index].info)"
   ]
  },
  {
   "cell_type": "markdown",
   "id": "0d9ce7c8",
   "metadata": {},
   "source": [
    "# Data orientation"
   ]
  },
  {
   "cell_type": "markdown",
   "id": "faa7b1e5",
   "metadata": {},
   "source": [
    "Create a widget for index "
   ]
  },
  {
   "cell_type": "code",
   "execution_count": 13,
   "id": "3d8f81a2",
   "metadata": {},
   "outputs": [
    {
     "ename": "IndexError",
     "evalue": "list index out of range",
     "output_type": "error",
     "traceback": [
      "\u001b[1;31m---------------------------------------------------------------------------\u001b[0m",
      "\u001b[1;31mIndexError\u001b[0m                                Traceback (most recent call last)",
      "Input \u001b[1;32mIn [13]\u001b[0m, in \u001b[0;36m<cell line: 3>\u001b[1;34m()\u001b[0m\n\u001b[0;32m      1\u001b[0m \u001b[38;5;66;03m# insert widget for index\u001b[39;00m\n\u001b[0;32m      2\u001b[0m index \u001b[38;5;241m=\u001b[39m \u001b[38;5;241m8\u001b[39m \u001b[38;5;66;03m# EEG data on a single trial of a subject\u001b[39;00m\n\u001b[1;32m----> 3\u001b[0m n_time_samps \u001b[38;5;241m=\u001b[39m \u001b[43meeg\u001b[49m\u001b[43m[\u001b[49m\u001b[43mindex\u001b[49m\u001b[43m]\u001b[49m\u001b[38;5;241m.\u001b[39mn_times\n\u001b[0;32m      4\u001b[0m time_secs \u001b[38;5;241m=\u001b[39m eeg[index]\u001b[38;5;241m.\u001b[39mtimes\n\u001b[0;32m      5\u001b[0m ch_names \u001b[38;5;241m=\u001b[39m eeg[index]\u001b[38;5;241m.\u001b[39mch_names\n",
      "\u001b[1;31mIndexError\u001b[0m: list index out of range"
     ]
    }
   ],
   "source": [
    "# insert widget for index\n",
    "index = 8 # EEG data on a single trial of a subject\n",
    "n_time_samps = eeg[index].n_times\n",
    "time_secs = eeg[index].times\n",
    "ch_names = eeg[index].ch_names\n",
    "n_chan = len(ch_names)  \n",
    "print('the (cropped) sample data object has {} time samples and {} channels.'\n",
    "      ''.format(n_time_samps, n_chan))\n",
    "print('The last time sample is at {} seconds.'.format(time_secs[-1]))\n",
    "print('The first few channel names are {}.'.format(', '.join(ch_names[:3])))\n",
    "print()  # insert a blank line in the output\n",
    "\n",
    "# some examples of raw.info:\n",
    "print('bad channels:', eeg[index].info['bads'])  # chs marked \"bad\" during acquisition\n",
    "print(eeg[index].info['sfreq'], 'Hz')            # sampling frequency\n",
    "print(eeg[index].info['description'], '\\n')      # miscellaneous acquisition info\n",
    "\n",
    "print(eeg[index].info)"
   ]
  },
  {
   "cell_type": "code",
   "execution_count": 14,
   "id": "a7882f3f",
   "metadata": {},
   "outputs": [
    {
     "ename": "IndexError",
     "evalue": "list index out of range",
     "output_type": "error",
     "traceback": [
      "\u001b[1;31m---------------------------------------------------------------------------\u001b[0m",
      "\u001b[1;31mIndexError\u001b[0m                                Traceback (most recent call last)",
      "Input \u001b[1;32mIn [14]\u001b[0m, in \u001b[0;36m<cell line: 2>\u001b[1;34m()\u001b[0m\n\u001b[0;32m      1\u001b[0m \u001b[38;5;66;03m# extracting data by time index for the first channel\u001b[39;00m\n\u001b[1;32m----> 2\u001b[0m sampling_freq \u001b[38;5;241m=\u001b[39m \u001b[43meeg\u001b[49m\u001b[43m[\u001b[49m\u001b[43mindex\u001b[49m\u001b[43m]\u001b[49m\u001b[38;5;241m.\u001b[39minfo[\u001b[38;5;124m'\u001b[39m\u001b[38;5;124msfreq\u001b[39m\u001b[38;5;124m'\u001b[39m]\n\u001b[0;32m      3\u001b[0m start_stop_seconds \u001b[38;5;241m=\u001b[39m np\u001b[38;5;241m.\u001b[39marray([\u001b[38;5;241m11\u001b[39m, \u001b[38;5;241m12\u001b[39m])\n\u001b[0;32m      4\u001b[0m start_sample, stop_sample \u001b[38;5;241m=\u001b[39m (start_stop_seconds \u001b[38;5;241m*\u001b[39m sampling_freq)\u001b[38;5;241m.\u001b[39mastype(\u001b[38;5;28mint\u001b[39m)\n",
      "\u001b[1;31mIndexError\u001b[0m: list index out of range"
     ]
    }
   ],
   "source": [
    "# extracting data by time index for the first channel\n",
    "sampling_freq = eeg[index].info['sfreq']\n",
    "start_stop_seconds = np.array([11, 12])\n",
    "start_sample, stop_sample = (start_stop_seconds * sampling_freq).astype(int)\n",
    "channel_index = 6\n",
    "eeg_selection = eeg[index][channel_index, start_sample:stop_sample]\n",
    "print(eeg_selection)"
   ]
  },
  {
   "cell_type": "code",
   "execution_count": 15,
   "id": "b00583fb",
   "metadata": {},
   "outputs": [
    {
     "ename": "NameError",
     "evalue": "name 'eeg_selection' is not defined",
     "output_type": "error",
     "traceback": [
      "\u001b[1;31m---------------------------------------------------------------------------\u001b[0m",
      "\u001b[1;31mNameError\u001b[0m                                 Traceback (most recent call last)",
      "Input \u001b[1;32mIn [15]\u001b[0m, in \u001b[0;36m<cell line: 1>\u001b[1;34m()\u001b[0m\n\u001b[1;32m----> 1\u001b[0m x \u001b[38;5;241m=\u001b[39m \u001b[43meeg_selection\u001b[49m[\u001b[38;5;241m1\u001b[39m]\n\u001b[0;32m      2\u001b[0m y \u001b[38;5;241m=\u001b[39m eeg_selection[\u001b[38;5;241m0\u001b[39m]\u001b[38;5;241m.\u001b[39mT\n\u001b[0;32m      3\u001b[0m plt\u001b[38;5;241m.\u001b[39mplot(x, y)\n",
      "\u001b[1;31mNameError\u001b[0m: name 'eeg_selection' is not defined"
     ]
    }
   ],
   "source": [
    "x = eeg_selection[1]\n",
    "y = eeg_selection[0].T\n",
    "plt.plot(x, y)"
   ]
  },
  {
   "cell_type": "code",
   "execution_count": 16,
   "id": "11aa5c90",
   "metadata": {},
   "outputs": [
    {
     "ename": "IndexError",
     "evalue": "list index out of range",
     "output_type": "error",
     "traceback": [
      "\u001b[1;31m---------------------------------------------------------------------------\u001b[0m",
      "\u001b[1;31mIndexError\u001b[0m                                Traceback (most recent call last)",
      "Input \u001b[1;32mIn [16]\u001b[0m, in \u001b[0;36m<cell line: 1>\u001b[1;34m()\u001b[0m\n\u001b[1;32m----> 1\u001b[0m \u001b[43meeg\u001b[49m\u001b[43m[\u001b[49m\u001b[43mindex\u001b[49m\u001b[43m]\u001b[49m\u001b[38;5;241m.\u001b[39mch_names\n",
      "\u001b[1;31mIndexError\u001b[0m: list index out of range"
     ]
    }
   ],
   "source": [
    "eeg[index].ch_names"
   ]
  },
  {
   "cell_type": "code",
   "execution_count": 17,
   "id": "6a533ecb",
   "metadata": {},
   "outputs": [
    {
     "ename": "IndexError",
     "evalue": "list index out of range",
     "output_type": "error",
     "traceback": [
      "\u001b[1;31m---------------------------------------------------------------------------\u001b[0m",
      "\u001b[1;31mIndexError\u001b[0m                                Traceback (most recent call last)",
      "Input \u001b[1;32mIn [17]\u001b[0m, in \u001b[0;36m<cell line: 3>\u001b[1;34m()\u001b[0m\n\u001b[0;32m      1\u001b[0m \u001b[38;5;66;03m# extract different channels, create dual axis + widget\u001b[39;00m\n\u001b[0;32m      2\u001b[0m channel_names \u001b[38;5;241m=\u001b[39m [\u001b[38;5;124m'\u001b[39m\u001b[38;5;124mCz\u001b[39m\u001b[38;5;124m'\u001b[39m, \u001b[38;5;124m'\u001b[39m\u001b[38;5;124mPz\u001b[39m\u001b[38;5;124m'\u001b[39m]\n\u001b[1;32m----> 3\u001b[0m two_ch \u001b[38;5;241m=\u001b[39m \u001b[43meeg\u001b[49m\u001b[43m[\u001b[49m\u001b[43mindex\u001b[49m\u001b[43m]\u001b[49m[channel_names, start_sample:stop_sample]\n\u001b[0;32m      4\u001b[0m \u001b[38;5;66;03m# y_offset = np.array([5e-20,0])  \u001b[39;00m\n\u001b[0;32m      5\u001b[0m x \u001b[38;5;241m=\u001b[39m two_ch[\u001b[38;5;241m1\u001b[39m]\n",
      "\u001b[1;31mIndexError\u001b[0m: list index out of range"
     ]
    }
   ],
   "source": [
    "# extract different channels, create dual axis + widget\n",
    "channel_names = ['Cz', 'Pz']\n",
    "two_ch = eeg[index][channel_names, start_sample:stop_sample]\n",
    "# y_offset = np.array([5e-20,0])  \n",
    "x = two_ch[1]\n",
    "y = two_ch[0].T # + y_offset\n",
    "lines = plt.plot(x, y)\n",
    "plt.legend(lines, channel_names)\n"
   ]
  },
  {
   "cell_type": "markdown",
   "id": "4a2a9280",
   "metadata": {},
   "source": [
    "# Events"
   ]
  },
  {
   "cell_type": "markdown",
   "id": "5ff63141",
   "metadata": {},
   "source": [
    "The event markers are in a seperate .txt file for each child in a separate folder. Run the code below to store all event files in one folder. "
   ]
  },
  {
   "cell_type": "code",
   "execution_count": 18,
   "id": "babffe3d",
   "metadata": {},
   "outputs": [],
   "source": [
    "## SAVE Event Markers to external .txt files:\n",
    "for i in range(len(eeg)):\n",
    "      np.savetxt((path_eeg)+\"./event_markers\\\\\" + eeg_filenames[i] + \".txt\", mne.find_events(eeg[i]), fmt = '%i')\n",
    "      #clear_output(wait=True)"
   ]
  },
  {
   "cell_type": "code",
   "execution_count": 19,
   "id": "3ad74a68",
   "metadata": {},
   "outputs": [
    {
     "ename": "FileNotFoundError",
     "evalue": "[WinError 3] The system cannot find the path specified: 'C:/Projects/new_data_karin_EEG/metadata/not_zip/event_markers'",
     "output_type": "error",
     "traceback": [
      "\u001b[1;31m---------------------------------------------------------------------------\u001b[0m",
      "\u001b[1;31mFileNotFoundError\u001b[0m                         Traceback (most recent call last)",
      "Input \u001b[1;32mIn [19]\u001b[0m, in \u001b[0;36m<cell line: 5>\u001b[1;34m()\u001b[0m\n\u001b[0;32m      3\u001b[0m initial_count \u001b[38;5;241m=\u001b[39m \u001b[38;5;241m0\u001b[39m\n\u001b[0;32m      4\u001b[0m \u001b[38;5;28mdir\u001b[39m \u001b[38;5;241m=\u001b[39m path_event\n\u001b[1;32m----> 5\u001b[0m \u001b[38;5;28;01mfor\u001b[39;00m path \u001b[38;5;129;01min\u001b[39;00m \u001b[43mos\u001b[49m\u001b[38;5;241;43m.\u001b[39;49m\u001b[43mlistdir\u001b[49m\u001b[43m(\u001b[49m\u001b[38;5;28;43mdir\u001b[39;49m\u001b[43m)\u001b[49m:\n\u001b[0;32m      6\u001b[0m     \u001b[38;5;28;01mif\u001b[39;00m os\u001b[38;5;241m.\u001b[39mpath\u001b[38;5;241m.\u001b[39misfile(os\u001b[38;5;241m.\u001b[39mpath\u001b[38;5;241m.\u001b[39mjoin(\u001b[38;5;28mdir\u001b[39m, path)):\n\u001b[0;32m      7\u001b[0m         initial_count \u001b[38;5;241m+\u001b[39m\u001b[38;5;241m=\u001b[39m \u001b[38;5;241m1\u001b[39m\n",
      "\u001b[1;31mFileNotFoundError\u001b[0m: [WinError 3] The system cannot find the path specified: 'C:/Projects/new_data_karin_EEG/metadata/not_zip/event_markers'"
     ]
    }
   ],
   "source": [
    "#checking if count eeg files == count event files\n",
    "\n",
    "initial_count = 0\n",
    "dir = path_event\n",
    "for path in os.listdir(dir):\n",
    "    if os.path.isfile(os.path.join(dir, path)):\n",
    "        initial_count += 1\n",
    "print(initial_count) # event files\n",
    "\n",
    "print(len(eeg_filenames)) # eeg files"
   ]
  },
  {
   "cell_type": "code",
   "execution_count": null,
   "id": "8484391c",
   "metadata": {},
   "outputs": [],
   "source": [
    "events = [] \n",
    "events_12 = []\n",
    "for i in range(len(eeg)):\n",
    "    events.append(np.loadtxt(path_event+ \"\\\\\" + eeg_filenames[i] + \".txt\", dtype = int))        \n",
    "print(len(events), \"Event Marker files loaded\")\n",
    "\n",
    "eventinfo = True\n",
    "participantindex = 5\n",
    "eventindex = 500\n",
    "if(eventinfo):\n",
    "    event_time = events[participantindex][eventindex][0]\n",
    "    event_ID = events[participantindex][eventindex][2]    \n",
    "    print(\"\\nParticipant\", participantindex,\"heard event ID:\", event_ID, \n",
    "          \"after\", event_time/eeg[participantindex].info['sfreq'], 'seconds', \n",
    "          'as the ' + str(eventindex) + \"'th event\")    \n",
    "    print(\"\\nEvent ID:\", event_ID, \"\\nCondition:\", codes_overview[\"condition\"][event_ID], \"\\nStimulus Type:\",\n",
    "         codes_overview[\"stimulusType\"][event_ID], \"\\nToken nr:\", codes_overview[\"nrOfToken\"][event_ID],\"\\n\") "
   ]
  },
  {
   "cell_type": "markdown",
   "id": "47e21f07",
   "metadata": {},
   "source": [
    "Creating an event dictionary to map event IDs to trial descriptors"
   ]
  },
  {
   "cell_type": "code",
   "execution_count": null,
   "id": "8a843aef",
   "metadata": {},
   "outputs": [],
   "source": [
    "# M = Multiple / S = Single / T = Tokens            F = First / S = Standard / D = Deviant    \n",
    "event_dict = {'GiepMT_FS': 1, 'GiepMT_S': 2, 'GiepMT_D': 3,'GiepST_FS': 4, 'GiepST_S': 5, 'GiepST_D': 6,\n",
    "             'GopMT_FS': 7, 'GopMT_S': 8, 'GopMT_D': 9, 'GopST_FS': 10, 'GopST_S': 11, 'GopST_D': 12}"
   ]
  },
  {
   "cell_type": "markdown",
   "id": "b381c206",
   "metadata": {},
   "source": [
    "# Artifacts"
   ]
  },
  {
   "cell_type": "code",
   "execution_count": null,
   "id": "57ea0e15",
   "metadata": {},
   "outputs": [],
   "source": [
    "ssp_projectors = eeg[index].info['projs']\n",
    "eeg[index].del_proj()"
   ]
  },
  {
   "cell_type": "code",
   "execution_count": null,
   "id": "65deca44",
   "metadata": {},
   "outputs": [],
   "source": [
    "mag_channels = mne.pick_types(eeg[index].info, meg=False, eeg=True, stim=False, eog=False)\n",
    "print(len(mag_channels))\n",
    "eeg[index].plot(duration=30, order=mag_channels, n_channels=len(mag_channels),\n",
    "               )#remove_dc=False)"
   ]
  },
  {
   "cell_type": "code",
   "execution_count": null,
   "id": "793d0980",
   "metadata": {},
   "outputs": [],
   "source": [
    "fig = eeg[index].plot_psd(tmax=np.inf, fmax=250, average=True)"
   ]
  },
  {
   "cell_type": "markdown",
   "id": "5feb8006",
   "metadata": {},
   "source": [
    "# Filtering"
   ]
  },
  {
   "cell_type": "markdown",
   "id": "2be8fade",
   "metadata": {},
   "source": [
    "In order to filter eeg data, the data needs to be filtered, substract baseline, bad channels should be removed and reject artefacts. "
   ]
  },
  {
   "cell_type": "code",
   "execution_count": null,
   "id": "1aea6d35",
   "metadata": {},
   "outputs": [],
   "source": [
    "# check and remove bad channels in all files\n",
    "def removebadchannel(eeg):\n",
    "    for i in eeg:\n",
    "        if len(eeg[index].info['bads']) != 0:\n",
    "            eeg[index] = mne.pick_types(eeg[index].info, meg=False, eeg=True, exclude='bads')\n",
    "        "
   ]
  },
  {
   "cell_type": "code",
   "execution_count": null,
   "id": "fad71111",
   "metadata": {},
   "outputs": [],
   "source": [
    "# use helper functions for bandpass filter\n",
    "lowpass = widgets.IntText(\n",
    "    step=0.1,\n",
    "    description='lowpass:',\n",
    "    disabled=False\n",
    ")\n",
    "\n",
    "\n",
    "highpass = widgets.Text(\n",
    "    step=0.1,\n",
    "    description='highpass:',\n",
    "    disabled=False\n",
    ")\n",
    "\n",
    "widgets.VBox([lowpass,highpass])\n"
   ]
  },
  {
   "cell_type": "code",
   "execution_count": null,
   "id": "4faf14b2",
   "metadata": {},
   "outputs": [],
   "source": [
    "# define lowpass and highpass till widgets type are fixed\n",
    "lowpass = 1\n",
    "highpass = 40\n",
    "\n",
    "for i in eeg: eeg[index] = hf.band_pass_filter(eeg[index], lowpass, highpass)"
   ]
  },
  {
   "cell_type": "code",
   "execution_count": null,
   "id": "36dfb322",
   "metadata": {},
   "outputs": [],
   "source": [
    "# plotting filter\n",
    "filter_params = mne.filter.create_filter(eeg[index].get_data(), eeg[index].info['sfreq'],\n",
    "                                         l_freq=lowpass, h_freq=highpass)\n",
    "mne.viz.plot_filter(filter_params, eeg[index].info['sfreq'], flim=(0.01, 5))"
   ]
  },
  {
   "cell_type": "code",
   "execution_count": null,
   "id": "d71f92d7",
   "metadata": {
    "scrolled": true
   },
   "outputs": [],
   "source": [
    "# create notch filter\n",
    "eeg_picks = mne.pick_types(eeg[index].info, eeg=True)\n",
    "freqs = (60, 120, 180, 240)\n",
    "\n",
    "for i in eeg: eeg[index] = eeg[index].notch_filter(freqs=freqs, picks=eeg_picks)\n",
    "\n",
    "\n"
   ]
  },
  {
   "cell_type": "markdown",
   "id": "0341574a",
   "metadata": {},
   "source": [
    "# ERP substraction"
   ]
  },
  {
   "cell_type": "code",
   "execution_count": null,
   "id": "6621fc35",
   "metadata": {},
   "outputs": [],
   "source": [
    "epochs = mne.Epochs(eeg[index], events, tmin=-0.3, tmax=0.7)"
   ]
  },
  {
   "cell_type": "code",
   "execution_count": null,
   "id": "274ea0e8",
   "metadata": {},
   "outputs": [],
   "source": []
  }
 ],
 "metadata": {
  "kernelspec": {
   "display_name": "Python 3 (ipykernel)",
   "language": "python",
   "name": "python3"
  },
  "language_info": {
   "codemirror_mode": {
    "name": "ipython",
    "version": 3
   },
   "file_extension": ".py",
   "mimetype": "text/x-python",
   "name": "python",
   "nbconvert_exporter": "python",
   "pygments_lexer": "ipython3",
   "version": "3.10.4"
  }
 },
 "nbformat": 4,
 "nbformat_minor": 5
}
