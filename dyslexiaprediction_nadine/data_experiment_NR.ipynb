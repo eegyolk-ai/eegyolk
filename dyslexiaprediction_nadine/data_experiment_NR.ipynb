{
 "cells": [
  {
   "cell_type": "markdown",
   "id": "7b2ecd55",
   "metadata": {},
   "source": [
    "# Imports"
   ]
  },
  {
   "cell_type": "code",
   "execution_count": 8,
   "id": "def90540",
   "metadata": {},
   "outputs": [],
   "source": [
    "import mne      # toolbox for analyzing and visualizing EEG data\n",
    "import os       # using operating system dependent functionality (folders)\n",
    "import pandas   # data analysis and manipulation\n",
    "import numpy as np    # numerical computing (manipulating and performing operations on arrays of data)\n",
    "import copy     # Can Copy and Deepcopy files so original file is untouched.\n",
    "from ipywidgets import IntSlider, Output\n",
    "import ipywidgets as widgets\n",
    "from IPython.display import display\n",
    "import matplotlib.pyplot as plt\n",
    "\n",
    "import sys\n",
    "sys.path.insert(0, 'C:\\Projects\\ePodium\\eegyolk') # path to helper functions\n",
    "from eegyolk import helper_functions as hf # library useful for eeg and erp data cleaning"
   ]
  },
  {
   "cell_type": "markdown",
   "id": "7bce9d58",
   "metadata": {},
   "source": [
    "# Load data"
   ]
  },
  {
   "cell_type": "markdown",
   "id": "82361a56",
   "metadata": {},
   "source": [
    "First the pathways are defined. Those need to be changed in order to run the code. "
   ]
  },
  {
   "cell_type": "code",
   "execution_count": 9,
   "id": "85c078d5",
   "metadata": {},
   "outputs": [],
   "source": [
    "# VARIABLES:\n",
    "path_metadata = \"F:\\\\Stage\\\\ePODIUM\\\\Data\\\\metadata\\\\\"\n",
    "path_excelFiles = \"F:\\\\Stage\\\\ePODIUM\\\\Data\\\\metadata\\\\\"\n",
    "path_eeg = \"F:\\\\Stage\\\\ePODIUM\\\\Data\\\\not_zip\\\\\"\n",
    "path_event = \"F:\\\\Stage\\\\ePODIUM\\\\Data\\\\not_zip\\\\event_markers\"\n",
    "makeexcelfiles = True # Option to put .txt files into Excel files"
   ]
  },
  {
   "cell_type": "markdown",
   "id": "5e984d41",
   "metadata": {},
   "source": [
    "Load all meta data files and EEG files"
   ]
  },
  {
   "cell_type": "code",
   "execution_count": 10,
   "id": "c863582e",
   "metadata": {},
   "outputs": [
    {
     "data": {
      "text/html": [
       "<div>\n",
       "<style scoped>\n",
       "    .dataframe tbody tr th:only-of-type {\n",
       "        vertical-align: middle;\n",
       "    }\n",
       "\n",
       "    .dataframe tbody tr th {\n",
       "        vertical-align: top;\n",
       "    }\n",
       "\n",
       "    .dataframe thead th {\n",
       "        text-align: right;\n",
       "    }\n",
       "</style>\n",
       "<table border=\"1\" class=\"dataframe\">\n",
       "  <thead>\n",
       "    <tr style=\"text-align: right;\">\n",
       "      <th></th>\n",
       "      <th>child</th>\n",
       "      <th>emt_mother</th>\n",
       "      <th>klepel_mother</th>\n",
       "      <th>vc_mother</th>\n",
       "      <th>dyslexia_mother_accToMother</th>\n",
       "      <th>emt_father</th>\n",
       "      <th>klepel_father</th>\n",
       "      <th>vc_father</th>\n",
       "      <th>dyslexia_father_accToFather</th>\n",
       "    </tr>\n",
       "  </thead>\n",
       "  <tbody>\n",
       "    <tr>\n",
       "      <th>0</th>\n",
       "      <td>101</td>\n",
       "      <td>105</td>\n",
       "      <td>101</td>\n",
       "      <td>19</td>\n",
       "      <td>Nee</td>\n",
       "      <td>80</td>\n",
       "      <td>64</td>\n",
       "      <td>10</td>\n",
       "      <td>Ja</td>\n",
       "    </tr>\n",
       "    <tr>\n",
       "      <th>1</th>\n",
       "      <td>102</td>\n",
       "      <td>116</td>\n",
       "      <td>112</td>\n",
       "      <td>24</td>\n",
       "      <td>Nee</td>\n",
       "      <td>116</td>\n",
       "      <td>94</td>\n",
       "      <td>24</td>\n",
       "      <td>Nee</td>\n",
       "    </tr>\n",
       "    <tr>\n",
       "      <th>2</th>\n",
       "      <td>103</td>\n",
       "      <td>90</td>\n",
       "      <td>100</td>\n",
       "      <td>22</td>\n",
       "      <td>Nee</td>\n",
       "      <td>81</td>\n",
       "      <td>65</td>\n",
       "      <td>21</td>\n",
       "      <td>Ja</td>\n",
       "    </tr>\n",
       "    <tr>\n",
       "      <th>3</th>\n",
       "      <td>104</td>\n",
       "      <td>81</td>\n",
       "      <td>54</td>\n",
       "      <td>19</td>\n",
       "      <td>Ja</td>\n",
       "      <td>101</td>\n",
       "      <td>77</td>\n",
       "      <td>24</td>\n",
       "      <td>Nee</td>\n",
       "    </tr>\n",
       "    <tr>\n",
       "      <th>4</th>\n",
       "      <td>105</td>\n",
       "      <td>101</td>\n",
       "      <td>79</td>\n",
       "      <td>22</td>\n",
       "      <td>Ja</td>\n",
       "      <td>116</td>\n",
       "      <td>101</td>\n",
       "      <td>23</td>\n",
       "      <td>Nee</td>\n",
       "    </tr>\n",
       "    <tr>\n",
       "      <th>...</th>\n",
       "      <td>...</td>\n",
       "      <td>...</td>\n",
       "      <td>...</td>\n",
       "      <td>...</td>\n",
       "      <td>...</td>\n",
       "      <td>...</td>\n",
       "      <td>...</td>\n",
       "      <td>...</td>\n",
       "      <td>...</td>\n",
       "    </tr>\n",
       "    <tr>\n",
       "      <th>72</th>\n",
       "      <td>173</td>\n",
       "      <td>96</td>\n",
       "      <td>107</td>\n",
       "      <td>23</td>\n",
       "      <td>Nee</td>\n",
       "      <td>?</td>\n",
       "      <td>?</td>\n",
       "      <td>?</td>\n",
       "      <td>?</td>\n",
       "    </tr>\n",
       "    <tr>\n",
       "      <th>73</th>\n",
       "      <td>174</td>\n",
       "      <td>?</td>\n",
       "      <td>?</td>\n",
       "      <td>?</td>\n",
       "      <td>?</td>\n",
       "      <td>82</td>\n",
       "      <td>81</td>\n",
       "      <td>18</td>\n",
       "      <td>Nee</td>\n",
       "    </tr>\n",
       "    <tr>\n",
       "      <th>74</th>\n",
       "      <td>175</td>\n",
       "      <td>116</td>\n",
       "      <td>108</td>\n",
       "      <td>22</td>\n",
       "      <td>Nee</td>\n",
       "      <td>?</td>\n",
       "      <td>?</td>\n",
       "      <td>?</td>\n",
       "      <td>?</td>\n",
       "    </tr>\n",
       "    <tr>\n",
       "      <th>75</th>\n",
       "      <td>176</td>\n",
       "      <td>114</td>\n",
       "      <td>112</td>\n",
       "      <td>21</td>\n",
       "      <td>Nee</td>\n",
       "      <td>?</td>\n",
       "      <td>?</td>\n",
       "      <td>?</td>\n",
       "      <td>?</td>\n",
       "    </tr>\n",
       "    <tr>\n",
       "      <th>76</th>\n",
       "      <td>177</td>\n",
       "      <td>115</td>\n",
       "      <td>115</td>\n",
       "      <td>22</td>\n",
       "      <td>Nee</td>\n",
       "      <td>?</td>\n",
       "      <td>?</td>\n",
       "      <td>?</td>\n",
       "      <td>?</td>\n",
       "    </tr>\n",
       "  </tbody>\n",
       "</table>\n",
       "<p>77 rows × 9 columns</p>\n",
       "</div>"
      ],
      "text/plain": [
       "    child emt_mother klepel_mother vc_mother dyslexia_mother_accToMother  \\\n",
       "0     101        105           101        19                         Nee   \n",
       "1     102        116           112        24                         Nee   \n",
       "2     103         90           100        22                         Nee   \n",
       "3     104         81            54        19                          Ja   \n",
       "4     105        101            79        22                          Ja   \n",
       "..    ...        ...           ...       ...                         ...   \n",
       "72    173         96           107        23                         Nee   \n",
       "73    174          ?             ?         ?                           ?   \n",
       "74    175        116           108        22                         Nee   \n",
       "75    176        114           112        21                         Nee   \n",
       "76    177        115           115        22                         Nee   \n",
       "\n",
       "   emt_father klepel_father vc_father dyslexia_father_accToFather  \n",
       "0          80            64        10                          Ja  \n",
       "1         116            94        24                         Nee  \n",
       "2          81            65        21                          Ja  \n",
       "3         101            77        24                         Nee  \n",
       "4         116           101        23                         Nee  \n",
       "..        ...           ...       ...                         ...  \n",
       "72          ?             ?         ?                           ?  \n",
       "73         82            81        18                         Nee  \n",
       "74          ?             ?         ?                           ?  \n",
       "75          ?             ?         ?                           ?  \n",
       "76          ?             ?         ?                           ?  \n",
       "\n",
       "[77 rows x 9 columns]"
      ]
     },
     "execution_count": 10,
     "metadata": {},
     "output_type": "execute_result"
    }
   ],
   "source": [
    "def loadmetadata(filename):\n",
    "    originalpath = path_metadata + filename + '.txt'    \n",
    "    if os.path.exists(originalpath):  \n",
    "        metadata = pandas.read_table(originalpath)\n",
    "        if(makeexcelfiles):\n",
    "            excelpath = path_excelFiles + filename + '.xlsx'       \n",
    "            metadata.to_excel(excelpath)            \n",
    "        return metadata            \n",
    "    else: \n",
    "        print(\"PATH NOT FOUND:  \" + originalpath) \n",
    "        return None\n",
    "\n",
    "cdi = loadmetadata(\"cdi\")\n",
    "children = loadmetadata(\"children\")\n",
    "parents = loadmetadata(\"parents\")\n",
    "\n",
    "# Process Sound Event Codes file\n",
    "codes_overview = loadmetadata(\"CODES_overview\")\n",
    "\n",
    "# cdi\n",
    "# children\n",
    "parents\n",
    "#CODES_overview"
   ]
  },
  {
   "cell_type": "code",
   "execution_count": null,
   "id": "8c2a151f",
   "metadata": {},
   "outputs": [
    {
     "name": "stdout",
     "output_type": "stream",
     "text": [
      "Extracting EDF parameters from F:\\Stage\\ePODIUM\\Data\\not_zip\\101to110\\101to110\\101\\101a\\101a.bdf...\n",
      "BDF file detected\n",
      "Setting channel info structure...\n",
      "Creating raw.info structure...\n",
      "Reading 0 ... 3497983  =      0.000 ...  1708.000 secs...\n",
      "Extracting EDF parameters from F:\\Stage\\ePODIUM\\Data\\not_zip\\101to110\\101to110\\101\\101b\\101b.bdf...\n",
      "BDF file detected\n",
      "Setting channel info structure...\n",
      "Creating raw.info structure...\n",
      "Reading 0 ... 3907583  =      0.000 ...  1908.000 secs...\n",
      "Extracting EDF parameters from F:\\Stage\\ePODIUM\\Data\\not_zip\\101to110\\101to110\\102\\102a\\102a.bdf...\n",
      "BDF file detected\n",
      "Setting channel info structure...\n",
      "Creating raw.info structure...\n",
      "Reading 0 ... 3815423  =      0.000 ...  1863.000 secs...\n",
      "Extracting EDF parameters from F:\\Stage\\ePODIUM\\Data\\not_zip\\101to110\\101to110\\102\\102b\\102b.bdf...\n",
      "BDF file detected\n",
      "Setting channel info structure...\n",
      "Creating raw.info structure...\n",
      "Reading 0 ... 3782655  =      0.000 ...  1847.000 secs...\n",
      "Extracting EDF parameters from F:\\Stage\\ePODIUM\\Data\\not_zip\\101to110\\101to110\\103\\103a\\103a.bdf...\n",
      "BDF file detected\n",
      "Setting channel info structure...\n",
      "Creating raw.info structure...\n",
      "Reading 0 ... 3899391  =      0.000 ...  1904.000 secs...\n",
      "Extracting EDF parameters from F:\\Stage\\ePODIUM\\Data\\not_zip\\101to110\\101to110\\103\\103b\\103b.bdf...\n",
      "BDF file detected\n",
      "Setting channel info structure...\n",
      "Creating raw.info structure...\n",
      "Reading 0 ... 4294655  =      0.000 ...  2097.000 secs...\n",
      "Extracting EDF parameters from F:\\Stage\\ePODIUM\\Data\\not_zip\\101to110\\101to110\\104\\104a\\104a.bdf...\n",
      "BDF file detected\n",
      "Setting channel info structure...\n",
      "Creating raw.info structure...\n",
      "Reading 0 ... 3790847  =      0.000 ...  1851.000 secs...\n",
      "Extracting EDF parameters from F:\\Stage\\ePODIUM\\Data\\not_zip\\101to110\\101to110\\104\\104b\\104b.bdf...\n",
      "BDF file detected\n",
      "Setting channel info structure...\n",
      "Creating raw.info structure...\n",
      "Reading 0 ... 3794943  =      0.000 ...  1853.000 secs...\n",
      "Extracting EDF parameters from F:\\Stage\\ePODIUM\\Data\\not_zip\\101to110\\101to110\\105\\105a\\105a.bdf...\n",
      "BDF file detected\n",
      "Setting channel info structure...\n",
      "Creating raw.info structure...\n",
      "Reading 0 ... 4282367  =      0.000 ...  2091.000 secs...\n",
      "Extracting EDF parameters from F:\\Stage\\ePODIUM\\Data\\not_zip\\101to110\\101to110\\105\\105b\\105b.bdf...\n",
      "BDF file detected\n",
      "Setting channel info structure...\n",
      "Creating raw.info structure...\n",
      "Reading 0 ... 3852287  =      0.000 ...  1881.000 secs...\n",
      "Extracting EDF parameters from F:\\Stage\\ePODIUM\\Data\\not_zip\\101to110\\101to110\\106\\106a\\106a.bdf...\n",
      "BDF file detected\n",
      "Setting channel info structure...\n",
      "Creating raw.info structure...\n",
      "Reading 0 ... 3215359  =      0.000 ...  1570.000 secs...\n",
      "Extracting EDF parameters from F:\\Stage\\ePODIUM\\Data\\not_zip\\101to110\\101to110\\106\\106b\\106b.bdf...\n",
      "BDF file detected\n",
      "Setting channel info structure...\n",
      "Creating raw.info structure...\n",
      "Reading 0 ... 3788799  =      0.000 ...  1850.000 secs...\n",
      "Extracting EDF parameters from F:\\Stage\\ePODIUM\\Data\\not_zip\\101to110\\101to110\\107\\107a\\107a.bdf...\n",
      "BDF file detected\n",
      "Setting channel info structure...\n",
      "Creating raw.info structure...\n",
      "Reading 0 ... 4063231  =      0.000 ...  1984.000 secs...\n",
      "Extracting EDF parameters from F:\\Stage\\ePODIUM\\Data\\not_zip\\101to110\\101to110\\108\\108a\\108a.bdf...\n"
     ]
    }
   ],
   "source": [
    "eeg = []\n",
    "eeg_filenames = []\n",
    "eeg_filelocation = []\n",
    "\n",
    "for root, dirs, files in os.walk(path_eeg):\n",
    "    for file in files:\n",
    "        if file.endswith('.bdf') and len(file) == 8:\n",
    "            bdffile = mne.io.read_raw_bdf(os.path.join(root, file),preload=True) #preload needs to be true otherwise data is not in memory storage for some mne functions\n",
    "            eeg.append(bdffile)              \n",
    "            eeg_filenames.append(file.replace(\".bdf\", \"\"))\n",
    "            eeg_filelocation.append(os.path.join(root,file)) \n",
    "            # clear_output(wait=True)            \n",
    "print(len(eeg), \"EEG files loaded\")\n",
    "\n",
    "eeginfo = True\n",
    "if(eeginfo):\n",
    "    index = 7\n",
    "    print('File Location: ',eeg_filelocation[index],'\\n')\n",
    "    print(eeg[index],'\\n')\n",
    "    print(eeg[index].info)"
   ]
  },
  {
   "cell_type": "markdown",
   "id": "6f2a48da",
   "metadata": {},
   "source": [
    "# Data orientation"
   ]
  },
  {
   "cell_type": "markdown",
   "id": "831bcbcb",
   "metadata": {},
   "source": [
    "Create a widget for index "
   ]
  },
  {
   "cell_type": "code",
   "execution_count": null,
   "id": "3fc0e3b8",
   "metadata": {},
   "outputs": [],
   "source": [
    "# insert widget for index\n",
    "index = 8 # EEG data on a single trial of a subject\n",
    "n_time_samps = eeg[index].n_times\n",
    "time_secs = eeg[index].times\n",
    "ch_names = eeg[index].ch_names\n",
    "n_chan = len(ch_names)  \n",
    "print('the (cropped) sample data object has {} time samples and {} channels.'\n",
    "      ''.format(n_time_samps, n_chan))\n",
    "print('The last time sample is at {} seconds.'.format(time_secs[-1]))\n",
    "print('The first few channel names are {}.'.format(', '.join(ch_names[:3])))\n",
    "print()  # insert a blank line in the output\n",
    "\n",
    "# some examples of raw.info:\n",
    "print('bad channels:', eeg[index].info['bads'])  # chs marked \"bad\" during acquisition\n",
    "print(eeg[index].info['sfreq'], 'Hz')            # sampling frequency\n",
    "print(eeg[index].info['description'], '\\n')      # miscellaneous acquisition info\n",
    "\n",
    "print(eeg[index].info)"
   ]
  },
  {
   "cell_type": "code",
   "execution_count": null,
   "id": "dfb22811",
   "metadata": {},
   "outputs": [],
   "source": [
    "# extracting data by time index for the first channel\n",
    "sampling_freq = eeg[index].info['sfreq']\n",
    "start_stop_seconds = np.array([11, 12])\n",
    "start_sample, stop_sample = (start_stop_seconds * sampling_freq).astype(int)\n",
    "channel_index = 6\n",
    "eeg_selection = eeg[index][channel_index, start_sample:stop_sample]\n",
    "print(eeg_selection)"
   ]
  },
  {
   "cell_type": "code",
   "execution_count": null,
   "id": "f79452b1",
   "metadata": {},
   "outputs": [],
   "source": [
    "x = eeg_selection[1]\n",
    "y = eeg_selection[0].T\n",
    "plt.plot(x, y)"
   ]
  },
  {
   "cell_type": "code",
   "execution_count": null,
   "id": "20f8c0ad",
   "metadata": {},
   "outputs": [],
   "source": [
    "eeg[index].ch_names"
   ]
  },
  {
   "cell_type": "code",
   "execution_count": null,
   "id": "1dccffb5",
   "metadata": {},
   "outputs": [],
   "source": [
    "# extract different channels, create dual axis + widget\n",
    "channel_names = ['Cz', 'Pz']\n",
    "two_ch = eeg[index][channel_names, start_sample:stop_sample]\n",
    "# y_offset = np.array([5e-20,0])  \n",
    "x = two_ch[1]\n",
    "y = two_ch[0].T # + y_offset\n",
    "lines = plt.plot(x, y)\n",
    "plt.legend(lines, channel_names)\n"
   ]
  },
  {
   "cell_type": "markdown",
   "id": "77f6b6e5",
   "metadata": {},
   "source": [
    "# Events"
   ]
  },
  {
   "cell_type": "markdown",
   "id": "edebd91d",
   "metadata": {},
   "source": [
    "The event markers are in a seperate .txt file for each child in a separate folder. Run the code below to store all event files in one folder. "
   ]
  },
  {
   "cell_type": "code",
   "execution_count": null,
   "id": "cc080abe",
   "metadata": {},
   "outputs": [],
   "source": [
    "## SAVE Event Markers to external .txt files:\n",
    "for i in range(len(eeg)):\n",
    "      np.savetxt((path_eeg)+\"./event_markers\\\\\" + eeg_filenames[i] + \".txt\", mne.find_events(eeg[i]), fmt = '%i')\n",
    "      #clear_output(wait=True)"
   ]
  },
  {
   "cell_type": "code",
   "execution_count": null,
   "id": "b1c7474e",
   "metadata": {},
   "outputs": [],
   "source": [
    "#checking if count eeg files == count event files\n",
    "\n",
    "initial_count = 0\n",
    "dir = path_event\n",
    "for path in os.listdir(dir):\n",
    "    if os.path.isfile(os.path.join(dir, path)):\n",
    "        initial_count += 1\n",
    "print(initial_count) # event files\n",
    "\n",
    "print(len(eeg_filenames)) # eeg files"
   ]
  },
  {
   "cell_type": "code",
   "execution_count": null,
   "id": "f6e86fbd",
   "metadata": {},
   "outputs": [],
   "source": [
    "events = [] \n",
    "events_12 = []\n",
    "for i in range(len(eeg)):\n",
    "    events.append(np.loadtxt(path_event+ \"\\\\\" + eeg_filenames[i] + \".txt\", dtype = int))        \n",
    "print(len(events), \"Event Marker files loaded\")\n",
    "\n",
    "eventinfo = True\n",
    "participantindex = 5\n",
    "eventindex = 500\n",
    "if(eventinfo):\n",
    "    event_time = events[participantindex][eventindex][0]\n",
    "    event_ID = events[participantindex][eventindex][2]    \n",
    "    print(\"\\nParticipant\", participantindex,\"heard event ID:\", event_ID, \n",
    "          \"after\", event_time/eeg[participantindex].info['sfreq'], 'seconds', \n",
    "          'as the ' + str(eventindex) + \"'th event\")    \n",
    "    print(\"\\nEvent ID:\", event_ID, \"\\nCondition:\", codes_overview[\"condition\"][event_ID], \"\\nStimulus Type:\",\n",
    "         codes_overview[\"stimulusType\"][event_ID], \"\\nToken nr:\", codes_overview[\"nrOfToken\"][event_ID],\"\\n\") "
   ]
  },
  {
   "cell_type": "markdown",
   "id": "f7345e37",
   "metadata": {},
   "source": [
    "Creating an event dictionary to map event IDs to trial descriptors"
   ]
  },
  {
   "cell_type": "code",
   "execution_count": null,
   "id": "66cd9862",
   "metadata": {},
   "outputs": [],
   "source": [
    "# M = Multiple / S = Single / T = Tokens            F = First / S = Standard / D = Deviant    \n",
    "event_dict = {'GiepMT_FS': 1, 'GiepMT_S': 2, 'GiepMT_D': 3,'GiepST_FS': 4, 'GiepST_S': 5, 'GiepST_D': 6,\n",
    "             'GopMT_FS': 7, 'GopMT_S': 8, 'GopMT_D': 9, 'GopST_FS': 10, 'GopST_S': 11, 'GopST_D': 12}"
   ]
  },
  {
   "cell_type": "markdown",
   "id": "0fd08ae5",
   "metadata": {},
   "source": [
    "# Artifacts"
   ]
  },
  {
   "cell_type": "code",
   "execution_count": null,
   "id": "60ad6c55",
   "metadata": {},
   "outputs": [],
   "source": [
    "ssp_projectors = eeg[index].info['projs']\n",
    "eeg[index].del_proj()"
   ]
  },
  {
   "cell_type": "code",
   "execution_count": null,
   "id": "87ab6add",
   "metadata": {},
   "outputs": [],
   "source": [
    "mag_channels = mne.pick_types(eeg[index].info, meg=False, eeg=True, stim=False, eog=False)\n",
    "print(len(mag_channels))\n",
    "eeg[index].plot(duration=30, order=mag_channels, n_channels=len(mag_channels),\n",
    "               )#remove_dc=False)"
   ]
  },
  {
   "cell_type": "code",
   "execution_count": null,
   "id": "c204afec",
   "metadata": {},
   "outputs": [],
   "source": [
    "fig = eeg[index].plot_psd(tmax=np.inf, fmax=250, average=True)"
   ]
  },
  {
   "cell_type": "markdown",
   "id": "fe2cbcad",
   "metadata": {},
   "source": [
    "# Filtering"
   ]
  },
  {
   "cell_type": "markdown",
   "id": "c31392e9",
   "metadata": {},
   "source": [
    "In order to filter eeg data, the data needs to be filtered, substract baseline, bad channels should be removed and reject artefacts. "
   ]
  },
  {
   "cell_type": "code",
   "execution_count": null,
   "id": "9cf8e2ae",
   "metadata": {},
   "outputs": [],
   "source": [
    "# check and remove bad channels in all files\n",
    "def removebadchannel(eeg):\n",
    "    for i in eeg:\n",
    "        if len(eeg[index].info['bads']) != 0:\n",
    "            eeg[index] = mne.pick_types(eeg[index].info, meg=False, eeg=True, exclude='bads')\n",
    "        "
   ]
  },
  {
   "cell_type": "code",
   "execution_count": null,
   "id": "9e402504",
   "metadata": {},
   "outputs": [],
   "source": [
    "# use helper functions for bandpass filter\n",
    "lowpass = widgets.IntText(\n",
    "    step=0.1,\n",
    "    description='lowpass:',\n",
    "    disabled=False\n",
    ")\n",
    "\n",
    "\n",
    "highpass = widgets.Text(\n",
    "    step=0.1,\n",
    "    description='highpass:',\n",
    "    disabled=False\n",
    ")\n",
    "\n",
    "widgets.VBox([lowpass,highpass])\n"
   ]
  },
  {
   "cell_type": "code",
   "execution_count": null,
   "id": "f9afacce",
   "metadata": {},
   "outputs": [],
   "source": [
    "# define lowpass and highpass till widgets type are fixed\n",
    "lowpass = 1\n",
    "highpass = 40\n",
    "\n",
    "for i in eeg: eeg[index] = hf.band_pass_filter(eeg[index], lowpass, highpass)"
   ]
  },
  {
   "cell_type": "code",
   "execution_count": null,
   "id": "1c502a7d",
   "metadata": {},
   "outputs": [],
   "source": [
    "# plotting filter\n",
    "filter_params = mne.filter.create_filter(eeg[index].get_data(), eeg[index].info['sfreq'],\n",
    "                                         l_freq=lowpass, h_freq=highpass)\n",
    "mne.viz.plot_filter(filter_params, eeg[index].info['sfreq'], flim=(0.01, 5))"
   ]
  },
  {
   "cell_type": "code",
   "execution_count": null,
   "id": "23f53fb7",
   "metadata": {
    "scrolled": true
   },
   "outputs": [],
   "source": [
    "# create notch filter\n",
    "eeg_picks = mne.pick_types(eeg[index].info, eeg=True)\n",
    "freqs = (60, 120, 180, 240)\n",
    "\n",
    "for i in eeg: eeg[index] = eeg[index].notch_filter(freqs=freqs, picks=eeg_picks)\n",
    "\n",
    "\n"
   ]
  },
  {
   "cell_type": "markdown",
   "id": "4f65fa69",
   "metadata": {},
   "source": [
    "# ERP substraction"
   ]
  },
  {
   "cell_type": "code",
   "execution_count": null,
   "id": "7ef99050",
   "metadata": {},
   "outputs": [],
   "source": [
    "epochs = mne.Epochs(eeg[index], events, tmin=-0.3, tmax=0.7)"
   ]
  },
  {
   "cell_type": "code",
   "execution_count": null,
   "id": "25a7cec6",
   "metadata": {},
   "outputs": [],
   "source": []
  }
 ],
 "metadata": {
  "kernelspec": {
   "display_name": "Python 3 (ipykernel)",
   "language": "python",
   "name": "python3"
  },
  "language_info": {
   "codemirror_mode": {
    "name": "ipython",
    "version": 3
   },
   "file_extension": ".py",
   "mimetype": "text/x-python",
   "name": "python",
   "nbconvert_exporter": "python",
   "pygments_lexer": "ipython3",
   "version": "3.10.4"
  }
 },
 "nbformat": 4,
 "nbformat_minor": 5
}
