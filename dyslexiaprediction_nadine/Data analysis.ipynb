{
 "cells": [
  {
   "cell_type": "markdown",
   "metadata": {},
   "source": [
    "# Data analysis"
   ]
  },
  {
   "cell_type": "markdown",
   "metadata": {},
   "source": [
    "- Connect epoch data with metadata\n",
    "- Write function to analyse difference between risk/no risk, cdi score and parents dyslexia\n",
    "- ..."
   ]
  },
  {
   "cell_type": "code",
   "execution_count": null,
   "metadata": {},
   "outputs": [],
   "source": [
    "evokeds = dict()\n",
    "query = 'NumberOfLetters == {}'\n",
    "for n_letters in epochs.metadata['NumberOfLetters'].unique():\n",
    "    evokeds[str(n_letters)] = epochs[query.format(n_letters)].average()\n",
    "\n",
    "mne.viz.plot_compare_evokeds(evokeds, cmap=('word length', 'viridis'),\n",
    "                             picks='Pz')"
   ]
  }
 ],
 "metadata": {
  "kernelspec": {
   "display_name": "Python 3",
   "language": "python",
   "name": "python3"
  },
  "language_info": {
   "codemirror_mode": {
    "name": "ipython",
    "version": 3
   },
   "file_extension": ".py",
   "mimetype": "text/x-python",
   "name": "python",
   "nbconvert_exporter": "python",
   "pygments_lexer": "ipython3",
   "version": "3.8.5"
  }
 },
 "nbformat": 4,
 "nbformat_minor": 4
}
