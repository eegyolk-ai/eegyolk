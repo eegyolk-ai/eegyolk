{
 "cells": [
  {
   "cell_type": "markdown",
   "metadata": {},
   "source": [
    "# EEG preprocessing "
   ]
  },
  {
   "cell_type": "markdown",
   "metadata": {},
   "source": [
    "In this notebook: \n",
    "- Necessary imports\n",
    "- Data loader for events, eeg and meta data\n",
    "- Filtering algorithm\n",
    "- EEG raw to epochs\n",
    "- saving filtered data to `metadata.csv`\n",
    "\n",
    "Preprocessing steps: \n",
    "+ Prepare EEG (1. Subtract reference (mastoids), 2. Detrend, 3. Filter, 4. Remove bad channels)\n",
    "+ Segment EEG into standard and deviant epochs (ERPs) (1. subtract baseline, 2. Reject artefacts, 3. Average (for each marker/subject/channel separately))\n",
    "+ Calculate Mismatch response (deviant - standard for a single subject) (check differences between channels and subjects)"
   ]
  },
  {
   "cell_type": "markdown",
   "metadata": {},
   "source": [
    "## Imports"
   ]
  },
  {
   "cell_type": "markdown",
   "metadata": {},
   "source": [
    "The data will be processed using the mne library. Also there are libraries made in eegyolk in order to load the metadata, eeg data and the event markers. Those libraries need to be imported"
   ]
  },
  {
   "cell_type": "code",
   "execution_count": 1,
   "metadata": {},
   "outputs": [],
   "source": [
    "import mne      # toolbox for analyzing and visualizing EEG data\n",
    "import os       # using operating system dependent functionality (folders)\n",
    "import pandas as pd # data analysis and manipulation\n",
    "import ipywidgets as widgets\n",
    "from IPython.display import display\n",
    "import matplotlib.pyplot as plt\n",
    "import json\n",
    "\n",
    "import eegyolk\n",
    "import eegyolk.helper_functions as hf # library useful for eeg and erp data cleaning\n",
    "import eegyolk.initialization_functions #library to import data\n",
    "import eegyolk.epod_helper\n"
   ]
  },
  {
   "cell_type": "markdown",
   "metadata": {},
   "source": [
    "## Load metadata and eeg files"
   ]
  },
  {
   "cell_type": "markdown",
   "metadata": {},
   "source": [
    "First the different pathways for the different datasets need to be defined. There are three pathways: eeg, metadata and events. The files can be loaded using the initialization_functions library. All event markers needs to be saved in a seperate folder. If not saved already, the event markers will be saved using the initialization_function library. The data must be saved in a separate folder called \"epod_data_not_pushed\" in the ePodium repository. "
   ]
  },
  {
   "cell_type": "code",
   "execution_count": 27,
   "metadata": {},
   "outputs": [
    {
     "name": "stdout",
     "output_type": "stream",
     "text": [
      "../../volume-ceph/ePodium_projectfolder/dataset\n",
      "../../volume-ceph/ePodium_projectfolder/metadata\n",
      "../../volume-ceph/ePodium_projectfolder/events\n",
      "../../volume-ceph/nadine_storage/processed_epochs\n"
     ]
    }
   ],
   "source": [
    "with open(\"config_workspace.json\") as jsonFile:\n",
    "    jsonObject = json.load(jsonFile)\n",
    "    jsonFile.close()\n",
    "\n",
    "data_path = jsonObject['root']\n",
    "path_eeg = jsonObject['dataset']\n",
    "path_metadata = jsonObject['metadata']\n",
    "path_eventmarkers = jsonObject['events']\n",
    "path_epochs = jsonObject['preprocessed']\n",
    "\n",
    "print(path_eeg)\n",
    "print(path_metadata)\n",
    "print(path_eventmarkers)\n",
    "print(path_epochs)"
   ]
  },
  {
   "cell_type": "code",
   "execution_count": 9,
   "metadata": {},
   "outputs": [],
   "source": [
    "# load metadata\n",
    "files_metadata = [\"children.txt\", \"cdi.txt\", \"parents.txt\", \"CODES_overview.txt\"]  \n",
    "children, cdi, parents, codes = eegyolk.initialization_functions.i_load_metadata(path_metadata, files_metadata)"
   ]
  },
  {
   "cell_type": "code",
   "execution_count": 12,
   "metadata": {
    "tags": []
   },
   "outputs": [
    {
     "ename": "TypeError",
     "evalue": "load_dataset() got an unexpected keyword argument 'verbose'",
     "output_type": "error",
     "traceback": [
      "\u001b[0;31m---------------------------------------------------------------------------\u001b[0m",
      "\u001b[0;31mTypeError\u001b[0m                                 Traceback (most recent call last)",
      "Input \u001b[0;32mIn [12]\u001b[0m, in \u001b[0;36m<cell line: 2>\u001b[0;34m()\u001b[0m\n\u001b[1;32m      1\u001b[0m \u001b[38;5;66;03m# load eeg\u001b[39;00m\n\u001b[0;32m----> 2\u001b[0m eeg, eeg_filename \u001b[38;5;241m=\u001b[39m  \u001b[43meegyolk\u001b[49m\u001b[38;5;241;43m.\u001b[39;49m\u001b[43minitialization_functions\u001b[49m\u001b[38;5;241;43m.\u001b[39;49m\u001b[43mload_dataset\u001b[49m\u001b[43m(\u001b[49m\u001b[43mpath_eeg\u001b[49m\u001b[43m,\u001b[49m\u001b[43m \u001b[49m\u001b[43mpreload\u001b[49m\u001b[38;5;241;43m=\u001b[39;49m\u001b[38;5;28;43;01mFalse\u001b[39;49;00m\u001b[43m,\u001b[49m\u001b[43m \u001b[49m\u001b[43mverbose\u001b[49m\u001b[38;5;241;43m=\u001b[39;49m\u001b[38;5;28;43;01mTrue\u001b[39;49;00m\u001b[43m)\u001b[49m\n",
      "\u001b[0;31mTypeError\u001b[0m: load_dataset() got an unexpected keyword argument 'verbose'"
     ]
    }
   ],
   "source": [
    "# load eeg\n",
    "eeg, eeg_filename =  eegyolk.initialization_functions.load_dataset(path_eeg, preload=False) # preload must be set to True once on the cloud"
   ]
  },
  {
   "cell_type": "code",
   "execution_count": 11,
   "metadata": {},
   "outputs": [
    {
     "name": "stdout",
     "output_type": "stream",
     "text": [
      "248 Event Marker files loaded\n"
     ]
    }
   ],
   "source": [
    "# load events \n",
    "events_files = os.listdir(path_eventmarkers)\n",
    "if len(events_files) == 0 or path_eventmarkers == False: # check if event markers are saved in a seperate folder\n",
    "    eegyolk.initialization_functions.save_event_markers(path_eventmarkers, eeg, eeg_filename) # save event markers\n",
    "\n",
    "event_markers = eegyolk.initialization_functions.load_events(path_eventmarkers, eeg_filename) # load event markers\n",
    "event_markers_simplified = eegyolk.epod_helper.group_events_12(event_markers) # simplify events"
   ]
  },
  {
   "cell_type": "markdown",
   "metadata": {},
   "source": [
    "## Filtering raw EEG "
   ]
  },
  {
   "cell_type": "markdown",
   "metadata": {},
   "source": [
    "### Set filter parameters"
   ]
  },
  {
   "cell_type": "markdown",
   "metadata": {},
   "source": [
    "Below you can define the frequencies for the bandpass filter. The lowpass can not be below 0 and the highpass can not be higher then 100. Most common bandpass filter is filtering between 0.1 and 30. "
   ]
  },
  {
   "cell_type": "code",
   "execution_count": 13,
   "metadata": {
    "scrolled": true
   },
   "outputs": [
    {
     "data": {
      "application/vnd.jupyter.widget-view+json": {
       "model_id": "45ac940655f74fc7b45475a43dffc811",
       "version_major": 2,
       "version_minor": 0
      },
      "text/plain": [
       "VBox(children=(BoundedFloatText(value=0.1, description='lowpass:', step=0.1), BoundedFloatText(value=40.0, des…"
      ]
     },
     "metadata": {},
     "output_type": "display_data"
    }
   ],
   "source": [
    "lowpass = widgets.BoundedFloatText(\n",
    "    value=0.1,\n",
    "    min=0,\n",
    "    max=100,\n",
    "    step=0.1,\n",
    "    description='lowpass:',\n",
    "    disabled=False\n",
    ")\n",
    "\n",
    "highpass = widgets.BoundedFloatText(\n",
    "    value=40,\n",
    "    min=0,\n",
    "    max=100,\n",
    "    step=0.1,\n",
    "    description='highpass:',\n",
    "    disabled=False\n",
    ")\n",
    "\n",
    "widgets.VBox([lowpass,highpass])\n"
   ]
  },
  {
   "cell_type": "code",
   "execution_count": 14,
   "metadata": {},
   "outputs": [],
   "source": [
    "# change type to integer\n",
    "lowpass = float(lowpass.value)\n",
    "highpass = float(highpass.value)"
   ]
  },
  {
   "cell_type": "markdown",
   "metadata": {},
   "source": [
    "The number of freqs can vary and be adjusted by changing `n`. The used frequency for this analysis is `[60, 120, 180, 240]`."
   ]
  },
  {
   "cell_type": "code",
   "execution_count": 15,
   "metadata": {},
   "outputs": [
    {
     "data": {
      "application/vnd.jupyter.widget-view+json": {
       "model_id": "6e183c9b95de41f09774cfb134f4907f",
       "version_major": 2,
       "version_minor": 0
      },
      "text/plain": [
       "VBox(children=(BoundedIntText(value=60, description='freq[0]', max=300), BoundedIntText(value=120, description…"
      ]
     },
     "metadata": {},
     "output_type": "display_data"
    }
   ],
   "source": [
    "n = 4\n",
    "freq = list(widgets.BoundedIntText(\n",
    "    description='freq[{}]'.format(i),\n",
    "    min=0,\n",
    "    max=300,\n",
    "    step=1,\n",
    "    value=(i+1)*60)\n",
    "    for i in range(n))\n",
    "\n",
    "widgets.VBox(children=freq)"
   ]
  },
  {
   "cell_type": "code",
   "execution_count": 16,
   "metadata": {},
   "outputs": [],
   "source": [
    "freqs= [f.value for f in freq]"
   ]
  },
  {
   "cell_type": "markdown",
   "metadata": {},
   "source": [
    "Epochs are created with joining the eeg data with a specific event.  mne.Epochs automaticaly create a baseline correction and artefact rejection. "
   ]
  },
  {
   "cell_type": "code",
   "execution_count": 17,
   "metadata": {},
   "outputs": [
    {
     "data": {
      "text/plain": [
       "{'GiepMT_FS': 1,\n",
       " 'GiepMT_S': 2,\n",
       " 'GiepMT_D': 3,\n",
       " 'GiepST_FS': 4,\n",
       " 'GiepST_S': 5,\n",
       " 'GiepST_D': 6,\n",
       " 'GopMT_FS': 7,\n",
       " 'GopMT_S': 8,\n",
       " 'GopMT_D': 9,\n",
       " 'GopST_FS': 10,\n",
       " 'GopST_S': 11,\n",
       " 'GopST_D': 12}"
      ]
     },
     "execution_count": 17,
     "metadata": {},
     "output_type": "execute_result"
    }
   ],
   "source": [
    "event_dictionary = eegyolk.epod_helper.event_dictionary\n",
    "event_dictionary"
   ]
  },
  {
   "cell_type": "markdown",
   "metadata": {},
   "source": [
    "In order to create the epochs, the time before `tmin` and after an event `tmax` needs to be defined. The default values are set to -0.2 and 0.8. `tmin` and `tmax` are the start and stop time relative to each event."
   ]
  },
  {
   "cell_type": "code",
   "execution_count": 18,
   "metadata": {},
   "outputs": [
    {
     "data": {
      "application/vnd.jupyter.widget-view+json": {
       "model_id": "275b95d7c55b4d70a2d14a18f54ca8f0",
       "version_major": 2,
       "version_minor": 0
      },
      "text/plain": [
       "VBox(children=(BoundedFloatText(value=-0.2, description='tmin:', max=1.0, min=-1.0, step=0.1), BoundedFloatTex…"
      ]
     },
     "metadata": {},
     "output_type": "display_data"
    }
   ],
   "source": [
    "tmin = widgets.BoundedFloatText(\n",
    "    value=-0.2,\n",
    "    min=-1,\n",
    "    max=1,\n",
    "    step=0.1,\n",
    "    description='tmin:',\n",
    "    disabled=False\n",
    ")\n",
    "\n",
    "tmax = widgets.BoundedFloatText(\n",
    "    value=0.8,\n",
    "    min=-1,\n",
    "    max=1,\n",
    "    step=0.1,\n",
    "    description='tmax:',\n",
    "    disabled=False\n",
    ")\n",
    "\n",
    "widgets.VBox([tmin,tmax])"
   ]
  },
  {
   "cell_type": "code",
   "execution_count": 19,
   "metadata": {},
   "outputs": [],
   "source": [
    "tmin = float(tmin.value)\n",
    "tmax = float(tmax.value)"
   ]
  },
  {
   "cell_type": "markdown",
   "metadata": {},
   "source": [
    "### Filter generator"
   ]
  },
  {
   "cell_type": "markdown",
   "metadata": {},
   "source": [
    "This filter contains a bandpass filter, with as input the parameters `lowpass` and `highpass`. It also contains a notch filter to filter out power line noise and needs as input `freqs` for frequencies to apply the notch filter on. The next input is `mastoid_channels`, to subtract the reference from the raw eeg data. Finally, channels from the eeg can be dropped by adjusting the `drop_ch`. "
   ]
  },
  {
   "cell_type": "markdown",
   "metadata": {},
   "source": [
    "For a selected event, an interval is created with a time before and after event. This represents an epoch. The function automatically performs a baseline correction. "
   ]
  },
  {
   "cell_type": "code",
   "execution_count": 15,
   "metadata": {},
   "outputs": [],
   "source": [
    "mastoid_channels = ['EXG1', 'EXG2']\n",
    "drop_ch = ['EXG1', 'EXG2','EXG3', 'EXG4', 'EXG5', 'EXG6', 'EXG7', 'EXG8', 'Status']\n",
    "\n",
    "def filter_raweeg_gen(eeg, lowpass, highpass, freqs, mastoid_channels, drop_ch):\n",
    "    for i in range(len(eeg)): \n",
    "        processed_file = os.path.join(epoch_folder, eeg_filename[i]+\"_epo.fif\")\n",
    "        if not os.path.exists(processed_file):\n",
    "            yield hf.filter_eeg_raw(eeg[i].load_data(), lowpass, highpass, freqs, mastoid_channels, drop_ch)\n",
    "        else: \n",
    "            yield print(f\"File {processed_file} already processed \\n\", end = '')\n",
    "            "
   ]
  },
  {
   "cell_type": "code",
   "execution_count": 16,
   "metadata": {
    "tags": []
   },
   "outputs": [
    {
     "name": "stdout",
     "output_type": "stream",
     "text": [
      "File F:/Stage/ePODIUM/Data/ePodium_projectfolder\\epochs\\101a_epo.fif already processed \n",
      "File F:/Stage/ePODIUM/Data/ePodium_projectfolder\\epochs\\101b_epo.fif already processed \n",
      "File F:/Stage/ePODIUM/Data/ePodium_projectfolder\\epochs\\102a_epo.fif already processed \n",
      "File F:/Stage/ePODIUM/Data/ePodium_projectfolder\\epochs\\102b_epo.fif already processed \n",
      "File F:/Stage/ePODIUM/Data/ePodium_projectfolder\\epochs\\103a_epo.fif already processed \n",
      "File F:/Stage/ePODIUM/Data/ePodium_projectfolder\\epochs\\103b_epo.fif already processed \n",
      "File F:/Stage/ePODIUM/Data/ePodium_projectfolder\\epochs\\104a_epo.fif already processed \n",
      "File F:/Stage/ePODIUM/Data/ePodium_projectfolder\\epochs\\104b_epo.fif already processed \n",
      "File F:/Stage/ePODIUM/Data/ePodium_projectfolder\\epochs\\105a_epo.fif already processed \n",
      "File F:/Stage/ePODIUM/Data/ePodium_projectfolder\\epochs\\105b_epo.fif already processed \n",
      "File F:/Stage/ePODIUM/Data/ePodium_projectfolder\\epochs\\106a_epo.fif already processed \n",
      "File F:/Stage/ePODIUM/Data/ePodium_projectfolder\\epochs\\106b_epo.fif already processed \n",
      "File F:/Stage/ePODIUM/Data/ePodium_projectfolder\\epochs\\107a_epo.fif already processed \n",
      "File F:/Stage/ePODIUM/Data/ePodium_projectfolder\\epochs\\107b (deel 1+2)_epo.fif already processed \n",
      "File F:/Stage/ePODIUM/Data/ePodium_projectfolder\\epochs\\107b (deel 3+4)_epo.fif already processed \n",
      "File F:/Stage/ePODIUM/Data/ePodium_projectfolder\\epochs\\108a_epo.fif already processed \n",
      "File F:/Stage/ePODIUM/Data/ePodium_projectfolder\\epochs\\109a_epo.fif already processed \n",
      "File F:/Stage/ePODIUM/Data/ePodium_projectfolder\\epochs\\109b_epo.fif already processed \n",
      "File F:/Stage/ePODIUM/Data/ePodium_projectfolder\\epochs\\110a_epo.fif already processed \n",
      "File F:/Stage/ePODIUM/Data/ePodium_projectfolder\\epochs\\110b_epo.fif already processed \n",
      "File F:/Stage/ePODIUM/Data/ePodium_projectfolder\\epochs\\111a_epo.fif already processed \n",
      "File F:/Stage/ePODIUM/Data/ePodium_projectfolder\\epochs\\111b_epo.fif already processed \n",
      "File F:/Stage/ePODIUM/Data/ePodium_projectfolder\\epochs\\112a_epo.fif already processed \n",
      "File F:/Stage/ePODIUM/Data/ePodium_projectfolder\\epochs\\112b_epo.fif already processed \n",
      "File F:/Stage/ePODIUM/Data/ePodium_projectfolder\\epochs\\113a_epo.fif already processed \n",
      "File F:/Stage/ePODIUM/Data/ePodium_projectfolder\\epochs\\113b_epo.fif already processed \n",
      "File F:/Stage/ePODIUM/Data/ePodium_projectfolder\\epochs\\114a_epo.fif already processed \n",
      "File F:/Stage/ePODIUM/Data/ePodium_projectfolder\\epochs\\114b_epo.fif already processed \n",
      "File F:/Stage/ePODIUM/Data/ePodium_projectfolder\\epochs\\115a_epo.fif already processed \n",
      "File F:/Stage/ePODIUM/Data/ePodium_projectfolder\\epochs\\115b_epo.fif already processed \n",
      "File F:/Stage/ePODIUM/Data/ePodium_projectfolder\\epochs\\116a_epo.fif already processed \n",
      "File F:/Stage/ePODIUM/Data/ePodium_projectfolder\\epochs\\116b_epo.fif already processed \n",
      "File F:/Stage/ePODIUM/Data/ePodium_projectfolder\\epochs\\117a_epo.fif already processed \n",
      "File F:/Stage/ePODIUM/Data/ePodium_projectfolder\\epochs\\117b_epo.fif already processed \n",
      "File F:/Stage/ePODIUM/Data/ePodium_projectfolder\\epochs\\118a_epo.fif already processed \n",
      "File F:/Stage/ePODIUM/Data/ePodium_projectfolder\\epochs\\118b_epo.fif already processed \n",
      "File F:/Stage/ePODIUM/Data/ePodium_projectfolder\\epochs\\119a_epo.fif already processed \n",
      "File F:/Stage/ePODIUM/Data/ePodium_projectfolder\\epochs\\119b_epo.fif already processed \n",
      "File F:/Stage/ePODIUM/Data/ePodium_projectfolder\\epochs\\120a_epo.fif already processed \n",
      "File F:/Stage/ePODIUM/Data/ePodium_projectfolder\\epochs\\120b_epo.fif already processed \n",
      "File F:/Stage/ePODIUM/Data/ePodium_projectfolder\\epochs\\121a_epo.fif already processed \n",
      "File F:/Stage/ePODIUM/Data/ePodium_projectfolder\\epochs\\121b(1)_epo.fif already processed \n",
      "File F:/Stage/ePODIUM/Data/ePodium_projectfolder\\epochs\\121b(2)_epo.fif already processed \n",
      "File F:/Stage/ePODIUM/Data/ePodium_projectfolder\\epochs\\122b_epo.fif already processed \n",
      "File F:/Stage/ePODIUM/Data/ePodium_projectfolder\\epochs\\123a_epo.fif already processed \n",
      "File F:/Stage/ePODIUM/Data/ePodium_projectfolder\\epochs\\123b_epo.fif already processed \n",
      "File F:/Stage/ePODIUM/Data/ePodium_projectfolder\\epochs\\124a_epo.fif already processed \n",
      "File F:/Stage/ePODIUM/Data/ePodium_projectfolder\\epochs\\125a_epo.fif already processed \n",
      "File F:/Stage/ePODIUM/Data/ePodium_projectfolder\\epochs\\125b_epo.fif already processed \n",
      "File F:/Stage/ePODIUM/Data/ePodium_projectfolder\\epochs\\126a_epo.fif already processed \n",
      "File F:/Stage/ePODIUM/Data/ePodium_projectfolder\\epochs\\126b_epo.fif already processed \n",
      "File F:/Stage/ePODIUM/Data/ePodium_projectfolder\\epochs\\127a_epo.fif already processed \n",
      "File F:/Stage/ePODIUM/Data/ePodium_projectfolder\\epochs\\127b_epo.fif already processed \n",
      "File F:/Stage/ePODIUM/Data/ePodium_projectfolder\\epochs\\128a_epo.fif already processed \n",
      "File F:/Stage/ePODIUM/Data/ePodium_projectfolder\\epochs\\128b_epo.fif already processed \n",
      "File F:/Stage/ePODIUM/Data/ePodium_projectfolder\\epochs\\129a_epo.fif already processed \n",
      "File F:/Stage/ePODIUM/Data/ePodium_projectfolder\\epochs\\129b_epo.fif already processed \n",
      "File F:/Stage/ePODIUM/Data/ePodium_projectfolder\\epochs\\130a_epo.fif already processed \n",
      "File F:/Stage/ePODIUM/Data/ePodium_projectfolder\\epochs\\130b_epo.fif already processed \n",
      "File F:/Stage/ePODIUM/Data/ePodium_projectfolder\\epochs\\131a_epo.fif already processed \n",
      "File F:/Stage/ePODIUM/Data/ePodium_projectfolder\\epochs\\131b_epo.fif already processed \n",
      "File F:/Stage/ePODIUM/Data/ePodium_projectfolder\\epochs\\132a_epo.fif already processed \n",
      "File F:/Stage/ePODIUM/Data/ePodium_projectfolder\\epochs\\132b_epo.fif already processed \n",
      "File F:/Stage/ePODIUM/Data/ePodium_projectfolder\\epochs\\133a_epo.fif already processed \n",
      "File F:/Stage/ePODIUM/Data/ePodium_projectfolder\\epochs\\133b_epo.fif already processed \n",
      "File F:/Stage/ePODIUM/Data/ePodium_projectfolder\\epochs\\134a_epo.fif already processed \n",
      "File F:/Stage/ePODIUM/Data/ePodium_projectfolder\\epochs\\134b_epo.fif already processed \n",
      "File F:/Stage/ePODIUM/Data/ePodium_projectfolder\\epochs\\135a_epo.fif already processed \n",
      "File F:/Stage/ePODIUM/Data/ePodium_projectfolder\\epochs\\135b_epo.fif already processed \n",
      "File F:/Stage/ePODIUM/Data/ePodium_projectfolder\\epochs\\136a_epo.fif already processed \n",
      "File F:/Stage/ePODIUM/Data/ePodium_projectfolder\\epochs\\136b_epo.fif already processed \n",
      "File F:/Stage/ePODIUM/Data/ePodium_projectfolder\\epochs\\137a_epo.fif already processed \n",
      "File F:/Stage/ePODIUM/Data/ePodium_projectfolder\\epochs\\137b_epo.fif already processed \n",
      "File F:/Stage/ePODIUM/Data/ePodium_projectfolder\\epochs\\138a_epo.fif already processed \n",
      "File F:/Stage/ePODIUM/Data/ePodium_projectfolder\\epochs\\138b_epo.fif already processed \n",
      "File F:/Stage/ePODIUM/Data/ePodium_projectfolder\\epochs\\139a_epo.fif already processed \n",
      "File F:/Stage/ePODIUM/Data/ePodium_projectfolder\\epochs\\139b_epo.fif already processed \n",
      "File F:/Stage/ePODIUM/Data/ePodium_projectfolder\\epochs\\140a_epo.fif already processed \n",
      "File F:/Stage/ePODIUM/Data/ePodium_projectfolder\\epochs\\140b_epo.fif already processed \n",
      "File F:/Stage/ePODIUM/Data/ePodium_projectfolder\\epochs\\141a_epo.fif already processed \n",
      "File F:/Stage/ePODIUM/Data/ePodium_projectfolder\\epochs\\142a_epo.fif already processed \n",
      "File F:/Stage/ePODIUM/Data/ePodium_projectfolder\\epochs\\142b_epo.fif already processed \n",
      "File F:/Stage/ePODIUM/Data/ePodium_projectfolder\\epochs\\143a_epo.fif already processed \n",
      "File F:/Stage/ePODIUM/Data/ePodium_projectfolder\\epochs\\143b_epo.fif already processed \n",
      "File F:/Stage/ePODIUM/Data/ePodium_projectfolder\\epochs\\144a_epo.fif already processed \n",
      "File F:/Stage/ePODIUM/Data/ePodium_projectfolder\\epochs\\144b_epo.fif already processed \n",
      "File F:/Stage/ePODIUM/Data/ePodium_projectfolder\\epochs\\145a_epo.fif already processed \n",
      "File F:/Stage/ePODIUM/Data/ePodium_projectfolder\\epochs\\145b_epo.fif already processed \n",
      "File F:/Stage/ePODIUM/Data/ePodium_projectfolder\\epochs\\146a_epo.fif already processed \n",
      "File F:/Stage/ePODIUM/Data/ePodium_projectfolder\\epochs\\146b_epo.fif already processed \n",
      "File F:/Stage/ePODIUM/Data/ePodium_projectfolder\\epochs\\147a_epo.fif already processed \n",
      "File F:/Stage/ePODIUM/Data/ePodium_projectfolder\\epochs\\148a_epo.fif already processed \n",
      "File F:/Stage/ePODIUM/Data/ePodium_projectfolder\\epochs\\148b_epo.fif already processed \n",
      "File F:/Stage/ePODIUM/Data/ePodium_projectfolder\\epochs\\149a_epo.fif already processed \n",
      "File F:/Stage/ePODIUM/Data/ePodium_projectfolder\\epochs\\149b_epo.fif already processed \n",
      "File F:/Stage/ePODIUM/Data/ePodium_projectfolder\\epochs\\150a_epo.fif already processed \n",
      "File F:/Stage/ePODIUM/Data/ePodium_projectfolder\\epochs\\150b_epo.fif already processed \n",
      "File F:/Stage/ePODIUM/Data/ePodium_projectfolder\\epochs\\151a_epo.fif already processed \n",
      "File F:/Stage/ePODIUM/Data/ePodium_projectfolder\\epochs\\151b_epo.fif already processed \n",
      "File F:/Stage/ePODIUM/Data/ePodium_projectfolder\\epochs\\152a_epo.fif already processed \n",
      "File F:/Stage/ePODIUM/Data/ePodium_projectfolder\\epochs\\152b_epo.fif already processed \n",
      "File F:/Stage/ePODIUM/Data/ePodium_projectfolder\\epochs\\153a_epo.fif already processed \n",
      "File F:/Stage/ePODIUM/Data/ePodium_projectfolder\\epochs\\154a_epo.fif already processed \n",
      "File F:/Stage/ePODIUM/Data/ePodium_projectfolder\\epochs\\154b_epo.fif already processed \n",
      "File F:/Stage/ePODIUM/Data/ePodium_projectfolder\\epochs\\155a_epo.fif already processed \n",
      "File F:/Stage/ePODIUM/Data/ePodium_projectfolder\\epochs\\155b_epo.fif already processed \n",
      "File F:/Stage/ePODIUM/Data/ePodium_projectfolder\\epochs\\156a_epo.fif already processed \n",
      "File F:/Stage/ePODIUM/Data/ePodium_projectfolder\\epochs\\156b_epo.fif already processed \n",
      "File F:/Stage/ePODIUM/Data/ePodium_projectfolder\\epochs\\157a_epo.fif already processed \n",
      "File F:/Stage/ePODIUM/Data/ePodium_projectfolder\\epochs\\157b_epo.fif already processed \n",
      "File F:/Stage/ePODIUM/Data/ePodium_projectfolder\\epochs\\158a_epo.fif already processed \n",
      "File F:/Stage/ePODIUM/Data/ePodium_projectfolder\\epochs\\158b_epo.fif already processed \n",
      "File F:/Stage/ePODIUM/Data/ePodium_projectfolder\\epochs\\159a_epo.fif already processed \n",
      "File F:/Stage/ePODIUM/Data/ePodium_projectfolder\\epochs\\159b_epo.fif already processed \n",
      "File F:/Stage/ePODIUM/Data/ePodium_projectfolder\\epochs\\160a (2)_epo.fif already processed \n",
      "File F:/Stage/ePODIUM/Data/ePodium_projectfolder\\epochs\\160a_epo.fif already processed \n",
      "File F:/Stage/ePODIUM/Data/ePodium_projectfolder\\epochs\\160b_epo.fif already processed \n",
      "File F:/Stage/ePODIUM/Data/ePodium_projectfolder\\epochs\\161a_epo.fif already processed \n",
      "File F:/Stage/ePODIUM/Data/ePodium_projectfolder\\epochs\\161b_epo.fif already processed \n",
      "File F:/Stage/ePODIUM/Data/ePodium_projectfolder\\epochs\\162a_epo.fif already processed \n",
      "File F:/Stage/ePODIUM/Data/ePodium_projectfolder\\epochs\\162b_epo.fif already processed \n",
      "File F:/Stage/ePODIUM/Data/ePodium_projectfolder\\epochs\\163a_epo.fif already processed \n",
      "File F:/Stage/ePODIUM/Data/ePodium_projectfolder\\epochs\\163b_epo.fif already processed \n",
      "File F:/Stage/ePODIUM/Data/ePodium_projectfolder\\epochs\\164a_epo.fif already processed \n",
      "File F:/Stage/ePODIUM/Data/ePodium_projectfolder\\epochs\\164b_epo.fif already processed \n",
      "File F:/Stage/ePODIUM/Data/ePodium_projectfolder\\epochs\\165a_epo.fif already processed \n",
      "File F:/Stage/ePODIUM/Data/ePodium_projectfolder\\epochs\\165b_epo.fif already processed \n",
      "File F:/Stage/ePODIUM/Data/ePodium_projectfolder\\epochs\\166a_epo.fif already processed \n",
      "File F:/Stage/ePODIUM/Data/ePodium_projectfolder\\epochs\\166b_epo.fif already processed \n",
      "File F:/Stage/ePODIUM/Data/ePodium_projectfolder\\epochs\\167a_epo.fif already processed \n",
      "File F:/Stage/ePODIUM/Data/ePodium_projectfolder\\epochs\\168a_epo.fif already processed \n",
      "File F:/Stage/ePODIUM/Data/ePodium_projectfolder\\epochs\\168b_epo.fif already processed \n",
      "File F:/Stage/ePODIUM/Data/ePodium_projectfolder\\epochs\\169a_epo.fif already processed \n",
      "File F:/Stage/ePODIUM/Data/ePodium_projectfolder\\epochs\\169b_epo.fif already processed \n",
      "File F:/Stage/ePODIUM/Data/ePodium_projectfolder\\epochs\\170a_epo.fif already processed \n",
      "File F:/Stage/ePODIUM/Data/ePodium_projectfolder\\epochs\\170b_epo.fif already processed \n",
      "File F:/Stage/ePODIUM/Data/ePodium_projectfolder\\epochs\\171a_epo.fif already processed \n",
      "File F:/Stage/ePODIUM/Data/ePodium_projectfolder\\epochs\\171b_epo.fif already processed \n",
      "File F:/Stage/ePODIUM/Data/ePodium_projectfolder\\epochs\\172a_epo.fif already processed \n",
      "File F:/Stage/ePODIUM/Data/ePodium_projectfolder\\epochs\\172b_epo.fif already processed \n",
      "File F:/Stage/ePODIUM/Data/ePodium_projectfolder\\epochs\\173a_epo.fif already processed \n",
      "File F:/Stage/ePODIUM/Data/ePodium_projectfolder\\epochs\\173b_epo.fif already processed \n",
      "File F:/Stage/ePODIUM/Data/ePodium_projectfolder\\epochs\\174a_epo.fif already processed \n",
      "File F:/Stage/ePODIUM/Data/ePodium_projectfolder\\epochs\\174b_epo.fif already processed \n",
      "File F:/Stage/ePODIUM/Data/ePodium_projectfolder\\epochs\\213a_epo.fif already processed \n",
      "File F:/Stage/ePODIUM/Data/ePodium_projectfolder\\epochs\\214a_epo.fif already processed \n",
      "File F:/Stage/ePODIUM/Data/ePodium_projectfolder\\epochs\\215a_epo.fif already processed \n",
      "File F:/Stage/ePODIUM/Data/ePodium_projectfolder\\epochs\\216a_epo.fif already processed \n",
      "File F:/Stage/ePODIUM/Data/ePodium_projectfolder\\epochs\\217a_epo.fif already processed \n",
      "File F:/Stage/ePODIUM/Data/ePodium_projectfolder\\epochs\\218a_epo.fif already processed \n",
      "File F:/Stage/ePODIUM/Data/ePodium_projectfolder\\epochs\\219a_epo.fif already processed \n",
      "File F:/Stage/ePODIUM/Data/ePodium_projectfolder\\epochs\\220a_epo.fif already processed \n",
      "File F:/Stage/ePODIUM/Data/ePodium_projectfolder\\epochs\\175a_epo.fif already processed \n",
      "File F:/Stage/ePODIUM/Data/ePodium_projectfolder\\epochs\\175b_epo.fif already processed \n",
      "File F:/Stage/ePODIUM/Data/ePodium_projectfolder\\epochs\\176a_epo.fif already processed \n",
      "File F:/Stage/ePODIUM/Data/ePodium_projectfolder\\epochs\\176b_epo.fif already processed \n",
      "File F:/Stage/ePODIUM/Data/ePodium_projectfolder\\epochs\\177a_epo.fif already processed \n",
      "File F:/Stage/ePODIUM/Data/ePodium_projectfolder\\epochs\\177b_epo.fif already processed \n",
      "File F:/Stage/ePODIUM/Data/ePodium_projectfolder\\epochs\\178a_epo.fif already processed \n",
      "File F:/Stage/ePODIUM/Data/ePodium_projectfolder\\epochs\\178b_epo.fif already processed \n",
      "File F:/Stage/ePODIUM/Data/ePodium_projectfolder\\epochs\\179a_epo.fif already processed \n",
      "File F:/Stage/ePODIUM/Data/ePodium_projectfolder\\epochs\\179b_epo.fif already processed \n",
      "File F:/Stage/ePODIUM/Data/ePodium_projectfolder\\epochs\\180a_epo.fif already processed \n",
      "File F:/Stage/ePODIUM/Data/ePodium_projectfolder\\epochs\\180b_epo.fif already processed \n",
      "File F:/Stage/ePODIUM/Data/ePodium_projectfolder\\epochs\\181a_epo.fif already processed \n",
      "File F:/Stage/ePODIUM/Data/ePodium_projectfolder\\epochs\\181b_epo.fif already processed \n",
      "File F:/Stage/ePODIUM/Data/ePodium_projectfolder\\epochs\\182a_epo.fif already processed \n",
      "File F:/Stage/ePODIUM/Data/ePodium_projectfolder\\epochs\\182b_epo.fif already processed \n",
      "File F:/Stage/ePODIUM/Data/ePodium_projectfolder\\epochs\\183a_epo.fif already processed \n",
      "File F:/Stage/ePODIUM/Data/ePodium_projectfolder\\epochs\\183b_epo.fif already processed \n",
      "File F:/Stage/ePODIUM/Data/ePodium_projectfolder\\epochs\\184a_epo.fif already processed \n",
      "File F:/Stage/ePODIUM/Data/ePodium_projectfolder\\epochs\\184b_epo.fif already processed \n",
      "File F:/Stage/ePODIUM/Data/ePodium_projectfolder\\epochs\\185a_epo.fif already processed \n",
      "File F:/Stage/ePODIUM/Data/ePodium_projectfolder\\epochs\\185b_epo.fif already processed \n",
      "File F:/Stage/ePODIUM/Data/ePodium_projectfolder\\epochs\\186a_epo.fif already processed \n",
      "File F:/Stage/ePODIUM/Data/ePodium_projectfolder\\epochs\\186b_epo.fif already processed \n",
      "File F:/Stage/ePODIUM/Data/ePodium_projectfolder\\epochs\\187a_epo.fif already processed \n",
      "File F:/Stage/ePODIUM/Data/ePodium_projectfolder\\epochs\\188a_epo.fif already processed \n",
      "File F:/Stage/ePODIUM/Data/ePodium_projectfolder\\epochs\\188b_epo.fif already processed \n",
      "File F:/Stage/ePODIUM/Data/ePodium_projectfolder\\epochs\\189a_epo.fif already processed \n",
      "File F:/Stage/ePODIUM/Data/ePodium_projectfolder\\epochs\\189b_epo.fif already processed \n",
      "File F:/Stage/ePODIUM/Data/ePodium_projectfolder\\epochs\\190a_epo.fif already processed \n",
      "File F:/Stage/ePODIUM/Data/ePodium_projectfolder\\epochs\\190b_epo.fif already processed \n",
      "File F:/Stage/ePODIUM/Data/ePodium_projectfolder\\epochs\\191a_epo.fif already processed \n",
      "File F:/Stage/ePODIUM/Data/ePodium_projectfolder\\epochs\\191b_epo.fif already processed \n",
      "File F:/Stage/ePODIUM/Data/ePodium_projectfolder\\epochs\\192a_epo.fif already processed \n",
      "File F:/Stage/ePODIUM/Data/ePodium_projectfolder\\epochs\\192b_epo.fif already processed \n",
      "File F:/Stage/ePODIUM/Data/ePodium_projectfolder\\epochs\\193a_epo.fif already processed \n",
      "File F:/Stage/ePODIUM/Data/ePodium_projectfolder\\epochs\\193b_epo.fif already processed \n",
      "File F:/Stage/ePODIUM/Data/ePodium_projectfolder\\epochs\\194a_epo.fif already processed \n",
      "File F:/Stage/ePODIUM/Data/ePodium_projectfolder\\epochs\\194b_epo.fif already processed \n",
      "File F:/Stage/ePODIUM/Data/ePodium_projectfolder\\epochs\\195a_epo.fif already processed \n",
      "File F:/Stage/ePODIUM/Data/ePodium_projectfolder\\epochs\\211a_epo.fif already processed \n",
      "File F:/Stage/ePODIUM/Data/ePodium_projectfolder\\epochs\\212a_epo.fif already processed \n"
     ]
    }
   ],
   "source": [
    "filtered_eegs = filter_raweeg_gen(eeg, lowpass, highpass, freqs, mastoid_channels, drop_ch)\n",
    "epoch_folder = os.path.join(data_path, \"epochs\")\n",
    "\n",
    "if not os.path.exists(epoch_folder):\n",
    "        os.mkdir(epoch_folder)\n",
    "        \n",
    "for idx, single_eeg in enumerate(filtered_eegs):\n",
    "    processed_file = os.path.join(epoch_folder, eeg_filename[idx]+\"_epo.fif\")\n",
    "    if not os.path.exists(processed_file):\n",
    "        epoch = hf.create_epoch(single_eeg, event_markers_simplified[idx], tmin, tmax)\n",
    "        epoch_file = os.path.join(epoch_folder, eeg_filename[idx]+\"_epo.fif\")\n",
    "        epoch.save(epoch_file, overwrite=True)\n",
    "        print(\"\\n\", idx+1, \" saved.\")\n"
   ]
  },
  {
   "cell_type": "markdown",
   "metadata": {},
   "source": [
    "## Create DataFrame with metadata and eeg/epoch paths"
   ]
  },
  {
   "cell_type": "code",
   "execution_count": 40,
   "metadata": {},
   "outputs": [],
   "source": [
    "parents.rename(columns = {'child':'ParticipantID'}, inplace=True)\n",
    "cdi.rename(columns = {'participant':'ParticipantID'}, inplace=True)"
   ]
  },
  {
   "cell_type": "code",
   "execution_count": 41,
   "metadata": {},
   "outputs": [],
   "source": [
    "metadata = pd.merge(cdi, children, on=\"ParticipantID\")\n",
    "metadata = pd.merge(metadata, parents, on=\"ParticipantID\")"
   ]
  },
  {
   "cell_type": "code",
   "execution_count": 42,
   "metadata": {},
   "outputs": [
    {
     "data": {
      "text/plain": [
       "Index(['ParticipantID', 'test', 'sex', 'age_months', 'age_months_days',\n",
       "       'dyslexic_parent', 'b01 - Geluidseffecten en dierengeluiden',\n",
       "       'b02 - Dierennamen', 'b03 - Voertuigen', 'b04 - Speelgoed',\n",
       "       'b05 - Eten en drinken', 'b06 - Kleding', 'b07 - Delen van het lichaam',\n",
       "       'b08 - Kleine huishoudelijke voorwerpen', 'b09 - Meubels en kamers',\n",
       "       'b10 - Voorwerpen buitenshuis', 'b11 - Plaatsen buitenshuis',\n",
       "       'b12 - Mensen', 'b13 - Spelletjes en routines',\n",
       "       'b14 - Omschrijvende woorden', 'b15 - Werkwoorden',\n",
       "       'b16 - Woorden over tijd', 'b17 - Voornaamwoorden',\n",
       "       'b18 - Vragende woordjes', 'b19 - Voorzetsels en plaatsbepalingen',\n",
       "       'b20 - Hoeveelheden en lidwoorden', 'b21 - Hulpwerkwoorden',\n",
       "       'b22 - Voegwoorden', 'p01 - Geluidseffecten en dierengeluiden',\n",
       "       'p02 - Dierennamen', 'p03 - Voertuigen', 'p04 - Speelgoed',\n",
       "       'p05 - Eten en drinken', 'p06 - Kleding', 'p07 - Delen van het lichaam',\n",
       "       'p08 - Kleine huishoudelijke voorwerpen', 'p09 - Meubels en kamers',\n",
       "       'p10 - Voorwerpen buitenshuis', 'p11 - Plaatsen buitenshuis',\n",
       "       'p12 - Mensen', 'p13 - Spelletjes en routines',\n",
       "       'p14 - Omschrijvende woorden', 'p15 - Werkwoorden',\n",
       "       'p16 - Woorden over tijd', 'p17 - Voornaamwoorden',\n",
       "       'p18 - Vragende woordjes', 'p19 - Voorzetsels en plaatsbepalingen',\n",
       "       'p20 - Hoeveelheden en lidwoorden', 'p21 - Hulpwerkwoorden',\n",
       "       'p22 - Voegwoorden', 'wB - Woorduiteinden', 'wC - Woordvormen',\n",
       "       'zE - Zinnen', 'Woordenschatbegrip - Ruwe score',\n",
       "       'Woordenschatbegrip - Percentiel', 'Woordenschatbegrip - Taalleeftijd',\n",
       "       'Woordenschatproductie - Ruwe score',\n",
       "       'Woordenschatproductie - Percentiel',\n",
       "       'Woordenschatproductie - Taalleeftijd', 'Woordvormen - Ruwe score',\n",
       "       'Woordvormen - Percentiel', 'Woordvormen - Taalleeftijd',\n",
       "       'Zinnen - Ruwe score', 'Zinnen - Percentiel', 'Zinnen - Taalleeftijd',\n",
       "       'Sex', 'Group_AccToParents', 'Age_original_a', 'Age_days_a',\n",
       "       'Age_months_a', 'CDIpresent_a', 'CDIpresent_b', 'Age_original_b',\n",
       "       'Age_days_b', 'Age_months_b', 'emt_mother', 'klepel_mother',\n",
       "       'vc_mother', 'dyslexia_mother_accToMother', 'emt_father',\n",
       "       'klepel_father', 'vc_father', 'dyslexia_father_accToFather'],\n",
       "      dtype='object')"
      ]
     },
     "execution_count": 42,
     "metadata": {},
     "output_type": "execute_result"
    }
   ],
   "source": [
    "metadata.columns"
   ]
  },
  {
   "cell_type": "code",
   "execution_count": 55,
   "metadata": {},
   "outputs": [
    {
     "ename": "KeyError",
     "evalue": "\"['age_months_days', 'b01 - Geluidseffecten en dierengeluiden', 'b02 - Dierennamen', 'b03 - Voertuigen', 'b04 - Speelgoed', 'b05 - Eten en drinken', 'b06 - Kleding', 'b07 - Delen van het lichaam', 'b08 - Kleine huishoudelijke voorwerpen', 'b09 - Meubels en kamers', 'b10 - Voorwerpen buitenshuis', 'b11 - Plaatsen buitenshuis', 'b12 - Mensen', 'b13 - Spelletjes en routines', 'b14 - Omschrijvende woorden', 'b15 - Werkwoorden', 'b16 - Woorden over tijd', 'b17 - Voornaamwoorden', 'b18 - Vragende woordjes', 'b19 - Voorzetsels en plaatsbepalingen', 'b20 - Hoeveelheden en lidwoorden', 'b21 - Hulpwerkwoorden', 'b22 - Voegwoorden', 'p01 - Geluidseffecten en dierengeluiden', 'p02 - Dierennamen', 'p03 - Voertuigen', 'p04 - Speelgoed', 'p05 - Eten en drinken', 'p06 - Kleding', 'p07 - Delen van het lichaam', 'p08 - Kleine huishoudelijke voorwerpen', 'p09 - Meubels en kamers', 'p10 - Voorwerpen buitenshuis', 'p11 - Plaatsen buitenshuis', 'p12 - Mensen', 'p13 - Spelletjes en routines', 'p14 - Omschrijvende woorden', 'p15 - Werkwoorden', 'p16 - Woorden over tijd', 'p17 - Voornaamwoorden', 'p18 - Vragende woordjes', 'p19 - Voorzetsels en plaatsbepalingen', 'p20 - Hoeveelheden en lidwoorden', 'p21 - Hulpwerkwoorden', 'p22 - Voegwoorden', 'wB - Woorduiteinden', 'wC - Woordvormen', 'zE - Zinnen', 'Woordvormen - Ruwe score', 'Woordvormen - Percentiel', 'Woordvormen - Taalleeftijd', 'Zinnen - Ruwe score', 'Zinnen - Percentiel', 'Zinnen - Taalleeftijd', 'Woordenschatbegrip - Ruwe score', 'Woordenschatbegrip - Percentiel', 'Woordenschatbegrip - Taalleeftijd', 'Woordenschatproductie - Ruwe score', 'Woordenschatproductie - Percentiel', 'Woordenschatproductie - Taalleeftijd', 'CDIpresent_a', 'CDIpresent_b', 'Sex', 'Age_original_a', 'Age_days_a', 'Age_months_a', 'Age_original_b', 'Age_days_b', 'Age_months_b', 'emt_mother', 'klepel_mother', 'vc_mother', 'dyslexia_mother_accToMother', 'emt_father', 'klepel_father', 'vc_father', 'dyslexia_father_accToFather'] not found in axis\"",
     "output_type": "error",
     "traceback": [
      "\u001b[0;31m---------------------------------------------------------------------------\u001b[0m",
      "\u001b[0;31mKeyError\u001b[0m                                  Traceback (most recent call last)",
      "Input \u001b[0;32mIn [55]\u001b[0m, in \u001b[0;36m<cell line: 1>\u001b[0;34m()\u001b[0m\n\u001b[0;32m----> 1\u001b[0m metadata \u001b[38;5;241m=\u001b[39m \u001b[43mmetadata\u001b[49m\u001b[38;5;241;43m.\u001b[39;49m\u001b[43mdrop\u001b[49m\u001b[43m(\u001b[49m\u001b[43m[\u001b[49m\u001b[38;5;124;43m'\u001b[39;49m\u001b[38;5;124;43mage_months_days\u001b[39;49m\u001b[38;5;124;43m'\u001b[39;49m\u001b[43m,\u001b[49m\u001b[38;5;124;43m'\u001b[39;49m\u001b[38;5;124;43mb01 - Geluidseffecten en dierengeluiden\u001b[39;49m\u001b[38;5;124;43m'\u001b[39;49m\u001b[43m,\u001b[49m\n\u001b[1;32m      2\u001b[0m \u001b[43m       \u001b[49m\u001b[38;5;124;43m'\u001b[39;49m\u001b[38;5;124;43mb02 - Dierennamen\u001b[39;49m\u001b[38;5;124;43m'\u001b[39;49m\u001b[43m,\u001b[49m\u001b[43m \u001b[49m\u001b[38;5;124;43m'\u001b[39;49m\u001b[38;5;124;43mb03 - Voertuigen\u001b[39;49m\u001b[38;5;124;43m'\u001b[39;49m\u001b[43m,\u001b[49m\u001b[43m \u001b[49m\u001b[38;5;124;43m'\u001b[39;49m\u001b[38;5;124;43mb04 - Speelgoed\u001b[39;49m\u001b[38;5;124;43m'\u001b[39;49m\u001b[43m,\u001b[49m\n\u001b[1;32m      3\u001b[0m \u001b[43m       \u001b[49m\u001b[38;5;124;43m'\u001b[39;49m\u001b[38;5;124;43mb05 - Eten en drinken\u001b[39;49m\u001b[38;5;124;43m'\u001b[39;49m\u001b[43m,\u001b[49m\u001b[43m \u001b[49m\u001b[38;5;124;43m'\u001b[39;49m\u001b[38;5;124;43mb06 - Kleding\u001b[39;49m\u001b[38;5;124;43m'\u001b[39;49m\u001b[43m,\u001b[49m\u001b[43m \u001b[49m\u001b[38;5;124;43m'\u001b[39;49m\u001b[38;5;124;43mb07 - Delen van het lichaam\u001b[39;49m\u001b[38;5;124;43m'\u001b[39;49m\u001b[43m,\u001b[49m\n\u001b[1;32m      4\u001b[0m \u001b[43m       \u001b[49m\u001b[38;5;124;43m'\u001b[39;49m\u001b[38;5;124;43mb08 - Kleine huishoudelijke voorwerpen\u001b[39;49m\u001b[38;5;124;43m'\u001b[39;49m\u001b[43m,\u001b[49m\u001b[43m \u001b[49m\u001b[38;5;124;43m'\u001b[39;49m\u001b[38;5;124;43mb09 - Meubels en kamers\u001b[39;49m\u001b[38;5;124;43m'\u001b[39;49m\u001b[43m,\u001b[49m\n\u001b[1;32m      5\u001b[0m \u001b[43m       \u001b[49m\u001b[38;5;124;43m'\u001b[39;49m\u001b[38;5;124;43mb10 - Voorwerpen buitenshuis\u001b[39;49m\u001b[38;5;124;43m'\u001b[39;49m\u001b[43m,\u001b[49m\u001b[43m \u001b[49m\u001b[38;5;124;43m'\u001b[39;49m\u001b[38;5;124;43mb11 - Plaatsen buitenshuis\u001b[39;49m\u001b[38;5;124;43m'\u001b[39;49m\u001b[43m,\u001b[49m\n\u001b[1;32m      6\u001b[0m \u001b[43m       \u001b[49m\u001b[38;5;124;43m'\u001b[39;49m\u001b[38;5;124;43mb12 - Mensen\u001b[39;49m\u001b[38;5;124;43m'\u001b[39;49m\u001b[43m,\u001b[49m\u001b[43m \u001b[49m\u001b[38;5;124;43m'\u001b[39;49m\u001b[38;5;124;43mb13 - Spelletjes en routines\u001b[39;49m\u001b[38;5;124;43m'\u001b[39;49m\u001b[43m,\u001b[49m\n\u001b[1;32m      7\u001b[0m \u001b[43m       \u001b[49m\u001b[38;5;124;43m'\u001b[39;49m\u001b[38;5;124;43mb14 - Omschrijvende woorden\u001b[39;49m\u001b[38;5;124;43m'\u001b[39;49m\u001b[43m,\u001b[49m\u001b[43m \u001b[49m\u001b[38;5;124;43m'\u001b[39;49m\u001b[38;5;124;43mb15 - Werkwoorden\u001b[39;49m\u001b[38;5;124;43m'\u001b[39;49m\u001b[43m,\u001b[49m\n\u001b[1;32m      8\u001b[0m \u001b[43m       \u001b[49m\u001b[38;5;124;43m'\u001b[39;49m\u001b[38;5;124;43mb16 - Woorden over tijd\u001b[39;49m\u001b[38;5;124;43m'\u001b[39;49m\u001b[43m,\u001b[49m\u001b[43m \u001b[49m\u001b[38;5;124;43m'\u001b[39;49m\u001b[38;5;124;43mb17 - Voornaamwoorden\u001b[39;49m\u001b[38;5;124;43m'\u001b[39;49m\u001b[43m,\u001b[49m\n\u001b[1;32m      9\u001b[0m \u001b[43m       \u001b[49m\u001b[38;5;124;43m'\u001b[39;49m\u001b[38;5;124;43mb18 - Vragende woordjes\u001b[39;49m\u001b[38;5;124;43m'\u001b[39;49m\u001b[43m,\u001b[49m\u001b[43m \u001b[49m\u001b[38;5;124;43m'\u001b[39;49m\u001b[38;5;124;43mb19 - Voorzetsels en plaatsbepalingen\u001b[39;49m\u001b[38;5;124;43m'\u001b[39;49m\u001b[43m,\u001b[49m\n\u001b[1;32m     10\u001b[0m \u001b[43m       \u001b[49m\u001b[38;5;124;43m'\u001b[39;49m\u001b[38;5;124;43mb20 - Hoeveelheden en lidwoorden\u001b[39;49m\u001b[38;5;124;43m'\u001b[39;49m\u001b[43m,\u001b[49m\u001b[43m \u001b[49m\u001b[38;5;124;43m'\u001b[39;49m\u001b[38;5;124;43mb21 - Hulpwerkwoorden\u001b[39;49m\u001b[38;5;124;43m'\u001b[39;49m\u001b[43m,\u001b[49m\n\u001b[1;32m     11\u001b[0m \u001b[43m       \u001b[49m\u001b[38;5;124;43m'\u001b[39;49m\u001b[38;5;124;43mb22 - Voegwoorden\u001b[39;49m\u001b[38;5;124;43m'\u001b[39;49m\u001b[43m,\u001b[49m\u001b[43m \u001b[49m\u001b[38;5;124;43m'\u001b[39;49m\u001b[38;5;124;43mp01 - Geluidseffecten en dierengeluiden\u001b[39;49m\u001b[38;5;124;43m'\u001b[39;49m\u001b[43m,\u001b[49m\n\u001b[1;32m     12\u001b[0m \u001b[43m       \u001b[49m\u001b[38;5;124;43m'\u001b[39;49m\u001b[38;5;124;43mp02 - Dierennamen\u001b[39;49m\u001b[38;5;124;43m'\u001b[39;49m\u001b[43m,\u001b[49m\u001b[43m \u001b[49m\u001b[38;5;124;43m'\u001b[39;49m\u001b[38;5;124;43mp03 - Voertuigen\u001b[39;49m\u001b[38;5;124;43m'\u001b[39;49m\u001b[43m,\u001b[49m\u001b[43m \u001b[49m\u001b[38;5;124;43m'\u001b[39;49m\u001b[38;5;124;43mp04 - Speelgoed\u001b[39;49m\u001b[38;5;124;43m'\u001b[39;49m\u001b[43m,\u001b[49m\n\u001b[1;32m     13\u001b[0m \u001b[43m       \u001b[49m\u001b[38;5;124;43m'\u001b[39;49m\u001b[38;5;124;43mp05 - Eten en drinken\u001b[39;49m\u001b[38;5;124;43m'\u001b[39;49m\u001b[43m,\u001b[49m\u001b[43m \u001b[49m\u001b[38;5;124;43m'\u001b[39;49m\u001b[38;5;124;43mp06 - Kleding\u001b[39;49m\u001b[38;5;124;43m'\u001b[39;49m\u001b[43m,\u001b[49m\u001b[43m \u001b[49m\u001b[38;5;124;43m'\u001b[39;49m\u001b[38;5;124;43mp07 - Delen van het lichaam\u001b[39;49m\u001b[38;5;124;43m'\u001b[39;49m\u001b[43m,\u001b[49m\n\u001b[1;32m     14\u001b[0m \u001b[43m       \u001b[49m\u001b[38;5;124;43m'\u001b[39;49m\u001b[38;5;124;43mp08 - Kleine huishoudelijke voorwerpen\u001b[39;49m\u001b[38;5;124;43m'\u001b[39;49m\u001b[43m,\u001b[49m\u001b[43m \u001b[49m\u001b[38;5;124;43m'\u001b[39;49m\u001b[38;5;124;43mp09 - Meubels en kamers\u001b[39;49m\u001b[38;5;124;43m'\u001b[39;49m\u001b[43m,\u001b[49m\n\u001b[1;32m     15\u001b[0m \u001b[43m       \u001b[49m\u001b[38;5;124;43m'\u001b[39;49m\u001b[38;5;124;43mp10 - Voorwerpen buitenshuis\u001b[39;49m\u001b[38;5;124;43m'\u001b[39;49m\u001b[43m,\u001b[49m\u001b[43m \u001b[49m\u001b[38;5;124;43m'\u001b[39;49m\u001b[38;5;124;43mp11 - Plaatsen buitenshuis\u001b[39;49m\u001b[38;5;124;43m'\u001b[39;49m\u001b[43m,\u001b[49m\n\u001b[1;32m     16\u001b[0m \u001b[43m       \u001b[49m\u001b[38;5;124;43m'\u001b[39;49m\u001b[38;5;124;43mp12 - Mensen\u001b[39;49m\u001b[38;5;124;43m'\u001b[39;49m\u001b[43m,\u001b[49m\u001b[43m \u001b[49m\u001b[38;5;124;43m'\u001b[39;49m\u001b[38;5;124;43mp13 - Spelletjes en routines\u001b[39;49m\u001b[38;5;124;43m'\u001b[39;49m\u001b[43m,\u001b[49m\n\u001b[1;32m     17\u001b[0m \u001b[43m       \u001b[49m\u001b[38;5;124;43m'\u001b[39;49m\u001b[38;5;124;43mp14 - Omschrijvende woorden\u001b[39;49m\u001b[38;5;124;43m'\u001b[39;49m\u001b[43m,\u001b[49m\u001b[43m \u001b[49m\u001b[38;5;124;43m'\u001b[39;49m\u001b[38;5;124;43mp15 - Werkwoorden\u001b[39;49m\u001b[38;5;124;43m'\u001b[39;49m\u001b[43m,\u001b[49m\n\u001b[1;32m     18\u001b[0m \u001b[43m       \u001b[49m\u001b[38;5;124;43m'\u001b[39;49m\u001b[38;5;124;43mp16 - Woorden over tijd\u001b[39;49m\u001b[38;5;124;43m'\u001b[39;49m\u001b[43m,\u001b[49m\u001b[43m \u001b[49m\u001b[38;5;124;43m'\u001b[39;49m\u001b[38;5;124;43mp17 - Voornaamwoorden\u001b[39;49m\u001b[38;5;124;43m'\u001b[39;49m\u001b[43m,\u001b[49m\n\u001b[1;32m     19\u001b[0m \u001b[43m       \u001b[49m\u001b[38;5;124;43m'\u001b[39;49m\u001b[38;5;124;43mp18 - Vragende woordjes\u001b[39;49m\u001b[38;5;124;43m'\u001b[39;49m\u001b[43m,\u001b[49m\u001b[43m \u001b[49m\u001b[38;5;124;43m'\u001b[39;49m\u001b[38;5;124;43mp19 - Voorzetsels en plaatsbepalingen\u001b[39;49m\u001b[38;5;124;43m'\u001b[39;49m\u001b[43m,\u001b[49m\n\u001b[1;32m     20\u001b[0m \u001b[43m       \u001b[49m\u001b[38;5;124;43m'\u001b[39;49m\u001b[38;5;124;43mp20 - Hoeveelheden en lidwoorden\u001b[39;49m\u001b[38;5;124;43m'\u001b[39;49m\u001b[43m,\u001b[49m\u001b[43m \u001b[49m\u001b[38;5;124;43m'\u001b[39;49m\u001b[38;5;124;43mp21 - Hulpwerkwoorden\u001b[39;49m\u001b[38;5;124;43m'\u001b[39;49m\u001b[43m,\u001b[49m\n\u001b[1;32m     21\u001b[0m \u001b[43m       \u001b[49m\u001b[38;5;124;43m'\u001b[39;49m\u001b[38;5;124;43mp22 - Voegwoorden\u001b[39;49m\u001b[38;5;124;43m'\u001b[39;49m\u001b[43m,\u001b[49m\u001b[43m \u001b[49m\u001b[38;5;124;43m'\u001b[39;49m\u001b[38;5;124;43mwB - Woorduiteinden\u001b[39;49m\u001b[38;5;124;43m'\u001b[39;49m\u001b[43m,\u001b[49m\u001b[43m \u001b[49m\u001b[38;5;124;43m'\u001b[39;49m\u001b[38;5;124;43mwC - Woordvormen\u001b[39;49m\u001b[38;5;124;43m'\u001b[39;49m\u001b[43m,\u001b[49m\n\u001b[1;32m     22\u001b[0m \u001b[43m       \u001b[49m\u001b[38;5;124;43m'\u001b[39;49m\u001b[38;5;124;43mzE - Zinnen\u001b[39;49m\u001b[38;5;124;43m'\u001b[39;49m\u001b[43m,\u001b[49m\u001b[43m  \u001b[49m\u001b[38;5;124;43m'\u001b[39;49m\u001b[38;5;124;43mWoordvormen - Ruwe score\u001b[39;49m\u001b[38;5;124;43m'\u001b[39;49m\u001b[43m,\u001b[49m\u001b[43m \u001b[49m\u001b[38;5;124;43m'\u001b[39;49m\u001b[38;5;124;43mWoordvormen - Percentiel\u001b[39;49m\u001b[38;5;124;43m'\u001b[39;49m\u001b[43m,\u001b[49m\n\u001b[1;32m     23\u001b[0m \u001b[43m       \u001b[49m\u001b[38;5;124;43m'\u001b[39;49m\u001b[38;5;124;43mWoordvormen - Taalleeftijd\u001b[39;49m\u001b[38;5;124;43m'\u001b[39;49m\u001b[43m,\u001b[49m\u001b[43m \u001b[49m\u001b[38;5;124;43m'\u001b[39;49m\u001b[38;5;124;43mZinnen - Ruwe score\u001b[39;49m\u001b[38;5;124;43m'\u001b[39;49m\u001b[43m,\u001b[49m\n\u001b[1;32m     24\u001b[0m \u001b[43m       \u001b[49m\u001b[38;5;124;43m'\u001b[39;49m\u001b[38;5;124;43mZinnen - Percentiel\u001b[39;49m\u001b[38;5;124;43m'\u001b[39;49m\u001b[43m,\u001b[49m\u001b[43m \u001b[49m\u001b[38;5;124;43m'\u001b[39;49m\u001b[38;5;124;43mZinnen - Taalleeftijd\u001b[39;49m\u001b[38;5;124;43m'\u001b[39;49m\u001b[43m,\u001b[49m\u001b[43m \u001b[49m\u001b[38;5;124;43m'\u001b[39;49m\u001b[38;5;124;43mWoordenschatbegrip - Ruwe score\u001b[39;49m\u001b[38;5;124;43m'\u001b[39;49m\u001b[43m,\u001b[49m\n\u001b[1;32m     25\u001b[0m \u001b[43m       \u001b[49m\u001b[38;5;124;43m'\u001b[39;49m\u001b[38;5;124;43mWoordenschatbegrip - Percentiel\u001b[39;49m\u001b[38;5;124;43m'\u001b[39;49m\u001b[43m,\u001b[49m\u001b[43m \u001b[49m\u001b[38;5;124;43m'\u001b[39;49m\u001b[38;5;124;43mWoordenschatbegrip - Taalleeftijd\u001b[39;49m\u001b[38;5;124;43m'\u001b[39;49m\u001b[43m,\u001b[49m\n\u001b[1;32m     26\u001b[0m \u001b[43m       \u001b[49m\u001b[38;5;124;43m'\u001b[39;49m\u001b[38;5;124;43mWoordenschatproductie - Ruwe score\u001b[39;49m\u001b[38;5;124;43m'\u001b[39;49m\u001b[43m,\u001b[49m\n\u001b[1;32m     27\u001b[0m \u001b[43m       \u001b[49m\u001b[38;5;124;43m'\u001b[39;49m\u001b[38;5;124;43mWoordenschatproductie - Percentiel\u001b[39;49m\u001b[38;5;124;43m'\u001b[39;49m\u001b[43m,\u001b[49m\n\u001b[1;32m     28\u001b[0m \u001b[43m       \u001b[49m\u001b[38;5;124;43m'\u001b[39;49m\u001b[38;5;124;43mWoordenschatproductie - Taalleeftijd\u001b[39;49m\u001b[38;5;124;43m'\u001b[39;49m\u001b[43m,\u001b[49m\u001b[43m \u001b[49m\u001b[38;5;124;43m'\u001b[39;49m\u001b[38;5;124;43mCDIpresent_a\u001b[39;49m\u001b[38;5;124;43m'\u001b[39;49m\u001b[43m,\u001b[49m\u001b[43m \u001b[49m\u001b[38;5;124;43m'\u001b[39;49m\u001b[38;5;124;43mCDIpresent_b\u001b[39;49m\u001b[38;5;124;43m'\u001b[39;49m\u001b[43m,\u001b[49m\u001b[43m  \u001b[49m\u001b[38;5;124;43m'\u001b[39;49m\u001b[38;5;124;43mSex\u001b[39;49m\u001b[38;5;124;43m'\u001b[39;49m\u001b[43m,\u001b[49m\u001b[43m \u001b[49m\u001b[38;5;124;43m'\u001b[39;49m\u001b[38;5;124;43mAge_original_a\u001b[39;49m\u001b[38;5;124;43m'\u001b[39;49m\u001b[43m,\u001b[49m\u001b[43m \u001b[49m\u001b[38;5;124;43m'\u001b[39;49m\u001b[38;5;124;43mAge_days_a\u001b[39;49m\u001b[38;5;124;43m'\u001b[39;49m\u001b[43m,\u001b[49m\u001b[43m \u001b[49m\u001b[38;5;124;43m'\u001b[39;49m\u001b[38;5;124;43mAge_months_a\u001b[39;49m\u001b[38;5;124;43m'\u001b[39;49m\u001b[43m,\u001b[49m\n\u001b[1;32m     29\u001b[0m \u001b[43m       \u001b[49m\u001b[38;5;124;43m'\u001b[39;49m\u001b[38;5;124;43mAge_original_b\u001b[39;49m\u001b[38;5;124;43m'\u001b[39;49m\u001b[43m,\u001b[49m\u001b[43m \u001b[49m\u001b[38;5;124;43m'\u001b[39;49m\u001b[38;5;124;43mAge_days_b\u001b[39;49m\u001b[38;5;124;43m'\u001b[39;49m\u001b[43m,\u001b[49m\u001b[43m \u001b[49m\u001b[38;5;124;43m'\u001b[39;49m\u001b[38;5;124;43mAge_months_b\u001b[39;49m\u001b[38;5;124;43m'\u001b[39;49m\u001b[43m,\u001b[49m\u001b[43m \u001b[49m\u001b[38;5;124;43m'\u001b[39;49m\u001b[38;5;124;43memt_mother\u001b[39;49m\u001b[38;5;124;43m'\u001b[39;49m\u001b[43m,\u001b[49m\u001b[38;5;124;43m'\u001b[39;49m\u001b[38;5;124;43mklepel_mother\u001b[39;49m\u001b[38;5;124;43m'\u001b[39;49m\u001b[43m,\u001b[49m\u001b[43m \u001b[49m\u001b[38;5;124;43m'\u001b[39;49m\u001b[38;5;124;43mvc_mother\u001b[39;49m\u001b[38;5;124;43m'\u001b[39;49m\u001b[43m,\u001b[49m\u001b[43m \u001b[49m\u001b[38;5;124;43m'\u001b[39;49m\u001b[38;5;124;43mdyslexia_mother_accToMother\u001b[39;49m\u001b[38;5;124;43m'\u001b[39;49m\u001b[43m,\u001b[49m\n\u001b[1;32m     30\u001b[0m \u001b[43m       \u001b[49m\u001b[38;5;124;43m'\u001b[39;49m\u001b[38;5;124;43memt_father\u001b[39;49m\u001b[38;5;124;43m'\u001b[39;49m\u001b[43m,\u001b[49m\u001b[43m \u001b[49m\u001b[38;5;124;43m'\u001b[39;49m\u001b[38;5;124;43mklepel_father\u001b[39;49m\u001b[38;5;124;43m'\u001b[39;49m\u001b[43m,\u001b[49m\u001b[43m \u001b[49m\u001b[38;5;124;43m'\u001b[39;49m\u001b[38;5;124;43mvc_father\u001b[39;49m\u001b[38;5;124;43m'\u001b[39;49m\u001b[43m,\u001b[49m\n\u001b[1;32m     31\u001b[0m \u001b[43m       \u001b[49m\u001b[38;5;124;43m'\u001b[39;49m\u001b[38;5;124;43mdyslexia_father_accToFather\u001b[39;49m\u001b[38;5;124;43m'\u001b[39;49m\u001b[43m]\u001b[49m\u001b[43m,\u001b[49m\u001b[43m \u001b[49m\u001b[43maxis\u001b[49m\u001b[43m \u001b[49m\u001b[38;5;241;43m=\u001b[39;49m\u001b[43m \u001b[49m\u001b[38;5;241;43m1\u001b[39;49m\u001b[43m)\u001b[49m\n",
      "File \u001b[0;32m~/.local/lib/python3.8/site-packages/pandas/util/_decorators.py:311\u001b[0m, in \u001b[0;36mdeprecate_nonkeyword_arguments.<locals>.decorate.<locals>.wrapper\u001b[0;34m(*args, **kwargs)\u001b[0m\n\u001b[1;32m    305\u001b[0m \u001b[38;5;28;01mif\u001b[39;00m \u001b[38;5;28mlen\u001b[39m(args) \u001b[38;5;241m>\u001b[39m num_allow_args:\n\u001b[1;32m    306\u001b[0m     warnings\u001b[38;5;241m.\u001b[39mwarn(\n\u001b[1;32m    307\u001b[0m         msg\u001b[38;5;241m.\u001b[39mformat(arguments\u001b[38;5;241m=\u001b[39marguments),\n\u001b[1;32m    308\u001b[0m         \u001b[38;5;167;01mFutureWarning\u001b[39;00m,\n\u001b[1;32m    309\u001b[0m         stacklevel\u001b[38;5;241m=\u001b[39mstacklevel,\n\u001b[1;32m    310\u001b[0m     )\n\u001b[0;32m--> 311\u001b[0m \u001b[38;5;28;01mreturn\u001b[39;00m \u001b[43mfunc\u001b[49m\u001b[43m(\u001b[49m\u001b[38;5;241;43m*\u001b[39;49m\u001b[43margs\u001b[49m\u001b[43m,\u001b[49m\u001b[43m \u001b[49m\u001b[38;5;241;43m*\u001b[39;49m\u001b[38;5;241;43m*\u001b[39;49m\u001b[43mkwargs\u001b[49m\u001b[43m)\u001b[49m\n",
      "File \u001b[0;32m~/.local/lib/python3.8/site-packages/pandas/core/frame.py:4954\u001b[0m, in \u001b[0;36mDataFrame.drop\u001b[0;34m(self, labels, axis, index, columns, level, inplace, errors)\u001b[0m\n\u001b[1;32m   4806\u001b[0m \u001b[38;5;129m@deprecate_nonkeyword_arguments\u001b[39m(version\u001b[38;5;241m=\u001b[39m\u001b[38;5;28;01mNone\u001b[39;00m, allowed_args\u001b[38;5;241m=\u001b[39m[\u001b[38;5;124m\"\u001b[39m\u001b[38;5;124mself\u001b[39m\u001b[38;5;124m\"\u001b[39m, \u001b[38;5;124m\"\u001b[39m\u001b[38;5;124mlabels\u001b[39m\u001b[38;5;124m\"\u001b[39m])\n\u001b[1;32m   4807\u001b[0m \u001b[38;5;28;01mdef\u001b[39;00m \u001b[38;5;21mdrop\u001b[39m(\n\u001b[1;32m   4808\u001b[0m     \u001b[38;5;28mself\u001b[39m,\n\u001b[0;32m   (...)\u001b[0m\n\u001b[1;32m   4815\u001b[0m     errors: \u001b[38;5;28mstr\u001b[39m \u001b[38;5;241m=\u001b[39m \u001b[38;5;124m\"\u001b[39m\u001b[38;5;124mraise\u001b[39m\u001b[38;5;124m\"\u001b[39m,\n\u001b[1;32m   4816\u001b[0m ):\n\u001b[1;32m   4817\u001b[0m     \u001b[38;5;124;03m\"\"\"\u001b[39;00m\n\u001b[1;32m   4818\u001b[0m \u001b[38;5;124;03m    Drop specified labels from rows or columns.\u001b[39;00m\n\u001b[1;32m   4819\u001b[0m \n\u001b[0;32m   (...)\u001b[0m\n\u001b[1;32m   4952\u001b[0m \u001b[38;5;124;03m            weight  1.0     0.8\u001b[39;00m\n\u001b[1;32m   4953\u001b[0m \u001b[38;5;124;03m    \"\"\"\u001b[39;00m\n\u001b[0;32m-> 4954\u001b[0m     \u001b[38;5;28;01mreturn\u001b[39;00m \u001b[38;5;28;43msuper\u001b[39;49m\u001b[43m(\u001b[49m\u001b[43m)\u001b[49m\u001b[38;5;241;43m.\u001b[39;49m\u001b[43mdrop\u001b[49m\u001b[43m(\u001b[49m\n\u001b[1;32m   4955\u001b[0m \u001b[43m        \u001b[49m\u001b[43mlabels\u001b[49m\u001b[38;5;241;43m=\u001b[39;49m\u001b[43mlabels\u001b[49m\u001b[43m,\u001b[49m\n\u001b[1;32m   4956\u001b[0m \u001b[43m        \u001b[49m\u001b[43maxis\u001b[49m\u001b[38;5;241;43m=\u001b[39;49m\u001b[43maxis\u001b[49m\u001b[43m,\u001b[49m\n\u001b[1;32m   4957\u001b[0m \u001b[43m        \u001b[49m\u001b[43mindex\u001b[49m\u001b[38;5;241;43m=\u001b[39;49m\u001b[43mindex\u001b[49m\u001b[43m,\u001b[49m\n\u001b[1;32m   4958\u001b[0m \u001b[43m        \u001b[49m\u001b[43mcolumns\u001b[49m\u001b[38;5;241;43m=\u001b[39;49m\u001b[43mcolumns\u001b[49m\u001b[43m,\u001b[49m\n\u001b[1;32m   4959\u001b[0m \u001b[43m        \u001b[49m\u001b[43mlevel\u001b[49m\u001b[38;5;241;43m=\u001b[39;49m\u001b[43mlevel\u001b[49m\u001b[43m,\u001b[49m\n\u001b[1;32m   4960\u001b[0m \u001b[43m        \u001b[49m\u001b[43minplace\u001b[49m\u001b[38;5;241;43m=\u001b[39;49m\u001b[43minplace\u001b[49m\u001b[43m,\u001b[49m\n\u001b[1;32m   4961\u001b[0m \u001b[43m        \u001b[49m\u001b[43merrors\u001b[49m\u001b[38;5;241;43m=\u001b[39;49m\u001b[43merrors\u001b[49m\u001b[43m,\u001b[49m\n\u001b[1;32m   4962\u001b[0m \u001b[43m    \u001b[49m\u001b[43m)\u001b[49m\n",
      "File \u001b[0;32m~/.local/lib/python3.8/site-packages/pandas/core/generic.py:4267\u001b[0m, in \u001b[0;36mNDFrame.drop\u001b[0;34m(self, labels, axis, index, columns, level, inplace, errors)\u001b[0m\n\u001b[1;32m   4265\u001b[0m \u001b[38;5;28;01mfor\u001b[39;00m axis, labels \u001b[38;5;129;01min\u001b[39;00m axes\u001b[38;5;241m.\u001b[39mitems():\n\u001b[1;32m   4266\u001b[0m     \u001b[38;5;28;01mif\u001b[39;00m labels \u001b[38;5;129;01mis\u001b[39;00m \u001b[38;5;129;01mnot\u001b[39;00m \u001b[38;5;28;01mNone\u001b[39;00m:\n\u001b[0;32m-> 4267\u001b[0m         obj \u001b[38;5;241m=\u001b[39m \u001b[43mobj\u001b[49m\u001b[38;5;241;43m.\u001b[39;49m\u001b[43m_drop_axis\u001b[49m\u001b[43m(\u001b[49m\u001b[43mlabels\u001b[49m\u001b[43m,\u001b[49m\u001b[43m \u001b[49m\u001b[43maxis\u001b[49m\u001b[43m,\u001b[49m\u001b[43m \u001b[49m\u001b[43mlevel\u001b[49m\u001b[38;5;241;43m=\u001b[39;49m\u001b[43mlevel\u001b[49m\u001b[43m,\u001b[49m\u001b[43m \u001b[49m\u001b[43merrors\u001b[49m\u001b[38;5;241;43m=\u001b[39;49m\u001b[43merrors\u001b[49m\u001b[43m)\u001b[49m\n\u001b[1;32m   4269\u001b[0m \u001b[38;5;28;01mif\u001b[39;00m inplace:\n\u001b[1;32m   4270\u001b[0m     \u001b[38;5;28mself\u001b[39m\u001b[38;5;241m.\u001b[39m_update_inplace(obj)\n",
      "File \u001b[0;32m~/.local/lib/python3.8/site-packages/pandas/core/generic.py:4311\u001b[0m, in \u001b[0;36mNDFrame._drop_axis\u001b[0;34m(self, labels, axis, level, errors, consolidate, only_slice)\u001b[0m\n\u001b[1;32m   4309\u001b[0m         new_axis \u001b[38;5;241m=\u001b[39m axis\u001b[38;5;241m.\u001b[39mdrop(labels, level\u001b[38;5;241m=\u001b[39mlevel, errors\u001b[38;5;241m=\u001b[39merrors)\n\u001b[1;32m   4310\u001b[0m     \u001b[38;5;28;01melse\u001b[39;00m:\n\u001b[0;32m-> 4311\u001b[0m         new_axis \u001b[38;5;241m=\u001b[39m \u001b[43maxis\u001b[49m\u001b[38;5;241;43m.\u001b[39;49m\u001b[43mdrop\u001b[49m\u001b[43m(\u001b[49m\u001b[43mlabels\u001b[49m\u001b[43m,\u001b[49m\u001b[43m \u001b[49m\u001b[43merrors\u001b[49m\u001b[38;5;241;43m=\u001b[39;49m\u001b[43merrors\u001b[49m\u001b[43m)\u001b[49m\n\u001b[1;32m   4312\u001b[0m     indexer \u001b[38;5;241m=\u001b[39m axis\u001b[38;5;241m.\u001b[39mget_indexer(new_axis)\n\u001b[1;32m   4314\u001b[0m \u001b[38;5;66;03m# Case for non-unique axis\u001b[39;00m\n\u001b[1;32m   4315\u001b[0m \u001b[38;5;28;01melse\u001b[39;00m:\n",
      "File \u001b[0;32m~/.local/lib/python3.8/site-packages/pandas/core/indexes/base.py:6644\u001b[0m, in \u001b[0;36mIndex.drop\u001b[0;34m(self, labels, errors)\u001b[0m\n\u001b[1;32m   6642\u001b[0m \u001b[38;5;28;01mif\u001b[39;00m mask\u001b[38;5;241m.\u001b[39many():\n\u001b[1;32m   6643\u001b[0m     \u001b[38;5;28;01mif\u001b[39;00m errors \u001b[38;5;241m!=\u001b[39m \u001b[38;5;124m\"\u001b[39m\u001b[38;5;124mignore\u001b[39m\u001b[38;5;124m\"\u001b[39m:\n\u001b[0;32m-> 6644\u001b[0m         \u001b[38;5;28;01mraise\u001b[39;00m \u001b[38;5;167;01mKeyError\u001b[39;00m(\u001b[38;5;124mf\u001b[39m\u001b[38;5;124m\"\u001b[39m\u001b[38;5;132;01m{\u001b[39;00m\u001b[38;5;28mlist\u001b[39m(labels[mask])\u001b[38;5;132;01m}\u001b[39;00m\u001b[38;5;124m not found in axis\u001b[39m\u001b[38;5;124m\"\u001b[39m)\n\u001b[1;32m   6645\u001b[0m     indexer \u001b[38;5;241m=\u001b[39m indexer[\u001b[38;5;241m~\u001b[39mmask]\n\u001b[1;32m   6646\u001b[0m \u001b[38;5;28;01mreturn\u001b[39;00m \u001b[38;5;28mself\u001b[39m\u001b[38;5;241m.\u001b[39mdelete(indexer)\n",
      "\u001b[0;31mKeyError\u001b[0m: \"['age_months_days', 'b01 - Geluidseffecten en dierengeluiden', 'b02 - Dierennamen', 'b03 - Voertuigen', 'b04 - Speelgoed', 'b05 - Eten en drinken', 'b06 - Kleding', 'b07 - Delen van het lichaam', 'b08 - Kleine huishoudelijke voorwerpen', 'b09 - Meubels en kamers', 'b10 - Voorwerpen buitenshuis', 'b11 - Plaatsen buitenshuis', 'b12 - Mensen', 'b13 - Spelletjes en routines', 'b14 - Omschrijvende woorden', 'b15 - Werkwoorden', 'b16 - Woorden over tijd', 'b17 - Voornaamwoorden', 'b18 - Vragende woordjes', 'b19 - Voorzetsels en plaatsbepalingen', 'b20 - Hoeveelheden en lidwoorden', 'b21 - Hulpwerkwoorden', 'b22 - Voegwoorden', 'p01 - Geluidseffecten en dierengeluiden', 'p02 - Dierennamen', 'p03 - Voertuigen', 'p04 - Speelgoed', 'p05 - Eten en drinken', 'p06 - Kleding', 'p07 - Delen van het lichaam', 'p08 - Kleine huishoudelijke voorwerpen', 'p09 - Meubels en kamers', 'p10 - Voorwerpen buitenshuis', 'p11 - Plaatsen buitenshuis', 'p12 - Mensen', 'p13 - Spelletjes en routines', 'p14 - Omschrijvende woorden', 'p15 - Werkwoorden', 'p16 - Woorden over tijd', 'p17 - Voornaamwoorden', 'p18 - Vragende woordjes', 'p19 - Voorzetsels en plaatsbepalingen', 'p20 - Hoeveelheden en lidwoorden', 'p21 - Hulpwerkwoorden', 'p22 - Voegwoorden', 'wB - Woorduiteinden', 'wC - Woordvormen', 'zE - Zinnen', 'Woordvormen - Ruwe score', 'Woordvormen - Percentiel', 'Woordvormen - Taalleeftijd', 'Zinnen - Ruwe score', 'Zinnen - Percentiel', 'Zinnen - Taalleeftijd', 'Woordenschatbegrip - Ruwe score', 'Woordenschatbegrip - Percentiel', 'Woordenschatbegrip - Taalleeftijd', 'Woordenschatproductie - Ruwe score', 'Woordenschatproductie - Percentiel', 'Woordenschatproductie - Taalleeftijd', 'CDIpresent_a', 'CDIpresent_b', 'Sex', 'Age_original_a', 'Age_days_a', 'Age_months_a', 'Age_original_b', 'Age_days_b', 'Age_months_b', 'emt_mother', 'klepel_mother', 'vc_mother', 'dyslexia_mother_accToMother', 'emt_father', 'klepel_father', 'vc_father', 'dyslexia_father_accToFather'] not found in axis\""
     ]
    }
   ],
   "source": [
    "metadata = metadata.drop(['age_months_days','b01 - Geluidseffecten en dierengeluiden',\n",
    "       'b02 - Dierennamen', 'b03 - Voertuigen', 'b04 - Speelgoed',\n",
    "       'b05 - Eten en drinken', 'b06 - Kleding', 'b07 - Delen van het lichaam',\n",
    "       'b08 - Kleine huishoudelijke voorwerpen', 'b09 - Meubels en kamers',\n",
    "       'b10 - Voorwerpen buitenshuis', 'b11 - Plaatsen buitenshuis',\n",
    "       'b12 - Mensen', 'b13 - Spelletjes en routines',\n",
    "       'b14 - Omschrijvende woorden', 'b15 - Werkwoorden',\n",
    "       'b16 - Woorden over tijd', 'b17 - Voornaamwoorden',\n",
    "       'b18 - Vragende woordjes', 'b19 - Voorzetsels en plaatsbepalingen',\n",
    "       'b20 - Hoeveelheden en lidwoorden', 'b21 - Hulpwerkwoorden',\n",
    "       'b22 - Voegwoorden', 'p01 - Geluidseffecten en dierengeluiden',\n",
    "       'p02 - Dierennamen', 'p03 - Voertuigen', 'p04 - Speelgoed',\n",
    "       'p05 - Eten en drinken', 'p06 - Kleding', 'p07 - Delen van het lichaam',\n",
    "       'p08 - Kleine huishoudelijke voorwerpen', 'p09 - Meubels en kamers',\n",
    "       'p10 - Voorwerpen buitenshuis', 'p11 - Plaatsen buitenshuis',\n",
    "       'p12 - Mensen', 'p13 - Spelletjes en routines',\n",
    "       'p14 - Omschrijvende woorden', 'p15 - Werkwoorden',\n",
    "       'p16 - Woorden over tijd', 'p17 - Voornaamwoorden',\n",
    "       'p18 - Vragende woordjes', 'p19 - Voorzetsels en plaatsbepalingen',\n",
    "       'p20 - Hoeveelheden en lidwoorden', 'p21 - Hulpwerkwoorden',\n",
    "       'p22 - Voegwoorden', 'wB - Woorduiteinden', 'wC - Woordvormen',\n",
    "       'zE - Zinnen',  'Woordvormen - Ruwe score', 'Woordvormen - Percentiel',\n",
    "       'Woordvormen - Taalleeftijd', 'Zinnen - Ruwe score',\n",
    "       'Zinnen - Percentiel', 'Zinnen - Taalleeftijd', 'Woordenschatbegrip - Ruwe score',\n",
    "       'Woordenschatbegrip - Percentiel', 'Woordenschatbegrip - Taalleeftijd',\n",
    "       'Woordenschatproductie - Ruwe score',\n",
    "       'Woordenschatproductie - Percentiel',\n",
    "       'Woordenschatproductie - Taalleeftijd', 'CDIpresent_a', 'CDIpresent_b',  'Sex', 'Age_original_a', 'Age_days_a', 'Age_months_a',\n",
    "       'Age_original_b', 'Age_days_b', 'Age_months_b', 'emt_mother','klepel_mother', 'vc_mother', 'dyslexia_mother_accToMother',\n",
    "       'emt_father', 'klepel_father', 'vc_father',\n",
    "       'dyslexia_father_accToFather'], axis = 1)"
   ]
  },
  {
   "cell_type": "code",
   "execution_count": 56,
   "metadata": {},
   "outputs": [],
   "source": [
    "metadata['eeg_file']= metadata['ParticipantID'].astype(str) + metadata['test']"
   ]
  },
  {
   "cell_type": "code",
   "execution_count": 25,
   "metadata": {},
   "outputs": [],
   "source": [
    "epoch_folder = os.path.join(data_path, \"epochs_clean\").replace(\"\\\\\",\"/\") "
   ]
  },
  {
   "cell_type": "code",
   "execution_count": 57,
   "metadata": {},
   "outputs": [],
   "source": [
    "epoch_filename = []\n",
    "\n",
    "# Iterate directory\n",
    "for path in os.listdir(path_epochs):\n",
    "    # check if current path is a file\n",
    "    if os.path.isfile(os.path.join(path_epochs, path)):\n",
    "        epoch_filename.append(path)"
   ]
  },
  {
   "cell_type": "code",
   "execution_count": 58,
   "metadata": {},
   "outputs": [],
   "source": [
    "df_eegfilenames = pd.DataFrame(eeg_filename, columns=['eeg_file'])\n",
    "df_epochfilenames = pd.DataFrame(epoch_filename, columns=['epoch_file'])"
   ]
  },
  {
   "cell_type": "code",
   "execution_count": 59,
   "metadata": {},
   "outputs": [],
   "source": [
    "df_epochfilenames['eeg_file'] = df_epochfilenames.epoch_file.str[:4]"
   ]
  },
  {
   "cell_type": "code",
   "execution_count": 60,
   "metadata": {},
   "outputs": [],
   "source": [
    "metadata['path_eeg'] = path_eeg\n",
    "metadata['path_epoch'] = path_epochs#epoch_folder\n",
    "metadata['path_eventmarkers'] = path_eventmarkers"
   ]
  },
  {
   "cell_type": "code",
   "execution_count": 61,
   "metadata": {},
   "outputs": [
    {
     "data": {
      "text/plain": [
       "0      ../../volume-ceph/nadine_storage/processed_epochs\n",
       "1      ../../volume-ceph/nadine_storage/processed_epochs\n",
       "2      ../../volume-ceph/nadine_storage/processed_epochs\n",
       "3      ../../volume-ceph/nadine_storage/processed_epochs\n",
       "4      ../../volume-ceph/nadine_storage/processed_epochs\n",
       "                             ...                        \n",
       "217    ../../volume-ceph/nadine_storage/processed_epochs\n",
       "218    ../../volume-ceph/nadine_storage/processed_epochs\n",
       "219    ../../volume-ceph/nadine_storage/processed_epochs\n",
       "220    ../../volume-ceph/nadine_storage/processed_epochs\n",
       "221    ../../volume-ceph/nadine_storage/processed_epochs\n",
       "Name: path_epoch, Length: 222, dtype: object"
      ]
     },
     "execution_count": 61,
     "metadata": {},
     "output_type": "execute_result"
    }
   ],
   "source": [
    "metadata['path_epoch']"
   ]
  },
  {
   "cell_type": "code",
   "execution_count": 62,
   "metadata": {},
   "outputs": [],
   "source": [
    "df = pd.merge(df_eegfilenames, metadata, on='eeg_file')\n",
    "df = pd.merge(df, df_epochfilenames, on='eeg_file')"
   ]
  },
  {
   "cell_type": "code",
   "execution_count": 63,
   "metadata": {},
   "outputs": [],
   "source": [
    "drop_files = [\"102a\",\"113a\", \"107b (deel 1+2)\", \"132a\", \"121b(2)\", \"113b\", \"107b (deel 3+4)\", \"147a\",\n",
    "                \"121a\", \"134a\", \"143b\", \"121b(1)\",\"136a\", \"145b\", \"150a\",\"152a\", \"184a\", \"165a\", \"151a\", \"163a\", \"179a\",\"179b\", \"182b\", \"186a\", \"193b\"]\n",
    "\n",
    "df = df[~df['eeg_file'].isin(drop_files)]\n",
    "df = df.drop(df[df['test'] == \"b\"].index).reset_index(drop=True)"
   ]
  },
  {
   "cell_type": "code",
   "execution_count": 64,
   "metadata": {},
   "outputs": [],
   "source": [
    "df.to_csv('metadata.csv', index=False)"
   ]
  },
  {
   "cell_type": "code",
   "execution_count": 65,
   "metadata": {},
   "outputs": [
    {
     "data": {
      "text/html": [
       "<div>\n",
       "<style scoped>\n",
       "    .dataframe tbody tr th:only-of-type {\n",
       "        vertical-align: middle;\n",
       "    }\n",
       "\n",
       "    .dataframe tbody tr th {\n",
       "        vertical-align: top;\n",
       "    }\n",
       "\n",
       "    .dataframe thead th {\n",
       "        text-align: right;\n",
       "    }\n",
       "</style>\n",
       "<table border=\"1\" class=\"dataframe\">\n",
       "  <thead>\n",
       "    <tr style=\"text-align: right;\">\n",
       "      <th></th>\n",
       "      <th>eeg_file</th>\n",
       "      <th>ParticipantID</th>\n",
       "      <th>test</th>\n",
       "      <th>sex</th>\n",
       "      <th>age_months</th>\n",
       "      <th>dyslexic_parent</th>\n",
       "      <th>Group_AccToParents</th>\n",
       "      <th>path_eeg</th>\n",
       "      <th>path_epoch</th>\n",
       "      <th>path_eventmarkers</th>\n",
       "      <th>epoch_file</th>\n",
       "    </tr>\n",
       "  </thead>\n",
       "  <tbody>\n",
       "    <tr>\n",
       "      <th>0</th>\n",
       "      <td>105a</td>\n",
       "      <td>105</td>\n",
       "      <td>a</td>\n",
       "      <td>f</td>\n",
       "      <td>17</td>\n",
       "      <td>f</td>\n",
       "      <td>At risk</td>\n",
       "      <td>../../volume-ceph/ePodium_projectfolder/dataset</td>\n",
       "      <td>../../volume-ceph/nadine_storage/processed_epochs</td>\n",
       "      <td>../../volume-ceph/ePodium_projectfolder/events</td>\n",
       "      <td>105a_epo.fif</td>\n",
       "    </tr>\n",
       "    <tr>\n",
       "      <th>1</th>\n",
       "      <td>107a</td>\n",
       "      <td>107</td>\n",
       "      <td>a</td>\n",
       "      <td>f</td>\n",
       "      <td>16</td>\n",
       "      <td>m</td>\n",
       "      <td>At risk</td>\n",
       "      <td>../../volume-ceph/ePodium_projectfolder/dataset</td>\n",
       "      <td>../../volume-ceph/nadine_storage/processed_epochs</td>\n",
       "      <td>../../volume-ceph/ePodium_projectfolder/events</td>\n",
       "      <td>107a_epo.fif</td>\n",
       "    </tr>\n",
       "    <tr>\n",
       "      <th>2</th>\n",
       "      <td>106a</td>\n",
       "      <td>106</td>\n",
       "      <td>a</td>\n",
       "      <td>m</td>\n",
       "      <td>19</td>\n",
       "      <td>f</td>\n",
       "      <td>At risk</td>\n",
       "      <td>../../volume-ceph/ePodium_projectfolder/dataset</td>\n",
       "      <td>../../volume-ceph/nadine_storage/processed_epochs</td>\n",
       "      <td>../../volume-ceph/ePodium_projectfolder/events</td>\n",
       "      <td>106a_epo.fif</td>\n",
       "    </tr>\n",
       "    <tr>\n",
       "      <th>3</th>\n",
       "      <td>109a</td>\n",
       "      <td>109</td>\n",
       "      <td>a</td>\n",
       "      <td>m</td>\n",
       "      <td>21</td>\n",
       "      <td>m</td>\n",
       "      <td>At risk</td>\n",
       "      <td>../../volume-ceph/ePodium_projectfolder/dataset</td>\n",
       "      <td>../../volume-ceph/nadine_storage/processed_epochs</td>\n",
       "      <td>../../volume-ceph/ePodium_projectfolder/events</td>\n",
       "      <td>109a_epo.fif</td>\n",
       "    </tr>\n",
       "    <tr>\n",
       "      <th>4</th>\n",
       "      <td>110a</td>\n",
       "      <td>110</td>\n",
       "      <td>a</td>\n",
       "      <td>m</td>\n",
       "      <td>17</td>\n",
       "      <td>m</td>\n",
       "      <td>At risk</td>\n",
       "      <td>../../volume-ceph/ePodium_projectfolder/dataset</td>\n",
       "      <td>../../volume-ceph/nadine_storage/processed_epochs</td>\n",
       "      <td>../../volume-ceph/ePodium_projectfolder/events</td>\n",
       "      <td>110a_epo.fif</td>\n",
       "    </tr>\n",
       "    <tr>\n",
       "      <th>...</th>\n",
       "      <td>...</td>\n",
       "      <td>...</td>\n",
       "      <td>...</td>\n",
       "      <td>...</td>\n",
       "      <td>...</td>\n",
       "      <td>...</td>\n",
       "      <td>...</td>\n",
       "      <td>...</td>\n",
       "      <td>...</td>\n",
       "      <td>...</td>\n",
       "      <td>...</td>\n",
       "    </tr>\n",
       "    <tr>\n",
       "      <th>96</th>\n",
       "      <td>209a</td>\n",
       "      <td>209</td>\n",
       "      <td>a</td>\n",
       "      <td>m</td>\n",
       "      <td>17</td>\n",
       "      <td>f</td>\n",
       "      <td>At risk</td>\n",
       "      <td>../../volume-ceph/ePodium_projectfolder/dataset</td>\n",
       "      <td>../../volume-ceph/nadine_storage/processed_epochs</td>\n",
       "      <td>../../volume-ceph/ePodium_projectfolder/events</td>\n",
       "      <td>209a_epo.fif</td>\n",
       "    </tr>\n",
       "    <tr>\n",
       "      <th>97</th>\n",
       "      <td>210a</td>\n",
       "      <td>210</td>\n",
       "      <td>a</td>\n",
       "      <td>m</td>\n",
       "      <td>19</td>\n",
       "      <td>m</td>\n",
       "      <td>At risk</td>\n",
       "      <td>../../volume-ceph/ePodium_projectfolder/dataset</td>\n",
       "      <td>../../volume-ceph/nadine_storage/processed_epochs</td>\n",
       "      <td>../../volume-ceph/ePodium_projectfolder/events</td>\n",
       "      <td>210a_epo.fif</td>\n",
       "    </tr>\n",
       "    <tr>\n",
       "      <th>98</th>\n",
       "      <td>202a</td>\n",
       "      <td>202</td>\n",
       "      <td>a</td>\n",
       "      <td>f</td>\n",
       "      <td>16</td>\n",
       "      <td>Nee</td>\n",
       "      <td>Control</td>\n",
       "      <td>../../volume-ceph/ePodium_projectfolder/dataset</td>\n",
       "      <td>../../volume-ceph/nadine_storage/processed_epochs</td>\n",
       "      <td>../../volume-ceph/ePodium_projectfolder/events</td>\n",
       "      <td>202a_epo.fif</td>\n",
       "    </tr>\n",
       "    <tr>\n",
       "      <th>99</th>\n",
       "      <td>201a</td>\n",
       "      <td>201</td>\n",
       "      <td>a</td>\n",
       "      <td>m</td>\n",
       "      <td>18</td>\n",
       "      <td>m</td>\n",
       "      <td>At risk</td>\n",
       "      <td>../../volume-ceph/ePodium_projectfolder/dataset</td>\n",
       "      <td>../../volume-ceph/nadine_storage/processed_epochs</td>\n",
       "      <td>../../volume-ceph/ePodium_projectfolder/events</td>\n",
       "      <td>201a_epo.fif</td>\n",
       "    </tr>\n",
       "    <tr>\n",
       "      <th>100</th>\n",
       "      <td>221a</td>\n",
       "      <td>221</td>\n",
       "      <td>a</td>\n",
       "      <td>m</td>\n",
       "      <td>19</td>\n",
       "      <td>Nee</td>\n",
       "      <td>Control</td>\n",
       "      <td>../../volume-ceph/ePodium_projectfolder/dataset</td>\n",
       "      <td>../../volume-ceph/nadine_storage/processed_epochs</td>\n",
       "      <td>../../volume-ceph/ePodium_projectfolder/events</td>\n",
       "      <td>221a_epo.fif</td>\n",
       "    </tr>\n",
       "  </tbody>\n",
       "</table>\n",
       "<p>101 rows × 11 columns</p>\n",
       "</div>"
      ],
      "text/plain": [
       "    eeg_file  ParticipantID test sex  age_months dyslexic_parent  \\\n",
       "0       105a            105    a   f          17               f   \n",
       "1       107a            107    a   f          16               m   \n",
       "2       106a            106    a   m          19               f   \n",
       "3       109a            109    a   m          21               m   \n",
       "4       110a            110    a   m          17               m   \n",
       "..       ...            ...  ...  ..         ...             ...   \n",
       "96      209a            209    a   m          17               f   \n",
       "97      210a            210    a   m          19               m   \n",
       "98      202a            202    a   f          16             Nee   \n",
       "99      201a            201    a   m          18               m   \n",
       "100     221a            221    a   m          19             Nee   \n",
       "\n",
       "    Group_AccToParents                                         path_eeg  \\\n",
       "0              At risk  ../../volume-ceph/ePodium_projectfolder/dataset   \n",
       "1              At risk  ../../volume-ceph/ePodium_projectfolder/dataset   \n",
       "2              At risk  ../../volume-ceph/ePodium_projectfolder/dataset   \n",
       "3              At risk  ../../volume-ceph/ePodium_projectfolder/dataset   \n",
       "4              At risk  ../../volume-ceph/ePodium_projectfolder/dataset   \n",
       "..                 ...                                              ...   \n",
       "96             At risk  ../../volume-ceph/ePodium_projectfolder/dataset   \n",
       "97             At risk  ../../volume-ceph/ePodium_projectfolder/dataset   \n",
       "98             Control  ../../volume-ceph/ePodium_projectfolder/dataset   \n",
       "99             At risk  ../../volume-ceph/ePodium_projectfolder/dataset   \n",
       "100            Control  ../../volume-ceph/ePodium_projectfolder/dataset   \n",
       "\n",
       "                                            path_epoch  \\\n",
       "0    ../../volume-ceph/nadine_storage/processed_epochs   \n",
       "1    ../../volume-ceph/nadine_storage/processed_epochs   \n",
       "2    ../../volume-ceph/nadine_storage/processed_epochs   \n",
       "3    ../../volume-ceph/nadine_storage/processed_epochs   \n",
       "4    ../../volume-ceph/nadine_storage/processed_epochs   \n",
       "..                                                 ...   \n",
       "96   ../../volume-ceph/nadine_storage/processed_epochs   \n",
       "97   ../../volume-ceph/nadine_storage/processed_epochs   \n",
       "98   ../../volume-ceph/nadine_storage/processed_epochs   \n",
       "99   ../../volume-ceph/nadine_storage/processed_epochs   \n",
       "100  ../../volume-ceph/nadine_storage/processed_epochs   \n",
       "\n",
       "                                  path_eventmarkers    epoch_file  \n",
       "0    ../../volume-ceph/ePodium_projectfolder/events  105a_epo.fif  \n",
       "1    ../../volume-ceph/ePodium_projectfolder/events  107a_epo.fif  \n",
       "2    ../../volume-ceph/ePodium_projectfolder/events  106a_epo.fif  \n",
       "3    ../../volume-ceph/ePodium_projectfolder/events  109a_epo.fif  \n",
       "4    ../../volume-ceph/ePodium_projectfolder/events  110a_epo.fif  \n",
       "..                                              ...           ...  \n",
       "96   ../../volume-ceph/ePodium_projectfolder/events  209a_epo.fif  \n",
       "97   ../../volume-ceph/ePodium_projectfolder/events  210a_epo.fif  \n",
       "98   ../../volume-ceph/ePodium_projectfolder/events  202a_epo.fif  \n",
       "99   ../../volume-ceph/ePodium_projectfolder/events  201a_epo.fif  \n",
       "100  ../../volume-ceph/ePodium_projectfolder/events  221a_epo.fif  \n",
       "\n",
       "[101 rows x 11 columns]"
      ]
     },
     "execution_count": 65,
     "metadata": {},
     "output_type": "execute_result"
    }
   ],
   "source": [
    "df"
   ]
  },
  {
   "cell_type": "code",
   "execution_count": null,
   "metadata": {},
   "outputs": [],
   "source": []
  }
 ],
 "metadata": {
  "kernelspec": {
   "display_name": "Python 3 (ipykernel)",
   "language": "python",
   "name": "python3"
  },
  "language_info": {
   "codemirror_mode": {
    "name": "ipython",
    "version": 3
   },
   "file_extension": ".py",
   "mimetype": "text/x-python",
   "name": "python",
   "nbconvert_exporter": "python",
   "pygments_lexer": "ipython3",
   "version": "3.8.10"
  },
  "vscode": {
   "interpreter": {
    "hash": "06729ff297c23dc5f38d677b38924ba81e0166cc67df261027dcc0563b16e0b7"
   }
  }
 },
 "nbformat": 4,
 "nbformat_minor": 4
}
