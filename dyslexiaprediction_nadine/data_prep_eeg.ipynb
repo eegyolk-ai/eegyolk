{
 "cells": [
  {
   "cell_type": "markdown",
   "metadata": {},
   "source": [
    "# EEG preprocessing "
   ]
  },
  {
   "cell_type": "markdown",
   "metadata": {},
   "source": [
    "In this notebook: \n",
    "- Necessary imports\n",
    "- Data loader for events, eeg and meta data\n",
    "- Filtering algorithm\n",
    "- EEG raw to epochs\n",
    "- saving filtered data to `metadata.csv`\n",
    "\n",
    "Preprocessing steps: \n",
    "+ Prepare EEG (1. Subtract reference (mastoids), 2. Detrend, 3. Filter, 4. Remove bad channels)\n",
    "+ Segment EEG into standard and deviant epochs (ERPs) (1. subtract baseline, 2. Reject artefacts, 3. Average (for each marker/subject/channel separately))\n",
    "+ Calculate Mismatch response (deviant - standard for a single subject) (check differences between channels and subjects)"
   ]
  },
  {
   "cell_type": "markdown",
   "metadata": {},
   "source": [
    "## Imports"
   ]
  },
  {
   "cell_type": "markdown",
   "metadata": {},
   "source": [
    "The data will be processed using the mne library. Also there are libraries made in eegyolk in order to load the metadata, eeg data and the event markers. Those libraries need to be imported"
   ]
  },
  {
   "cell_type": "code",
   "execution_count": 1,
   "metadata": {},
   "outputs": [
    {
     "ename": "ModuleNotFoundError",
     "evalue": "No module named 'display_helper'",
     "output_type": "error",
     "traceback": [
      "\u001b[1;31m---------------------------------------------------------------------------\u001b[0m",
      "\u001b[1;31mModuleNotFoundError\u001b[0m                       Traceback (most recent call last)",
      "\u001b[1;32m<ipython-input-1-bd540ef80b62>\u001b[0m in \u001b[0;36m<module>\u001b[1;34m\u001b[0m\n\u001b[0;32m     14\u001b[0m \u001b[1;32mimport\u001b[0m \u001b[0meegyolk\u001b[0m\u001b[1;33m\u001b[0m\u001b[1;33m\u001b[0m\u001b[0m\n\u001b[0;32m     15\u001b[0m \u001b[1;32mimport\u001b[0m \u001b[0meegyolk\u001b[0m\u001b[1;33m.\u001b[0m\u001b[0mhelper_functions\u001b[0m \u001b[1;32mas\u001b[0m \u001b[0mhf\u001b[0m \u001b[1;31m# library useful for eeg and erp data cleaning\u001b[0m\u001b[1;33m\u001b[0m\u001b[1;33m\u001b[0m\u001b[0m\n\u001b[1;32m---> 16\u001b[1;33m \u001b[1;32mimport\u001b[0m \u001b[0meegyolk\u001b[0m\u001b[1;33m.\u001b[0m\u001b[0minitialization_functions\u001b[0m \u001b[1;31m#library to import data\u001b[0m\u001b[1;33m\u001b[0m\u001b[1;33m\u001b[0m\u001b[0m\n\u001b[0m\u001b[0;32m     17\u001b[0m \u001b[1;32mimport\u001b[0m \u001b[0meegyolk\u001b[0m\u001b[1;33m.\u001b[0m\u001b[0mepod_helper\u001b[0m\u001b[1;33m\u001b[0m\u001b[1;33m\u001b[0m\u001b[0m\n",
      "\u001b[1;32m~\\anaconda3\\lib\\site-packages\\eegyolk\\initialization_functions.py\u001b[0m in \u001b[0;36m<module>\u001b[1;34m\u001b[0m\n\u001b[0;32m      7\u001b[0m \u001b[1;32mimport\u001b[0m \u001b[0mglob\u001b[0m\u001b[1;33m\u001b[0m\u001b[1;33m\u001b[0m\u001b[0m\n\u001b[0;32m      8\u001b[0m \u001b[1;32mfrom\u001b[0m \u001b[0mIPython\u001b[0m\u001b[1;33m.\u001b[0m\u001b[0mdisplay\u001b[0m \u001b[1;32mimport\u001b[0m \u001b[0mclear_output\u001b[0m\u001b[1;33m\u001b[0m\u001b[1;33m\u001b[0m\u001b[0m\n\u001b[1;32m----> 9\u001b[1;33m \u001b[1;32mfrom\u001b[0m \u001b[0mdisplay_helper\u001b[0m \u001b[1;32mimport\u001b[0m \u001b[0mmake_ordinal\u001b[0m\u001b[1;33m\u001b[0m\u001b[1;33m\u001b[0m\u001b[0m\n\u001b[0m\u001b[0;32m     10\u001b[0m \u001b[1;33m\u001b[0m\u001b[0m\n\u001b[0;32m     11\u001b[0m \u001b[1;33m\u001b[0m\u001b[0m\n",
      "\u001b[1;31mModuleNotFoundError\u001b[0m: No module named 'display_helper'"
     ]
    }
   ],
   "source": [
    "import mne      # toolbox for analyzing and visualizing EEG data\n",
    "import os       # using operating system dependent functionality (folders)\n",
    "import pandas as pd # data analysis and manipulation\n",
    "import numpy as np    # numerical computing (manipulating and performing operations on arrays of data)\n",
    "import copy     # Can Copy and Deepcopy files so original file is untouched.\n",
    "from ipywidgets import IntSlider, Output\n",
    "import ipywidgets as widgets\n",
    "from IPython.display import display\n",
    "import matplotlib.pyplot as plt\n",
    "from math import nan\n",
    "\n",
    "#import sys\n",
    "#sys.path.insert(0, '../eegyolk') # path to helper functions\n",
    "import eegyolk\n",
    "import eegyolk.helper_functions as hf # library useful for eeg and erp data cleaning\n",
    "import eegyolk.initialization_functions #library to import data\n",
    "import eegyolk.epod_helper"
   ]
  },
  {
   "cell_type": "code",
   "execution_count": 2,
   "metadata": {},
   "outputs": [
    {
     "name": "stdout",
     "output_type": "stream",
     "text": [
      "Requirement already satisfied: eegyolk in c:\\users\\nadin\\anaconda3\\lib\\site-packages (0.0.3)\n",
      "Requirement already satisfied: matplotlib in c:\\users\\nadin\\anaconda3\\lib\\site-packages (from eegyolk) (3.3.2)\n",
      "Requirement already satisfied: pandas in c:\\users\\nadin\\anaconda3\\lib\\site-packages (from eegyolk) (1.1.3)\n",
      "Requirement already satisfied: sklearn in c:\\users\\nadin\\anaconda3\\lib\\site-packages (from eegyolk) (0.0)\n",
      "Requirement already satisfied: mne in c:\\users\\nadin\\anaconda3\\lib\\site-packages (from eegyolk) (1.2.dev0)\n",
      "Requirement already satisfied: h5py in c:\\users\\nadin\\anaconda3\\lib\\site-packages (from eegyolk) (2.10.0)\n",
      "Requirement already satisfied: pyxdf in c:\\users\\nadin\\anaconda3\\lib\\site-packages (from eegyolk) (1.16.3)\n",
      "Note: you may need to restart the kernel to use updated packages.Requirement already satisfied: scipy in c:\\users\\nadin\\anaconda3\\lib\\site-packages (from eegyolk) (1.5.2)\n",
      "Requirement already satisfied: textdistance in c:\\users\\nadin\\anaconda3\\lib\\site-packages (from eegyolk) (4.3.0)\n",
      "Requirement already satisfied: cycler>=0.10 in c:\\users\\nadin\\anaconda3\\lib\\site-packages (from matplotlib->eegyolk) (0.10.0)\n",
      "Requirement already satisfied: numpy>=1.15 in c:\\users\\nadin\\anaconda3\\lib\\site-packages (from matplotlib->eegyolk) (1.19.2)\n",
      "Requirement already satisfied: pillow>=6.2.0 in c:\\users\\nadin\\anaconda3\\lib\\site-packages (from matplotlib->eegyolk) (7.2.0)\n",
      "Requirement already satisfied: pyparsing!=2.0.4,!=2.1.2,!=2.1.6,>=2.0.3 in c:\\users\\nadin\\anaconda3\\lib\\site-packages (from matplotlib->eegyolk) (2.4.7)\n",
      "Requirement already satisfied: python-dateutil>=2.1 in c:\\users\\nadin\\anaconda3\\lib\\site-packages (from matplotlib->eegyolk) (2.8.1)\n",
      "Requirement already satisfied: certifi>=2020.06.20 in c:\\users\\nadin\\anaconda3\\lib\\site-packages (from matplotlib->eegyolk) (2020.6.20)\n",
      "Requirement already satisfied: kiwisolver>=1.0.1 in c:\\users\\nadin\\anaconda3\\lib\\site-packages (from matplotlib->eegyolk) (1.3.0)\n",
      "Requirement already satisfied: pytz>=2017.2 in c:\\users\\nadin\\anaconda3\\lib\\site-packages (from pandas->eegyolk) (2020.1)\n",
      "Requirement already satisfied: scikit-learn in c:\\users\\nadin\\anaconda3\\lib\\site-packages (from sklearn->eegyolk) (0.23.2)\n",
      "Requirement already satisfied: decorator in c:\\users\\nadin\\anaconda3\\lib\\site-packages (from mne->eegyolk) (4.4.2)\n",
      "Requirement already satisfied: packaging in c:\\users\\nadin\\anaconda3\\lib\\site-packages (from mne->eegyolk) (20.4)\n",
      "Requirement already satisfied: pooch>=1.5 in c:\\users\\nadin\\anaconda3\\lib\\site-packages (from mne->eegyolk) (1.6.0)\n",
      "Requirement already satisfied: tqdm in c:\\users\\nadin\\anaconda3\\lib\\site-packages (from mne->eegyolk) (4.50.2)\n",
      "\n",
      "Requirement already satisfied: jinja2 in c:\\users\\nadin\\anaconda3\\lib\\site-packages (from mne->eegyolk) (2.11.2)\n",
      "Requirement already satisfied: six in c:\\users\\nadin\\anaconda3\\lib\\site-packages (from h5py->eegyolk) (1.15.0)\n",
      "Requirement already satisfied: joblib>=0.11 in c:\\users\\nadin\\anaconda3\\lib\\site-packages (from scikit-learn->sklearn->eegyolk) (0.17.0)\n",
      "Requirement already satisfied: threadpoolctl>=2.0.0 in c:\\users\\nadin\\anaconda3\\lib\\site-packages (from scikit-learn->sklearn->eegyolk) (2.1.0)\n",
      "Requirement already satisfied: requests>=2.19.0 in c:\\users\\nadin\\anaconda3\\lib\\site-packages (from pooch>=1.5->mne->eegyolk) (2.24.0)\n",
      "Requirement already satisfied: appdirs>=1.3.0 in c:\\users\\nadin\\anaconda3\\lib\\site-packages (from pooch>=1.5->mne->eegyolk) (1.4.4)\n",
      "Requirement already satisfied: MarkupSafe>=0.23 in c:\\users\\nadin\\anaconda3\\lib\\site-packages (from jinja2->mne->eegyolk) (1.1.1)\n",
      "Requirement already satisfied: idna<3,>=2.5 in c:\\users\\nadin\\anaconda3\\lib\\site-packages (from requests>=2.19.0->pooch>=1.5->mne->eegyolk) (2.10)\n",
      "Requirement already satisfied: urllib3!=1.25.0,!=1.25.1,<1.26,>=1.21.1 in c:\\users\\nadin\\anaconda3\\lib\\site-packages (from requests>=2.19.0->pooch>=1.5->mne->eegyolk) (1.25.11)\n",
      "Requirement already satisfied: chardet<4,>=3.0.2 in c:\\users\\nadin\\anaconda3\\lib\\site-packages (from requests>=2.19.0->pooch>=1.5->mne->eegyolk) (3.0.4)\n"
     ]
    }
   ],
   "source": [
    "pip install eegyolk"
   ]
  },
  {
   "cell_type": "markdown",
   "metadata": {},
   "source": [
    "## Load metadata and eeg files"
   ]
  },
  {
   "cell_type": "markdown",
   "metadata": {},
   "source": [
    "First the different pathways for the different datasets need to be defined. There are three pathways: eeg, metadata and events. The files can be loaded using the initialization_functions library. All event markers needs to be saved in a seperate folder. If not saved already, the event markers will be saved using the initialization_function library. The data must be saved in a separate folder called \"epod_data_not_pushed\" in the ePodium repository. "
   ]
  },
  {
   "cell_type": "code",
   "execution_count": null,
   "metadata": {},
   "outputs": [],
   "source": [
    "pwd"
   ]
  },
  {
   "cell_type": "code",
   "execution_count": null,
   "metadata": {},
   "outputs": [],
   "source": [
    "#data_path = \"../../volume-ceph/ePodium_projectfolder\"\n",
    "data_path = \"F:\\Stage\\ePODIUM\\Data\\ePodium_projectfolder\"\n",
    "path_eeg = os.path.join(data_path, \"Dataset\")\n",
    "path_metadata = os.path.join(data_path, \"metadata\")\n",
    "path_eventmarkers = os.path.join(data_path, \"events\")"
   ]
  },
  {
   "cell_type": "code",
   "execution_count": null,
   "metadata": {},
   "outputs": [],
   "source": [
    "# load metadata\n",
    "files_metadata = [\"children.txt\", \"cdi.txt\", \"parents.txt\", \"CODES_overview.txt\"]  \n",
    "children, cdi, parents, codes = initialization_functions.i_load_metadata(path_metadata, files_metadata)"
   ]
  },
  {
   "cell_type": "code",
   "execution_count": null,
   "metadata": {
    "jupyter": {
     "outputs_hidden": true
    },
    "tags": []
   },
   "outputs": [],
   "source": [
    "# load eeg\n",
    "eeg, eeg_filename =  initialization_functions.load_dataset(path_eeg, preload=False) # preload must be set to True once on the cloud"
   ]
  },
  {
   "cell_type": "code",
   "execution_count": null,
   "metadata": {},
   "outputs": [],
   "source": [
    "# load events \n",
    "events_files = os.listdir(path_eventmarkers)\n",
    "if len(events_files) == 0 or path_eventmarkers == False: # check if event markers are saved in a seperate folder\n",
    "    initialization_functions.save_event_markers(path_eventmarkers, eeg, eeg_filename) # save event markers\n",
    "\n",
    "event_markers = initialization_functions.load_events(path_eventmarkers, eeg_filename) # load event markers\n",
    "event_markers_simplified = epod_helper.group_events_12(event_markers) # simplify events"
   ]
  },
  {
   "cell_type": "markdown",
   "metadata": {},
   "source": [
    "## Filtering raw EEG "
   ]
  },
  {
   "cell_type": "markdown",
   "metadata": {},
   "source": [
    "### Set filter parameters"
   ]
  },
  {
   "cell_type": "markdown",
   "metadata": {},
   "source": [
    "Below you can define the frequencies for the bandpass filter. The lowpass can not be below 0 and the highpass can not be higher then 100. Most common bandpass filter is filtering between 0.1 and 30. "
   ]
  },
  {
   "cell_type": "code",
   "execution_count": null,
   "metadata": {
    "scrolled": true
   },
   "outputs": [],
   "source": [
    "lowpass = widgets.BoundedFloatText(\n",
    "    value=0.1,\n",
    "    min=0,\n",
    "    max=100,\n",
    "    step=0.1,\n",
    "    description='lowpass:',\n",
    "    disabled=False\n",
    ")\n",
    "\n",
    "highpass = widgets.BoundedFloatText(\n",
    "    value=30,\n",
    "    min=0,\n",
    "    max=100,\n",
    "    step=0.1,\n",
    "    description='highpass:',\n",
    "    disabled=False\n",
    ")\n",
    "\n",
    "widgets.VBox([lowpass,highpass])\n"
   ]
  },
  {
   "cell_type": "code",
   "execution_count": null,
   "metadata": {},
   "outputs": [],
   "source": [
    "# change type to integer\n",
    "lowpass = float(lowpass.value)\n",
    "highpass = float(highpass.value)"
   ]
  },
  {
   "cell_type": "markdown",
   "metadata": {},
   "source": [
    "The number of freqs can vary and be adjusted by changing `n`. The used frequency for this analysis is `[60, 120, 180, 240]`."
   ]
  },
  {
   "cell_type": "code",
   "execution_count": null,
   "metadata": {},
   "outputs": [],
   "source": [
    "n = 4\n",
    "freq = list(widgets.BoundedIntText(\n",
    "    description='freq[{}]'.format(i),\n",
    "    min=0,\n",
    "    max=300,\n",
    "    step=1,\n",
    "    value=(i+1)*60)\n",
    "    for i in range(n))\n",
    "\n",
    "widgets.VBox(children=freq)"
   ]
  },
  {
   "cell_type": "code",
   "execution_count": null,
   "metadata": {},
   "outputs": [],
   "source": [
    "freqs= [f.value for f in freq]"
   ]
  },
  {
   "cell_type": "markdown",
   "metadata": {},
   "source": [
    "Epochs are created with joining the eeg data with a specific event.  mne.Epochs automaticaly create a baseline correction and artefact rejection. "
   ]
  },
  {
   "cell_type": "code",
   "execution_count": null,
   "metadata": {},
   "outputs": [],
   "source": [
    "event_dictionary = epod_helper.event_dictionary\n",
    "event_dictionary"
   ]
  },
  {
   "cell_type": "markdown",
   "metadata": {},
   "source": [
    "In order to create the epochs, the time before `tmin` and after an event `tmax` needs to be defined. The default values are set to -0.3 and 0.7. `tmin` and `tmax` are the start and stop time relative to each event."
   ]
  },
  {
   "cell_type": "code",
   "execution_count": null,
   "metadata": {},
   "outputs": [],
   "source": [
    "tmin = widgets.BoundedFloatText(\n",
    "    value=-0.3,\n",
    "    min=-1,\n",
    "    max=1,\n",
    "    step=0.1,\n",
    "    description='tmin:',\n",
    "    disabled=False\n",
    ")\n",
    "\n",
    "tmax = widgets.BoundedFloatText(\n",
    "    value=0.7,\n",
    "    min=-1,\n",
    "    max=1,\n",
    "    step=0.1,\n",
    "    description='tmax:',\n",
    "    disabled=False\n",
    ")\n",
    "\n",
    "widgets.VBox([tmin,tmax])"
   ]
  },
  {
   "cell_type": "code",
   "execution_count": null,
   "metadata": {},
   "outputs": [],
   "source": [
    "tmin = float(tmin.value)\n",
    "tmax = float(tmax.value)"
   ]
  },
  {
   "cell_type": "markdown",
   "metadata": {},
   "source": [
    "### Filter generator"
   ]
  },
  {
   "cell_type": "markdown",
   "metadata": {},
   "source": [
    "This filter contains a bandpass filter, with as input the parameters `lowpass` and `highpass`. It also contains a notch filter to filter out power line noise and needs as input `freqs` for frequencies to apply the notch filter on. The next input is `mastoid_channels`, to subtract the reference from the raw eeg data. Finally, channels from the eeg can be dropped by adjusting the `drop_ch`. "
   ]
  },
  {
   "cell_type": "markdown",
   "metadata": {},
   "source": [
    "For a selected event, an interval is created with a time before and after event. This represents an epoch. The function automatically performs a baseline correction. "
   ]
  },
  {
   "cell_type": "code",
   "execution_count": null,
   "metadata": {},
   "outputs": [],
   "source": [
    "mastoid_channels = ['EXG1', 'EXG2']\n",
    "drop_ch = ['EXG1', 'EXG2','EXG3', 'EXG4', 'EXG5', 'EXG6', 'EXG7', 'EXG8', 'Status']\n",
    "\n",
    "def filter_raweeg_gen(eeg, lowpass, highpass, freqs, mastoid_channels, drop_ch):\n",
    "    for i in range(len(eeg)): \n",
    "        processed_file = os.path.join(epoch_folder, eeg_filename[i]+\"_epo.fif\")\n",
    "        if not os.path.exists(processed_file):\n",
    "            yield hf.filter_eeg_raw(eeg[i].load_data(), lowpass, highpass, freqs, mastoid_channels, drop_ch)\n",
    "        else: \n",
    "            yield print(f\"File {processed_file} already processed \\n\", end = '')\n",
    "            "
   ]
  },
  {
   "cell_type": "code",
   "execution_count": null,
   "metadata": {
    "tags": []
   },
   "outputs": [],
   "source": [
    "filtered_eegs = filter_raweeg_gen(eeg, lowpass, highpass, freqs, mastoid_channels, drop_ch)\n",
    "#epoch_folder = os.path.join( \"../../volume-ceph/processed/\", \"epochs\")\n",
    "epoch_folder = os.path.join(data_path, \"epochs\")\n",
    "if not os.path.exists(epoch_folder):\n",
    "        os.mkdir(epoch_folder)\n",
    "        \n",
    "for idx, single_eeg in enumerate(filtered_eegs):\n",
    "    processed_file = os.path.join(epoch_folder, eeg_filename[idx]+\"_epo.fif\")\n",
    "    if not os.path.exists(processed_file):\n",
    "        epoch = hf.create_epoch(single_eeg, event_markers_simplified[idx], tmin, tmax)\n",
    "        epoch_file = os.path.join(epoch_folder, eeg_filename[idx]+\"_epo.fif\")\n",
    "        epoch.save(epoch_file, overwrite=True)\n",
    "        print(\"\\n\", idx+1, \" saved.\")\n"
   ]
  },
  {
   "cell_type": "markdown",
   "metadata": {},
   "source": [
    "## Create DataFrame with metadata and eeg/epoch paths"
   ]
  },
  {
   "cell_type": "code",
   "execution_count": null,
   "metadata": {},
   "outputs": [],
   "source": [
    "parents.rename(columns = {'child':'ParticipantID'}, inplace=True)\n",
    "cdi.rename(columns = {'participant':'ParticipantID'}, inplace=True)"
   ]
  },
  {
   "cell_type": "code",
   "execution_count": null,
   "metadata": {},
   "outputs": [],
   "source": [
    "metadata = pd.merge(cdi, children, on=\"ParticipantID\")\n",
    "metadata = pd.merge(metadata, parents, on=\"ParticipantID\")"
   ]
  },
  {
   "cell_type": "code",
   "execution_count": null,
   "metadata": {},
   "outputs": [],
   "source": [
    "metadata.columns"
   ]
  },
  {
   "cell_type": "code",
   "execution_count": null,
   "metadata": {},
   "outputs": [],
   "source": [
    "metadata = metadata.drop(['age_months_days','b01 - Geluidseffecten en dierengeluiden',\n",
    "       'b02 - Dierennamen', 'b03 - Voertuigen', 'b04 - Speelgoed',\n",
    "       'b05 - Eten en drinken', 'b06 - Kleding', 'b07 - Delen van het lichaam',\n",
    "       'b08 - Kleine huishoudelijke voorwerpen', 'b09 - Meubels en kamers',\n",
    "       'b10 - Voorwerpen buitenshuis', 'b11 - Plaatsen buitenshuis',\n",
    "       'b12 - Mensen', 'b13 - Spelletjes en routines',\n",
    "       'b14 - Omschrijvende woorden', 'b15 - Werkwoorden',\n",
    "       'b16 - Woorden over tijd', 'b17 - Voornaamwoorden',\n",
    "       'b18 - Vragende woordjes', 'b19 - Voorzetsels en plaatsbepalingen',\n",
    "       'b20 - Hoeveelheden en lidwoorden', 'b21 - Hulpwerkwoorden',\n",
    "       'b22 - Voegwoorden', 'p01 - Geluidseffecten en dierengeluiden',\n",
    "       'p02 - Dierennamen', 'p03 - Voertuigen', 'p04 - Speelgoed',\n",
    "       'p05 - Eten en drinken', 'p06 - Kleding', 'p07 - Delen van het lichaam',\n",
    "       'p08 - Kleine huishoudelijke voorwerpen', 'p09 - Meubels en kamers',\n",
    "       'p10 - Voorwerpen buitenshuis', 'p11 - Plaatsen buitenshuis',\n",
    "       'p12 - Mensen', 'p13 - Spelletjes en routines',\n",
    "       'p14 - Omschrijvende woorden', 'p15 - Werkwoorden',\n",
    "       'p16 - Woorden over tijd', 'p17 - Voornaamwoorden',\n",
    "       'p18 - Vragende woordjes', 'p19 - Voorzetsels en plaatsbepalingen',\n",
    "       'p20 - Hoeveelheden en lidwoorden', 'p21 - Hulpwerkwoorden',\n",
    "       'p22 - Voegwoorden', 'wB - Woorduiteinden', 'wC - Woordvormen',\n",
    "       'zE - Zinnen',  'Woordvormen - Ruwe score', 'Woordvormen - Percentiel',\n",
    "       'Woordvormen - Taalleeftijd', 'Zinnen - Ruwe score',\n",
    "       'Zinnen - Percentiel', 'Zinnen - Taalleeftijd', 'Woordenschatbegrip - Ruwe score',\n",
    "       'Woordenschatbegrip - Percentiel', 'Woordenschatbegrip - Taalleeftijd',\n",
    "       'Woordenschatproductie - Ruwe score',\n",
    "       'Woordenschatproductie - Percentiel',\n",
    "       'Woordenschatproductie - Taalleeftijd', 'CDIpresent_a', 'CDIpresent_b',  'Sex', 'Age_original_a', 'Age_days_a', 'Age_months_a',\n",
    "       'Age_original_b', 'Age_days_b', 'Age_months_b', 'emt_mother','klepel_mother', 'vc_mother', 'dyslexia_mother_accToMother',\n",
    "       'emt_father', 'klepel_father', 'vc_father',\n",
    "       'dyslexia_father_accToFather'], axis = 1)"
   ]
  },
  {
   "cell_type": "code",
   "execution_count": null,
   "metadata": {},
   "outputs": [],
   "source": [
    "metadata['eeg_file']= metadata['ParticipantID'].astype(str) + metadata['test']"
   ]
  },
  {
   "cell_type": "code",
   "execution_count": null,
   "metadata": {},
   "outputs": [],
   "source": [
    "epoch_folder = os.path.join(data_path, \"epochs\")"
   ]
  },
  {
   "cell_type": "code",
   "execution_count": null,
   "metadata": {},
   "outputs": [],
   "source": [
    "epoch_filename = []\n",
    "\n",
    "# Iterate directory\n",
    "for path in os.listdir(epoch_folder):\n",
    "    # check if current path is a file\n",
    "    if os.path.isfile(os.path.join(epoch_folder, path)):\n",
    "        epoch_filename.append(path)"
   ]
  },
  {
   "cell_type": "code",
   "execution_count": null,
   "metadata": {},
   "outputs": [],
   "source": [
    "metadata['path_eeg'] = path_eeg\n",
    "metadata['path_epoch'] = epoch_folder\n",
    "metadata['path_eventmarkers'] = path_eventmarkers"
   ]
  },
  {
   "cell_type": "code",
   "execution_count": null,
   "metadata": {},
   "outputs": [],
   "source": [
    "df_eegfilenames = pd.DataFrame(eeg_filename, columns=['eeg_file'])\n",
    "df_epochfilenames = pd.DataFrame(epoch_filename, columns=['epoch_file'])"
   ]
  },
  {
   "cell_type": "code",
   "execution_count": null,
   "metadata": {},
   "outputs": [],
   "source": [
    "df_epochfilenames['eeg_file'] = df_epochfilenames.epoch_file.str[:4]"
   ]
  },
  {
   "cell_type": "code",
   "execution_count": null,
   "metadata": {},
   "outputs": [],
   "source": [
    "df = pd.merge(df_eegfilenames, metadata, on='eeg_file')\n",
    "df = pd.merge(df, df_epochfilenames, on='eeg_file')"
   ]
  },
  {
   "cell_type": "code",
   "execution_count": null,
   "metadata": {},
   "outputs": [],
   "source": [
    "drop_files = [\"113a\", \"107b (deel 1+2)\", \"132a\", \"121b(2)\", \"113b\", \"107b (deel 3+4)\", \"147a\",\n",
    "                \"121a\", \"134a\", \"143b\", \"121b(1)\", \"145b\", \"152a\", \"184a\", \"165a\", \"151a\", \"163a\", \"179a\",\"179b\", \"182b\", \"186a\", \"193b\"]\n",
    "\n",
    "df = df[~df['eeg_file'].isin(drop_files)]\n",
    "df = df.drop(df[df['test'] == \"b\"].index).reset_index(drop=True)"
   ]
  },
  {
   "cell_type": "code",
   "execution_count": null,
   "metadata": {},
   "outputs": [],
   "source": [
    "df.to_csv('metadata.csv', index=False)"
   ]
  },
  {
   "cell_type": "code",
   "execution_count": null,
   "metadata": {},
   "outputs": [],
   "source": [
    "df"
   ]
  },
  {
   "cell_type": "code",
   "execution_count": null,
   "metadata": {},
   "outputs": [],
   "source": []
  }
 ],
 "metadata": {
  "kernelspec": {
   "display_name": "Python 3",
   "language": "python",
   "name": "python3"
  },
  "language_info": {
   "codemirror_mode": {
    "name": "ipython",
    "version": 3
   },
   "file_extension": ".py",
   "mimetype": "text/x-python",
   "name": "python",
   "nbconvert_exporter": "python",
   "pygments_lexer": "ipython3",
   "version": "3.8.5"
  },
  "vscode": {
   "interpreter": {
    "hash": "06729ff297c23dc5f38d677b38924ba81e0166cc67df261027dcc0563b16e0b7"
   }
  }
 },
 "nbformat": 4,
 "nbformat_minor": 4
}
