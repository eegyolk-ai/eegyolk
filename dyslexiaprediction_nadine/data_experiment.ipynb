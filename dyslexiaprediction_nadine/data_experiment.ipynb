{
 "cells": [
  {
   "cell_type": "code",
   "execution_count": 1,
   "id": "9cac9de4",
   "metadata": {},
   "outputs": [],
   "source": [
    "import mne      # toolbox for analyzing and visualizing EEG data\n",
    "import os       # using operating system dependent functionality (folders)\n",
    "import pandas   # data analysis and manipulation\n",
    "import numpy    # numerical computing (manipulating and performing operations on arrays of data)\n",
    "import copy     # Can Copy and Deepcopy files so original file is untouched.\n",
    "from ipywidgets import IntSlider, Output\n",
    "from IPython.display import display"
   ]
  },
  {
   "cell_type": "code",
   "execution_count": null,
   "id": "c64ee753",
   "metadata": {},
   "outputs": [],
   "source": [
    "# VARIABLES:\n",
    "PATH_metadata = \"F:\\\\Stage\\\\ePODIUM\\\\Data\\\\metadata\\\\\"\n",
    "PATH_excelFiles = \"F:\\\\Stage\\\\ePODIUM\\\\Data\\\\metadata\\\\\"\n",
    "MakeExcelFiles = True # Option to put .txt files into Excel files\n",
    "\n",
    "def LoadMetaData(filename):\n",
    "    originalPATH = PATH_metadata + filename + '.txt'    \n",
    "    if os.path.exists(originalPATH):  \n",
    "        MetaData = pandas.read_table(originalPATH)\n",
    "        if(MakeExcelFiles):\n",
    "            excelPATH = PATH_excelFiles + filename + '.xlsx'       \n",
    "            MetaData.to_excel(excelPATH)            \n",
    "        return MetaData            \n",
    "    else: \n",
    "        print(\"PATH NOT FOUND:  \" + originalPATH) \n",
    "        return None\n",
    "\n",
    "cdi = LoadMetaData(\"cdi\")\n",
    "children = LoadMetaData(\"children\")\n",
    "parents = LoadMetaData(\"parents\")\n",
    "\n",
    "# Process Sound Event Codes file\n",
    "CODES_overview = LoadMetaData(\"CODES_overview\")\n",
    "CODES_overview = CODES_overview.set_index(\"nrInPresentationScript\")[[\"condition\", \"stimulusType\", \"nrOfToken\"]]\n",
    "\n",
    "## UNCOMMENT TO SHOW (one at a time) (shortcut: ctrl+/): \n",
    "# cdi\n",
    "# children\n",
    "# parents\n",
    "CODES_overview"
   ]
  }
 ],
 "metadata": {
  "kernelspec": {
   "display_name": "Python 3",
   "language": "python",
   "name": "python3"
  },
  "language_info": {
   "codemirror_mode": {
    "name": "ipython",
    "version": 3
   },
   "file_extension": ".py",
   "mimetype": "text/x-python",
   "name": "python",
   "nbconvert_exporter": "python",
   "pygments_lexer": "ipython3",
   "version": "3.8.13"
  }
 },
 "nbformat": 4,
 "nbformat_minor": 5
}
