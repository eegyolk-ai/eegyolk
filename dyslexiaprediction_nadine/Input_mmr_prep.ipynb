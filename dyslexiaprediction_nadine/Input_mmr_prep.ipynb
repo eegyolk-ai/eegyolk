{
 "cells": [
  {
   "cell_type": "markdown",
   "metadata": {},
   "source": [
    "# Model input ERP format preparation "
   ]
  },
  {
   "cell_type": "markdown",
   "metadata": {},
   "source": [
    "In this notebook: \n",
    "- Necessary inputs\n",
    "- Read all epochs\n",
    "- Function to create dataframe with average mismatch response for all participants (needs to be transformed to function)\n",
    "- Formatting dataframe as suitable model input"
   ]
  },
  {
   "cell_type": "markdown",
   "metadata": {},
   "source": [
    "## Imports"
   ]
  },
  {
   "cell_type": "code",
   "execution_count": 1,
   "metadata": {},
   "outputs": [],
   "source": [
    "import mne      # toolbox for analyzing and visualizing EEG data\n",
    "import os       # using operating system dependent functionality (folders)\n",
    "import pandas as pd # data analysis and manipulation\n",
    "import numpy as np    # numerical computing (manipulating and performing operations on arrays of data)\n",
    "import ipywidgets as widgets\n",
    "from IPython.display import display\n",
    "from numpy import trapz\n",
    "from varname import nameof \n",
    "import scipy.stats as stats\n",
    "from scipy.stats import kurtosis, skew\n",
    "\n",
    "import sys\n",
    "sys.path.insert(0, '../eegyolk') # path to helper functions\n",
    "#import eegyolk\n",
    "import helper_functions as hf # library useful for eeg and erp data cleaning\n",
    "import initialization_functions #library to import data\n",
    "import epod_helper"
   ]
  },
  {
   "cell_type": "code",
   "execution_count": 2,
   "metadata": {},
   "outputs": [],
   "source": [
    "metadata = pd.read_csv('metadata.csv', sep = ',')"
   ]
  },
  {
   "cell_type": "code",
   "execution_count": 7,
   "metadata": {},
   "outputs": [],
   "source": [
    "test = metadata[:30]"
   ]
  },
  {
   "cell_type": "code",
   "execution_count": 9,
   "metadata": {},
   "outputs": [
    {
     "data": {
      "text/plain": [
       "0    17\n",
       "1    13\n",
       "Name: Group_AccToParents, dtype: int64"
      ]
     },
     "execution_count": 9,
     "metadata": {},
     "output_type": "execute_result"
    }
   ],
   "source": [
    "test['Group_AccToParents'].value_counts()"
   ]
  },
  {
   "cell_type": "code",
   "execution_count": 10,
   "metadata": {},
   "outputs": [
    {
     "data": {
      "text/plain": [
       "0    58\n",
       "1    43\n",
       "Name: Group_AccToParents, dtype: int64"
      ]
     },
     "execution_count": 10,
     "metadata": {},
     "output_type": "execute_result"
    }
   ],
   "source": [
    "metadata['Group_AccToParents'].value_counts()"
   ]
  },
  {
   "cell_type": "markdown",
   "metadata": {},
   "source": [
    "## Create pandas dataframe with the average difference between standard and deviant responses"
   ]
  },
  {
   "cell_type": "markdown",
   "metadata": {},
   "source": [
    "The function below needs `metadata`, the loaded `epochs` and the definition of the standard and deviant events as input. You should define your standard and deviant events as an array. In the function `input_mmr_prep` it's important to know that the assumption is made that the deviant follows after a standard event. Therefore the deviant belonging to the standard is the  standard event number + 1. Make sure your events are numbered like this, else the function won't calculate the mismatch response.  "
   ]
  },
  {
   "cell_type": "code",
   "execution_count": 4,
   "metadata": {},
   "outputs": [],
   "source": [
    "def input_mmr_prep(metadata, chnames_list, standard_events, deviant_events): \n",
    "    # create dataframe with expected columns \n",
    "    df = pd.DataFrame(columns=[\"eeg_file\",  \"channel\", 'std', 'sur', 'min', 'max', 'skew','kurt']) \n",
    "    epochs = initialization_functions.read_filtered_data(metadata)\n",
    "\n",
    "    # loop over all participants\n",
    "    for i in range(len(metadata['eeg_file'])):\n",
    "        \n",
    "        std_evoked = epochs[i][standard_events].average() \n",
    "        dev_evoked = epochs[i][deviant_events].average()\n",
    "        \n",
    "        \n",
    "        for channel in chnames_list: \n",
    "            evoked_diff = mne.combine_evoked([std_evoked, dev_evoked], weights=[1, -1]).get_data(picks=channel) # calculate the mismatch response between standard and deviant evoked\n",
    "            evoked_diff = np.reshape(evoked_diff, 2049)\n",
    "\n",
    "            mmr_std = evoked_diff.std()\n",
    "            mmr_sur = trapz(evoked_diff)\n",
    "            mmr_min = evoked_diff.min()\n",
    "            mmr_max = evoked_diff.max()\n",
    "            mmr_kurt = evoked_diff.kurtosis()\n",
    "            mmr_skew = evoked_diff.skew()\n",
    "            \n",
    "            #zerocross= 0\n",
    "            #for j in range(1, len(evoked_diff)): \n",
    "            #    \n",
    "            #    if ((evoked_diff[j-1]) > 0 and evoked_diff[j] < 0):\n",
    "            #        zerocross +=1\n",
    "            #    if ((evoked_diff[j-1]) < 0 and evoked_diff[j] > 0):\n",
    "            #        zerocross +=1\n",
    "            #                   \n",
    "            #mmr_zero = zerocross\n",
    "            \n",
    "            df = df.append({'eeg_file': metadata['eeg_file'][i], 'channel': channel, 'std' : mmr_std, 'sur' : mmr_sur, 'min' : mmr_min, 'max' : mmr_max, 'skew' : mmr_skew, 'kurt': mmr_kurt}, ignore_index=True) # add 'paradigm : paradigm' if we want to separate the paradigms \n",
    "    return df"
   ]
  },
  {
   "cell_type": "code",
   "execution_count": 5,
   "metadata": {
    "scrolled": true
   },
   "outputs": [
    {
     "name": "stdout",
     "output_type": "stream",
     "text": [
      "Checking out file: 105a_epo.fif\n",
      "Checking out file: 107a_epo.fif\n",
      "Checking out file: 106a_epo.fif\n",
      "Checking out file: 109a_epo.fif\n",
      "Checking out file: 110a_epo.fif\n",
      "Checking out file: 112a_epo.fif\n",
      "Checking out file: 111a_epo.fif\n",
      "Checking out file: 114a_epo.fif\n",
      "Checking out file: 115a_epo.fif\n",
      "Checking out file: 117a_epo.fif\n",
      "Checking out file: 116a_epo.fif\n",
      "Checking out file: 118a_epo.fif\n",
      "Checking out file: 119a_epo.fif\n",
      "Checking out file: 123a_epo.fif\n",
      "Checking out file: 122a_epo.fif\n",
      "Checking out file: 124a_epo.fif\n",
      "Checking out file: 127a_epo.fif\n",
      "Checking out file: 125a_epo.fif\n",
      "Checking out file: 126a_epo.fif\n",
      "Checking out file: 130a_epo.fif\n",
      "Checking out file: 128a_epo.fif\n",
      "Checking out file: 129a_epo.fif\n",
      "Checking out file: 131a_epo.fif\n",
      "Checking out file: 135a_epo.fif\n",
      "Checking out file: 133a_epo.fif\n",
      "Checking out file: 137a_epo.fif\n",
      "Checking out file: 138a_epo.fif\n",
      "Checking out file: 139a_epo.fif\n",
      "Checking out file: 141a_epo.fif\n",
      "Checking out file: 144a_epo.fif\n",
      "Checking out file: 143a_epo.fif\n",
      "Checking out file: 142a_epo.fif\n",
      "Checking out file: 146a_epo.fif\n",
      "Checking out file: 145a_epo.fif\n",
      "Checking out file: 140a_epo.fif\n",
      "Checking out file: 148a_epo.fif\n",
      "Checking out file: 149a_epo.fif\n",
      "Checking out file: 154a_epo.fif\n",
      "Checking out file: 153a_epo.fif\n",
      "Checking out file: 155a_epo.fif\n",
      "Checking out file: 157a_epo.fif\n",
      "Checking out file: 168a_epo.fif\n",
      "Checking out file: 158a_epo.fif\n",
      "Checking out file: 161a_epo.fif\n",
      "Checking out file: 159a_epo.fif\n",
      "Checking out file: 156a_epo.fif\n",
      "Checking out file: 192a_epo.fif\n",
      "Checking out file: 177a_epo.fif\n",
      "Checking out file: 190a_epo.fif\n",
      "Checking out file: 178a_epo.fif\n",
      "Checking out file: 170a_epo.fif\n",
      "Checking out file: 162a_epo.fif\n",
      "Checking out file: 174a_epo.fif\n",
      "Checking out file: 160a_epo.fif\n",
      "Checking out file: 191a_epo.fif\n",
      "Checking out file: 169a_epo.fif\n",
      "Checking out file: 181a_epo.fif\n",
      "Checking out file: 173a_epo.fif\n",
      "Checking out file: 194a_epo.fif\n",
      "Checking out file: 193a_epo.fif\n",
      "Checking out file: 166a_epo.fif\n",
      "Checking out file: 164a_epo.fif\n",
      "Checking out file: 216a_epo.fif\n",
      "Checking out file: 175a_epo.fif\n",
      "Checking out file: 172a_epo.fif\n",
      "Checking out file: 183a_epo.fif\n",
      "Checking out file: 211a_epo.fif\n",
      "Checking out file: 185a_epo.fif\n",
      "Checking out file: 187a_epo.fif\n",
      "Checking out file: 182a_epo.fif\n",
      "Checking out file: 197a_epo.fif\n",
      "Checking out file: 212a_epo.fif\n",
      "Checking out file: 195a_epo.fif\n",
      "Checking out file: 188a_epo.fif\n",
      "Checking out file: 215a_epo.fif\n",
      "Checking out file: 167a_epo.fif\n",
      "Checking out file: 196a_epo.fif\n",
      "Checking out file: 198a_epo.fif\n",
      "Checking out file: 199a_epo.fif\n",
      "Checking out file: 180a_epo.fif\n",
      "Checking out file: 171a_epo.fif\n",
      "Checking out file: 213a_epo.fif\n",
      "Checking out file: 176a_epo.fif\n",
      "Checking out file: 200a_epo.fif\n",
      "Checking out file: 214a_epo.fif\n",
      "Checking out file: 217a_epo.fif\n",
      "Checking out file: 220a_epo.fif\n",
      "Checking out file: 101a_epo.fif\n",
      "Checking out file: 219a_epo.fif\n",
      "Checking out file: 218a_epo.fif\n",
      "Checking out file: 103a_epo.fif\n",
      "Checking out file: 104a_epo.fif\n",
      "Checking out file: 205a_epo.fif\n",
      "Checking out file: 204a_epo.fif\n",
      "Checking out file: 206a_epo.fif\n",
      "Checking out file: 208a_epo.fif\n",
      "Checking out file: 209a_epo.fif\n",
      "Checking out file: 210a_epo.fif\n",
      "Checking out file: 202a_epo.fif\n",
      "Checking out file: 201a_epo.fif\n",
      "Checking out file: 221a_epo.fif\n"
     ]
    },
    {
     "ename": "AttributeError",
     "evalue": "'numpy.ndarray' object has no attribute 'kurtosis'",
     "output_type": "error",
     "traceback": [
      "\u001b[0;31m---------------------------------------------------------------------------\u001b[0m",
      "\u001b[0;31mAttributeError\u001b[0m                            Traceback (most recent call last)",
      "Input \u001b[0;32mIn [5]\u001b[0m, in \u001b[0;36m<cell line: 13>\u001b[0;34m()\u001b[0m\n\u001b[1;32m     10\u001b[0m ch_name \u001b[38;5;241m=\u001b[39m nameof(ch_complete)\n\u001b[1;32m     11\u001b[0m ch_type \u001b[38;5;241m=\u001b[39m ch_complete\n\u001b[0;32m---> 13\u001b[0m df \u001b[38;5;241m=\u001b[39m \u001b[43minput_mmr_prep\u001b[49m\u001b[43m(\u001b[49m\u001b[43mmetadata\u001b[49m\u001b[43m,\u001b[49m\u001b[43m \u001b[49m\u001b[43mch_type\u001b[49m\u001b[43m,\u001b[49m\u001b[43m \u001b[49m\u001b[43mstandard_events\u001b[49m\u001b[43m,\u001b[49m\u001b[43m \u001b[49m\u001b[43mdeviant_events\u001b[49m\u001b[43m)\u001b[49m\n",
      "Input \u001b[0;32mIn [4]\u001b[0m, in \u001b[0;36minput_mmr_prep\u001b[0;34m(metadata, chnames_list, standard_events, deviant_events)\u001b[0m\n\u001b[1;32m     19\u001b[0m mmr_min \u001b[38;5;241m=\u001b[39m evoked_diff\u001b[38;5;241m.\u001b[39mmin()\n\u001b[1;32m     20\u001b[0m mmr_max \u001b[38;5;241m=\u001b[39m evoked_diff\u001b[38;5;241m.\u001b[39mmax()\n\u001b[0;32m---> 21\u001b[0m mmr_kurt \u001b[38;5;241m=\u001b[39m \u001b[43mevoked_diff\u001b[49m\u001b[38;5;241;43m.\u001b[39;49m\u001b[43mkurtosis\u001b[49m()\n\u001b[1;32m     22\u001b[0m mmr_skew \u001b[38;5;241m=\u001b[39m evoked_diff\u001b[38;5;241m.\u001b[39mskew()\n\u001b[1;32m     24\u001b[0m \u001b[38;5;66;03m#zerocross= 0\u001b[39;00m\n\u001b[1;32m     25\u001b[0m \u001b[38;5;66;03m#for j in range(1, len(evoked_diff)): \u001b[39;00m\n\u001b[1;32m     26\u001b[0m \u001b[38;5;66;03m#    \u001b[39;00m\n\u001b[0;32m   (...)\u001b[0m\n\u001b[1;32m     31\u001b[0m \u001b[38;5;66;03m#                   \u001b[39;00m\n\u001b[1;32m     32\u001b[0m \u001b[38;5;66;03m#mmr_zero = zerocross\u001b[39;00m\n",
      "\u001b[0;31mAttributeError\u001b[0m: 'numpy.ndarray' object has no attribute 'kurtosis'"
     ]
    }
   ],
   "source": [
    "# define the events for standard and deviant\n",
    "standard_events = ['GiepM_S','GiepS_S','GopM_S','GopS_S'] #'GiepM_S','GiepS_S','GopM_S','GopS_S'\n",
    "deviant_events = ['GiepM_D','GiepS_D','GopM_D','GopS_D'] #'GiepM_D','GiepS_D','GopM_D','GopS_D'\n",
    "ch_complete = ['Fp1', 'AF3', 'F7', 'F3', 'FC1', 'FC5', 'T7', 'C3', 'CP1', 'CP5', 'P7', 'P3', 'Pz', 'PO3', 'O1', 'Oz', 'O2', 'PO4', 'P4', 'P8', 'CP6', 'CP2', 'C4', 'T8', 'FC6', 'FC2', 'F4', 'F8', 'AF4', 'Fp2', 'Fz', 'Cz']\n",
    "ch_ttest = [ 'FC5', 'Pz', 'O1', 'PO4', 'AF4']\n",
    "ch_literature = ['Fp1', 'F7', 'F3', 'FC1', 'FC5', 'O1', 'Oz', 'O2', 'Fz']\n",
    "ch_connectivity = ['Fz', 'Oz']\n",
    "\n",
    "# specify which one you want \n",
    "ch_name = nameof(ch_complete)\n",
    "ch_type = ch_complete\n",
    "\n",
    "df = input_mmr_prep(metadata, ch_type, standard_events, deviant_events)"
   ]
  },
  {
   "cell_type": "markdown",
   "metadata": {},
   "source": [
    "## Transpose dataframe into combination of channel per participant and merge"
   ]
  },
  {
   "cell_type": "markdown",
   "metadata": {},
   "source": [
    "We now want a single row for every participant containing the paradigm and corresponding channels. The code below generates this dataframe. Also, we still need to merge some of the metadata into the dataframe, so we have the information of the age, gender and label of the participant. "
   ]
  },
  {
   "cell_type": "code",
   "execution_count": 23,
   "metadata": {},
   "outputs": [
    {
     "data": {
      "text/html": [
       "<div>\n",
       "<style scoped>\n",
       "    .dataframe tbody tr th:only-of-type {\n",
       "        vertical-align: middle;\n",
       "    }\n",
       "\n",
       "    .dataframe tbody tr th {\n",
       "        vertical-align: top;\n",
       "    }\n",
       "\n",
       "    .dataframe thead th {\n",
       "        text-align: right;\n",
       "    }\n",
       "</style>\n",
       "<table border=\"1\" class=\"dataframe\">\n",
       "  <thead>\n",
       "    <tr style=\"text-align: right;\">\n",
       "      <th></th>\n",
       "      <th>eeg_file</th>\n",
       "      <th>channel</th>\n",
       "      <th>std</th>\n",
       "      <th>sur</th>\n",
       "      <th>min</th>\n",
       "      <th>max</th>\n",
       "    </tr>\n",
       "  </thead>\n",
       "  <tbody>\n",
       "    <tr>\n",
       "      <th>0</th>\n",
       "      <td>105a</td>\n",
       "      <td>Fp1</td>\n",
       "      <td>2.775038e-06</td>\n",
       "      <td>0.002521</td>\n",
       "      <td>-3.144580e-06</td>\n",
       "      <td>8.302819e-06</td>\n",
       "    </tr>\n",
       "    <tr>\n",
       "      <th>1</th>\n",
       "      <td>105a</td>\n",
       "      <td>AF3</td>\n",
       "      <td>1.957511e-06</td>\n",
       "      <td>0.003108</td>\n",
       "      <td>-1.822005e-06</td>\n",
       "      <td>6.940042e-06</td>\n",
       "    </tr>\n",
       "    <tr>\n",
       "      <th>2</th>\n",
       "      <td>105a</td>\n",
       "      <td>F7</td>\n",
       "      <td>4.514743e-06</td>\n",
       "      <td>0.009751</td>\n",
       "      <td>-1.726272e-06</td>\n",
       "      <td>1.665358e-05</td>\n",
       "    </tr>\n",
       "    <tr>\n",
       "      <th>3</th>\n",
       "      <td>105a</td>\n",
       "      <td>F3</td>\n",
       "      <td>2.575544e-06</td>\n",
       "      <td>0.005209</td>\n",
       "      <td>-1.083537e-06</td>\n",
       "      <td>9.371592e-06</td>\n",
       "    </tr>\n",
       "    <tr>\n",
       "      <th>4</th>\n",
       "      <td>105a</td>\n",
       "      <td>FC1</td>\n",
       "      <td>6.107233e-07</td>\n",
       "      <td>-0.000770</td>\n",
       "      <td>-2.035549e-06</td>\n",
       "      <td>8.182521e-07</td>\n",
       "    </tr>\n",
       "    <tr>\n",
       "      <th>...</th>\n",
       "      <td>...</td>\n",
       "      <td>...</td>\n",
       "      <td>...</td>\n",
       "      <td>...</td>\n",
       "      <td>...</td>\n",
       "      <td>...</td>\n",
       "    </tr>\n",
       "    <tr>\n",
       "      <th>3227</th>\n",
       "      <td>221a</td>\n",
       "      <td>F8</td>\n",
       "      <td>1.078274e-06</td>\n",
       "      <td>-0.000175</td>\n",
       "      <td>-2.980455e-06</td>\n",
       "      <td>2.999743e-06</td>\n",
       "    </tr>\n",
       "    <tr>\n",
       "      <th>3228</th>\n",
       "      <td>221a</td>\n",
       "      <td>AF4</td>\n",
       "      <td>1.042879e-06</td>\n",
       "      <td>-0.000597</td>\n",
       "      <td>-2.944089e-06</td>\n",
       "      <td>2.021073e-06</td>\n",
       "    </tr>\n",
       "    <tr>\n",
       "      <th>3229</th>\n",
       "      <td>221a</td>\n",
       "      <td>Fp2</td>\n",
       "      <td>8.770587e-07</td>\n",
       "      <td>-0.000533</td>\n",
       "      <td>-3.053459e-06</td>\n",
       "      <td>1.699875e-06</td>\n",
       "    </tr>\n",
       "    <tr>\n",
       "      <th>3230</th>\n",
       "      <td>221a</td>\n",
       "      <td>Fz</td>\n",
       "      <td>9.737539e-07</td>\n",
       "      <td>-0.001715</td>\n",
       "      <td>-2.970754e-06</td>\n",
       "      <td>1.104267e-06</td>\n",
       "    </tr>\n",
       "    <tr>\n",
       "      <th>3231</th>\n",
       "      <td>221a</td>\n",
       "      <td>Cz</td>\n",
       "      <td>6.726258e-07</td>\n",
       "      <td>0.001150</td>\n",
       "      <td>-7.477099e-07</td>\n",
       "      <td>1.764965e-06</td>\n",
       "    </tr>\n",
       "  </tbody>\n",
       "</table>\n",
       "<p>3232 rows × 6 columns</p>\n",
       "</div>"
      ],
      "text/plain": [
       "     eeg_file channel           std       sur           min           max\n",
       "0        105a     Fp1  2.775038e-06  0.002521 -3.144580e-06  8.302819e-06\n",
       "1        105a     AF3  1.957511e-06  0.003108 -1.822005e-06  6.940042e-06\n",
       "2        105a      F7  4.514743e-06  0.009751 -1.726272e-06  1.665358e-05\n",
       "3        105a      F3  2.575544e-06  0.005209 -1.083537e-06  9.371592e-06\n",
       "4        105a     FC1  6.107233e-07 -0.000770 -2.035549e-06  8.182521e-07\n",
       "...       ...     ...           ...       ...           ...           ...\n",
       "3227     221a      F8  1.078274e-06 -0.000175 -2.980455e-06  2.999743e-06\n",
       "3228     221a     AF4  1.042879e-06 -0.000597 -2.944089e-06  2.021073e-06\n",
       "3229     221a     Fp2  8.770587e-07 -0.000533 -3.053459e-06  1.699875e-06\n",
       "3230     221a      Fz  9.737539e-07 -0.001715 -2.970754e-06  1.104267e-06\n",
       "3231     221a      Cz  6.726258e-07  0.001150 -7.477099e-07  1.764965e-06\n",
       "\n",
       "[3232 rows x 6 columns]"
      ]
     },
     "execution_count": 23,
     "metadata": {},
     "output_type": "execute_result"
    }
   ],
   "source": [
    "df"
   ]
  },
  {
   "cell_type": "code",
   "execution_count": 24,
   "metadata": {},
   "outputs": [],
   "source": [
    "# drop duplicates \n",
    "df = df.drop_duplicates(subset=['eeg_file','channel']) \n",
    "\n",
    "# transformation of the dataframe\n",
    "df = df.pivot(index='eeg_file', columns=['channel'])\n",
    "df.columns = ['_'.join(str(s).strip() for s in col if s) for col in df.columns]\n",
    "df.reset_index(inplace=True)\n",
    "\n",
    "# merge data with dependent feature \n",
    "df = pd.merge(df, metadata, on='eeg_file')\n",
    "pd.set_option('display.max_columns', None)\n",
    "\n",
    "# some cleaning\n",
    "df = df.drop(['eeg_file',\n",
    "       'dyslexic_parent', 'path_eeg','path_epoch',\n",
    "       'epoch_file', 'path_eventmarkers', 'age_months','test','ParticipantID'], axis =1)\n",
    "df['sex'] = np.where(\n",
    "    (df['sex']=='m'), 1,0)\n",
    "first = df.pop('Group_AccToParents')\n",
    "df.insert(0, 'Group_AccToParents', first)"
   ]
  },
  {
   "cell_type": "markdown",
   "metadata": {},
   "source": [
    "## Safe dataframe"
   ]
  },
  {
   "cell_type": "code",
   "execution_count": 25,
   "metadata": {},
   "outputs": [],
   "source": [
    "df.to_csv('df_mmr_' + ch_name + '.csv', index=False) # safe dataframe"
   ]
  },
  {
   "cell_type": "code",
   "execution_count": null,
   "metadata": {},
   "outputs": [],
   "source": [
    "df"
   ]
  },
  {
   "cell_type": "code",
   "execution_count": null,
   "metadata": {},
   "outputs": [],
   "source": []
  }
 ],
 "metadata": {
  "kernelspec": {
   "display_name": "Python 3 (ipykernel)",
   "language": "python",
   "name": "python3"
  },
  "language_info": {
   "codemirror_mode": {
    "name": "ipython",
    "version": 3
   },
   "file_extension": ".py",
   "mimetype": "text/x-python",
   "name": "python",
   "nbconvert_exporter": "python",
   "pygments_lexer": "ipython3",
   "version": "3.8.10"
  }
 },
 "nbformat": 4,
 "nbformat_minor": 4
}
