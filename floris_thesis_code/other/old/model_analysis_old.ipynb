{
 "cells": [
  {
   "cell_type": "markdown",
   "metadata": {},
   "source": [
    "# Deep Learning Model Analysis\n",
    "\n",
    "This notebook contains three sections which analyse the data and models trained in the *model_training.ipynb* notebook:\n",
    "\n",
    "1. [Load data and model](#1ma)\n",
    "2. [Deep Learning Model](#2ma)\n",
    "3. [Make predictions on testing set](#3ma)"
   ]
  },
  {
   "cell_type": "markdown",
   "metadata": {},
   "source": [
    "#### Import Packages\n",
    "Note: This notebook may output tensorflow errors if cuda is not properly installed. The notebook still functions with these errors."
   ]
  },
  {
   "cell_type": "code",
   "execution_count": 12,
   "metadata": {},
   "outputs": [],
   "source": [
    "import mne\n",
    "import numpy as np\n",
    "import os\n",
    "import glob\n",
    "import matplotlib.pyplot as plt\n",
    "import ipywidgets\n",
    "import tensorflow as tf\n",
    "import pandas as pd\n",
    "from IPython.display import clear_output\n",
    "\n",
    "# Local\n",
    "import local_paths\n",
    "from functions import epodium, processing, display_helper\n",
    "from functions.epodium import Epodium\n",
    "from functions.ddp import DDP\n",
    "from functions.train_and_predict import EpodiumSequence, DDPSequence\n",
    "\n",
    "# Models\n",
    "from models.dl_4_tsc import encoder_model, fully_convolutional_model, resnet_model\n",
    "from models.eeg_dl import transformer_model"
   ]
  },
  {
   "cell_type": "markdown",
   "metadata": {},
   "source": [
    "\n",
    "---\n",
    "<br>\n",
    "\n",
    "<a id=\"1ma\"></a>\n",
    "## 1. Load data and model\n",
    "\n",
    "####  Load dataset"
   ]
  },
  {
   "cell_type": "code",
   "execution_count": 16,
   "metadata": {},
   "outputs": [
    {
     "data": {
      "application/vnd.jupyter.widget-view+json": {
       "model_id": "600d63bc8a044aa78ed2e23db9bcc75c",
       "version_major": 2,
       "version_minor": 0
      },
      "text/plain": [
       "HBox(children=(RadioButtons(description='Dataset:', options=('epodium', 'ddp'), value='epodium'), IntSlider(va…"
      ]
     },
     "metadata": {},
     "output_type": "display_data"
    },
    {
     "data": {
      "application/vnd.jupyter.widget-view+json": {
       "model_id": "7fae09a161e446388b46744ce8f7ab27",
       "version_major": 2,
       "version_minor": 0
      },
      "text/plain": [
       "Output()"
      ]
     },
     "metadata": {},
     "output_type": "display_data"
    }
   ],
   "source": [
    "def load_dataset(dataset_name, participant_index):   \n",
    "    if dataset_name == \"epodium\":\n",
    "        dataset = Epodium()\n",
    "        epochs_directory = local_paths.ePod_epochs\n",
    "        event_directory = local_paths.ePod_epochs_events\n",
    "        labels = dataset.create_labels(local_paths.ePod_metadata)\n",
    "        experiment_list = processing.valid_experiments(dataset, event_directory)\n",
    "\n",
    "    elif dataset_name == \"ddp\":\n",
    "        dataset = DDP()\n",
    "        epochs_directory = local_paths.DDP_epochs\n",
    "        event_directory = local_paths.DDP_epochs_events    \n",
    "        directory_age_metadata = os.path.join(local_paths.DDP_metadata, \"ages\")\n",
    "        labels = dataset.create_labels(local_paths.DDP_dataset, directory_age_metadata)\n",
    "        experiment_list = processing.valid_experiments(dataset, event_directory)\n",
    "        experiment_list = list(set(experiment_list)-set(dataset.wrong_channels_experiments))\n",
    "        sequence = DDPSequence(experiment_list, labels, epochs_directory, \n",
    "                            gaussian_noise=1e-6, n_trials_averaged=30, \n",
    "                            batch_size=1, n_instances_per_experiment=1)\n",
    "    \n",
    "    print(f\"{dataset_name} dataset loaded.\")\n",
    "\n",
    "    x, y = sequence.__getitem__(participant_index, True)\n",
    "\n",
    "    print(f\"The shape of one data instance is {x[0].shape}\")\n",
    "    display_helper.plot_array_as_evoked(x[0]*1e-6, dataset.channels_epod_ddp, frequency=500, n_trials=30)\n",
    "    print(f\"In this experiment the age of the participant is {int(y[0])} days.\")\n",
    "    print(\"Beware, the absolute value of the y-axis is meaningless due to data normalization. \"\n",
    "          \"Each data-point is divided by the standard deviation of all the signals.\")\n",
    "\n",
    "dataset_name = ipywidgets.RadioButtons(options=[\"epodium\", \"ddp\"], \n",
    "                                       description='Dataset:', \n",
    "                                       value=\"epodium\")\n",
    "index = ipywidgets.IntSlider(description=\"participant\")\n",
    "\n",
    "ui = ipywidgets.HBox([dataset_name, slider])\n",
    "out = ipywidgets.interactive_output(load_dataset, {'dataset_name': dataset_name, \"participant_index\": index})\n",
    "display(ui, out)"
   ]
  },
  {
   "cell_type": "markdown",
   "metadata": {},
   "source": [
    "### Load a trained model\n",
    "Choose from the trained models in the _local_paths.models_ folder."
   ]
  },
  {
   "cell_type": "code",
   "execution_count": 3,
   "metadata": {},
   "outputs": [
    {
     "data": {
      "application/vnd.jupyter.widget-view+json": {
       "model_id": "19532daf5f1844e0baae45618fb2bc33",
       "version_major": 2,
       "version_minor": 0
      },
      "text/plain": [
       "RadioButtons(description='Models:', options=('ddp_encoder_age_26ch_500hz', 'ddp_encoder_age_26ch_500hz_2', 'dd…"
      ]
     },
     "metadata": {},
     "output_type": "display_data"
    },
    {
     "data": {
      "application/vnd.jupyter.widget-view+json": {
       "model_id": "0e39d9b04a5e460ba6448b6d2892f24c",
       "version_major": 2,
       "version_minor": 0
      },
      "text/plain": [
       "Output()"
      ]
     },
     "metadata": {},
     "output_type": "display_data"
    }
   ],
   "source": [
    "# Required plot setting:\n",
    "%matplotlib inline \n",
    "\n",
    "# history = []\n",
    "                                       \n",
    "def load_model(trained_model):\n",
    "    base_path = os.path.join(local_paths.models, trained_model)\n",
    "    path_history = os.path.join(base_path, \"history.npy\")\n",
    "    path_model = os.path.join(base_path, \"model\")\n",
    "    path_testset = os.path.join(base_path, \"subsets\", \"test_set.txt\")\n",
    "    path_weights = os.path.join(base_path, \"weights.h5\")\n",
    "    \n",
    "    global model\n",
    "    global testset\n",
    "    global history\n",
    "\n",
    "    # Load Model\n",
    "    if(os.path.exists(path_model)):\n",
    "        print(f\"Loading Model: '{model_widget.value}'.\")\n",
    "\n",
    "        # Loads the entire model from a folder:\n",
    "        model = tf.keras.models.load_model(path_model)\n",
    "        model.load_weights(path_weights)\n",
    "        # Reads the test-set of the trained model and puts the experiment names into a list:\n",
    "        testset = open(path_testset, \"r\").read().split()\n",
    "        # Loads the training history dictionary:\n",
    "        history = np.load(path_history, allow_pickle=True).item()\n",
    "        \n",
    "        # Show Loss of Training History\n",
    "        display_helper.show_plot(x=range(len(history['loss'][:])), y=history['loss'][:],  ylim=[0,600000], \n",
    "                                 xlabel=\"epochs\", ylabel=\"validation loss\", title=\"Loss during training\")\n",
    "        display_helper.show_plot(x=range(len(history['loss']))[:], y=history['val_loss'][:], ylim=[0,600000],\n",
    "                                 xlabel=\"epochs\", ylabel=\"validation loss\", title=\"Validation loss during training\")\n",
    "        print(f\"The lowest validation loss is {round(min(history['val_loss']), 3)}\")\n",
    "\n",
    "    else: \n",
    "        print(\"Model not found\")\n",
    "\n",
    "# Find all models in 'local_paths.models' \n",
    "trained_models = sorted(f for f in os.listdir(os.path.join(local_paths.models)) if not f.startswith(\".\"))\n",
    "\n",
    "# Widget for selecting the trained models\n",
    "model_widget = ipywidgets.RadioButtons(options=trained_models, description='Models:')\n",
    "display(model_widget)\n",
    "out = ipywidgets.interactive_output(load_model, {'trained_model': model_widget})\n",
    "display(out)"
   ]
  },
  {
   "cell_type": "markdown",
   "metadata": {},
   "source": [
    "#### Visualise data instance\n",
    "\n",
    "During processing, the epochs are chosen to be 1 second in which the event occurs at 0.2s."
   ]
  },
  {
   "cell_type": "code",
   "execution_count": 4,
   "metadata": {},
   "outputs": [
    {
     "ename": "NameError",
     "evalue": "name 'ddp_labels' is not defined",
     "output_type": "error",
     "traceback": [
      "\u001b[0;31m---------------------------------------------------------------------------\u001b[0m",
      "\u001b[0;31mNameError\u001b[0m                                 Traceback (most recent call last)",
      "Input \u001b[0;32mIn [4]\u001b[0m, in \u001b[0;36m<cell line: 3>\u001b[0;34m()\u001b[0m\n\u001b[1;32m      1\u001b[0m random_participant_index \u001b[38;5;241m=\u001b[39m \u001b[38;5;241m0\u001b[39m\n\u001b[0;32m----> 3\u001b[0m temp_sequence \u001b[38;5;241m=\u001b[39m DDPSequence(testset, \u001b[43mddp_labels\u001b[49m, epochs_directory, \n\u001b[1;32m      4\u001b[0m                             gaussian_noise\u001b[38;5;241m=\u001b[39m\u001b[38;5;241m1e-6\u001b[39m, n_trials_averaged\u001b[38;5;241m=\u001b[39m\u001b[38;5;241m30\u001b[39m, \n\u001b[1;32m      5\u001b[0m                             n_experiments_batch\u001b[38;5;241m=\u001b[39m\u001b[38;5;241m1\u001b[39m, n_instances_per_experiment\u001b[38;5;241m=\u001b[39m\u001b[38;5;241m1\u001b[39m)\n\u001b[1;32m      7\u001b[0m x, y \u001b[38;5;241m=\u001b[39m temp_sequence\u001b[38;5;241m.\u001b[39m\u001b[38;5;21m__getitem__\u001b[39m(random_participant_index, \u001b[38;5;28;01mTrue\u001b[39;00m)\n\u001b[1;32m      9\u001b[0m \u001b[38;5;28mprint\u001b[39m(\u001b[38;5;124mf\u001b[39m\u001b[38;5;124m\"\u001b[39m\u001b[38;5;124mThe shape of one data instance is \u001b[39m\u001b[38;5;132;01m{\u001b[39;00mx[\u001b[38;5;241m0\u001b[39m]\u001b[38;5;241m.\u001b[39mshape\u001b[38;5;132;01m}\u001b[39;00m\u001b[38;5;124m\"\u001b[39m)\n",
      "\u001b[0;31mNameError\u001b[0m: name 'ddp_labels' is not defined"
     ]
    }
   ],
   "source": [
    "random_participant_index = 0\n",
    "\n",
    "temp_sequence = DDPSequence(testset, ddp_labels, epochs_directory, \n",
    "                            gaussian_noise=1e-6, n_trials_averaged=30, \n",
    "                            n_experiments_batch=1, n_instances_per_experiment=1)\n",
    "\n",
    "x, y = temp_sequence.__getitem__(random_participant_index, True)\n",
    "\n",
    "print(f\"The shape of one data instance is {x[0].shape}\")\n",
    "display_helper.plot_array_as_evoked(x[0]*1e-6, dataset.channels_epod_ddp, frequency=500, n_trials=30)\n",
    "print(f\"In this experiment the age of the participant is {int(y[0])} days.\")\n",
    "print(\"Beware, the absolute value of the y-axis is meaningless due to data normalization. \"\n",
    "      \"Each data-point is divided by the standard deviation of all the signals.\")"
   ]
  },
  {
   "cell_type": "markdown",
   "metadata": {
    "tags": []
   },
   "source": [
    "<br>\n",
    "\n",
    "<a id='2ma'></a>\n",
    "## 2. Make predictions on test set\n"
   ]
  },
  {
   "cell_type": "code",
   "execution_count": null,
   "metadata": {},
   "outputs": [],
   "source": [
    "n_passthroughs = 1\n",
    "results = []\n",
    "\n",
    "# For each experiment in the test-set\n",
    "for i, experiment in enumerate(testset):\n",
    "    test_sequence = DDPSequence([experiment], \n",
    "                                ddp_labels, \n",
    "                                epochs_directory, \n",
    "                                n_experiments_batch=1, \n",
    "                                n_instances_per_experiment=n_passthroughs)\n",
    "    x, y = test_sequence.__getitem__(0)\n",
    "    \n",
    "    # Make a prediction with the model.\n",
    "    real_pred = [y[0], np.squeeze(model.predict(x, verbose=0)).mean()]\n",
    "    results.append(real_pred)\n",
    "    \n",
    "    print(f\"{i+1}/{len(testset)} predicted.\")\n",
    "    clear_output(wait=True)\n",
    "    \n",
    "results = np.array(results)"
   ]
  },
  {
   "cell_type": "code",
   "execution_count": null,
   "metadata": {},
   "outputs": [],
   "source": [
    "display_helper.show_plot(np.array(results)[:,0], \n",
    "                         np.array(results)[:,1], \n",
    "                         f\"Age prediction (encoder_age_128_20, passes: {n_passthroughs})\", \n",
    "                         \"Actual age (days)\",\n",
    "                         \"Predicted age (days)\",\n",
    "                         scatter=True,\n",
    "                         show=False)\n",
    "plt.grid()\n",
    "plt.plot([300, 1450], [300, 1450]) # Line where predicted=actual"
   ]
  },
  {
   "cell_type": "code",
   "execution_count": null,
   "metadata": {},
   "outputs": [],
   "source": []
  }
 ],
 "metadata": {
  "interpreter": {
   "hash": "a5f6ecf0357e95e30953d0cf08844b8b26fdbdf1f780a6e218131c917612a57e"
  },
  "kernelspec": {
   "display_name": "Python 3 (ipykernel)",
   "language": "python",
   "name": "python3"
  },
  "language_info": {
   "codemirror_mode": {
    "name": "ipython",
    "version": 3
   },
   "file_extension": ".py",
   "mimetype": "text/x-python",
   "name": "python",
   "nbconvert_exporter": "python",
   "pygments_lexer": "ipython3",
   "version": "3.8.10"
  }
 },
 "nbformat": 4,
 "nbformat_minor": 4
}
