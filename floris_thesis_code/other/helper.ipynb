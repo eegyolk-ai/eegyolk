{
 "cells": [
  {
   "cell_type": "markdown",
   "id": "1262ae89-8038-4cb9-a2e4-aa34a8e5ac6b",
   "metadata": {},
   "source": [
    "## This notebook performs checks on the data."
   ]
  },
  {
   "cell_type": "code",
   "execution_count": null,
   "id": "9e098c56-58cf-4eb3-8021-3781b9dff82d",
   "metadata": {},
   "outputs": [],
   "source": [
    "import pandas as pd\n",
    "import os\n",
    "import glob\n",
    "import hashlib\n",
    "import sys\n",
    "\n",
    "sys.path.insert(0,'..')\n",
    "import local_paths\n",
    "\n",
    "def get_folder_size(path):\n",
    "    size = 0\n",
    "    for entry in os.scandir(path):\n",
    "        if entry.is_file():\n",
    "            size += os.path.getsize(entry)\n",
    "        elif entry.is_dir():\n",
    "            size += get_folder_size(entry)\n",
    "    return size\n",
    "\n",
    "def files_check(PATH, expected_count, expected_size):\n",
    "    _, _, files = next(os.walk(PATH))\n",
    "    count = len(files)\n",
    "    size = get_folder_size(PATH)     \n",
    "\n",
    "    if(count != expected_count):\n",
    "        print(PATH, \": incorrect number of files.\" )\n",
    "        print(\"n.o. files: \", count)\n",
    "        print(\"n.o. files expected:\", expected_count )\n",
    "    if(size != expected_size):\n",
    "        print(PATH, \": incorrect size.\" )\n",
    "        print(\"size is: \", size)\n",
    "        print(\"expected size:\", expected_size )\n",
    "        \n",
    "## Created by Candace Makeda Moore:\n",
    "def create_hash_df(folder, file_extension):\n",
    "    hash_list = []\n",
    "    file_names = []\n",
    "    files = glob.glob(os.path.join(folder, '*' + file_extension))\n",
    "    BUF_SIZE = 65536\n",
    "    for file in files:\n",
    "        sha256 = hashlib.sha256()\n",
    "        with open(file, 'rb') as f:\n",
    "            while True:\n",
    "                data = f.read(BUF_SIZE)\n",
    "                if not data:\n",
    "                    break\n",
    "                sha256.update(data)\n",
    "        result = sha256.hexdigest()\n",
    "        hash_list.append(result)\n",
    "        file_names.append(os.path.basename(file))\n",
    "        \n",
    "    df = pd.DataFrame(hash_list, file_names)\n",
    "    df.columns = [\"hash\"]\n",
    "    df = df.reset_index() \n",
    "    df = df.rename(columns = {'index':'file_name'})\n",
    "    \n",
    "    return df"
   ]
  },
  {
   "cell_type": "markdown",
   "id": "7767245f-a5e6-49a9-819b-fd6ab5be376d",
   "metadata": {},
   "source": [
    "#### Create hashes"
   ]
  },
  {
   "cell_type": "code",
   "execution_count": null,
   "id": "26c66cb8-f2a2-49f1-a8df-68836ee774a2",
   "metadata": {},
   "outputs": [],
   "source": [
    "## DDP\n",
    "for age_group, path in local_paths.DDP_dict.items():\n",
    "    df = create_hash_df(path, '.cnt')\n",
    "    savepath = os.path.join(local_paths.hashes, 'DDP_' + str(age_group) + '.csv')\n",
    "    df.to_csv(savepath, index = False)\n",
    "    print(f\"Hash file \")\n",
    "    \n",
    "## ePod\n",
    "df = create_hash_df(local_paths.ePod_dataset, '.bdf')\n",
    "savepath = os.path.join(local_paths.hashes, 'ePod.csv')\n",
    "df.to_csv(savepath)"
   ]
  },
  {
   "cell_type": "markdown",
   "id": "ea7e0a72-0a7e-47ee-97be-9905968ac66b",
   "metadata": {},
   "source": [
    "#### Compare hash for each file"
   ]
  },
  {
   "cell_type": "code",
   "execution_count": null,
   "id": "29c0167d-c0a9-45d4-af06-f3e05e839791",
   "metadata": {},
   "outputs": [],
   "source": [
    "folders = [\"ePod\", \"DDP_5\", \"DDP_11\", \"DDP_17\", \"DDP_23\", \n",
    "            \"DDP_29\", \"DDP_35\", \"DDP_41\", \"DDP_47\"]\n",
    "\n",
    "for folder in folders:\n",
    "\n",
    "    df_cloud = pd.read_csv(os.path.join(local_paths.hashes, folder + '.csv'))\n",
    "    df_local = pd.read_csv(os.path.join(local_paths.hashes, folder + '_local.csv'))\n",
    "\n",
    "    df_merged = pd.merge(df_cloud, df_local, how = 'left', on = ['file_name'])\n",
    "    df_merged = df_merged[['file_name', 'hash_x', 'hash_y']]\n",
    "    df_merged.to_csv(os.path.join(local_paths.hashes, folder + '_merged.csv'), index = False)\n",
    "    \n",
    "    for index, row in df_merged.iterrows():\n",
    "        num_errors = 0\n",
    "        if(row.iloc[1] != row.iloc[2]):\n",
    "            print(row.iloc[0])\n",
    "            num_errors += 1\n",
    "    if num_errors == 0:\n",
    "        print(f\"All files from {folder} have the correct hash.\")"
   ]
  },
  {
   "cell_type": "markdown",
   "id": "fd7bdb9d-4fe6-4f6c-97f9-30f28530427a",
   "metadata": {},
   "source": [
    "#### Find number of files in folder"
   ]
  },
  {
   "cell_type": "code",
   "execution_count": null,
   "id": "bc8bd117-a559-43df-b806-58db9918de31",
   "metadata": {},
   "outputs": [],
   "source": [
    "import glob\n",
    "import os\n",
    "import local_paths\n",
    "len(glob.glob(os.path.join(local_paths.ePod_dataset, '*.bdf')))\n"
   ]
  },
  {
   "cell_type": "markdown",
   "id": "dfa79bac-e750-4835-a8b9-e907aec8c854",
   "metadata": {},
   "source": [
    "#### Get size of folder and subfolders"
   ]
  },
  {
   "cell_type": "code",
   "execution_count": null,
   "id": "67de3367-da0f-4851-b4d9-eea18c85eee3",
   "metadata": {},
   "outputs": [],
   "source": [
    "path = os.path.join(\"home\", os.path.expanduser('~'), \"eegyolk\")\n",
    "# path = \"/volume-ceph\"\n",
    "# path = \"/eegyolk\"\n",
    "path = local_paths.DDP_epochs\n",
    "# path = os.path.join(\"home\", os.path.expanduser('~'))\n",
    "\n",
    "size_GB = get_folder_size(path)/1024**3\n",
    "print(f\"The path: {path} \\ncontains {round(size_GB, 2)} GB of data\")"
   ]
  },
  {
   "cell_type": "code",
   "execution_count": null,
   "id": "2610c8a2-1a32-4d4d-9aff-6af99e2f2d7b",
   "metadata": {},
   "outputs": [],
   "source": [
    "len(os.listdir(local_paths.DDP_processed))"
   ]
  }
 ],
 "metadata": {
  "kernelspec": {
   "display_name": "Python 3 (ipykernel)",
   "language": "python",
   "name": "python3"
  },
  "language_info": {
   "codemirror_mode": {
    "name": "ipython",
    "version": 3
   },
   "file_extension": ".py",
   "mimetype": "text/x-python",
   "name": "python",
   "nbconvert_exporter": "python",
   "pygments_lexer": "ipython3",
   "version": "3.8.10"
  }
 },
 "nbformat": 4,
 "nbformat_minor": 5
}
