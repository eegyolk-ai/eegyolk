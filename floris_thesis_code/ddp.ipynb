{
 "cells": [
  {
   "cell_type": "markdown",
   "metadata": {},
   "source": [
    "# Notebook for the Dutch Dyslexia Programme (DDP) dataset\n",
    "\n",
    "This notebook contains four sections. \n",
    "\n",
    "+ In section 1. [Loading EEG-data and metadata](#1ddp) the EEG-data and metadata is loaded. \n",
    "+ In section 2. [The DDP Experiment](#2ddp) the structure of the auditory oddball experiment is explained and visualised. There is an emphasis on the stimulus events. \n",
    "+ Section 3. [Processing](#3ddp) is for processing and cleaning up the raw files. The raw data is split into epochs, i.e. partition surrounding the events. These epochs are stored in a .fif file, which is the standard extension for the mne package. \n",
    "+ In section 4. [The Event Related Potential (ERP)](#4ddp) (ERPs) that result from the events are explored."
   ]
  },
  {
   "cell_type": "markdown",
   "metadata": {},
   "source": [
    "#### Import Packages"
   ]
  },
  {
   "cell_type": "code",
   "execution_count": null,
   "metadata": {},
   "outputs": [],
   "source": [
    "import mne\n",
    "import numpy as np\n",
    "import pandas as pd\n",
    "import os\n",
    "import glob\n",
    "import ipywidgets\n",
    "import wave # For analyzing .wav audio files\n",
    "\n",
    "from functions import data_io\n",
    "from functions import processing\n",
    "from functions import display_helper\n",
    "\n",
    "from functions.ddp import DDP\n",
    "ddp = DDP()\n",
    "from functions.sequences import DDPSequence\n",
    "\n",
    "import local_paths"
   ]
  },
  {
   "cell_type": "markdown",
   "metadata": {},
   "source": [
    "<br>\n",
    "<br>"
   ]
  },
  {
   "cell_type": "markdown",
   "metadata": {
    "tags": []
   },
   "source": [
    "\n",
    "---\n",
    "<a id='1ddp'></a>\n",
    "## 1. Load and sort data and metadata"
   ]
  },
  {
   "cell_type": "markdown",
   "metadata": {
    "tags": []
   },
   "source": [
    "#### Create labels from raw .cnt files.\n",
    "\n",
    "+ The label columns are: filename / code / age_group / age_days\n",
    "+ The 'create_labels' function takes as inut the dataset location, and the directory where the age metadata is stored"
   ]
  },
  {
   "cell_type": "code",
   "execution_count": null,
   "metadata": {},
   "outputs": [],
   "source": [
    "directory_age_metadata = os.path.join(local_paths.DDP_metadata, \"ages\")\n",
    "df_raw = ddp.create_labels(local_paths.DDP_dataset, directory_age_metadata)"
   ]
  },
  {
   "cell_type": "markdown",
   "metadata": {},
   "source": [
    "#### Participants Info"
   ]
  },
  {
   "cell_type": "code",
   "execution_count": null,
   "metadata": {},
   "outputs": [],
   "source": [
    "min_age, max_age = df_raw[\"age_days\"].min(), df_raw[\"age_days\"].max()\n",
    "print(f\"The participants are between the age of {min_age} \"\n",
    "      f\"and {int(max_age)} days. \"\n",
    "      f\"({round(min_age/30, 1)} to \"\n",
    "      f\"{round(max_age/30,1)} months)\")"
   ]
  },
  {
   "cell_type": "markdown",
   "metadata": {
    "tags": []
   },
   "source": [
    "#### Merge raws from same experiment\n",
    "\n",
    "Many experiments are split into multipe raw files, but it is more useful to have just one file per experiment. This is why the filenames of the raw files are sorted per experiment in the *experiments_paths* below.\n",
    "\n",
    "+ *experiments_names* contains the new names of each experiment\n",
    "+ *experiments_paths* contains a list of the paths to the .cnt files for each experiment."
   ]
  },
  {
   "cell_type": "code",
   "execution_count": null,
   "metadata": {},
   "outputs": [],
   "source": [
    "experiments_names = []\n",
    "experiments_paths = []\n",
    "\n",
    "# For each experiment: sort by unique personal_code and age_group\n",
    "for age_group in df_raw[\"age_group\"].unique():\n",
    "    df_age_group = df_raw.loc[df_raw[\"age_group\"] == age_group]\n",
    "    for personal_code in df_age_group[\"participant\"].unique():\n",
    "        experiments_names.append(f\"{int(personal_code)}_{age_group}\")\n",
    "        \n",
    "        # Get the raw_paths from each experiment\n",
    "        df_experiment = df_age_group.loc[df_raw[\"participant\"] == personal_code]\n",
    "        raw_filenames = df_experiment[\"filename\"].tolist()        \n",
    "        raw_paths = [os.path.join(local_paths.DDP_dataset, f\"{age_group}mnd mmn\", filename) for filename in raw_filenames]\n",
    "        experiments_paths.append(raw_paths)\n",
    "        \n",
    "print(f\"The {len(df_raw.index)} raw files collectively contain {len(experiments_names)} distinct experiments\")"
   ]
  },
  {
   "cell_type": "markdown",
   "metadata": {
    "tags": []
   },
   "source": [
    "#### Choose file with widget:\n",
    "\n",
    "Loading the raw .cnt gives two RuntimeWarnings. These can be ignored. "
   ]
  },
  {
   "cell_type": "code",
   "execution_count": null,
   "metadata": {},
   "outputs": [],
   "source": [
    "def f(file):\n",
    "    raw_paths = experiments_paths[experiments_names.index(file)]\n",
    "    \n",
    "    global raw\n",
    "    raw = ddp.read_raw(raw_paths)\n",
    "    print(f\"The experiment {file} consists of {len(raw_paths)} raw file(s):\")\n",
    "    print(raw_paths)\n",
    "\n",
    "experiment_paths_widget = ipywidgets.interactive(f, file=experiments_names)\n",
    "display(experiment_paths_widget)"
   ]
  },
  {
   "cell_type": "markdown",
   "metadata": {},
   "source": [
    "<br>\n",
    "<br>"
   ]
  },
  {
   "cell_type": "markdown",
   "metadata": {
    "tags": []
   },
   "source": [
    "\n",
    "---\n",
    "<a id='2ddp'></a>\n",
    "\n",
    "## 2. The DDP Experiment\n",
    "\n",
    "The DDP experiment is an *auditory oddball experiment*. Children listen to a sequence that contains standard and deviant syllables in order to elicit the *mismatch response*. \n",
    "   \n",
    "For measurement sometimes 64 and sometimes 30 electrodes are used. The measurement frequency is 500 Hz. \n",
    "    \n",
    "The experiment is around __40 minutes__, with sequences of around 10 minutes containing four different conditions. Ideally, each condition has 400 standards /b/ak (events: 2, 3, 4, 5), 50 deviants /d/ak (events: 55, 66, 77, 88), and 50 first standards (events: 12, 13, 14, 15)\n",
    "\n"
   ]
  },
  {
   "cell_type": "markdown",
   "metadata": {
    "tags": []
   },
   "source": [
    "#### Load events"
   ]
  },
  {
   "cell_type": "code",
   "execution_count": null,
   "metadata": {},
   "outputs": [],
   "source": [
    "events, event_dict = mne.events_from_annotations(raw)\n",
    "fig = mne.viz.plot_events(events, event_id = event_dict)"
   ]
  },
  {
   "cell_type": "markdown",
   "metadata": {},
   "source": [
    "#### Sort events into standards, deviants, and first-standards.\n",
    "The event_id's of the _standard_ is 1, _deviant_ is 2, _first_standard_ is 3."
   ]
  },
  {
   "cell_type": "code",
   "execution_count": null,
   "metadata": {},
   "outputs": [],
   "source": [
    "events_3, event_dict_3 = ddp.events_from_raw(raw)\n",
    "fig = mne.viz.plot_events(events_3, event_id = event_dict_3)"
   ]
  },
  {
   "cell_type": "markdown",
   "metadata": {
    "tags": []
   },
   "source": [
    "#### Show part of the EEG signal\n",
    "When a new experiment is chosen, this cell needs to be run again to visualise its EEG data."
   ]
  },
  {
   "cell_type": "code",
   "execution_count": null,
   "metadata": {},
   "outputs": [],
   "source": [
    "# Makes the plot interactive, comment out if not working:\n",
    "%matplotlib widget \n",
    "fig = mne.viz.plot_raw(raw, events_3, n_channels=3, scalings=200e-6, duration=5, start=1000)"
   ]
  },
  {
   "cell_type": "markdown",
   "metadata": {
    "jp-MarkdownHeadingCollapsed": true,
    "tags": []
   },
   "source": [
    "<br>\n",
    "<br>"
   ]
  },
  {
   "cell_type": "markdown",
   "metadata": {
    "tags": []
   },
   "source": [
    "---\n",
    "\n",
    "<a id='3ddp'></a>\n",
    "## 3. Processing\n",
    "#### Filtering DDP dataset and rejecting bad trials\n",
    "\n",
    "The EEG data located in _local_paths.DDP_dataset_ is cleaned with the following techniques:\n",
    "+ A high-pass filter on the raw EEG sequence with cutoff frequency 0.1 Hz to remove slow trends\n",
    "+ Splitting the raw data into 1 second epochs in which the event occurs at 0.2s.\n",
    "+ The epochs are cleaned with the autoreject library. This library contains classes that automatically reject bad trials and repair bad sensors in EEG data. The AutoReject and Ransac classes are used. https://autoreject.github.io/stable/index.html\n",
    "+ A low-pass filter on the epochs \n",
    "\n",
    "The function process_raw splits the raw files up into epochs and saves the events externally. It takes a while to process each file, mainly due to the complexity of the autoreject method. To save some time, multiple raw files are processed simultaniously via multiprocessing."
   ]
  },
  {
   "cell_type": "code",
   "execution_count": null,
   "metadata": {},
   "outputs": [],
   "source": [
    "# for i in range(len(experiments_names)):\n",
    "#     process_raw(i, experiments_names, experiments_paths, ddp, local_paths.DDP_epochs)\n",
    "\n",
    "## Multiprocessing:\n",
    "processing.process_raw_multiprocess(experiments_names, experiments_paths, ddp, local_paths.DDP_epochs, verbose=False)"
   ]
  },
  {
   "cell_type": "markdown",
   "metadata": {},
   "source": [
    "#### Extract valid experiments\n",
    "Processed files with too few standards and deviants are considered invalid."
   ]
  },
  {
   "cell_type": "code",
   "execution_count": null,
   "metadata": {},
   "outputs": [],
   "source": [
    "valid_experiments = processing.valid_experiments(ddp, local_paths.DDP_epochs_events,\n",
    "                                                 min_standards=500, \n",
    "                                                 min_deviants=80)\n",
    "experiment_list = list(set(valid_experiments)-set(ddp.wrong_channels_experiments))\n",
    "print(f\"{len(ddp.wrong_channels_experiments)} experiments have incorrect channels. \"\n",
    "      f\"{len(experiment_list)} experiments remain\")"
   ]
  },
  {
   "cell_type": "markdown",
   "metadata": {},
   "source": [
    "<br>\n",
    "<br>"
   ]
  },
  {
   "cell_type": "markdown",
   "metadata": {
    "tags": []
   },
   "source": [
    "---\n",
    "<a id='4ddp'></a>\n",
    "## 4. The Event Related Potential (ERP)\n",
    "\n",
    "+ The voltage change in the brain as a response to an event is called the *event-related potential* (ERP)\n",
    "+ The response difference between a standard and deviant ERP is called the *mismatch response* (MMR).\n",
    "+ The mismatch response can be analysed to predict differences between participants."
   ]
  },
  {
   "cell_type": "markdown",
   "metadata": {},
   "source": [
    "#### Choose experiment to analyse"
   ]
  },
  {
   "cell_type": "code",
   "execution_count": null,
   "metadata": {},
   "outputs": [],
   "source": [
    "def load_participant_data(experiment):\n",
    "    global epochs\n",
    "    epochs = mne.read_epochs(os.path.join(local_paths.DDP_epochs, experiment + \"_epo.fif\"), verbose = 0)\n",
    "    print(f\"Loaded experiment: {experiment} \")\n",
    "\n",
    "ipywidgets.interact(load_participant_data, experiment=valid_experiments);"
   ]
  },
  {
   "cell_type": "markdown",
   "metadata": {
    "tags": []
   },
   "source": [
    "#### Widget for plotting standard, deviant, and mismatch ERPs"
   ]
  },
  {
   "cell_type": "code",
   "execution_count": null,
   "metadata": {},
   "outputs": [],
   "source": [
    "event_type = ipywidgets.RadioButtons(options=[\"standard\", \"deviant\", \"MMN\"], \n",
    "                                     description='Event type:', \n",
    "                                     value=\"standard\")\n",
    "def plot_ERP_widget(ev):\n",
    "    if(ev==\"MMN\"):\n",
    "        evoked = mne.combine_evoked([epochs[\"deviant\"].average(), epochs[\"standard\"].average()], weights = [1, -1])\n",
    "    else:\n",
    "        evoked = epochs[ev].average()\n",
    "    fig = evoked.plot(spatial_colors = True)\n",
    "\n",
    "ui = ipywidgets.HBox([event_type])\n",
    "out = ipywidgets.interactive_output(plot_ERP_widget, {'ev': event_type})\n",
    "display(ui, out)"
   ]
  },
  {
   "cell_type": "markdown",
   "metadata": {},
   "source": [
    "#### Widget for modifying data\n",
    "\n",
    "In the deep learning notebook, the model uses a sequence of data. This data is show in the plot below. Tweak the widget to see the effect of changing the parameters on an ERP. The plot can take a while to load.\n",
    "\n",
    "+ *sample_rate*: The number of data points in a second of each channel.\n",
    "+ *n_trials_averaged*: The number of trials averaged to form the ERP.\n",
    "+ *gaussian_noise*: The standard deviation of the noise added to each datapoint to reduce overfitting."
   ]
  },
  {
   "cell_type": "code",
   "execution_count": null,
   "metadata": {},
   "outputs": [],
   "source": [
    "def show_sequence_data(p, f, n, g):\n",
    "    labels = ddp.create_labels(local_paths.DDP_dataset, directory_age_metadata)\n",
    "    sequence = DDPSequence(experiment_list, labels, local_paths.DDP_epochs, batch_size=1, \n",
    "                               sample_rate=f, n_trials_averaged=n, gaussian_noise=g*1e-6)\n",
    "    x, y = sequence.__getitem__(p, True)\n",
    "    \n",
    "    print(f\"The shape of one data instance is {x[0].shape}\")\n",
    "    display_helper.plot_array_as_evoked(x[0], ddp.channels_epod_ddp, frequency=f, n_trials=n)\n",
    "    print(f\"In this experiment the age of the participant is {int(y[0])} days.\")\n",
    "\n",
    "# Widget sliders\n",
    "participant = ipywidgets.IntSlider(description=\"participant\")\n",
    "sample_rate = ipywidgets.IntSlider(description=\"sample_rate\", value=2049, min=10, max=2049)\n",
    "n_trials_averaged = ipywidgets.IntSlider(description=\"n_trials_averaged\", value=30)\n",
    "gaussian_noise = ipywidgets.FloatSlider(description=\"gaussian_noise\", max=3)\n",
    "# Widget setup\n",
    "ui = ipywidgets.HBox([participant, sample_rate, n_trials_averaged, gaussian_noise])\n",
    "out = ipywidgets.interactive_output(show_sequence_data, {'p':participant, 'f': sample_rate, \"n\": n_trials_averaged, \"g\": gaussian_noise})\n",
    "display(ui, out)"
   ]
  },
  {
   "cell_type": "markdown",
   "metadata": {},
   "source": [
    "Beware, the absolute value of the y-axis (microVolt) is meaningless due to data normalization. Each data-point is divided by the standard deviation of all the signals."
   ]
  }
 ],
 "metadata": {
  "interpreter": {
   "hash": "a5f6ecf0357e95e30953d0cf08844b8b26fdbdf1f780a6e218131c917612a57e"
  },
  "kernelspec": {
   "display_name": "Python 3 (ipykernel)",
   "language": "python",
   "name": "python3"
  },
  "language_info": {
   "codemirror_mode": {
    "name": "ipython",
    "version": 3
   },
   "file_extension": ".py",
   "mimetype": "text/x-python",
   "name": "python",
   "nbconvert_exporter": "python",
   "pygments_lexer": "ipython3",
   "version": "3.8.10"
  }
 },
 "nbformat": 4,
 "nbformat_minor": 4
}
