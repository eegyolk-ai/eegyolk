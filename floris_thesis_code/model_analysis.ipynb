{
 "cells": [
  {
   "cell_type": "markdown",
   "metadata": {},
   "source": [
    "# Deep Learning Model Analysis\n",
    "\n",
    "This notebook contains three sections which analyse the data and models trained in the *model_training.ipynb* notebook:\n",
    "\n",
    "+ In section [1. Load data and model](#1ma) the data and trained model of the ePodium and the DDP dataset are loaded.\n",
    "+ In section [2. Make predictions on test set](#2ma) the loaded model is used to make predictions on the test set. \n",
    "+ In section [3. Show results](#3ma) the loss of the test set is calculated and the predictions are plotted in a scatterplot."
   ]
  },
  {
   "cell_type": "markdown",
   "metadata": {},
   "source": [
    "#### Import Packages\n",
    "Note: This notebook may output tensorflow errors if cuda is not properly installed. The notebook still functions with these errors."
   ]
  },
  {
   "cell_type": "code",
   "execution_count": 1,
   "metadata": {},
   "outputs": [
    {
     "name": "stderr",
     "output_type": "stream",
     "text": [
      "2022-11-17 15:23:00.388419: W tensorflow/stream_executor/platform/default/dso_loader.cc:64] Could not load dynamic library 'libcudart.so.11.0'; dlerror: libcudart.so.11.0: cannot open shared object file: No such file or directory\n",
      "2022-11-17 15:23:00.388459: I tensorflow/stream_executor/cuda/cudart_stub.cc:29] Ignore above cudart dlerror if you do not have a GPU set up on your machine.\n"
     ]
    }
   ],
   "source": [
    "import numpy as np\n",
    "import os\n",
    "import glob\n",
    "import matplotlib.pyplot as plt\n",
    "import ipywidgets\n",
    "import tensorflow as tf\n",
    "from IPython.display import clear_output\n",
    "\n",
    "# Local\n",
    "import local_paths\n",
    "from functions import epodium, display_helper, processing\n",
    "from functions.epodium import Epodium\n",
    "from functions.ddp import DDP\n",
    "from functions.sequences import EpodiumSequence, DDPSequence\n",
    "\n",
    "# Models\n",
    "from models.dl_4_tsc import encoder_model, fully_convolutional_model, resnet_model\n",
    "from models.eeg_dl import transformer_model"
   ]
  },
  {
   "cell_type": "markdown",
   "metadata": {},
   "source": [
    "\n",
    "---\n",
    "<br>\n",
    "\n",
    "<a id=\"1ma\"></a>\n",
    "## 1. Load data and model\n",
    "\n",
    "Choose the DDP or ePodium dataset to make predictions on:"
   ]
  },
  {
   "cell_type": "markdown",
   "metadata": {},
   "source": [
    "#### Choose the dataset\n"
   ]
  },
  {
   "cell_type": "code",
   "execution_count": 2,
   "metadata": {},
   "outputs": [
    {
     "data": {
      "application/vnd.jupyter.widget-view+json": {
       "model_id": "e08099c94f4b4905b0314aaed005c902",
       "version_major": 2,
       "version_minor": 0
      },
      "text/plain": [
       "HBox(children=(RadioButtons(description='Dataset:', options=('ddp', 'epodium'), value='ddp'),))"
      ]
     },
     "metadata": {},
     "output_type": "display_data"
    },
    {
     "data": {
      "application/vnd.jupyter.widget-view+json": {
       "model_id": "cd9892ab5be045b4a9a4f62566045a38",
       "version_major": 2,
       "version_minor": 0
      },
      "text/plain": [
       "Output()"
      ]
     },
     "metadata": {},
     "output_type": "display_data"
    }
   ],
   "source": [
    "def choose_dataset(dataset_name):\n",
    "    global labels, dataset\n",
    "    if dataset_name == \"epodium\":\n",
    "        dataset = Epodium()\n",
    "        labels = dataset.create_labels(local_paths.ePod_metadata)\n",
    "    elif dataset_name == \"ddp\":\n",
    "        dataset = DDP()\n",
    "        directory_age_metadata = os.path.join(local_paths.DDP_metadata, \"ages\")\n",
    "        labels = dataset.create_labels(local_paths.DDP_dataset, directory_age_metadata)\n",
    "\n",
    "    print(f\"Using dataset: {dataset_name}.\")\n",
    "\n",
    "# Widget settings\n",
    "dataset_name_w = ipywidgets.RadioButtons(description='Dataset:', options=[\"ddp\", \"epodium\"], value=\"ddp\")\n",
    "ui = ipywidgets.HBox([dataset_name_w])\n",
    "out = ipywidgets.interactive_output(choose_dataset, {'dataset_name': dataset_name_w})\n",
    "display(ui, out)"
   ]
  },
  {
   "cell_type": "markdown",
   "metadata": {},
   "source": [
    "### Load a trained model\n",
    "Choose from the trained models in the _local_paths.models_ folder."
   ]
  },
  {
   "cell_type": "code",
   "execution_count": 5,
   "metadata": {},
   "outputs": [
    {
     "data": {
      "application/vnd.jupyter.widget-view+json": {
       "model_id": "3fdf3646ca3c4e069de1e5bfbe991941",
       "version_major": 2,
       "version_minor": 0
      },
      "text/plain": [
       "RadioButtons(description='Models:', options=('ddp_encoder_age', 'ddp_encoder_age_Hz200', 'ddp_encoder_age_avg1…"
      ]
     },
     "metadata": {},
     "output_type": "display_data"
    },
    {
     "data": {
      "application/vnd.jupyter.widget-view+json": {
       "model_id": "1e195ab4b2694ed19ca21c3ff1b80041",
       "version_major": 2,
       "version_minor": 0
      },
      "text/plain": [
       "Output()"
      ]
     },
     "metadata": {},
     "output_type": "display_data"
    }
   ],
   "source": [
    "# Required plot setting:\n",
    "%matplotlib inline \n",
    "\n",
    "# history = []\n",
    "                                       \n",
    "def load_model(trained_model):\n",
    "    try:\n",
    "        base_path = os.path.join(local_paths.models, trained_model)\n",
    "    except:\n",
    "        print(\"No models found.\")\n",
    "        return\n",
    "    path_history = os.path.join(base_path, \"history.npy\")\n",
    "    path_model = os.path.join(base_path, \"model\")\n",
    "    path_testset = os.path.join(base_path, \"subsets\", \"test_set.txt\")\n",
    "    path_weights = os.path.join(base_path, \"weights.h5\")\n",
    "    \n",
    "    global model\n",
    "    global testset\n",
    "    global history\n",
    "\n",
    "    # Load Model\n",
    "    if(os.path.exists(path_model)):\n",
    "        print(f\"\\nLoading Model: '{model_name_w.value}'.\")\n",
    "\n",
    "        # Loads the entire model from a folder:\n",
    "        model = tf.keras.models.load_model(path_model)\n",
    "        model.load_weights(path_weights)\n",
    "        # Reads the test-set of the trained model and puts the experiment names into a list:\n",
    "        testset = open(path_testset, \"r\").read().split()\n",
    "        # Loads the training history dictionary:\n",
    "        history = np.load(path_history, allow_pickle=True).item()        \n",
    "\n",
    "        # Show Loss of Training History\n",
    "        print(f\"\\nThe lowest validation loss is: {round(min(history['val_loss']), 3)} at epoch {np.argmin(history['val_loss'])}\\n\")\n",
    "        if \"age\" in trained_model:\n",
    "            xlim, ylim = [0,100], [0,150000]\n",
    "        if \"dyslexia\" in trained_model:\n",
    "            xlim, ylim = [0,100], [0,0.1]\n",
    "        display_helper.show_plot(x=range(len(history['loss'])), \n",
    "                                 y=[history['loss'], history['val_loss']], \n",
    "                                 legend=[\"loss\",\"validation loss\"], \n",
    "                                 xlabel=\"epochs\", ylabel=\"validation loss (MSE)\", \n",
    "                                 title=f\"Loss during training ({trained_model})\",\n",
    "                                 xlim=xlim, ylim=ylim)\n",
    "        \n",
    "        # Load Model predictions\n",
    "        predictions_file_name = \"predictions_age_\"+dataset_name_w.value+\".txt\"\n",
    "        predictions_path = os.path.join(local_paths.models, model_name_w.value, predictions_file_name)\n",
    "\n",
    "        if os.path.exists(predictions_path):\n",
    "            global results\n",
    "            results = np.loadtxt(predictions_path)\n",
    "            print(f\"Results loaded: {predictions_file_name} from {model_name_w.value}\")    \n",
    "        else:\n",
    "            print(f\"Could not load {predictions_file_name} from {model_name_w.value}, make predictions in the following code.\")\n",
    "\n",
    "    else: \n",
    "        print(\"The model is untrained.\")\n",
    "       \n",
    "    \n",
    "\n",
    "# Find all models in 'local_paths.models' \n",
    "all_trained_models = sorted(f for f in os.listdir(os.path.join(local_paths.models)) if not \".\" in f)\n",
    "# models_dataset = [m for m in all_trained_models if dataset_name_w.value in m] \n",
    "\n",
    "\n",
    "# Widget for selecting the trained models\n",
    "model_name_w = ipywidgets.RadioButtons(options=all_trained_models, description='Models:')\n",
    "display(model_name_w)\n",
    "out = ipywidgets.interactive_output(load_model, {'trained_model': model_name_w})\n",
    "display(out)"
   ]
  },
  {
   "cell_type": "markdown",
   "metadata": {
    "tags": []
   },
   "source": [
    "<br>\n",
    "\n",
    "<a id='2ma'></a>\n",
    "### 2. Make predictions on test set\n",
    "\n",
    "The predictions are made by predicting the label of multiple ERPs generated from the same experiment. Each ERP is different, since a random subset of the total number of epochs is used for creating the ERPs.\n",
    "\n",
    "+ *n_passthroughs* is the number of predictions made from the same experiment. A higher number takes longer to process but is more accurate."
   ]
  },
  {
   "cell_type": "code",
   "execution_count": 6,
   "metadata": {},
   "outputs": [
    {
     "name": "stdout",
     "output_type": "stream",
     "text": [
      "Results saved to: /home/fpauwels/eegyolk/floris_thesis_code/models/trained_models/epod_encoder_dyslexia_last1/predictions_age_epodium.txt\n"
     ]
    }
   ],
   "source": [
    "n_passthroughs = 30\n",
    "\n",
    "predictions_path = os.path.join(local_paths.models, model_name_w.value, \"predictions_age_\"+dataset_name_w.value+\".txt\")\n",
    "if os.path.exists(predictions_path):\n",
    "    print(f\"The predictions of model '{model_name_w.value}' to dataset '{dataset_name_w.value}' are already saved.\")\n",
    "else:\n",
    "    results = []\n",
    "\n",
    "    # Transfer learning, get entire ePodium dataset as testset:\n",
    "    if dataset_name_w.value  == \"epodium\" and \"ddp\" in model_name_w.value:\n",
    "        testset = processing.valid_experiments(dataset, local_paths.ePod_epochs_events, min_standards=180, min_deviants=80)\n",
    "\n",
    "    # For each experiment in the test-set\n",
    "    for i, experiment in enumerate(testset):\n",
    "        # Set up relevant sequence (each experiment gets its own sequence)\n",
    "        if dataset_name_w.value == \"ddp\":\n",
    "            test_sequence = DDPSequence([experiment], labels, local_paths.DDP_epochs, \n",
    "                                        batch_size=1, n_instances_per_experiment=n_passthroughs, \n",
    "                                        n_trials_averaged=30, standardise=True)\n",
    "\n",
    "        elif dataset_name_w.value  == \"epodium\":        \n",
    "            if  \"ddp\" in model_name_w.value:\n",
    "                epochs_directory = os.path.join(local_paths.ePod, \"epochs_fif_500Hz_26ch\")\n",
    "                test_sequence = EpodiumSequence([experiment], labels, epochs_directory, \n",
    "                                                batch_size=n_passthroughs, label='age',\n",
    "                                                n_trials_averaged=30, standardise=True)\n",
    "            else:\n",
    "                test_sequence = EpodiumSequence([experiment], labels, local_paths.ePod_epochs,\n",
    "                                                batch_size=n_passthroughs, label='dyslexia', \n",
    "                                                n_trials_averaged=80, input_type=\"MMR\", standardise=True) \n",
    "\n",
    "        # Get experiment\n",
    "        x, y = test_sequence.__getitem__(0)\n",
    "\n",
    "        # Make a prediction with the model.\n",
    "        real_pred = [y[0], np.squeeze(model.predict(x, verbose=0)).mean()]\n",
    "        results.append(real_pred)\n",
    "\n",
    "        print(f\"{i+1}/{len(testset)} predicted.\")\n",
    "        clear_output(wait=True)\n",
    "\n",
    "    results = np.array(results)\n",
    "\n",
    "    # Save results\n",
    "    if os.path.exists(predictions_path):\n",
    "        os.remove(predictions_path)\n",
    "    np.savetxt(predictions_path, results)\n",
    "    print(f\"Results saved to: {predictions_path}\")"
   ]
  },
  {
   "cell_type": "markdown",
   "metadata": {},
   "source": [
    "<br>\n",
    "\n",
    "<a id='3ma'></a>\n",
    "### 3. Show results"
   ]
  },
  {
   "cell_type": "markdown",
   "metadata": {},
   "source": [
    "#### Calculate test loss\n",
    "\n",
    "The *Root Mean Square Error* (RMSE) is used to compare the different models"
   ]
  },
  {
   "cell_type": "code",
   "execution_count": 14,
   "metadata": {},
   "outputs": [
    {
     "name": "stdout",
     "output_type": "stream",
     "text": [
      "RMSE: 4.242\n"
     ]
    }
   ],
   "source": [
    "error = np.diff(results)/30\n",
    "squared_error = np.square(error)\n",
    "mean_squared_error = np.average(squared_error)\n",
    "root_mean_squared_error = np.sqrt(mean_squared_error)\n",
    "print(f\"RMSE: {round(root_mean_squared_error,3)}\")"
   ]
  },
  {
   "cell_type": "markdown",
   "metadata": {},
   "source": [
    "The *Mean Absolute Error* (MAE) is used to compare the different models"
   ]
  },
  {
   "cell_type": "code",
   "execution_count": 15,
   "metadata": {},
   "outputs": [
    {
     "data": {
      "text/plain": [
       "3.685"
      ]
     },
     "execution_count": 15,
     "metadata": {},
     "output_type": "execute_result"
    }
   ],
   "source": [
    "absolute_error = np.absolute(error)\n",
    "mean_absolute_error = np.average(absolute_error)\n",
    "round(mean_absolute_error,3)"
   ]
  },
  {
   "cell_type": "markdown",
   "metadata": {},
   "source": [
    "#### Calculate color of testset\n",
    "\n",
    "The experiments in the testset are colored from blue to red, where red means that more trials are rejected in the experiment. This can indicate more noise in the EEG signal.\n"
   ]
  },
  {
   "cell_type": "code",
   "execution_count": 20,
   "metadata": {},
   "outputs": [
    {
     "name": "stdout",
     "output_type": "stream",
     "text": [
      "Analyzed: 248 bad: 62\n",
      "186 experiments have enough epochs for analysis.\n"
     ]
    }
   ],
   "source": [
    "# Color of dots depend on estimated amount of noise in data\n",
    "\n",
    "list_n_standards = []\n",
    "\n",
    "if dataset_name_w.value == 'epodium':\n",
    "    standard_id = [2, 5, 8, 11]\n",
    "\n",
    "    if \"ddp\" in model_name_w.value:\n",
    "        testset_temp = processing.valid_experiments(dataset, local_paths.ePod_epochs_events, min_standards=180, min_deviants=80)\n",
    "    else:\n",
    "        testset_temp = testset        \n",
    "\n",
    "    for experiment in testset_temp:\n",
    "        events_path = os.path.join(local_paths.ePod_epochs_events, experiment + '_events.txt')\n",
    "        events = np.loadtxt(events_path, dtype=int)\n",
    "\n",
    "        n_standards = 0    \n",
    "        for i in range(4):\n",
    "            n_standards += np.count_nonzero(events[:,2] == standard_id[i])\n",
    "        list_n_standards.append(n_standards)\n",
    "\n",
    "    # Flip, so noisy experiments have a high (red) color value\n",
    "    color = 1 - (np.array(list_n_standards) - min(list_n_standards)) / (max(list_n_standards) - min(list_n_standards))\n",
    "    \n",
    "if dataset_name_w.value == 'ddp':    \n",
    "    for experiment in testset:\n",
    "        events_path = os.path.join(local_paths.DDP_epochs_events, experiment + '_events.txt')\n",
    "        events = np.loadtxt(events_path, dtype=int)\n",
    "        \n",
    "        n_standards = np.count_nonzero(events[:,2] == 1)\n",
    "        list_n_standards.append(n_standards)\n",
    "    color = 1 - (np.array(list_n_standards) - min(list_n_standards)) / (max(list_n_standards) - min(list_n_standards))"
   ]
  },
  {
   "cell_type": "markdown",
   "metadata": {},
   "source": [
    "#### Scatterplot results ages "
   ]
  },
  {
   "cell_type": "code",
   "execution_count": 21,
   "metadata": {},
   "outputs": [
    {
     "data": {
      "image/png": "[encoded data removed]",
      "text/plain": [
       "<Figure size 432x288 with 1 Axes>"
      ]
     },
     "metadata": {
      "needs_background": "light"
     },
     "output_type": "display_data"
    },
    {
     "name": "stdout",
     "output_type": "stream",
     "text": [
      "\n",
      "line coef. a = -0.007 b = 20.309\n"
     ]
    }
   ],
   "source": [
    "model_info = model_name_w.value.split(\"_\")\n",
    "\n",
    "ages_real = np.array(results)[:,0]/30\n",
    "\n",
    "# Correction values for DDP dataset\n",
    "a = 0.3728\n",
    "b = 15.78\n",
    "\n",
    "correction_point = (a-1) * ages_real + b\n",
    "correction_avg = (a-1) * np.average(ages_real) + b\n",
    "\n",
    "ages_predicted = np.array(results)[:,1]/30\n",
    "\n",
    "corr_coef = round(np.corrcoef(ages_real, ages_predicted)[0, 1], 3)\n",
    "r2 = round(corr_coef**2,3)\n",
    "\n",
    "display_helper.show_plot(ages_real, \n",
    "                         ages_predicted, \n",
    "                         f\"Age prediction (DDP {model_info[1]}) $R^2$ = {r2} \", \n",
    "                         \"Actual age (months)\",\n",
    "                         \"Predicted age (months)\",\n",
    "                         scatter=True,\n",
    "                         scatter_color=color,\n",
    "                         show=False)\n",
    "                         #xlim = [5,46],\n",
    "                         #ylim = [5,46])\n",
    "plt.grid()\n",
    "\n",
    "if dataset_name_w.value == \"ddp\":\n",
    "    x, y = 5, 50\n",
    "elif dataset_name_w.value  == \"epodium\":\n",
    "    x, y = 15, 25\n",
    "\n",
    "# Line where predicted=actual:\n",
    "plt.plot([x, y], [x, y]) \n",
    "\n",
    "a, b = np.polyfit(ages_real, ages_predicted, 1)\n",
    "plt.plot([x, y], [a*x+b, a*y+b]) \n",
    "plt.show()\n",
    "\n",
    "print(f\"\\nline coef. a = {round(a,3)} b = {round(b,3)}\")"
   ]
  },
  {
   "cell_type": "markdown",
   "metadata": {},
   "source": [
    "#### Scatterplot results risk of dyslexia "
   ]
  },
  {
   "cell_type": "code",
   "execution_count": 12,
   "metadata": {},
   "outputs": [
    {
     "data": {
      "image/png": "[encoded data removed]",
      "text/plain": [
       "<Figure size 432x288 with 1 Axes>"
      ]
     },
     "metadata": {
      "needs_background": "light"
     },
     "output_type": "display_data"
    }
   ],
   "source": [
    "model_info = model_name_w.value.split(\"_\")\n",
    "\n",
    "risk_real = np.array(results)[:,0]\n",
    "risk_predicted = np.array(results)[:,1]\n",
    "\n",
    "display_helper.show_plot(risk_real, \n",
    "                         risk_predicted, \n",
    "                         f\"Parents score's from MMN ({model_info[0]} {model_info[1]})\", \n",
    "                         \"Actual score\",\n",
    "                         \"Predicted score\",\n",
    "                         scatter=True,\n",
    "                         show=False)\n",
    "x, y = 0.4, 1\n",
    "plt.plot([x, y], [x, y]) \n",
    "\n",
    "m, c = np.polyfit(risk_real, risk_predicted, 1)\n",
    "plt.plot([x, y], [x*m+c, y*m+c]) \n",
    "plt.show()"
   ]
  },
  {
   "cell_type": "code",
   "execution_count": null,
   "metadata": {},
   "outputs": [],
   "source": []
  },
  {
   "cell_type": "markdown",
   "metadata": {},
   "source": [
    "### Additional tools: \n",
    "TODO: tweaking and cleaning"
   ]
  },
  {
   "cell_type": "code",
   "execution_count": null,
   "metadata": {},
   "outputs": [],
   "source": [
    "# Save dataset in different dimension (sampling_rate, channels)\n",
    "sample_rate=501\n",
    "channels=dataset.channels_epod_ddp\n",
    "\n",
    "# Loop over each epochs_fif file\n",
    "experiment_paths = glob.glob(os.path.join(local_paths.ePod_epochs, '*.fif'))\n",
    "for experiment_path in experiment_paths:\n",
    "    path_epochs_ddp_dims = os.path.join(local_paths.ePod, \"epochs_fif_500Hz_26ch\", experiment + \"_epo.fif\")\n",
    "    if os.path.exists(path_epochs_ddp_dims):\n",
    "        continue\n",
    "        \n",
    "    filename_events = os.path.basename(experiment_path)\n",
    "    experiment = filename_events.split((\"_epo.fif\"))[0]\n",
    "    \n",
    "    # Load and modify epochs\n",
    "    print(f\"Modifying experiment {experiment}\")\n",
    "    path_epochs = os.path.join(local_paths.ePod_epochs, experiment + \"_epo.fif\")\n",
    "    epochs = mne.read_epochs(path_epochs, verbose=0)\n",
    "    epochs.pick_channels(dataset.channels_epod_ddp)\n",
    "    epochs.resample(sample_rate)\n",
    "    \n",
    "    # Save epochs with new dimensions\n",
    "    epochs.save(path_epochs_ddp_dims)   "
   ]
  },
  {
   "cell_type": "code",
   "execution_count": null,
   "metadata": {},
   "outputs": [],
   "source": [
    "# Tool to calculate mean score\n",
    "array = np.array(labels[\"Dyslexia_score\"])-0.68\n",
    "square = np.square(array)\n",
    "np.average(square)\n"
   ]
  },
  {
   "cell_type": "code",
   "execution_count": null,
   "metadata": {},
   "outputs": [],
   "source": [
    "# Histogram dyslexia score\n",
    "plt.hist(labels[\"Dyslexia_score\"], bins=20)\n",
    "plt.title('Parents\\' normalized average scores on EMT, Klepel, and VC tests')\n",
    "plt.xlabel('Score')\n",
    "#plt.ylabel('')\n",
    "plt.show\n"
   ]
  },
  {
   "cell_type": "code",
   "execution_count": null,
   "metadata": {},
   "outputs": [],
   "source": [
    "# Save array of strings\n",
    "path = os.path.join(local_paths.models, \"clean_epod_experiments.txt\")\n",
    "array = np.array(testset)\n",
    "np.savetxt(path, array, fmt='%s')"
   ]
  },
  {
   "cell_type": "code",
   "execution_count": null,
   "metadata": {},
   "outputs": [],
   "source": []
  },
  {
   "cell_type": "code",
   "execution_count": null,
   "metadata": {},
   "outputs": [],
   "source": []
  },
  {
   "cell_type": "code",
   "execution_count": 22,
   "metadata": {},
   "outputs": [
    {
     "ename": "KeyboardInterrupt",
     "evalue": "",
     "output_type": "error",
     "traceback": [
      "\u001b[0;31m---------------------------------------------------------------------------\u001b[0m",
      "\u001b[0;31mKeyboardInterrupt\u001b[0m                         Traceback (most recent call last)",
      "Input \u001b[0;32mIn [22]\u001b[0m, in \u001b[0;36m<cell line: 5>\u001b[0;34m()\u001b[0m\n\u001b[1;32m     11\u001b[0m     test_sequence \u001b[38;5;241m=\u001b[39m DDPSequence([experiment], labels, local_paths\u001b[38;5;241m.\u001b[39mDDP_epochs, batch_size\u001b[38;5;241m=\u001b[39m\u001b[38;5;241m1\u001b[39m,\n\u001b[1;32m     12\u001b[0m                                 n_instances_per_experiment\u001b[38;5;241m=\u001b[39mn_passthrough\u001b[38;5;241m+\u001b[39m\u001b[38;5;241m1\u001b[39m, n_trials_averaged\u001b[38;5;241m=\u001b[39m\u001b[38;5;241m30\u001b[39m,\n\u001b[1;32m     13\u001b[0m                                 standardise\u001b[38;5;241m=\u001b[39m\u001b[38;5;28;01mTrue\u001b[39;00m)\n\u001b[1;32m     15\u001b[0m \u001b[38;5;66;03m# Get experiment\u001b[39;00m\n\u001b[0;32m---> 16\u001b[0m x, y \u001b[38;5;241m=\u001b[39m \u001b[43mtest_sequence\u001b[49m\u001b[38;5;241;43m.\u001b[39;49m\u001b[38;5;21;43m__getitem__\u001b[39;49m\u001b[43m(\u001b[49m\u001b[38;5;241;43m0\u001b[39;49m\u001b[43m)\u001b[49m\n\u001b[1;32m     18\u001b[0m \u001b[38;5;66;03m# Make a prediction with the model.\u001b[39;00m\n\u001b[1;32m     19\u001b[0m real_pred \u001b[38;5;241m=\u001b[39m [y[\u001b[38;5;241m0\u001b[39m], np\u001b[38;5;241m.\u001b[39msqueeze(model\u001b[38;5;241m.\u001b[39mpredict(x, verbose\u001b[38;5;241m=\u001b[39m\u001b[38;5;241m0\u001b[39m))\u001b[38;5;241m.\u001b[39mmean()]\n",
      "File \u001b[0;32m~/eegyolk/floris_thesis_code/functions/sequences.py:64\u001b[0m, in \u001b[0;36mEpodiumSequence.__getitem__\u001b[0;34m(self, index, verbose)\u001b[0m\n\u001b[1;32m     62\u001b[0m     \u001b[38;5;28mprint\u001b[39m(\u001b[38;5;124mf\u001b[39m\u001b[38;5;124m\"\u001b[39m\u001b[38;5;124mLoading experiment \u001b[39m\u001b[38;5;132;01m{\u001b[39;00mexperiment\u001b[38;5;132;01m}\u001b[39;00m\u001b[38;5;124m\"\u001b[39m)  \n\u001b[1;32m     63\u001b[0m path_epochs \u001b[38;5;241m=\u001b[39m os\u001b[38;5;241m.\u001b[39mpath\u001b[38;5;241m.\u001b[39mjoin(\u001b[38;5;28mself\u001b[39m\u001b[38;5;241m.\u001b[39mepochs_directory, experiment \u001b[38;5;241m+\u001b[39m \u001b[38;5;124m\"\u001b[39m\u001b[38;5;124m_epo.fif\u001b[39m\u001b[38;5;124m\"\u001b[39m)                \n\u001b[0;32m---> 64\u001b[0m epochs \u001b[38;5;241m=\u001b[39m \u001b[43mmne\u001b[49m\u001b[38;5;241;43m.\u001b[39;49m\u001b[43mread_epochs\u001b[49m\u001b[43m(\u001b[49m\u001b[43mpath_epochs\u001b[49m\u001b[43m,\u001b[49m\u001b[43m \u001b[49m\u001b[43mverbose\u001b[49m\u001b[38;5;241;43m=\u001b[39;49m\u001b[38;5;241;43m0\u001b[39;49m\u001b[43m)\u001b[49m\n\u001b[1;32m     66\u001b[0m \u001b[38;5;66;03m# Modify epochs\u001b[39;00m\n\u001b[1;32m     67\u001b[0m \u001b[38;5;28;01mif\u001b[39;00m \u001b[38;5;28mself\u001b[39m\u001b[38;5;241m.\u001b[39mchannel_names:\n",
      "File \u001b[0;32m<decorator-gen-259>:10\u001b[0m, in \u001b[0;36mread_epochs\u001b[0;34m(fname, proj, preload, verbose)\u001b[0m\n",
      "File \u001b[0;32m~/.local/lib/python3.8/site-packages/mne/epochs.py:3187\u001b[0m, in \u001b[0;36mread_epochs\u001b[0;34m(fname, proj, preload, verbose)\u001b[0m\n\u001b[1;32m   3169\u001b[0m \u001b[38;5;129m@verbose\u001b[39m\n\u001b[1;32m   3170\u001b[0m \u001b[38;5;28;01mdef\u001b[39;00m \u001b[38;5;21mread_epochs\u001b[39m(fname, proj\u001b[38;5;241m=\u001b[39m\u001b[38;5;28;01mTrue\u001b[39;00m, preload\u001b[38;5;241m=\u001b[39m\u001b[38;5;28;01mTrue\u001b[39;00m, verbose\u001b[38;5;241m=\u001b[39m\u001b[38;5;28;01mNone\u001b[39;00m):\n\u001b[1;32m   3171\u001b[0m     \u001b[38;5;124;03m\"\"\"Read epochs from a fif file.\u001b[39;00m\n\u001b[1;32m   3172\u001b[0m \n\u001b[1;32m   3173\u001b[0m \u001b[38;5;124;03m    Parameters\u001b[39;00m\n\u001b[0;32m   (...)\u001b[0m\n\u001b[1;32m   3185\u001b[0m \u001b[38;5;124;03m        The epochs.\u001b[39;00m\n\u001b[1;32m   3186\u001b[0m \u001b[38;5;124;03m    \"\"\"\u001b[39;00m\n\u001b[0;32m-> 3187\u001b[0m     \u001b[38;5;28;01mreturn\u001b[39;00m \u001b[43mEpochsFIF\u001b[49m\u001b[43m(\u001b[49m\u001b[43mfname\u001b[49m\u001b[43m,\u001b[49m\u001b[43m \u001b[49m\u001b[43mproj\u001b[49m\u001b[43m,\u001b[49m\u001b[43m \u001b[49m\u001b[43mpreload\u001b[49m\u001b[43m,\u001b[49m\u001b[43m \u001b[49m\u001b[43mverbose\u001b[49m\u001b[43m)\u001b[49m\n",
      "File \u001b[0;32m<decorator-gen-260>:10\u001b[0m, in \u001b[0;36m__init__\u001b[0;34m(self, fname, proj, preload, verbose)\u001b[0m\n",
      "File \u001b[0;32m~/.local/lib/python3.8/site-packages/mne/epochs.py:3246\u001b[0m, in \u001b[0;36mEpochsFIF.__init__\u001b[0;34m(self, fname, proj, preload, verbose)\u001b[0m\n\u001b[1;32m   3244\u001b[0m fname_rep \u001b[38;5;241m=\u001b[39m _get_fname_rep(fname)\n\u001b[1;32m   3245\u001b[0m logger\u001b[38;5;241m.\u001b[39minfo(\u001b[38;5;124m'\u001b[39m\u001b[38;5;124mReading \u001b[39m\u001b[38;5;132;01m%s\u001b[39;00m\u001b[38;5;124m ...\u001b[39m\u001b[38;5;124m'\u001b[39m \u001b[38;5;241m%\u001b[39m fname_rep)\n\u001b[0;32m-> 3246\u001b[0m fid, tree, _ \u001b[38;5;241m=\u001b[39m \u001b[43mfiff_open\u001b[49m\u001b[43m(\u001b[49m\u001b[43mfname\u001b[49m\u001b[43m,\u001b[49m\u001b[43m \u001b[49m\u001b[43mpreload\u001b[49m\u001b[38;5;241;43m=\u001b[39;49m\u001b[43mpreload\u001b[49m\u001b[43m)\u001b[49m\n\u001b[1;32m   3247\u001b[0m next_fname \u001b[38;5;241m=\u001b[39m _get_next_fname(fid, fname, tree)\n\u001b[1;32m   3248\u001b[0m (info, data, data_tag, events, event_id, metadata, tmin, tmax,\n\u001b[1;32m   3249\u001b[0m  baseline, selection, drop_log, epoch_shape, cals,\n\u001b[1;32m   3250\u001b[0m  reject_params, fmt, annotations, raw_sfreq) \u001b[38;5;241m=\u001b[39m \\\n\u001b[1;32m   3251\u001b[0m     _read_one_epoch_file(fid, tree, preload)\n",
      "File \u001b[0;32m<decorator-gen-7>:12\u001b[0m, in \u001b[0;36mfiff_open\u001b[0;34m(fname, preload, verbose)\u001b[0m\n",
      "File \u001b[0;32m~/.local/lib/python3.8/site-packages/mne/io/open.py:126\u001b[0m, in \u001b[0;36mfiff_open\u001b[0;34m(fname, preload, verbose)\u001b[0m\n\u001b[1;32m    124\u001b[0m fid \u001b[38;5;241m=\u001b[39m _fiff_get_fid(fname)\n\u001b[1;32m    125\u001b[0m \u001b[38;5;28;01mtry\u001b[39;00m:\n\u001b[0;32m--> 126\u001b[0m     \u001b[38;5;28;01mreturn\u001b[39;00m \u001b[43m_fiff_open\u001b[49m\u001b[43m(\u001b[49m\u001b[43mfname\u001b[49m\u001b[43m,\u001b[49m\u001b[43m \u001b[49m\u001b[43mfid\u001b[49m\u001b[43m,\u001b[49m\u001b[43m \u001b[49m\u001b[43mpreload\u001b[49m\u001b[43m)\u001b[49m\n\u001b[1;32m    127\u001b[0m \u001b[38;5;28;01mexcept\u001b[39;00m \u001b[38;5;167;01mException\u001b[39;00m:\n\u001b[1;32m    128\u001b[0m     fid\u001b[38;5;241m.\u001b[39mclose()\n",
      "File \u001b[0;32m~/.local/lib/python3.8/site-packages/mne/io/open.py:138\u001b[0m, in \u001b[0;36m_fiff_open\u001b[0;34m(fname, fid, preload)\u001b[0m\n\u001b[1;32m    134\u001b[0m \u001b[38;5;28;01mif\u001b[39;00m preload:\n\u001b[1;32m    135\u001b[0m     \u001b[38;5;66;03m# note that StringIO objects instantiated this way are read-only,\u001b[39;00m\n\u001b[1;32m    136\u001b[0m     \u001b[38;5;66;03m# but that's okay here since we are using mode \"rb\" anyway\u001b[39;00m\n\u001b[1;32m    137\u001b[0m     \u001b[38;5;28;01mwith\u001b[39;00m fid \u001b[38;5;28;01mas\u001b[39;00m fid_old:\n\u001b[0;32m--> 138\u001b[0m         fid \u001b[38;5;241m=\u001b[39m BytesIO(\u001b[43mfid_old\u001b[49m\u001b[38;5;241;43m.\u001b[39;49m\u001b[43mread\u001b[49m\u001b[43m(\u001b[49m\u001b[43m)\u001b[49m)\n\u001b[1;32m    140\u001b[0m tag \u001b[38;5;241m=\u001b[39m read_tag_info(fid)\n\u001b[1;32m    142\u001b[0m \u001b[38;5;66;03m#   Check that this looks like a fif file\u001b[39;00m\n",
      "\u001b[0;31mKeyboardInterrupt\u001b[0m: "
     ]
    }
   ],
   "source": [
    "#n_passthroughs = 30\n",
    "\n",
    "all_results = []\n",
    "\n",
    "for n_passthrough in range(50):\n",
    "    # For each experiment in the test-set\n",
    "    results = []\n",
    "    for i, experiment in enumerate(testset):\n",
    "        # Set up relevant sequence (each experiment gets its own sequence)\n",
    "        if dataset_name_w.value == \"ddp\":\n",
    "            test_sequence = DDPSequence([experiment], labels, local_paths.DDP_epochs, batch_size=1,\n",
    "                                        n_instances_per_experiment=n_passthrough+1, n_trials_averaged=30,\n",
    "                                        standardise=True)\n",
    "      \n",
    "        # Get experiment\n",
    "        x, y = test_sequence.__getitem__(0)\n",
    "\n",
    "        # Make a prediction with the model.\n",
    "        real_pred = [y[0], np.squeeze(model.predict(x, verbose=0)).mean()]\n",
    "        results.append(real_pred)\n",
    "    all_results.append(results)\n",
    "    print(n_passthrough+1)\n",
    "all_results = np.array(all_results)"
   ]
  },
  {
   "cell_type": "code",
   "execution_count": null,
   "metadata": {},
   "outputs": [],
   "source": [
    "all_results2= all_results\n",
    "errors = []\n",
    "for i in range(50):\n",
    "    error = np.diff(all_results[i])\n",
    "    squared_error = np.square(error)\n",
    "    mean_squared_error = np.average(squared_error)\n",
    "    root_mean_squared_error = np.sqrt(mean_squared_error)\n",
    "    \n",
    "    absolute_error = np.absolute(error)\n",
    "    mean_absolute_error = np.average(absolute_error)\n",
    "    \n",
    "    errors.append(mean_absolute_error)\n",
    "\n",
    "\n",
    "display_helper.show_plot(x=range(50), \n",
    "                         y=np.array(errors)/30, \n",
    "                         xlabel=\"Number of sampled ERPs\", ylabel=\"Average MAE (months)\", \n",
    "                         title=f\"Average error of predictions (DDP encoder std)\",\n",
    "                         xlim=[0,50])# , ylim=ylim)"
   ]
  },
  {
   "cell_type": "code",
   "execution_count": 53,
   "metadata": {},
   "outputs": [
    {
     "data": {
      "image/png": "[encoded data removed]",
      "text/plain": [
       "<Figure size 432x288 with 1 Axes>"
      ]
     },
     "metadata": {
      "needs_background": "light"
     },
     "output_type": "display_data"
    }
   ],
   "source": [
    "# Create plot of reading scores versus predicted age\n",
    "dys_scores = np.zeros(len(ages_predicted))\n",
    "\n",
    "\n",
    "for i, experiment in enumerate(epod_testset):\n",
    "    paticipant = experiment[0:3]\n",
    "    participant_labels = labels.loc[labels[\"Participant\"] == int(paticipant)]\n",
    "    dys_scores[i] = participant_labels[\"Dyslexia_score\"]\n",
    "\n",
    "corr_coef = round(np.corrcoef(dys_scores, ages_predicted)[0, 1], 3)\n",
    "r2 = round(corr_coef**2,3)\n",
    "    \n",
    "display_helper.show_plot(x=dys_scores, \n",
    "                     y=ages_predicted, \n",
    "                     xlabel=\"Parents' average score on reading tests\", ylabel=\"Predicted age (months)\", \n",
    "                     title=f\"Parental dyslexia vs predicted age in ePod (DDP encoder std) $R^2$ = {r2}\",\n",
    "                     scatter_color=color,\n",
    "                     scatter=True,\n",
    "                     show=False)\n",
    "plt.grid()\n",
    "\n",
    "x, y = 0.4, 1\n",
    "m, c = np.polyfit(dys_scores, ages_predicted, 1)\n",
    "plt.plot([x, y], [x*m+c, y*m+c]) \n",
    "plt.show()\n"
   ]
  },
  {
   "cell_type": "code",
   "execution_count": 26,
   "metadata": {},
   "outputs": [
    {
     "name": "stdout",
     "output_type": "stream",
     "text": [
      "Analyzed: 248 bad: 62\n",
      "186 experiments have enough epochs for analysis.\n"
     ]
    }
   ],
   "source": [
    "epod_testset = processing.valid_experiments(dataset, local_paths.ePod_epochs_events, min_standards=180, min_deviants=80)"
   ]
  }
 ],
 "metadata": {
  "interpreter": {
   "hash": "a5f6ecf0357e95e30953d0cf08844b8b26fdbdf1f780a6e218131c917612a57e"
  },
  "kernelspec": {
   "display_name": "Python 3 (ipykernel)",
   "language": "python",
   "name": "python3"
  },
  "language_info": {
   "codemirror_mode": {
    "name": "ipython",
    "version": 3
   },
   "file_extension": ".py",
   "mimetype": "text/x-python",
   "name": "python",
   "nbconvert_exporter": "python",
   "pygments_lexer": "ipython3",
   "version": "3.8.10"
  }
 },
 "nbformat": 4,
 "nbformat_minor": 4
}
