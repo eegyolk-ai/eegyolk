{
 "cells": [
  {
   "cell_type": "markdown",
   "metadata": {},
   "source": [
    "# Notebook for the ePodium dataset\n",
    "\n",
    "This notebook contains four sections. Access to the ePodium dataset is required to run the notebook properly.\n",
    "\n",
    "+ In section 1. [Loading EEG-data and metadata](#1epod) the EEG-data and metadata is loaded. \n",
    "+ In section 2. [The ePodium experiment](#2epod) the structure of the auditory oddball experiment is explained and visualised. There is an emphasis on the different events. \n",
    "+ Section 3. [Processing](#3epod) is for processing and cleaning up the raw files. The raw data is split into epochs, i.e. partitions surrounding the events. These epochs are stored in a *.fif* file. *.fif* is the standard extension for the *mne* package. \n",
    "+ In section 4. [The Event Related Potential (ERP)](#4epod) (ERPs) that result from the events are explored. \n",
    "\n"
   ]
  },
  {
   "cell_type": "markdown",
   "metadata": {},
   "source": [
    "#### Import Packages"
   ]
  },
  {
   "cell_type": "code",
   "execution_count": null,
   "metadata": {},
   "outputs": [],
   "source": [
    "import ipywidgets\n",
    "import mne\n",
    "import numpy as np\n",
    "import os\n",
    "import glob\n",
    "import wave # Optional package for analyzing .wav audio files\n",
    "\n",
    "import local_paths\n",
    "from functions import data_io\n",
    "from functions import processing\n",
    "from functions import display_helper\n",
    "\n",
    "from functions.epodium import Epodium\n",
    "epodium = Epodium()\n",
    "from functions.sequences import EpodiumSequence"
   ]
  },
  {
   "cell_type": "markdown",
   "metadata": {},
   "source": [
    "<br>\n",
    "\n",
    "---\n",
    "<a id='1epod'></a>\n",
    "## 1. Loading EEG-data and metadata\n",
    "\n",
    "   Make sure *local_paths.ePod_dataset* contains the path to the __dataset__ and *local_paths.ePod_metadata* contains the __metadata__ files.\n",
    "\n",
    "* *children.txt* contains the age and sex, and risk of dyslexia due to at least 1 dyslexic parents.\n",
    "* *cdi.txt* contains aditional information about the child's vocabulary with the Communicative Development Inventories questionnaire\n",
    "* *parents.txt* contains info on dyslexia tests and diagnoses of the parents.\n",
    "* *CODES_overview* contains the mapping of event condition and stimulus to an event number."
   ]
  },
  {
   "cell_type": "code",
   "execution_count": null,
   "metadata": {},
   "outputs": [],
   "source": [
    "experiments_raw, experiments_id = data_io.load_raw_dataset(local_paths.ePod_dataset, \n",
    "                                                       file_extension='.bdf', \n",
    "                                                       preload=False)\n",
    "\n",
    "epod_children, epod_cdi, epod_parents = \\\n",
    "    data_io.load_metadata(local_paths.ePod_metadata, epodium.metadata_filenames)"
   ]
  },
  {
   "cell_type": "markdown",
   "metadata": {
    "tags": []
   },
   "source": [
    "#### Participants Info"
   ]
  },
  {
   "cell_type": "code",
   "execution_count": null,
   "metadata": {},
   "outputs": [],
   "source": [
    "clean_b_dataframe = epod_children.loc[epod_children['Age_days_b'].str.isnumeric()]\n",
    "\n",
    "print(f\"The participants are between the age of {epod_children['Age_days_a'].min()} \"\n",
    "      f\"and {int(clean_b_dataframe['Age_days_b'].max())} days. \"\n",
    "      f\"({round(epod_children['Age_months_a'].min(), 1)} to \"\n",
    "      f\"{float(clean_b_dataframe['Age_months_b'].max())} months)\")"
   ]
  },
  {
   "cell_type": "markdown",
   "metadata": {},
   "source": [
    "<br>\n",
    "\n",
    "---\n",
    "<a id='2epod'></a>\n",
    "## 2. The ePodium experiment\n",
    "\n",
    "The ePodium experiment is an *auditory oddball experiment*. Children listen to a sequence that contains __80% standard__ and __20%     deviant__ syllables in order to elicit the *mismatch response*. \n",
    "For measurement 34 electrodes are used, of which __32 channels__ and 2 mastoid references. The measurement frequency is __2048.0 Hz__. \n",
    "The experiment is around __30 minutes__, with sequences of around 7.5 minutes containing four different conditions:\n",
    "\n",
    "+ Condition 1 __GiepMT__: standard \"*giep*\", deviant \"*gip*\": multiple pronounciations \n",
    "+ Condition 2 __GiepST__: standard \"*giep*\", deviant \"*gip*\": single pronounciation \n",
    "+ Condition 3 __GopMT__: standard \"*gop*\", deviant \"*goep*\": multiple pronounciations \n",
    "+ Condition 4 __GopST__: standard \"*gop*\", deviant \"*goep*\": single pronounciation"
   ]
  },
  {
   "cell_type": "markdown",
   "metadata": {},
   "source": [
    "#### Analyse audio stimulus"
   ]
  },
  {
   "cell_type": "code",
   "execution_count": null,
   "metadata": {},
   "outputs": [],
   "source": [
    "def print_sound_duration(sounds):\n",
    "    path_sound = os.path.join(local_paths.ePod_metadata, 'sounds', sounds)\n",
    "    with wave.open(path_sound) as mywav:\n",
    "        duration_seconds = mywav.getnframes() / mywav.getframerate()\n",
    "        print(f\"Length of the WAV file: {duration_seconds:.3f} s\")\n",
    "        \n",
    "epod_sounds = sorted(os.listdir(os.path.join(local_paths.ePod_metadata, 'sounds')))\n",
    "ipywidgets.interact(print_sound_duration, sounds=epod_sounds);"
   ]
  },
  {
   "cell_type": "markdown",
   "metadata": {},
   "source": [
    "### Load events\n",
    "Events are stored into external .txt file for faster loading.\n"
   ]
  },
  {
   "cell_type": "code",
   "execution_count": null,
   "metadata": {},
   "outputs": [],
   "source": [
    "## Store events in local path\n",
    "n_events_stored = len(glob.glob(os.path.join(local_paths.ePod_dataset_events, '*.txt')))\n",
    "if n_events_stored != len(experiments_raw):\n",
    "    data.save_events(local_paths.ePod_dataset_events, experiments_raw, experiments_id)\n",
    "\n",
    "## Load events\n",
    "events = data_io.load_events(local_paths.ePod_dataset_events, experiments_id)\n",
    "\n",
    "## Set multiple pronounciations as same event id to reduce the unique events from 78 to 12.\n",
    "events_12 = epodium.group_events_12(events)"
   ]
  },
  {
   "cell_type": "markdown",
   "metadata": {},
   "source": [
    "#### Choose which participant to analyse"
   ]
  },
  {
   "cell_type": "code",
   "execution_count": null,
   "metadata": {},
   "outputs": [],
   "source": [
    "def f(experiments):\n",
    "    return experiments\n",
    "\n",
    "participant_widget = ipywidgets.interactive(f, experiments=sorted(experiments_id))\n",
    "display(participant_widget)"
   ]
  },
  {
   "cell_type": "markdown",
   "metadata": {},
   "source": [
    "#### Show part of the EEG signal\n",
    "When a new experiment is chosen, this cell needs to be run again to visualise its EEG data."
   ]
  },
  {
   "cell_type": "code",
   "execution_count": null,
   "metadata": {},
   "outputs": [],
   "source": [
    "## Makes the plot interactive, comment out if not working:\n",
    "# %matplotlib widget \n",
    "\n",
    "participant_raw = experiments_raw[experiments_id.index(participant_widget.result)]\n",
    "participant_events = events_12[experiments_id.index(participant_widget.result)]\n",
    "\n",
    "fig = mne.viz.plot_raw(participant_raw, participant_events, n_channels=3, scalings=50e-6, duration=0.5, start=1000)"
   ]
  },
  {
   "cell_type": "markdown",
   "metadata": {},
   "source": [
    "#### Plot events across time\n",
    "\n",
    "The events are grouped into __12 event types__, 3 for each condition. \n",
    "\n",
    "Ideally, each condition has __120 deviants__ (D) and __360 standards__ (S).\n",
    "\n",
    "The test also contains __first standards__ (FS) to make the child accustomed to the standard. First standards are discarded when calculating the mismatch response. "
   ]
  },
  {
   "cell_type": "code",
   "execution_count": null,
   "metadata": {},
   "outputs": [],
   "source": [
    "fig = mne.viz.plot_events(participant_events, event_id=epodium.event_dictionary, \n",
    "                          color=display_helper.color_dictionary, sfreq=epodium.frequency)"
   ]
  },
  {
   "cell_type": "markdown",
   "metadata": {},
   "source": [
    "<br>\n",
    "\n",
    "---\n",
    "<a id='3epod'></a>\n",
    "## 3. Processing\n",
    "#### Filtering ePodium dataset and rejecting bad trials\n",
    "\n",
    "The EEG data located in _local_paths.ePod_dataset_ is processed with the following techniques:\n",
    "+ A high-pass filter on the raw EEG sequence with cutoff frequency 0.1 Hz to remove slow trends\n",
    "+ Splitting the raw data into 1 second epochs in which the event occurs at 0.2s.\n",
    "+ The epochs are cleaned with the autoreject library. This library contains classes that automatically reject bad trials and repair bad sensors in EEG data. The AutoReject and Ransac classes are used. https://autoreject.github.io/stable/index.html\n",
    "+ A low-pass filter on the epochs \n",
    "\n",
    "The function process_raw splits the raw files up into epochs and saves the events externally. It takes a while to process each file, mainly due to the complexity of the autoreject method. To save some time, multiple raw files are processed simultaniously via multiprocessing."
   ]
  },
  {
   "cell_type": "code",
   "execution_count": null,
   "metadata": {},
   "outputs": [],
   "source": [
    "raw_paths = sorted(glob.glob(os.path.join(local_paths.ePod_dataset, '*' + epodium.file_extension)))\n",
    "\n",
    "## Multiprocessing:\n",
    "processing.process_raw_multiprocess(experiments_id, raw_paths, epodium, local_paths.ePod_epochs)\n",
    "\n",
    "## Single processing:\n",
    "# for i in range(len(raw_paths)):\n",
    "#     processing.process_raw(i, experiments_id, raw_paths, epodium, local_paths.ePod_epochs)"
   ]
  },
  {
   "cell_type": "markdown",
   "metadata": {},
   "source": [
    "#### Extract valid experiments\n",
    "Processed files with too few standards and deviants are considered invalid."
   ]
  },
  {
   "cell_type": "code",
   "execution_count": null,
   "metadata": {},
   "outputs": [],
   "source": [
    "valid_experiments = processing.valid_experiments(epodium, local_paths.ePod_epochs_events, min_standards=180, min_deviants=80)"
   ]
  },
  {
   "cell_type": "markdown",
   "metadata": {},
   "source": [
    "<br>\n",
    "\n",
    "---\n",
    "<a id='4epod'></a>\n",
    "## 4. The Event Related Potential (ERP)\n",
    "\n",
    "+ The voltage change in the brain as a response to an event is called the *event-related potential* (ERP)\n",
    "+ The response difference between a standard and deviant ERP is called the *mismatch response* (MMR).\n",
    "+ The mismatch response can be analysed to predict differences between participants.\n"
   ]
  },
  {
   "cell_type": "markdown",
   "metadata": {},
   "source": [
    "#### Choose experiment to analyse"
   ]
  },
  {
   "cell_type": "code",
   "execution_count": null,
   "metadata": {},
   "outputs": [],
   "source": [
    "def load_participant_data(experiment):\n",
    "    global epochs\n",
    "    paths_epoch = os.path.join(local_paths.ePod_epochs, experiment + \"_epo.fif\")\n",
    "    epochs = mne.read_epochs(paths_epoch, verbose = 0)\n",
    "    print(f\"Loaded experiment: {experiment} \")\n",
    "\n",
    "ipywidgets.interact(load_participant_data, experiment=valid_experiments);"
   ]
  },
  {
   "cell_type": "markdown",
   "metadata": {
    "tags": []
   },
   "source": [
    "#### Widget for plotting standard, deviant, and mismatch ERPs"
   ]
  },
  {
   "cell_type": "code",
   "execution_count": null,
   "metadata": {},
   "outputs": [],
   "source": [
    "condition = ipywidgets.RadioButtons(options=epodium.conditions, \n",
    "                                    description='Condition:',\n",
    "                                    value=\"GiepM\")\n",
    "event_type = ipywidgets.RadioButtons(options=[\"standard\", \"deviant\", \"MMN\"], \n",
    "                                     description='Event type:', \n",
    "                                     value=\"standard\")\n",
    "\n",
    "def plot_ERP_widget(con, ev):\n",
    "    display_helper.plot_ERP(epochs, con, ev)\n",
    "\n",
    "ui = ipywidgets.HBox([condition, event_type])\n",
    "out = ipywidgets.interactive_output(plot_ERP_widget, {'con': condition, 'ev': event_type})\n",
    "display(ui, out)"
   ]
  },
  {
   "cell_type": "markdown",
   "metadata": {},
   "source": [
    "#### Widget for modifying data\n",
    "\n",
    "In the deep learning notebook, the model uses a sequence of data. This data is show in the plot below. Tweak the widget to see the effect of changing the parameters on an ERP. The plot can take a while to load.\n",
    "\n",
    "+ *sample_rate*: The number of data points in a second of each channel.\n",
    "+ *n_trials_averaged*: The number of trials averaged to form the ERP.\n",
    "+ *gaussian_noise*: The standard deviation of the noise added to each datapoint to reduce overfitting."
   ]
  },
  {
   "cell_type": "code",
   "execution_count": null,
   "metadata": {},
   "outputs": [],
   "source": [
    "def show_sequence_data(p, f, n, g):\n",
    "    labels = epodium.create_labels(local_paths.ePod_metadata)\n",
    "    sequence = EpodiumSequence(valid_experiments, labels, local_paths.ePod_epochs, batch_size=1, \n",
    "                               sample_rate=f, n_trials_averaged=n, gaussian_noise=g*1e-6)\n",
    "    x, y = sequence.__getitem__(p, True)\n",
    "    \n",
    "    print(f\"The shape of one data instance is {x[0].shape}\")\n",
    "    display_helper.plot_array_as_evoked(x[0], epodium.channels_epod, frequency=f, n_trials=n)\n",
    "    print(f\"In this experiment the age of the participant is {int(y[0])} days.\")\n",
    "\n",
    "# Widget sliders\n",
    "participant = ipywidgets.IntSlider(description=\"participant\")\n",
    "sample_rate = ipywidgets.IntSlider(description=\"sample_rate\", value=2049, min=10, max=2049)\n",
    "n_trials_averaged = ipywidgets.IntSlider(description=\"n_trials_averaged\", value=30)\n",
    "gaussian_noise = ipywidgets.FloatSlider(description=\"gaussian_noise\", max=3)\n",
    "# Widget setup\n",
    "ui = ipywidgets.HBox([participant, sample_rate, n_trials_averaged, gaussian_noise])\n",
    "out = ipywidgets.interactive_output(show_sequence_data, {'p':participant, 'f': sample_rate, \"n\": n_trials_averaged, \"g\": gaussian_noise})\n",
    "display(ui, out)"
   ]
  },
  {
   "cell_type": "markdown",
   "metadata": {},
   "source": [
    "Beware, the absolute value of the y-axis (microVolt) is meaningless due to data normalization. Each data-point is divided by the standard deviation of all the signals."
   ]
  }
 ],
 "metadata": {
  "interpreter": {
   "hash": "a5f6ecf0357e95e30953d0cf08844b8b26fdbdf1f780a6e218131c917612a57e"
  },
  "kernelspec": {
   "display_name": "Python 3 (ipykernel)",
   "language": "python",
   "name": "python3"
  },
  "language_info": {
   "codemirror_mode": {
    "name": "ipython",
    "version": 3
   },
   "file_extension": ".py",
   "mimetype": "text/x-python",
   "name": "python",
   "nbconvert_exporter": "python",
   "pygments_lexer": "ipython3",
   "version": "3.8.10"
  }
 },
 "nbformat": 4,
 "nbformat_minor": 4
}
