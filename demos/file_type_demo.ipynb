{
 "cells": [
  {
   "cell_type": "markdown",
   "id": "abbf610f",
   "metadata": {},
   "source": [
    "## File type demo"
   ]
  },
  {
   "cell_type": "markdown",
   "id": "ee0f4d8e",
   "metadata": {},
   "source": [
    "This notebook demonstrates some of the capabilities of the eegyolk library in terms of reading the cnt file type. It also demonstrates the importance of the dataformat argument in the mne library. Previous work had let some arguments in reading cnt files default to preset values.\n",
    "This notebook specifically demonstrates how whether the format of int32 or int16 influences the understanding of the file"
   ]
  },
  {
   "cell_type": "markdown",
   "id": "b1bead3e-3394-4abb-9034-31b7d01223a8",
   "metadata": {},
   "source": [
    "#### Imports"
   ]
  },
  {
   "cell_type": "code",
   "execution_count": 4,
   "id": "60c3e95b",
   "metadata": {},
   "outputs": [],
   "source": [
    "import mne      # toolbox for analyzing and visualizing EEG data\n",
    "import os       # using operating system dependent functionality (folders)\n",
    "import pandas   # data analysis and manipulation\n",
    "import numpy    # numerical computing (manipulating and performing operations on arrays of data)\n",
    "import copy     # Can Copy and Deepcopy files so original file is untouched.\n",
    "import glob\n",
    "import numpy as np\n",
    "from numpy.fft import fft, fftfreq\n",
    "from scipy import signal\n",
    "\n",
    "import matplotlib\n",
    "import matplotlib.pyplot as plt\n",
    "\n",
    "from mne.time_frequency.tfr import morlet\n",
    "from mne.viz import plot_filter, plot_ideal_filter\n",
    "\n",
    "\n",
    "from IPython.display import clear_output\n",
    "import warnings\n",
    "\n",
    "import sys"
   ]
  },
  {
   "cell_type": "markdown",
   "id": "64ce797c",
   "metadata": {},
   "source": [
    "Below eegyolk is importted in it's most updated version\n",
    "But the cell could be replaced by importing the stable library and then importing the modules of it."
   ]
  },
  {
   "cell_type": "code",
   "execution_count": 5,
   "id": "98a2fe69-3757-4908-acab-30dd530e5236",
   "metadata": {},
   "outputs": [],
   "source": [
    "\n",
    "import sys\n",
    "sys.path.insert(0, '../eegyolk') # path to helper functions\n",
    "import helper_functions as hf # library useful for eeg and erp data cleaning\n",
    "#import initialization_functions #library to import data\n",
    "import epod_helper\n",
    "import raw\n",
    "from config import Config\n",
    "from raw import RawData"
   ]
  },
  {
   "cell_type": "markdown",
   "id": "6440c41d-6c8c-47f4-875f-03383621c0fa",
   "metadata": {
    "tags": []
   },
   "source": [
    "#### Load EEG files\n",
    "Change your config file to change where data is coming from"
   ]
  },
  {
   "cell_type": "code",
   "execution_count": 7,
   "id": "00f79347",
   "metadata": {},
   "outputs": [
    {
     "name": "stdout",
     "output_type": "stream",
     "text": [
      "/c/Projects/eegyolk/demos\n"
     ]
    }
   ],
   "source": [
    "!pwd"
   ]
  },
  {
   "cell_type": "code",
   "execution_count": 6,
   "id": "465d6498",
   "metadata": {},
   "outputs": [
    {
     "ename": "ValueError",
     "evalue": "\nCannot load config.\n\nPlease create a file in either one of the locations\nlisted below:\n./config.json\nC:\\Users\\makeda/.eegyolk/config.json\n/etc/eegyolk/config.json\n\nWith the contents that specifies at least the root\ndirectory as follows:\n\n{\n    \"root\": \"/path/to/storage\"\n}\n\nThe default directory layout is expected to be:\n\n{\n    \"root\": \"/path/to/storage\",\n    \"data\": \"$root/data/\",\n    \"preprocessed\": \"$root/preprocessed/\",\n    \"metadata\": \"$root/metadata/\",\n    \"models\": \"$root/models/\"\n}\n\nYou can override any individual directory by specifying it\nin config.json.\n\n\"data\" and \"metadata\" directories are expected to exist.\nThe \"data\" directory is expected to have \"11mnd mmn\" ..\n\"47mnd mmn\" directories.  The \"metadata\" directory is\nexpected to have \"ages\" subdirectory with files named\n\"ages_11mnths.txt\" .. \"ages_47mnths.txt\".\n\nThe \"models\" and \"preprocessed\" directories need not\nexist.  They will be created if missing.  The \"preprocessed\"\ndirectory will be used to output CSV and h5 files when\nreading the raw CNT data.  The \"models\" directory will\nbe used to store regression and neural network models\ncreated by training the models on preprocessed data.\n",
     "output_type": "error",
     "traceback": [
      "\u001b[1;31m---------------------------------------------------------------------------\u001b[0m",
      "\u001b[1;31mValueError\u001b[0m                                Traceback (most recent call last)",
      "\u001b[1;32m~\\AppData\\Local\\Temp/ipykernel_12404/527602628.py\u001b[0m in \u001b[0;36m<module>\u001b[1;34m\u001b[0m\n\u001b[1;32m----> 1\u001b[1;33m \u001b[0mconfig\u001b[0m \u001b[1;33m=\u001b[0m \u001b[0mConfig\u001b[0m\u001b[1;33m(\u001b[0m\u001b[1;33m)\u001b[0m\u001b[1;33m\u001b[0m\u001b[1;33m\u001b[0m\u001b[0m\n\u001b[0m",
      "\u001b[1;32mC:\\Projects\\eegyolk\\demos\\../eegyolk\\config.py\u001b[0m in \u001b[0;36m__init__\u001b[1;34m(self, location)\u001b[0m\n\u001b[0;32m     39\u001b[0m         \u001b[0mself\u001b[0m\u001b[1;33m.\u001b[0m\u001b[0m_raw\u001b[0m \u001b[1;33m=\u001b[0m \u001b[1;32mNone\u001b[0m\u001b[1;33m\u001b[0m\u001b[1;33m\u001b[0m\u001b[0m\n\u001b[0;32m     40\u001b[0m         \u001b[0mself\u001b[0m\u001b[1;33m.\u001b[0m\u001b[0m_loaded\u001b[0m \u001b[1;33m=\u001b[0m \u001b[1;32mNone\u001b[0m\u001b[1;33m\u001b[0m\u001b[1;33m\u001b[0m\u001b[0m\n\u001b[1;32m---> 41\u001b[1;33m         \u001b[0mself\u001b[0m\u001b[1;33m.\u001b[0m\u001b[0mload\u001b[0m\u001b[1;33m(\u001b[0m\u001b[0mlocation\u001b[0m\u001b[1;33m)\u001b[0m\u001b[1;33m\u001b[0m\u001b[1;33m\u001b[0m\u001b[0m\n\u001b[0m\u001b[0;32m     42\u001b[0m         \u001b[0mself\u001b[0m\u001b[1;33m.\u001b[0m\u001b[0mvalidate\u001b[0m\u001b[1;33m(\u001b[0m\u001b[1;33m)\u001b[0m\u001b[1;33m\u001b[0m\u001b[1;33m\u001b[0m\u001b[0m\n\u001b[0;32m     43\u001b[0m \u001b[1;33m\u001b[0m\u001b[0m\n",
      "\u001b[1;32mC:\\Projects\\eegyolk\\demos\\../eegyolk\\config.py\u001b[0m in \u001b[0;36mload\u001b[1;34m(self, location)\u001b[0m\n\u001b[0;32m    109\u001b[0m             \u001b[1;32mfor\u001b[0m \u001b[0mdirectory\u001b[0m \u001b[1;32min\u001b[0m \u001b[0mrequired\u001b[0m\u001b[1;33m.\u001b[0m\u001b[0mkeys\u001b[0m\u001b[1;33m(\u001b[0m\u001b[1;33m)\u001b[0m\u001b[1;33m:\u001b[0m\u001b[1;33m\u001b[0m\u001b[1;33m\u001b[0m\u001b[0m\n\u001b[0;32m    110\u001b[0m                 \u001b[1;32mif\u001b[0m \u001b[0mdirectory\u001b[0m \u001b[1;32mnot\u001b[0m \u001b[1;32min\u001b[0m \u001b[0mself\u001b[0m\u001b[1;33m.\u001b[0m\u001b[0m_raw\u001b[0m\u001b[1;33m:\u001b[0m\u001b[1;33m\u001b[0m\u001b[1;33m\u001b[0m\u001b[0m\n\u001b[1;32m--> 111\u001b[1;33m                     \u001b[1;32mraise\u001b[0m \u001b[0mValueError\u001b[0m\u001b[1;33m(\u001b[0m\u001b[0mself\u001b[0m\u001b[1;33m.\u001b[0m\u001b[0musage\u001b[0m\u001b[1;33m(\u001b[0m\u001b[1;33m)\u001b[0m\u001b[1;33m)\u001b[0m\u001b[1;33m\u001b[0m\u001b[1;33m\u001b[0m\u001b[0m\n\u001b[0m\u001b[0;32m    112\u001b[0m             \u001b[1;31m# User specified all concrete directories.  Nothing for us to\u001b[0m\u001b[1;33m\u001b[0m\u001b[1;33m\u001b[0m\u001b[0m\n\u001b[0;32m    113\u001b[0m             \u001b[1;31m# do here.\u001b[0m\u001b[1;33m\u001b[0m\u001b[1;33m\u001b[0m\u001b[0m\n",
      "\u001b[1;31mValueError\u001b[0m: \nCannot load config.\n\nPlease create a file in either one of the locations\nlisted below:\n./config.json\nC:\\Users\\makeda/.eegyolk/config.json\n/etc/eegyolk/config.json\n\nWith the contents that specifies at least the root\ndirectory as follows:\n\n{\n    \"root\": \"/path/to/storage\"\n}\n\nThe default directory layout is expected to be:\n\n{\n    \"root\": \"/path/to/storage\",\n    \"data\": \"$root/data/\",\n    \"preprocessed\": \"$root/preprocessed/\",\n    \"metadata\": \"$root/metadata/\",\n    \"models\": \"$root/models/\"\n}\n\nYou can override any individual directory by specifying it\nin config.json.\n\n\"data\" and \"metadata\" directories are expected to exist.\nThe \"data\" directory is expected to have \"11mnd mmn\" ..\n\"47mnd mmn\" directories.  The \"metadata\" directory is\nexpected to have \"ages\" subdirectory with files named\n\"ages_11mnths.txt\" .. \"ages_47mnths.txt\".\n\nThe \"models\" and \"preprocessed\" directories need not\nexist.  They will be created if missing.  The \"preprocessed\"\ndirectory will be used to output CSV and h5 files when\nreading the raw CNT data.  The \"models\" directory will\nbe used to store regression and neural network models\ncreated by training the models on preprocessed data.\n"
     ]
    }
   ],
   "source": [
    "config = Config()\n"
   ]
  },
  {
   "cell_type": "code",
   "execution_count": null,
   "id": "dc05ec24",
   "metadata": {},
   "outputs": [],
   "source": [
    "eeg_file_root = \"../../volume-ceph/ePodium_projectfolder\"\n",
    "acquired = RawData(config.get_directory('data'), config.get_directory('metadata'))"
   ]
  },
  {
   "cell_type": "markdown",
   "id": "77916f8c",
   "metadata": {},
   "source": [
    "Note we assume you are looking at bdf files"
   ]
  },
  {
   "cell_type": "code",
   "execution_count": null,
   "id": "76f7bc21-f120-4156-b46b-ba69a6f5c37f",
   "metadata": {},
   "outputs": [],
   "source": [
    "eeg_list = []\n",
    "eeg_filenames = []\n",
    "eeg_filelocation = []\n",
    "\n",
    "\n",
    "\n",
    "pattern = os.path.join(eeg_file_root, '**/*.bdf')\n",
    "\n",
    "files = glob.glob(pattern, recursive=True)\n",
    "\n",
    "for file in files:\n",
    "    if file.endswith('.bdf'):  # and len(file) == 8:\n",
    "        BdfFile = mne.io.read_raw_bdf(file)\n",
    "        eeg_list.append(BdfFile)\n",
    "        eeg_filenames.append(file.replace(\".bdf\", \"\"))\n",
    "        eeg_filelocation.append(file)\n",
    "        clear_output(wait=True)\n",
    "print(len(eeg_list), \"EEG files loaded\")"
   ]
  },
  {
   "cell_type": "code",
   "execution_count": null,
   "id": "d3513347-b39a-484e-8b4e-b42cdefa2bfa",
   "metadata": {},
   "outputs": [],
   "source": [
    "# eeg_filelocation"
   ]
  },
  {
   "cell_type": "code",
   "execution_count": null,
   "id": "97fd4d9e-428d-48d0-b8de-1780171151e8",
   "metadata": {},
   "outputs": [],
   "source": [
    "# eeg_filenames"
   ]
  },
  {
   "cell_type": "markdown",
   "id": "99b6fb39-0edb-42ae-a902-af788b6fe191",
   "metadata": {},
   "source": [
    "### Make a synthetic EEG like array"
   ]
  },
  {
   "cell_type": "code",
   "execution_count": null,
   "id": "0e79ff0d",
   "metadata": {},
   "outputs": [],
   "source": [
    "\n",
    "\n",
    "sfreq = 1000. # signal collection frequency?\n",
    "f_p = 40. # this is the stop freuqency, above which we should 0\n",
    "flim = (1., sfreq / 2.)  # limits for plotting"
   ]
  },
  {
   "cell_type": "code",
   "execution_count": null,
   "id": "71df46de",
   "metadata": {},
   "outputs": [],
   "source": [
    "# make something to filter\n",
    "dur = 10.\n",
    "center = 2.\n",
    "morlet_freq = f_p\n",
    "tlim = [center - 0.2, center + 0.2]\n",
    "tticks = [tlim[0], center, tlim[1]]\n",
    "flim = [20, 70]\n",
    "\n",
    "x = np.zeros(int(sfreq * dur) + 1)\n",
    "blip = morlet(sfreq, [morlet_freq], n_cycles=7)[0].imag / 20.\n",
    "n_onset = int(center * sfreq) - len(blip) // 2\n",
    "x[n_onset:n_onset + len(blip)] += blip\n",
    "x_orig = x.copy()\n",
    "\n",
    "rng = np.random.RandomState(0)\n",
    "x += rng.randn(len(x)) / 1000.\n",
    "x += np.sin(2. * np.pi * 60. * np.arange(len(x)) / sfreq) / 2000."
   ]
  },
  {
   "cell_type": "code",
   "execution_count": null,
   "id": "d2a7d8db",
   "metadata": {},
   "outputs": [],
   "source": [
    "plt.plot(x)"
   ]
  },
  {
   "cell_type": "markdown",
   "id": "5cc94978-eaf3-4595-874c-32b07d23f47c",
   "metadata": {},
   "source": [
    "## Download sample data from MNE library\n",
    "The below is cell is commented out as it may be skipped if you have the data"
   ]
  },
  {
   "cell_type": "code",
   "execution_count": null,
   "id": "dec27f73",
   "metadata": {},
   "outputs": [],
   "source": [
    "# sample_data_folder = mne.datasets.sample.data_path()\n",
    "# sample_data_raw_file = os.path.join(sample_data_folder, 'MEG', 'sample',\n",
    "#                                     'sample_audvis_raw.fif')\n",
    "# raw = mne.io.read_raw_fif(sample_data_raw_file)\n",
    "# # use just 60 seconds of data and mag channels, to save memory\n",
    "# raw.crop(0, 60).pick_types(meg='mag', stim=True).load_data()"
   ]
  },
  {
   "cell_type": "markdown",
   "id": "492f83b4-0139-4260-8849-8d4ba82e2e18",
   "metadata": {},
   "source": [
    "Let's see what filtering looks like visually if we pull out low frequencies"
   ]
  },
  {
   "cell_type": "code",
   "execution_count": null,
   "id": "c75d5177",
   "metadata": {},
   "outputs": [],
   "source": [
    "with mne.viz._figure.use_browser_backend('matplotlib'):\n",
    "        fig = raw.plot(duration=60, proj=False,\n",
    "                                n_channels=len(raw.ch_names), remove_dc=False)"
   ]
  },
  {
   "cell_type": "code",
   "execution_count": null,
   "id": "01f248e8",
   "metadata": {},
   "outputs": [],
   "source": [
    "#for cutoff in (0.1, 0.2):\n",
    "cutoff = 0.2\n",
    "raw_highpass = raw.copy().filter(l_freq=cutoff, h_freq=None)\n",
    "with mne.viz._figure.use_browser_backend('matplotlib'):\n",
    "    fig = raw_highpass.plot(duration=60, proj=False,\n",
    "                            n_channels=len(raw.ch_names), remove_dc=False)\n",
    "fig.subplots_adjust(top=0.9)\n",
    "fig.suptitle('High-pass filtered at {} Hz'.format(cutoff), size='xx-large',\n",
    "             weight='bold')"
   ]
  },
  {
   "cell_type": "code",
   "execution_count": null,
   "id": "aa6469f2",
   "metadata": {},
   "outputs": [],
   "source": [
    "raw_simple_filtered = hf.band_pass_filter(raw, 0.2, 5)"
   ]
  },
  {
   "cell_type": "code",
   "execution_count": null,
   "id": "062af727",
   "metadata": {},
   "outputs": [],
   "source": [
    "## we can check channel names\n",
    "#raw_simple_filtered.ch_names"
   ]
  },
  {
   "cell_type": "code",
   "execution_count": null,
   "id": "026e2b14",
   "metadata": {},
   "outputs": [],
   "source": [
    "## we can know more about the data \n",
    "#help(raw_simple_filtered)"
   ]
  },
  {
   "cell_type": "code",
   "execution_count": null,
   "id": "dcdf8d9b",
   "metadata": {},
   "outputs": [],
   "source": [
    "# but let's just check our filter on the lowpass end to see what frequency is there\n",
    "raw_simple_filtered.info['lowpass']"
   ]
  },
  {
   "cell_type": "code",
   "execution_count": null,
   "id": "1eb777e6",
   "metadata": {},
   "outputs": [],
   "source": [
    "# vars(raw_simple_filtered)"
   ]
  },
  {
   "cell_type": "code",
   "execution_count": null,
   "id": "ddf01754",
   "metadata": {},
   "outputs": [],
   "source": [
    "print(type(raw.info['lowpass']))"
   ]
  },
  {
   "cell_type": "code",
   "execution_count": null,
   "id": "11748c15",
   "metadata": {},
   "outputs": [],
   "source": [
    "## Need to rewrite data path"
   ]
  },
  {
   "cell_type": "code",
   "execution_count": null,
   "id": "217730b3",
   "metadata": {},
   "outputs": [],
   "source": [
    "sample_eeg = eeg_filelocation[3]"
   ]
  },
  {
   "cell_type": "code",
   "execution_count": null,
   "id": "f55082af-dd31-4552-b985-65a9e0e33353",
   "metadata": {},
   "outputs": [],
   "source": [
    "sample_eeg"
   ]
  },
  {
   "cell_type": "code",
   "execution_count": null,
   "id": "99c3d574-2306-44d4-a83c-3bd6dabd47d6",
   "metadata": {},
   "outputs": [],
   "source": [
    "type(sample_eeg)"
   ]
  },
  {
   "cell_type": "code",
   "execution_count": null,
   "id": "e981e252",
   "metadata": {},
   "outputs": [],
   "source": [
    "sample_eeg_read = mne.io.read_raw_bdf(sample_eeg, preload= True)"
   ]
  },
  {
   "cell_type": "code",
   "execution_count": null,
   "id": "056b50f7",
   "metadata": {},
   "outputs": [],
   "source": [
    "sample_eeg_filtered = hf.band_pass_filter(sample_eeg_read, 0, 2.38540286e-05)"
   ]
  },
  {
   "cell_type": "code",
   "execution_count": null,
   "id": "48412f1c-1cdb-4674-a55c-2da63f3f7975",
   "metadata": {},
   "outputs": [],
   "source": []
  }
 ],
 "metadata": {
  "kernelspec": {
   "display_name": "Python 3 (ipykernel)",
   "language": "python",
   "name": "python3"
  },
  "language_info": {
   "codemirror_mode": {
    "name": "ipython",
    "version": 3
   },
   "file_extension": ".py",
   "mimetype": "text/x-python",
   "name": "python",
   "nbconvert_exporter": "python",
   "pygments_lexer": "ipython3",
   "version": "3.9.7"
  }
 },
 "nbformat": 4,
 "nbformat_minor": 5
}
