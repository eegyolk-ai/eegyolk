{
 "cells": [
  {
   "cell_type": "markdown",
   "id": "abbf610f",
   "metadata": {},
   "source": [
    "## File type demo"
   ]
  },
  {
   "cell_type": "markdown",
   "id": "ee0f4d8e",
   "metadata": {},
   "source": [
    "This notebook demonstrates some of the capabilities of the eegyolk library in terms of reading the cnt file type. It also demonstrates the importance of the dataformat argument in the mne library. Previous work had let some arguments in reading cnt files default to preset values.\n",
    "This notebook specifically demonstrates how whether the format of int32 or int16 influences the understanding of the file"
   ]
  },
  {
   "cell_type": "markdown",
   "id": "b1bead3e-3394-4abb-9034-31b7d01223a8",
   "metadata": {},
   "source": [
    "#### Imports"
   ]
  },
  {
   "cell_type": "code",
   "execution_count": 25,
   "id": "60c3e95b",
   "metadata": {},
   "outputs": [],
   "source": [
    "import mne      # toolbox for analyzing and visualizing EEG data\n",
    "import os       # using operating system dependent functionality (folders)\n",
    "import pandas   # data analysis and manipulation\n",
    "import numpy    # numerical computing (manipulating and performing operations on arrays of data)\n",
    "import copy     # Can Copy and Deepcopy files so original file is untouched.\n",
    "import glob\n",
    "import numpy as np\n",
    "import pandas as pd\n",
    "from numpy.fft import fft, fftfreq\n",
    "from scipy import signal\n",
    "\n",
    "import matplotlib\n",
    "import matplotlib.pyplot as plt\n",
    "\n",
    "from mne.time_frequency.tfr import morlet\n",
    "from mne.viz import plot_filter, plot_ideal_filter\n",
    "\n",
    "\n",
    "from IPython.display import clear_output\n",
    "import warnings\n",
    "\n",
    "import sys"
   ]
  },
  {
   "cell_type": "markdown",
   "id": "64ce797c",
   "metadata": {},
   "source": [
    "Below eegyolk is importted in it's most updated version\n",
    "But the cell could be replaced by importing the stable library and then importing the modules of it."
   ]
  },
  {
   "cell_type": "code",
   "execution_count": 2,
   "id": "98a2fe69-3757-4908-acab-30dd530e5236",
   "metadata": {},
   "outputs": [],
   "source": [
    "\n",
    "import sys\n",
    "sys.path.insert(0, '../eegyolk') # path to helper functions\n",
    "import helper_functions as hf # library useful for eeg and erp data cleaning\n",
    "#import initialization_functions #library to import data\n",
    "import epod_helper\n",
    "import raw\n",
    "from config import Config\n",
    "from raw import RawData"
   ]
  },
  {
   "cell_type": "markdown",
   "id": "6440c41d-6c8c-47f4-875f-03383621c0fa",
   "metadata": {
    "tags": []
   },
   "source": [
    "#### Load EEG files\n",
    "Change your config file to change where data is coming from"
   ]
  },
  {
   "cell_type": "code",
   "execution_count": 3,
   "id": "00f79347",
   "metadata": {},
   "outputs": [
    {
     "name": "stdout",
     "output_type": "stream",
     "text": [
      "/home/cmoore/eegyolk/demos\n"
     ]
    }
   ],
   "source": [
    "!pwd"
   ]
  },
  {
   "cell_type": "code",
   "execution_count": 4,
   "id": "465d6498",
   "metadata": {},
   "outputs": [],
   "source": [
    "config = Config()\n"
   ]
  },
  {
   "cell_type": "code",
   "execution_count": 5,
   "id": "a7f19e59-d81d-4a6c-bf40-2af21b57420f",
   "metadata": {},
   "outputs": [
    {
     "name": "stdout",
     "output_type": "stream",
     "text": [
      "ls: cannot access './.config.json': No such file or directory\n"
     ]
    }
   ],
   "source": [
    "!ls -lah ./.config.json"
   ]
  },
  {
   "cell_type": "code",
   "execution_count": 6,
   "id": "dc05ec24",
   "metadata": {},
   "outputs": [],
   "source": [
    "eeg_file_root = \"../../volume-ceph/ePodium_projectfolder\"\n",
    "acquired = RawData(config.get_directory('data'), config.get_directory('metadata'))"
   ]
  },
  {
   "cell_type": "markdown",
   "id": "77916f8c",
   "metadata": {},
   "source": [
    "Note we assume you are looking at bdf files"
   ]
  },
  {
   "cell_type": "code",
   "execution_count": 16,
   "id": "9eed13c9-6c2d-4395-8976-cdbfd347ca71",
   "metadata": {},
   "outputs": [
    {
     "data": {
      "text/html": [
       "<div>\n",
       "<style scoped>\n",
       "    .dataframe tbody tr th:only-of-type {\n",
       "        vertical-align: middle;\n",
       "    }\n",
       "\n",
       "    .dataframe tbody tr th {\n",
       "        vertical-align: top;\n",
       "    }\n",
       "\n",
       "    .dataframe thead th {\n",
       "        text-align: right;\n",
       "    }\n",
       "</style>\n",
       "<table border=\"1\" class=\"dataframe\">\n",
       "  <thead>\n",
       "    <tr style=\"text-align: right;\">\n",
       "      <th></th>\n",
       "      <th>code</th>\n",
       "      <th>cnt_path</th>\n",
       "      <th>cnt_file</th>\n",
       "      <th>age_group</th>\n",
       "      <th>age_days</th>\n",
       "      <th>age_months</th>\n",
       "      <th>age_years</th>\n",
       "    </tr>\n",
       "  </thead>\n",
       "  <tbody>\n",
       "    <tr>\n",
       "      <th>0</th>\n",
       "      <td>35</td>\n",
       "      <td>/volume-ceph/DDP_projectfolder/11mnd mmn/035_1...</td>\n",
       "      <td>035_11_jc_mmn36_slp_mmn25_slp</td>\n",
       "      <td>11</td>\n",
       "      <td>331.0</td>\n",
       "      <td>11.033333</td>\n",
       "      <td>0.919444</td>\n",
       "    </tr>\n",
       "    <tr>\n",
       "      <th>1</th>\n",
       "      <td>27</td>\n",
       "      <td>/volume-ceph/DDP_projectfolder/11mnd mmn/027_1...</td>\n",
       "      <td>027_11_jc_mmn25_wk</td>\n",
       "      <td>11</td>\n",
       "      <td>326.0</td>\n",
       "      <td>10.866667</td>\n",
       "      <td>0.905556</td>\n",
       "    </tr>\n",
       "    <tr>\n",
       "      <th>2</th>\n",
       "      <td>25</td>\n",
       "      <td>/volume-ceph/DDP_projectfolder/11mnd mmn/025_1...</td>\n",
       "      <td>025_11_mc_mmn36_wk</td>\n",
       "      <td>11</td>\n",
       "      <td>360.0</td>\n",
       "      <td>12.000000</td>\n",
       "      <td>1.000000</td>\n",
       "    </tr>\n",
       "    <tr>\n",
       "      <th>3</th>\n",
       "      <td>35</td>\n",
       "      <td>/volume-ceph/DDP_projectfolder/11mnd mmn/035_1...</td>\n",
       "      <td>035_11_jc_mmn36slp_mmn25_slp_2</td>\n",
       "      <td>11</td>\n",
       "      <td>331.0</td>\n",
       "      <td>11.033333</td>\n",
       "      <td>0.919444</td>\n",
       "    </tr>\n",
       "    <tr>\n",
       "      <th>4</th>\n",
       "      <td>30</td>\n",
       "      <td>/volume-ceph/DDP_projectfolder/11mnd mmn/030_1...</td>\n",
       "      <td>030_11_jc_mmn36_wk_mmn25_wk</td>\n",
       "      <td>11</td>\n",
       "      <td>328.0</td>\n",
       "      <td>10.933333</td>\n",
       "      <td>0.911111</td>\n",
       "    </tr>\n",
       "  </tbody>\n",
       "</table>\n",
       "</div>"
      ],
      "text/plain": [
       "   code                                           cnt_path  \\\n",
       "0    35  /volume-ceph/DDP_projectfolder/11mnd mmn/035_1...   \n",
       "1    27  /volume-ceph/DDP_projectfolder/11mnd mmn/027_1...   \n",
       "2    25  /volume-ceph/DDP_projectfolder/11mnd mmn/025_1...   \n",
       "3    35  /volume-ceph/DDP_projectfolder/11mnd mmn/035_1...   \n",
       "4    30  /volume-ceph/DDP_projectfolder/11mnd mmn/030_1...   \n",
       "\n",
       "                         cnt_file  age_group  age_days  age_months  age_years  \n",
       "0   035_11_jc_mmn36_slp_mmn25_slp         11     331.0   11.033333   0.919444  \n",
       "1              027_11_jc_mmn25_wk         11     326.0   10.866667   0.905556  \n",
       "2              025_11_mc_mmn36_wk         11     360.0   12.000000   1.000000  \n",
       "3  035_11_jc_mmn36slp_mmn25_slp_2         11     331.0   11.033333   0.919444  \n",
       "4     030_11_jc_mmn36_wk_mmn25_wk         11     328.0   10.933333   0.911111  "
      ]
     },
     "execution_count": 16,
     "metadata": {},
     "output_type": "execute_result"
    }
   ],
   "source": [
    "acquired.raw.head()"
   ]
  },
  {
   "cell_type": "code",
   "execution_count": 20,
   "id": "c7d1ffee-d066-4fef-930d-115d7a5c4861",
   "metadata": {},
   "outputs": [],
   "source": [
    "data_raw = acquired.as_mne[4]"
   ]
  },
  {
   "cell_type": "code",
   "execution_count": 21,
   "id": "302fa5d6-a5cd-4276-8d36-222f9a70763c",
   "metadata": {},
   "outputs": [
    {
     "name": "stdout",
     "output_type": "stream",
     "text": [
      "Data type: <class 'mne.io.cnt.cnt.RawCNT'>\n",
      "\n",
      "<RawCNT | 030_11_jc_mmn36_wk_mmn25_wk.cnt, 64 x 184050 (368.1 s), ~89.9 MB, data loaded>\n",
      "\n",
      "Sample rate: 500.0 Hz\n",
      "Size of the matrix: (64, 184050)\n",
      "\n",
      "<Info | 8 non-empty values\n",
      " bads: []\n",
      " ch_names: O2, O1, OZ, PZ, P4, CP4, P8, C4, TP8, T8, P7, P3, CP3, CPZ, CZ, ...\n",
      " chs: 62 EEG, 2 EOG\n",
      " custom_ref_applied: False\n",
      " highpass: 0.0 Hz\n",
      " lowpass: 250.0 Hz\n",
      " meas_date: 2002-06-17 13:51:34 UTC\n",
      " nchan: 64\n",
      " projs: []\n",
      " sfreq: 500.0 Hz\n",
      " subject_info: 5 items (dict)\n",
      ">\n"
     ]
    }
   ],
   "source": [
    "print('Data type: {}\\n\\n{}\\n'.format(type(data_raw), data_raw))\n",
    "\n",
    "# Get the sample rate\n",
    "print('Sample rate:', data_raw.info['sfreq'], 'Hz')\n",
    "\n",
    "# Get the size of the matrix\n",
    "print('Size of the matrix: {}\\n'.format(data_raw.get_data().shape))\n",
    "\n",
    "# The mne.info class can be used to learn more about the data.\n",
    "print(data_raw.info)"
   ]
  },
  {
   "cell_type": "markdown",
   "id": "d821bd4a-c02c-46ba-8b26-74aaf1fdaf0b",
   "metadata": {},
   "source": [
    "# Now we will show as a pandas dataframe"
   ]
  },
  {
   "cell_type": "code",
   "execution_count": 22,
   "id": "8a87e0eb-5f1d-4209-a245-cee18978b0f8",
   "metadata": {},
   "outputs": [
    {
     "data": {
      "text/html": [
       "<div>\n",
       "<style scoped>\n",
       "    .dataframe tbody tr th:only-of-type {\n",
       "        vertical-align: middle;\n",
       "    }\n",
       "\n",
       "    .dataframe tbody tr th {\n",
       "        vertical-align: top;\n",
       "    }\n",
       "\n",
       "    .dataframe thead th {\n",
       "        text-align: right;\n",
       "    }\n",
       "</style>\n",
       "<table border=\"1\" class=\"dataframe\">\n",
       "  <thead>\n",
       "    <tr style=\"text-align: right;\">\n",
       "      <th></th>\n",
       "      <th>time</th>\n",
       "      <th>O2</th>\n",
       "      <th>O1</th>\n",
       "      <th>OZ</th>\n",
       "      <th>PZ</th>\n",
       "      <th>P4</th>\n",
       "      <th>CP4</th>\n",
       "      <th>P8</th>\n",
       "      <th>C4</th>\n",
       "      <th>TP8</th>\n",
       "      <th>...</th>\n",
       "      <th>F2</th>\n",
       "      <th>F6</th>\n",
       "      <th>FC5</th>\n",
       "      <th>F1</th>\n",
       "      <th>AF4</th>\n",
       "      <th>AF8</th>\n",
       "      <th>F5</th>\n",
       "      <th>AF7</th>\n",
       "      <th>AF3</th>\n",
       "      <th>FPZ</th>\n",
       "    </tr>\n",
       "  </thead>\n",
       "  <tbody>\n",
       "    <tr>\n",
       "      <th>0</th>\n",
       "      <td>0</td>\n",
       "      <td>-2.424773e+06</td>\n",
       "      <td>-5.162782e+06</td>\n",
       "      <td>-2.626446e+05</td>\n",
       "      <td>1.568894e+06</td>\n",
       "      <td>-1.682337e+06</td>\n",
       "      <td>-3.808384e+06</td>\n",
       "      <td>-1.358133e+07</td>\n",
       "      <td>8.041344e+06</td>\n",
       "      <td>-6.727782e+06</td>\n",
       "      <td>...</td>\n",
       "      <td>-6.621729e+06</td>\n",
       "      <td>-3.377405e+06</td>\n",
       "      <td>-2.848217e+06</td>\n",
       "      <td>3.779089e+06</td>\n",
       "      <td>-4.552465e+06</td>\n",
       "      <td>3.568933e+06</td>\n",
       "      <td>1.269723e+06</td>\n",
       "      <td>-4.302350e+06</td>\n",
       "      <td>2.120955e+06</td>\n",
       "      <td>-1.178174e+06</td>\n",
       "    </tr>\n",
       "    <tr>\n",
       "      <th>1</th>\n",
       "      <td>2</td>\n",
       "      <td>-1.704209e+06</td>\n",
       "      <td>-4.418695e+06</td>\n",
       "      <td>-5.712613e+04</td>\n",
       "      <td>1.259687e+06</td>\n",
       "      <td>-2.334547e+06</td>\n",
       "      <td>-3.160406e+06</td>\n",
       "      <td>-1.283886e+07</td>\n",
       "      <td>7.036182e+06</td>\n",
       "      <td>-6.202408e+06</td>\n",
       "      <td>...</td>\n",
       "      <td>-6.462989e+06</td>\n",
       "      <td>-3.434069e+06</td>\n",
       "      <td>-2.654544e+06</td>\n",
       "      <td>3.356647e+06</td>\n",
       "      <td>-4.575157e+06</td>\n",
       "      <td>3.010211e+06</td>\n",
       "      <td>1.155352e+06</td>\n",
       "      <td>-4.874470e+06</td>\n",
       "      <td>1.778881e+06</td>\n",
       "      <td>-1.687964e+06</td>\n",
       "    </tr>\n",
       "    <tr>\n",
       "      <th>2</th>\n",
       "      <td>4</td>\n",
       "      <td>-1.795708e+06</td>\n",
       "      <td>-4.441592e+06</td>\n",
       "      <td>-5.712613e+04</td>\n",
       "      <td>1.477281e+06</td>\n",
       "      <td>-1.865411e+06</td>\n",
       "      <td>-3.149036e+06</td>\n",
       "      <td>-1.302162e+07</td>\n",
       "      <td>7.732947e+06</td>\n",
       "      <td>-6.122395e+06</td>\n",
       "      <td>...</td>\n",
       "      <td>-6.780472e+06</td>\n",
       "      <td>-3.910080e+06</td>\n",
       "      <td>-2.962152e+06</td>\n",
       "      <td>5.411779e+06</td>\n",
       "      <td>-5.006583e+06</td>\n",
       "      <td>3.511918e+06</td>\n",
       "      <td>9.952250e+05</td>\n",
       "      <td>-4.828702e+06</td>\n",
       "      <td>1.106131e+06</td>\n",
       "      <td>-1.914539e+06</td>\n",
       "    </tr>\n",
       "    <tr>\n",
       "      <th>3</th>\n",
       "      <td>6</td>\n",
       "      <td>-2.882272e+06</td>\n",
       "      <td>-5.529105e+06</td>\n",
       "      <td>-7.307660e+05</td>\n",
       "      <td>1.316936e+06</td>\n",
       "      <td>-1.693783e+06</td>\n",
       "      <td>-4.103954e+06</td>\n",
       "      <td>-1.408392e+07</td>\n",
       "      <td>8.109872e+06</td>\n",
       "      <td>-6.944767e+06</td>\n",
       "      <td>...</td>\n",
       "      <td>-7.971024e+06</td>\n",
       "      <td>-4.998115e+06</td>\n",
       "      <td>-4.112822e+06</td>\n",
       "      <td>5.594440e+06</td>\n",
       "      <td>-6.073806e+06</td>\n",
       "      <td>3.044399e+06</td>\n",
       "      <td>-5.702932e+04</td>\n",
       "      <td>-5.423717e+06</td>\n",
       "      <td>-1.025519e+05</td>\n",
       "      <td>-2.537627e+06</td>\n",
       "    </tr>\n",
       "    <tr>\n",
       "      <th>4</th>\n",
       "      <td>8</td>\n",
       "      <td>-4.128963e+06</td>\n",
       "      <td>-6.834120e+06</td>\n",
       "      <td>-1.804022e+06</td>\n",
       "      <td>6.755864e+05</td>\n",
       "      <td>-2.254470e+06</td>\n",
       "      <td>-5.286233e+06</td>\n",
       "      <td>-1.526044e+07</td>\n",
       "      <td>7.652960e+06</td>\n",
       "      <td>-8.098426e+06</td>\n",
       "      <td>...</td>\n",
       "      <td>-8.764725e+06</td>\n",
       "      <td>-5.508136e+06</td>\n",
       "      <td>-4.955883e+06</td>\n",
       "      <td>4.646781e+06</td>\n",
       "      <td>-6.618775e+06</td>\n",
       "      <td>2.428652e+06</td>\n",
       "      <td>-6.289107e+05</td>\n",
       "      <td>-6.064497e+06</td>\n",
       "      <td>-5.358589e+05</td>\n",
       "      <td>-2.888823e+06</td>\n",
       "    </tr>\n",
       "  </tbody>\n",
       "</table>\n",
       "<p>5 rows × 65 columns</p>\n",
       "</div>"
      ],
      "text/plain": [
       "   time            O2            O1            OZ            PZ            P4  \\\n",
       "0     0 -2.424773e+06 -5.162782e+06 -2.626446e+05  1.568894e+06 -1.682337e+06   \n",
       "1     2 -1.704209e+06 -4.418695e+06 -5.712613e+04  1.259687e+06 -2.334547e+06   \n",
       "2     4 -1.795708e+06 -4.441592e+06 -5.712613e+04  1.477281e+06 -1.865411e+06   \n",
       "3     6 -2.882272e+06 -5.529105e+06 -7.307660e+05  1.316936e+06 -1.693783e+06   \n",
       "4     8 -4.128963e+06 -6.834120e+06 -1.804022e+06  6.755864e+05 -2.254470e+06   \n",
       "\n",
       "            CP4            P8            C4           TP8  ...            F2  \\\n",
       "0 -3.808384e+06 -1.358133e+07  8.041344e+06 -6.727782e+06  ... -6.621729e+06   \n",
       "1 -3.160406e+06 -1.283886e+07  7.036182e+06 -6.202408e+06  ... -6.462989e+06   \n",
       "2 -3.149036e+06 -1.302162e+07  7.732947e+06 -6.122395e+06  ... -6.780472e+06   \n",
       "3 -4.103954e+06 -1.408392e+07  8.109872e+06 -6.944767e+06  ... -7.971024e+06   \n",
       "4 -5.286233e+06 -1.526044e+07  7.652960e+06 -8.098426e+06  ... -8.764725e+06   \n",
       "\n",
       "             F6           FC5            F1           AF4           AF8  \\\n",
       "0 -3.377405e+06 -2.848217e+06  3.779089e+06 -4.552465e+06  3.568933e+06   \n",
       "1 -3.434069e+06 -2.654544e+06  3.356647e+06 -4.575157e+06  3.010211e+06   \n",
       "2 -3.910080e+06 -2.962152e+06  5.411779e+06 -5.006583e+06  3.511918e+06   \n",
       "3 -4.998115e+06 -4.112822e+06  5.594440e+06 -6.073806e+06  3.044399e+06   \n",
       "4 -5.508136e+06 -4.955883e+06  4.646781e+06 -6.618775e+06  2.428652e+06   \n",
       "\n",
       "             F5           AF7           AF3           FPZ  \n",
       "0  1.269723e+06 -4.302350e+06  2.120955e+06 -1.178174e+06  \n",
       "1  1.155352e+06 -4.874470e+06  1.778881e+06 -1.687964e+06  \n",
       "2  9.952250e+05 -4.828702e+06  1.106131e+06 -1.914539e+06  \n",
       "3 -5.702932e+04 -5.423717e+06 -1.025519e+05 -2.537627e+06  \n",
       "4 -6.289107e+05 -6.064497e+06 -5.358589e+05 -2.888823e+06  \n",
       "\n",
       "[5 rows x 65 columns]"
      ]
     },
     "execution_count": 22,
     "metadata": {},
     "output_type": "execute_result"
    }
   ],
   "source": [
    "raw_df = data_raw.to_data_frame()\n",
    "raw_df.head()"
   ]
  },
  {
   "cell_type": "markdown",
   "id": "06855093-7a61-4af2-9628-87426529fcf0",
   "metadata": {},
   "source": [
    "Now we used the default settings above, let's just switch the settings and compare"
   ]
  },
  {
   "cell_type": "code",
   "execution_count": 26,
   "id": "a46c17d8-73f7-497b-8070-143a7c7c7f0d",
   "metadata": {},
   "outputs": [],
   "source": [
    "\n",
    "class SwitchedRawData:\n",
    "\n",
    "    age_groups = {\n",
    "        11: '11mnd mmn',\n",
    "        17: '17mnd mmn',\n",
    "        23: '23mnd mmn',\n",
    "        29: '29mnd mmn',\n",
    "        35: '35mnd mmn',\n",
    "        41: '41mnd mmn',\n",
    "        47: '47mnd mmn',\n",
    "    }\n",
    "\n",
    "    age_files = {\n",
    "        11: 'ages_11mnths.txt',\n",
    "        17: 'ages_17mnths.txt',\n",
    "        23: 'ages_23mnths.txt',\n",
    "        29: 'ages_29mnths.txt',\n",
    "        35: 'ages_35mnths.txt',\n",
    "        41: 'ages_41mnths.txt',\n",
    "        47: 'ages_47mnths.txt',\n",
    "    }\n",
    "\n",
    "    cnt_read_args = {\n",
    "        'eog': 'auto',\n",
    "        # NOTE(wvxvw): This is a way of preventing another waring hen\n",
    "        # parsing CNT files.  The default value is `auto', but MNE\n",
    "        # cannot identify how many bytes per event are used, and gives\n",
    "        # a warning about that.  There seem to be only two possible\n",
    "        # options: `int16' and `int32'.  `int32' was chosen by the old\n",
    "        # code by default, so the new code keeps the same behavior\n",
    "        # while making it more explicit (and avoiding the warning).\n",
    "        'data_format': 'int16',\n",
    "        # NOTE(wvxvw): Note that the default is the US format, and all\n",
    "        # dates are botched because of that.  Also note that\n",
    "        # \"conveniently\", the dates are in the worst imaginable\n",
    "        # format:\n",
    "        # https://commons.apache.org/proper/commons-lang/apidocs/org/\\\n",
    "        # apache/commons/lang3/time/FastDateFormat.html That is\n",
    "        # 3-digit year, that Python doesn't support...  The format\n",
    "        # should really be `dd/mm/yyy', but that is not supported by\n",
    "        # the MNE library.\n",
    "        'date_format': 'dd/mm/yy',\n",
    "        'verbose': False,\n",
    "    }\n",
    "\n",
    "    def __init__(self, raw_data_dir, meta_dir):\n",
    "        self.cnt_files = pd.concat(self.read_all_age_groups(raw_data_dir))\n",
    "        self.ages = pd.concat(self.read_ages_meta(meta_dir))\n",
    "        self.raw = pd.merge(\n",
    "            self.cnt_files,\n",
    "            self.ages,\n",
    "            how='left',\n",
    "            on=('age_group', 'code'),\n",
    "        )\n",
    "\n",
    "    def read_cnt(self, fname, preload=True):\n",
    "        return mne.io.read_raw_cnt(\n",
    "            fname,\n",
    "            preload=preload,\n",
    "            **self.cnt_read_args\n",
    "        )\n",
    "\n",
    "    def read_good_cnt(self, fname, preload=True):\n",
    "        return mne.io.read_raw_cnt(\n",
    "            fname,\n",
    "            preload=preload,\n",
    "            **self.cnt_read_args\n",
    "        )\n",
    "\n",
    "    def read_age_group(self, raw_data_dir, age_group, directory):\n",
    "        pattern = os.path.join(raw_data_dir, directory, '*.cnt')\n",
    "        logging.info('Acquiring: %s', pattern)\n",
    "        cnts = glob(pattern)\n",
    "        names = tuple(\n",
    "            os.path.splitext(os.path.basename(f))[0]\n",
    "            for f in cnts\n",
    "        )\n",
    "        codes = tuple(\n",
    "            int(re.search(r'\\d+', x).group())\n",
    "            for x in names\n",
    "        )\n",
    "        return pd.DataFrame(\n",
    "            list(zip(codes, cnts, names)),\n",
    "            columns=('code', 'cnt_path', 'cnt_file'),\n",
    "        )\n",
    "\n",
    "    def read_all_age_groups(self, raw_data_dir):\n",
    "        for age_group, directory in self.age_groups.items():\n",
    "            ag_df = self.read_age_group(raw_data_dir, age_group, directory)\n",
    "            ag_df['age_group'] = age_group\n",
    "            yield ag_df\n",
    "\n",
    "    def read_ages_meta(self, meta_dir):\n",
    "        for age_group, age_file in self.age_files.items():\n",
    "            df = pd.read_csv(\n",
    "                os.path.join(meta_dir, 'ages', age_file),\n",
    "                sep=\"\\t\"\n",
    "                )\n",
    "            df['age_group'] = age_group\n",
    "            yield df\n",
    "\n",
    "    def breakdown_by_age(self):\n",
    "        return [\n",
    "            self.raw.loc[self.raw['age_group'] == ag]\n",
    "            for ag in self.age_groups.keys()\n",
    "        ]\n",
    "\n",
    "    def unlabeled(self):\n",
    "        return self.raw.loc[self.raw['age_days'].isnull()]\n",
    "\n",
    "    def fill_unlabeled(self):\n",
    "        '''Fill in the missing age data based on the age group the\n",
    "        subject is in\n",
    "\n",
    "        We know the age group (i.e. 11, 17, 23, ... months etc) of all\n",
    "        the subjects, based on the folder the files are in and based\n",
    "        on the file name. We have got the exact ages (in days) of most\n",
    "        subjects seperately, which we have added to the DataFrame\n",
    "        above. For some of the subjects, we don't have the exact age\n",
    "        and therefore we set this equal to the age group.\n",
    "        '''\n",
    "        self.raw['age_months'].fillna(self.raw['age_group'], inplace=True)\n",
    "        self.raw['age_days'].fillna(self.raw['age_group'] * 30, inplace=True)\n",
    "        self.raw['age_years'].fillna(self.raw['age_group'] / 12, inplace=True)\n",
    "\n",
    "    @property\n",
    "    def as_mne(self):\n",
    "        return MneViewer(self)\n",
    "\n",
    "    def filter_broken(self):\n",
    "        '''This did not exist in the original code, but it makes it\n",
    "        easier to deal with MNE file reading errors: we just try\n",
    "        reading all the files once, and sort them into two groups:\n",
    "        raw_good and raw_bad.\n",
    "        '''\n",
    "        can_read = self.raw.index.to_series()\n",
    "        for i, row in self.raw.iterrows():\n",
    "            try:\n",
    "                # Usually, when MNE fails to read a file, there will\n",
    "                # also be a warning, as we will throw those away, we\n",
    "                # don't care about those warnings.\n",
    "                with warnings.catch_warnings():\n",
    "                    with mne.utils.use_log_level('error'):\n",
    "                        self.read_cnt(row['cnt_path'], preload=False)\n",
    "                can_read[i] = 1\n",
    "            except Exception as e:\n",
    "                # This is a problem with MNE library: it simply fails\n",
    "                # to read some files, but instead of giving a\n",
    "                # meaningful error, it breaks with all kinds of\n",
    "                # generic errors.  Luckily, there seem to be\n",
    "                # relatively few of these files.\n",
    "                can_read[i] = 0\n",
    "\n",
    "        can_read = np.array(can_read)\n",
    "        self.raw_good = self.raw[can_read == 1]\n",
    "        self.raw_bad = self.raw[can_read == 0]\n",
    "\n",
    "    def count_events(self):\n",
    "        tmin = -0.2\n",
    "        tmax = 0.8\n",
    "        # means from the first instant to t = 0\n",
    "        baseline = None, 0\n",
    "        counts = pd.Series(dtype=np.int32)\n",
    "        mappings = {}\n",
    "\n",
    "        for i, path in enumerate(self.raw_good['cnt_path']):\n",
    "            raw = self.read_cnt(path)\n",
    "\n",
    "            # events is going to have event ids in the last column\n",
    "            events, mapping = mne.events_from_annotations(raw, verbose=False)\n",
    "            uniques = np.unique(events[:, 2], return_counts=True)\n",
    "            single_counts = dict(zip(*uniques))\n",
    "            counts = counts.add(pd.Series(single_counts), fill_value=0)\n",
    "            # The original code used this mapping, but this mapping\n",
    "            # gives different keys for the same values for each\n",
    "            # mne.events_from_annotations() result... so, it seems\n",
    "            # like the original code was simply confused about what it\n",
    "            # was showing.\n",
    "            #\n",
    "            # mapping = {v: int(k) for k, v in mapping.items()}\n",
    "            # mappings.update(mapping)\n",
    "\n"
   ]
  },
  {
   "cell_type": "code",
   "execution_count": 28,
   "id": "7fe3f4e1-0d12-4037-9224-9c7acfbf4c5e",
   "metadata": {},
   "outputs": [
    {
     "ename": "TypeError",
     "evalue": "'module' object is not callable",
     "output_type": "error",
     "traceback": [
      "\u001b[0;31m---------------------------------------------------------------------------\u001b[0m",
      "\u001b[0;31mTypeError\u001b[0m                                 Traceback (most recent call last)",
      "Input \u001b[0;32mIn [28]\u001b[0m, in \u001b[0;36m<cell line: 2>\u001b[0;34m()\u001b[0m\n\u001b[1;32m      1\u001b[0m \u001b[38;5;28;01mimport\u001b[39;00m \u001b[38;5;21;01mlogging\u001b[39;00m\n\u001b[0;32m----> 2\u001b[0m acquired \u001b[38;5;241m=\u001b[39m \u001b[43mSwitchedRawData\u001b[49m\u001b[43m(\u001b[49m\u001b[43mconfig\u001b[49m\u001b[38;5;241;43m.\u001b[39;49m\u001b[43mget_directory\u001b[49m\u001b[43m(\u001b[49m\u001b[38;5;124;43m'\u001b[39;49m\u001b[38;5;124;43mdata\u001b[39;49m\u001b[38;5;124;43m'\u001b[39;49m\u001b[43m)\u001b[49m\u001b[43m,\u001b[49m\u001b[43m \u001b[49m\u001b[43mconfig\u001b[49m\u001b[38;5;241;43m.\u001b[39;49m\u001b[43mget_directory\u001b[49m\u001b[43m(\u001b[49m\u001b[38;5;124;43m'\u001b[39;49m\u001b[38;5;124;43mmetadata\u001b[39;49m\u001b[38;5;124;43m'\u001b[39;49m\u001b[43m)\u001b[49m\u001b[43m)\u001b[49m\n",
      "Input \u001b[0;32mIn [26]\u001b[0m, in \u001b[0;36mSwitchedRawData.__init__\u001b[0;34m(self, raw_data_dir, meta_dir)\u001b[0m\n\u001b[1;32m     46\u001b[0m \u001b[38;5;28;01mdef\u001b[39;00m \u001b[38;5;21m__init__\u001b[39m(\u001b[38;5;28mself\u001b[39m, raw_data_dir, meta_dir):\n\u001b[0;32m---> 47\u001b[0m     \u001b[38;5;28mself\u001b[39m\u001b[38;5;241m.\u001b[39mcnt_files \u001b[38;5;241m=\u001b[39m \u001b[43mpd\u001b[49m\u001b[38;5;241;43m.\u001b[39;49m\u001b[43mconcat\u001b[49m\u001b[43m(\u001b[49m\u001b[38;5;28;43mself\u001b[39;49m\u001b[38;5;241;43m.\u001b[39;49m\u001b[43mread_all_age_groups\u001b[49m\u001b[43m(\u001b[49m\u001b[43mraw_data_dir\u001b[49m\u001b[43m)\u001b[49m\u001b[43m)\u001b[49m\n\u001b[1;32m     48\u001b[0m     \u001b[38;5;28mself\u001b[39m\u001b[38;5;241m.\u001b[39mages \u001b[38;5;241m=\u001b[39m pd\u001b[38;5;241m.\u001b[39mconcat(\u001b[38;5;28mself\u001b[39m\u001b[38;5;241m.\u001b[39mread_ages_meta(meta_dir))\n\u001b[1;32m     49\u001b[0m     \u001b[38;5;28mself\u001b[39m\u001b[38;5;241m.\u001b[39mraw \u001b[38;5;241m=\u001b[39m pd\u001b[38;5;241m.\u001b[39mmerge(\n\u001b[1;32m     50\u001b[0m         \u001b[38;5;28mself\u001b[39m\u001b[38;5;241m.\u001b[39mcnt_files,\n\u001b[1;32m     51\u001b[0m         \u001b[38;5;28mself\u001b[39m\u001b[38;5;241m.\u001b[39mages,\n\u001b[1;32m     52\u001b[0m         how\u001b[38;5;241m=\u001b[39m\u001b[38;5;124m'\u001b[39m\u001b[38;5;124mleft\u001b[39m\u001b[38;5;124m'\u001b[39m,\n\u001b[1;32m     53\u001b[0m         on\u001b[38;5;241m=\u001b[39m(\u001b[38;5;124m'\u001b[39m\u001b[38;5;124mage_group\u001b[39m\u001b[38;5;124m'\u001b[39m, \u001b[38;5;124m'\u001b[39m\u001b[38;5;124mcode\u001b[39m\u001b[38;5;124m'\u001b[39m),\n\u001b[1;32m     54\u001b[0m     )\n",
      "File \u001b[0;32m~/.local/lib/python3.8/site-packages/pandas/util/_decorators.py:311\u001b[0m, in \u001b[0;36mdeprecate_nonkeyword_arguments.<locals>.decorate.<locals>.wrapper\u001b[0;34m(*args, **kwargs)\u001b[0m\n\u001b[1;32m    305\u001b[0m \u001b[38;5;28;01mif\u001b[39;00m \u001b[38;5;28mlen\u001b[39m(args) \u001b[38;5;241m>\u001b[39m num_allow_args:\n\u001b[1;32m    306\u001b[0m     warnings\u001b[38;5;241m.\u001b[39mwarn(\n\u001b[1;32m    307\u001b[0m         msg\u001b[38;5;241m.\u001b[39mformat(arguments\u001b[38;5;241m=\u001b[39marguments),\n\u001b[1;32m    308\u001b[0m         \u001b[38;5;167;01mFutureWarning\u001b[39;00m,\n\u001b[1;32m    309\u001b[0m         stacklevel\u001b[38;5;241m=\u001b[39mstacklevel,\n\u001b[1;32m    310\u001b[0m     )\n\u001b[0;32m--> 311\u001b[0m \u001b[38;5;28;01mreturn\u001b[39;00m \u001b[43mfunc\u001b[49m\u001b[43m(\u001b[49m\u001b[38;5;241;43m*\u001b[39;49m\u001b[43margs\u001b[49m\u001b[43m,\u001b[49m\u001b[43m \u001b[49m\u001b[38;5;241;43m*\u001b[39;49m\u001b[38;5;241;43m*\u001b[39;49m\u001b[43mkwargs\u001b[49m\u001b[43m)\u001b[49m\n",
      "File \u001b[0;32m~/.local/lib/python3.8/site-packages/pandas/core/reshape/concat.py:347\u001b[0m, in \u001b[0;36mconcat\u001b[0;34m(objs, axis, join, ignore_index, keys, levels, names, verify_integrity, sort, copy)\u001b[0m\n\u001b[1;32m    143\u001b[0m \u001b[38;5;129m@deprecate_nonkeyword_arguments\u001b[39m(version\u001b[38;5;241m=\u001b[39m\u001b[38;5;28;01mNone\u001b[39;00m, allowed_args\u001b[38;5;241m=\u001b[39m[\u001b[38;5;124m\"\u001b[39m\u001b[38;5;124mobjs\u001b[39m\u001b[38;5;124m\"\u001b[39m])\n\u001b[1;32m    144\u001b[0m \u001b[38;5;28;01mdef\u001b[39;00m \u001b[38;5;21mconcat\u001b[39m(\n\u001b[1;32m    145\u001b[0m     objs: Iterable[NDFrame] \u001b[38;5;241m|\u001b[39m Mapping[Hashable, NDFrame],\n\u001b[0;32m   (...)\u001b[0m\n\u001b[1;32m    154\u001b[0m     copy: \u001b[38;5;28mbool\u001b[39m \u001b[38;5;241m=\u001b[39m \u001b[38;5;28;01mTrue\u001b[39;00m,\n\u001b[1;32m    155\u001b[0m ) \u001b[38;5;241m-\u001b[39m\u001b[38;5;241m>\u001b[39m DataFrame \u001b[38;5;241m|\u001b[39m Series:\n\u001b[1;32m    156\u001b[0m     \u001b[38;5;124;03m\"\"\"\u001b[39;00m\n\u001b[1;32m    157\u001b[0m \u001b[38;5;124;03m    Concatenate pandas objects along a particular axis with optional set logic\u001b[39;00m\n\u001b[1;32m    158\u001b[0m \u001b[38;5;124;03m    along the other axes.\u001b[39;00m\n\u001b[0;32m   (...)\u001b[0m\n\u001b[1;32m    345\u001b[0m \u001b[38;5;124;03m    ValueError: Indexes have overlapping values: ['a']\u001b[39;00m\n\u001b[1;32m    346\u001b[0m \u001b[38;5;124;03m    \"\"\"\u001b[39;00m\n\u001b[0;32m--> 347\u001b[0m     op \u001b[38;5;241m=\u001b[39m \u001b[43m_Concatenator\u001b[49m\u001b[43m(\u001b[49m\n\u001b[1;32m    348\u001b[0m \u001b[43m        \u001b[49m\u001b[43mobjs\u001b[49m\u001b[43m,\u001b[49m\n\u001b[1;32m    349\u001b[0m \u001b[43m        \u001b[49m\u001b[43maxis\u001b[49m\u001b[38;5;241;43m=\u001b[39;49m\u001b[43maxis\u001b[49m\u001b[43m,\u001b[49m\n\u001b[1;32m    350\u001b[0m \u001b[43m        \u001b[49m\u001b[43mignore_index\u001b[49m\u001b[38;5;241;43m=\u001b[39;49m\u001b[43mignore_index\u001b[49m\u001b[43m,\u001b[49m\n\u001b[1;32m    351\u001b[0m \u001b[43m        \u001b[49m\u001b[43mjoin\u001b[49m\u001b[38;5;241;43m=\u001b[39;49m\u001b[43mjoin\u001b[49m\u001b[43m,\u001b[49m\n\u001b[1;32m    352\u001b[0m \u001b[43m        \u001b[49m\u001b[43mkeys\u001b[49m\u001b[38;5;241;43m=\u001b[39;49m\u001b[43mkeys\u001b[49m\u001b[43m,\u001b[49m\n\u001b[1;32m    353\u001b[0m \u001b[43m        \u001b[49m\u001b[43mlevels\u001b[49m\u001b[38;5;241;43m=\u001b[39;49m\u001b[43mlevels\u001b[49m\u001b[43m,\u001b[49m\n\u001b[1;32m    354\u001b[0m \u001b[43m        \u001b[49m\u001b[43mnames\u001b[49m\u001b[38;5;241;43m=\u001b[39;49m\u001b[43mnames\u001b[49m\u001b[43m,\u001b[49m\n\u001b[1;32m    355\u001b[0m \u001b[43m        \u001b[49m\u001b[43mverify_integrity\u001b[49m\u001b[38;5;241;43m=\u001b[39;49m\u001b[43mverify_integrity\u001b[49m\u001b[43m,\u001b[49m\n\u001b[1;32m    356\u001b[0m \u001b[43m        \u001b[49m\u001b[43mcopy\u001b[49m\u001b[38;5;241;43m=\u001b[39;49m\u001b[43mcopy\u001b[49m\u001b[43m,\u001b[49m\n\u001b[1;32m    357\u001b[0m \u001b[43m        \u001b[49m\u001b[43msort\u001b[49m\u001b[38;5;241;43m=\u001b[39;49m\u001b[43msort\u001b[49m\u001b[43m,\u001b[49m\n\u001b[1;32m    358\u001b[0m \u001b[43m    \u001b[49m\u001b[43m)\u001b[49m\n\u001b[1;32m    360\u001b[0m     \u001b[38;5;28;01mreturn\u001b[39;00m op\u001b[38;5;241m.\u001b[39mget_result()\n",
      "File \u001b[0;32m~/.local/lib/python3.8/site-packages/pandas/core/reshape/concat.py:401\u001b[0m, in \u001b[0;36m_Concatenator.__init__\u001b[0;34m(self, objs, axis, join, keys, levels, names, ignore_index, verify_integrity, copy, sort)\u001b[0m\n\u001b[1;32m    399\u001b[0m     objs \u001b[38;5;241m=\u001b[39m [objs[k] \u001b[38;5;28;01mfor\u001b[39;00m k \u001b[38;5;129;01min\u001b[39;00m keys]\n\u001b[1;32m    400\u001b[0m \u001b[38;5;28;01melse\u001b[39;00m:\n\u001b[0;32m--> 401\u001b[0m     objs \u001b[38;5;241m=\u001b[39m \u001b[38;5;28;43mlist\u001b[39;49m\u001b[43m(\u001b[49m\u001b[43mobjs\u001b[49m\u001b[43m)\u001b[49m\n\u001b[1;32m    403\u001b[0m \u001b[38;5;28;01mif\u001b[39;00m \u001b[38;5;28mlen\u001b[39m(objs) \u001b[38;5;241m==\u001b[39m \u001b[38;5;241m0\u001b[39m:\n\u001b[1;32m    404\u001b[0m     \u001b[38;5;28;01mraise\u001b[39;00m \u001b[38;5;167;01mValueError\u001b[39;00m(\u001b[38;5;124m\"\u001b[39m\u001b[38;5;124mNo objects to concatenate\u001b[39m\u001b[38;5;124m\"\u001b[39m)\n",
      "Input \u001b[0;32mIn [26]\u001b[0m, in \u001b[0;36mSwitchedRawData.read_all_age_groups\u001b[0;34m(self, raw_data_dir)\u001b[0m\n\u001b[1;32m     87\u001b[0m \u001b[38;5;28;01mdef\u001b[39;00m \u001b[38;5;21mread_all_age_groups\u001b[39m(\u001b[38;5;28mself\u001b[39m, raw_data_dir):\n\u001b[1;32m     88\u001b[0m     \u001b[38;5;28;01mfor\u001b[39;00m age_group, directory \u001b[38;5;129;01min\u001b[39;00m \u001b[38;5;28mself\u001b[39m\u001b[38;5;241m.\u001b[39mage_groups\u001b[38;5;241m.\u001b[39mitems():\n\u001b[0;32m---> 89\u001b[0m         ag_df \u001b[38;5;241m=\u001b[39m \u001b[38;5;28;43mself\u001b[39;49m\u001b[38;5;241;43m.\u001b[39;49m\u001b[43mread_age_group\u001b[49m\u001b[43m(\u001b[49m\u001b[43mraw_data_dir\u001b[49m\u001b[43m,\u001b[49m\u001b[43m \u001b[49m\u001b[43mage_group\u001b[49m\u001b[43m,\u001b[49m\u001b[43m \u001b[49m\u001b[43mdirectory\u001b[49m\u001b[43m)\u001b[49m\n\u001b[1;32m     90\u001b[0m         ag_df[\u001b[38;5;124m'\u001b[39m\u001b[38;5;124mage_group\u001b[39m\u001b[38;5;124m'\u001b[39m] \u001b[38;5;241m=\u001b[39m age_group\n\u001b[1;32m     91\u001b[0m         \u001b[38;5;28;01myield\u001b[39;00m ag_df\n",
      "Input \u001b[0;32mIn [26]\u001b[0m, in \u001b[0;36mSwitchedRawData.read_age_group\u001b[0;34m(self, raw_data_dir, age_group, directory)\u001b[0m\n\u001b[1;32m     71\u001b[0m pattern \u001b[38;5;241m=\u001b[39m os\u001b[38;5;241m.\u001b[39mpath\u001b[38;5;241m.\u001b[39mjoin(raw_data_dir, directory, \u001b[38;5;124m'\u001b[39m\u001b[38;5;124m*.cnt\u001b[39m\u001b[38;5;124m'\u001b[39m)\n\u001b[1;32m     72\u001b[0m logging\u001b[38;5;241m.\u001b[39minfo(\u001b[38;5;124m'\u001b[39m\u001b[38;5;124mAcquiring: \u001b[39m\u001b[38;5;132;01m%s\u001b[39;00m\u001b[38;5;124m'\u001b[39m, pattern)\n\u001b[0;32m---> 73\u001b[0m cnts \u001b[38;5;241m=\u001b[39m \u001b[43mglob\u001b[49m\u001b[43m(\u001b[49m\u001b[43mpattern\u001b[49m\u001b[43m)\u001b[49m\n\u001b[1;32m     74\u001b[0m names \u001b[38;5;241m=\u001b[39m \u001b[38;5;28mtuple\u001b[39m(\n\u001b[1;32m     75\u001b[0m     os\u001b[38;5;241m.\u001b[39mpath\u001b[38;5;241m.\u001b[39msplitext(os\u001b[38;5;241m.\u001b[39mpath\u001b[38;5;241m.\u001b[39mbasename(f))[\u001b[38;5;241m0\u001b[39m]\n\u001b[1;32m     76\u001b[0m     \u001b[38;5;28;01mfor\u001b[39;00m f \u001b[38;5;129;01min\u001b[39;00m cnts\n\u001b[1;32m     77\u001b[0m )\n\u001b[1;32m     78\u001b[0m codes \u001b[38;5;241m=\u001b[39m \u001b[38;5;28mtuple\u001b[39m(\n\u001b[1;32m     79\u001b[0m     \u001b[38;5;28mint\u001b[39m(re\u001b[38;5;241m.\u001b[39msearch(\u001b[38;5;124mr\u001b[39m\u001b[38;5;124m'\u001b[39m\u001b[38;5;124m\\\u001b[39m\u001b[38;5;124md+\u001b[39m\u001b[38;5;124m'\u001b[39m, x)\u001b[38;5;241m.\u001b[39mgroup())\n\u001b[1;32m     80\u001b[0m     \u001b[38;5;28;01mfor\u001b[39;00m x \u001b[38;5;129;01min\u001b[39;00m names\n\u001b[1;32m     81\u001b[0m )\n",
      "\u001b[0;31mTypeError\u001b[0m: 'module' object is not callable"
     ]
    }
   ],
   "source": [
    "import logging\n",
    "acquired = SwitchedRawData(config.get_directory('data'), config.get_directory('metadata'))"
   ]
  },
  {
   "cell_type": "code",
   "execution_count": null,
   "id": "f869826f-0b7b-4dda-bbe9-c3c6dc228f71",
   "metadata": {},
   "outputs": [],
   "source": []
  },
  {
   "cell_type": "code",
   "execution_count": null,
   "id": "17e0fbff-7754-4100-80ab-3b2bd044c137",
   "metadata": {},
   "outputs": [],
   "source": []
  },
  {
   "cell_type": "code",
   "execution_count": 7,
   "id": "76f7bc21-f120-4156-b46b-ba69a6f5c37f",
   "metadata": {},
   "outputs": [
    {
     "name": "stdout",
     "output_type": "stream",
     "text": [
      "248 EEG files loaded\n"
     ]
    }
   ],
   "source": [
    "eeg_list = []\n",
    "eeg_filenames = []\n",
    "eeg_filelocation = []\n",
    "\n",
    "\n",
    "\n",
    "pattern = os.path.join(eeg_file_root, '**/*.bdf')\n",
    "\n",
    "files = glob.glob(pattern, recursive=True)\n",
    "\n",
    "for file in files:\n",
    "    if file.endswith('.bdf'):  # and len(file) == 8:\n",
    "        BdfFile = mne.io.read_raw_bdf(file)\n",
    "        eeg_list.append(BdfFile)\n",
    "        eeg_filenames.append(file.replace(\".bdf\", \"\"))\n",
    "        eeg_filelocation.append(file)\n",
    "        clear_output(wait=True)\n",
    "print(len(eeg_list), \"EEG files loaded\")"
   ]
  },
  {
   "cell_type": "code",
   "execution_count": 8,
   "id": "d3513347-b39a-484e-8b4e-b42cdefa2bfa",
   "metadata": {},
   "outputs": [],
   "source": [
    "# eeg_filelocation"
   ]
  },
  {
   "cell_type": "code",
   "execution_count": 9,
   "id": "97fd4d9e-428d-48d0-b8de-1780171151e8",
   "metadata": {},
   "outputs": [],
   "source": [
    "# eeg_filenames"
   ]
  },
  {
   "cell_type": "markdown",
   "id": "99b6fb39-0edb-42ae-a902-af788b6fe191",
   "metadata": {},
   "source": [
    "### Make a synthetic EEG like array"
   ]
  },
  {
   "cell_type": "code",
   "execution_count": 10,
   "id": "0e79ff0d",
   "metadata": {},
   "outputs": [],
   "source": [
    "\n",
    "\n",
    "sfreq = 1000. # signal collection frequency?\n",
    "f_p = 40. # this is the stop freuqency, above which we should 0\n",
    "flim = (1., sfreq / 2.)  # limits for plotting"
   ]
  },
  {
   "cell_type": "code",
   "execution_count": 11,
   "id": "71df46de",
   "metadata": {},
   "outputs": [],
   "source": [
    "# make something to filter\n",
    "dur = 10.\n",
    "center = 2.\n",
    "morlet_freq = f_p\n",
    "tlim = [center - 0.2, center + 0.2]\n",
    "tticks = [tlim[0], center, tlim[1]]\n",
    "flim = [20, 70]\n",
    "\n",
    "x = np.zeros(int(sfreq * dur) + 1)\n",
    "blip = morlet(sfreq, [morlet_freq], n_cycles=7)[0].imag / 20.\n",
    "n_onset = int(center * sfreq) - len(blip) // 2\n",
    "x[n_onset:n_onset + len(blip)] += blip\n",
    "x_orig = x.copy()\n",
    "\n",
    "rng = np.random.RandomState(0)\n",
    "x += rng.randn(len(x)) / 1000.\n",
    "x += np.sin(2. * np.pi * 60. * np.arange(len(x)) / sfreq) / 2000."
   ]
  },
  {
   "cell_type": "code",
   "execution_count": 12,
   "id": "d2a7d8db",
   "metadata": {},
   "outputs": [
    {
     "data": {
      "text/plain": [
       "[<matplotlib.lines.Line2D at 0x7f789ab98220>]"
      ]
     },
     "execution_count": 12,
     "metadata": {},
     "output_type": "execute_result"
    },
    {
     "data": {
      "image/png": "[encoded data removed]",
      "text/plain": [
       "<Figure size 432x288 with 1 Axes>"
      ]
     },
     "metadata": {
      "needs_background": "light"
     },
     "output_type": "display_data"
    }
   ],
   "source": [
    "plt.plot(x)"
   ]
  },
  {
   "cell_type": "markdown",
   "id": "5cc94978-eaf3-4595-874c-32b07d23f47c",
   "metadata": {},
   "source": [
    "## Download sample data from MNE library\n",
    "The below is cell is commented out as it may be skipped if you have the data"
   ]
  },
  {
   "cell_type": "code",
   "execution_count": 13,
   "id": "dec27f73",
   "metadata": {},
   "outputs": [],
   "source": [
    "# sample_data_folder = mne.datasets.sample.data_path()\n",
    "# sample_data_raw_file = os.path.join(sample_data_folder, 'MEG', 'sample',\n",
    "#                                     'sample_audvis_raw.fif')\n",
    "# raw = mne.io.read_raw_fif(sample_data_raw_file)\n",
    "# # use just 60 seconds of data and mag channels, to save memory\n",
    "# raw.crop(0, 60).pick_types(meg='mag', stim=True).load_data()"
   ]
  },
  {
   "cell_type": "markdown",
   "id": "492f83b4-0139-4260-8849-8d4ba82e2e18",
   "metadata": {},
   "source": [
    "Let's see what filtering looks like visually if we pull out low frequencies"
   ]
  },
  {
   "cell_type": "code",
   "execution_count": 14,
   "id": "c75d5177",
   "metadata": {},
   "outputs": [
    {
     "name": "stdout",
     "output_type": "stream",
     "text": [
      "Using matplotlib as 2D backend.\n"
     ]
    },
    {
     "ename": "AttributeError",
     "evalue": "module 'raw' has no attribute 'plot'",
     "output_type": "error",
     "traceback": [
      "\u001b[0;31m---------------------------------------------------------------------------\u001b[0m",
      "\u001b[0;31mAttributeError\u001b[0m                            Traceback (most recent call last)",
      "Input \u001b[0;32mIn [14]\u001b[0m, in \u001b[0;36m<cell line: 1>\u001b[0;34m()\u001b[0m\n\u001b[1;32m      1\u001b[0m \u001b[38;5;28;01mwith\u001b[39;00m mne\u001b[38;5;241m.\u001b[39mviz\u001b[38;5;241m.\u001b[39m_figure\u001b[38;5;241m.\u001b[39muse_browser_backend(\u001b[38;5;124m'\u001b[39m\u001b[38;5;124mmatplotlib\u001b[39m\u001b[38;5;124m'\u001b[39m):\n\u001b[0;32m----> 2\u001b[0m         fig \u001b[38;5;241m=\u001b[39m \u001b[43mraw\u001b[49m\u001b[38;5;241;43m.\u001b[39;49m\u001b[43mplot\u001b[49m(duration\u001b[38;5;241m=\u001b[39m\u001b[38;5;241m60\u001b[39m, proj\u001b[38;5;241m=\u001b[39m\u001b[38;5;28;01mFalse\u001b[39;00m,\n\u001b[1;32m      3\u001b[0m                                 n_channels\u001b[38;5;241m=\u001b[39m\u001b[38;5;28mlen\u001b[39m(raw\u001b[38;5;241m.\u001b[39mch_names), remove_dc\u001b[38;5;241m=\u001b[39m\u001b[38;5;28;01mFalse\u001b[39;00m)\n",
      "\u001b[0;31mAttributeError\u001b[0m: module 'raw' has no attribute 'plot'"
     ]
    }
   ],
   "source": [
    "with mne.viz._figure.use_browser_backend('matplotlib'):\n",
    "        fig = raw.plot(duration=60, proj=False,\n",
    "                                n_channels=len(raw.ch_names), remove_dc=False)"
   ]
  },
  {
   "cell_type": "code",
   "execution_count": null,
   "id": "01f248e8",
   "metadata": {},
   "outputs": [],
   "source": [
    "#for cutoff in (0.1, 0.2):\n",
    "cutoff = 0.2\n",
    "raw_highpass = raw.copy().filter(l_freq=cutoff, h_freq=None)\n",
    "with mne.viz._figure.use_browser_backend('matplotlib'):\n",
    "    fig = raw_highpass.plot(duration=60, proj=False,\n",
    "                            n_channels=len(raw.ch_names), remove_dc=False)\n",
    "fig.subplots_adjust(top=0.9)\n",
    "fig.suptitle('High-pass filtered at {} Hz'.format(cutoff), size='xx-large',\n",
    "             weight='bold')"
   ]
  },
  {
   "cell_type": "code",
   "execution_count": null,
   "id": "aa6469f2",
   "metadata": {},
   "outputs": [],
   "source": [
    "raw_simple_filtered = hf.band_pass_filter(raw, 0.2, 5)"
   ]
  },
  {
   "cell_type": "code",
   "execution_count": null,
   "id": "062af727",
   "metadata": {},
   "outputs": [],
   "source": [
    "## we can check channel names\n",
    "#raw_simple_filtered.ch_names"
   ]
  },
  {
   "cell_type": "code",
   "execution_count": null,
   "id": "026e2b14",
   "metadata": {},
   "outputs": [],
   "source": [
    "## we can know more about the data \n",
    "#help(raw_simple_filtered)"
   ]
  },
  {
   "cell_type": "code",
   "execution_count": null,
   "id": "dcdf8d9b",
   "metadata": {},
   "outputs": [],
   "source": [
    "# but let's just check our filter on the lowpass end to see what frequency is there\n",
    "raw_simple_filtered.info['lowpass']"
   ]
  },
  {
   "cell_type": "code",
   "execution_count": null,
   "id": "1eb777e6",
   "metadata": {},
   "outputs": [],
   "source": [
    "# vars(raw_simple_filtered)"
   ]
  },
  {
   "cell_type": "code",
   "execution_count": null,
   "id": "ddf01754",
   "metadata": {},
   "outputs": [],
   "source": [
    "print(type(raw.info['lowpass']))"
   ]
  },
  {
   "cell_type": "code",
   "execution_count": null,
   "id": "11748c15",
   "metadata": {},
   "outputs": [],
   "source": [
    "## Need to rewrite data path"
   ]
  },
  {
   "cell_type": "code",
   "execution_count": null,
   "id": "217730b3",
   "metadata": {},
   "outputs": [],
   "source": [
    "sample_eeg = eeg_filelocation[3]"
   ]
  },
  {
   "cell_type": "code",
   "execution_count": null,
   "id": "f55082af-dd31-4552-b985-65a9e0e33353",
   "metadata": {},
   "outputs": [],
   "source": [
    "sample_eeg"
   ]
  },
  {
   "cell_type": "code",
   "execution_count": null,
   "id": "99c3d574-2306-44d4-a83c-3bd6dabd47d6",
   "metadata": {},
   "outputs": [],
   "source": [
    "type(sample_eeg)"
   ]
  },
  {
   "cell_type": "code",
   "execution_count": null,
   "id": "e981e252",
   "metadata": {},
   "outputs": [],
   "source": [
    "sample_eeg_read = mne.io.read_raw_bdf(sample_eeg, preload= True)"
   ]
  },
  {
   "cell_type": "code",
   "execution_count": null,
   "id": "056b50f7",
   "metadata": {},
   "outputs": [],
   "source": [
    "sample_eeg_filtered = hf.band_pass_filter(sample_eeg_read, 0, 2.38540286e-05)"
   ]
  },
  {
   "cell_type": "code",
   "execution_count": null,
   "id": "48412f1c-1cdb-4674-a55c-2da63f3f7975",
   "metadata": {},
   "outputs": [],
   "source": []
  }
 ],
 "metadata": {
  "kernelspec": {
   "display_name": "Python 3 (ipykernel)",
   "language": "python",
   "name": "python3"
  },
  "language_info": {
   "codemirror_mode": {
    "name": "ipython",
    "version": 3
   },
   "file_extension": ".py",
   "mimetype": "text/x-python",
   "name": "python",
   "nbconvert_exporter": "python",
   "pygments_lexer": "ipython3",
   "version": "3.9.7"
  }
 },
 "nbformat": 4,
 "nbformat_minor": 5
}
