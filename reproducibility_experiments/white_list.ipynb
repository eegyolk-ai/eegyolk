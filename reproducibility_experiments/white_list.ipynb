{
 "cells": [
  {
   "cell_type": "markdown",
   "id": "abbf610f",
   "metadata": {},
   "source": [
    "## White listed files"
   ]
  },
  {
   "cell_type": "markdown",
   "id": "ee0f4d8e",
   "metadata": {},
   "source": [
    "This notebook demonstrates that some files in the DDP dataset may be suitable for analysis. "
   ]
  },
  {
   "cell_type": "markdown",
   "id": "b1bead3e-3394-4abb-9034-31b7d01223a8",
   "metadata": {},
   "source": [
    "#### Imports"
   ]
  },
  {
   "cell_type": "code",
   "execution_count": 1,
   "id": "60c3e95b",
   "metadata": {},
   "outputs": [],
   "source": [
    "import mne      # toolbox for analyzing and visualizing EEG data\n",
    "import os       # using operating system dependent functionality (folders)\n",
    "import pandas   # data analysis and manipulation\n",
    "import numpy    # numerical computing (manipulating and performing operations on arrays of data)\n",
    "import copy     # Can Copy and Deepcopy files so original file is untouched.\n",
    "import glob\n",
    "import numpy as np\n",
    "import pandas as pd\n",
    "from numpy.fft import fft, fftfreq\n",
    "from scipy import signal\n",
    "\n",
    "import matplotlib\n",
    "import matplotlib.pyplot as plt\n",
    "\n",
    "from mne.time_frequency.tfr import morlet\n",
    "from mne.viz import plot_filter, plot_ideal_filter\n",
    "\n",
    "\n",
    "from IPython.display import clear_output\n",
    "import warnings\n",
    "\n",
    "import sys"
   ]
  },
  {
   "cell_type": "markdown",
   "id": "64ce797c",
   "metadata": {},
   "source": [
    "Below eegyolk is importted in it's most updated version\n",
    "But the cell could be replaced by importing the stable library and then importing the modules of it."
   ]
  },
  {
   "cell_type": "code",
   "execution_count": 2,
   "id": "98a2fe69-3757-4908-acab-30dd530e5236",
   "metadata": {},
   "outputs": [],
   "source": [
    "\n",
    "import sys\n",
    "sys.path.insert(0, '../eegyolk') # path to helper functions\n",
    "import helper_functions as hf # library useful for eeg and erp data cleaning\n",
    "#import initialization_functions #library to import data\n",
    "import epod_helper\n",
    "import rawf\n",
    "from config import Config\n",
    "from rawf import RawData"
   ]
  },
  {
   "cell_type": "markdown",
   "id": "6440c41d-6c8c-47f4-875f-03383621c0fa",
   "metadata": {
    "tags": []
   },
   "source": [
    "#### Load EEG files\n",
    "Change your config file to change where data is coming from"
   ]
  },
  {
   "cell_type": "code",
   "execution_count": null,
   "id": "00f79347",
   "metadata": {},
   "outputs": [],
   "source": []
  },
  {
   "cell_type": "code",
   "execution_count": 3,
   "id": "465d6498",
   "metadata": {},
   "outputs": [],
   "source": [
    "config = Config()\n"
   ]
  },
  {
   "cell_type": "code",
   "execution_count": 4,
   "id": "b14b1ea8-f353-4501-a7ed-af81a62dadbf",
   "metadata": {},
   "outputs": [],
   "source": [
    "#glob.glob(data_file_directory)"
   ]
  },
  {
   "cell_type": "code",
   "execution_count": 5,
   "id": "dc05ec24",
   "metadata": {},
   "outputs": [],
   "source": [
    "#eeg_file_root = \"../../volume-ceph/ePodium_projectfolder\"\n",
    "acquired = RawData(config.get_directory('data'), config.get_directory('metadata'))"
   ]
  },
  {
   "cell_type": "markdown",
   "id": "77916f8c",
   "metadata": {},
   "source": [
    "Note we assume you are looking at cnt files"
   ]
  },
  {
   "cell_type": "code",
   "execution_count": 6,
   "id": "3f789d2b-c2aa-4b5a-9d25-b42162ad5b82",
   "metadata": {},
   "outputs": [
    {
     "data": {
      "text/html": [
       "<div>\n",
       "<style scoped>\n",
       "    .dataframe tbody tr th:only-of-type {\n",
       "        vertical-align: middle;\n",
       "    }\n",
       "\n",
       "    .dataframe tbody tr th {\n",
       "        vertical-align: top;\n",
       "    }\n",
       "\n",
       "    .dataframe thead th {\n",
       "        text-align: right;\n",
       "    }\n",
       "</style>\n",
       "<table border=\"1\" class=\"dataframe\">\n",
       "  <thead>\n",
       "    <tr style=\"text-align: right;\">\n",
       "      <th></th>\n",
       "      <th>code</th>\n",
       "      <th>cnt_path</th>\n",
       "      <th>cnt_file</th>\n",
       "      <th>age_group</th>\n",
       "      <th>age_days</th>\n",
       "      <th>age_months</th>\n",
       "      <th>age_years</th>\n",
       "    </tr>\n",
       "  </thead>\n",
       "  <tbody>\n",
       "    <tr>\n",
       "      <th>0</th>\n",
       "      <td>35</td>\n",
       "      <td>/volume-ceph/DDP_projectfolder/dataset/11mnd m...</td>\n",
       "      <td>035_11_jc_mmn36_slp_mmn25_slp</td>\n",
       "      <td>11</td>\n",
       "      <td>331.0</td>\n",
       "      <td>11.033333</td>\n",
       "      <td>0.919444</td>\n",
       "    </tr>\n",
       "    <tr>\n",
       "      <th>1</th>\n",
       "      <td>27</td>\n",
       "      <td>/volume-ceph/DDP_projectfolder/dataset/11mnd m...</td>\n",
       "      <td>027_11_jc_mmn25_wk</td>\n",
       "      <td>11</td>\n",
       "      <td>326.0</td>\n",
       "      <td>10.866667</td>\n",
       "      <td>0.905556</td>\n",
       "    </tr>\n",
       "    <tr>\n",
       "      <th>2</th>\n",
       "      <td>25</td>\n",
       "      <td>/volume-ceph/DDP_projectfolder/dataset/11mnd m...</td>\n",
       "      <td>025_11_mc_mmn36_wk</td>\n",
       "      <td>11</td>\n",
       "      <td>360.0</td>\n",
       "      <td>12.000000</td>\n",
       "      <td>1.000000</td>\n",
       "    </tr>\n",
       "    <tr>\n",
       "      <th>3</th>\n",
       "      <td>35</td>\n",
       "      <td>/volume-ceph/DDP_projectfolder/dataset/11mnd m...</td>\n",
       "      <td>035_11_jc_mmn36slp_mmn25_slp_2</td>\n",
       "      <td>11</td>\n",
       "      <td>331.0</td>\n",
       "      <td>11.033333</td>\n",
       "      <td>0.919444</td>\n",
       "    </tr>\n",
       "    <tr>\n",
       "      <th>4</th>\n",
       "      <td>30</td>\n",
       "      <td>/volume-ceph/DDP_projectfolder/dataset/11mnd m...</td>\n",
       "      <td>030_11_jc_mmn36_wk_mmn25_wk</td>\n",
       "      <td>11</td>\n",
       "      <td>328.0</td>\n",
       "      <td>10.933333</td>\n",
       "      <td>0.911111</td>\n",
       "    </tr>\n",
       "  </tbody>\n",
       "</table>\n",
       "</div>"
      ],
      "text/plain": [
       "   code                                           cnt_path  \\\n",
       "0    35  /volume-ceph/DDP_projectfolder/dataset/11mnd m...   \n",
       "1    27  /volume-ceph/DDP_projectfolder/dataset/11mnd m...   \n",
       "2    25  /volume-ceph/DDP_projectfolder/dataset/11mnd m...   \n",
       "3    35  /volume-ceph/DDP_projectfolder/dataset/11mnd m...   \n",
       "4    30  /volume-ceph/DDP_projectfolder/dataset/11mnd m...   \n",
       "\n",
       "                         cnt_file  age_group  age_days  age_months  age_years  \n",
       "0   035_11_jc_mmn36_slp_mmn25_slp         11     331.0   11.033333   0.919444  \n",
       "1              027_11_jc_mmn25_wk         11     326.0   10.866667   0.905556  \n",
       "2              025_11_mc_mmn36_wk         11     360.0   12.000000   1.000000  \n",
       "3  035_11_jc_mmn36slp_mmn25_slp_2         11     331.0   11.033333   0.919444  \n",
       "4     030_11_jc_mmn36_wk_mmn25_wk         11     328.0   10.933333   0.911111  "
      ]
     },
     "execution_count": 6,
     "metadata": {},
     "output_type": "execute_result"
    }
   ],
   "source": [
    "acquired.raw.head()"
   ]
  },
  {
   "cell_type": "markdown",
   "id": "06855093-7a61-4af2-9628-87426529fcf0",
   "metadata": {},
   "source": [
    "Now we can make a list of all the files."
   ]
  },
  {
   "cell_type": "code",
   "execution_count": 7,
   "id": "b9f8a25f-9bf4-4f07-86e0-62db211d5355",
   "metadata": {},
   "outputs": [],
   "source": [
    "\n",
    "import logging\n",
    "import struct\n",
    "import sys\n",
    "\n",
    "from glob import glob"
   ]
  },
  {
   "cell_type": "code",
   "execution_count": 8,
   "id": "42939ea6-8727-4737-bf8a-1ed14e9762a0",
   "metadata": {},
   "outputs": [],
   "source": [
    "# range(len(acquired.raw))"
   ]
  },
  {
   "cell_type": "code",
   "execution_count": 84,
   "id": "8790d953-0424-4238-90c2-5c089b840c63",
   "metadata": {},
   "outputs": [],
   "source": [
    "list_all_old_files = []\n",
    "for n in range(len(acquired.raw)):\n",
    "    list_all_old_files.append(acquired.raw.cnt_path.to_list()[n])"
   ]
  },
  {
   "cell_type": "code",
   "execution_count": 94,
   "id": "4fbd15b1-afe0-4d24-9cc1-82322d319b31",
   "metadata": {},
   "outputs": [],
   "source": [
    "def find_nsamples(fd):\n",
    "    fd.seek(864)\n",
    "    return struct.unpack('<i', fd.read(4))[0]\n",
    "\n",
    "def main(list_of_files):\n",
    "    expanded, had_errors = [], False\n",
    "    # for p in list_of_files:\n",
    "    #     expanded.extend(glob(p))\n",
    "    for ef in list_of_files: # expanded:\n",
    "        try:\n",
    "            with open(ef, 'rb', buffering=0) as f:\n",
    "                print(ef, find_nsamples(f))\n",
    "        except Exception as e:\n",
    "            had_errors = True\n",
    "            logging.error('Error reading file %s', ef)\n",
    "            logging.exception(e)\n",
    "    return 1 if had_errors else 0\n",
    "\n",
    "def check_if_numsamples(file):\n",
    "    try:\n",
    "        with open(file, 'rb') as fd:\n",
    "            fd.seek(864)\n",
    "            \n",
    "            return struct.unpack('<i', fd.read(4))[0]\n",
    "    except:\n",
    "        return 0\n"
   ]
  },
  {
   "cell_type": "code",
   "execution_count": 95,
   "id": "0bb956f4-77d4-46a2-82fe-0414d9aae38e",
   "metadata": {},
   "outputs": [],
   "source": [
    "bad_list = []\n",
    "for file in list_all_old_files:\n",
    "    if check_if_numsamples(file) == 0:\n",
    "        bad_list.append(file)"
   ]
  },
  {
   "cell_type": "code",
   "execution_count": 99,
   "id": "05897275-dffc-40a2-9873-d6c55dba6955",
   "metadata": {},
   "outputs": [
    {
     "data": {
      "text/plain": [
       "0.08891992551210429"
      ]
     },
     "execution_count": 99,
     "metadata": {},
     "output_type": "execute_result"
    }
   ],
   "source": [
    "len(bad_list)/ len(list_all_old_files)"
   ]
  },
  {
   "cell_type": "code",
   "execution_count": 100,
   "id": "41bb60aa-aca0-4192-9f5c-b3e157d6c94f",
   "metadata": {},
   "outputs": [
    {
     "name": "stdout",
     "output_type": "stream",
     "text": [
      "['/volume-ceph/DDP_projectfolder/dataset/11mnd mmn/040_11_jc_mmn36_wk_mmn25_wk.cnt', '/volume-ceph/DDP_projectfolder/dataset/11mnd mmn/019_11_mc_mmn36_mixed_mmn25_slp_mmn47mixed_mmn58_slp.cnt', '/volume-ceph/DDP_projectfolder/dataset/11mnd mmn/018_11_mc_mmn2.cnt', '/volume-ceph/DDP_projectfolder/dataset/11mnd mmn/101_11_jr_mmn.cnt', '/volume-ceph/DDP_projectfolder/dataset/11mnd mmn/021_11_jc_mmn36_slp_mmn25_slp_mmn47_slp_mmn58_slp.cnt', '/volume-ceph/DDP_projectfolder/dataset/11mnd mmn/115_11_mr_mmn.cnt', '/volume-ceph/DDP_projectfolder/dataset/11mnd mmn/152_11_jr_mmn_2.cnt', '/volume-ceph/DDP_projectfolder/dataset/11mnd mmn/144_11_jr_mmn36_wk_mmn25_wk.cnt', '/volume-ceph/DDP_projectfolder/dataset/11mnd mmn/134_11_mr_mmn_2.cnt', '/volume-ceph/DDP_projectfolder/dataset/11mnd mmn/153_11_mr_mmn36_slp_mmn25_slp_mmn47_slp_mmn58_slp.cnt', '/volume-ceph/DDP_projectfolder/dataset/11mnd mmn/151_11_mr_mmn36_slp_mmn25_slp_mmn47_slp_mmn58_slp.cnt', '/volume-ceph/DDP_projectfolder/dataset/11mnd mmn/129_11_jr_mmn2.cnt', '/volume-ceph/DDP_projectfolder/dataset/11mnd mmn/109_11_jr_mmn.cnt', '/volume-ceph/DDP_projectfolder/dataset/11mnd mmn/122_11_mr_mmn36_wk_mmn25_wk_mmn47_wk.cnt', '/volume-ceph/DDP_projectfolder/dataset/11mnd mmn/148_11_mr_mmn36_wk_mmn25_wk_mmn47_wk.cnt', '/volume-ceph/DDP_projectfolder/dataset/11mnd mmn/152_11_jr_mmn.cnt', '/volume-ceph/DDP_projectfolder/dataset/11mnd mmn/156_11_jr_mmn36_slp_mmn25_slp.cnt', '/volume-ceph/DDP_projectfolder/dataset/11mnd mmn/144_11_jr_mmn_36_slp_mmn25_slp_2.cnt', '/volume-ceph/DDP_projectfolder/dataset/11mnd mmn/103_11_mr_mmn.cnt', '/volume-ceph/DDP_projectfolder/dataset/11mnd mmn/141_11_jr_mmn.cnt', '/volume-ceph/DDP_projectfolder/dataset/11mnd mmn/135_11_mr_mmn36_mixed_mmn25_slp_mmn47_slp_mmn58_slp.cnt', '/volume-ceph/DDP_projectfolder/dataset/11mnd mmn/138_11_jr_mmn2.cnt', '/volume-ceph/DDP_projectfolder/dataset/11mnd mmn/119_11_jr_mmn36_wk.cnt', '/volume-ceph/DDP_projectfolder/dataset/11mnd mmn/102_11_jr_mmn.cnt', '/volume-ceph/DDP_projectfolder/dataset/11mnd mmn/137_11_mr_mmn36_slp_mmn25_slp_mmn47_slp_mmn58_slp.cnt', '/volume-ceph/DDP_projectfolder/dataset/11mnd mmn/108_11_jr_mmn36_slp_mmn25_slp_mmn47_mixed_mmn58_wk.cnt', '/volume-ceph/DDP_projectfolder/dataset/11mnd mmn/149_11_mr_mmn36_slp.cnt', '/volume-ceph/DDP_projectfolder/dataset/11mnd mmn/103_11_mr_mmn2.cnt', '/volume-ceph/DDP_projectfolder/dataset/11mnd mmn/146_11_jr_mmn.cnt', '/volume-ceph/DDP_projectfolder/dataset/11mnd mmn/104_11_jr_mmn.cnt', '/volume-ceph/DDP_projectfolder/dataset/11mnd mmn/148_11_mr_mmn36_wk.cnt', '/volume-ceph/DDP_projectfolder/dataset/11mnd mmn/124_11_jr_mmn36_slp_mmn25_slp_mmn47_slp_mmn58_slp.cnt', '/volume-ceph/DDP_projectfolder/dataset/11mnd mmn/126_11_mr_mmn2_25_wk_mmn47_wk_mmn58_wk.cnt', '/volume-ceph/DDP_projectfolder/dataset/11mnd mmn/145_11_mr_mmn36_slp_mmn25_slp_mmn47_mixed_mmn58_wk.cnt', '/volume-ceph/DDP_projectfolder/dataset/11mnd mmn/159_11_jr_mmn36_slp_mmn25_slp_mmn47_slp_mmn58_slp.cnt', '/volume-ceph/DDP_projectfolder/dataset/11mnd mmn/123_11_jr_mmn36_wk_mmn25_wk_mmn47_wk_mmn58_wk.cnt', '/volume-ceph/DDP_projectfolder/dataset/11mnd mmn/105_11_jr_mmn36_slp_mmn25_wk_mmn47_wk.cnt', '/volume-ceph/DDP_projectfolder/dataset/11mnd mmn/128_11_jr_mmn36_wk_mmn25_wk.cnt', '/volume-ceph/DDP_projectfolder/dataset/11mnd mmn/121_11_jr_mmn36_mixed_mmn25_slp_mmn47_slp_mmn58_slp.cnt', '/volume-ceph/DDP_projectfolder/dataset/11mnd mmn/107_11_mr_mmn36_wk_mmn25_wk_mmn47_wk_mmn58_wk.cnt', '/volume-ceph/DDP_projectfolder/dataset/11mnd mmn/138_11_jr_mmn36_wk_mmn25_wk_mmn47_wk_mmn58_wk.cnt', '/volume-ceph/DDP_projectfolder/dataset/11mnd mmn/126_11_mr_mmn3.cnt', '/volume-ceph/DDP_projectfolder/dataset/11mnd mmn/134_11_mr_mmn36_wk_mmn25_mixed.cnt', '/volume-ceph/DDP_projectfolder/dataset/11mnd mmn/139_11_mr_mmn36_wk_mmn25_slp_mmn47_slp_mmn58_slp.cnt', '/volume-ceph/DDP_projectfolder/dataset/11mnd mmn/304_11_mc_mmn_2.cnt', '/volume-ceph/DDP_projectfolder/dataset/11mnd mmn/317_11_mc_mmn_2.cnt', '/volume-ceph/DDP_projectfolder/dataset/11mnd mmn/303_11_mc_mmn_2.cnt', '/volume-ceph/DDP_projectfolder/dataset/11mnd mmn/306_11_mc_mmn_2.cnt', '/volume-ceph/DDP_projectfolder/dataset/11mnd mmn/313_11_mc_mmn.cnt', '/volume-ceph/DDP_projectfolder/dataset/11mnd mmn/434_11_jd_mmn_3.cnt', '/volume-ceph/DDP_projectfolder/dataset/11mnd mmn/317_11_mc_mmn.cnt', '/volume-ceph/DDP_projectfolder/dataset/11mnd mmn/434_11_jd_mmn_2.cnt', '/volume-ceph/DDP_projectfolder/dataset/11mnd mmn/303_11_mc_mmn.cnt', '/volume-ceph/DDP_projectfolder/dataset/11mnd mmn/434_11_jd_mmn.cnt', '/volume-ceph/DDP_projectfolder/dataset/11mnd mmn/306_11_mc_mmn.cnt', '/volume-ceph/DDP_projectfolder/dataset/11mnd mmn/304_11_mc_mmn.cnt', '/volume-ceph/DDP_projectfolder/dataset/11mnd mmn/310_11_jc_mmn.cnt', '/volume-ceph/DDP_projectfolder/dataset/11mnd mmn/309_11_jc_mmn.cnt', '/volume-ceph/DDP_projectfolder/dataset/11mnd mmn/301_11_jc_mmn.cnt', '/volume-ceph/DDP_projectfolder/dataset/11mnd mmn/330_11_mc_mmn.cnt', '/volume-ceph/DDP_projectfolder/dataset/11mnd mmn/313_11_mc_mmn_2.cnt', '/volume-ceph/DDP_projectfolder/dataset/11mnd mmn/454_11_md_mmn_2.cnt', '/volume-ceph/DDP_projectfolder/dataset/11mnd mmn/443_11_jd_mmn_2.cnt', '/volume-ceph/DDP_projectfolder/dataset/11mnd mmn/438_11_jd_mmn.cnt', '/volume-ceph/DDP_projectfolder/dataset/11mnd mmn/445_11_md_mmn.cnt', '/volume-ceph/DDP_projectfolder/dataset/11mnd mmn/443_11_jd_mmn.cnt', '/volume-ceph/DDP_projectfolder/dataset/11mnd mmn/445_11_md_mmn_2.cnt', '/volume-ceph/DDP_projectfolder/dataset/11mnd mmn/436_11_jd_mmn_2.cnt', '/volume-ceph/DDP_projectfolder/dataset/11mnd mmn/436_11_jd_mmn.cnt', '/volume-ceph/DDP_projectfolder/dataset/11mnd mmn/414_11_jd_mmn.cnt', '/volume-ceph/DDP_projectfolder/dataset/11mnd mmn/425_11_jd_mmn.cnt', '/volume-ceph/DDP_projectfolder/dataset/11mnd mmn/454_11_md_mmn.cnt', '/volume-ceph/DDP_projectfolder/dataset/11mnd mmn/613-176-11m-mc-mmn.cnt', '/volume-ceph/DDP_projectfolder/dataset/11mnd mmn/611-157-11m-mc-mmn.cnt', '/volume-ceph/DDP_projectfolder/dataset/11mnd mmn/608-170-11m-mc-mmn36-slp.cnt', '/volume-ceph/DDP_projectfolder/dataset/11mnd mmn/619-247-11m-mc-mmn2.cnt', '/volume-ceph/DDP_projectfolder/dataset/11mnd mmn/613-176-11m-mc-mmn2-slp.cnt', '/volume-ceph/DDP_projectfolder/dataset/11mnd mmn/609-158-11m-jc-mmn-rst.cnt', '/volume-ceph/DDP_projectfolder/dataset/11mnd mmn/604-133-11m-jc-mmn-rst.cnt', '/volume-ceph/DDP_projectfolder/dataset/11mnd mmn/617-289-11m-mc-mmn.cnt', '/volume-ceph/DDP_projectfolder/dataset/11mnd mmn/610-185-11m-jc-mmn2-rst.cnt', '/volume-ceph/DDP_projectfolder/dataset/11mnd mmn/608-170-11m-mc-mmn47-slp.cnt', '/volume-ceph/DDP_projectfolder/dataset/11mnd mmn/614-228-11m-jc-mmn-rst.cnt', '/volume-ceph/DDP_projectfolder/dataset/11mnd mmn/616-240-11m-mc-mmn3.cnt', '/volume-ceph/DDP_projectfolder/dataset/11mnd mmn/608-170-11m-mc-mmn25-slp.cnt', '/volume-ceph/DDP_projectfolder/dataset/11mnd mmn/610-185-11m-jc-mmn-rst.cnt', '/volume-ceph/DDP_projectfolder/dataset/11mnd mmn/608-170-11m-mc-mmn58-slp.cnt', '/volume-ceph/DDP_projectfolder/dataset/11mnd mmn/609-158-11m-jc-mmn-rst2.cnt', '/volume-ceph/DDP_projectfolder/dataset/11mnd mmn/616-240-11m-mc-mmn.cnt', '/volume-ceph/DDP_projectfolder/dataset/11mnd mmn/619-247-11m-mc-mmn.cnt', '/volume-ceph/DDP_projectfolder/dataset/11mnd mmn/617-289-11m-mc-mmn2.cnt', '/volume-ceph/DDP_projectfolder/dataset/11mnd mmn/622-189-11m-jc-mmn36slp.cnt', '/volume-ceph/DDP_projectfolder/dataset/11mnd mmn/612-486-11m-jc-mmn-slp.cnt', '/volume-ceph/DDP_projectfolder/dataset/11mnd mmn/613-176-11m-mc-mmn3-dummy.cnt', '/volume-ceph/DDP_projectfolder/dataset/11mnd mmn/621-241-11m-jc-mmn.cnt', '/volume-ceph/DDP_projectfolder/dataset/11mnd mmn/622-189-11m-jc-mmn25slp.cnt', '/volume-ceph/DDP_projectfolder/dataset/11mnd mmn/615-240-11m-mc-mmn.cnt', '/volume-ceph/DDP_projectfolder/dataset/11mnd mmn/620-313-11m-jc-mmn3.cnt', '/volume-ceph/DDP_projectfolder/dataset/11mnd mmn/620-313-11m-jc-mmn2.cnt', '/volume-ceph/DDP_projectfolder/dataset/11mnd mmn/622-189-11m-jc-mmn36waak.cnt', '/volume-ceph/DDP_projectfolder/dataset/11mnd mmn/008_11_jc_mmn.cnt', '/volume-ceph/DDP_projectfolder/dataset/11mnd mmn/621-241-11m-jc-mmn2.cnt', '/volume-ceph/DDP_projectfolder/dataset/11mnd mmn/701-008-11m-jr-mmn36.cnt', '/volume-ceph/DDP_projectfolder/dataset/11mnd mmn/618-163-11m-jc-mmn.cnt', '/volume-ceph/DDP_projectfolder/dataset/11mnd mmn/702-071-11m-jd-mmn-rst.cnt', '/volume-ceph/DDP_projectfolder/dataset/11mnd mmn/009_11_jc_mmn36_wk_mmn25_wk.cnt', '/volume-ceph/DDP_projectfolder/dataset/11mnd mmn/004_11_mc_mmn.cnt', '/volume-ceph/DDP_projectfolder/dataset/11mnd mmn/005_11_jc_mmn2.cnt', '/volume-ceph/DDP_projectfolder/dataset/11mnd mmn/009_11_jc_mmn47_wk.cnt', '/volume-ceph/DDP_projectfolder/dataset/11mnd mmn/008_11_jc_mmn_3.cnt', '/volume-ceph/DDP_projectfolder/dataset/11mnd mmn/003_11_jc_mmn36_slp_mmn25_wk_mmn47_slp_mmn58_slp.cnt', '/volume-ceph/DDP_projectfolder/dataset/11mnd mmn/001_11_jc_mmn36_wk_mmn25_wk_mmn47_wk_mmn58_wk.cnt', '/volume-ceph/DDP_projectfolder/dataset/11mnd mmn/007_11_jc_mmn36_wk_mmn25_wk.cnt', '/volume-ceph/DDP_projectfolder/dataset/11mnd mmn/008_11_jc_mmn_36_slp_mmn25_slp_mmn47_wk_2.cnt', '/volume-ceph/DDP_projectfolder/dataset/11mnd mmn/007_11_jc_mmn2_36_wk.cnt', '/volume-ceph/DDP_projectfolder/dataset/11mnd mmn/010_11_jc_mmn2.cnt', '/volume-ceph/DDP_projectfolder/dataset/11mnd mmn/017_11_jc_mmn36_mixed_mmn25_slp.cnt', '/volume-ceph/DDP_projectfolder/dataset/11mnd mmn/015_11_jc_mmn36_slp_mmn25_slp_mmn47_slp_mmn58_slp.cnt', '/volume-ceph/DDP_projectfolder/dataset/11mnd mmn/018_11_mc_mmn.cnt', '/volume-ceph/DDP_projectfolder/dataset/11mnd mmn/014_11_mc_mmn36_wk_mmn25_wk.cnt', '/volume-ceph/DDP_projectfolder/dataset/11mnd mmn/016_11_jc_mmn36_wk.cnt', '/volume-ceph/DDP_projectfolder/dataset/11mnd mmn/010_11_jc_mmn36_wk_mmn25_wk.cnt', '/volume-ceph/DDP_projectfolder/dataset/17mnd mmn/129_17_jr_mmn.cnt', '/volume-ceph/DDP_projectfolder/dataset/17mnd mmn/115_17_mr_mmn.cnt', '/volume-ceph/DDP_projectfolder/dataset/17mnd mmn/115_17_mr_mmn_2.cnt', '/volume-ceph/DDP_projectfolder/dataset/17mnd mmn/128_17_jr_mmn.cnt', '/volume-ceph/DDP_projectfolder/dataset/17mnd mmn/126_17_mr_mmn.cnt', '/volume-ceph/DDP_projectfolder/dataset/17mnd mmn/108_17_jr_mmn.cnt', '/volume-ceph/DDP_projectfolder/dataset/17mnd mmn/123_17_jr_mmn.cnt', '/volume-ceph/DDP_projectfolder/dataset/17mnd mmn/114_17_jr_mmn.cnt', '/volume-ceph/DDP_projectfolder/dataset/17mnd mmn/105_17_jr_mmn.cnt', '/volume-ceph/DDP_projectfolder/dataset/17mnd mmn/110_17_jr_mmn.cnt', '/volume-ceph/DDP_projectfolder/dataset/17mnd mmn/104_17_jr_mmn.cnt', '/volume-ceph/DDP_projectfolder/dataset/17mnd mmn/121_17_jr_mmn36_mixed.cnt', '/volume-ceph/DDP_projectfolder/dataset/17mnd mmn/107_17_mr_mmn.cnt', '/volume-ceph/DDP_projectfolder/dataset/17mnd mmn/103_17_mr_mmn.cnt', '/volume-ceph/DDP_projectfolder/dataset/17mnd mmn/119_17_jr_mmn.cnt', '/volume-ceph/DDP_projectfolder/dataset/17mnd mmn/102_17_jr_mmn.cnt', '/volume-ceph/DDP_projectfolder/dataset/17mnd mmn/124_17_jr_mmn.cnt', '/volume-ceph/DDP_projectfolder/dataset/17mnd mmn/101_17_jr_mmn.cnt', '/volume-ceph/DDP_projectfolder/dataset/17mnd mmn/162-727-17m-jr-mmn.cnt', '/volume-ceph/DDP_projectfolder/dataset/17mnd mmn/310_17_jc_mmn.cnt', '/volume-ceph/DDP_projectfolder/dataset/17mnd mmn/316_17_mc_mmn.cnt', '/volume-ceph/DDP_projectfolder/dataset/17mnd mmn/328_17_jc_mmn.cnt', '/volume-ceph/DDP_projectfolder/dataset/17mnd mmn/007_17_jc_mmn.cnt', '/volume-ceph/DDP_projectfolder/dataset/17mnd mmn/005_17_jc_mmn36_slp_mmn25_slp_mmn47_mixed.cnt', '/volume-ceph/DDP_projectfolder/dataset/17mnd mmn/001_17_jc_mmn36_slp_mmn25_slp_mmn47_slp_mmn58_slp.cnt', '/volume-ceph/DDP_projectfolder/dataset/17mnd mmn/008_17_jc_mmn2.cnt', '/volume-ceph/DDP_projectfolder/dataset/17mnd mmn/008_17_jc_mmn.cnt', '/volume-ceph/DDP_projectfolder/dataset/17mnd mmn/006_17_mc_mmn36_slp.cnt', '/volume-ceph/DDP_projectfolder/dataset/17mnd mmn/007_17_jc_mmn2.cnt', '/volume-ceph/DDP_projectfolder/dataset/23mnd mmn/103_23_mr_mmn36_wk_mmn25_wk_mmn47_wk_mmn58_wk.cnt', '/volume-ceph/DDP_projectfolder/dataset/23mnd mmn/114_23_jr_mmn36_wk_mmn25_wk.cnt', '/volume-ceph/DDP_projectfolder/dataset/23mnd mmn/107_23_mr_mmn36_wk_mmn25_wk.cnt', '/volume-ceph/DDP_projectfolder/dataset/23mnd mmn/102_23_jr_mmn36_wk_mmn25_wk.cnt', '/volume-ceph/DDP_projectfolder/dataset/23mnd mmn/115_23_mr_mmn36_wk_mmn25_wk.cnt', '/volume-ceph/DDP_projectfolder/dataset/23mnd mmn/104_23_jr_mmn36_slp_mmn25_slp_mmn47_slp.cnt', '/volume-ceph/DDP_projectfolder/dataset/23mnd mmn/108_23_jr_mmn36_wk_mmn25_wk.cnt', '/volume-ceph/DDP_projectfolder/dataset/23mnd mmn/126_23_mr_mmn36_slp_mmn25_slp_mmn47_slp_mmn58_slp.cnt', '/volume-ceph/DDP_projectfolder/dataset/23mnd mmn/105_23_mr_mmn36_wk_mmn25_wk.cnt', '/volume-ceph/DDP_projectfolder/dataset/23mnd mmn/109_23_jr_mmn36_wk.cnt', '/volume-ceph/DDP_projectfolder/dataset/23mnd mmn/118_23_mr_mmn36_wk_mmn25_wk.cnt', '/volume-ceph/DDP_projectfolder/dataset/23mnd mmn/110_23_jr_mmn36_wk_mmn25_wk.cnt', '/volume-ceph/DDP_projectfolder/dataset/23mnd mmn/122_23_jr_mmn36_wk_mmn25_wk.cnt', '/volume-ceph/DDP_projectfolder/dataset/23mnd mmn/401_23_jd_mmn.cnt', '/volume-ceph/DDP_projectfolder/dataset/23mnd mmn/401_23_jd_mmn_2.cnt', '/volume-ceph/DDP_projectfolder/dataset/23mnd mmn/702-071-23m-jr-mmn25.cnt', '/volume-ceph/DDP_projectfolder/dataset/23mnd mmn/702-074-23m-jr-mmn36.cnt', '/volume-ceph/DDP_projectfolder/dataset/23mnd mmn/702-071-23m-jr-mmn36.cnt', '/volume-ceph/DDP_projectfolder/dataset/23mnd mmn/702-074-23m-jr-mmn25.cnt', '/volume-ceph/DDP_projectfolder/dataset/23mnd mmn/703-026-23m-mr-mmn.cnt', '/volume-ceph/DDP_projectfolder/dataset/23mnd mmn/710-078-23m-jr-mmn36.cnt', '/volume-ceph/DDP_projectfolder/dataset/23mnd mmn/710-078-23m-jr-mmn25.cnt', '/volume-ceph/DDP_projectfolder/dataset/23mnd mmn/710-078-23m-jr-mmn36_2.cnt', '/volume-ceph/DDP_projectfolder/dataset/23mnd mmn/705-050-23m-jr-mmn.cnt', '/volume-ceph/DDP_projectfolder/dataset/23mnd mmn/704-032-23m-jr-mmn.cnt', '/volume-ceph/DDP_projectfolder/dataset/23mnd mmn/709-078-23m-jr-mmn.cnt', '/volume-ceph/DDP_projectfolder/dataset/23mnd mmn/719-079-6m-jr-mmn-rst.cnt', '/volume-ceph/DDP_projectfolder/dataset/23mnd mmn/737-219-6m-jr-mmn-slp.cnt', '/volume-ceph/DDP_projectfolder/dataset/23mnd mmn/737-219-6m-jr-mmn2-rst.cnt', '/volume-ceph/DDP_projectfolder/dataset/23mnd mmn/719-079-6m-jr-mmn-slp.cnt', '/volume-ceph/DDP_projectfolder/dataset/23mnd mmn/002_23_jc_mmn36_wk_mmn25.cnt', '/volume-ceph/DDP_projectfolder/dataset/23mnd mmn/003_23_jc_mmn36_wk_mmn25_wk.cnt', '/volume-ceph/DDP_projectfolder/dataset/23mnd mmn/001_23_jc_mmn36_wk_mmn25_wk.cnt', '/volume-ceph/DDP_projectfolder/dataset/29mnd mmn/103_29_mr_mmn36_wk_mmn25_wk_mmn47_wk.cnt', '/volume-ceph/DDP_projectfolder/dataset/29mnd mmn/101_29_jr_mmn36_wk.cnt', '/volume-ceph/DDP_projectfolder/dataset/29mnd mmn/101_29_jr_mmn25_wk.cnt', '/volume-ceph/DDP_projectfolder/dataset/29mnd mmn/453_29_jd_mmn36_wk.cnt', '/volume-ceph/DDP_projectfolder/dataset/29mnd mmn/701-008-29m-jr-mmn.cnt', '/volume-ceph/DDP_projectfolder/dataset/29mnd mmn/701-008-29m-jr-mmn_25.cnt', '/volume-ceph/DDP_projectfolder/dataset/29mnd mmn/001_29_jc_mmn.cnt']\n"
     ]
    }
   ],
   "source": [
    "print(bad_list)"
   ]
  },
  {
   "cell_type": "code",
   "execution_count": 97,
   "id": "abca50f9-4bb0-422c-9a11-9d36edbc3cd4",
   "metadata": {},
   "outputs": [],
   "source": [
    "pre_white_list = set(list_all_old_files) - set(bad_list)"
   ]
  },
  {
   "cell_type": "markdown",
   "id": "ab1f8c49-79b8-4fd5-b9af-c7216f15aea7",
   "metadata": {},
   "source": [
    "# now we have to look for the samples where data section / nchannels  doesn't equal 2 or 4; we have to get rid of those too"
   ]
  },
  {
   "cell_type": "code",
   "execution_count": null,
   "id": "ead52197-0932-4a2b-b9a2-8b49de584727",
   "metadata": {},
   "outputs": [],
   "source": [
    "def _compute_robust_event_table_position(fid, data_format='int32'):\n",
    "    \"\"\"\n",
    "    Reworked off MNE code\n",
    "    Compute `event_table_position`.\n",
    "    When recording event_table_position is computed (as accomulation). If the\n",
    "    file recording is large then this value overflows and ends up pointing\n",
    "    somewhere else. (SEE #gh-6535)\n",
    "    If the file is smaller than 2G the value in the SETUP is returned.\n",
    "    Otherwise, the address of the table position is computed from:\n",
    "    n_samples, n_channels, and the bytes size.\n",
    "    \"\"\"\n",
    "    SETUP_NCHANNELS_OFFSET = 370\n",
    "    SETUP_NSAMPLES_OFFSET = 864\n",
    "    SETUP_EVENTTABLEPOS_OFFSET = 886\n",
    "\n",
    "    fid_origin = fid.tell()  # save the state\n",
    "\n",
    "    if fid.seek(0, SEEK_END) < 2e9:\n",
    "\n",
    "        fid.seek(SETUP_EVENTTABLEPOS_OFFSET)\n",
    "        (event_table_pos,) = np.frombuffer(fid.read(4), dtype='<i4')\n",
    "\n",
    "    else:\n",
    "        if data_format == 'auto':\n",
    "            \n",
    "        n_bytes = 2 if data_format == 'int16' else 4\n",
    "\n",
    "        fid.seek(SETUP_NSAMPLES_OFFSET)\n",
    "        (n_samples,) = np.frombuffer(fid.read(4), dtype='<i4')\n",
    "\n",
    "        fid.seek(SETUP_NCHANNELS_OFFSET)\n",
    "        (n_channels,) = np.frombuffer(fid.read(2), dtype='<u2')\n",
    "\n",
    "        event_table_pos = (900 +\n",
    "                           75 * int(n_channels) +\n",
    "                           n_bytes * int(n_channels) * int(n_samples))\n",
    "\n",
    "    fid.seek(fid_origin)  # restore the state\n",
    "    return event_table_pos\n",
    "# must reproduce from cnt the part where it then gets values from it"
   ]
  },
  {
   "cell_type": "code",
   "execution_count": null,
   "id": "6cf79eb5-815f-4868-aba7-d27f85ae45de",
   "metadata": {},
   "outputs": [],
   "source": []
  },
  {
   "cell_type": "code",
   "execution_count": 10,
   "id": "f869826f-0b7b-4dda-bbe9-c3c6dc228f71",
   "metadata": {},
   "outputs": [],
   "source": [
    "def read_raw_agnostic(fname, int_arg):\n",
    "    \"\"\"\n",
    "    For testing purposes\n",
    "    \"\"\"\n",
    "    \n",
    "    cnt_read_args = {\n",
    "        'eog': 'auto',\n",
    "        'data_format': int_arg,\n",
    "        'date_format': 'dd/mm/yy',\n",
    "        'verbose': False,\n",
    "    }\n",
    "    read = mne.io.read_raw_cnt(\n",
    "            fname,\n",
    "            data_format=int_arg,\n",
    "            preload=True,\n",
    "            \n",
    "        )\n",
    "    return read"
   ]
  },
  {
   "cell_type": "code",
   "execution_count": 45,
   "id": "57ba2d7d-fbfb-4cf5-9f73-d3c6f49d3b42",
   "metadata": {},
   "outputs": [],
   "source": [
    "def read_raw_info(fname):\n",
    "    # for file in acquired.raw.cnt_path:\n",
    "#      print(mne.utils.fill_doc(file))\n",
    "\n",
    "    \"\"\"\n",
    "    For testing purposes\n",
    "    \"\"\"\n",
    "    \n",
    "    cnt_read_args = {\n",
    "        'eog': 'auto',\n",
    "        'data_format': 'int16',\n",
    "        'date_format': 'dd/mm/yy',\n",
    "        'verbose': False,\n",
    "    }\n",
    "    read = mne.io.read_raw_cnt(\n",
    "            fname,\n",
    "            data_format='int16',\n",
    "            preload=True,\n",
    "            \n",
    "        )\n",
    "    info = read.info\n",
    "    return info"
   ]
  },
  {
   "cell_type": "code",
   "execution_count": 68,
   "id": "f3bb3f9f-1bdc-46c3-89d7-bfd530dbb275",
   "metadata": {},
   "outputs": [],
   "source": [
    "# what happens when we read in a cnt\n",
    "mne.io.read_raw_cnt?"
   ]
  },
  {
   "cell_type": "markdown",
   "id": "e90a7fd3-344d-4b8a-9dd0-3932264accf1",
   "metadata": {},
   "source": [
    "So we saw we want to numsamples field out of the metadata to tell us whetehr to read on int16 or int32"
   ]
  },
  {
   "cell_type": "code",
   "execution_count": 69,
   "id": "1ac1121e-a234-4388-a30f-7dee136c5d60",
   "metadata": {},
   "outputs": [],
   "source": [
    "# # is it in the info?, turns out no\n",
    "# info?"
   ]
  },
  {
   "cell_type": "code",
   "execution_count": 50,
   "id": "4c0ce14a-e35c-4bf9-ba76-f8a38d686d68",
   "metadata": {},
   "outputs": [
    {
     "data": {
      "text/plain": [
       "'/volume-ceph/DDP_projectfolder/dataset/11mnd mmn/027_11_jc_mmn25_wk.cnt'"
      ]
     },
     "execution_count": 50,
     "metadata": {},
     "output_type": "execute_result"
    }
   ],
   "source": [
    "acquired.raw.cnt_path.to_list()[1]"
   ]
  },
  {
   "cell_type": "code",
   "execution_count": 73,
   "id": "3bd02445-9871-406b-8f61-dc8b5f2bcf63",
   "metadata": {},
   "outputs": [
    {
     "name": "stdout",
     "output_type": "stream",
     "text": [
      "Reading 0 ... 368899  =      0.000 ...   737.798 secs...\n"
     ]
    },
    {
     "name": "stderr",
     "output_type": "stream",
     "text": [
      "/tmp/ipykernel_3942376/1524618096.py:15: RuntimeWarning:   Could not parse meas date from the header. Setting to None.\n",
      "  read = mne.io.read_raw_cnt(\n",
      "/tmp/ipykernel_3942376/278839607.py:8: RuntimeWarning:   Could not parse meas date from the header. Setting to None.\n",
      "  raw_file = mne.io.read_raw_cnt(acquired.raw.cnt_path.to_list()[2])\n",
      "/tmp/ipykernel_3942376/278839607.py:8: RuntimeWarning: Could not define the number of bytes automatically. Defaulting to 2.\n",
      "  raw_file = mne.io.read_raw_cnt(acquired.raw.cnt_path.to_list()[2])\n"
     ]
    }
   ],
   "source": [
    "\n",
    "info = read_raw_info(acquired.raw.cnt_path.to_list()[1])\n",
    "    \n",
    "    #love = mne.io.read_raw_cnt(file) #, data_format='int16')\n",
    "    #love.info\n",
    "#     with open(file, 'rb', buffering=0) as fid:\n",
    "        \n",
    "#         print(fid)\n",
    "raw_file = mne.io.read_raw_cnt(acquired.raw.cnt_path.to_list()[2])"
   ]
  },
  {
   "cell_type": "code",
   "execution_count": 81,
   "id": "caf0fa18-f53b-4ac3-9f3c-d3535d937901",
   "metadata": {},
   "outputs": [
    {
     "ename": "UnicodeDecodeError",
     "evalue": "'utf-8' codec can't decode byte 0xbd in position 13: invalid start byte",
     "output_type": "error",
     "traceback": [
      "\u001b[0;31m---------------------------------------------------------------------------\u001b[0m",
      "\u001b[0;31mUnicodeDecodeError\u001b[0m                        Traceback (most recent call last)",
      "Input \u001b[0;32mIn [81]\u001b[0m, in \u001b[0;36m<cell line: 1>\u001b[0;34m()\u001b[0m\n\u001b[1;32m      1\u001b[0m \u001b[38;5;28;01mwith\u001b[39;00m \u001b[38;5;28mopen\u001b[39m(acquired\u001b[38;5;241m.\u001b[39mraw\u001b[38;5;241m.\u001b[39mcnt_path\u001b[38;5;241m.\u001b[39mto_list()[\u001b[38;5;241m1\u001b[39m],\u001b[38;5;124m'\u001b[39m\u001b[38;5;124mr\u001b[39m\u001b[38;5;124m'\u001b[39m, encoding\u001b[38;5;241m=\u001b[39m\u001b[38;5;124m'\u001b[39m\u001b[38;5;124mutf-8\u001b[39m\u001b[38;5;124m'\u001b[39m) \u001b[38;5;28;01mas\u001b[39;00m f:\n\u001b[0;32m----> 3\u001b[0m     \u001b[38;5;28;01mfor\u001b[39;00m line \u001b[38;5;129;01min\u001b[39;00m f:\n\u001b[1;32m      5\u001b[0m         l\u001b[38;5;241m=\u001b[39mline\u001b[38;5;241m.\u001b[39mstrip()\n\u001b[1;32m      7\u001b[0m         \u001b[38;5;28mprint\u001b[39m(l)\n",
      "File \u001b[0;32m/usr/lib/python3.8/codecs.py:322\u001b[0m, in \u001b[0;36mBufferedIncrementalDecoder.decode\u001b[0;34m(self, input, final)\u001b[0m\n\u001b[1;32m    319\u001b[0m \u001b[38;5;28;01mdef\u001b[39;00m \u001b[38;5;21mdecode\u001b[39m(\u001b[38;5;28mself\u001b[39m, \u001b[38;5;28minput\u001b[39m, final\u001b[38;5;241m=\u001b[39m\u001b[38;5;28;01mFalse\u001b[39;00m):\n\u001b[1;32m    320\u001b[0m     \u001b[38;5;66;03m# decode input (taking the buffer into account)\u001b[39;00m\n\u001b[1;32m    321\u001b[0m     data \u001b[38;5;241m=\u001b[39m \u001b[38;5;28mself\u001b[39m\u001b[38;5;241m.\u001b[39mbuffer \u001b[38;5;241m+\u001b[39m \u001b[38;5;28minput\u001b[39m\n\u001b[0;32m--> 322\u001b[0m     (result, consumed) \u001b[38;5;241m=\u001b[39m \u001b[38;5;28;43mself\u001b[39;49m\u001b[38;5;241;43m.\u001b[39;49m\u001b[43m_buffer_decode\u001b[49m\u001b[43m(\u001b[49m\u001b[43mdata\u001b[49m\u001b[43m,\u001b[49m\u001b[43m \u001b[49m\u001b[38;5;28;43mself\u001b[39;49m\u001b[38;5;241;43m.\u001b[39;49m\u001b[43merrors\u001b[49m\u001b[43m,\u001b[49m\u001b[43m \u001b[49m\u001b[43mfinal\u001b[49m\u001b[43m)\u001b[49m\n\u001b[1;32m    323\u001b[0m     \u001b[38;5;66;03m# keep undecoded input until the next call\u001b[39;00m\n\u001b[1;32m    324\u001b[0m     \u001b[38;5;28mself\u001b[39m\u001b[38;5;241m.\u001b[39mbuffer \u001b[38;5;241m=\u001b[39m data[consumed:]\n",
      "\u001b[0;31mUnicodeDecodeError\u001b[0m: 'utf-8' codec can't decode byte 0xbd in position 13: invalid start byte"
     ]
    }
   ],
   "source": [
    "with open(acquired.raw.cnt_path.to_list()[1],'r', encoding='utf-8') as f:\n",
    "\n",
    "    for line in f:\n",
    "\n",
    "        l=line.strip()\n",
    "\n",
    "        print(l)"
   ]
  },
  {
   "cell_type": "code",
   "execution_count": null,
   "id": "87d1600b-1745-4dfb-8111-63ef26ec057a",
   "metadata": {},
   "outputs": [],
   "source": [
    "raw_df32 = read_on_32.to_data_frame()\n",
    "raw_df32.head()"
   ]
  },
  {
   "cell_type": "code",
   "execution_count": null,
   "id": "b89f3149-a300-4a7c-b537-73e2d4b9497d",
   "metadata": {},
   "outputs": [],
   "source": [
    "read_on_16 = read_raw_agnostic(paths_df.cnt_path[n], 'int16')\n",
    "raw_df16 = read_on_16.to_data_frame()\n",
    "raw_df16.head()"
   ]
  },
  {
   "cell_type": "code",
   "execution_count": null,
   "id": "cd91ff95-f335-46ff-99cc-33b0b02f4ee8",
   "metadata": {},
   "outputs": [],
   "source": [
    "# The big difference"
   ]
  },
  {
   "cell_type": "code",
   "execution_count": null,
   "id": "87ae0561-d8a6-4012-b556-48794cae77ae",
   "metadata": {},
   "outputs": [],
   "source": [
    "(raw_df32 -raw_df16).sum().sum()"
   ]
  },
  {
   "cell_type": "markdown",
   "id": "04b70c02-203c-4078-b5b4-bb633c1d190b",
   "metadata": {},
   "source": [
    "### Youch!"
   ]
  },
  {
   "cell_type": "markdown",
   "id": "f3d64110-7302-4ac5-bbd1-2c6ba0e136d0",
   "metadata": {},
   "source": [
    "So here we saw an example of how reading the same file on int32 and int16 will give us dramatically different results. We must know which we have when we use cnt files."
   ]
  },
  {
   "cell_type": "code",
   "execution_count": null,
   "id": "491d1328",
   "metadata": {},
   "outputs": [],
   "source": [
    "4*8"
   ]
  },
  {
   "cell_type": "code",
   "execution_count": null,
   "id": "705d3aaa",
   "metadata": {},
   "outputs": [],
   "source": []
  }
 ],
 "metadata": {
  "kernelspec": {
   "display_name": "Python 3 (ipykernel)",
   "language": "python",
   "name": "python3"
  },
  "language_info": {
   "codemirror_mode": {
    "name": "ipython",
    "version": 3
   },
   "file_extension": ".py",
   "mimetype": "text/x-python",
   "name": "python",
   "nbconvert_exporter": "python",
   "pygments_lexer": "ipython3",
   "version": "3.8.10"
  }
 },
 "nbformat": 4,
 "nbformat_minor": 5
}
