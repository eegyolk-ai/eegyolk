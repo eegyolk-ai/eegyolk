{
 "cells": [
  {
   "cell_type": "markdown",
   "id": "abbf610f",
   "metadata": {},
   "source": [
    "## White listed files"
   ]
  },
  {
   "cell_type": "markdown",
   "id": "ee0f4d8e",
   "metadata": {},
   "source": [
    "This notebook demonstrates that some files in the DDP dataset may be suitable for analysis. "
   ]
  },
  {
   "cell_type": "markdown",
   "id": "b1bead3e-3394-4abb-9034-31b7d01223a8",
   "metadata": {},
   "source": [
    "#### Imports"
   ]
  },
  {
   "cell_type": "code",
   "execution_count": 1,
   "id": "60c3e95b",
   "metadata": {},
   "outputs": [],
   "source": [
    "import mne      # toolbox for analyzing and visualizing EEG data\n",
    "import os       # using operating system dependent functionality (folders)\n",
    "import pandas   # data analysis and manipulation\n",
    "import numpy    # numerical computing (manipulating and performing operations on arrays of data)\n",
    "import copy     # Can Copy and Deepcopy files so original file is untouched.\n",
    "import glob\n",
    "import numpy as np\n",
    "import pandas as pd\n",
    "from numpy.fft import fft, fftfreq\n",
    "from scipy import signal\n",
    "\n",
    "import matplotlib\n",
    "import matplotlib.pyplot as plt\n",
    "\n",
    "from mne.time_frequency.tfr import morlet\n",
    "from mne.viz import plot_filter, plot_ideal_filter\n",
    "\n",
    "\n",
    "from IPython.display import clear_output\n",
    "import warnings\n",
    "\n",
    "import sys"
   ]
  },
  {
   "cell_type": "markdown",
   "id": "64ce797c",
   "metadata": {},
   "source": [
    "Below eegyolk is importted in it's most updated version\n",
    "But the cell could be replaced by importing the stable library and then importing the modules of it."
   ]
  },
  {
   "cell_type": "code",
   "execution_count": 2,
   "id": "98a2fe69-3757-4908-acab-30dd530e5236",
   "metadata": {},
   "outputs": [
    {
     "ename": "SyntaxError",
     "evalue": "invalid syntax (rawf.py, line 262)",
     "output_type": "error",
     "traceback": [
      "Traceback \u001b[0;36m(most recent call last)\u001b[0m:\n",
      "\u001b[0m  File \u001b[1;32m/usr/local/lib/python3.8/dist-packages/IPython/core/interactiveshell.py:3378\u001b[0m in \u001b[1;35mrun_code\u001b[0m\n    exec(code_obj, self.user_global_ns, self.user_ns)\u001b[0m\n",
      "\u001b[0;36m  Cell \u001b[0;32mIn [2], line 8\u001b[0;36m\n\u001b[0;31m    from rawf import RawData\u001b[0;36m\n",
      "\u001b[0;36m  File \u001b[0;32m~/eegyolk/reproducibility_experiments/../eegyolk/rawf.py:262\u001b[0;36m\u001b[0m\n\u001b[0;31m    'date_format': 'dd/mm/yy',\u001b[0m\n\u001b[0m                 ^\u001b[0m\n\u001b[0;31mSyntaxError\u001b[0m\u001b[0;31m:\u001b[0m invalid syntax\n"
     ]
    }
   ],
   "source": [
    "\n",
    "import sys\n",
    "sys.path.insert(0, '../eegyolk') # path to helper functions\n",
    "import helper_functions as hf # library useful for eeg and erp data cleaning\n",
    "#import initialization_functions #library to import data\n",
    "import epod_helper\n",
    "#import rawf\n",
    "from config import Config\n",
    "from rawf import RawData"
   ]
  },
  {
   "cell_type": "markdown",
   "id": "6440c41d-6c8c-47f4-875f-03383621c0fa",
   "metadata": {
    "tags": []
   },
   "source": [
    "#### Load EEG files\n",
    "Change your config file to change where data is coming from"
   ]
  },
  {
   "cell_type": "code",
   "execution_count": null,
   "id": "00f79347",
   "metadata": {},
   "outputs": [],
   "source": []
  },
  {
   "cell_type": "code",
   "execution_count": null,
   "id": "465d6498",
   "metadata": {},
   "outputs": [],
   "source": [
    "config = Config()\n"
   ]
  },
  {
   "cell_type": "code",
   "execution_count": null,
   "id": "b14b1ea8-f353-4501-a7ed-af81a62dadbf",
   "metadata": {},
   "outputs": [],
   "source": [
    "#glob.glob(data_file_directory)"
   ]
  },
  {
   "cell_type": "code",
   "execution_count": null,
   "id": "dc05ec24",
   "metadata": {},
   "outputs": [],
   "source": [
    "#eeg_file_root = \"../../volume-ceph/ePodium_projectfolder\"\n",
    "acquired = RawData(config.get_directory('data'), config.get_directory('metadata'))"
   ]
  },
  {
   "cell_type": "markdown",
   "id": "77916f8c",
   "metadata": {},
   "source": [
    "Note we assume you are looking at cnt files"
   ]
  },
  {
   "cell_type": "code",
   "execution_count": null,
   "id": "3f789d2b-c2aa-4b5a-9d25-b42162ad5b82",
   "metadata": {},
   "outputs": [],
   "source": [
    "acquired.raw.head()"
   ]
  },
  {
   "cell_type": "markdown",
   "id": "06855093-7a61-4af2-9628-87426529fcf0",
   "metadata": {},
   "source": [
    "Now we can make a list of all the files."
   ]
  },
  {
   "cell_type": "code",
   "execution_count": null,
   "id": "b9f8a25f-9bf4-4f07-86e0-62db211d5355",
   "metadata": {},
   "outputs": [],
   "source": [
    "\n",
    "import logging\n",
    "import struct\n",
    "import sys\n",
    "\n",
    "from glob import glob"
   ]
  },
  {
   "cell_type": "code",
   "execution_count": null,
   "id": "42939ea6-8727-4737-bf8a-1ed14e9762a0",
   "metadata": {},
   "outputs": [],
   "source": [
    "# range(len(acquired.raw))"
   ]
  },
  {
   "cell_type": "code",
   "execution_count": null,
   "id": "8790d953-0424-4238-90c2-5c089b840c63",
   "metadata": {},
   "outputs": [],
   "source": [
    "list_all_old_files = []\n",
    "for n in range(len(acquired.raw)):\n",
    "    list_all_old_files.append(acquired.raw.cnt_path.to_list()[n])"
   ]
  },
  {
   "cell_type": "code",
   "execution_count": null,
   "id": "4fbd15b1-afe0-4d24-9cc1-82322d319b31",
   "metadata": {},
   "outputs": [],
   "source": [
    "def find_nsamples(fd):\n",
    "    fd.seek(864)\n",
    "    return struct.unpack('<i', fd.read(4))[0]\n",
    "\n",
    "def main(list_of_files):\n",
    "    expanded, had_errors = [], False\n",
    "    # for p in list_of_files:\n",
    "    #     expanded.extend(glob(p))\n",
    "    for ef in list_of_files: # expanded:\n",
    "        try:\n",
    "            with open(ef, 'rb', buffering=0) as f:\n",
    "                print(ef, find_nsamples(f))\n",
    "        except Exception as e:\n",
    "            had_errors = True\n",
    "            logging.error('Error reading file %s', ef)\n",
    "            logging.exception(e)\n",
    "    return 1 if had_errors else 0\n",
    "\n",
    "def check_if_numsamples(file):\n",
    "    try:\n",
    "        with open(file, 'rb') as fd:\n",
    "            fd.seek(864)\n",
    "            \n",
    "            return struct.unpack('<i', fd.read(4))[0]\n",
    "    except:\n",
    "        return 0\n"
   ]
  },
  {
   "cell_type": "code",
   "execution_count": null,
   "id": "0bb956f4-77d4-46a2-82fe-0414d9aae38e",
   "metadata": {},
   "outputs": [],
   "source": [
    "bad_list = []\n",
    "for file in list_all_old_files:\n",
    "    if check_if_numsamples(file) == 0:\n",
    "        bad_list.append(file)"
   ]
  },
  {
   "cell_type": "code",
   "execution_count": null,
   "id": "05897275-dffc-40a2-9873-d6c55dba6955",
   "metadata": {},
   "outputs": [],
   "source": [
    "len(bad_list)/ len(list_all_old_files)"
   ]
  },
  {
   "cell_type": "code",
   "execution_count": null,
   "id": "41bb60aa-aca0-4192-9f5c-b3e157d6c94f",
   "metadata": {},
   "outputs": [],
   "source": [
    "print(bad_list)"
   ]
  },
  {
   "cell_type": "code",
   "execution_count": null,
   "id": "abca50f9-4bb0-422c-9a11-9d36edbc3cd4",
   "metadata": {},
   "outputs": [],
   "source": [
    "pre_white_list = set(list_all_old_files) - set(bad_list)"
   ]
  },
  {
   "cell_type": "markdown",
   "id": "ab1f8c49-79b8-4fd5-b9af-c7216f15aea7",
   "metadata": {},
   "source": [
    "# now we have to look for the samples where data section / nchannels  doesn't equal 2 or 4; we have to get rid of those too"
   ]
  },
  {
   "cell_type": "code",
   "execution_count": null,
   "id": "ead52197-0932-4a2b-b9a2-8b49de584727",
   "metadata": {},
   "outputs": [],
   "source": [
    "def _compute_robust_event_table_position(fid, data_format='int32'):\n",
    "    \"\"\"\n",
    "    Reworked off MNE code\n",
    "    Compute `event_table_position`.\n",
    "    When recording event_table_position is computed (as accomulation). If the\n",
    "    file recording is large then this value overflows and ends up pointing\n",
    "    somewhere else. (SEE #gh-6535)\n",
    "    If the file is smaller than 2G the value in the SETUP is returned.\n",
    "    Otherwise, the address of the table position is computed from:\n",
    "    n_samples, n_channels, and the bytes size.\n",
    "    \"\"\"\n",
    "    SETUP_NCHANNELS_OFFSET = 370\n",
    "    SETUP_NSAMPLES_OFFSET = 864\n",
    "    SETUP_EVENTTABLEPOS_OFFSET = 886\n",
    "\n",
    "    fid_origin = fid.tell()  # save the state\n",
    "\n",
    "    if fid.seek(0, SEEK_END) < 2e9:\n",
    "\n",
    "        fid.seek(SETUP_EVENTTABLEPOS_OFFSET)\n",
    "        (event_table_pos,) = np.frombuffer(fid.read(4), dtype='<i4')\n",
    "\n",
    "    else:\n",
    "        if data_format == 'auto':\n",
    "            \n",
    "        n_bytes = 2 if data_format == 'int16' else 4\n",
    "\n",
    "        fid.seek(SETUP_NSAMPLES_OFFSET)\n",
    "        (n_samples,) = np.frombuffer(fid.read(4), dtype='<i4')\n",
    "\n",
    "        fid.seek(SETUP_NCHANNELS_OFFSET)\n",
    "        (n_channels,) = np.frombuffer(fid.read(2), dtype='<u2')\n",
    "\n",
    "        event_table_pos = (900 +\n",
    "                           75 * int(n_channels) +\n",
    "                           n_bytes * int(n_channels) * int(n_samples))\n",
    "\n",
    "    fid.seek(fid_origin)  # restore the state\n",
    "    return event_table_pos\n",
    "# must reproduce from cnt the part where it then gets values from it"
   ]
  },
  {
   "cell_type": "code",
   "execution_count": null,
   "id": "6cf79eb5-815f-4868-aba7-d27f85ae45de",
   "metadata": {},
   "outputs": [],
   "source": []
  },
  {
   "cell_type": "code",
   "execution_count": null,
   "id": "f869826f-0b7b-4dda-bbe9-c3c6dc228f71",
   "metadata": {},
   "outputs": [],
   "source": [
    "def read_raw_agnostic(fname, int_arg):\n",
    "    \"\"\"\n",
    "    For testing purposes\n",
    "    \"\"\"\n",
    "    \n",
    "    cnt_read_args = {\n",
    "        'eog': 'auto',\n",
    "        'data_format': int_arg,\n",
    "        'date_format': 'dd/mm/yy',\n",
    "        'verbose': False,\n",
    "    }\n",
    "    read = mne.io.read_raw_cnt(\n",
    "            fname,\n",
    "            data_format=int_arg,\n",
    "            preload=True,\n",
    "            \n",
    "        )\n",
    "    return read"
   ]
  },
  {
   "cell_type": "code",
   "execution_count": null,
   "id": "57ba2d7d-fbfb-4cf5-9f73-d3c6f49d3b42",
   "metadata": {},
   "outputs": [],
   "source": [
    "def read_raw_info(fname):\n",
    "    # for file in acquired.raw.cnt_path:\n",
    "#      print(mne.utils.fill_doc(file))\n",
    "\n",
    "    \"\"\"\n",
    "    For testing purposes\n",
    "    \"\"\"\n",
    "    \n",
    "    cnt_read_args = {\n",
    "        'eog': 'auto',\n",
    "        'data_format': 'int16',\n",
    "        'date_format': 'dd/mm/yy',\n",
    "        'verbose': False,\n",
    "    }\n",
    "    read = mne.io.read_raw_cnt(\n",
    "            fname,\n",
    "            data_format='int16',\n",
    "            preload=True,\n",
    "            \n",
    "        )\n",
    "    info = read.info\n",
    "    return info"
   ]
  },
  {
   "cell_type": "code",
   "execution_count": null,
   "id": "f3bb3f9f-1bdc-46c3-89d7-bfd530dbb275",
   "metadata": {},
   "outputs": [],
   "source": [
    "# what happens when we read in a cnt\n",
    "mne.io.read_raw_cnt?"
   ]
  },
  {
   "cell_type": "markdown",
   "id": "e90a7fd3-344d-4b8a-9dd0-3932264accf1",
   "metadata": {},
   "source": [
    "So we saw we want to numsamples field out of the metadata to tell us whetehr to read on int16 or int32"
   ]
  },
  {
   "cell_type": "code",
   "execution_count": null,
   "id": "1ac1121e-a234-4388-a30f-7dee136c5d60",
   "metadata": {},
   "outputs": [],
   "source": [
    "# # is it in the info?, turns out no\n",
    "# info?"
   ]
  },
  {
   "cell_type": "code",
   "execution_count": null,
   "id": "4c0ce14a-e35c-4bf9-ba76-f8a38d686d68",
   "metadata": {},
   "outputs": [],
   "source": [
    "acquired.raw.cnt_path.to_list()[1]"
   ]
  },
  {
   "cell_type": "code",
   "execution_count": null,
   "id": "3bd02445-9871-406b-8f61-dc8b5f2bcf63",
   "metadata": {},
   "outputs": [],
   "source": [
    "\n",
    "info = read_raw_info(acquired.raw.cnt_path.to_list()[1])\n",
    "    \n",
    "    #love = mne.io.read_raw_cnt(file) #, data_format='int16')\n",
    "    #love.info\n",
    "#     with open(file, 'rb', buffering=0) as fid:\n",
    "        \n",
    "#         print(fid)\n",
    "raw_file = mne.io.read_raw_cnt(acquired.raw.cnt_path.to_list()[2])"
   ]
  },
  {
   "cell_type": "code",
   "execution_count": null,
   "id": "caf0fa18-f53b-4ac3-9f3c-d3535d937901",
   "metadata": {},
   "outputs": [],
   "source": [
    "with open(acquired.raw.cnt_path.to_list()[1],'r', encoding='utf-8') as f:\n",
    "\n",
    "    for line in f:\n",
    "\n",
    "        l=line.strip()\n",
    "\n",
    "        print(l)"
   ]
  },
  {
   "cell_type": "code",
   "execution_count": null,
   "id": "87d1600b-1745-4dfb-8111-63ef26ec057a",
   "metadata": {},
   "outputs": [],
   "source": [
    "raw_df32 = read_on_32.to_data_frame()\n",
    "raw_df32.head()"
   ]
  },
  {
   "cell_type": "code",
   "execution_count": null,
   "id": "b89f3149-a300-4a7c-b537-73e2d4b9497d",
   "metadata": {},
   "outputs": [],
   "source": [
    "read_on_16 = read_raw_agnostic(paths_df.cnt_path[n], 'int16')\n",
    "raw_df16 = read_on_16.to_data_frame()\n",
    "raw_df16.head()"
   ]
  },
  {
   "cell_type": "code",
   "execution_count": null,
   "id": "cd91ff95-f335-46ff-99cc-33b0b02f4ee8",
   "metadata": {},
   "outputs": [],
   "source": [
    "# The big difference"
   ]
  },
  {
   "cell_type": "code",
   "execution_count": null,
   "id": "87ae0561-d8a6-4012-b556-48794cae77ae",
   "metadata": {},
   "outputs": [],
   "source": [
    "(raw_df32 -raw_df16).sum().sum()"
   ]
  },
  {
   "cell_type": "markdown",
   "id": "04b70c02-203c-4078-b5b4-bb633c1d190b",
   "metadata": {},
   "source": [
    "### Youch!"
   ]
  },
  {
   "cell_type": "markdown",
   "id": "f3d64110-7302-4ac5-bbd1-2c6ba0e136d0",
   "metadata": {},
   "source": [
    "So here we saw an example of how reading the same file on int32 and int16 will give us dramatically different results. We must know which we have when we use cnt files."
   ]
  },
  {
   "cell_type": "code",
   "execution_count": null,
   "id": "491d1328",
   "metadata": {},
   "outputs": [],
   "source": [
    "4*8"
   ]
  },
  {
   "cell_type": "code",
   "execution_count": null,
   "id": "705d3aaa",
   "metadata": {},
   "outputs": [],
   "source": []
  }
 ],
 "metadata": {
  "kernelspec": {
   "display_name": "Python 3 (ipykernel)",
   "language": "python",
   "name": "python3"
  },
  "language_info": {
   "codemirror_mode": {
    "name": "ipython",
    "version": 3
   },
   "file_extension": ".py",
   "mimetype": "text/x-python",
   "name": "python",
   "nbconvert_exporter": "python",
   "pygments_lexer": "ipython3",
   "version": "3.8.10"
  }
 },
 "nbformat": 4,
 "nbformat_minor": 5
}
