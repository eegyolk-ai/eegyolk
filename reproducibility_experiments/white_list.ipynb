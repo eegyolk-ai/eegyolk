{
 "cells": [
  {
   "cell_type": "markdown",
   "id": "abbf610f",
   "metadata": {},
   "source": [
    "## White listed files"
   ]
  },
  {
   "cell_type": "markdown",
   "id": "ee0f4d8e",
   "metadata": {},
   "source": [
    "This notebook demonstrates that some files in the DDP dataset may be suitable for analysis. "
   ]
  },
  {
   "cell_type": "markdown",
   "id": "b1bead3e-3394-4abb-9034-31b7d01223a8",
   "metadata": {},
   "source": [
    "#### Imports"
   ]
  },
  {
   "cell_type": "code",
   "execution_count": 1,
   "id": "60c3e95b",
   "metadata": {},
   "outputs": [],
   "source": [
    "import mne      # toolbox for analyzing and visualizing EEG data\n",
    "import os       # using operating system dependent functionality (folders)\n",
    "import pandas   # data analysis and manipulation\n",
    "import numpy    # numerical computing (manipulating and performing operations on arrays of data)\n",
    "import copy     # Can Copy and Deepcopy files so original file is untouched.\n",
    "import glob\n",
    "import numpy as np\n",
    "import pandas as pd\n",
    "from numpy.fft import fft, fftfreq\n",
    "from scipy import signal\n",
    "\n",
    "import matplotlib\n",
    "import matplotlib.pyplot as plt\n",
    "\n",
    "from mne.time_frequency.tfr import morlet\n",
    "from mne.viz import plot_filter, plot_ideal_filter\n",
    "\n",
    "\n",
    "from IPython.display import clear_output\n",
    "import warnings\n",
    "\n",
    "import sys"
   ]
  },
  {
   "cell_type": "markdown",
   "id": "64ce797c",
   "metadata": {},
   "source": [
    "Below eegyolk is importted in it's most updated version\n",
    "But the cell could be replaced by importing the stable library and then importing the modules of it."
   ]
  },
  {
   "cell_type": "code",
   "execution_count": 2,
   "id": "98a2fe69-3757-4908-acab-30dd530e5236",
   "metadata": {},
   "outputs": [],
   "source": [
    "\n",
    "import sys\n",
    "sys.path.insert(0, '../eegyolk') # path to helper functions\n",
    "import helper_functions as hf # library useful for eeg and erp data cleaning\n",
    "#import initialization_functions #library to import data\n",
    "import epod_helper\n",
    "import rawf\n",
    "from config import Config\n",
    "from rawf import RawData"
   ]
  },
  {
   "cell_type": "markdown",
   "id": "6440c41d-6c8c-47f4-875f-03383621c0fa",
   "metadata": {
    "tags": []
   },
   "source": [
    "#### Load EEG files\n",
    "Change your config file to change where data is coming from"
   ]
  },
  {
   "cell_type": "code",
   "execution_count": null,
   "id": "00f79347",
   "metadata": {},
   "outputs": [],
   "source": []
  },
  {
   "cell_type": "code",
   "execution_count": 3,
   "id": "465d6498",
   "metadata": {},
   "outputs": [],
   "source": [
    "config = Config()\n"
   ]
  },
  {
   "cell_type": "code",
   "execution_count": 4,
   "id": "a7f19e59-d81d-4a6c-bf40-2af21b57420f",
   "metadata": {},
   "outputs": [],
   "source": [
    "# data_file_directory = config.get_directory('data')\n",
    "# data_file_directory"
   ]
  },
  {
   "cell_type": "code",
   "execution_count": 5,
   "id": "e8ab3feb-8806-4af3-925c-65cfb1e972d8",
   "metadata": {},
   "outputs": [],
   "source": [
    "# files = glob.glob('/volume-ceph/DDP_projectfolder/*.cnt', \n",
    "#                    recursive = True)\n",
    "# print(files)"
   ]
  },
  {
   "cell_type": "code",
   "execution_count": 6,
   "id": "40ff9c3c-18a0-4c66-96f5-f5729fba805f",
   "metadata": {},
   "outputs": [],
   "source": [
    "# print('\\nNamed with wildcard *:')\n",
    "# for name in glob.glob(os.path.join(data_file_directory, '/*'):\n",
    "#     print(name)"
   ]
  },
  {
   "cell_type": "code",
   "execution_count": 7,
   "id": "b14b1ea8-f353-4501-a7ed-af81a62dadbf",
   "metadata": {},
   "outputs": [],
   "source": [
    "#glob.glob(data_file_directory)"
   ]
  },
  {
   "cell_type": "code",
   "execution_count": 13,
   "id": "dc05ec24",
   "metadata": {},
   "outputs": [],
   "source": [
    "#eeg_file_root = \"../../volume-ceph/ePodium_projectfolder\"\n",
    "acquired = RawData(config.get_directory('data'), config.get_directory('metadata'))"
   ]
  },
  {
   "cell_type": "markdown",
   "id": "77916f8c",
   "metadata": {},
   "source": [
    "Note we assume you are looking at cnt files"
   ]
  },
  {
   "cell_type": "code",
   "execution_count": 14,
   "id": "3f789d2b-c2aa-4b5a-9d25-b42162ad5b82",
   "metadata": {},
   "outputs": [
    {
     "data": {
      "text/html": [
       "<div>\n",
       "<style scoped>\n",
       "    .dataframe tbody tr th:only-of-type {\n",
       "        vertical-align: middle;\n",
       "    }\n",
       "\n",
       "    .dataframe tbody tr th {\n",
       "        vertical-align: top;\n",
       "    }\n",
       "\n",
       "    .dataframe thead th {\n",
       "        text-align: right;\n",
       "    }\n",
       "</style>\n",
       "<table border=\"1\" class=\"dataframe\">\n",
       "  <thead>\n",
       "    <tr style=\"text-align: right;\">\n",
       "      <th></th>\n",
       "      <th>code</th>\n",
       "      <th>cnt_path</th>\n",
       "      <th>cnt_file</th>\n",
       "      <th>age_group</th>\n",
       "      <th>age_days</th>\n",
       "      <th>age_months</th>\n",
       "      <th>age_years</th>\n",
       "    </tr>\n",
       "  </thead>\n",
       "  <tbody>\n",
       "    <tr>\n",
       "      <th>0</th>\n",
       "      <td>35</td>\n",
       "      <td>/volume-ceph/DDP_projectfolder/dataset/11mnd m...</td>\n",
       "      <td>035_11_jc_mmn36_slp_mmn25_slp</td>\n",
       "      <td>11</td>\n",
       "      <td>331.0</td>\n",
       "      <td>11.033333</td>\n",
       "      <td>0.919444</td>\n",
       "    </tr>\n",
       "    <tr>\n",
       "      <th>1</th>\n",
       "      <td>27</td>\n",
       "      <td>/volume-ceph/DDP_projectfolder/dataset/11mnd m...</td>\n",
       "      <td>027_11_jc_mmn25_wk</td>\n",
       "      <td>11</td>\n",
       "      <td>326.0</td>\n",
       "      <td>10.866667</td>\n",
       "      <td>0.905556</td>\n",
       "    </tr>\n",
       "    <tr>\n",
       "      <th>2</th>\n",
       "      <td>25</td>\n",
       "      <td>/volume-ceph/DDP_projectfolder/dataset/11mnd m...</td>\n",
       "      <td>025_11_mc_mmn36_wk</td>\n",
       "      <td>11</td>\n",
       "      <td>360.0</td>\n",
       "      <td>12.000000</td>\n",
       "      <td>1.000000</td>\n",
       "    </tr>\n",
       "    <tr>\n",
       "      <th>3</th>\n",
       "      <td>35</td>\n",
       "      <td>/volume-ceph/DDP_projectfolder/dataset/11mnd m...</td>\n",
       "      <td>035_11_jc_mmn36slp_mmn25_slp_2</td>\n",
       "      <td>11</td>\n",
       "      <td>331.0</td>\n",
       "      <td>11.033333</td>\n",
       "      <td>0.919444</td>\n",
       "    </tr>\n",
       "    <tr>\n",
       "      <th>4</th>\n",
       "      <td>30</td>\n",
       "      <td>/volume-ceph/DDP_projectfolder/dataset/11mnd m...</td>\n",
       "      <td>030_11_jc_mmn36_wk_mmn25_wk</td>\n",
       "      <td>11</td>\n",
       "      <td>328.0</td>\n",
       "      <td>10.933333</td>\n",
       "      <td>0.911111</td>\n",
       "    </tr>\n",
       "  </tbody>\n",
       "</table>\n",
       "</div>"
      ],
      "text/plain": [
       "   code                                           cnt_path  \\\n",
       "0    35  /volume-ceph/DDP_projectfolder/dataset/11mnd m...   \n",
       "1    27  /volume-ceph/DDP_projectfolder/dataset/11mnd m...   \n",
       "2    25  /volume-ceph/DDP_projectfolder/dataset/11mnd m...   \n",
       "3    35  /volume-ceph/DDP_projectfolder/dataset/11mnd m...   \n",
       "4    30  /volume-ceph/DDP_projectfolder/dataset/11mnd m...   \n",
       "\n",
       "                         cnt_file  age_group  age_days  age_months  age_years  \n",
       "0   035_11_jc_mmn36_slp_mmn25_slp         11     331.0   11.033333   0.919444  \n",
       "1              027_11_jc_mmn25_wk         11     326.0   10.866667   0.905556  \n",
       "2              025_11_mc_mmn36_wk         11     360.0   12.000000   1.000000  \n",
       "3  035_11_jc_mmn36slp_mmn25_slp_2         11     331.0   11.033333   0.919444  \n",
       "4     030_11_jc_mmn36_wk_mmn25_wk         11     328.0   10.933333   0.911111  "
      ]
     },
     "execution_count": 14,
     "metadata": {},
     "output_type": "execute_result"
    }
   ],
   "source": [
    "acquired.raw.head()"
   ]
  },
  {
   "cell_type": "markdown",
   "id": "06855093-7a61-4af2-9628-87426529fcf0",
   "metadata": {},
   "source": [
    "Now we used the default settings above, let's just switch the settings and compare"
   ]
  },
  {
   "cell_type": "code",
   "execution_count": 10,
   "id": "f869826f-0b7b-4dda-bbe9-c3c6dc228f71",
   "metadata": {},
   "outputs": [],
   "source": [
    "def read_raw_agnostic(fname, int_arg):\n",
    "    \"\"\"\n",
    "    For testing purposes\n",
    "    \"\"\"\n",
    "    \n",
    "    cnt_read_args = {\n",
    "        'eog': 'auto',\n",
    "        'data_format': int_arg,\n",
    "        'date_format': 'dd/mm/yy',\n",
    "        'verbose': False,\n",
    "    }\n",
    "    read = mne.io.read_raw_cnt(\n",
    "            fname,\n",
    "            data_format=int_arg,\n",
    "            preload=True,\n",
    "            \n",
    "        )\n",
    "    return read"
   ]
  },
  {
   "cell_type": "code",
   "execution_count": 22,
   "id": "0cec7c17-c2c3-475d-9a3e-0221ab7ec2bc",
   "metadata": {},
   "outputs": [],
   "source": [
    "# for file in acquired.raw.cnt_path:\n",
    "#      print(mne.utils.fill_doc(file))"
   ]
  },
  {
   "cell_type": "code",
   "execution_count": 24,
   "id": "3bd02445-9871-406b-8f61-dc8b5f2bcf63",
   "metadata": {},
   "outputs": [
    {
     "ename": "AttributeError",
     "evalue": "module 'mne.io' has no attribute '_read_annotations_cnt'",
     "output_type": "error",
     "traceback": [
      "\u001b[0;31m---------------------------------------------------------------------------\u001b[0m",
      "\u001b[0;31mAttributeError\u001b[0m                            Traceback (most recent call last)",
      "Input \u001b[0;32mIn [24]\u001b[0m, in \u001b[0;36m<cell line: 1>\u001b[0;34m()\u001b[0m\n\u001b[1;32m      1\u001b[0m \u001b[38;5;28;01mfor\u001b[39;00m file \u001b[38;5;129;01min\u001b[39;00m acquired\u001b[38;5;241m.\u001b[39mraw\u001b[38;5;241m.\u001b[39mcnt_path:\n\u001b[0;32m----> 2\u001b[0m      love \u001b[38;5;241m=\u001b[39m \u001b[43mmne\u001b[49m\u001b[38;5;241;43m.\u001b[39;49m\u001b[43mio\u001b[49m\u001b[38;5;241;43m.\u001b[39;49m\u001b[43m_read_annotations_cnt\u001b[49m(file, data_format\u001b[38;5;241m=\u001b[39m\u001b[38;5;124m'\u001b[39m\u001b[38;5;124mint16\u001b[39m\u001b[38;5;124m'\u001b[39m)\n",
      "\u001b[0;31mAttributeError\u001b[0m: module 'mne.io' has no attribute '_read_annotations_cnt'"
     ]
    }
   ],
   "source": [
    "for file in acquired.raw.cnt_path:\n",
    "     love = mne.io._read_annotations_cnt(file, data_format='int16')"
   ]
  },
  {
   "cell_type": "code",
   "execution_count": 16,
   "id": "17e0fbff-7754-4100-80ab-3b2bd044c137",
   "metadata": {},
   "outputs": [
    {
     "ename": "NameError",
     "evalue": "name 'paths_df' is not defined",
     "output_type": "error",
     "traceback": [
      "\u001b[0;31m---------------------------------------------------------------------------\u001b[0m",
      "\u001b[0;31mNameError\u001b[0m                                 Traceback (most recent call last)",
      "Input \u001b[0;32mIn [16]\u001b[0m, in \u001b[0;36m<cell line: 1>\u001b[0;34m()\u001b[0m\n\u001b[0;32m----> 1\u001b[0m read_on_32 \u001b[38;5;241m=\u001b[39m read_raw_agnostic(\u001b[43mpaths_df\u001b[49m\u001b[38;5;241m.\u001b[39mcnt_path[n], \u001b[38;5;124m'\u001b[39m\u001b[38;5;124mint32\u001b[39m\u001b[38;5;124m'\u001b[39m)\n",
      "\u001b[0;31mNameError\u001b[0m: name 'paths_df' is not defined"
     ]
    }
   ],
   "source": [
    "read_on_32 = read_raw_agnostic(paths_df.cnt_path[n], 'int32')\n"
   ]
  },
  {
   "cell_type": "code",
   "execution_count": null,
   "id": "87d1600b-1745-4dfb-8111-63ef26ec057a",
   "metadata": {},
   "outputs": [],
   "source": [
    "raw_df32 = read_on_32.to_data_frame()\n",
    "raw_df32.head()"
   ]
  },
  {
   "cell_type": "code",
   "execution_count": null,
   "id": "b89f3149-a300-4a7c-b537-73e2d4b9497d",
   "metadata": {},
   "outputs": [],
   "source": [
    "read_on_16 = read_raw_agnostic(paths_df.cnt_path[n], 'int16')\n",
    "raw_df16 = read_on_16.to_data_frame()\n",
    "raw_df16.head()"
   ]
  },
  {
   "cell_type": "code",
   "execution_count": null,
   "id": "cd91ff95-f335-46ff-99cc-33b0b02f4ee8",
   "metadata": {},
   "outputs": [],
   "source": [
    "# The big difference"
   ]
  },
  {
   "cell_type": "code",
   "execution_count": null,
   "id": "87ae0561-d8a6-4012-b556-48794cae77ae",
   "metadata": {},
   "outputs": [],
   "source": [
    "(raw_df32 -raw_df16).sum().sum()"
   ]
  },
  {
   "cell_type": "markdown",
   "id": "04b70c02-203c-4078-b5b4-bb633c1d190b",
   "metadata": {},
   "source": [
    "### Youch!"
   ]
  },
  {
   "cell_type": "markdown",
   "id": "f3d64110-7302-4ac5-bbd1-2c6ba0e136d0",
   "metadata": {},
   "source": [
    "So here we saw an example of how reading the same file on int32 and int16 will give us dramatically different results. We must know which we have when we use cnt files."
   ]
  },
  {
   "cell_type": "markdown",
   "id": "37f28a4a",
   "metadata": {},
   "source": [
    "## This is no floating point error!\n",
    "\n",
    "So is there anything we can do to figure out which kind of files we had?\n",
    "Why, yes of course. First of all on a few files in the DDP dataset there is information on this\n",
    "in the metadata (numchannels). Second of all, we can be a bit sneaky, and ask ourselves if\n",
    "32 is a possibility. When we look at the number of bit and bytes inside the file for the\n",
    "information, is this a number that we could divide by 32? Well it turns out when you peel the header off of\n",
    "the files you can calculate the number of bits/bytes inside. And they are (all tested so far) with a bit\n",
    "number divisible by 32 (or a byte number divisible by 4). But wait, that means de-facto , they\n",
    "are also divisble by 16. So we can say probably the files should have been read as 32; but\n",
    "we can not say with 100% certainty. This is not a problem outside the cnt format, but for cnt formatted\n",
    "data, back to cell 1."
   ]
  },
  {
   "cell_type": "code",
   "execution_count": null,
   "id": "491d1328",
   "metadata": {},
   "outputs": [],
   "source": [
    "4*8"
   ]
  },
  {
   "cell_type": "code",
   "execution_count": null,
   "id": "705d3aaa",
   "metadata": {},
   "outputs": [],
   "source": []
  }
 ],
 "metadata": {
  "kernelspec": {
   "display_name": "Python 3 (ipykernel)",
   "language": "python",
   "name": "python3"
  },
  "language_info": {
   "codemirror_mode": {
    "name": "ipython",
    "version": 3
   },
   "file_extension": ".py",
   "mimetype": "text/x-python",
   "name": "python",
   "nbconvert_exporter": "python",
   "pygments_lexer": "ipython3",
   "version": "3.8.10"
  }
 },
 "nbformat": 4,
 "nbformat_minor": 5
}
