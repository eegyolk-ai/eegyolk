{
 "cells": [
  {
   "cell_type": "markdown",
   "id": "b1bead3e-3394-4abb-9034-31b7d01223a8",
   "metadata": {},
   "source": [
    "#### Imports"
   ]
  },
  {
   "cell_type": "code",
   "execution_count": 1,
   "id": "98a2fe69-3757-4908-acab-30dd530e5236",
   "metadata": {},
   "outputs": [],
   "source": [
    "import mne\n",
    "import os\n",
    "import pandas"
   ]
  },
  {
   "cell_type": "markdown",
   "id": "631e5b42-f4e2-4de6-8046-1860448bdd92",
   "metadata": {},
   "source": [
    "#### Load Metadata\n",
    "\n",
    "Loads Data & Makes Excel Files from Metadata .txt files:\\\n",
    "Change 'originalPATH' & 'excelPATH' if necessary."
   ]
  },
  {
   "cell_type": "code",
   "execution_count": 3,
   "id": "d4f1d8f1-67b9-45c5-91f4-ca4be5987296",
   "metadata": {},
   "outputs": [],
   "source": [
    "DataList = [\"cdi\", \"children\", \"CODES_overview\", \"parents\"]\n",
    "MetaData = [None] * len(DataList)\n",
    "\n",
    "for i, DataFile in enumerate(DataList):\n",
    "    originalPATH = \"D:\\\\EEG Data\\\\EEG New Dataset Additional Data\\\\\" + DataFile + '.txt'\n",
    "    excelPATH = './Excel Files\\\\' + DataFile + '.xlsx'\n",
    "    \n",
    "    if os.path.exists(originalPATH):        \n",
    "        # Make Excel Files\n",
    "        if os.path.exists(excelPATH):\n",
    "            os.remove(excelPATH)            \n",
    "        MetaData[i] = pandas.read_table(originalPATH)\n",
    "        MetaData[i].to_excel(excelPATH)\n",
    "    else: print(\"PATH NOT FOUND:  \" + originalPATH) "
   ]
  },
  {
   "cell_type": "markdown",
   "id": "dfed99fd-a1d2-4486-b9f9-4fd16158c9a1",
   "metadata": {},
   "source": [
    "MetaData[0] = cdi.txt\\\n",
    "MetaData[1] = children.txt\\\n",
    "MetaData[2] = CODES_overview.txt\\\n",
    "MetaData[3] = parents.txt\n",
    "\n",
    "Examples on how to extract data from rows/columns of DataFrames:"
   ]
  },
  {
   "cell_type": "code",
   "execution_count": 23,
   "id": "7caa3841-178e-4257-bd27-b74e36353cd4",
   "metadata": {},
   "outputs": [],
   "source": [
    "# MetaData[2].iloc[:,3]\n"
   ]
  },
  {
   "cell_type": "code",
   "execution_count": 41,
   "id": "1b571a14-5335-4f55-a4a9-80f9a803cfa8",
   "metadata": {},
   "outputs": [
    {
     "name": "stdout",
     "output_type": "stream",
     "text": [
      "['101a.bdf']\n",
      "Extracting EDF parameters from D:\\EEG Data\\EEG New Dataset\\101\\101a\\101a.bdf...\n",
      "BDF file detected\n",
      "Setting channel info structure...\n",
      "Creating raw.info structure...\n"
     ]
    }
   ],
   "source": [
    "import mne\n",
    "import os\n",
    "import warnings\n",
    "\n",
    "DATAPATH = \"D:\\\\EEG Data\\\\EEG New Dataset\\\\101\\\\101a\\\\\"\n",
    "bdf_filenames = []\n",
    "EEGs = []\n",
    "#Events = []\n",
    "\n",
    "# warnings.filterwarnings(\"ignore\") # Suppresing warnings: For some reason there are warnings while loading cnt\n",
    "for i, _filename in enumerate(os.listdir(DATAPATH)):\n",
    "    if(_filename.endswith(\".bdf\")):\n",
    "        bdf_filenames.append(_filename)\n",
    "        print(bdf_filenames)\n",
    "        EEGs.append(mne.io.read_raw_bdf(DATAPATH + bdf_filenames[0]))     \n",
    "        #Events.append(mne.read_events(DATAPATH + cnt_filenames[i]))\n",
    "        \n",
    "# warnings.filterwarnings(\"default\")"
   ]
  },
  {
   "cell_type": "code",
   "execution_count": 10,
   "id": "76f7bc21-f120-4156-b46b-ba69a6f5c37f",
   "metadata": {},
   "outputs": [
    {
     "name": "stdout",
     "output_type": "stream",
     "text": [
      "['101a.bdf', '101b.bdf', '102a.bdf', '102b.bdf', '103a.bdf', '103b.bdf', '104a.bdf', '104b.bdf', '105a.bdf', '105b.bdf', '106a.bdf', '106b.bdf', '107a.bdf', '108a.bdf', '109a.bdf', '109b.bdf', '110a.bdf', '110b.bdf', '121a.bdf', '122a.bdf', '122b.bdf', '123a.bdf', '123b.bdf', '124a.bdf', '125a.bdf', '125b.bdf', '126a.bdf', '126b.bdf', '127a.bdf', '127b.bdf', '128a.bdf', '128b.bdf', '129a.bdf', '129b.bdf', '130a.bdf', '130b.bdf', '131a.bdf', '131b.bdf', '132a.bdf', '132b.bdf', '133a.bdf', '133b.bdf', '134a.bdf', '134b.bdf', '135a.bdf', '135b.bdf', '136a.bdf', '136b.bdf', '137a.bdf', '137b.bdf', '138a.bdf', '138b.bdf', '139a.bdf', '139b.bdf', '140a.bdf', '140b.bdf', '141a.bdf', '142a.bdf', '142b.bdf', '143a.bdf', '143b.bdf', '144a.bdf', '144b.bdf', '145a.bdf', '145b.bdf', '146a.bdf', '146b.bdf', '147a.bdf', '148a.bdf', '148b.bdf', '149a.bdf', '149b.bdf', '150a.bdf', '150b.bdf', '151a.bdf', '151b.bdf', '152a.bdf', '152b.bdf', '153a.bdf', '153b.bdf', '154a.bdf', '154b.bdf', '155a.bdf', '155b.bdf', '156a.bdf', '156b.bdf', '157a.bdf', '157b.bdf', '158a.bdf', '158b.bdf', '159a.bdf', '159b.bdf', '160a.bdf', '160b.bdf', '161a.bdf', '161b.bdf', '162a.bdf', '162b.bdf', '163a.bdf', '163b.bdf', '164a.bdf', '164b.bdf', '165a.bdf', '165b.bdf', '166a.bdf', '167a.bdf', '168a.bdf', '169a.bdf', '170a.bdf', '171a.bdf', '172a.bdf', '173a.bdf', '174a.bdf', '175a.bdf', '176a.bdf', '177a.bdf', '178a.bdf', '179a.bdf', '180a.bdf']\n"
     ]
    }
   ],
   "source": [
    "EEG = []\n",
    "EEG_filenames = []\n",
    "\n",
    "for root, dirs, files in os.walk(\"D:\\\\EEG Data\\\\EEG New Dataset\\\\\"):\n",
    "    for file in files:\n",
    "        if file.endswith('.bdf') and len(file) == 8:\n",
    "            EEG_filenames.append(file)\n",
    "            #print (root+'\\\\'+str(file))\n",
    "            \n",
    "            \n",
    "print(EEG_filenames)"
   ]
  },
  {
   "cell_type": "code",
   "execution_count": null,
   "id": "4cc177dd-3761-414c-b95a-4b8d380a40e7",
   "metadata": {},
   "outputs": [],
   "source": []
  }
 ],
 "metadata": {
  "kernelspec": {
   "display_name": "Python 3 (ipykernel)",
   "language": "python",
   "name": "python3"
  },
  "language_info": {
   "codemirror_mode": {
    "name": "ipython",
    "version": 3
   },
   "file_extension": ".py",
   "mimetype": "text/x-python",
   "name": "python",
   "nbconvert_exporter": "python",
   "pygments_lexer": "ipython3",
   "version": "3.7.9"
  }
 },
 "nbformat": 4,
 "nbformat_minor": 5
}
